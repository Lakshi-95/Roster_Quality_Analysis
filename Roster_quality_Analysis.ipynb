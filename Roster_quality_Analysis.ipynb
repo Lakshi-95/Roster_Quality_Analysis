{
 "cells": [
  {
   "cell_type": "code",
   "execution_count": 200,
   "id": "897f2d1b",
   "metadata": {},
   "outputs": [],
   "source": [
    "#Importing modules\n",
    "import pandas as pd \n",
    "import seaborn as sns\n",
    "import matplotlib.pyplot as plt \n",
    "import plotly.express as px \n",
    "import plotly.graph_objects as go\n",
    "import numpy as np "
   ]
  },
  {
   "cell_type": "markdown",
   "id": "b4f5afa2",
   "metadata": {},
   "source": [
    "### We are provided with 2 datasets. \n",
    "#### i)  Author Information\n",
    "#### ii) Revenue Information"
   ]
  },
  {
   "cell_type": "code",
   "execution_count": 201,
   "id": "5c1d6f2c",
   "metadata": {},
   "outputs": [
    {
     "data": {
      "text/html": [
       "<div>\n",
       "<style scoped>\n",
       "    .dataframe tbody tr th:only-of-type {\n",
       "        vertical-align: middle;\n",
       "    }\n",
       "\n",
       "    .dataframe tbody tr th {\n",
       "        vertical-align: top;\n",
       "    }\n",
       "\n",
       "    .dataframe thead th {\n",
       "        text-align: right;\n",
       "    }\n",
       "</style>\n",
       "<table border=\"1\" class=\"dataframe\">\n",
       "  <thead>\n",
       "    <tr style=\"text-align: right;\">\n",
       "      <th></th>\n",
       "      <th>AuhorID</th>\n",
       "      <th>Birthdate</th>\n",
       "      <th>SignDate</th>\n",
       "    </tr>\n",
       "  </thead>\n",
       "  <tbody>\n",
       "    <tr>\n",
       "      <th>0</th>\n",
       "      <td>1</td>\n",
       "      <td>1992-09-03</td>\n",
       "      <td>2006-11-14</td>\n",
       "    </tr>\n",
       "    <tr>\n",
       "      <th>1</th>\n",
       "      <td>2</td>\n",
       "      <td>2004-06-06</td>\n",
       "      <td>2008-05-24</td>\n",
       "    </tr>\n",
       "    <tr>\n",
       "      <th>2</th>\n",
       "      <td>3</td>\n",
       "      <td>1955-01-06</td>\n",
       "      <td>1973-04-21</td>\n",
       "    </tr>\n",
       "    <tr>\n",
       "      <th>3</th>\n",
       "      <td>4</td>\n",
       "      <td>1956-09-22</td>\n",
       "      <td>1972-01-16</td>\n",
       "    </tr>\n",
       "    <tr>\n",
       "      <th>4</th>\n",
       "      <td>5</td>\n",
       "      <td>1997-11-30</td>\n",
       "      <td>2002-10-06</td>\n",
       "    </tr>\n",
       "    <tr>\n",
       "      <th>...</th>\n",
       "      <td>...</td>\n",
       "      <td>...</td>\n",
       "      <td>...</td>\n",
       "    </tr>\n",
       "    <tr>\n",
       "      <th>995</th>\n",
       "      <td>996</td>\n",
       "      <td>1978-03-28</td>\n",
       "      <td>1995-08-30</td>\n",
       "    </tr>\n",
       "    <tr>\n",
       "      <th>996</th>\n",
       "      <td>997</td>\n",
       "      <td>1983-04-09</td>\n",
       "      <td>1997-12-15</td>\n",
       "    </tr>\n",
       "    <tr>\n",
       "      <th>997</th>\n",
       "      <td>998</td>\n",
       "      <td>1958-05-23</td>\n",
       "      <td>2004-07-01</td>\n",
       "    </tr>\n",
       "    <tr>\n",
       "      <th>998</th>\n",
       "      <td>999</td>\n",
       "      <td>1964-11-19</td>\n",
       "      <td>2012-01-19</td>\n",
       "    </tr>\n",
       "    <tr>\n",
       "      <th>999</th>\n",
       "      <td>1000</td>\n",
       "      <td>1964-08-11</td>\n",
       "      <td>1984-09-03</td>\n",
       "    </tr>\n",
       "  </tbody>\n",
       "</table>\n",
       "<p>1000 rows × 3 columns</p>\n",
       "</div>"
      ],
      "text/plain": [
       "     AuhorID  Birthdate   SignDate\n",
       "0          1 1992-09-03 2006-11-14\n",
       "1          2 2004-06-06 2008-05-24\n",
       "2          3 1955-01-06 1973-04-21\n",
       "3          4 1956-09-22 1972-01-16\n",
       "4          5 1997-11-30 2002-10-06\n",
       "..       ...        ...        ...\n",
       "995      996 1978-03-28 1995-08-30\n",
       "996      997 1983-04-09 1997-12-15\n",
       "997      998 1958-05-23 2004-07-01\n",
       "998      999 1964-11-19 2012-01-19\n",
       "999     1000 1964-08-11 1984-09-03\n",
       "\n",
       "[1000 rows x 3 columns]"
      ]
     },
     "execution_count": 201,
     "metadata": {},
     "output_type": "execute_result"
    }
   ],
   "source": [
    "#Reading Author information\n",
    "df = pd.read_excel(r\"C:\\Users\\Lakshi\\Downloads\\Data Analyst Case Study.xlsx\",sheet_name=1) \n",
    "df"
   ]
  },
  {
   "cell_type": "code",
   "execution_count": 208,
   "id": "6155c0da",
   "metadata": {},
   "outputs": [
    {
     "name": "stdout",
     "output_type": "stream",
     "text": [
      "<class 'pandas.core.frame.DataFrame'>\n",
      "RangeIndex: 1000 entries, 0 to 999\n",
      "Data columns (total 3 columns):\n",
      " #   Column     Non-Null Count  Dtype         \n",
      "---  ------     --------------  -----         \n",
      " 0   AuhorID    1000 non-null   int64         \n",
      " 1   Birthdate  1000 non-null   datetime64[ns]\n",
      " 2   SignDate   1000 non-null   datetime64[ns]\n",
      "dtypes: datetime64[ns](2), int64(1)\n",
      "memory usage: 23.6 KB\n"
     ]
    }
   ],
   "source": [
    "df.info()"
   ]
  },
  {
   "cell_type": "markdown",
   "id": "5e8fe171",
   "metadata": {},
   "source": [
    "#### We don't have any missing values."
   ]
  },
  {
   "cell_type": "code",
   "execution_count": 209,
   "id": "37575f56",
   "metadata": {},
   "outputs": [
    {
     "data": {
      "text/plain": [
       "AuhorID      1000\n",
       "Birthdate     978\n",
       "SignDate      978\n",
       "dtype: int64"
      ]
     },
     "execution_count": 209,
     "metadata": {},
     "output_type": "execute_result"
    }
   ],
   "source": [
    "#Unique value count\n",
    "df.nunique()"
   ]
  },
  {
   "cell_type": "markdown",
   "id": "ac1f6243",
   "metadata": {},
   "source": [
    "#### The data set contains information about 1000 music authors along with date of birth and date on which they signed with publishing company."
   ]
  },
  {
   "cell_type": "code",
   "execution_count": 210,
   "id": "b0170ee2",
   "metadata": {},
   "outputs": [
    {
     "data": {
      "text/html": [
       "<div>\n",
       "<style scoped>\n",
       "    .dataframe tbody tr th:only-of-type {\n",
       "        vertical-align: middle;\n",
       "    }\n",
       "\n",
       "    .dataframe tbody tr th {\n",
       "        vertical-align: top;\n",
       "    }\n",
       "\n",
       "    .dataframe thead th {\n",
       "        text-align: right;\n",
       "    }\n",
       "</style>\n",
       "<table border=\"1\" class=\"dataframe\">\n",
       "  <thead>\n",
       "    <tr style=\"text-align: right;\">\n",
       "      <th></th>\n",
       "      <th>AuhorID</th>\n",
       "      <th>Birthdate</th>\n",
       "      <th>SignDate</th>\n",
       "      <th>Age(in yrs)</th>\n",
       "    </tr>\n",
       "  </thead>\n",
       "  <tbody>\n",
       "    <tr>\n",
       "      <th>0</th>\n",
       "      <td>1</td>\n",
       "      <td>1992-09-03</td>\n",
       "      <td>2006-11-14</td>\n",
       "      <td>14</td>\n",
       "    </tr>\n",
       "    <tr>\n",
       "      <th>1</th>\n",
       "      <td>2</td>\n",
       "      <td>2004-06-06</td>\n",
       "      <td>2008-05-24</td>\n",
       "      <td>4</td>\n",
       "    </tr>\n",
       "    <tr>\n",
       "      <th>2</th>\n",
       "      <td>3</td>\n",
       "      <td>1955-01-06</td>\n",
       "      <td>1973-04-21</td>\n",
       "      <td>18</td>\n",
       "    </tr>\n",
       "    <tr>\n",
       "      <th>3</th>\n",
       "      <td>4</td>\n",
       "      <td>1956-09-22</td>\n",
       "      <td>1972-01-16</td>\n",
       "      <td>16</td>\n",
       "    </tr>\n",
       "    <tr>\n",
       "      <th>4</th>\n",
       "      <td>5</td>\n",
       "      <td>1997-11-30</td>\n",
       "      <td>2002-10-06</td>\n",
       "      <td>5</td>\n",
       "    </tr>\n",
       "    <tr>\n",
       "      <th>...</th>\n",
       "      <td>...</td>\n",
       "      <td>...</td>\n",
       "      <td>...</td>\n",
       "      <td>...</td>\n",
       "    </tr>\n",
       "    <tr>\n",
       "      <th>995</th>\n",
       "      <td>996</td>\n",
       "      <td>1978-03-28</td>\n",
       "      <td>1995-08-30</td>\n",
       "      <td>17</td>\n",
       "    </tr>\n",
       "    <tr>\n",
       "      <th>996</th>\n",
       "      <td>997</td>\n",
       "      <td>1983-04-09</td>\n",
       "      <td>1997-12-15</td>\n",
       "      <td>14</td>\n",
       "    </tr>\n",
       "    <tr>\n",
       "      <th>997</th>\n",
       "      <td>998</td>\n",
       "      <td>1958-05-23</td>\n",
       "      <td>2004-07-01</td>\n",
       "      <td>46</td>\n",
       "    </tr>\n",
       "    <tr>\n",
       "      <th>998</th>\n",
       "      <td>999</td>\n",
       "      <td>1964-11-19</td>\n",
       "      <td>2012-01-19</td>\n",
       "      <td>48</td>\n",
       "    </tr>\n",
       "    <tr>\n",
       "      <th>999</th>\n",
       "      <td>1000</td>\n",
       "      <td>1964-08-11</td>\n",
       "      <td>1984-09-03</td>\n",
       "      <td>20</td>\n",
       "    </tr>\n",
       "  </tbody>\n",
       "</table>\n",
       "<p>1000 rows × 4 columns</p>\n",
       "</div>"
      ],
      "text/plain": [
       "     AuhorID  Birthdate   SignDate  Age(in yrs)\n",
       "0          1 1992-09-03 2006-11-14           14\n",
       "1          2 2004-06-06 2008-05-24            4\n",
       "2          3 1955-01-06 1973-04-21           18\n",
       "3          4 1956-09-22 1972-01-16           16\n",
       "4          5 1997-11-30 2002-10-06            5\n",
       "..       ...        ...        ...          ...\n",
       "995      996 1978-03-28 1995-08-30           17\n",
       "996      997 1983-04-09 1997-12-15           14\n",
       "997      998 1958-05-23 2004-07-01           46\n",
       "998      999 1964-11-19 2012-01-19           48\n",
       "999     1000 1964-08-11 1984-09-03           20\n",
       "\n",
       "[1000 rows x 4 columns]"
      ]
     },
     "execution_count": 210,
     "metadata": {},
     "output_type": "execute_result"
    }
   ],
   "source": [
    "#Age of Authors at the time of signing contract with publisher company\n",
    "df[\"Age(in yrs)\"] = df[\"SignDate\"].apply(lambda x : x.year) - df[\"Birthdate\"].apply(lambda x : x.year) \n",
    "df"
   ]
  },
  {
   "cell_type": "code",
   "execution_count": 211,
   "id": "80f5588f",
   "metadata": {},
   "outputs": [
    {
     "data": {
      "text/html": [
       "<div>\n",
       "<style scoped>\n",
       "    .dataframe tbody tr th:only-of-type {\n",
       "        vertical-align: middle;\n",
       "    }\n",
       "\n",
       "    .dataframe tbody tr th {\n",
       "        vertical-align: top;\n",
       "    }\n",
       "\n",
       "    .dataframe thead th {\n",
       "        text-align: right;\n",
       "    }\n",
       "</style>\n",
       "<table border=\"1\" class=\"dataframe\">\n",
       "  <thead>\n",
       "    <tr style=\"text-align: right;\">\n",
       "      <th></th>\n",
       "      <th>AuhorID</th>\n",
       "      <th>Birthdate</th>\n",
       "      <th>SignDate</th>\n",
       "      <th>Age(in yrs)</th>\n",
       "    </tr>\n",
       "  </thead>\n",
       "  <tbody>\n",
       "    <tr>\n",
       "      <th>38</th>\n",
       "      <td>39</td>\n",
       "      <td>1956-06-10</td>\n",
       "      <td>1956-07-01</td>\n",
       "      <td>0</td>\n",
       "    </tr>\n",
       "    <tr>\n",
       "      <th>197</th>\n",
       "      <td>198</td>\n",
       "      <td>1993-01-03</td>\n",
       "      <td>1993-05-23</td>\n",
       "      <td>0</td>\n",
       "    </tr>\n",
       "    <tr>\n",
       "      <th>215</th>\n",
       "      <td>216</td>\n",
       "      <td>1980-02-19</td>\n",
       "      <td>1980-08-27</td>\n",
       "      <td>0</td>\n",
       "    </tr>\n",
       "    <tr>\n",
       "      <th>235</th>\n",
       "      <td>236</td>\n",
       "      <td>1981-01-19</td>\n",
       "      <td>1981-03-14</td>\n",
       "      <td>0</td>\n",
       "    </tr>\n",
       "    <tr>\n",
       "      <th>351</th>\n",
       "      <td>352</td>\n",
       "      <td>2011-06-04</td>\n",
       "      <td>2011-07-21</td>\n",
       "      <td>0</td>\n",
       "    </tr>\n",
       "    <tr>\n",
       "      <th>354</th>\n",
       "      <td>355</td>\n",
       "      <td>1979-03-23</td>\n",
       "      <td>1979-07-04</td>\n",
       "      <td>0</td>\n",
       "    </tr>\n",
       "    <tr>\n",
       "      <th>416</th>\n",
       "      <td>417</td>\n",
       "      <td>1976-04-13</td>\n",
       "      <td>1976-04-23</td>\n",
       "      <td>0</td>\n",
       "    </tr>\n",
       "    <tr>\n",
       "      <th>721</th>\n",
       "      <td>722</td>\n",
       "      <td>1954-02-25</td>\n",
       "      <td>1954-05-06</td>\n",
       "      <td>0</td>\n",
       "    </tr>\n",
       "    <tr>\n",
       "      <th>778</th>\n",
       "      <td>779</td>\n",
       "      <td>1989-04-06</td>\n",
       "      <td>1989-07-28</td>\n",
       "      <td>0</td>\n",
       "    </tr>\n",
       "    <tr>\n",
       "      <th>810</th>\n",
       "      <td>811</td>\n",
       "      <td>2004-05-06</td>\n",
       "      <td>2004-10-04</td>\n",
       "      <td>0</td>\n",
       "    </tr>\n",
       "    <tr>\n",
       "      <th>873</th>\n",
       "      <td>874</td>\n",
       "      <td>2013-05-31</td>\n",
       "      <td>2013-07-16</td>\n",
       "      <td>0</td>\n",
       "    </tr>\n",
       "    <tr>\n",
       "      <th>936</th>\n",
       "      <td>937</td>\n",
       "      <td>1961-10-09</td>\n",
       "      <td>1961-10-27</td>\n",
       "      <td>0</td>\n",
       "    </tr>\n",
       "  </tbody>\n",
       "</table>\n",
       "</div>"
      ],
      "text/plain": [
       "     AuhorID  Birthdate   SignDate  Age(in yrs)\n",
       "38        39 1956-06-10 1956-07-01            0\n",
       "197      198 1993-01-03 1993-05-23            0\n",
       "215      216 1980-02-19 1980-08-27            0\n",
       "235      236 1981-01-19 1981-03-14            0\n",
       "351      352 2011-06-04 2011-07-21            0\n",
       "354      355 1979-03-23 1979-07-04            0\n",
       "416      417 1976-04-13 1976-04-23            0\n",
       "721      722 1954-02-25 1954-05-06            0\n",
       "778      779 1989-04-06 1989-07-28            0\n",
       "810      811 2004-05-06 2004-10-04            0\n",
       "873      874 2013-05-31 2013-07-16            0\n",
       "936      937 1961-10-09 1961-10-27            0"
      ]
     },
     "execution_count": 211,
     "metadata": {},
     "output_type": "execute_result"
    }
   ],
   "source": [
    "#Child prodigy!! -- data inconsistency\n",
    "df[df[\"Age(in yrs)\"] == 0]"
   ]
  },
  {
   "cell_type": "code",
   "execution_count": 214,
   "id": "638e9ab0",
   "metadata": {},
   "outputs": [
    {
     "data": {
      "text/html": [
       "<div>\n",
       "<style scoped>\n",
       "    .dataframe tbody tr th:only-of-type {\n",
       "        vertical-align: middle;\n",
       "    }\n",
       "\n",
       "    .dataframe tbody tr th {\n",
       "        vertical-align: top;\n",
       "    }\n",
       "\n",
       "    .dataframe thead th {\n",
       "        text-align: right;\n",
       "    }\n",
       "</style>\n",
       "<table border=\"1\" class=\"dataframe\">\n",
       "  <thead>\n",
       "    <tr style=\"text-align: right;\">\n",
       "      <th></th>\n",
       "      <th>Age(in yrs)</th>\n",
       "    </tr>\n",
       "  </thead>\n",
       "  <tbody>\n",
       "    <tr>\n",
       "      <th>count</th>\n",
       "      <td>1000.00</td>\n",
       "    </tr>\n",
       "    <tr>\n",
       "      <th>mean</th>\n",
       "      <td>23.72</td>\n",
       "    </tr>\n",
       "    <tr>\n",
       "      <th>std</th>\n",
       "      <td>16.84</td>\n",
       "    </tr>\n",
       "    <tr>\n",
       "      <th>min</th>\n",
       "      <td>0.00</td>\n",
       "    </tr>\n",
       "    <tr>\n",
       "      <th>25%</th>\n",
       "      <td>9.00</td>\n",
       "    </tr>\n",
       "    <tr>\n",
       "      <th>50%</th>\n",
       "      <td>21.00</td>\n",
       "    </tr>\n",
       "    <tr>\n",
       "      <th>75%</th>\n",
       "      <td>35.00</td>\n",
       "    </tr>\n",
       "    <tr>\n",
       "      <th>max</th>\n",
       "      <td>70.00</td>\n",
       "    </tr>\n",
       "  </tbody>\n",
       "</table>\n",
       "</div>"
      ],
      "text/plain": [
       "       Age(in yrs)\n",
       "count      1000.00\n",
       "mean         23.72\n",
       "std          16.84\n",
       "min           0.00\n",
       "25%           9.00\n",
       "50%          21.00\n",
       "75%          35.00\n",
       "max          70.00"
      ]
     },
     "execution_count": 214,
     "metadata": {},
     "output_type": "execute_result"
    }
   ],
   "source": [
    "#Descriptive statistics\n",
    "age_des = pd.DataFrame(round(df[\"Age(in yrs)\"].describe(),2))\n",
    "age_des"
   ]
  },
  {
   "cell_type": "code",
   "execution_count": 215,
   "id": "2897141a",
   "metadata": {},
   "outputs": [
    {
     "data": {
      "image/png": "[encoded data removed]",
      "text/plain": [
       "<Figure size 432x288 with 1 Axes>"
      ]
     },
     "metadata": {
      "needs_background": "light"
     },
     "output_type": "display_data"
    }
   ],
   "source": [
    "#Boxplot\n",
    "sns.boxplot(x= df[\"Age(in yrs)\"])\n",
    "plt.title(\"Boxplot of Age\")\n",
    "plt.show() "
   ]
  },
  {
   "cell_type": "markdown",
   "id": "721b72c1",
   "metadata": {},
   "source": [
    "### To check if any date is invalid"
   ]
  },
  {
   "cell_type": "code",
   "execution_count": 217,
   "id": "9b394b3f",
   "metadata": {},
   "outputs": [
    {
     "data": {
      "text/plain": [
       "(0, 4)"
      ]
     },
     "execution_count": 217,
     "metadata": {},
     "output_type": "execute_result"
    }
   ],
   "source": [
    "#To see if day of signdate exceeds 31, month of signdate exceeds 12 and if year of signdate exceeds 2023\n",
    "invalid_signdates = df[(df[\"SignDate\"].dt.day>31)|(df[\"SignDate\"].dt.month>12)]  #invalid signdates\n",
    "invalid_signdates.shape"
   ]
  },
  {
   "cell_type": "code",
   "execution_count": 218,
   "id": "feb1d7fe",
   "metadata": {},
   "outputs": [
    {
     "data": {
      "text/plain": [
       "(0, 4)"
      ]
     },
     "execution_count": 218,
     "metadata": {},
     "output_type": "execute_result"
    }
   ],
   "source": [
    "#To see if day of birthdate exceeds 31, month of birthdate exceeds 12 and if year of birthdate exceeds 2023\n",
    "invalid_birthdates = df[(df[\"Birthdate\"].dt.day>31)|(df[\"Birthdate\"].dt.month>12)|df[\"Birthdate\"].dt.year>2023]  #invalid birthdates\n",
    "invalid_birthdates.shape"
   ]
  },
  {
   "cell_type": "code",
   "execution_count": 219,
   "id": "478a3420",
   "metadata": {},
   "outputs": [],
   "source": [
    "df[\"Year_signdate\"] = df[\"SignDate\"].dt.year  #Fetching year of signdate"
   ]
  },
  {
   "cell_type": "code",
   "execution_count": 221,
   "id": "fa0355d2",
   "metadata": {},
   "outputs": [
    {
     "data": {
      "application/vnd.plotly.v1+json": {
       "config": {
        "plotlyServerURL": "https://plot.ly"
       },
       "data": [
        {
         "alignmentgroup": "True",
         "hovertemplate": "Year of Signdate=%{x}<br>Number of Authors=%{y}<extra></extra>",
         "legendgroup": "",
         "marker": {
          "color": "#636efa",
          "pattern": {
           "shape": ""
          }
         },
         "name": "",
         "offsetgroup": "",
         "orientation": "v",
         "showlegend": false,
         "textposition": "auto",
         "type": "bar",
         "x": [
          "2018",
          "2014",
          "2012",
          "2019",
          "2017",
          "1995",
          "2015",
          "2011",
          "2013",
          "2009",
          "2008",
          "2004",
          "2020",
          "2001",
          "2005",
          "2002",
          "2010",
          "2007",
          "2016",
          "1994",
          "2006",
          "1992",
          "2000",
          "1986",
          "1975",
          "1999",
          "1997",
          "1984",
          "1987",
          "1990"
         ],
         "xaxis": "x",
         "y": [
          31,
          31,
          31,
          30,
          28,
          27,
          27,
          27,
          25,
          25,
          25,
          24,
          22,
          22,
          21,
          21,
          21,
          21,
          21,
          20,
          18,
          18,
          18,
          18,
          18,
          17,
          17,
          17,
          17,
          17
         ],
         "yaxis": "y"
        }
       ],
       "layout": {
        "barmode": "relative",
        "legend": {
         "tracegroupgap": 0
        },
        "template": {
         "data": {
          "bar": [
           {
            "error_x": {
             "color": "#2a3f5f"
            },
            "error_y": {
             "color": "#2a3f5f"
            },
            "marker": {
             "line": {
              "color": "#E5ECF6",
              "width": 0.5
             },
             "pattern": {
              "fillmode": "overlay",
              "size": 10,
              "solidity": 0.2
             }
            },
            "type": "bar"
           }
          ],
          "barpolar": [
           {
            "marker": {
             "line": {
              "color": "#E5ECF6",
              "width": 0.5
             },
             "pattern": {
              "fillmode": "overlay",
              "size": 10,
              "solidity": 0.2
             }
            },
            "type": "barpolar"
           }
          ],
          "carpet": [
           {
            "aaxis": {
             "endlinecolor": "#2a3f5f",
             "gridcolor": "white",
             "linecolor": "white",
             "minorgridcolor": "white",
             "startlinecolor": "#2a3f5f"
            },
            "baxis": {
             "endlinecolor": "#2a3f5f",
             "gridcolor": "white",
             "linecolor": "white",
             "minorgridcolor": "white",
             "startlinecolor": "#2a3f5f"
            },
            "type": "carpet"
           }
          ],
          "choropleth": [
           {
            "colorbar": {
             "outlinewidth": 0,
             "ticks": ""
            },
            "type": "choropleth"
           }
          ],
          "contour": [
           {
            "colorbar": {
             "outlinewidth": 0,
             "ticks": ""
            },
            "colorscale": [
             [
              0,
              "#0d0887"
             ],
             [
              0.1111111111111111,
              "#46039f"
             ],
             [
              0.2222222222222222,
              "#7201a8"
             ],
             [
              0.3333333333333333,
              "#9c179e"
             ],
             [
              0.4444444444444444,
              "#bd3786"
             ],
             [
              0.5555555555555556,
              "#d8576b"
             ],
             [
              0.6666666666666666,
              "#ed7953"
             ],
             [
              0.7777777777777778,
              "#fb9f3a"
             ],
             [
              0.8888888888888888,
              "#fdca26"
             ],
             [
              1,
              "#f0f921"
             ]
            ],
            "type": "contour"
           }
          ],
          "contourcarpet": [
           {
            "colorbar": {
             "outlinewidth": 0,
             "ticks": ""
            },
            "type": "contourcarpet"
           }
          ],
          "heatmap": [
           {
            "colorbar": {
             "outlinewidth": 0,
             "ticks": ""
            },
            "colorscale": [
             [
              0,
              "#0d0887"
             ],
             [
              0.1111111111111111,
              "#46039f"
             ],
             [
              0.2222222222222222,
              "#7201a8"
             ],
             [
              0.3333333333333333,
              "#9c179e"
             ],
             [
              0.4444444444444444,
              "#bd3786"
             ],
             [
              0.5555555555555556,
              "#d8576b"
             ],
             [
              0.6666666666666666,
              "#ed7953"
             ],
             [
              0.7777777777777778,
              "#fb9f3a"
             ],
             [
              0.8888888888888888,
              "#fdca26"
             ],
             [
              1,
              "#f0f921"
             ]
            ],
            "type": "heatmap"
           }
          ],
          "heatmapgl": [
           {
            "colorbar": {
             "outlinewidth": 0,
             "ticks": ""
            },
            "colorscale": [
             [
              0,
              "#0d0887"
             ],
             [
              0.1111111111111111,
              "#46039f"
             ],
             [
              0.2222222222222222,
              "#7201a8"
             ],
             [
              0.3333333333333333,
              "#9c179e"
             ],
             [
              0.4444444444444444,
              "#bd3786"
             ],
             [
              0.5555555555555556,
              "#d8576b"
             ],
             [
              0.6666666666666666,
              "#ed7953"
             ],
             [
              0.7777777777777778,
              "#fb9f3a"
             ],
             [
              0.8888888888888888,
              "#fdca26"
             ],
             [
              1,
              "#f0f921"
             ]
            ],
            "type": "heatmapgl"
           }
          ],
          "histogram": [
           {
            "marker": {
             "pattern": {
              "fillmode": "overlay",
              "size": 10,
              "solidity": 0.2
             }
            },
            "type": "histogram"
           }
          ],
          "histogram2d": [
           {
            "colorbar": {
             "outlinewidth": 0,
             "ticks": ""
            },
            "colorscale": [
             [
              0,
              "#0d0887"
             ],
             [
              0.1111111111111111,
              "#46039f"
             ],
             [
              0.2222222222222222,
              "#7201a8"
             ],
             [
              0.3333333333333333,
              "#9c179e"
             ],
             [
              0.4444444444444444,
              "#bd3786"
             ],
             [
              0.5555555555555556,
              "#d8576b"
             ],
             [
              0.6666666666666666,
              "#ed7953"
             ],
             [
              0.7777777777777778,
              "#fb9f3a"
             ],
             [
              0.8888888888888888,
              "#fdca26"
             ],
             [
              1,
              "#f0f921"
             ]
            ],
            "type": "histogram2d"
           }
          ],
          "histogram2dcontour": [
           {
            "colorbar": {
             "outlinewidth": 0,
             "ticks": ""
            },
            "colorscale": [
             [
              0,
              "#0d0887"
             ],
             [
              0.1111111111111111,
              "#46039f"
             ],
             [
              0.2222222222222222,
              "#7201a8"
             ],
             [
              0.3333333333333333,
              "#9c179e"
             ],
             [
              0.4444444444444444,
              "#bd3786"
             ],
             [
              0.5555555555555556,
              "#d8576b"
             ],
             [
              0.6666666666666666,
              "#ed7953"
             ],
             [
              0.7777777777777778,
              "#fb9f3a"
             ],
             [
              0.8888888888888888,
              "#fdca26"
             ],
             [
              1,
              "#f0f921"
             ]
            ],
            "type": "histogram2dcontour"
           }
          ],
          "mesh3d": [
           {
            "colorbar": {
             "outlinewidth": 0,
             "ticks": ""
            },
            "type": "mesh3d"
           }
          ],
          "parcoords": [
           {
            "line": {
             "colorbar": {
              "outlinewidth": 0,
              "ticks": ""
             }
            },
            "type": "parcoords"
           }
          ],
          "pie": [
           {
            "automargin": true,
            "type": "pie"
           }
          ],
          "scatter": [
           {
            "marker": {
             "colorbar": {
              "outlinewidth": 0,
              "ticks": ""
             }
            },
            "type": "scatter"
           }
          ],
          "scatter3d": [
           {
            "line": {
             "colorbar": {
              "outlinewidth": 0,
              "ticks": ""
             }
            },
            "marker": {
             "colorbar": {
              "outlinewidth": 0,
              "ticks": ""
             }
            },
            "type": "scatter3d"
           }
          ],
          "scattercarpet": [
           {
            "marker": {
             "colorbar": {
              "outlinewidth": 0,
              "ticks": ""
             }
            },
            "type": "scattercarpet"
           }
          ],
          "scattergeo": [
           {
            "marker": {
             "colorbar": {
              "outlinewidth": 0,
              "ticks": ""
             }
            },
            "type": "scattergeo"
           }
          ],
          "scattergl": [
           {
            "marker": {
             "colorbar": {
              "outlinewidth": 0,
              "ticks": ""
             }
            },
            "type": "scattergl"
           }
          ],
          "scattermapbox": [
           {
            "marker": {
             "colorbar": {
              "outlinewidth": 0,
              "ticks": ""
             }
            },
            "type": "scattermapbox"
           }
          ],
          "scatterpolar": [
           {
            "marker": {
             "colorbar": {
              "outlinewidth": 0,
              "ticks": ""
             }
            },
            "type": "scatterpolar"
           }
          ],
          "scatterpolargl": [
           {
            "marker": {
             "colorbar": {
              "outlinewidth": 0,
              "ticks": ""
             }
            },
            "type": "scatterpolargl"
           }
          ],
          "scatterternary": [
           {
            "marker": {
             "colorbar": {
              "outlinewidth": 0,
              "ticks": ""
             }
            },
            "type": "scatterternary"
           }
          ],
          "surface": [
           {
            "colorbar": {
             "outlinewidth": 0,
             "ticks": ""
            },
            "colorscale": [
             [
              0,
              "#0d0887"
             ],
             [
              0.1111111111111111,
              "#46039f"
             ],
             [
              0.2222222222222222,
              "#7201a8"
             ],
             [
              0.3333333333333333,
              "#9c179e"
             ],
             [
              0.4444444444444444,
              "#bd3786"
             ],
             [
              0.5555555555555556,
              "#d8576b"
             ],
             [
              0.6666666666666666,
              "#ed7953"
             ],
             [
              0.7777777777777778,
              "#fb9f3a"
             ],
             [
              0.8888888888888888,
              "#fdca26"
             ],
             [
              1,
              "#f0f921"
             ]
            ],
            "type": "surface"
           }
          ],
          "table": [
           {
            "cells": {
             "fill": {
              "color": "#EBF0F8"
             },
             "line": {
              "color": "white"
             }
            },
            "header": {
             "fill": {
              "color": "#C8D4E3"
             },
             "line": {
              "color": "white"
             }
            },
            "type": "table"
           }
          ]
         },
         "layout": {
          "annotationdefaults": {
           "arrowcolor": "#2a3f5f",
           "arrowhead": 0,
           "arrowwidth": 1
          },
          "autotypenumbers": "strict",
          "coloraxis": {
           "colorbar": {
            "outlinewidth": 0,
            "ticks": ""
           }
          },
          "colorscale": {
           "diverging": [
            [
             0,
             "#8e0152"
            ],
            [
             0.1,
             "#c51b7d"
            ],
            [
             0.2,
             "#de77ae"
            ],
            [
             0.3,
             "#f1b6da"
            ],
            [
             0.4,
             "#fde0ef"
            ],
            [
             0.5,
             "#f7f7f7"
            ],
            [
             0.6,
             "#e6f5d0"
            ],
            [
             0.7,
             "#b8e186"
            ],
            [
             0.8,
             "#7fbc41"
            ],
            [
             0.9,
             "#4d9221"
            ],
            [
             1,
             "#276419"
            ]
           ],
           "sequential": [
            [
             0,
             "#0d0887"
            ],
            [
             0.1111111111111111,
             "#46039f"
            ],
            [
             0.2222222222222222,
             "#7201a8"
            ],
            [
             0.3333333333333333,
             "#9c179e"
            ],
            [
             0.4444444444444444,
             "#bd3786"
            ],
            [
             0.5555555555555556,
             "#d8576b"
            ],
            [
             0.6666666666666666,
             "#ed7953"
            ],
            [
             0.7777777777777778,
             "#fb9f3a"
            ],
            [
             0.8888888888888888,
             "#fdca26"
            ],
            [
             1,
             "#f0f921"
            ]
           ],
           "sequentialminus": [
            [
             0,
             "#0d0887"
            ],
            [
             0.1111111111111111,
             "#46039f"
            ],
            [
             0.2222222222222222,
             "#7201a8"
            ],
            [
             0.3333333333333333,
             "#9c179e"
            ],
            [
             0.4444444444444444,
             "#bd3786"
            ],
            [
             0.5555555555555556,
             "#d8576b"
            ],
            [
             0.6666666666666666,
             "#ed7953"
            ],
            [
             0.7777777777777778,
             "#fb9f3a"
            ],
            [
             0.8888888888888888,
             "#fdca26"
            ],
            [
             1,
             "#f0f921"
            ]
           ]
          },
          "colorway": [
           "#636efa",
           "#EF553B",
           "#00cc96",
           "#ab63fa",
           "#FFA15A",
           "#19d3f3",
           "#FF6692",
           "#B6E880",
           "#FF97FF",
           "#FECB52"
          ],
          "font": {
           "color": "#2a3f5f"
          },
          "geo": {
           "bgcolor": "white",
           "lakecolor": "white",
           "landcolor": "#E5ECF6",
           "showlakes": true,
           "showland": true,
           "subunitcolor": "white"
          },
          "hoverlabel": {
           "align": "left"
          },
          "hovermode": "closest",
          "mapbox": {
           "style": "light"
          },
          "paper_bgcolor": "white",
          "plot_bgcolor": "#E5ECF6",
          "polar": {
           "angularaxis": {
            "gridcolor": "white",
            "linecolor": "white",
            "ticks": ""
           },
           "bgcolor": "#E5ECF6",
           "radialaxis": {
            "gridcolor": "white",
            "linecolor": "white",
            "ticks": ""
           }
          },
          "scene": {
           "xaxis": {
            "backgroundcolor": "#E5ECF6",
            "gridcolor": "white",
            "gridwidth": 2,
            "linecolor": "white",
            "showbackground": true,
            "ticks": "",
            "zerolinecolor": "white"
           },
           "yaxis": {
            "backgroundcolor": "#E5ECF6",
            "gridcolor": "white",
            "gridwidth": 2,
            "linecolor": "white",
            "showbackground": true,
            "ticks": "",
            "zerolinecolor": "white"
           },
           "zaxis": {
            "backgroundcolor": "#E5ECF6",
            "gridcolor": "white",
            "gridwidth": 2,
            "linecolor": "white",
            "showbackground": true,
            "ticks": "",
            "zerolinecolor": "white"
           }
          },
          "shapedefaults": {
           "line": {
            "color": "#2a3f5f"
           }
          },
          "ternary": {
           "aaxis": {
            "gridcolor": "white",
            "linecolor": "white",
            "ticks": ""
           },
           "baxis": {
            "gridcolor": "white",
            "linecolor": "white",
            "ticks": ""
           },
           "bgcolor": "#E5ECF6",
           "caxis": {
            "gridcolor": "white",
            "linecolor": "white",
            "ticks": ""
           }
          },
          "title": {
           "x": 0.05
          },
          "xaxis": {
           "automargin": true,
           "gridcolor": "white",
           "linecolor": "white",
           "ticks": "",
           "title": {
            "standoff": 15
           },
           "zerolinecolor": "white",
           "zerolinewidth": 2
          },
          "yaxis": {
           "automargin": true,
           "gridcolor": "white",
           "linecolor": "white",
           "ticks": "",
           "title": {
            "standoff": 15
           },
           "zerolinecolor": "white",
           "zerolinewidth": 2
          }
         }
        },
        "title": {
         "text": "Number of Authors signing in given year"
        },
        "xaxis": {
         "anchor": "y",
         "domain": [
          0,
          1
         ],
         "title": {
          "text": "Year of Signdate"
         }
        },
        "yaxis": {
         "anchor": "x",
         "domain": [
          0,
          1
         ],
         "title": {
          "text": "Number of Authors"
         }
        }
       }
      },
      "text/html": [
       "<div>                            <div id=\"bc819587-e9af-4b4c-92fb-09aee9206ce9\" class=\"plotly-graph-div\" style=\"height:525px; width:100%;\"></div>            <script type=\"text/javascript\">                require([\"plotly\"], function(Plotly) {                    window.PLOTLYENV=window.PLOTLYENV || {};                                    if (document.getElementById(\"bc819587-e9af-4b4c-92fb-09aee9206ce9\")) {                    Plotly.newPlot(                        \"bc819587-e9af-4b4c-92fb-09aee9206ce9\",                        [{\"alignmentgroup\":\"True\",\"hovertemplate\":\"Year of Signdate=%{x}<br>Number of Authors=%{y}<extra></extra>\",\"legendgroup\":\"\",\"marker\":{\"color\":\"#636efa\",\"pattern\":{\"shape\":\"\"}},\"name\":\"\",\"offsetgroup\":\"\",\"orientation\":\"v\",\"showlegend\":false,\"textposition\":\"auto\",\"type\":\"bar\",\"x\":[\"2018\",\"2014\",\"2012\",\"2019\",\"2017\",\"1995\",\"2015\",\"2011\",\"2013\",\"2009\",\"2008\",\"2004\",\"2020\",\"2001\",\"2005\",\"2002\",\"2010\",\"2007\",\"2016\",\"1994\",\"2006\",\"1992\",\"2000\",\"1986\",\"1975\",\"1999\",\"1997\",\"1984\",\"1987\",\"1990\"],\"xaxis\":\"x\",\"y\":[31,31,31,30,28,27,27,27,25,25,25,24,22,22,21,21,21,21,21,20,18,18,18,18,18,17,17,17,17,17],\"yaxis\":\"y\"}],                        {\"barmode\":\"relative\",\"legend\":{\"tracegroupgap\":0},\"template\":{\"data\":{\"bar\":[{\"error_x\":{\"color\":\"#2a3f5f\"},\"error_y\":{\"color\":\"#2a3f5f\"},\"marker\":{\"line\":{\"color\":\"#E5ECF6\",\"width\":0.5},\"pattern\":{\"fillmode\":\"overlay\",\"size\":10,\"solidity\":0.2}},\"type\":\"bar\"}],\"barpolar\":[{\"marker\":{\"line\":{\"color\":\"#E5ECF6\",\"width\":0.5},\"pattern\":{\"fillmode\":\"overlay\",\"size\":10,\"solidity\":0.2}},\"type\":\"barpolar\"}],\"carpet\":[{\"aaxis\":{\"endlinecolor\":\"#2a3f5f\",\"gridcolor\":\"white\",\"linecolor\":\"white\",\"minorgridcolor\":\"white\",\"startlinecolor\":\"#2a3f5f\"},\"baxis\":{\"endlinecolor\":\"#2a3f5f\",\"gridcolor\":\"white\",\"linecolor\":\"white\",\"minorgridcolor\":\"white\",\"startlinecolor\":\"#2a3f5f\"},\"type\":\"carpet\"}],\"choropleth\":[{\"colorbar\":{\"outlinewidth\":0,\"ticks\":\"\"},\"type\":\"choropleth\"}],\"contour\":[{\"colorbar\":{\"outlinewidth\":0,\"ticks\":\"\"},\"colorscale\":[[0.0,\"#0d0887\"],[0.1111111111111111,\"#46039f\"],[0.2222222222222222,\"#7201a8\"],[0.3333333333333333,\"#9c179e\"],[0.4444444444444444,\"#bd3786\"],[0.5555555555555556,\"#d8576b\"],[0.6666666666666666,\"#ed7953\"],[0.7777777777777778,\"#fb9f3a\"],[0.8888888888888888,\"#fdca26\"],[1.0,\"#f0f921\"]],\"type\":\"contour\"}],\"contourcarpet\":[{\"colorbar\":{\"outlinewidth\":0,\"ticks\":\"\"},\"type\":\"contourcarpet\"}],\"heatmap\":[{\"colorbar\":{\"outlinewidth\":0,\"ticks\":\"\"},\"colorscale\":[[0.0,\"#0d0887\"],[0.1111111111111111,\"#46039f\"],[0.2222222222222222,\"#7201a8\"],[0.3333333333333333,\"#9c179e\"],[0.4444444444444444,\"#bd3786\"],[0.5555555555555556,\"#d8576b\"],[0.6666666666666666,\"#ed7953\"],[0.7777777777777778,\"#fb9f3a\"],[0.8888888888888888,\"#fdca26\"],[1.0,\"#f0f921\"]],\"type\":\"heatmap\"}],\"heatmapgl\":[{\"colorbar\":{\"outlinewidth\":0,\"ticks\":\"\"},\"colorscale\":[[0.0,\"#0d0887\"],[0.1111111111111111,\"#46039f\"],[0.2222222222222222,\"#7201a8\"],[0.3333333333333333,\"#9c179e\"],[0.4444444444444444,\"#bd3786\"],[0.5555555555555556,\"#d8576b\"],[0.6666666666666666,\"#ed7953\"],[0.7777777777777778,\"#fb9f3a\"],[0.8888888888888888,\"#fdca26\"],[1.0,\"#f0f921\"]],\"type\":\"heatmapgl\"}],\"histogram\":[{\"marker\":{\"pattern\":{\"fillmode\":\"overlay\",\"size\":10,\"solidity\":0.2}},\"type\":\"histogram\"}],\"histogram2d\":[{\"colorbar\":{\"outlinewidth\":0,\"ticks\":\"\"},\"colorscale\":[[0.0,\"#0d0887\"],[0.1111111111111111,\"#46039f\"],[0.2222222222222222,\"#7201a8\"],[0.3333333333333333,\"#9c179e\"],[0.4444444444444444,\"#bd3786\"],[0.5555555555555556,\"#d8576b\"],[0.6666666666666666,\"#ed7953\"],[0.7777777777777778,\"#fb9f3a\"],[0.8888888888888888,\"#fdca26\"],[1.0,\"#f0f921\"]],\"type\":\"histogram2d\"}],\"histogram2dcontour\":[{\"colorbar\":{\"outlinewidth\":0,\"ticks\":\"\"},\"colorscale\":[[0.0,\"#0d0887\"],[0.1111111111111111,\"#46039f\"],[0.2222222222222222,\"#7201a8\"],[0.3333333333333333,\"#9c179e\"],[0.4444444444444444,\"#bd3786\"],[0.5555555555555556,\"#d8576b\"],[0.6666666666666666,\"#ed7953\"],[0.7777777777777778,\"#fb9f3a\"],[0.8888888888888888,\"#fdca26\"],[1.0,\"#f0f921\"]],\"type\":\"histogram2dcontour\"}],\"mesh3d\":[{\"colorbar\":{\"outlinewidth\":0,\"ticks\":\"\"},\"type\":\"mesh3d\"}],\"parcoords\":[{\"line\":{\"colorbar\":{\"outlinewidth\":0,\"ticks\":\"\"}},\"type\":\"parcoords\"}],\"pie\":[{\"automargin\":true,\"type\":\"pie\"}],\"scatter\":[{\"marker\":{\"colorbar\":{\"outlinewidth\":0,\"ticks\":\"\"}},\"type\":\"scatter\"}],\"scatter3d\":[{\"line\":{\"colorbar\":{\"outlinewidth\":0,\"ticks\":\"\"}},\"marker\":{\"colorbar\":{\"outlinewidth\":0,\"ticks\":\"\"}},\"type\":\"scatter3d\"}],\"scattercarpet\":[{\"marker\":{\"colorbar\":{\"outlinewidth\":0,\"ticks\":\"\"}},\"type\":\"scattercarpet\"}],\"scattergeo\":[{\"marker\":{\"colorbar\":{\"outlinewidth\":0,\"ticks\":\"\"}},\"type\":\"scattergeo\"}],\"scattergl\":[{\"marker\":{\"colorbar\":{\"outlinewidth\":0,\"ticks\":\"\"}},\"type\":\"scattergl\"}],\"scattermapbox\":[{\"marker\":{\"colorbar\":{\"outlinewidth\":0,\"ticks\":\"\"}},\"type\":\"scattermapbox\"}],\"scatterpolar\":[{\"marker\":{\"colorbar\":{\"outlinewidth\":0,\"ticks\":\"\"}},\"type\":\"scatterpolar\"}],\"scatterpolargl\":[{\"marker\":{\"colorbar\":{\"outlinewidth\":0,\"ticks\":\"\"}},\"type\":\"scatterpolargl\"}],\"scatterternary\":[{\"marker\":{\"colorbar\":{\"outlinewidth\":0,\"ticks\":\"\"}},\"type\":\"scatterternary\"}],\"surface\":[{\"colorbar\":{\"outlinewidth\":0,\"ticks\":\"\"},\"colorscale\":[[0.0,\"#0d0887\"],[0.1111111111111111,\"#46039f\"],[0.2222222222222222,\"#7201a8\"],[0.3333333333333333,\"#9c179e\"],[0.4444444444444444,\"#bd3786\"],[0.5555555555555556,\"#d8576b\"],[0.6666666666666666,\"#ed7953\"],[0.7777777777777778,\"#fb9f3a\"],[0.8888888888888888,\"#fdca26\"],[1.0,\"#f0f921\"]],\"type\":\"surface\"}],\"table\":[{\"cells\":{\"fill\":{\"color\":\"#EBF0F8\"},\"line\":{\"color\":\"white\"}},\"header\":{\"fill\":{\"color\":\"#C8D4E3\"},\"line\":{\"color\":\"white\"}},\"type\":\"table\"}]},\"layout\":{\"annotationdefaults\":{\"arrowcolor\":\"#2a3f5f\",\"arrowhead\":0,\"arrowwidth\":1},\"autotypenumbers\":\"strict\",\"coloraxis\":{\"colorbar\":{\"outlinewidth\":0,\"ticks\":\"\"}},\"colorscale\":{\"diverging\":[[0,\"#8e0152\"],[0.1,\"#c51b7d\"],[0.2,\"#de77ae\"],[0.3,\"#f1b6da\"],[0.4,\"#fde0ef\"],[0.5,\"#f7f7f7\"],[0.6,\"#e6f5d0\"],[0.7,\"#b8e186\"],[0.8,\"#7fbc41\"],[0.9,\"#4d9221\"],[1,\"#276419\"]],\"sequential\":[[0.0,\"#0d0887\"],[0.1111111111111111,\"#46039f\"],[0.2222222222222222,\"#7201a8\"],[0.3333333333333333,\"#9c179e\"],[0.4444444444444444,\"#bd3786\"],[0.5555555555555556,\"#d8576b\"],[0.6666666666666666,\"#ed7953\"],[0.7777777777777778,\"#fb9f3a\"],[0.8888888888888888,\"#fdca26\"],[1.0,\"#f0f921\"]],\"sequentialminus\":[[0.0,\"#0d0887\"],[0.1111111111111111,\"#46039f\"],[0.2222222222222222,\"#7201a8\"],[0.3333333333333333,\"#9c179e\"],[0.4444444444444444,\"#bd3786\"],[0.5555555555555556,\"#d8576b\"],[0.6666666666666666,\"#ed7953\"],[0.7777777777777778,\"#fb9f3a\"],[0.8888888888888888,\"#fdca26\"],[1.0,\"#f0f921\"]]},\"colorway\":[\"#636efa\",\"#EF553B\",\"#00cc96\",\"#ab63fa\",\"#FFA15A\",\"#19d3f3\",\"#FF6692\",\"#B6E880\",\"#FF97FF\",\"#FECB52\"],\"font\":{\"color\":\"#2a3f5f\"},\"geo\":{\"bgcolor\":\"white\",\"lakecolor\":\"white\",\"landcolor\":\"#E5ECF6\",\"showlakes\":true,\"showland\":true,\"subunitcolor\":\"white\"},\"hoverlabel\":{\"align\":\"left\"},\"hovermode\":\"closest\",\"mapbox\":{\"style\":\"light\"},\"paper_bgcolor\":\"white\",\"plot_bgcolor\":\"#E5ECF6\",\"polar\":{\"angularaxis\":{\"gridcolor\":\"white\",\"linecolor\":\"white\",\"ticks\":\"\"},\"bgcolor\":\"#E5ECF6\",\"radialaxis\":{\"gridcolor\":\"white\",\"linecolor\":\"white\",\"ticks\":\"\"}},\"scene\":{\"xaxis\":{\"backgroundcolor\":\"#E5ECF6\",\"gridcolor\":\"white\",\"gridwidth\":2,\"linecolor\":\"white\",\"showbackground\":true,\"ticks\":\"\",\"zerolinecolor\":\"white\"},\"yaxis\":{\"backgroundcolor\":\"#E5ECF6\",\"gridcolor\":\"white\",\"gridwidth\":2,\"linecolor\":\"white\",\"showbackground\":true,\"ticks\":\"\",\"zerolinecolor\":\"white\"},\"zaxis\":{\"backgroundcolor\":\"#E5ECF6\",\"gridcolor\":\"white\",\"gridwidth\":2,\"linecolor\":\"white\",\"showbackground\":true,\"ticks\":\"\",\"zerolinecolor\":\"white\"}},\"shapedefaults\":{\"line\":{\"color\":\"#2a3f5f\"}},\"ternary\":{\"aaxis\":{\"gridcolor\":\"white\",\"linecolor\":\"white\",\"ticks\":\"\"},\"baxis\":{\"gridcolor\":\"white\",\"linecolor\":\"white\",\"ticks\":\"\"},\"bgcolor\":\"#E5ECF6\",\"caxis\":{\"gridcolor\":\"white\",\"linecolor\":\"white\",\"ticks\":\"\"}},\"title\":{\"x\":0.05},\"xaxis\":{\"automargin\":true,\"gridcolor\":\"white\",\"linecolor\":\"white\",\"ticks\":\"\",\"title\":{\"standoff\":15},\"zerolinecolor\":\"white\",\"zerolinewidth\":2},\"yaxis\":{\"automargin\":true,\"gridcolor\":\"white\",\"linecolor\":\"white\",\"ticks\":\"\",\"title\":{\"standoff\":15},\"zerolinecolor\":\"white\",\"zerolinewidth\":2}}},\"title\":{\"text\":\"Number of Authors signing in given year\"},\"xaxis\":{\"anchor\":\"y\",\"domain\":[0.0,1.0],\"title\":{\"text\":\"Year of Signdate\"}},\"yaxis\":{\"anchor\":\"x\",\"domain\":[0.0,1.0],\"title\":{\"text\":\"Number of Authors\"}}},                        {\"responsive\": true}                    ).then(function(){\n",
       "                            \n",
       "var gd = document.getElementById('bc819587-e9af-4b4c-92fb-09aee9206ce9');\n",
       "var x = new MutationObserver(function (mutations, observer) {{\n",
       "        var display = window.getComputedStyle(gd).display;\n",
       "        if (!display || display === 'none') {{\n",
       "            console.log([gd, 'removed!']);\n",
       "            Plotly.purge(gd);\n",
       "            observer.disconnect();\n",
       "        }}\n",
       "}});\n",
       "\n",
       "// Listen for the removal of the full notebook cells\n",
       "var notebookContainer = gd.closest('#notebook-container');\n",
       "if (notebookContainer) {{\n",
       "    x.observe(notebookContainer, {childList: true});\n",
       "}}\n",
       "\n",
       "// Listen for the clearing of the current output cell\n",
       "var outputEl = gd.closest('.output');\n",
       "if (outputEl) {{\n",
       "    x.observe(outputEl, {childList: true});\n",
       "}}\n",
       "\n",
       "                        })                };                });            </script>        </div>"
      ]
     },
     "metadata": {},
     "output_type": "display_data"
    }
   ],
   "source": [
    "df_year_signdate = pd.DataFrame(df.groupby(\"Year_signdate\")[\"AuhorID\"].count())\n",
    "df_year_signdate.reset_index(inplace = True)\n",
    "df_year_signdate.sort_values(by = \"Year_signdate\",ascending = False) \n",
    "df_year_signdate[\"Year_signdate\"] = df_year_signdate[\"Year_signdate\"].astype(str)\n",
    "fig = px.bar(df_year_signdate.sort_values(by = \"AuhorID\",ascending = False).head(30), x = \"Year_signdate\", y = \"AuhorID\", title = \"Number of Authors signing in given year\", \n",
    "             labels = {\"Year_signdate\": \"Year of Signdate\",\"AuhorID\": \"Number of Authors\"})\n",
    "fig.show()"
   ]
  },
  {
   "cell_type": "markdown",
   "id": "b44a8f75",
   "metadata": {},
   "source": [
    "#### Here we see that a lot of authors signed with publishing company in recent years. In 2018, highest number of authors signed with publishing company followed by 2014 and 2012."
   ]
  },
  {
   "cell_type": "markdown",
   "id": "b193b265",
   "metadata": {},
   "source": [
    "### 2. Reading Revenue information"
   ]
  },
  {
   "cell_type": "code",
   "execution_count": 222,
   "id": "d4497060",
   "metadata": {},
   "outputs": [
    {
     "data": {
      "text/html": [
       "<div>\n",
       "<style scoped>\n",
       "    .dataframe tbody tr th:only-of-type {\n",
       "        vertical-align: middle;\n",
       "    }\n",
       "\n",
       "    .dataframe tbody tr th {\n",
       "        vertical-align: top;\n",
       "    }\n",
       "\n",
       "    .dataframe thead th {\n",
       "        text-align: right;\n",
       "    }\n",
       "</style>\n",
       "<table border=\"1\" class=\"dataframe\">\n",
       "  <thead>\n",
       "    <tr style=\"text-align: right;\">\n",
       "      <th></th>\n",
       "      <th>AuthorID</th>\n",
       "      <th>SongID</th>\n",
       "      <th>Year</th>\n",
       "      <th>Format</th>\n",
       "      <th>Revenue</th>\n",
       "    </tr>\n",
       "  </thead>\n",
       "  <tbody>\n",
       "    <tr>\n",
       "      <th>0</th>\n",
       "      <td>66</td>\n",
       "      <td>1</td>\n",
       "      <td>2015</td>\n",
       "      <td>CD</td>\n",
       "      <td>0</td>\n",
       "    </tr>\n",
       "    <tr>\n",
       "      <th>1</th>\n",
       "      <td>396</td>\n",
       "      <td>2</td>\n",
       "      <td>2015</td>\n",
       "      <td>CD</td>\n",
       "      <td>0</td>\n",
       "    </tr>\n",
       "    <tr>\n",
       "      <th>2</th>\n",
       "      <td>92</td>\n",
       "      <td>3</td>\n",
       "      <td>2015</td>\n",
       "      <td>CD</td>\n",
       "      <td>0</td>\n",
       "    </tr>\n",
       "    <tr>\n",
       "      <th>3</th>\n",
       "      <td>928</td>\n",
       "      <td>4</td>\n",
       "      <td>2015</td>\n",
       "      <td>CD</td>\n",
       "      <td>19</td>\n",
       "    </tr>\n",
       "    <tr>\n",
       "      <th>4</th>\n",
       "      <td>642</td>\n",
       "      <td>5</td>\n",
       "      <td>2015</td>\n",
       "      <td>CD</td>\n",
       "      <td>0</td>\n",
       "    </tr>\n",
       "    <tr>\n",
       "      <th>...</th>\n",
       "      <td>...</td>\n",
       "      <td>...</td>\n",
       "      <td>...</td>\n",
       "      <td>...</td>\n",
       "      <td>...</td>\n",
       "    </tr>\n",
       "    <tr>\n",
       "      <th>235615</th>\n",
       "      <td>727</td>\n",
       "      <td>6541</td>\n",
       "      <td>2023</td>\n",
       "      <td>TV</td>\n",
       "      <td>28</td>\n",
       "    </tr>\n",
       "    <tr>\n",
       "      <th>235616</th>\n",
       "      <td>402</td>\n",
       "      <td>6542</td>\n",
       "      <td>2023</td>\n",
       "      <td>TV</td>\n",
       "      <td>68</td>\n",
       "    </tr>\n",
       "    <tr>\n",
       "      <th>235617</th>\n",
       "      <td>926</td>\n",
       "      <td>6543</td>\n",
       "      <td>2023</td>\n",
       "      <td>TV</td>\n",
       "      <td>27</td>\n",
       "    </tr>\n",
       "    <tr>\n",
       "      <th>235618</th>\n",
       "      <td>164</td>\n",
       "      <td>6544</td>\n",
       "      <td>2023</td>\n",
       "      <td>TV</td>\n",
       "      <td>35</td>\n",
       "    </tr>\n",
       "    <tr>\n",
       "      <th>235619</th>\n",
       "      <td>511</td>\n",
       "      <td>6545</td>\n",
       "      <td>2023</td>\n",
       "      <td>TV</td>\n",
       "      <td>28</td>\n",
       "    </tr>\n",
       "  </tbody>\n",
       "</table>\n",
       "<p>235620 rows × 5 columns</p>\n",
       "</div>"
      ],
      "text/plain": [
       "        AuthorID  SongID   Year Format  Revenue\n",
       "0             66       1   2015     CD        0\n",
       "1            396       2   2015     CD        0\n",
       "2             92       3   2015     CD        0\n",
       "3            928       4   2015     CD       19\n",
       "4            642       5   2015     CD        0\n",
       "...          ...     ...    ...    ...      ...\n",
       "235615       727    6541   2023     TV       28\n",
       "235616       402    6542   2023     TV       68\n",
       "235617       926    6543   2023     TV       27\n",
       "235618       164    6544   2023     TV       35\n",
       "235619       511    6545   2023     TV       28\n",
       "\n",
       "[235620 rows x 5 columns]"
      ]
     },
     "execution_count": 222,
     "metadata": {},
     "output_type": "execute_result"
    }
   ],
   "source": [
    "df2 = pd.read_excel(r\"C:\\Users\\Lakshi\\Downloads\\Data Analyst Case Study.xlsx\",sheet_name=2)\n",
    "df2 "
   ]
  },
  {
   "cell_type": "code",
   "execution_count": 223,
   "id": "7414d5ba",
   "metadata": {},
   "outputs": [
    {
     "name": "stdout",
     "output_type": "stream",
     "text": [
      "<class 'pandas.core.frame.DataFrame'>\n",
      "RangeIndex: 235620 entries, 0 to 235619\n",
      "Data columns (total 5 columns):\n",
      " #   Column    Non-Null Count   Dtype \n",
      "---  ------    --------------   ----- \n",
      " 0   AuthorID  235620 non-null  int64 \n",
      " 1   SongID    235620 non-null  int64 \n",
      " 2    Year     235620 non-null  int64 \n",
      " 3   Format    235620 non-null  object\n",
      " 4   Revenue   235620 non-null  int64 \n",
      "dtypes: int64(4), object(1)\n",
      "memory usage: 9.0+ MB\n"
     ]
    }
   ],
   "source": [
    "df2.info() "
   ]
  },
  {
   "cell_type": "code",
   "execution_count": 224,
   "id": "8dbb95b6",
   "metadata": {
    "scrolled": true
   },
   "outputs": [
    {
     "data": {
      "text/plain": [
       "AuthorID    0\n",
       "SongID      0\n",
       " Year       0\n",
       "Format      0\n",
       "Revenue     0\n",
       "dtype: int64"
      ]
     },
     "execution_count": 224,
     "metadata": {},
     "output_type": "execute_result"
    }
   ],
   "source": [
    "df2.isnull().sum()"
   ]
  },
  {
   "cell_type": "code",
   "execution_count": 225,
   "id": "7ce7dc69",
   "metadata": {},
   "outputs": [
    {
     "data": {
      "text/plain": [
       "AuthorID    1000\n",
       "SongID      6545\n",
       " Year          9\n",
       "Format         4\n",
       "Revenue     1150\n",
       "dtype: int64"
      ]
     },
     "execution_count": 225,
     "metadata": {},
     "output_type": "execute_result"
    }
   ],
   "source": [
    "df2.nunique()"
   ]
  },
  {
   "cell_type": "markdown",
   "id": "c487eab6",
   "metadata": {},
   "source": [
    "This dataset contains the information about revenue generated by songs through various channels sung by authors whose signdate and birthdate was provided in previous dataset. It also contains about 1000 music authors and has no missing values."
   ]
  },
  {
   "cell_type": "code",
   "execution_count": 266,
   "id": "6fcea062",
   "metadata": {},
   "outputs": [
    {
     "data": {
      "text/html": [
       "<div>\n",
       "<style scoped>\n",
       "    .dataframe tbody tr th:only-of-type {\n",
       "        vertical-align: middle;\n",
       "    }\n",
       "\n",
       "    .dataframe tbody tr th {\n",
       "        vertical-align: top;\n",
       "    }\n",
       "\n",
       "    .dataframe thead th {\n",
       "        text-align: right;\n",
       "    }\n",
       "</style>\n",
       "<table border=\"1\" class=\"dataframe\">\n",
       "  <thead>\n",
       "    <tr style=\"text-align: right;\">\n",
       "      <th></th>\n",
       "      <th>Revenue</th>\n",
       "    </tr>\n",
       "  </thead>\n",
       "  <tbody>\n",
       "    <tr>\n",
       "      <th>count</th>\n",
       "      <td>235620.000000</td>\n",
       "    </tr>\n",
       "    <tr>\n",
       "      <th>mean</th>\n",
       "      <td>46.880677</td>\n",
       "    </tr>\n",
       "    <tr>\n",
       "      <th>std</th>\n",
       "      <td>120.066712</td>\n",
       "    </tr>\n",
       "    <tr>\n",
       "      <th>min</th>\n",
       "      <td>0.000000</td>\n",
       "    </tr>\n",
       "    <tr>\n",
       "      <th>25%</th>\n",
       "      <td>0.000000</td>\n",
       "    </tr>\n",
       "    <tr>\n",
       "      <th>50%</th>\n",
       "      <td>5.000000</td>\n",
       "    </tr>\n",
       "    <tr>\n",
       "      <th>75%</th>\n",
       "      <td>47.000000</td>\n",
       "    </tr>\n",
       "    <tr>\n",
       "      <th>max</th>\n",
       "      <td>1169.000000</td>\n",
       "    </tr>\n",
       "  </tbody>\n",
       "</table>\n",
       "</div>"
      ],
      "text/plain": [
       "             Revenue\n",
       "count  235620.000000\n",
       "mean       46.880677\n",
       "std       120.066712\n",
       "min         0.000000\n",
       "25%         0.000000\n",
       "50%         5.000000\n",
       "75%        47.000000\n",
       "max      1169.000000"
      ]
     },
     "execution_count": 266,
     "metadata": {},
     "output_type": "execute_result"
    }
   ],
   "source": [
    "des_rev = pd.DataFrame(df2[\"Revenue\"].describe())\n",
    "des_rev "
   ]
  },
  {
   "cell_type": "code",
   "execution_count": 267,
   "id": "c5f4cde0",
   "metadata": {},
   "outputs": [
    {
     "data": {
      "image/png": "[encoded data removed]",
      "text/plain": [
       "<Figure size 432x288 with 1 Axes>"
      ]
     },
     "metadata": {
      "needs_background": "light"
     },
     "output_type": "display_data"
    }
   ],
   "source": [
    "#Boxplot\n",
    "sns.boxplot(x= df2[\"Revenue\"])\n",
    "plt.title(\"Revenue Boxplot\")\n",
    "plt.show()"
   ]
  },
  {
   "cell_type": "code",
   "execution_count": 227,
   "id": "a4c22fa6",
   "metadata": {},
   "outputs": [],
   "source": [
    "#Correcting the spelling off author in df\n",
    "df.columns = [\"AuthorID\",\"Birthdate\",\"SignDate\",\"Age(in yrs)\",\"Year_signdate\"]"
   ]
  },
  {
   "cell_type": "code",
   "execution_count": 228,
   "id": "7f9ba32d",
   "metadata": {},
   "outputs": [
    {
     "data": {
      "text/html": [
       "<div>\n",
       "<style scoped>\n",
       "    .dataframe tbody tr th:only-of-type {\n",
       "        vertical-align: middle;\n",
       "    }\n",
       "\n",
       "    .dataframe tbody tr th {\n",
       "        vertical-align: top;\n",
       "    }\n",
       "\n",
       "    .dataframe thead th {\n",
       "        text-align: right;\n",
       "    }\n",
       "</style>\n",
       "<table border=\"1\" class=\"dataframe\">\n",
       "  <thead>\n",
       "    <tr style=\"text-align: right;\">\n",
       "      <th></th>\n",
       "      <th>AuthorID</th>\n",
       "      <th>Birthdate</th>\n",
       "      <th>SignDate</th>\n",
       "      <th>Age(in yrs)</th>\n",
       "      <th>Year_signdate</th>\n",
       "      <th>SongID</th>\n",
       "      <th>Year</th>\n",
       "      <th>Format</th>\n",
       "      <th>Revenue</th>\n",
       "    </tr>\n",
       "  </thead>\n",
       "  <tbody>\n",
       "    <tr>\n",
       "      <th>0</th>\n",
       "      <td>1</td>\n",
       "      <td>1992-09-03</td>\n",
       "      <td>2006-11-14</td>\n",
       "      <td>14</td>\n",
       "      <td>2006</td>\n",
       "      <td>2496</td>\n",
       "      <td>2015</td>\n",
       "      <td>CD</td>\n",
       "      <td>19</td>\n",
       "    </tr>\n",
       "    <tr>\n",
       "      <th>1</th>\n",
       "      <td>1</td>\n",
       "      <td>1992-09-03</td>\n",
       "      <td>2006-11-14</td>\n",
       "      <td>14</td>\n",
       "      <td>2006</td>\n",
       "      <td>2871</td>\n",
       "      <td>2015</td>\n",
       "      <td>CD</td>\n",
       "      <td>0</td>\n",
       "    </tr>\n",
       "    <tr>\n",
       "      <th>2</th>\n",
       "      <td>1</td>\n",
       "      <td>1992-09-03</td>\n",
       "      <td>2006-11-14</td>\n",
       "      <td>14</td>\n",
       "      <td>2006</td>\n",
       "      <td>3027</td>\n",
       "      <td>2015</td>\n",
       "      <td>CD</td>\n",
       "      <td>0</td>\n",
       "    </tr>\n",
       "    <tr>\n",
       "      <th>3</th>\n",
       "      <td>1</td>\n",
       "      <td>1992-09-03</td>\n",
       "      <td>2006-11-14</td>\n",
       "      <td>14</td>\n",
       "      <td>2006</td>\n",
       "      <td>3101</td>\n",
       "      <td>2015</td>\n",
       "      <td>CD</td>\n",
       "      <td>0</td>\n",
       "    </tr>\n",
       "    <tr>\n",
       "      <th>4</th>\n",
       "      <td>1</td>\n",
       "      <td>1992-09-03</td>\n",
       "      <td>2006-11-14</td>\n",
       "      <td>14</td>\n",
       "      <td>2006</td>\n",
       "      <td>3218</td>\n",
       "      <td>2015</td>\n",
       "      <td>CD</td>\n",
       "      <td>0</td>\n",
       "    </tr>\n",
       "    <tr>\n",
       "      <th>...</th>\n",
       "      <td>...</td>\n",
       "      <td>...</td>\n",
       "      <td>...</td>\n",
       "      <td>...</td>\n",
       "      <td>...</td>\n",
       "      <td>...</td>\n",
       "      <td>...</td>\n",
       "      <td>...</td>\n",
       "      <td>...</td>\n",
       "    </tr>\n",
       "    <tr>\n",
       "      <th>235615</th>\n",
       "      <td>1000</td>\n",
       "      <td>1964-08-11</td>\n",
       "      <td>1984-09-03</td>\n",
       "      <td>20</td>\n",
       "      <td>1984</td>\n",
       "      <td>2882</td>\n",
       "      <td>2023</td>\n",
       "      <td>TV</td>\n",
       "      <td>11</td>\n",
       "    </tr>\n",
       "    <tr>\n",
       "      <th>235616</th>\n",
       "      <td>1000</td>\n",
       "      <td>1964-08-11</td>\n",
       "      <td>1984-09-03</td>\n",
       "      <td>20</td>\n",
       "      <td>1984</td>\n",
       "      <td>3183</td>\n",
       "      <td>2023</td>\n",
       "      <td>TV</td>\n",
       "      <td>21</td>\n",
       "    </tr>\n",
       "    <tr>\n",
       "      <th>235617</th>\n",
       "      <td>1000</td>\n",
       "      <td>1964-08-11</td>\n",
       "      <td>1984-09-03</td>\n",
       "      <td>20</td>\n",
       "      <td>1984</td>\n",
       "      <td>3318</td>\n",
       "      <td>2023</td>\n",
       "      <td>TV</td>\n",
       "      <td>32</td>\n",
       "    </tr>\n",
       "    <tr>\n",
       "      <th>235618</th>\n",
       "      <td>1000</td>\n",
       "      <td>1964-08-11</td>\n",
       "      <td>1984-09-03</td>\n",
       "      <td>20</td>\n",
       "      <td>1984</td>\n",
       "      <td>3484</td>\n",
       "      <td>2023</td>\n",
       "      <td>TV</td>\n",
       "      <td>14</td>\n",
       "    </tr>\n",
       "    <tr>\n",
       "      <th>235619</th>\n",
       "      <td>1000</td>\n",
       "      <td>1964-08-11</td>\n",
       "      <td>1984-09-03</td>\n",
       "      <td>20</td>\n",
       "      <td>1984</td>\n",
       "      <td>4099</td>\n",
       "      <td>2023</td>\n",
       "      <td>TV</td>\n",
       "      <td>32</td>\n",
       "    </tr>\n",
       "  </tbody>\n",
       "</table>\n",
       "<p>235620 rows × 9 columns</p>\n",
       "</div>"
      ],
      "text/plain": [
       "        AuthorID  Birthdate   SignDate  Age(in yrs)  Year_signdate  SongID  \\\n",
       "0              1 1992-09-03 2006-11-14           14           2006    2496   \n",
       "1              1 1992-09-03 2006-11-14           14           2006    2871   \n",
       "2              1 1992-09-03 2006-11-14           14           2006    3027   \n",
       "3              1 1992-09-03 2006-11-14           14           2006    3101   \n",
       "4              1 1992-09-03 2006-11-14           14           2006    3218   \n",
       "...          ...        ...        ...          ...            ...     ...   \n",
       "235615      1000 1964-08-11 1984-09-03           20           1984    2882   \n",
       "235616      1000 1964-08-11 1984-09-03           20           1984    3183   \n",
       "235617      1000 1964-08-11 1984-09-03           20           1984    3318   \n",
       "235618      1000 1964-08-11 1984-09-03           20           1984    3484   \n",
       "235619      1000 1964-08-11 1984-09-03           20           1984    4099   \n",
       "\n",
       "         Year Format  Revenue  \n",
       "0        2015     CD       19  \n",
       "1        2015     CD        0  \n",
       "2        2015     CD        0  \n",
       "3        2015     CD        0  \n",
       "4        2015     CD        0  \n",
       "...       ...    ...      ...  \n",
       "235615   2023     TV       11  \n",
       "235616   2023     TV       21  \n",
       "235617   2023     TV       32  \n",
       "235618   2023     TV       14  \n",
       "235619   2023     TV       32  \n",
       "\n",
       "[235620 rows x 9 columns]"
      ]
     },
     "execution_count": 228,
     "metadata": {},
     "output_type": "execute_result"
    }
   ],
   "source": [
    "#Let's merge the data!\n",
    "df3 = pd.merge(df,df2, on =\"AuthorID\")\n",
    "df3"
   ]
  },
  {
   "cell_type": "code",
   "execution_count": 229,
   "id": "c2a170a0",
   "metadata": {},
   "outputs": [],
   "source": [
    "#Dropping the age column from here \n",
    "df3.drop(\"Age(in yrs)\",axis = 1,inplace = True)"
   ]
  },
  {
   "cell_type": "code",
   "execution_count": 230,
   "id": "5ca0b435",
   "metadata": {},
   "outputs": [],
   "source": [
    "#Removing spaces from column names\n",
    "df3.columns = df3.columns.str.strip() "
   ]
  },
  {
   "cell_type": "code",
   "execution_count": 231,
   "id": "a11bcc2c",
   "metadata": {},
   "outputs": [
    {
     "name": "stdout",
     "output_type": "stream",
     "text": [
      "Unique values in Year are [2015 2016 2017 2018 2019 2020 2021 2022 2023]\n",
      "Unique values in Format are ['CD' 'Digital' 'Radio' 'TV']\n"
     ]
    }
   ],
   "source": [
    "#Lets have a look at distinct values for year and format!!\n",
    "#Let's year & format\n",
    "for i in [\"Year\",\"Format\"]:\n",
    "      print(\"Unique values in {} are {}\".format(i,df3[i].unique()))"
   ]
  },
  {
   "cell_type": "code",
   "execution_count": 233,
   "id": "bf8d53df",
   "metadata": {},
   "outputs": [
    {
     "data": {
      "application/vnd.plotly.v1+json": {
       "config": {
        "plotlyServerURL": "https://plot.ly"
       },
       "data": [
        {
         "alignmentgroup": "True",
         "hovertemplate": "Year=%{x}<br>Revenue=%{y}<extra></extra>",
         "legendgroup": "",
         "marker": {
          "color": "#636efa",
          "pattern": {
           "shape": ""
          }
         },
         "name": "",
         "offsetgroup": "",
         "orientation": "v",
         "showlegend": false,
         "textposition": "auto",
         "type": "bar",
         "x": [
          2015,
          2016,
          2017,
          2018,
          2019,
          2020,
          2021,
          2022,
          2023
         ],
         "xaxis": "x",
         "y": [
          613939,
          837539,
          1050123,
          1198899,
          1323501,
          1393283,
          1457849,
          1539112,
          1631780
         ],
         "yaxis": "y"
        }
       ],
       "layout": {
        "barmode": "relative",
        "legend": {
         "tracegroupgap": 0
        },
        "template": {
         "data": {
          "bar": [
           {
            "error_x": {
             "color": "#2a3f5f"
            },
            "error_y": {
             "color": "#2a3f5f"
            },
            "marker": {
             "line": {
              "color": "#E5ECF6",
              "width": 0.5
             },
             "pattern": {
              "fillmode": "overlay",
              "size": 10,
              "solidity": 0.2
             }
            },
            "type": "bar"
           }
          ],
          "barpolar": [
           {
            "marker": {
             "line": {
              "color": "#E5ECF6",
              "width": 0.5
             },
             "pattern": {
              "fillmode": "overlay",
              "size": 10,
              "solidity": 0.2
             }
            },
            "type": "barpolar"
           }
          ],
          "carpet": [
           {
            "aaxis": {
             "endlinecolor": "#2a3f5f",
             "gridcolor": "white",
             "linecolor": "white",
             "minorgridcolor": "white",
             "startlinecolor": "#2a3f5f"
            },
            "baxis": {
             "endlinecolor": "#2a3f5f",
             "gridcolor": "white",
             "linecolor": "white",
             "minorgridcolor": "white",
             "startlinecolor": "#2a3f5f"
            },
            "type": "carpet"
           }
          ],
          "choropleth": [
           {
            "colorbar": {
             "outlinewidth": 0,
             "ticks": ""
            },
            "type": "choropleth"
           }
          ],
          "contour": [
           {
            "colorbar": {
             "outlinewidth": 0,
             "ticks": ""
            },
            "colorscale": [
             [
              0,
              "#0d0887"
             ],
             [
              0.1111111111111111,
              "#46039f"
             ],
             [
              0.2222222222222222,
              "#7201a8"
             ],
             [
              0.3333333333333333,
              "#9c179e"
             ],
             [
              0.4444444444444444,
              "#bd3786"
             ],
             [
              0.5555555555555556,
              "#d8576b"
             ],
             [
              0.6666666666666666,
              "#ed7953"
             ],
             [
              0.7777777777777778,
              "#fb9f3a"
             ],
             [
              0.8888888888888888,
              "#fdca26"
             ],
             [
              1,
              "#f0f921"
             ]
            ],
            "type": "contour"
           }
          ],
          "contourcarpet": [
           {
            "colorbar": {
             "outlinewidth": 0,
             "ticks": ""
            },
            "type": "contourcarpet"
           }
          ],
          "heatmap": [
           {
            "colorbar": {
             "outlinewidth": 0,
             "ticks": ""
            },
            "colorscale": [
             [
              0,
              "#0d0887"
             ],
             [
              0.1111111111111111,
              "#46039f"
             ],
             [
              0.2222222222222222,
              "#7201a8"
             ],
             [
              0.3333333333333333,
              "#9c179e"
             ],
             [
              0.4444444444444444,
              "#bd3786"
             ],
             [
              0.5555555555555556,
              "#d8576b"
             ],
             [
              0.6666666666666666,
              "#ed7953"
             ],
             [
              0.7777777777777778,
              "#fb9f3a"
             ],
             [
              0.8888888888888888,
              "#fdca26"
             ],
             [
              1,
              "#f0f921"
             ]
            ],
            "type": "heatmap"
           }
          ],
          "heatmapgl": [
           {
            "colorbar": {
             "outlinewidth": 0,
             "ticks": ""
            },
            "colorscale": [
             [
              0,
              "#0d0887"
             ],
             [
              0.1111111111111111,
              "#46039f"
             ],
             [
              0.2222222222222222,
              "#7201a8"
             ],
             [
              0.3333333333333333,
              "#9c179e"
             ],
             [
              0.4444444444444444,
              "#bd3786"
             ],
             [
              0.5555555555555556,
              "#d8576b"
             ],
             [
              0.6666666666666666,
              "#ed7953"
             ],
             [
              0.7777777777777778,
              "#fb9f3a"
             ],
             [
              0.8888888888888888,
              "#fdca26"
             ],
             [
              1,
              "#f0f921"
             ]
            ],
            "type": "heatmapgl"
           }
          ],
          "histogram": [
           {
            "marker": {
             "pattern": {
              "fillmode": "overlay",
              "size": 10,
              "solidity": 0.2
             }
            },
            "type": "histogram"
           }
          ],
          "histogram2d": [
           {
            "colorbar": {
             "outlinewidth": 0,
             "ticks": ""
            },
            "colorscale": [
             [
              0,
              "#0d0887"
             ],
             [
              0.1111111111111111,
              "#46039f"
             ],
             [
              0.2222222222222222,
              "#7201a8"
             ],
             [
              0.3333333333333333,
              "#9c179e"
             ],
             [
              0.4444444444444444,
              "#bd3786"
             ],
             [
              0.5555555555555556,
              "#d8576b"
             ],
             [
              0.6666666666666666,
              "#ed7953"
             ],
             [
              0.7777777777777778,
              "#fb9f3a"
             ],
             [
              0.8888888888888888,
              "#fdca26"
             ],
             [
              1,
              "#f0f921"
             ]
            ],
            "type": "histogram2d"
           }
          ],
          "histogram2dcontour": [
           {
            "colorbar": {
             "outlinewidth": 0,
             "ticks": ""
            },
            "colorscale": [
             [
              0,
              "#0d0887"
             ],
             [
              0.1111111111111111,
              "#46039f"
             ],
             [
              0.2222222222222222,
              "#7201a8"
             ],
             [
              0.3333333333333333,
              "#9c179e"
             ],
             [
              0.4444444444444444,
              "#bd3786"
             ],
             [
              0.5555555555555556,
              "#d8576b"
             ],
             [
              0.6666666666666666,
              "#ed7953"
             ],
             [
              0.7777777777777778,
              "#fb9f3a"
             ],
             [
              0.8888888888888888,
              "#fdca26"
             ],
             [
              1,
              "#f0f921"
             ]
            ],
            "type": "histogram2dcontour"
           }
          ],
          "mesh3d": [
           {
            "colorbar": {
             "outlinewidth": 0,
             "ticks": ""
            },
            "type": "mesh3d"
           }
          ],
          "parcoords": [
           {
            "line": {
             "colorbar": {
              "outlinewidth": 0,
              "ticks": ""
             }
            },
            "type": "parcoords"
           }
          ],
          "pie": [
           {
            "automargin": true,
            "type": "pie"
           }
          ],
          "scatter": [
           {
            "marker": {
             "colorbar": {
              "outlinewidth": 0,
              "ticks": ""
             }
            },
            "type": "scatter"
           }
          ],
          "scatter3d": [
           {
            "line": {
             "colorbar": {
              "outlinewidth": 0,
              "ticks": ""
             }
            },
            "marker": {
             "colorbar": {
              "outlinewidth": 0,
              "ticks": ""
             }
            },
            "type": "scatter3d"
           }
          ],
          "scattercarpet": [
           {
            "marker": {
             "colorbar": {
              "outlinewidth": 0,
              "ticks": ""
             }
            },
            "type": "scattercarpet"
           }
          ],
          "scattergeo": [
           {
            "marker": {
             "colorbar": {
              "outlinewidth": 0,
              "ticks": ""
             }
            },
            "type": "scattergeo"
           }
          ],
          "scattergl": [
           {
            "marker": {
             "colorbar": {
              "outlinewidth": 0,
              "ticks": ""
             }
            },
            "type": "scattergl"
           }
          ],
          "scattermapbox": [
           {
            "marker": {
             "colorbar": {
              "outlinewidth": 0,
              "ticks": ""
             }
            },
            "type": "scattermapbox"
           }
          ],
          "scatterpolar": [
           {
            "marker": {
             "colorbar": {
              "outlinewidth": 0,
              "ticks": ""
             }
            },
            "type": "scatterpolar"
           }
          ],
          "scatterpolargl": [
           {
            "marker": {
             "colorbar": {
              "outlinewidth": 0,
              "ticks": ""
             }
            },
            "type": "scatterpolargl"
           }
          ],
          "scatterternary": [
           {
            "marker": {
             "colorbar": {
              "outlinewidth": 0,
              "ticks": ""
             }
            },
            "type": "scatterternary"
           }
          ],
          "surface": [
           {
            "colorbar": {
             "outlinewidth": 0,
             "ticks": ""
            },
            "colorscale": [
             [
              0,
              "#0d0887"
             ],
             [
              0.1111111111111111,
              "#46039f"
             ],
             [
              0.2222222222222222,
              "#7201a8"
             ],
             [
              0.3333333333333333,
              "#9c179e"
             ],
             [
              0.4444444444444444,
              "#bd3786"
             ],
             [
              0.5555555555555556,
              "#d8576b"
             ],
             [
              0.6666666666666666,
              "#ed7953"
             ],
             [
              0.7777777777777778,
              "#fb9f3a"
             ],
             [
              0.8888888888888888,
              "#fdca26"
             ],
             [
              1,
              "#f0f921"
             ]
            ],
            "type": "surface"
           }
          ],
          "table": [
           {
            "cells": {
             "fill": {
              "color": "#EBF0F8"
             },
             "line": {
              "color": "white"
             }
            },
            "header": {
             "fill": {
              "color": "#C8D4E3"
             },
             "line": {
              "color": "white"
             }
            },
            "type": "table"
           }
          ]
         },
         "layout": {
          "annotationdefaults": {
           "arrowcolor": "#2a3f5f",
           "arrowhead": 0,
           "arrowwidth": 1
          },
          "autotypenumbers": "strict",
          "coloraxis": {
           "colorbar": {
            "outlinewidth": 0,
            "ticks": ""
           }
          },
          "colorscale": {
           "diverging": [
            [
             0,
             "#8e0152"
            ],
            [
             0.1,
             "#c51b7d"
            ],
            [
             0.2,
             "#de77ae"
            ],
            [
             0.3,
             "#f1b6da"
            ],
            [
             0.4,
             "#fde0ef"
            ],
            [
             0.5,
             "#f7f7f7"
            ],
            [
             0.6,
             "#e6f5d0"
            ],
            [
             0.7,
             "#b8e186"
            ],
            [
             0.8,
             "#7fbc41"
            ],
            [
             0.9,
             "#4d9221"
            ],
            [
             1,
             "#276419"
            ]
           ],
           "sequential": [
            [
             0,
             "#0d0887"
            ],
            [
             0.1111111111111111,
             "#46039f"
            ],
            [
             0.2222222222222222,
             "#7201a8"
            ],
            [
             0.3333333333333333,
             "#9c179e"
            ],
            [
             0.4444444444444444,
             "#bd3786"
            ],
            [
             0.5555555555555556,
             "#d8576b"
            ],
            [
             0.6666666666666666,
             "#ed7953"
            ],
            [
             0.7777777777777778,
             "#fb9f3a"
            ],
            [
             0.8888888888888888,
             "#fdca26"
            ],
            [
             1,
             "#f0f921"
            ]
           ],
           "sequentialminus": [
            [
             0,
             "#0d0887"
            ],
            [
             0.1111111111111111,
             "#46039f"
            ],
            [
             0.2222222222222222,
             "#7201a8"
            ],
            [
             0.3333333333333333,
             "#9c179e"
            ],
            [
             0.4444444444444444,
             "#bd3786"
            ],
            [
             0.5555555555555556,
             "#d8576b"
            ],
            [
             0.6666666666666666,
             "#ed7953"
            ],
            [
             0.7777777777777778,
             "#fb9f3a"
            ],
            [
             0.8888888888888888,
             "#fdca26"
            ],
            [
             1,
             "#f0f921"
            ]
           ]
          },
          "colorway": [
           "#636efa",
           "#EF553B",
           "#00cc96",
           "#ab63fa",
           "#FFA15A",
           "#19d3f3",
           "#FF6692",
           "#B6E880",
           "#FF97FF",
           "#FECB52"
          ],
          "font": {
           "color": "#2a3f5f"
          },
          "geo": {
           "bgcolor": "white",
           "lakecolor": "white",
           "landcolor": "#E5ECF6",
           "showlakes": true,
           "showland": true,
           "subunitcolor": "white"
          },
          "hoverlabel": {
           "align": "left"
          },
          "hovermode": "closest",
          "mapbox": {
           "style": "light"
          },
          "paper_bgcolor": "white",
          "plot_bgcolor": "#E5ECF6",
          "polar": {
           "angularaxis": {
            "gridcolor": "white",
            "linecolor": "white",
            "ticks": ""
           },
           "bgcolor": "#E5ECF6",
           "radialaxis": {
            "gridcolor": "white",
            "linecolor": "white",
            "ticks": ""
           }
          },
          "scene": {
           "xaxis": {
            "backgroundcolor": "#E5ECF6",
            "gridcolor": "white",
            "gridwidth": 2,
            "linecolor": "white",
            "showbackground": true,
            "ticks": "",
            "zerolinecolor": "white"
           },
           "yaxis": {
            "backgroundcolor": "#E5ECF6",
            "gridcolor": "white",
            "gridwidth": 2,
            "linecolor": "white",
            "showbackground": true,
            "ticks": "",
            "zerolinecolor": "white"
           },
           "zaxis": {
            "backgroundcolor": "#E5ECF6",
            "gridcolor": "white",
            "gridwidth": 2,
            "linecolor": "white",
            "showbackground": true,
            "ticks": "",
            "zerolinecolor": "white"
           }
          },
          "shapedefaults": {
           "line": {
            "color": "#2a3f5f"
           }
          },
          "ternary": {
           "aaxis": {
            "gridcolor": "white",
            "linecolor": "white",
            "ticks": ""
           },
           "baxis": {
            "gridcolor": "white",
            "linecolor": "white",
            "ticks": ""
           },
           "bgcolor": "#E5ECF6",
           "caxis": {
            "gridcolor": "white",
            "linecolor": "white",
            "ticks": ""
           }
          },
          "title": {
           "x": 0.05
          },
          "xaxis": {
           "automargin": true,
           "gridcolor": "white",
           "linecolor": "white",
           "ticks": "",
           "title": {
            "standoff": 15
           },
           "zerolinecolor": "white",
           "zerolinewidth": 2
          },
          "yaxis": {
           "automargin": true,
           "gridcolor": "white",
           "linecolor": "white",
           "ticks": "",
           "title": {
            "standoff": 15
           },
           "zerolinecolor": "white",
           "zerolinewidth": 2
          }
         }
        },
        "title": {
         "text": "Revenue Trend"
        },
        "xaxis": {
         "anchor": "y",
         "domain": [
          0,
          1
         ],
         "title": {
          "text": "Year"
         }
        },
        "yaxis": {
         "anchor": "x",
         "domain": [
          0,
          1
         ],
         "title": {
          "text": "Revenue"
         }
        }
       }
      },
      "text/html": [
       "<div>                            <div id=\"725aa8b3-b030-4649-a9da-9bcb2c4b3d0c\" class=\"plotly-graph-div\" style=\"height:525px; width:100%;\"></div>            <script type=\"text/javascript\">                require([\"plotly\"], function(Plotly) {                    window.PLOTLYENV=window.PLOTLYENV || {};                                    if (document.getElementById(\"725aa8b3-b030-4649-a9da-9bcb2c4b3d0c\")) {                    Plotly.newPlot(                        \"725aa8b3-b030-4649-a9da-9bcb2c4b3d0c\",                        [{\"alignmentgroup\":\"True\",\"hovertemplate\":\"Year=%{x}<br>Revenue=%{y}<extra></extra>\",\"legendgroup\":\"\",\"marker\":{\"color\":\"#636efa\",\"pattern\":{\"shape\":\"\"}},\"name\":\"\",\"offsetgroup\":\"\",\"orientation\":\"v\",\"showlegend\":false,\"textposition\":\"auto\",\"type\":\"bar\",\"x\":[2015,2016,2017,2018,2019,2020,2021,2022,2023],\"xaxis\":\"x\",\"y\":[613939,837539,1050123,1198899,1323501,1393283,1457849,1539112,1631780],\"yaxis\":\"y\"}],                        {\"barmode\":\"relative\",\"legend\":{\"tracegroupgap\":0},\"template\":{\"data\":{\"bar\":[{\"error_x\":{\"color\":\"#2a3f5f\"},\"error_y\":{\"color\":\"#2a3f5f\"},\"marker\":{\"line\":{\"color\":\"#E5ECF6\",\"width\":0.5},\"pattern\":{\"fillmode\":\"overlay\",\"size\":10,\"solidity\":0.2}},\"type\":\"bar\"}],\"barpolar\":[{\"marker\":{\"line\":{\"color\":\"#E5ECF6\",\"width\":0.5},\"pattern\":{\"fillmode\":\"overlay\",\"size\":10,\"solidity\":0.2}},\"type\":\"barpolar\"}],\"carpet\":[{\"aaxis\":{\"endlinecolor\":\"#2a3f5f\",\"gridcolor\":\"white\",\"linecolor\":\"white\",\"minorgridcolor\":\"white\",\"startlinecolor\":\"#2a3f5f\"},\"baxis\":{\"endlinecolor\":\"#2a3f5f\",\"gridcolor\":\"white\",\"linecolor\":\"white\",\"minorgridcolor\":\"white\",\"startlinecolor\":\"#2a3f5f\"},\"type\":\"carpet\"}],\"choropleth\":[{\"colorbar\":{\"outlinewidth\":0,\"ticks\":\"\"},\"type\":\"choropleth\"}],\"contour\":[{\"colorbar\":{\"outlinewidth\":0,\"ticks\":\"\"},\"colorscale\":[[0.0,\"#0d0887\"],[0.1111111111111111,\"#46039f\"],[0.2222222222222222,\"#7201a8\"],[0.3333333333333333,\"#9c179e\"],[0.4444444444444444,\"#bd3786\"],[0.5555555555555556,\"#d8576b\"],[0.6666666666666666,\"#ed7953\"],[0.7777777777777778,\"#fb9f3a\"],[0.8888888888888888,\"#fdca26\"],[1.0,\"#f0f921\"]],\"type\":\"contour\"}],\"contourcarpet\":[{\"colorbar\":{\"outlinewidth\":0,\"ticks\":\"\"},\"type\":\"contourcarpet\"}],\"heatmap\":[{\"colorbar\":{\"outlinewidth\":0,\"ticks\":\"\"},\"colorscale\":[[0.0,\"#0d0887\"],[0.1111111111111111,\"#46039f\"],[0.2222222222222222,\"#7201a8\"],[0.3333333333333333,\"#9c179e\"],[0.4444444444444444,\"#bd3786\"],[0.5555555555555556,\"#d8576b\"],[0.6666666666666666,\"#ed7953\"],[0.7777777777777778,\"#fb9f3a\"],[0.8888888888888888,\"#fdca26\"],[1.0,\"#f0f921\"]],\"type\":\"heatmap\"}],\"heatmapgl\":[{\"colorbar\":{\"outlinewidth\":0,\"ticks\":\"\"},\"colorscale\":[[0.0,\"#0d0887\"],[0.1111111111111111,\"#46039f\"],[0.2222222222222222,\"#7201a8\"],[0.3333333333333333,\"#9c179e\"],[0.4444444444444444,\"#bd3786\"],[0.5555555555555556,\"#d8576b\"],[0.6666666666666666,\"#ed7953\"],[0.7777777777777778,\"#fb9f3a\"],[0.8888888888888888,\"#fdca26\"],[1.0,\"#f0f921\"]],\"type\":\"heatmapgl\"}],\"histogram\":[{\"marker\":{\"pattern\":{\"fillmode\":\"overlay\",\"size\":10,\"solidity\":0.2}},\"type\":\"histogram\"}],\"histogram2d\":[{\"colorbar\":{\"outlinewidth\":0,\"ticks\":\"\"},\"colorscale\":[[0.0,\"#0d0887\"],[0.1111111111111111,\"#46039f\"],[0.2222222222222222,\"#7201a8\"],[0.3333333333333333,\"#9c179e\"],[0.4444444444444444,\"#bd3786\"],[0.5555555555555556,\"#d8576b\"],[0.6666666666666666,\"#ed7953\"],[0.7777777777777778,\"#fb9f3a\"],[0.8888888888888888,\"#fdca26\"],[1.0,\"#f0f921\"]],\"type\":\"histogram2d\"}],\"histogram2dcontour\":[{\"colorbar\":{\"outlinewidth\":0,\"ticks\":\"\"},\"colorscale\":[[0.0,\"#0d0887\"],[0.1111111111111111,\"#46039f\"],[0.2222222222222222,\"#7201a8\"],[0.3333333333333333,\"#9c179e\"],[0.4444444444444444,\"#bd3786\"],[0.5555555555555556,\"#d8576b\"],[0.6666666666666666,\"#ed7953\"],[0.7777777777777778,\"#fb9f3a\"],[0.8888888888888888,\"#fdca26\"],[1.0,\"#f0f921\"]],\"type\":\"histogram2dcontour\"}],\"mesh3d\":[{\"colorbar\":{\"outlinewidth\":0,\"ticks\":\"\"},\"type\":\"mesh3d\"}],\"parcoords\":[{\"line\":{\"colorbar\":{\"outlinewidth\":0,\"ticks\":\"\"}},\"type\":\"parcoords\"}],\"pie\":[{\"automargin\":true,\"type\":\"pie\"}],\"scatter\":[{\"marker\":{\"colorbar\":{\"outlinewidth\":0,\"ticks\":\"\"}},\"type\":\"scatter\"}],\"scatter3d\":[{\"line\":{\"colorbar\":{\"outlinewidth\":0,\"ticks\":\"\"}},\"marker\":{\"colorbar\":{\"outlinewidth\":0,\"ticks\":\"\"}},\"type\":\"scatter3d\"}],\"scattercarpet\":[{\"marker\":{\"colorbar\":{\"outlinewidth\":0,\"ticks\":\"\"}},\"type\":\"scattercarpet\"}],\"scattergeo\":[{\"marker\":{\"colorbar\":{\"outlinewidth\":0,\"ticks\":\"\"}},\"type\":\"scattergeo\"}],\"scattergl\":[{\"marker\":{\"colorbar\":{\"outlinewidth\":0,\"ticks\":\"\"}},\"type\":\"scattergl\"}],\"scattermapbox\":[{\"marker\":{\"colorbar\":{\"outlinewidth\":0,\"ticks\":\"\"}},\"type\":\"scattermapbox\"}],\"scatterpolar\":[{\"marker\":{\"colorbar\":{\"outlinewidth\":0,\"ticks\":\"\"}},\"type\":\"scatterpolar\"}],\"scatterpolargl\":[{\"marker\":{\"colorbar\":{\"outlinewidth\":0,\"ticks\":\"\"}},\"type\":\"scatterpolargl\"}],\"scatterternary\":[{\"marker\":{\"colorbar\":{\"outlinewidth\":0,\"ticks\":\"\"}},\"type\":\"scatterternary\"}],\"surface\":[{\"colorbar\":{\"outlinewidth\":0,\"ticks\":\"\"},\"colorscale\":[[0.0,\"#0d0887\"],[0.1111111111111111,\"#46039f\"],[0.2222222222222222,\"#7201a8\"],[0.3333333333333333,\"#9c179e\"],[0.4444444444444444,\"#bd3786\"],[0.5555555555555556,\"#d8576b\"],[0.6666666666666666,\"#ed7953\"],[0.7777777777777778,\"#fb9f3a\"],[0.8888888888888888,\"#fdca26\"],[1.0,\"#f0f921\"]],\"type\":\"surface\"}],\"table\":[{\"cells\":{\"fill\":{\"color\":\"#EBF0F8\"},\"line\":{\"color\":\"white\"}},\"header\":{\"fill\":{\"color\":\"#C8D4E3\"},\"line\":{\"color\":\"white\"}},\"type\":\"table\"}]},\"layout\":{\"annotationdefaults\":{\"arrowcolor\":\"#2a3f5f\",\"arrowhead\":0,\"arrowwidth\":1},\"autotypenumbers\":\"strict\",\"coloraxis\":{\"colorbar\":{\"outlinewidth\":0,\"ticks\":\"\"}},\"colorscale\":{\"diverging\":[[0,\"#8e0152\"],[0.1,\"#c51b7d\"],[0.2,\"#de77ae\"],[0.3,\"#f1b6da\"],[0.4,\"#fde0ef\"],[0.5,\"#f7f7f7\"],[0.6,\"#e6f5d0\"],[0.7,\"#b8e186\"],[0.8,\"#7fbc41\"],[0.9,\"#4d9221\"],[1,\"#276419\"]],\"sequential\":[[0.0,\"#0d0887\"],[0.1111111111111111,\"#46039f\"],[0.2222222222222222,\"#7201a8\"],[0.3333333333333333,\"#9c179e\"],[0.4444444444444444,\"#bd3786\"],[0.5555555555555556,\"#d8576b\"],[0.6666666666666666,\"#ed7953\"],[0.7777777777777778,\"#fb9f3a\"],[0.8888888888888888,\"#fdca26\"],[1.0,\"#f0f921\"]],\"sequentialminus\":[[0.0,\"#0d0887\"],[0.1111111111111111,\"#46039f\"],[0.2222222222222222,\"#7201a8\"],[0.3333333333333333,\"#9c179e\"],[0.4444444444444444,\"#bd3786\"],[0.5555555555555556,\"#d8576b\"],[0.6666666666666666,\"#ed7953\"],[0.7777777777777778,\"#fb9f3a\"],[0.8888888888888888,\"#fdca26\"],[1.0,\"#f0f921\"]]},\"colorway\":[\"#636efa\",\"#EF553B\",\"#00cc96\",\"#ab63fa\",\"#FFA15A\",\"#19d3f3\",\"#FF6692\",\"#B6E880\",\"#FF97FF\",\"#FECB52\"],\"font\":{\"color\":\"#2a3f5f\"},\"geo\":{\"bgcolor\":\"white\",\"lakecolor\":\"white\",\"landcolor\":\"#E5ECF6\",\"showlakes\":true,\"showland\":true,\"subunitcolor\":\"white\"},\"hoverlabel\":{\"align\":\"left\"},\"hovermode\":\"closest\",\"mapbox\":{\"style\":\"light\"},\"paper_bgcolor\":\"white\",\"plot_bgcolor\":\"#E5ECF6\",\"polar\":{\"angularaxis\":{\"gridcolor\":\"white\",\"linecolor\":\"white\",\"ticks\":\"\"},\"bgcolor\":\"#E5ECF6\",\"radialaxis\":{\"gridcolor\":\"white\",\"linecolor\":\"white\",\"ticks\":\"\"}},\"scene\":{\"xaxis\":{\"backgroundcolor\":\"#E5ECF6\",\"gridcolor\":\"white\",\"gridwidth\":2,\"linecolor\":\"white\",\"showbackground\":true,\"ticks\":\"\",\"zerolinecolor\":\"white\"},\"yaxis\":{\"backgroundcolor\":\"#E5ECF6\",\"gridcolor\":\"white\",\"gridwidth\":2,\"linecolor\":\"white\",\"showbackground\":true,\"ticks\":\"\",\"zerolinecolor\":\"white\"},\"zaxis\":{\"backgroundcolor\":\"#E5ECF6\",\"gridcolor\":\"white\",\"gridwidth\":2,\"linecolor\":\"white\",\"showbackground\":true,\"ticks\":\"\",\"zerolinecolor\":\"white\"}},\"shapedefaults\":{\"line\":{\"color\":\"#2a3f5f\"}},\"ternary\":{\"aaxis\":{\"gridcolor\":\"white\",\"linecolor\":\"white\",\"ticks\":\"\"},\"baxis\":{\"gridcolor\":\"white\",\"linecolor\":\"white\",\"ticks\":\"\"},\"bgcolor\":\"#E5ECF6\",\"caxis\":{\"gridcolor\":\"white\",\"linecolor\":\"white\",\"ticks\":\"\"}},\"title\":{\"x\":0.05},\"xaxis\":{\"automargin\":true,\"gridcolor\":\"white\",\"linecolor\":\"white\",\"ticks\":\"\",\"title\":{\"standoff\":15},\"zerolinecolor\":\"white\",\"zerolinewidth\":2},\"yaxis\":{\"automargin\":true,\"gridcolor\":\"white\",\"linecolor\":\"white\",\"ticks\":\"\",\"title\":{\"standoff\":15},\"zerolinecolor\":\"white\",\"zerolinewidth\":2}}},\"title\":{\"text\":\"Revenue Trend\"},\"xaxis\":{\"anchor\":\"y\",\"domain\":[0.0,1.0],\"title\":{\"text\":\"Year\"}},\"yaxis\":{\"anchor\":\"x\",\"domain\":[0.0,1.0],\"title\":{\"text\":\"Revenue\"}}},                        {\"responsive\": true}                    ).then(function(){\n",
       "                            \n",
       "var gd = document.getElementById('725aa8b3-b030-4649-a9da-9bcb2c4b3d0c');\n",
       "var x = new MutationObserver(function (mutations, observer) {{\n",
       "        var display = window.getComputedStyle(gd).display;\n",
       "        if (!display || display === 'none') {{\n",
       "            console.log([gd, 'removed!']);\n",
       "            Plotly.purge(gd);\n",
       "            observer.disconnect();\n",
       "        }}\n",
       "}});\n",
       "\n",
       "// Listen for the removal of the full notebook cells\n",
       "var notebookContainer = gd.closest('#notebook-container');\n",
       "if (notebookContainer) {{\n",
       "    x.observe(notebookContainer, {childList: true});\n",
       "}}\n",
       "\n",
       "// Listen for the clearing of the current output cell\n",
       "var outputEl = gd.closest('.output');\n",
       "if (outputEl) {{\n",
       "    x.observe(outputEl, {childList: true});\n",
       "}}\n",
       "\n",
       "                        })                };                });            </script>        </div>"
      ]
     },
     "metadata": {},
     "output_type": "display_data"
    }
   ],
   "source": [
    "#Lets have a look at the revenue across these years.\n",
    "df_year = pd.DataFrame(df3.groupby(\"Year\")[\"Revenue\"].sum())\n",
    "df_year.reset_index(inplace= True) \n",
    "fig = px.bar(df_year, x= \"Year\", y = \"Revenue\", title = \"Revenue Trend\") #Barplot for each year\n",
    "fig.show() "
   ]
  },
  {
   "cell_type": "code",
   "execution_count": 240,
   "id": "0082d63a",
   "metadata": {},
   "outputs": [
    {
     "data": {
      "application/vnd.plotly.v1+json": {
       "config": {
        "plotlyServerURL": "https://plot.ly"
       },
       "data": [
        {
         "alignmentgroup": "True",
         "hovertemplate": "Year=%{x}<br>Number of Authors=%{y}<extra></extra>",
         "legendgroup": "",
         "marker": {
          "color": "#636efa",
          "pattern": {
           "shape": ""
          }
         },
         "name": "",
         "offsetgroup": "",
         "orientation": "v",
         "showlegend": false,
         "textposition": "auto",
         "type": "bar",
         "x": [
          2015,
          2016,
          2017,
          2018,
          2019,
          2020,
          2021,
          2022,
          2023
         ],
         "xaxis": "x",
         "y": [
          1000,
          1000,
          1000,
          1000,
          1000,
          1000,
          1000,
          1000,
          1000
         ],
         "yaxis": "y"
        }
       ],
       "layout": {
        "barmode": "relative",
        "legend": {
         "tracegroupgap": 0
        },
        "template": {
         "data": {
          "bar": [
           {
            "error_x": {
             "color": "#2a3f5f"
            },
            "error_y": {
             "color": "#2a3f5f"
            },
            "marker": {
             "line": {
              "color": "#E5ECF6",
              "width": 0.5
             },
             "pattern": {
              "fillmode": "overlay",
              "size": 10,
              "solidity": 0.2
             }
            },
            "type": "bar"
           }
          ],
          "barpolar": [
           {
            "marker": {
             "line": {
              "color": "#E5ECF6",
              "width": 0.5
             },
             "pattern": {
              "fillmode": "overlay",
              "size": 10,
              "solidity": 0.2
             }
            },
            "type": "barpolar"
           }
          ],
          "carpet": [
           {
            "aaxis": {
             "endlinecolor": "#2a3f5f",
             "gridcolor": "white",
             "linecolor": "white",
             "minorgridcolor": "white",
             "startlinecolor": "#2a3f5f"
            },
            "baxis": {
             "endlinecolor": "#2a3f5f",
             "gridcolor": "white",
             "linecolor": "white",
             "minorgridcolor": "white",
             "startlinecolor": "#2a3f5f"
            },
            "type": "carpet"
           }
          ],
          "choropleth": [
           {
            "colorbar": {
             "outlinewidth": 0,
             "ticks": ""
            },
            "type": "choropleth"
           }
          ],
          "contour": [
           {
            "colorbar": {
             "outlinewidth": 0,
             "ticks": ""
            },
            "colorscale": [
             [
              0,
              "#0d0887"
             ],
             [
              0.1111111111111111,
              "#46039f"
             ],
             [
              0.2222222222222222,
              "#7201a8"
             ],
             [
              0.3333333333333333,
              "#9c179e"
             ],
             [
              0.4444444444444444,
              "#bd3786"
             ],
             [
              0.5555555555555556,
              "#d8576b"
             ],
             [
              0.6666666666666666,
              "#ed7953"
             ],
             [
              0.7777777777777778,
              "#fb9f3a"
             ],
             [
              0.8888888888888888,
              "#fdca26"
             ],
             [
              1,
              "#f0f921"
             ]
            ],
            "type": "contour"
           }
          ],
          "contourcarpet": [
           {
            "colorbar": {
             "outlinewidth": 0,
             "ticks": ""
            },
            "type": "contourcarpet"
           }
          ],
          "heatmap": [
           {
            "colorbar": {
             "outlinewidth": 0,
             "ticks": ""
            },
            "colorscale": [
             [
              0,
              "#0d0887"
             ],
             [
              0.1111111111111111,
              "#46039f"
             ],
             [
              0.2222222222222222,
              "#7201a8"
             ],
             [
              0.3333333333333333,
              "#9c179e"
             ],
             [
              0.4444444444444444,
              "#bd3786"
             ],
             [
              0.5555555555555556,
              "#d8576b"
             ],
             [
              0.6666666666666666,
              "#ed7953"
             ],
             [
              0.7777777777777778,
              "#fb9f3a"
             ],
             [
              0.8888888888888888,
              "#fdca26"
             ],
             [
              1,
              "#f0f921"
             ]
            ],
            "type": "heatmap"
           }
          ],
          "heatmapgl": [
           {
            "colorbar": {
             "outlinewidth": 0,
             "ticks": ""
            },
            "colorscale": [
             [
              0,
              "#0d0887"
             ],
             [
              0.1111111111111111,
              "#46039f"
             ],
             [
              0.2222222222222222,
              "#7201a8"
             ],
             [
              0.3333333333333333,
              "#9c179e"
             ],
             [
              0.4444444444444444,
              "#bd3786"
             ],
             [
              0.5555555555555556,
              "#d8576b"
             ],
             [
              0.6666666666666666,
              "#ed7953"
             ],
             [
              0.7777777777777778,
              "#fb9f3a"
             ],
             [
              0.8888888888888888,
              "#fdca26"
             ],
             [
              1,
              "#f0f921"
             ]
            ],
            "type": "heatmapgl"
           }
          ],
          "histogram": [
           {
            "marker": {
             "pattern": {
              "fillmode": "overlay",
              "size": 10,
              "solidity": 0.2
             }
            },
            "type": "histogram"
           }
          ],
          "histogram2d": [
           {
            "colorbar": {
             "outlinewidth": 0,
             "ticks": ""
            },
            "colorscale": [
             [
              0,
              "#0d0887"
             ],
             [
              0.1111111111111111,
              "#46039f"
             ],
             [
              0.2222222222222222,
              "#7201a8"
             ],
             [
              0.3333333333333333,
              "#9c179e"
             ],
             [
              0.4444444444444444,
              "#bd3786"
             ],
             [
              0.5555555555555556,
              "#d8576b"
             ],
             [
              0.6666666666666666,
              "#ed7953"
             ],
             [
              0.7777777777777778,
              "#fb9f3a"
             ],
             [
              0.8888888888888888,
              "#fdca26"
             ],
             [
              1,
              "#f0f921"
             ]
            ],
            "type": "histogram2d"
           }
          ],
          "histogram2dcontour": [
           {
            "colorbar": {
             "outlinewidth": 0,
             "ticks": ""
            },
            "colorscale": [
             [
              0,
              "#0d0887"
             ],
             [
              0.1111111111111111,
              "#46039f"
             ],
             [
              0.2222222222222222,
              "#7201a8"
             ],
             [
              0.3333333333333333,
              "#9c179e"
             ],
             [
              0.4444444444444444,
              "#bd3786"
             ],
             [
              0.5555555555555556,
              "#d8576b"
             ],
             [
              0.6666666666666666,
              "#ed7953"
             ],
             [
              0.7777777777777778,
              "#fb9f3a"
             ],
             [
              0.8888888888888888,
              "#fdca26"
             ],
             [
              1,
              "#f0f921"
             ]
            ],
            "type": "histogram2dcontour"
           }
          ],
          "mesh3d": [
           {
            "colorbar": {
             "outlinewidth": 0,
             "ticks": ""
            },
            "type": "mesh3d"
           }
          ],
          "parcoords": [
           {
            "line": {
             "colorbar": {
              "outlinewidth": 0,
              "ticks": ""
             }
            },
            "type": "parcoords"
           }
          ],
          "pie": [
           {
            "automargin": true,
            "type": "pie"
           }
          ],
          "scatter": [
           {
            "marker": {
             "colorbar": {
              "outlinewidth": 0,
              "ticks": ""
             }
            },
            "type": "scatter"
           }
          ],
          "scatter3d": [
           {
            "line": {
             "colorbar": {
              "outlinewidth": 0,
              "ticks": ""
             }
            },
            "marker": {
             "colorbar": {
              "outlinewidth": 0,
              "ticks": ""
             }
            },
            "type": "scatter3d"
           }
          ],
          "scattercarpet": [
           {
            "marker": {
             "colorbar": {
              "outlinewidth": 0,
              "ticks": ""
             }
            },
            "type": "scattercarpet"
           }
          ],
          "scattergeo": [
           {
            "marker": {
             "colorbar": {
              "outlinewidth": 0,
              "ticks": ""
             }
            },
            "type": "scattergeo"
           }
          ],
          "scattergl": [
           {
            "marker": {
             "colorbar": {
              "outlinewidth": 0,
              "ticks": ""
             }
            },
            "type": "scattergl"
           }
          ],
          "scattermapbox": [
           {
            "marker": {
             "colorbar": {
              "outlinewidth": 0,
              "ticks": ""
             }
            },
            "type": "scattermapbox"
           }
          ],
          "scatterpolar": [
           {
            "marker": {
             "colorbar": {
              "outlinewidth": 0,
              "ticks": ""
             }
            },
            "type": "scatterpolar"
           }
          ],
          "scatterpolargl": [
           {
            "marker": {
             "colorbar": {
              "outlinewidth": 0,
              "ticks": ""
             }
            },
            "type": "scatterpolargl"
           }
          ],
          "scatterternary": [
           {
            "marker": {
             "colorbar": {
              "outlinewidth": 0,
              "ticks": ""
             }
            },
            "type": "scatterternary"
           }
          ],
          "surface": [
           {
            "colorbar": {
             "outlinewidth": 0,
             "ticks": ""
            },
            "colorscale": [
             [
              0,
              "#0d0887"
             ],
             [
              0.1111111111111111,
              "#46039f"
             ],
             [
              0.2222222222222222,
              "#7201a8"
             ],
             [
              0.3333333333333333,
              "#9c179e"
             ],
             [
              0.4444444444444444,
              "#bd3786"
             ],
             [
              0.5555555555555556,
              "#d8576b"
             ],
             [
              0.6666666666666666,
              "#ed7953"
             ],
             [
              0.7777777777777778,
              "#fb9f3a"
             ],
             [
              0.8888888888888888,
              "#fdca26"
             ],
             [
              1,
              "#f0f921"
             ]
            ],
            "type": "surface"
           }
          ],
          "table": [
           {
            "cells": {
             "fill": {
              "color": "#EBF0F8"
             },
             "line": {
              "color": "white"
             }
            },
            "header": {
             "fill": {
              "color": "#C8D4E3"
             },
             "line": {
              "color": "white"
             }
            },
            "type": "table"
           }
          ]
         },
         "layout": {
          "annotationdefaults": {
           "arrowcolor": "#2a3f5f",
           "arrowhead": 0,
           "arrowwidth": 1
          },
          "autotypenumbers": "strict",
          "coloraxis": {
           "colorbar": {
            "outlinewidth": 0,
            "ticks": ""
           }
          },
          "colorscale": {
           "diverging": [
            [
             0,
             "#8e0152"
            ],
            [
             0.1,
             "#c51b7d"
            ],
            [
             0.2,
             "#de77ae"
            ],
            [
             0.3,
             "#f1b6da"
            ],
            [
             0.4,
             "#fde0ef"
            ],
            [
             0.5,
             "#f7f7f7"
            ],
            [
             0.6,
             "#e6f5d0"
            ],
            [
             0.7,
             "#b8e186"
            ],
            [
             0.8,
             "#7fbc41"
            ],
            [
             0.9,
             "#4d9221"
            ],
            [
             1,
             "#276419"
            ]
           ],
           "sequential": [
            [
             0,
             "#0d0887"
            ],
            [
             0.1111111111111111,
             "#46039f"
            ],
            [
             0.2222222222222222,
             "#7201a8"
            ],
            [
             0.3333333333333333,
             "#9c179e"
            ],
            [
             0.4444444444444444,
             "#bd3786"
            ],
            [
             0.5555555555555556,
             "#d8576b"
            ],
            [
             0.6666666666666666,
             "#ed7953"
            ],
            [
             0.7777777777777778,
             "#fb9f3a"
            ],
            [
             0.8888888888888888,
             "#fdca26"
            ],
            [
             1,
             "#f0f921"
            ]
           ],
           "sequentialminus": [
            [
             0,
             "#0d0887"
            ],
            [
             0.1111111111111111,
             "#46039f"
            ],
            [
             0.2222222222222222,
             "#7201a8"
            ],
            [
             0.3333333333333333,
             "#9c179e"
            ],
            [
             0.4444444444444444,
             "#bd3786"
            ],
            [
             0.5555555555555556,
             "#d8576b"
            ],
            [
             0.6666666666666666,
             "#ed7953"
            ],
            [
             0.7777777777777778,
             "#fb9f3a"
            ],
            [
             0.8888888888888888,
             "#fdca26"
            ],
            [
             1,
             "#f0f921"
            ]
           ]
          },
          "colorway": [
           "#636efa",
           "#EF553B",
           "#00cc96",
           "#ab63fa",
           "#FFA15A",
           "#19d3f3",
           "#FF6692",
           "#B6E880",
           "#FF97FF",
           "#FECB52"
          ],
          "font": {
           "color": "#2a3f5f"
          },
          "geo": {
           "bgcolor": "white",
           "lakecolor": "white",
           "landcolor": "#E5ECF6",
           "showlakes": true,
           "showland": true,
           "subunitcolor": "white"
          },
          "hoverlabel": {
           "align": "left"
          },
          "hovermode": "closest",
          "mapbox": {
           "style": "light"
          },
          "paper_bgcolor": "white",
          "plot_bgcolor": "#E5ECF6",
          "polar": {
           "angularaxis": {
            "gridcolor": "white",
            "linecolor": "white",
            "ticks": ""
           },
           "bgcolor": "#E5ECF6",
           "radialaxis": {
            "gridcolor": "white",
            "linecolor": "white",
            "ticks": ""
           }
          },
          "scene": {
           "xaxis": {
            "backgroundcolor": "#E5ECF6",
            "gridcolor": "white",
            "gridwidth": 2,
            "linecolor": "white",
            "showbackground": true,
            "ticks": "",
            "zerolinecolor": "white"
           },
           "yaxis": {
            "backgroundcolor": "#E5ECF6",
            "gridcolor": "white",
            "gridwidth": 2,
            "linecolor": "white",
            "showbackground": true,
            "ticks": "",
            "zerolinecolor": "white"
           },
           "zaxis": {
            "backgroundcolor": "#E5ECF6",
            "gridcolor": "white",
            "gridwidth": 2,
            "linecolor": "white",
            "showbackground": true,
            "ticks": "",
            "zerolinecolor": "white"
           }
          },
          "shapedefaults": {
           "line": {
            "color": "#2a3f5f"
           }
          },
          "ternary": {
           "aaxis": {
            "gridcolor": "white",
            "linecolor": "white",
            "ticks": ""
           },
           "baxis": {
            "gridcolor": "white",
            "linecolor": "white",
            "ticks": ""
           },
           "bgcolor": "#E5ECF6",
           "caxis": {
            "gridcolor": "white",
            "linecolor": "white",
            "ticks": ""
           }
          },
          "title": {
           "x": 0.05
          },
          "xaxis": {
           "automargin": true,
           "gridcolor": "white",
           "linecolor": "white",
           "ticks": "",
           "title": {
            "standoff": 15
           },
           "zerolinecolor": "white",
           "zerolinewidth": 2
          },
          "yaxis": {
           "automargin": true,
           "gridcolor": "white",
           "linecolor": "white",
           "ticks": "",
           "title": {
            "standoff": 15
           },
           "zerolinecolor": "white",
           "zerolinewidth": 2
          }
         }
        },
        "title": {
         "text": "Number of Authors per year"
        },
        "xaxis": {
         "anchor": "y",
         "domain": [
          0,
          1
         ],
         "title": {
          "text": "Year"
         }
        },
        "yaxis": {
         "anchor": "x",
         "domain": [
          0,
          1
         ],
         "title": {
          "text": "Number of Authors"
         }
        }
       }
      },
      "text/html": [
       "<div>                            <div id=\"c3358709-4b3e-4aa0-a81b-cc19e70d511d\" class=\"plotly-graph-div\" style=\"height:525px; width:100%;\"></div>            <script type=\"text/javascript\">                require([\"plotly\"], function(Plotly) {                    window.PLOTLYENV=window.PLOTLYENV || {};                                    if (document.getElementById(\"c3358709-4b3e-4aa0-a81b-cc19e70d511d\")) {                    Plotly.newPlot(                        \"c3358709-4b3e-4aa0-a81b-cc19e70d511d\",                        [{\"alignmentgroup\":\"True\",\"hovertemplate\":\"Year=%{x}<br>Number of Authors=%{y}<extra></extra>\",\"legendgroup\":\"\",\"marker\":{\"color\":\"#636efa\",\"pattern\":{\"shape\":\"\"}},\"name\":\"\",\"offsetgroup\":\"\",\"orientation\":\"v\",\"showlegend\":false,\"textposition\":\"auto\",\"type\":\"bar\",\"x\":[2015,2016,2017,2018,2019,2020,2021,2022,2023],\"xaxis\":\"x\",\"y\":[1000,1000,1000,1000,1000,1000,1000,1000,1000],\"yaxis\":\"y\"}],                        {\"barmode\":\"relative\",\"legend\":{\"tracegroupgap\":0},\"template\":{\"data\":{\"bar\":[{\"error_x\":{\"color\":\"#2a3f5f\"},\"error_y\":{\"color\":\"#2a3f5f\"},\"marker\":{\"line\":{\"color\":\"#E5ECF6\",\"width\":0.5},\"pattern\":{\"fillmode\":\"overlay\",\"size\":10,\"solidity\":0.2}},\"type\":\"bar\"}],\"barpolar\":[{\"marker\":{\"line\":{\"color\":\"#E5ECF6\",\"width\":0.5},\"pattern\":{\"fillmode\":\"overlay\",\"size\":10,\"solidity\":0.2}},\"type\":\"barpolar\"}],\"carpet\":[{\"aaxis\":{\"endlinecolor\":\"#2a3f5f\",\"gridcolor\":\"white\",\"linecolor\":\"white\",\"minorgridcolor\":\"white\",\"startlinecolor\":\"#2a3f5f\"},\"baxis\":{\"endlinecolor\":\"#2a3f5f\",\"gridcolor\":\"white\",\"linecolor\":\"white\",\"minorgridcolor\":\"white\",\"startlinecolor\":\"#2a3f5f\"},\"type\":\"carpet\"}],\"choropleth\":[{\"colorbar\":{\"outlinewidth\":0,\"ticks\":\"\"},\"type\":\"choropleth\"}],\"contour\":[{\"colorbar\":{\"outlinewidth\":0,\"ticks\":\"\"},\"colorscale\":[[0.0,\"#0d0887\"],[0.1111111111111111,\"#46039f\"],[0.2222222222222222,\"#7201a8\"],[0.3333333333333333,\"#9c179e\"],[0.4444444444444444,\"#bd3786\"],[0.5555555555555556,\"#d8576b\"],[0.6666666666666666,\"#ed7953\"],[0.7777777777777778,\"#fb9f3a\"],[0.8888888888888888,\"#fdca26\"],[1.0,\"#f0f921\"]],\"type\":\"contour\"}],\"contourcarpet\":[{\"colorbar\":{\"outlinewidth\":0,\"ticks\":\"\"},\"type\":\"contourcarpet\"}],\"heatmap\":[{\"colorbar\":{\"outlinewidth\":0,\"ticks\":\"\"},\"colorscale\":[[0.0,\"#0d0887\"],[0.1111111111111111,\"#46039f\"],[0.2222222222222222,\"#7201a8\"],[0.3333333333333333,\"#9c179e\"],[0.4444444444444444,\"#bd3786\"],[0.5555555555555556,\"#d8576b\"],[0.6666666666666666,\"#ed7953\"],[0.7777777777777778,\"#fb9f3a\"],[0.8888888888888888,\"#fdca26\"],[1.0,\"#f0f921\"]],\"type\":\"heatmap\"}],\"heatmapgl\":[{\"colorbar\":{\"outlinewidth\":0,\"ticks\":\"\"},\"colorscale\":[[0.0,\"#0d0887\"],[0.1111111111111111,\"#46039f\"],[0.2222222222222222,\"#7201a8\"],[0.3333333333333333,\"#9c179e\"],[0.4444444444444444,\"#bd3786\"],[0.5555555555555556,\"#d8576b\"],[0.6666666666666666,\"#ed7953\"],[0.7777777777777778,\"#fb9f3a\"],[0.8888888888888888,\"#fdca26\"],[1.0,\"#f0f921\"]],\"type\":\"heatmapgl\"}],\"histogram\":[{\"marker\":{\"pattern\":{\"fillmode\":\"overlay\",\"size\":10,\"solidity\":0.2}},\"type\":\"histogram\"}],\"histogram2d\":[{\"colorbar\":{\"outlinewidth\":0,\"ticks\":\"\"},\"colorscale\":[[0.0,\"#0d0887\"],[0.1111111111111111,\"#46039f\"],[0.2222222222222222,\"#7201a8\"],[0.3333333333333333,\"#9c179e\"],[0.4444444444444444,\"#bd3786\"],[0.5555555555555556,\"#d8576b\"],[0.6666666666666666,\"#ed7953\"],[0.7777777777777778,\"#fb9f3a\"],[0.8888888888888888,\"#fdca26\"],[1.0,\"#f0f921\"]],\"type\":\"histogram2d\"}],\"histogram2dcontour\":[{\"colorbar\":{\"outlinewidth\":0,\"ticks\":\"\"},\"colorscale\":[[0.0,\"#0d0887\"],[0.1111111111111111,\"#46039f\"],[0.2222222222222222,\"#7201a8\"],[0.3333333333333333,\"#9c179e\"],[0.4444444444444444,\"#bd3786\"],[0.5555555555555556,\"#d8576b\"],[0.6666666666666666,\"#ed7953\"],[0.7777777777777778,\"#fb9f3a\"],[0.8888888888888888,\"#fdca26\"],[1.0,\"#f0f921\"]],\"type\":\"histogram2dcontour\"}],\"mesh3d\":[{\"colorbar\":{\"outlinewidth\":0,\"ticks\":\"\"},\"type\":\"mesh3d\"}],\"parcoords\":[{\"line\":{\"colorbar\":{\"outlinewidth\":0,\"ticks\":\"\"}},\"type\":\"parcoords\"}],\"pie\":[{\"automargin\":true,\"type\":\"pie\"}],\"scatter\":[{\"marker\":{\"colorbar\":{\"outlinewidth\":0,\"ticks\":\"\"}},\"type\":\"scatter\"}],\"scatter3d\":[{\"line\":{\"colorbar\":{\"outlinewidth\":0,\"ticks\":\"\"}},\"marker\":{\"colorbar\":{\"outlinewidth\":0,\"ticks\":\"\"}},\"type\":\"scatter3d\"}],\"scattercarpet\":[{\"marker\":{\"colorbar\":{\"outlinewidth\":0,\"ticks\":\"\"}},\"type\":\"scattercarpet\"}],\"scattergeo\":[{\"marker\":{\"colorbar\":{\"outlinewidth\":0,\"ticks\":\"\"}},\"type\":\"scattergeo\"}],\"scattergl\":[{\"marker\":{\"colorbar\":{\"outlinewidth\":0,\"ticks\":\"\"}},\"type\":\"scattergl\"}],\"scattermapbox\":[{\"marker\":{\"colorbar\":{\"outlinewidth\":0,\"ticks\":\"\"}},\"type\":\"scattermapbox\"}],\"scatterpolar\":[{\"marker\":{\"colorbar\":{\"outlinewidth\":0,\"ticks\":\"\"}},\"type\":\"scatterpolar\"}],\"scatterpolargl\":[{\"marker\":{\"colorbar\":{\"outlinewidth\":0,\"ticks\":\"\"}},\"type\":\"scatterpolargl\"}],\"scatterternary\":[{\"marker\":{\"colorbar\":{\"outlinewidth\":0,\"ticks\":\"\"}},\"type\":\"scatterternary\"}],\"surface\":[{\"colorbar\":{\"outlinewidth\":0,\"ticks\":\"\"},\"colorscale\":[[0.0,\"#0d0887\"],[0.1111111111111111,\"#46039f\"],[0.2222222222222222,\"#7201a8\"],[0.3333333333333333,\"#9c179e\"],[0.4444444444444444,\"#bd3786\"],[0.5555555555555556,\"#d8576b\"],[0.6666666666666666,\"#ed7953\"],[0.7777777777777778,\"#fb9f3a\"],[0.8888888888888888,\"#fdca26\"],[1.0,\"#f0f921\"]],\"type\":\"surface\"}],\"table\":[{\"cells\":{\"fill\":{\"color\":\"#EBF0F8\"},\"line\":{\"color\":\"white\"}},\"header\":{\"fill\":{\"color\":\"#C8D4E3\"},\"line\":{\"color\":\"white\"}},\"type\":\"table\"}]},\"layout\":{\"annotationdefaults\":{\"arrowcolor\":\"#2a3f5f\",\"arrowhead\":0,\"arrowwidth\":1},\"autotypenumbers\":\"strict\",\"coloraxis\":{\"colorbar\":{\"outlinewidth\":0,\"ticks\":\"\"}},\"colorscale\":{\"diverging\":[[0,\"#8e0152\"],[0.1,\"#c51b7d\"],[0.2,\"#de77ae\"],[0.3,\"#f1b6da\"],[0.4,\"#fde0ef\"],[0.5,\"#f7f7f7\"],[0.6,\"#e6f5d0\"],[0.7,\"#b8e186\"],[0.8,\"#7fbc41\"],[0.9,\"#4d9221\"],[1,\"#276419\"]],\"sequential\":[[0.0,\"#0d0887\"],[0.1111111111111111,\"#46039f\"],[0.2222222222222222,\"#7201a8\"],[0.3333333333333333,\"#9c179e\"],[0.4444444444444444,\"#bd3786\"],[0.5555555555555556,\"#d8576b\"],[0.6666666666666666,\"#ed7953\"],[0.7777777777777778,\"#fb9f3a\"],[0.8888888888888888,\"#fdca26\"],[1.0,\"#f0f921\"]],\"sequentialminus\":[[0.0,\"#0d0887\"],[0.1111111111111111,\"#46039f\"],[0.2222222222222222,\"#7201a8\"],[0.3333333333333333,\"#9c179e\"],[0.4444444444444444,\"#bd3786\"],[0.5555555555555556,\"#d8576b\"],[0.6666666666666666,\"#ed7953\"],[0.7777777777777778,\"#fb9f3a\"],[0.8888888888888888,\"#fdca26\"],[1.0,\"#f0f921\"]]},\"colorway\":[\"#636efa\",\"#EF553B\",\"#00cc96\",\"#ab63fa\",\"#FFA15A\",\"#19d3f3\",\"#FF6692\",\"#B6E880\",\"#FF97FF\",\"#FECB52\"],\"font\":{\"color\":\"#2a3f5f\"},\"geo\":{\"bgcolor\":\"white\",\"lakecolor\":\"white\",\"landcolor\":\"#E5ECF6\",\"showlakes\":true,\"showland\":true,\"subunitcolor\":\"white\"},\"hoverlabel\":{\"align\":\"left\"},\"hovermode\":\"closest\",\"mapbox\":{\"style\":\"light\"},\"paper_bgcolor\":\"white\",\"plot_bgcolor\":\"#E5ECF6\",\"polar\":{\"angularaxis\":{\"gridcolor\":\"white\",\"linecolor\":\"white\",\"ticks\":\"\"},\"bgcolor\":\"#E5ECF6\",\"radialaxis\":{\"gridcolor\":\"white\",\"linecolor\":\"white\",\"ticks\":\"\"}},\"scene\":{\"xaxis\":{\"backgroundcolor\":\"#E5ECF6\",\"gridcolor\":\"white\",\"gridwidth\":2,\"linecolor\":\"white\",\"showbackground\":true,\"ticks\":\"\",\"zerolinecolor\":\"white\"},\"yaxis\":{\"backgroundcolor\":\"#E5ECF6\",\"gridcolor\":\"white\",\"gridwidth\":2,\"linecolor\":\"white\",\"showbackground\":true,\"ticks\":\"\",\"zerolinecolor\":\"white\"},\"zaxis\":{\"backgroundcolor\":\"#E5ECF6\",\"gridcolor\":\"white\",\"gridwidth\":2,\"linecolor\":\"white\",\"showbackground\":true,\"ticks\":\"\",\"zerolinecolor\":\"white\"}},\"shapedefaults\":{\"line\":{\"color\":\"#2a3f5f\"}},\"ternary\":{\"aaxis\":{\"gridcolor\":\"white\",\"linecolor\":\"white\",\"ticks\":\"\"},\"baxis\":{\"gridcolor\":\"white\",\"linecolor\":\"white\",\"ticks\":\"\"},\"bgcolor\":\"#E5ECF6\",\"caxis\":{\"gridcolor\":\"white\",\"linecolor\":\"white\",\"ticks\":\"\"}},\"title\":{\"x\":0.05},\"xaxis\":{\"automargin\":true,\"gridcolor\":\"white\",\"linecolor\":\"white\",\"ticks\":\"\",\"title\":{\"standoff\":15},\"zerolinecolor\":\"white\",\"zerolinewidth\":2},\"yaxis\":{\"automargin\":true,\"gridcolor\":\"white\",\"linecolor\":\"white\",\"ticks\":\"\",\"title\":{\"standoff\":15},\"zerolinecolor\":\"white\",\"zerolinewidth\":2}}},\"title\":{\"text\":\"Number of Authors per year\"},\"xaxis\":{\"anchor\":\"y\",\"domain\":[0.0,1.0],\"title\":{\"text\":\"Year\"}},\"yaxis\":{\"anchor\":\"x\",\"domain\":[0.0,1.0],\"title\":{\"text\":\"Number of Authors\"}}},                        {\"responsive\": true}                    ).then(function(){\n",
       "                            \n",
       "var gd = document.getElementById('c3358709-4b3e-4aa0-a81b-cc19e70d511d');\n",
       "var x = new MutationObserver(function (mutations, observer) {{\n",
       "        var display = window.getComputedStyle(gd).display;\n",
       "        if (!display || display === 'none') {{\n",
       "            console.log([gd, 'removed!']);\n",
       "            Plotly.purge(gd);\n",
       "            observer.disconnect();\n",
       "        }}\n",
       "}});\n",
       "\n",
       "// Listen for the removal of the full notebook cells\n",
       "var notebookContainer = gd.closest('#notebook-container');\n",
       "if (notebookContainer) {{\n",
       "    x.observe(notebookContainer, {childList: true});\n",
       "}}\n",
       "\n",
       "// Listen for the clearing of the current output cell\n",
       "var outputEl = gd.closest('.output');\n",
       "if (outputEl) {{\n",
       "    x.observe(outputEl, {childList: true});\n",
       "}}\n",
       "\n",
       "                        })                };                });            </script>        </div>"
      ]
     },
     "metadata": {},
     "output_type": "display_data"
    }
   ],
   "source": [
    "#Number of authors each year \n",
    "authors_per_year = pd.DataFrame(df3.groupby(\"Year\")[\"AuthorID\"].nunique())\n",
    "authors_per_year.reset_index(inplace = True)\n",
    "fig = px.bar(authors_per_year, x = \"Year\", y = \"AuthorID\", title = \"Number of Authors per year\", labels= {\"AuthorID\":\"Number of Authors\"})\n",
    "fig.show()"
   ]
  },
  {
   "cell_type": "code",
   "execution_count": 244,
   "id": "61a5b134",
   "metadata": {},
   "outputs": [],
   "source": [
    "authors_per_year.columns = [\"Year\",\"No. of Authors\"]"
   ]
  },
  {
   "cell_type": "code",
   "execution_count": 245,
   "id": "b2efde9f",
   "metadata": {},
   "outputs": [
    {
     "data": {
      "text/html": [
       "<div>\n",
       "<style scoped>\n",
       "    .dataframe tbody tr th:only-of-type {\n",
       "        vertical-align: middle;\n",
       "    }\n",
       "\n",
       "    .dataframe tbody tr th {\n",
       "        vertical-align: top;\n",
       "    }\n",
       "\n",
       "    .dataframe thead th {\n",
       "        text-align: right;\n",
       "    }\n",
       "</style>\n",
       "<table border=\"1\" class=\"dataframe\">\n",
       "  <thead>\n",
       "    <tr style=\"text-align: right;\">\n",
       "      <th></th>\n",
       "      <th>Year</th>\n",
       "      <th>No. of Authors</th>\n",
       "    </tr>\n",
       "  </thead>\n",
       "  <tbody>\n",
       "    <tr>\n",
       "      <th>0</th>\n",
       "      <td>2015</td>\n",
       "      <td>1000</td>\n",
       "    </tr>\n",
       "    <tr>\n",
       "      <th>1</th>\n",
       "      <td>2016</td>\n",
       "      <td>1000</td>\n",
       "    </tr>\n",
       "    <tr>\n",
       "      <th>2</th>\n",
       "      <td>2017</td>\n",
       "      <td>1000</td>\n",
       "    </tr>\n",
       "    <tr>\n",
       "      <th>3</th>\n",
       "      <td>2018</td>\n",
       "      <td>1000</td>\n",
       "    </tr>\n",
       "    <tr>\n",
       "      <th>4</th>\n",
       "      <td>2019</td>\n",
       "      <td>1000</td>\n",
       "    </tr>\n",
       "    <tr>\n",
       "      <th>5</th>\n",
       "      <td>2020</td>\n",
       "      <td>1000</td>\n",
       "    </tr>\n",
       "    <tr>\n",
       "      <th>6</th>\n",
       "      <td>2021</td>\n",
       "      <td>1000</td>\n",
       "    </tr>\n",
       "    <tr>\n",
       "      <th>7</th>\n",
       "      <td>2022</td>\n",
       "      <td>1000</td>\n",
       "    </tr>\n",
       "    <tr>\n",
       "      <th>8</th>\n",
       "      <td>2023</td>\n",
       "      <td>1000</td>\n",
       "    </tr>\n",
       "  </tbody>\n",
       "</table>\n",
       "</div>"
      ],
      "text/plain": [
       "   Year  No. of Authors\n",
       "0  2015            1000\n",
       "1  2016            1000\n",
       "2  2017            1000\n",
       "3  2018            1000\n",
       "4  2019            1000\n",
       "5  2020            1000\n",
       "6  2021            1000\n",
       "7  2022            1000\n",
       "8  2023            1000"
      ]
     },
     "execution_count": 245,
     "metadata": {},
     "output_type": "execute_result"
    }
   ],
   "source": [
    "authors_per_year "
   ]
  },
  {
   "cell_type": "code",
   "execution_count": 251,
   "id": "f99e8d14",
   "metadata": {},
   "outputs": [
    {
     "data": {
      "text/html": [
       "<div>\n",
       "<style scoped>\n",
       "    .dataframe tbody tr th:only-of-type {\n",
       "        vertical-align: middle;\n",
       "    }\n",
       "\n",
       "    .dataframe tbody tr th {\n",
       "        vertical-align: top;\n",
       "    }\n",
       "\n",
       "    .dataframe thead th {\n",
       "        text-align: right;\n",
       "    }\n",
       "</style>\n",
       "<table border=\"1\" class=\"dataframe\">\n",
       "  <thead>\n",
       "    <tr style=\"text-align: right;\">\n",
       "      <th></th>\n",
       "      <th>Year</th>\n",
       "      <th>No. of Songs</th>\n",
       "    </tr>\n",
       "  </thead>\n",
       "  <tbody>\n",
       "    <tr>\n",
       "      <th>0</th>\n",
       "      <td>2015</td>\n",
       "      <td>6545</td>\n",
       "    </tr>\n",
       "    <tr>\n",
       "      <th>1</th>\n",
       "      <td>2016</td>\n",
       "      <td>6545</td>\n",
       "    </tr>\n",
       "    <tr>\n",
       "      <th>2</th>\n",
       "      <td>2017</td>\n",
       "      <td>6545</td>\n",
       "    </tr>\n",
       "    <tr>\n",
       "      <th>3</th>\n",
       "      <td>2018</td>\n",
       "      <td>6545</td>\n",
       "    </tr>\n",
       "    <tr>\n",
       "      <th>4</th>\n",
       "      <td>2019</td>\n",
       "      <td>6545</td>\n",
       "    </tr>\n",
       "    <tr>\n",
       "      <th>5</th>\n",
       "      <td>2020</td>\n",
       "      <td>6545</td>\n",
       "    </tr>\n",
       "    <tr>\n",
       "      <th>6</th>\n",
       "      <td>2021</td>\n",
       "      <td>6545</td>\n",
       "    </tr>\n",
       "    <tr>\n",
       "      <th>7</th>\n",
       "      <td>2022</td>\n",
       "      <td>6545</td>\n",
       "    </tr>\n",
       "    <tr>\n",
       "      <th>8</th>\n",
       "      <td>2023</td>\n",
       "      <td>6545</td>\n",
       "    </tr>\n",
       "  </tbody>\n",
       "</table>\n",
       "</div>"
      ],
      "text/plain": [
       "   Year  No. of Songs\n",
       "0  2015          6545\n",
       "1  2016          6545\n",
       "2  2017          6545\n",
       "3  2018          6545\n",
       "4  2019          6545\n",
       "5  2020          6545\n",
       "6  2021          6545\n",
       "7  2022          6545\n",
       "8  2023          6545"
      ]
     },
     "execution_count": 251,
     "metadata": {},
     "output_type": "execute_result"
    }
   ],
   "source": [
    "#Songs per year\n",
    "songs_per_year = pd.DataFrame(df3.groupby(\"Year\")[\"SongID\"].nunique())\n",
    "songs_per_year.reset_index(inplace = True)\n",
    "songs_per_year.columns = [\"Year\",\"No. of Songs\"]\n",
    "songs_per_year"
   ]
  },
  {
   "cell_type": "code",
   "execution_count": 253,
   "id": "28ed95ef",
   "metadata": {},
   "outputs": [
    {
     "data": {
      "application/vnd.plotly.v1+json": {
       "config": {
        "plotlyServerURL": "https://plot.ly"
       },
       "data": [
        {
         "alignmentgroup": "True",
         "hovertemplate": "Year=%{x}<br>No. of Songs=%{y}<extra></extra>",
         "legendgroup": "",
         "marker": {
          "color": "#636efa",
          "pattern": {
           "shape": ""
          }
         },
         "name": "",
         "offsetgroup": "",
         "orientation": "v",
         "showlegend": false,
         "textposition": "auto",
         "type": "bar",
         "x": [
          2015,
          2016,
          2017,
          2018,
          2019,
          2020,
          2021,
          2022,
          2023
         ],
         "xaxis": "x",
         "y": [
          6545,
          6545,
          6545,
          6545,
          6545,
          6545,
          6545,
          6545,
          6545
         ],
         "yaxis": "y"
        }
       ],
       "layout": {
        "barmode": "relative",
        "legend": {
         "tracegroupgap": 0
        },
        "template": {
         "data": {
          "bar": [
           {
            "error_x": {
             "color": "#2a3f5f"
            },
            "error_y": {
             "color": "#2a3f5f"
            },
            "marker": {
             "line": {
              "color": "#E5ECF6",
              "width": 0.5
             },
             "pattern": {
              "fillmode": "overlay",
              "size": 10,
              "solidity": 0.2
             }
            },
            "type": "bar"
           }
          ],
          "barpolar": [
           {
            "marker": {
             "line": {
              "color": "#E5ECF6",
              "width": 0.5
             },
             "pattern": {
              "fillmode": "overlay",
              "size": 10,
              "solidity": 0.2
             }
            },
            "type": "barpolar"
           }
          ],
          "carpet": [
           {
            "aaxis": {
             "endlinecolor": "#2a3f5f",
             "gridcolor": "white",
             "linecolor": "white",
             "minorgridcolor": "white",
             "startlinecolor": "#2a3f5f"
            },
            "baxis": {
             "endlinecolor": "#2a3f5f",
             "gridcolor": "white",
             "linecolor": "white",
             "minorgridcolor": "white",
             "startlinecolor": "#2a3f5f"
            },
            "type": "carpet"
           }
          ],
          "choropleth": [
           {
            "colorbar": {
             "outlinewidth": 0,
             "ticks": ""
            },
            "type": "choropleth"
           }
          ],
          "contour": [
           {
            "colorbar": {
             "outlinewidth": 0,
             "ticks": ""
            },
            "colorscale": [
             [
              0,
              "#0d0887"
             ],
             [
              0.1111111111111111,
              "#46039f"
             ],
             [
              0.2222222222222222,
              "#7201a8"
             ],
             [
              0.3333333333333333,
              "#9c179e"
             ],
             [
              0.4444444444444444,
              "#bd3786"
             ],
             [
              0.5555555555555556,
              "#d8576b"
             ],
             [
              0.6666666666666666,
              "#ed7953"
             ],
             [
              0.7777777777777778,
              "#fb9f3a"
             ],
             [
              0.8888888888888888,
              "#fdca26"
             ],
             [
              1,
              "#f0f921"
             ]
            ],
            "type": "contour"
           }
          ],
          "contourcarpet": [
           {
            "colorbar": {
             "outlinewidth": 0,
             "ticks": ""
            },
            "type": "contourcarpet"
           }
          ],
          "heatmap": [
           {
            "colorbar": {
             "outlinewidth": 0,
             "ticks": ""
            },
            "colorscale": [
             [
              0,
              "#0d0887"
             ],
             [
              0.1111111111111111,
              "#46039f"
             ],
             [
              0.2222222222222222,
              "#7201a8"
             ],
             [
              0.3333333333333333,
              "#9c179e"
             ],
             [
              0.4444444444444444,
              "#bd3786"
             ],
             [
              0.5555555555555556,
              "#d8576b"
             ],
             [
              0.6666666666666666,
              "#ed7953"
             ],
             [
              0.7777777777777778,
              "#fb9f3a"
             ],
             [
              0.8888888888888888,
              "#fdca26"
             ],
             [
              1,
              "#f0f921"
             ]
            ],
            "type": "heatmap"
           }
          ],
          "heatmapgl": [
           {
            "colorbar": {
             "outlinewidth": 0,
             "ticks": ""
            },
            "colorscale": [
             [
              0,
              "#0d0887"
             ],
             [
              0.1111111111111111,
              "#46039f"
             ],
             [
              0.2222222222222222,
              "#7201a8"
             ],
             [
              0.3333333333333333,
              "#9c179e"
             ],
             [
              0.4444444444444444,
              "#bd3786"
             ],
             [
              0.5555555555555556,
              "#d8576b"
             ],
             [
              0.6666666666666666,
              "#ed7953"
             ],
             [
              0.7777777777777778,
              "#fb9f3a"
             ],
             [
              0.8888888888888888,
              "#fdca26"
             ],
             [
              1,
              "#f0f921"
             ]
            ],
            "type": "heatmapgl"
           }
          ],
          "histogram": [
           {
            "marker": {
             "pattern": {
              "fillmode": "overlay",
              "size": 10,
              "solidity": 0.2
             }
            },
            "type": "histogram"
           }
          ],
          "histogram2d": [
           {
            "colorbar": {
             "outlinewidth": 0,
             "ticks": ""
            },
            "colorscale": [
             [
              0,
              "#0d0887"
             ],
             [
              0.1111111111111111,
              "#46039f"
             ],
             [
              0.2222222222222222,
              "#7201a8"
             ],
             [
              0.3333333333333333,
              "#9c179e"
             ],
             [
              0.4444444444444444,
              "#bd3786"
             ],
             [
              0.5555555555555556,
              "#d8576b"
             ],
             [
              0.6666666666666666,
              "#ed7953"
             ],
             [
              0.7777777777777778,
              "#fb9f3a"
             ],
             [
              0.8888888888888888,
              "#fdca26"
             ],
             [
              1,
              "#f0f921"
             ]
            ],
            "type": "histogram2d"
           }
          ],
          "histogram2dcontour": [
           {
            "colorbar": {
             "outlinewidth": 0,
             "ticks": ""
            },
            "colorscale": [
             [
              0,
              "#0d0887"
             ],
             [
              0.1111111111111111,
              "#46039f"
             ],
             [
              0.2222222222222222,
              "#7201a8"
             ],
             [
              0.3333333333333333,
              "#9c179e"
             ],
             [
              0.4444444444444444,
              "#bd3786"
             ],
             [
              0.5555555555555556,
              "#d8576b"
             ],
             [
              0.6666666666666666,
              "#ed7953"
             ],
             [
              0.7777777777777778,
              "#fb9f3a"
             ],
             [
              0.8888888888888888,
              "#fdca26"
             ],
             [
              1,
              "#f0f921"
             ]
            ],
            "type": "histogram2dcontour"
           }
          ],
          "mesh3d": [
           {
            "colorbar": {
             "outlinewidth": 0,
             "ticks": ""
            },
            "type": "mesh3d"
           }
          ],
          "parcoords": [
           {
            "line": {
             "colorbar": {
              "outlinewidth": 0,
              "ticks": ""
             }
            },
            "type": "parcoords"
           }
          ],
          "pie": [
           {
            "automargin": true,
            "type": "pie"
           }
          ],
          "scatter": [
           {
            "marker": {
             "colorbar": {
              "outlinewidth": 0,
              "ticks": ""
             }
            },
            "type": "scatter"
           }
          ],
          "scatter3d": [
           {
            "line": {
             "colorbar": {
              "outlinewidth": 0,
              "ticks": ""
             }
            },
            "marker": {
             "colorbar": {
              "outlinewidth": 0,
              "ticks": ""
             }
            },
            "type": "scatter3d"
           }
          ],
          "scattercarpet": [
           {
            "marker": {
             "colorbar": {
              "outlinewidth": 0,
              "ticks": ""
             }
            },
            "type": "scattercarpet"
           }
          ],
          "scattergeo": [
           {
            "marker": {
             "colorbar": {
              "outlinewidth": 0,
              "ticks": ""
             }
            },
            "type": "scattergeo"
           }
          ],
          "scattergl": [
           {
            "marker": {
             "colorbar": {
              "outlinewidth": 0,
              "ticks": ""
             }
            },
            "type": "scattergl"
           }
          ],
          "scattermapbox": [
           {
            "marker": {
             "colorbar": {
              "outlinewidth": 0,
              "ticks": ""
             }
            },
            "type": "scattermapbox"
           }
          ],
          "scatterpolar": [
           {
            "marker": {
             "colorbar": {
              "outlinewidth": 0,
              "ticks": ""
             }
            },
            "type": "scatterpolar"
           }
          ],
          "scatterpolargl": [
           {
            "marker": {
             "colorbar": {
              "outlinewidth": 0,
              "ticks": ""
             }
            },
            "type": "scatterpolargl"
           }
          ],
          "scatterternary": [
           {
            "marker": {
             "colorbar": {
              "outlinewidth": 0,
              "ticks": ""
             }
            },
            "type": "scatterternary"
           }
          ],
          "surface": [
           {
            "colorbar": {
             "outlinewidth": 0,
             "ticks": ""
            },
            "colorscale": [
             [
              0,
              "#0d0887"
             ],
             [
              0.1111111111111111,
              "#46039f"
             ],
             [
              0.2222222222222222,
              "#7201a8"
             ],
             [
              0.3333333333333333,
              "#9c179e"
             ],
             [
              0.4444444444444444,
              "#bd3786"
             ],
             [
              0.5555555555555556,
              "#d8576b"
             ],
             [
              0.6666666666666666,
              "#ed7953"
             ],
             [
              0.7777777777777778,
              "#fb9f3a"
             ],
             [
              0.8888888888888888,
              "#fdca26"
             ],
             [
              1,
              "#f0f921"
             ]
            ],
            "type": "surface"
           }
          ],
          "table": [
           {
            "cells": {
             "fill": {
              "color": "#EBF0F8"
             },
             "line": {
              "color": "white"
             }
            },
            "header": {
             "fill": {
              "color": "#C8D4E3"
             },
             "line": {
              "color": "white"
             }
            },
            "type": "table"
           }
          ]
         },
         "layout": {
          "annotationdefaults": {
           "arrowcolor": "#2a3f5f",
           "arrowhead": 0,
           "arrowwidth": 1
          },
          "autotypenumbers": "strict",
          "coloraxis": {
           "colorbar": {
            "outlinewidth": 0,
            "ticks": ""
           }
          },
          "colorscale": {
           "diverging": [
            [
             0,
             "#8e0152"
            ],
            [
             0.1,
             "#c51b7d"
            ],
            [
             0.2,
             "#de77ae"
            ],
            [
             0.3,
             "#f1b6da"
            ],
            [
             0.4,
             "#fde0ef"
            ],
            [
             0.5,
             "#f7f7f7"
            ],
            [
             0.6,
             "#e6f5d0"
            ],
            [
             0.7,
             "#b8e186"
            ],
            [
             0.8,
             "#7fbc41"
            ],
            [
             0.9,
             "#4d9221"
            ],
            [
             1,
             "#276419"
            ]
           ],
           "sequential": [
            [
             0,
             "#0d0887"
            ],
            [
             0.1111111111111111,
             "#46039f"
            ],
            [
             0.2222222222222222,
             "#7201a8"
            ],
            [
             0.3333333333333333,
             "#9c179e"
            ],
            [
             0.4444444444444444,
             "#bd3786"
            ],
            [
             0.5555555555555556,
             "#d8576b"
            ],
            [
             0.6666666666666666,
             "#ed7953"
            ],
            [
             0.7777777777777778,
             "#fb9f3a"
            ],
            [
             0.8888888888888888,
             "#fdca26"
            ],
            [
             1,
             "#f0f921"
            ]
           ],
           "sequentialminus": [
            [
             0,
             "#0d0887"
            ],
            [
             0.1111111111111111,
             "#46039f"
            ],
            [
             0.2222222222222222,
             "#7201a8"
            ],
            [
             0.3333333333333333,
             "#9c179e"
            ],
            [
             0.4444444444444444,
             "#bd3786"
            ],
            [
             0.5555555555555556,
             "#d8576b"
            ],
            [
             0.6666666666666666,
             "#ed7953"
            ],
            [
             0.7777777777777778,
             "#fb9f3a"
            ],
            [
             0.8888888888888888,
             "#fdca26"
            ],
            [
             1,
             "#f0f921"
            ]
           ]
          },
          "colorway": [
           "#636efa",
           "#EF553B",
           "#00cc96",
           "#ab63fa",
           "#FFA15A",
           "#19d3f3",
           "#FF6692",
           "#B6E880",
           "#FF97FF",
           "#FECB52"
          ],
          "font": {
           "color": "#2a3f5f"
          },
          "geo": {
           "bgcolor": "white",
           "lakecolor": "white",
           "landcolor": "#E5ECF6",
           "showlakes": true,
           "showland": true,
           "subunitcolor": "white"
          },
          "hoverlabel": {
           "align": "left"
          },
          "hovermode": "closest",
          "mapbox": {
           "style": "light"
          },
          "paper_bgcolor": "white",
          "plot_bgcolor": "#E5ECF6",
          "polar": {
           "angularaxis": {
            "gridcolor": "white",
            "linecolor": "white",
            "ticks": ""
           },
           "bgcolor": "#E5ECF6",
           "radialaxis": {
            "gridcolor": "white",
            "linecolor": "white",
            "ticks": ""
           }
          },
          "scene": {
           "xaxis": {
            "backgroundcolor": "#E5ECF6",
            "gridcolor": "white",
            "gridwidth": 2,
            "linecolor": "white",
            "showbackground": true,
            "ticks": "",
            "zerolinecolor": "white"
           },
           "yaxis": {
            "backgroundcolor": "#E5ECF6",
            "gridcolor": "white",
            "gridwidth": 2,
            "linecolor": "white",
            "showbackground": true,
            "ticks": "",
            "zerolinecolor": "white"
           },
           "zaxis": {
            "backgroundcolor": "#E5ECF6",
            "gridcolor": "white",
            "gridwidth": 2,
            "linecolor": "white",
            "showbackground": true,
            "ticks": "",
            "zerolinecolor": "white"
           }
          },
          "shapedefaults": {
           "line": {
            "color": "#2a3f5f"
           }
          },
          "ternary": {
           "aaxis": {
            "gridcolor": "white",
            "linecolor": "white",
            "ticks": ""
           },
           "baxis": {
            "gridcolor": "white",
            "linecolor": "white",
            "ticks": ""
           },
           "bgcolor": "#E5ECF6",
           "caxis": {
            "gridcolor": "white",
            "linecolor": "white",
            "ticks": ""
           }
          },
          "title": {
           "x": 0.05
          },
          "xaxis": {
           "automargin": true,
           "gridcolor": "white",
           "linecolor": "white",
           "ticks": "",
           "title": {
            "standoff": 15
           },
           "zerolinecolor": "white",
           "zerolinewidth": 2
          },
          "yaxis": {
           "automargin": true,
           "gridcolor": "white",
           "linecolor": "white",
           "ticks": "",
           "title": {
            "standoff": 15
           },
           "zerolinecolor": "white",
           "zerolinewidth": 2
          }
         }
        },
        "title": {
         "text": "Number of songs per year"
        },
        "xaxis": {
         "anchor": "y",
         "domain": [
          0,
          1
         ],
         "title": {
          "text": "Year"
         }
        },
        "yaxis": {
         "anchor": "x",
         "domain": [
          0,
          1
         ],
         "title": {
          "text": "No. of Songs"
         }
        }
       }
      },
      "text/html": [
       "<div>                            <div id=\"23788687-aa4d-44f9-a6ef-947ffd0130e7\" class=\"plotly-graph-div\" style=\"height:525px; width:100%;\"></div>            <script type=\"text/javascript\">                require([\"plotly\"], function(Plotly) {                    window.PLOTLYENV=window.PLOTLYENV || {};                                    if (document.getElementById(\"23788687-aa4d-44f9-a6ef-947ffd0130e7\")) {                    Plotly.newPlot(                        \"23788687-aa4d-44f9-a6ef-947ffd0130e7\",                        [{\"alignmentgroup\":\"True\",\"hovertemplate\":\"Year=%{x}<br>No. of Songs=%{y}<extra></extra>\",\"legendgroup\":\"\",\"marker\":{\"color\":\"#636efa\",\"pattern\":{\"shape\":\"\"}},\"name\":\"\",\"offsetgroup\":\"\",\"orientation\":\"v\",\"showlegend\":false,\"textposition\":\"auto\",\"type\":\"bar\",\"x\":[2015,2016,2017,2018,2019,2020,2021,2022,2023],\"xaxis\":\"x\",\"y\":[6545,6545,6545,6545,6545,6545,6545,6545,6545],\"yaxis\":\"y\"}],                        {\"barmode\":\"relative\",\"legend\":{\"tracegroupgap\":0},\"template\":{\"data\":{\"bar\":[{\"error_x\":{\"color\":\"#2a3f5f\"},\"error_y\":{\"color\":\"#2a3f5f\"},\"marker\":{\"line\":{\"color\":\"#E5ECF6\",\"width\":0.5},\"pattern\":{\"fillmode\":\"overlay\",\"size\":10,\"solidity\":0.2}},\"type\":\"bar\"}],\"barpolar\":[{\"marker\":{\"line\":{\"color\":\"#E5ECF6\",\"width\":0.5},\"pattern\":{\"fillmode\":\"overlay\",\"size\":10,\"solidity\":0.2}},\"type\":\"barpolar\"}],\"carpet\":[{\"aaxis\":{\"endlinecolor\":\"#2a3f5f\",\"gridcolor\":\"white\",\"linecolor\":\"white\",\"minorgridcolor\":\"white\",\"startlinecolor\":\"#2a3f5f\"},\"baxis\":{\"endlinecolor\":\"#2a3f5f\",\"gridcolor\":\"white\",\"linecolor\":\"white\",\"minorgridcolor\":\"white\",\"startlinecolor\":\"#2a3f5f\"},\"type\":\"carpet\"}],\"choropleth\":[{\"colorbar\":{\"outlinewidth\":0,\"ticks\":\"\"},\"type\":\"choropleth\"}],\"contour\":[{\"colorbar\":{\"outlinewidth\":0,\"ticks\":\"\"},\"colorscale\":[[0.0,\"#0d0887\"],[0.1111111111111111,\"#46039f\"],[0.2222222222222222,\"#7201a8\"],[0.3333333333333333,\"#9c179e\"],[0.4444444444444444,\"#bd3786\"],[0.5555555555555556,\"#d8576b\"],[0.6666666666666666,\"#ed7953\"],[0.7777777777777778,\"#fb9f3a\"],[0.8888888888888888,\"#fdca26\"],[1.0,\"#f0f921\"]],\"type\":\"contour\"}],\"contourcarpet\":[{\"colorbar\":{\"outlinewidth\":0,\"ticks\":\"\"},\"type\":\"contourcarpet\"}],\"heatmap\":[{\"colorbar\":{\"outlinewidth\":0,\"ticks\":\"\"},\"colorscale\":[[0.0,\"#0d0887\"],[0.1111111111111111,\"#46039f\"],[0.2222222222222222,\"#7201a8\"],[0.3333333333333333,\"#9c179e\"],[0.4444444444444444,\"#bd3786\"],[0.5555555555555556,\"#d8576b\"],[0.6666666666666666,\"#ed7953\"],[0.7777777777777778,\"#fb9f3a\"],[0.8888888888888888,\"#fdca26\"],[1.0,\"#f0f921\"]],\"type\":\"heatmap\"}],\"heatmapgl\":[{\"colorbar\":{\"outlinewidth\":0,\"ticks\":\"\"},\"colorscale\":[[0.0,\"#0d0887\"],[0.1111111111111111,\"#46039f\"],[0.2222222222222222,\"#7201a8\"],[0.3333333333333333,\"#9c179e\"],[0.4444444444444444,\"#bd3786\"],[0.5555555555555556,\"#d8576b\"],[0.6666666666666666,\"#ed7953\"],[0.7777777777777778,\"#fb9f3a\"],[0.8888888888888888,\"#fdca26\"],[1.0,\"#f0f921\"]],\"type\":\"heatmapgl\"}],\"histogram\":[{\"marker\":{\"pattern\":{\"fillmode\":\"overlay\",\"size\":10,\"solidity\":0.2}},\"type\":\"histogram\"}],\"histogram2d\":[{\"colorbar\":{\"outlinewidth\":0,\"ticks\":\"\"},\"colorscale\":[[0.0,\"#0d0887\"],[0.1111111111111111,\"#46039f\"],[0.2222222222222222,\"#7201a8\"],[0.3333333333333333,\"#9c179e\"],[0.4444444444444444,\"#bd3786\"],[0.5555555555555556,\"#d8576b\"],[0.6666666666666666,\"#ed7953\"],[0.7777777777777778,\"#fb9f3a\"],[0.8888888888888888,\"#fdca26\"],[1.0,\"#f0f921\"]],\"type\":\"histogram2d\"}],\"histogram2dcontour\":[{\"colorbar\":{\"outlinewidth\":0,\"ticks\":\"\"},\"colorscale\":[[0.0,\"#0d0887\"],[0.1111111111111111,\"#46039f\"],[0.2222222222222222,\"#7201a8\"],[0.3333333333333333,\"#9c179e\"],[0.4444444444444444,\"#bd3786\"],[0.5555555555555556,\"#d8576b\"],[0.6666666666666666,\"#ed7953\"],[0.7777777777777778,\"#fb9f3a\"],[0.8888888888888888,\"#fdca26\"],[1.0,\"#f0f921\"]],\"type\":\"histogram2dcontour\"}],\"mesh3d\":[{\"colorbar\":{\"outlinewidth\":0,\"ticks\":\"\"},\"type\":\"mesh3d\"}],\"parcoords\":[{\"line\":{\"colorbar\":{\"outlinewidth\":0,\"ticks\":\"\"}},\"type\":\"parcoords\"}],\"pie\":[{\"automargin\":true,\"type\":\"pie\"}],\"scatter\":[{\"marker\":{\"colorbar\":{\"outlinewidth\":0,\"ticks\":\"\"}},\"type\":\"scatter\"}],\"scatter3d\":[{\"line\":{\"colorbar\":{\"outlinewidth\":0,\"ticks\":\"\"}},\"marker\":{\"colorbar\":{\"outlinewidth\":0,\"ticks\":\"\"}},\"type\":\"scatter3d\"}],\"scattercarpet\":[{\"marker\":{\"colorbar\":{\"outlinewidth\":0,\"ticks\":\"\"}},\"type\":\"scattercarpet\"}],\"scattergeo\":[{\"marker\":{\"colorbar\":{\"outlinewidth\":0,\"ticks\":\"\"}},\"type\":\"scattergeo\"}],\"scattergl\":[{\"marker\":{\"colorbar\":{\"outlinewidth\":0,\"ticks\":\"\"}},\"type\":\"scattergl\"}],\"scattermapbox\":[{\"marker\":{\"colorbar\":{\"outlinewidth\":0,\"ticks\":\"\"}},\"type\":\"scattermapbox\"}],\"scatterpolar\":[{\"marker\":{\"colorbar\":{\"outlinewidth\":0,\"ticks\":\"\"}},\"type\":\"scatterpolar\"}],\"scatterpolargl\":[{\"marker\":{\"colorbar\":{\"outlinewidth\":0,\"ticks\":\"\"}},\"type\":\"scatterpolargl\"}],\"scatterternary\":[{\"marker\":{\"colorbar\":{\"outlinewidth\":0,\"ticks\":\"\"}},\"type\":\"scatterternary\"}],\"surface\":[{\"colorbar\":{\"outlinewidth\":0,\"ticks\":\"\"},\"colorscale\":[[0.0,\"#0d0887\"],[0.1111111111111111,\"#46039f\"],[0.2222222222222222,\"#7201a8\"],[0.3333333333333333,\"#9c179e\"],[0.4444444444444444,\"#bd3786\"],[0.5555555555555556,\"#d8576b\"],[0.6666666666666666,\"#ed7953\"],[0.7777777777777778,\"#fb9f3a\"],[0.8888888888888888,\"#fdca26\"],[1.0,\"#f0f921\"]],\"type\":\"surface\"}],\"table\":[{\"cells\":{\"fill\":{\"color\":\"#EBF0F8\"},\"line\":{\"color\":\"white\"}},\"header\":{\"fill\":{\"color\":\"#C8D4E3\"},\"line\":{\"color\":\"white\"}},\"type\":\"table\"}]},\"layout\":{\"annotationdefaults\":{\"arrowcolor\":\"#2a3f5f\",\"arrowhead\":0,\"arrowwidth\":1},\"autotypenumbers\":\"strict\",\"coloraxis\":{\"colorbar\":{\"outlinewidth\":0,\"ticks\":\"\"}},\"colorscale\":{\"diverging\":[[0,\"#8e0152\"],[0.1,\"#c51b7d\"],[0.2,\"#de77ae\"],[0.3,\"#f1b6da\"],[0.4,\"#fde0ef\"],[0.5,\"#f7f7f7\"],[0.6,\"#e6f5d0\"],[0.7,\"#b8e186\"],[0.8,\"#7fbc41\"],[0.9,\"#4d9221\"],[1,\"#276419\"]],\"sequential\":[[0.0,\"#0d0887\"],[0.1111111111111111,\"#46039f\"],[0.2222222222222222,\"#7201a8\"],[0.3333333333333333,\"#9c179e\"],[0.4444444444444444,\"#bd3786\"],[0.5555555555555556,\"#d8576b\"],[0.6666666666666666,\"#ed7953\"],[0.7777777777777778,\"#fb9f3a\"],[0.8888888888888888,\"#fdca26\"],[1.0,\"#f0f921\"]],\"sequentialminus\":[[0.0,\"#0d0887\"],[0.1111111111111111,\"#46039f\"],[0.2222222222222222,\"#7201a8\"],[0.3333333333333333,\"#9c179e\"],[0.4444444444444444,\"#bd3786\"],[0.5555555555555556,\"#d8576b\"],[0.6666666666666666,\"#ed7953\"],[0.7777777777777778,\"#fb9f3a\"],[0.8888888888888888,\"#fdca26\"],[1.0,\"#f0f921\"]]},\"colorway\":[\"#636efa\",\"#EF553B\",\"#00cc96\",\"#ab63fa\",\"#FFA15A\",\"#19d3f3\",\"#FF6692\",\"#B6E880\",\"#FF97FF\",\"#FECB52\"],\"font\":{\"color\":\"#2a3f5f\"},\"geo\":{\"bgcolor\":\"white\",\"lakecolor\":\"white\",\"landcolor\":\"#E5ECF6\",\"showlakes\":true,\"showland\":true,\"subunitcolor\":\"white\"},\"hoverlabel\":{\"align\":\"left\"},\"hovermode\":\"closest\",\"mapbox\":{\"style\":\"light\"},\"paper_bgcolor\":\"white\",\"plot_bgcolor\":\"#E5ECF6\",\"polar\":{\"angularaxis\":{\"gridcolor\":\"white\",\"linecolor\":\"white\",\"ticks\":\"\"},\"bgcolor\":\"#E5ECF6\",\"radialaxis\":{\"gridcolor\":\"white\",\"linecolor\":\"white\",\"ticks\":\"\"}},\"scene\":{\"xaxis\":{\"backgroundcolor\":\"#E5ECF6\",\"gridcolor\":\"white\",\"gridwidth\":2,\"linecolor\":\"white\",\"showbackground\":true,\"ticks\":\"\",\"zerolinecolor\":\"white\"},\"yaxis\":{\"backgroundcolor\":\"#E5ECF6\",\"gridcolor\":\"white\",\"gridwidth\":2,\"linecolor\":\"white\",\"showbackground\":true,\"ticks\":\"\",\"zerolinecolor\":\"white\"},\"zaxis\":{\"backgroundcolor\":\"#E5ECF6\",\"gridcolor\":\"white\",\"gridwidth\":2,\"linecolor\":\"white\",\"showbackground\":true,\"ticks\":\"\",\"zerolinecolor\":\"white\"}},\"shapedefaults\":{\"line\":{\"color\":\"#2a3f5f\"}},\"ternary\":{\"aaxis\":{\"gridcolor\":\"white\",\"linecolor\":\"white\",\"ticks\":\"\"},\"baxis\":{\"gridcolor\":\"white\",\"linecolor\":\"white\",\"ticks\":\"\"},\"bgcolor\":\"#E5ECF6\",\"caxis\":{\"gridcolor\":\"white\",\"linecolor\":\"white\",\"ticks\":\"\"}},\"title\":{\"x\":0.05},\"xaxis\":{\"automargin\":true,\"gridcolor\":\"white\",\"linecolor\":\"white\",\"ticks\":\"\",\"title\":{\"standoff\":15},\"zerolinecolor\":\"white\",\"zerolinewidth\":2},\"yaxis\":{\"automargin\":true,\"gridcolor\":\"white\",\"linecolor\":\"white\",\"ticks\":\"\",\"title\":{\"standoff\":15},\"zerolinecolor\":\"white\",\"zerolinewidth\":2}}},\"title\":{\"text\":\"Number of songs per year\"},\"xaxis\":{\"anchor\":\"y\",\"domain\":[0.0,1.0],\"title\":{\"text\":\"Year\"}},\"yaxis\":{\"anchor\":\"x\",\"domain\":[0.0,1.0],\"title\":{\"text\":\"No. of Songs\"}}},                        {\"responsive\": true}                    ).then(function(){\n",
       "                            \n",
       "var gd = document.getElementById('23788687-aa4d-44f9-a6ef-947ffd0130e7');\n",
       "var x = new MutationObserver(function (mutations, observer) {{\n",
       "        var display = window.getComputedStyle(gd).display;\n",
       "        if (!display || display === 'none') {{\n",
       "            console.log([gd, 'removed!']);\n",
       "            Plotly.purge(gd);\n",
       "            observer.disconnect();\n",
       "        }}\n",
       "}});\n",
       "\n",
       "// Listen for the removal of the full notebook cells\n",
       "var notebookContainer = gd.closest('#notebook-container');\n",
       "if (notebookContainer) {{\n",
       "    x.observe(notebookContainer, {childList: true});\n",
       "}}\n",
       "\n",
       "// Listen for the clearing of the current output cell\n",
       "var outputEl = gd.closest('.output');\n",
       "if (outputEl) {{\n",
       "    x.observe(outputEl, {childList: true});\n",
       "}}\n",
       "\n",
       "                        })                };                });            </script>        </div>"
      ]
     },
     "metadata": {},
     "output_type": "display_data"
    }
   ],
   "source": [
    "fig = px.bar(songs_per_year, x = \"Year\", y = \"No. of Songs\", title = \"Number of songs per year\")\n",
    "fig.show()"
   ]
  },
  {
   "cell_type": "markdown",
   "id": "d85f3495",
   "metadata": {},
   "source": [
    "#### Number of songs are constant and equal for each year. Therefore the growth in revenue hasn't come from increase in number of songs over years."
   ]
  },
  {
   "cell_type": "code",
   "execution_count": 41,
   "id": "068c92ac",
   "metadata": {},
   "outputs": [
    {
     "data": {
      "text/plain": [
       "Radio      58905\n",
       "TV         58905\n",
       "Digital    58905\n",
       "CD         58905\n",
       "Name: Format, dtype: int64"
      ]
     },
     "execution_count": 41,
     "metadata": {},
     "output_type": "execute_result"
    }
   ],
   "source": [
    "df3[\"Format\"].value_counts()"
   ]
  },
  {
   "cell_type": "markdown",
   "id": "1f6ad945",
   "metadata": {},
   "source": [
    "All the channels form equal proportion here."
   ]
  },
  {
   "cell_type": "code",
   "execution_count": 42,
   "id": "03f0a59c",
   "metadata": {},
   "outputs": [
    {
     "data": {
      "text/html": [
       "<div>\n",
       "<style scoped>\n",
       "    .dataframe tbody tr th:only-of-type {\n",
       "        vertical-align: middle;\n",
       "    }\n",
       "\n",
       "    .dataframe tbody tr th {\n",
       "        vertical-align: top;\n",
       "    }\n",
       "\n",
       "    .dataframe thead th {\n",
       "        text-align: right;\n",
       "    }\n",
       "</style>\n",
       "<table border=\"1\" class=\"dataframe\">\n",
       "  <thead>\n",
       "    <tr style=\"text-align: right;\">\n",
       "      <th></th>\n",
       "      <th>Format</th>\n",
       "      <th>Revenue</th>\n",
       "    </tr>\n",
       "  </thead>\n",
       "  <tbody>\n",
       "    <tr>\n",
       "      <th>0</th>\n",
       "      <td>CD</td>\n",
       "      <td>245355</td>\n",
       "    </tr>\n",
       "    <tr>\n",
       "      <th>1</th>\n",
       "      <td>Digital</td>\n",
       "      <td>7401232</td>\n",
       "    </tr>\n",
       "    <tr>\n",
       "      <th>2</th>\n",
       "      <td>Radio</td>\n",
       "      <td>2313405</td>\n",
       "    </tr>\n",
       "    <tr>\n",
       "      <th>3</th>\n",
       "      <td>TV</td>\n",
       "      <td>1086033</td>\n",
       "    </tr>\n",
       "  </tbody>\n",
       "</table>\n",
       "</div>"
      ],
      "text/plain": [
       "    Format  Revenue\n",
       "0       CD   245355\n",
       "1  Digital  7401232\n",
       "2    Radio  2313405\n",
       "3       TV  1086033"
      ]
     },
     "execution_count": 42,
     "metadata": {},
     "output_type": "execute_result"
    }
   ],
   "source": [
    "#Lets see which channel is the highest revenue generator\n",
    "#Revenue generation through different channels\n",
    "df_channels = pd.DataFrame(df3.groupby(\"Format\")[\"Revenue\"].sum())\n",
    "df_channels.reset_index(inplace= True) \n",
    "df_channels "
   ]
  },
  {
   "cell_type": "code",
   "execution_count": 43,
   "id": "04f03dd1",
   "metadata": {},
   "outputs": [
    {
     "data": {
      "application/vnd.plotly.v1+json": {
       "config": {
        "plotlyServerURL": "https://plot.ly"
       },
       "data": [
        {
         "domain": {
          "x": [
           0,
           1
          ],
          "y": [
           0,
           1
          ]
         },
         "hovertemplate": "Format=%{label}<br>Revenue=%{value}<extra></extra>",
         "labels": [
          "CD",
          "Digital",
          "Radio",
          "TV"
         ],
         "legendgroup": "",
         "name": "",
         "showlegend": true,
         "type": "pie",
         "values": [
          245355,
          7401232,
          2313405,
          1086033
         ]
        }
       ],
       "layout": {
        "legend": {
         "tracegroupgap": 0
        },
        "template": {
         "data": {
          "bar": [
           {
            "error_x": {
             "color": "#2a3f5f"
            },
            "error_y": {
             "color": "#2a3f5f"
            },
            "marker": {
             "line": {
              "color": "#E5ECF6",
              "width": 0.5
             },
             "pattern": {
              "fillmode": "overlay",
              "size": 10,
              "solidity": 0.2
             }
            },
            "type": "bar"
           }
          ],
          "barpolar": [
           {
            "marker": {
             "line": {
              "color": "#E5ECF6",
              "width": 0.5
             },
             "pattern": {
              "fillmode": "overlay",
              "size": 10,
              "solidity": 0.2
             }
            },
            "type": "barpolar"
           }
          ],
          "carpet": [
           {
            "aaxis": {
             "endlinecolor": "#2a3f5f",
             "gridcolor": "white",
             "linecolor": "white",
             "minorgridcolor": "white",
             "startlinecolor": "#2a3f5f"
            },
            "baxis": {
             "endlinecolor": "#2a3f5f",
             "gridcolor": "white",
             "linecolor": "white",
             "minorgridcolor": "white",
             "startlinecolor": "#2a3f5f"
            },
            "type": "carpet"
           }
          ],
          "choropleth": [
           {
            "colorbar": {
             "outlinewidth": 0,
             "ticks": ""
            },
            "type": "choropleth"
           }
          ],
          "contour": [
           {
            "colorbar": {
             "outlinewidth": 0,
             "ticks": ""
            },
            "colorscale": [
             [
              0,
              "#0d0887"
             ],
             [
              0.1111111111111111,
              "#46039f"
             ],
             [
              0.2222222222222222,
              "#7201a8"
             ],
             [
              0.3333333333333333,
              "#9c179e"
             ],
             [
              0.4444444444444444,
              "#bd3786"
             ],
             [
              0.5555555555555556,
              "#d8576b"
             ],
             [
              0.6666666666666666,
              "#ed7953"
             ],
             [
              0.7777777777777778,
              "#fb9f3a"
             ],
             [
              0.8888888888888888,
              "#fdca26"
             ],
             [
              1,
              "#f0f921"
             ]
            ],
            "type": "contour"
           }
          ],
          "contourcarpet": [
           {
            "colorbar": {
             "outlinewidth": 0,
             "ticks": ""
            },
            "type": "contourcarpet"
           }
          ],
          "heatmap": [
           {
            "colorbar": {
             "outlinewidth": 0,
             "ticks": ""
            },
            "colorscale": [
             [
              0,
              "#0d0887"
             ],
             [
              0.1111111111111111,
              "#46039f"
             ],
             [
              0.2222222222222222,
              "#7201a8"
             ],
             [
              0.3333333333333333,
              "#9c179e"
             ],
             [
              0.4444444444444444,
              "#bd3786"
             ],
             [
              0.5555555555555556,
              "#d8576b"
             ],
             [
              0.6666666666666666,
              "#ed7953"
             ],
             [
              0.7777777777777778,
              "#fb9f3a"
             ],
             [
              0.8888888888888888,
              "#fdca26"
             ],
             [
              1,
              "#f0f921"
             ]
            ],
            "type": "heatmap"
           }
          ],
          "heatmapgl": [
           {
            "colorbar": {
             "outlinewidth": 0,
             "ticks": ""
            },
            "colorscale": [
             [
              0,
              "#0d0887"
             ],
             [
              0.1111111111111111,
              "#46039f"
             ],
             [
              0.2222222222222222,
              "#7201a8"
             ],
             [
              0.3333333333333333,
              "#9c179e"
             ],
             [
              0.4444444444444444,
              "#bd3786"
             ],
             [
              0.5555555555555556,
              "#d8576b"
             ],
             [
              0.6666666666666666,
              "#ed7953"
             ],
             [
              0.7777777777777778,
              "#fb9f3a"
             ],
             [
              0.8888888888888888,
              "#fdca26"
             ],
             [
              1,
              "#f0f921"
             ]
            ],
            "type": "heatmapgl"
           }
          ],
          "histogram": [
           {
            "marker": {
             "pattern": {
              "fillmode": "overlay",
              "size": 10,
              "solidity": 0.2
             }
            },
            "type": "histogram"
           }
          ],
          "histogram2d": [
           {
            "colorbar": {
             "outlinewidth": 0,
             "ticks": ""
            },
            "colorscale": [
             [
              0,
              "#0d0887"
             ],
             [
              0.1111111111111111,
              "#46039f"
             ],
             [
              0.2222222222222222,
              "#7201a8"
             ],
             [
              0.3333333333333333,
              "#9c179e"
             ],
             [
              0.4444444444444444,
              "#bd3786"
             ],
             [
              0.5555555555555556,
              "#d8576b"
             ],
             [
              0.6666666666666666,
              "#ed7953"
             ],
             [
              0.7777777777777778,
              "#fb9f3a"
             ],
             [
              0.8888888888888888,
              "#fdca26"
             ],
             [
              1,
              "#f0f921"
             ]
            ],
            "type": "histogram2d"
           }
          ],
          "histogram2dcontour": [
           {
            "colorbar": {
             "outlinewidth": 0,
             "ticks": ""
            },
            "colorscale": [
             [
              0,
              "#0d0887"
             ],
             [
              0.1111111111111111,
              "#46039f"
             ],
             [
              0.2222222222222222,
              "#7201a8"
             ],
             [
              0.3333333333333333,
              "#9c179e"
             ],
             [
              0.4444444444444444,
              "#bd3786"
             ],
             [
              0.5555555555555556,
              "#d8576b"
             ],
             [
              0.6666666666666666,
              "#ed7953"
             ],
             [
              0.7777777777777778,
              "#fb9f3a"
             ],
             [
              0.8888888888888888,
              "#fdca26"
             ],
             [
              1,
              "#f0f921"
             ]
            ],
            "type": "histogram2dcontour"
           }
          ],
          "mesh3d": [
           {
            "colorbar": {
             "outlinewidth": 0,
             "ticks": ""
            },
            "type": "mesh3d"
           }
          ],
          "parcoords": [
           {
            "line": {
             "colorbar": {
              "outlinewidth": 0,
              "ticks": ""
             }
            },
            "type": "parcoords"
           }
          ],
          "pie": [
           {
            "automargin": true,
            "type": "pie"
           }
          ],
          "scatter": [
           {
            "marker": {
             "colorbar": {
              "outlinewidth": 0,
              "ticks": ""
             }
            },
            "type": "scatter"
           }
          ],
          "scatter3d": [
           {
            "line": {
             "colorbar": {
              "outlinewidth": 0,
              "ticks": ""
             }
            },
            "marker": {
             "colorbar": {
              "outlinewidth": 0,
              "ticks": ""
             }
            },
            "type": "scatter3d"
           }
          ],
          "scattercarpet": [
           {
            "marker": {
             "colorbar": {
              "outlinewidth": 0,
              "ticks": ""
             }
            },
            "type": "scattercarpet"
           }
          ],
          "scattergeo": [
           {
            "marker": {
             "colorbar": {
              "outlinewidth": 0,
              "ticks": ""
             }
            },
            "type": "scattergeo"
           }
          ],
          "scattergl": [
           {
            "marker": {
             "colorbar": {
              "outlinewidth": 0,
              "ticks": ""
             }
            },
            "type": "scattergl"
           }
          ],
          "scattermapbox": [
           {
            "marker": {
             "colorbar": {
              "outlinewidth": 0,
              "ticks": ""
             }
            },
            "type": "scattermapbox"
           }
          ],
          "scatterpolar": [
           {
            "marker": {
             "colorbar": {
              "outlinewidth": 0,
              "ticks": ""
             }
            },
            "type": "scatterpolar"
           }
          ],
          "scatterpolargl": [
           {
            "marker": {
             "colorbar": {
              "outlinewidth": 0,
              "ticks": ""
             }
            },
            "type": "scatterpolargl"
           }
          ],
          "scatterternary": [
           {
            "marker": {
             "colorbar": {
              "outlinewidth": 0,
              "ticks": ""
             }
            },
            "type": "scatterternary"
           }
          ],
          "surface": [
           {
            "colorbar": {
             "outlinewidth": 0,
             "ticks": ""
            },
            "colorscale": [
             [
              0,
              "#0d0887"
             ],
             [
              0.1111111111111111,
              "#46039f"
             ],
             [
              0.2222222222222222,
              "#7201a8"
             ],
             [
              0.3333333333333333,
              "#9c179e"
             ],
             [
              0.4444444444444444,
              "#bd3786"
             ],
             [
              0.5555555555555556,
              "#d8576b"
             ],
             [
              0.6666666666666666,
              "#ed7953"
             ],
             [
              0.7777777777777778,
              "#fb9f3a"
             ],
             [
              0.8888888888888888,
              "#fdca26"
             ],
             [
              1,
              "#f0f921"
             ]
            ],
            "type": "surface"
           }
          ],
          "table": [
           {
            "cells": {
             "fill": {
              "color": "#EBF0F8"
             },
             "line": {
              "color": "white"
             }
            },
            "header": {
             "fill": {
              "color": "#C8D4E3"
             },
             "line": {
              "color": "white"
             }
            },
            "type": "table"
           }
          ]
         },
         "layout": {
          "annotationdefaults": {
           "arrowcolor": "#2a3f5f",
           "arrowhead": 0,
           "arrowwidth": 1
          },
          "autotypenumbers": "strict",
          "coloraxis": {
           "colorbar": {
            "outlinewidth": 0,
            "ticks": ""
           }
          },
          "colorscale": {
           "diverging": [
            [
             0,
             "#8e0152"
            ],
            [
             0.1,
             "#c51b7d"
            ],
            [
             0.2,
             "#de77ae"
            ],
            [
             0.3,
             "#f1b6da"
            ],
            [
             0.4,
             "#fde0ef"
            ],
            [
             0.5,
             "#f7f7f7"
            ],
            [
             0.6,
             "#e6f5d0"
            ],
            [
             0.7,
             "#b8e186"
            ],
            [
             0.8,
             "#7fbc41"
            ],
            [
             0.9,
             "#4d9221"
            ],
            [
             1,
             "#276419"
            ]
           ],
           "sequential": [
            [
             0,
             "#0d0887"
            ],
            [
             0.1111111111111111,
             "#46039f"
            ],
            [
             0.2222222222222222,
             "#7201a8"
            ],
            [
             0.3333333333333333,
             "#9c179e"
            ],
            [
             0.4444444444444444,
             "#bd3786"
            ],
            [
             0.5555555555555556,
             "#d8576b"
            ],
            [
             0.6666666666666666,
             "#ed7953"
            ],
            [
             0.7777777777777778,
             "#fb9f3a"
            ],
            [
             0.8888888888888888,
             "#fdca26"
            ],
            [
             1,
             "#f0f921"
            ]
           ],
           "sequentialminus": [
            [
             0,
             "#0d0887"
            ],
            [
             0.1111111111111111,
             "#46039f"
            ],
            [
             0.2222222222222222,
             "#7201a8"
            ],
            [
             0.3333333333333333,
             "#9c179e"
            ],
            [
             0.4444444444444444,
             "#bd3786"
            ],
            [
             0.5555555555555556,
             "#d8576b"
            ],
            [
             0.6666666666666666,
             "#ed7953"
            ],
            [
             0.7777777777777778,
             "#fb9f3a"
            ],
            [
             0.8888888888888888,
             "#fdca26"
            ],
            [
             1,
             "#f0f921"
            ]
           ]
          },
          "colorway": [
           "#636efa",
           "#EF553B",
           "#00cc96",
           "#ab63fa",
           "#FFA15A",
           "#19d3f3",
           "#FF6692",
           "#B6E880",
           "#FF97FF",
           "#FECB52"
          ],
          "font": {
           "color": "#2a3f5f"
          },
          "geo": {
           "bgcolor": "white",
           "lakecolor": "white",
           "landcolor": "#E5ECF6",
           "showlakes": true,
           "showland": true,
           "subunitcolor": "white"
          },
          "hoverlabel": {
           "align": "left"
          },
          "hovermode": "closest",
          "mapbox": {
           "style": "light"
          },
          "paper_bgcolor": "white",
          "plot_bgcolor": "#E5ECF6",
          "polar": {
           "angularaxis": {
            "gridcolor": "white",
            "linecolor": "white",
            "ticks": ""
           },
           "bgcolor": "#E5ECF6",
           "radialaxis": {
            "gridcolor": "white",
            "linecolor": "white",
            "ticks": ""
           }
          },
          "scene": {
           "xaxis": {
            "backgroundcolor": "#E5ECF6",
            "gridcolor": "white",
            "gridwidth": 2,
            "linecolor": "white",
            "showbackground": true,
            "ticks": "",
            "zerolinecolor": "white"
           },
           "yaxis": {
            "backgroundcolor": "#E5ECF6",
            "gridcolor": "white",
            "gridwidth": 2,
            "linecolor": "white",
            "showbackground": true,
            "ticks": "",
            "zerolinecolor": "white"
           },
           "zaxis": {
            "backgroundcolor": "#E5ECF6",
            "gridcolor": "white",
            "gridwidth": 2,
            "linecolor": "white",
            "showbackground": true,
            "ticks": "",
            "zerolinecolor": "white"
           }
          },
          "shapedefaults": {
           "line": {
            "color": "#2a3f5f"
           }
          },
          "ternary": {
           "aaxis": {
            "gridcolor": "white",
            "linecolor": "white",
            "ticks": ""
           },
           "baxis": {
            "gridcolor": "white",
            "linecolor": "white",
            "ticks": ""
           },
           "bgcolor": "#E5ECF6",
           "caxis": {
            "gridcolor": "white",
            "linecolor": "white",
            "ticks": ""
           }
          },
          "title": {
           "x": 0.05
          },
          "xaxis": {
           "automargin": true,
           "gridcolor": "white",
           "linecolor": "white",
           "ticks": "",
           "title": {
            "standoff": 15
           },
           "zerolinecolor": "white",
           "zerolinewidth": 2
          },
          "yaxis": {
           "automargin": true,
           "gridcolor": "white",
           "linecolor": "white",
           "ticks": "",
           "title": {
            "standoff": 15
           },
           "zerolinecolor": "white",
           "zerolinewidth": 2
          }
         }
        },
        "title": {
         "text": "Revenue by Format"
        }
       }
      },
      "text/html": [
       "<div>                            <div id=\"710c8827-cfb3-4140-b183-f69941f91fc7\" class=\"plotly-graph-div\" style=\"height:525px; width:100%;\"></div>            <script type=\"text/javascript\">                require([\"plotly\"], function(Plotly) {                    window.PLOTLYENV=window.PLOTLYENV || {};                                    if (document.getElementById(\"710c8827-cfb3-4140-b183-f69941f91fc7\")) {                    Plotly.newPlot(                        \"710c8827-cfb3-4140-b183-f69941f91fc7\",                        [{\"domain\":{\"x\":[0.0,1.0],\"y\":[0.0,1.0]},\"hovertemplate\":\"Format=%{label}<br>Revenue=%{value}<extra></extra>\",\"labels\":[\"CD\",\"Digital\",\"Radio\",\"TV\"],\"legendgroup\":\"\",\"name\":\"\",\"showlegend\":true,\"type\":\"pie\",\"values\":[245355,7401232,2313405,1086033]}],                        {\"legend\":{\"tracegroupgap\":0},\"template\":{\"data\":{\"bar\":[{\"error_x\":{\"color\":\"#2a3f5f\"},\"error_y\":{\"color\":\"#2a3f5f\"},\"marker\":{\"line\":{\"color\":\"#E5ECF6\",\"width\":0.5},\"pattern\":{\"fillmode\":\"overlay\",\"size\":10,\"solidity\":0.2}},\"type\":\"bar\"}],\"barpolar\":[{\"marker\":{\"line\":{\"color\":\"#E5ECF6\",\"width\":0.5},\"pattern\":{\"fillmode\":\"overlay\",\"size\":10,\"solidity\":0.2}},\"type\":\"barpolar\"}],\"carpet\":[{\"aaxis\":{\"endlinecolor\":\"#2a3f5f\",\"gridcolor\":\"white\",\"linecolor\":\"white\",\"minorgridcolor\":\"white\",\"startlinecolor\":\"#2a3f5f\"},\"baxis\":{\"endlinecolor\":\"#2a3f5f\",\"gridcolor\":\"white\",\"linecolor\":\"white\",\"minorgridcolor\":\"white\",\"startlinecolor\":\"#2a3f5f\"},\"type\":\"carpet\"}],\"choropleth\":[{\"colorbar\":{\"outlinewidth\":0,\"ticks\":\"\"},\"type\":\"choropleth\"}],\"contour\":[{\"colorbar\":{\"outlinewidth\":0,\"ticks\":\"\"},\"colorscale\":[[0.0,\"#0d0887\"],[0.1111111111111111,\"#46039f\"],[0.2222222222222222,\"#7201a8\"],[0.3333333333333333,\"#9c179e\"],[0.4444444444444444,\"#bd3786\"],[0.5555555555555556,\"#d8576b\"],[0.6666666666666666,\"#ed7953\"],[0.7777777777777778,\"#fb9f3a\"],[0.8888888888888888,\"#fdca26\"],[1.0,\"#f0f921\"]],\"type\":\"contour\"}],\"contourcarpet\":[{\"colorbar\":{\"outlinewidth\":0,\"ticks\":\"\"},\"type\":\"contourcarpet\"}],\"heatmap\":[{\"colorbar\":{\"outlinewidth\":0,\"ticks\":\"\"},\"colorscale\":[[0.0,\"#0d0887\"],[0.1111111111111111,\"#46039f\"],[0.2222222222222222,\"#7201a8\"],[0.3333333333333333,\"#9c179e\"],[0.4444444444444444,\"#bd3786\"],[0.5555555555555556,\"#d8576b\"],[0.6666666666666666,\"#ed7953\"],[0.7777777777777778,\"#fb9f3a\"],[0.8888888888888888,\"#fdca26\"],[1.0,\"#f0f921\"]],\"type\":\"heatmap\"}],\"heatmapgl\":[{\"colorbar\":{\"outlinewidth\":0,\"ticks\":\"\"},\"colorscale\":[[0.0,\"#0d0887\"],[0.1111111111111111,\"#46039f\"],[0.2222222222222222,\"#7201a8\"],[0.3333333333333333,\"#9c179e\"],[0.4444444444444444,\"#bd3786\"],[0.5555555555555556,\"#d8576b\"],[0.6666666666666666,\"#ed7953\"],[0.7777777777777778,\"#fb9f3a\"],[0.8888888888888888,\"#fdca26\"],[1.0,\"#f0f921\"]],\"type\":\"heatmapgl\"}],\"histogram\":[{\"marker\":{\"pattern\":{\"fillmode\":\"overlay\",\"size\":10,\"solidity\":0.2}},\"type\":\"histogram\"}],\"histogram2d\":[{\"colorbar\":{\"outlinewidth\":0,\"ticks\":\"\"},\"colorscale\":[[0.0,\"#0d0887\"],[0.1111111111111111,\"#46039f\"],[0.2222222222222222,\"#7201a8\"],[0.3333333333333333,\"#9c179e\"],[0.4444444444444444,\"#bd3786\"],[0.5555555555555556,\"#d8576b\"],[0.6666666666666666,\"#ed7953\"],[0.7777777777777778,\"#fb9f3a\"],[0.8888888888888888,\"#fdca26\"],[1.0,\"#f0f921\"]],\"type\":\"histogram2d\"}],\"histogram2dcontour\":[{\"colorbar\":{\"outlinewidth\":0,\"ticks\":\"\"},\"colorscale\":[[0.0,\"#0d0887\"],[0.1111111111111111,\"#46039f\"],[0.2222222222222222,\"#7201a8\"],[0.3333333333333333,\"#9c179e\"],[0.4444444444444444,\"#bd3786\"],[0.5555555555555556,\"#d8576b\"],[0.6666666666666666,\"#ed7953\"],[0.7777777777777778,\"#fb9f3a\"],[0.8888888888888888,\"#fdca26\"],[1.0,\"#f0f921\"]],\"type\":\"histogram2dcontour\"}],\"mesh3d\":[{\"colorbar\":{\"outlinewidth\":0,\"ticks\":\"\"},\"type\":\"mesh3d\"}],\"parcoords\":[{\"line\":{\"colorbar\":{\"outlinewidth\":0,\"ticks\":\"\"}},\"type\":\"parcoords\"}],\"pie\":[{\"automargin\":true,\"type\":\"pie\"}],\"scatter\":[{\"marker\":{\"colorbar\":{\"outlinewidth\":0,\"ticks\":\"\"}},\"type\":\"scatter\"}],\"scatter3d\":[{\"line\":{\"colorbar\":{\"outlinewidth\":0,\"ticks\":\"\"}},\"marker\":{\"colorbar\":{\"outlinewidth\":0,\"ticks\":\"\"}},\"type\":\"scatter3d\"}],\"scattercarpet\":[{\"marker\":{\"colorbar\":{\"outlinewidth\":0,\"ticks\":\"\"}},\"type\":\"scattercarpet\"}],\"scattergeo\":[{\"marker\":{\"colorbar\":{\"outlinewidth\":0,\"ticks\":\"\"}},\"type\":\"scattergeo\"}],\"scattergl\":[{\"marker\":{\"colorbar\":{\"outlinewidth\":0,\"ticks\":\"\"}},\"type\":\"scattergl\"}],\"scattermapbox\":[{\"marker\":{\"colorbar\":{\"outlinewidth\":0,\"ticks\":\"\"}},\"type\":\"scattermapbox\"}],\"scatterpolar\":[{\"marker\":{\"colorbar\":{\"outlinewidth\":0,\"ticks\":\"\"}},\"type\":\"scatterpolar\"}],\"scatterpolargl\":[{\"marker\":{\"colorbar\":{\"outlinewidth\":0,\"ticks\":\"\"}},\"type\":\"scatterpolargl\"}],\"scatterternary\":[{\"marker\":{\"colorbar\":{\"outlinewidth\":0,\"ticks\":\"\"}},\"type\":\"scatterternary\"}],\"surface\":[{\"colorbar\":{\"outlinewidth\":0,\"ticks\":\"\"},\"colorscale\":[[0.0,\"#0d0887\"],[0.1111111111111111,\"#46039f\"],[0.2222222222222222,\"#7201a8\"],[0.3333333333333333,\"#9c179e\"],[0.4444444444444444,\"#bd3786\"],[0.5555555555555556,\"#d8576b\"],[0.6666666666666666,\"#ed7953\"],[0.7777777777777778,\"#fb9f3a\"],[0.8888888888888888,\"#fdca26\"],[1.0,\"#f0f921\"]],\"type\":\"surface\"}],\"table\":[{\"cells\":{\"fill\":{\"color\":\"#EBF0F8\"},\"line\":{\"color\":\"white\"}},\"header\":{\"fill\":{\"color\":\"#C8D4E3\"},\"line\":{\"color\":\"white\"}},\"type\":\"table\"}]},\"layout\":{\"annotationdefaults\":{\"arrowcolor\":\"#2a3f5f\",\"arrowhead\":0,\"arrowwidth\":1},\"autotypenumbers\":\"strict\",\"coloraxis\":{\"colorbar\":{\"outlinewidth\":0,\"ticks\":\"\"}},\"colorscale\":{\"diverging\":[[0,\"#8e0152\"],[0.1,\"#c51b7d\"],[0.2,\"#de77ae\"],[0.3,\"#f1b6da\"],[0.4,\"#fde0ef\"],[0.5,\"#f7f7f7\"],[0.6,\"#e6f5d0\"],[0.7,\"#b8e186\"],[0.8,\"#7fbc41\"],[0.9,\"#4d9221\"],[1,\"#276419\"]],\"sequential\":[[0.0,\"#0d0887\"],[0.1111111111111111,\"#46039f\"],[0.2222222222222222,\"#7201a8\"],[0.3333333333333333,\"#9c179e\"],[0.4444444444444444,\"#bd3786\"],[0.5555555555555556,\"#d8576b\"],[0.6666666666666666,\"#ed7953\"],[0.7777777777777778,\"#fb9f3a\"],[0.8888888888888888,\"#fdca26\"],[1.0,\"#f0f921\"]],\"sequentialminus\":[[0.0,\"#0d0887\"],[0.1111111111111111,\"#46039f\"],[0.2222222222222222,\"#7201a8\"],[0.3333333333333333,\"#9c179e\"],[0.4444444444444444,\"#bd3786\"],[0.5555555555555556,\"#d8576b\"],[0.6666666666666666,\"#ed7953\"],[0.7777777777777778,\"#fb9f3a\"],[0.8888888888888888,\"#fdca26\"],[1.0,\"#f0f921\"]]},\"colorway\":[\"#636efa\",\"#EF553B\",\"#00cc96\",\"#ab63fa\",\"#FFA15A\",\"#19d3f3\",\"#FF6692\",\"#B6E880\",\"#FF97FF\",\"#FECB52\"],\"font\":{\"color\":\"#2a3f5f\"},\"geo\":{\"bgcolor\":\"white\",\"lakecolor\":\"white\",\"landcolor\":\"#E5ECF6\",\"showlakes\":true,\"showland\":true,\"subunitcolor\":\"white\"},\"hoverlabel\":{\"align\":\"left\"},\"hovermode\":\"closest\",\"mapbox\":{\"style\":\"light\"},\"paper_bgcolor\":\"white\",\"plot_bgcolor\":\"#E5ECF6\",\"polar\":{\"angularaxis\":{\"gridcolor\":\"white\",\"linecolor\":\"white\",\"ticks\":\"\"},\"bgcolor\":\"#E5ECF6\",\"radialaxis\":{\"gridcolor\":\"white\",\"linecolor\":\"white\",\"ticks\":\"\"}},\"scene\":{\"xaxis\":{\"backgroundcolor\":\"#E5ECF6\",\"gridcolor\":\"white\",\"gridwidth\":2,\"linecolor\":\"white\",\"showbackground\":true,\"ticks\":\"\",\"zerolinecolor\":\"white\"},\"yaxis\":{\"backgroundcolor\":\"#E5ECF6\",\"gridcolor\":\"white\",\"gridwidth\":2,\"linecolor\":\"white\",\"showbackground\":true,\"ticks\":\"\",\"zerolinecolor\":\"white\"},\"zaxis\":{\"backgroundcolor\":\"#E5ECF6\",\"gridcolor\":\"white\",\"gridwidth\":2,\"linecolor\":\"white\",\"showbackground\":true,\"ticks\":\"\",\"zerolinecolor\":\"white\"}},\"shapedefaults\":{\"line\":{\"color\":\"#2a3f5f\"}},\"ternary\":{\"aaxis\":{\"gridcolor\":\"white\",\"linecolor\":\"white\",\"ticks\":\"\"},\"baxis\":{\"gridcolor\":\"white\",\"linecolor\":\"white\",\"ticks\":\"\"},\"bgcolor\":\"#E5ECF6\",\"caxis\":{\"gridcolor\":\"white\",\"linecolor\":\"white\",\"ticks\":\"\"}},\"title\":{\"x\":0.05},\"xaxis\":{\"automargin\":true,\"gridcolor\":\"white\",\"linecolor\":\"white\",\"ticks\":\"\",\"title\":{\"standoff\":15},\"zerolinecolor\":\"white\",\"zerolinewidth\":2},\"yaxis\":{\"automargin\":true,\"gridcolor\":\"white\",\"linecolor\":\"white\",\"ticks\":\"\",\"title\":{\"standoff\":15},\"zerolinecolor\":\"white\",\"zerolinewidth\":2}}},\"title\":{\"text\":\"Revenue by Format\"}},                        {\"responsive\": true}                    ).then(function(){\n",
       "                            \n",
       "var gd = document.getElementById('710c8827-cfb3-4140-b183-f69941f91fc7');\n",
       "var x = new MutationObserver(function (mutations, observer) {{\n",
       "        var display = window.getComputedStyle(gd).display;\n",
       "        if (!display || display === 'none') {{\n",
       "            console.log([gd, 'removed!']);\n",
       "            Plotly.purge(gd);\n",
       "            observer.disconnect();\n",
       "        }}\n",
       "}});\n",
       "\n",
       "// Listen for the removal of the full notebook cells\n",
       "var notebookContainer = gd.closest('#notebook-container');\n",
       "if (notebookContainer) {{\n",
       "    x.observe(notebookContainer, {childList: true});\n",
       "}}\n",
       "\n",
       "// Listen for the clearing of the current output cell\n",
       "var outputEl = gd.closest('.output');\n",
       "if (outputEl) {{\n",
       "    x.observe(outputEl, {childList: true});\n",
       "}}\n",
       "\n",
       "                        })                };                });            </script>        </div>"
      ]
     },
     "metadata": {},
     "output_type": "display_data"
    }
   ],
   "source": [
    "fig = px.pie(df_channels, names = \"Format\", values=\"Revenue\",title=\"Revenue by Format\")\n",
    "fig.show()"
   ]
  },
  {
   "attachments": {},
   "cell_type": "markdown",
   "id": "6186f518",
   "metadata": {},
   "source": [
    "The pie chart illustrastes that the digital channel produces most significant revenue, with radio and TV following closely behind. CD, on the other hand, generates the least amount of revenue. Undoubtedly, it demonstrates the prevailing popularity of digital channel in recent times."
   ]
  },
  {
   "cell_type": "code",
   "execution_count": 47,
   "id": "7a04f5ae",
   "metadata": {},
   "outputs": [],
   "source": [
    "###Lets see how the share of each channel has changed across the years\n",
    "df_channel_by_year = pd.DataFrame(df3.groupby([\"Year\",\"Format\"])[\"Revenue\"].sum())\n",
    "df_channel_by_year.reset_index(inplace= True) "
   ]
  },
  {
   "cell_type": "code",
   "execution_count": 50,
   "id": "dd0a7500",
   "metadata": {
    "slideshow": {
     "slide_type": "skip"
    }
   },
   "outputs": [
    {
     "data": {
      "application/vnd.plotly.v1+json": {
       "config": {
        "plotlyServerURL": "https://plot.ly"
       },
       "data": [
        {
         "alignmentgroup": "True",
         "hovertemplate": "Format=CD<br>Year=%{x}<br>Revenue=%{y}<extra></extra>",
         "legendgroup": "CD",
         "marker": {
          "color": "#636efa",
          "pattern": {
           "shape": ""
          }
         },
         "name": "CD",
         "offsetgroup": "CD",
         "orientation": "v",
         "showlegend": true,
         "textposition": "auto",
         "type": "bar",
         "x": [
          2015,
          2016,
          2017,
          2018,
          2019,
          2020,
          2021,
          2022,
          2023
         ],
         "xaxis": "x",
         "y": [
          14237,
          19485,
          24903,
          28112,
          29746,
          31105,
          31624,
          32496,
          33647
         ],
         "yaxis": "y"
        },
        {
         "alignmentgroup": "True",
         "hovertemplate": "Format=Digital<br>Year=%{x}<br>Revenue=%{y}<extra></extra>",
         "legendgroup": "Digital",
         "marker": {
          "color": "#EF553B",
          "pattern": {
           "shape": ""
          }
         },
         "name": "Digital",
         "offsetgroup": "Digital",
         "orientation": "v",
         "showlegend": true,
         "textposition": "auto",
         "type": "bar",
         "x": [
          2015,
          2016,
          2017,
          2018,
          2019,
          2020,
          2021,
          2022,
          2023
         ],
         "xaxis": "x",
         "y": [
          435062,
          565186,
          699379,
          789156,
          874863,
          920241,
          969084,
          1036025,
          1112236
         ],
         "yaxis": "y"
        },
        {
         "alignmentgroup": "True",
         "hovertemplate": "Format=Radio<br>Year=%{x}<br>Revenue=%{y}<extra></extra>",
         "legendgroup": "Radio",
         "marker": {
          "color": "#00cc96",
          "pattern": {
           "shape": ""
          }
         },
         "name": "Radio",
         "offsetgroup": "Radio",
         "orientation": "v",
         "showlegend": true,
         "textposition": "auto",
         "type": "bar",
         "x": [
          2015,
          2016,
          2017,
          2018,
          2019,
          2020,
          2021,
          2022,
          2023
         ],
         "xaxis": "x",
         "y": [
          107094,
          169921,
          219441,
          257746,
          284316,
          301845,
          313050,
          323949,
          336043
         ],
         "yaxis": "y"
        },
        {
         "alignmentgroup": "True",
         "hovertemplate": "Format=TV<br>Year=%{x}<br>Revenue=%{y}<extra></extra>",
         "legendgroup": "TV",
         "marker": {
          "color": "#ab63fa",
          "pattern": {
           "shape": ""
          }
         },
         "name": "TV",
         "offsetgroup": "TV",
         "orientation": "v",
         "showlegend": true,
         "textposition": "auto",
         "type": "bar",
         "x": [
          2015,
          2016,
          2017,
          2018,
          2019,
          2020,
          2021,
          2022,
          2023
         ],
         "xaxis": "x",
         "y": [
          57546,
          82947,
          106400,
          123885,
          134576,
          140092,
          144091,
          146642,
          149854
         ],
         "yaxis": "y"
        }
       ],
       "layout": {
        "barmode": "group",
        "legend": {
         "title": {
          "text": "Format"
         },
         "tracegroupgap": 0
        },
        "template": {
         "data": {
          "bar": [
           {
            "error_x": {
             "color": "#2a3f5f"
            },
            "error_y": {
             "color": "#2a3f5f"
            },
            "marker": {
             "line": {
              "color": "#E5ECF6",
              "width": 0.5
             },
             "pattern": {
              "fillmode": "overlay",
              "size": 10,
              "solidity": 0.2
             }
            },
            "type": "bar"
           }
          ],
          "barpolar": [
           {
            "marker": {
             "line": {
              "color": "#E5ECF6",
              "width": 0.5
             },
             "pattern": {
              "fillmode": "overlay",
              "size": 10,
              "solidity": 0.2
             }
            },
            "type": "barpolar"
           }
          ],
          "carpet": [
           {
            "aaxis": {
             "endlinecolor": "#2a3f5f",
             "gridcolor": "white",
             "linecolor": "white",
             "minorgridcolor": "white",
             "startlinecolor": "#2a3f5f"
            },
            "baxis": {
             "endlinecolor": "#2a3f5f",
             "gridcolor": "white",
             "linecolor": "white",
             "minorgridcolor": "white",
             "startlinecolor": "#2a3f5f"
            },
            "type": "carpet"
           }
          ],
          "choropleth": [
           {
            "colorbar": {
             "outlinewidth": 0,
             "ticks": ""
            },
            "type": "choropleth"
           }
          ],
          "contour": [
           {
            "colorbar": {
             "outlinewidth": 0,
             "ticks": ""
            },
            "colorscale": [
             [
              0,
              "#0d0887"
             ],
             [
              0.1111111111111111,
              "#46039f"
             ],
             [
              0.2222222222222222,
              "#7201a8"
             ],
             [
              0.3333333333333333,
              "#9c179e"
             ],
             [
              0.4444444444444444,
              "#bd3786"
             ],
             [
              0.5555555555555556,
              "#d8576b"
             ],
             [
              0.6666666666666666,
              "#ed7953"
             ],
             [
              0.7777777777777778,
              "#fb9f3a"
             ],
             [
              0.8888888888888888,
              "#fdca26"
             ],
             [
              1,
              "#f0f921"
             ]
            ],
            "type": "contour"
           }
          ],
          "contourcarpet": [
           {
            "colorbar": {
             "outlinewidth": 0,
             "ticks": ""
            },
            "type": "contourcarpet"
           }
          ],
          "heatmap": [
           {
            "colorbar": {
             "outlinewidth": 0,
             "ticks": ""
            },
            "colorscale": [
             [
              0,
              "#0d0887"
             ],
             [
              0.1111111111111111,
              "#46039f"
             ],
             [
              0.2222222222222222,
              "#7201a8"
             ],
             [
              0.3333333333333333,
              "#9c179e"
             ],
             [
              0.4444444444444444,
              "#bd3786"
             ],
             [
              0.5555555555555556,
              "#d8576b"
             ],
             [
              0.6666666666666666,
              "#ed7953"
             ],
             [
              0.7777777777777778,
              "#fb9f3a"
             ],
             [
              0.8888888888888888,
              "#fdca26"
             ],
             [
              1,
              "#f0f921"
             ]
            ],
            "type": "heatmap"
           }
          ],
          "heatmapgl": [
           {
            "colorbar": {
             "outlinewidth": 0,
             "ticks": ""
            },
            "colorscale": [
             [
              0,
              "#0d0887"
             ],
             [
              0.1111111111111111,
              "#46039f"
             ],
             [
              0.2222222222222222,
              "#7201a8"
             ],
             [
              0.3333333333333333,
              "#9c179e"
             ],
             [
              0.4444444444444444,
              "#bd3786"
             ],
             [
              0.5555555555555556,
              "#d8576b"
             ],
             [
              0.6666666666666666,
              "#ed7953"
             ],
             [
              0.7777777777777778,
              "#fb9f3a"
             ],
             [
              0.8888888888888888,
              "#fdca26"
             ],
             [
              1,
              "#f0f921"
             ]
            ],
            "type": "heatmapgl"
           }
          ],
          "histogram": [
           {
            "marker": {
             "pattern": {
              "fillmode": "overlay",
              "size": 10,
              "solidity": 0.2
             }
            },
            "type": "histogram"
           }
          ],
          "histogram2d": [
           {
            "colorbar": {
             "outlinewidth": 0,
             "ticks": ""
            },
            "colorscale": [
             [
              0,
              "#0d0887"
             ],
             [
              0.1111111111111111,
              "#46039f"
             ],
             [
              0.2222222222222222,
              "#7201a8"
             ],
             [
              0.3333333333333333,
              "#9c179e"
             ],
             [
              0.4444444444444444,
              "#bd3786"
             ],
             [
              0.5555555555555556,
              "#d8576b"
             ],
             [
              0.6666666666666666,
              "#ed7953"
             ],
             [
              0.7777777777777778,
              "#fb9f3a"
             ],
             [
              0.8888888888888888,
              "#fdca26"
             ],
             [
              1,
              "#f0f921"
             ]
            ],
            "type": "histogram2d"
           }
          ],
          "histogram2dcontour": [
           {
            "colorbar": {
             "outlinewidth": 0,
             "ticks": ""
            },
            "colorscale": [
             [
              0,
              "#0d0887"
             ],
             [
              0.1111111111111111,
              "#46039f"
             ],
             [
              0.2222222222222222,
              "#7201a8"
             ],
             [
              0.3333333333333333,
              "#9c179e"
             ],
             [
              0.4444444444444444,
              "#bd3786"
             ],
             [
              0.5555555555555556,
              "#d8576b"
             ],
             [
              0.6666666666666666,
              "#ed7953"
             ],
             [
              0.7777777777777778,
              "#fb9f3a"
             ],
             [
              0.8888888888888888,
              "#fdca26"
             ],
             [
              1,
              "#f0f921"
             ]
            ],
            "type": "histogram2dcontour"
           }
          ],
          "mesh3d": [
           {
            "colorbar": {
             "outlinewidth": 0,
             "ticks": ""
            },
            "type": "mesh3d"
           }
          ],
          "parcoords": [
           {
            "line": {
             "colorbar": {
              "outlinewidth": 0,
              "ticks": ""
             }
            },
            "type": "parcoords"
           }
          ],
          "pie": [
           {
            "automargin": true,
            "type": "pie"
           }
          ],
          "scatter": [
           {
            "marker": {
             "colorbar": {
              "outlinewidth": 0,
              "ticks": ""
             }
            },
            "type": "scatter"
           }
          ],
          "scatter3d": [
           {
            "line": {
             "colorbar": {
              "outlinewidth": 0,
              "ticks": ""
             }
            },
            "marker": {
             "colorbar": {
              "outlinewidth": 0,
              "ticks": ""
             }
            },
            "type": "scatter3d"
           }
          ],
          "scattercarpet": [
           {
            "marker": {
             "colorbar": {
              "outlinewidth": 0,
              "ticks": ""
             }
            },
            "type": "scattercarpet"
           }
          ],
          "scattergeo": [
           {
            "marker": {
             "colorbar": {
              "outlinewidth": 0,
              "ticks": ""
             }
            },
            "type": "scattergeo"
           }
          ],
          "scattergl": [
           {
            "marker": {
             "colorbar": {
              "outlinewidth": 0,
              "ticks": ""
             }
            },
            "type": "scattergl"
           }
          ],
          "scattermapbox": [
           {
            "marker": {
             "colorbar": {
              "outlinewidth": 0,
              "ticks": ""
             }
            },
            "type": "scattermapbox"
           }
          ],
          "scatterpolar": [
           {
            "marker": {
             "colorbar": {
              "outlinewidth": 0,
              "ticks": ""
             }
            },
            "type": "scatterpolar"
           }
          ],
          "scatterpolargl": [
           {
            "marker": {
             "colorbar": {
              "outlinewidth": 0,
              "ticks": ""
             }
            },
            "type": "scatterpolargl"
           }
          ],
          "scatterternary": [
           {
            "marker": {
             "colorbar": {
              "outlinewidth": 0,
              "ticks": ""
             }
            },
            "type": "scatterternary"
           }
          ],
          "surface": [
           {
            "colorbar": {
             "outlinewidth": 0,
             "ticks": ""
            },
            "colorscale": [
             [
              0,
              "#0d0887"
             ],
             [
              0.1111111111111111,
              "#46039f"
             ],
             [
              0.2222222222222222,
              "#7201a8"
             ],
             [
              0.3333333333333333,
              "#9c179e"
             ],
             [
              0.4444444444444444,
              "#bd3786"
             ],
             [
              0.5555555555555556,
              "#d8576b"
             ],
             [
              0.6666666666666666,
              "#ed7953"
             ],
             [
              0.7777777777777778,
              "#fb9f3a"
             ],
             [
              0.8888888888888888,
              "#fdca26"
             ],
             [
              1,
              "#f0f921"
             ]
            ],
            "type": "surface"
           }
          ],
          "table": [
           {
            "cells": {
             "fill": {
              "color": "#EBF0F8"
             },
             "line": {
              "color": "white"
             }
            },
            "header": {
             "fill": {
              "color": "#C8D4E3"
             },
             "line": {
              "color": "white"
             }
            },
            "type": "table"
           }
          ]
         },
         "layout": {
          "annotationdefaults": {
           "arrowcolor": "#2a3f5f",
           "arrowhead": 0,
           "arrowwidth": 1
          },
          "autotypenumbers": "strict",
          "coloraxis": {
           "colorbar": {
            "outlinewidth": 0,
            "ticks": ""
           }
          },
          "colorscale": {
           "diverging": [
            [
             0,
             "#8e0152"
            ],
            [
             0.1,
             "#c51b7d"
            ],
            [
             0.2,
             "#de77ae"
            ],
            [
             0.3,
             "#f1b6da"
            ],
            [
             0.4,
             "#fde0ef"
            ],
            [
             0.5,
             "#f7f7f7"
            ],
            [
             0.6,
             "#e6f5d0"
            ],
            [
             0.7,
             "#b8e186"
            ],
            [
             0.8,
             "#7fbc41"
            ],
            [
             0.9,
             "#4d9221"
            ],
            [
             1,
             "#276419"
            ]
           ],
           "sequential": [
            [
             0,
             "#0d0887"
            ],
            [
             0.1111111111111111,
             "#46039f"
            ],
            [
             0.2222222222222222,
             "#7201a8"
            ],
            [
             0.3333333333333333,
             "#9c179e"
            ],
            [
             0.4444444444444444,
             "#bd3786"
            ],
            [
             0.5555555555555556,
             "#d8576b"
            ],
            [
             0.6666666666666666,
             "#ed7953"
            ],
            [
             0.7777777777777778,
             "#fb9f3a"
            ],
            [
             0.8888888888888888,
             "#fdca26"
            ],
            [
             1,
             "#f0f921"
            ]
           ],
           "sequentialminus": [
            [
             0,
             "#0d0887"
            ],
            [
             0.1111111111111111,
             "#46039f"
            ],
            [
             0.2222222222222222,
             "#7201a8"
            ],
            [
             0.3333333333333333,
             "#9c179e"
            ],
            [
             0.4444444444444444,
             "#bd3786"
            ],
            [
             0.5555555555555556,
             "#d8576b"
            ],
            [
             0.6666666666666666,
             "#ed7953"
            ],
            [
             0.7777777777777778,
             "#fb9f3a"
            ],
            [
             0.8888888888888888,
             "#fdca26"
            ],
            [
             1,
             "#f0f921"
            ]
           ]
          },
          "colorway": [
           "#636efa",
           "#EF553B",
           "#00cc96",
           "#ab63fa",
           "#FFA15A",
           "#19d3f3",
           "#FF6692",
           "#B6E880",
           "#FF97FF",
           "#FECB52"
          ],
          "font": {
           "color": "#2a3f5f"
          },
          "geo": {
           "bgcolor": "white",
           "lakecolor": "white",
           "landcolor": "#E5ECF6",
           "showlakes": true,
           "showland": true,
           "subunitcolor": "white"
          },
          "hoverlabel": {
           "align": "left"
          },
          "hovermode": "closest",
          "mapbox": {
           "style": "light"
          },
          "paper_bgcolor": "white",
          "plot_bgcolor": "#E5ECF6",
          "polar": {
           "angularaxis": {
            "gridcolor": "white",
            "linecolor": "white",
            "ticks": ""
           },
           "bgcolor": "#E5ECF6",
           "radialaxis": {
            "gridcolor": "white",
            "linecolor": "white",
            "ticks": ""
           }
          },
          "scene": {
           "xaxis": {
            "backgroundcolor": "#E5ECF6",
            "gridcolor": "white",
            "gridwidth": 2,
            "linecolor": "white",
            "showbackground": true,
            "ticks": "",
            "zerolinecolor": "white"
           },
           "yaxis": {
            "backgroundcolor": "#E5ECF6",
            "gridcolor": "white",
            "gridwidth": 2,
            "linecolor": "white",
            "showbackground": true,
            "ticks": "",
            "zerolinecolor": "white"
           },
           "zaxis": {
            "backgroundcolor": "#E5ECF6",
            "gridcolor": "white",
            "gridwidth": 2,
            "linecolor": "white",
            "showbackground": true,
            "ticks": "",
            "zerolinecolor": "white"
           }
          },
          "shapedefaults": {
           "line": {
            "color": "#2a3f5f"
           }
          },
          "ternary": {
           "aaxis": {
            "gridcolor": "white",
            "linecolor": "white",
            "ticks": ""
           },
           "baxis": {
            "gridcolor": "white",
            "linecolor": "white",
            "ticks": ""
           },
           "bgcolor": "#E5ECF6",
           "caxis": {
            "gridcolor": "white",
            "linecolor": "white",
            "ticks": ""
           }
          },
          "title": {
           "x": 0.05
          },
          "xaxis": {
           "automargin": true,
           "gridcolor": "white",
           "linecolor": "white",
           "ticks": "",
           "title": {
            "standoff": 15
           },
           "zerolinecolor": "white",
           "zerolinewidth": 2
          },
          "yaxis": {
           "automargin": true,
           "gridcolor": "white",
           "linecolor": "white",
           "ticks": "",
           "title": {
            "standoff": 15
           },
           "zerolinecolor": "white",
           "zerolinewidth": 2
          }
         }
        },
        "title": {
         "text": "Format by Year"
        },
        "xaxis": {
         "anchor": "y",
         "domain": [
          0,
          1
         ],
         "title": {
          "text": "Year"
         }
        },
        "yaxis": {
         "anchor": "x",
         "domain": [
          0,
          1
         ],
         "title": {
          "text": "Revenue"
         }
        }
       }
      },
      "text/html": [
       "<div>                            <div id=\"0642538d-0968-41cf-a5f1-0e95ef37eebc\" class=\"plotly-graph-div\" style=\"height:525px; width:100%;\"></div>            <script type=\"text/javascript\">                require([\"plotly\"], function(Plotly) {                    window.PLOTLYENV=window.PLOTLYENV || {};                                    if (document.getElementById(\"0642538d-0968-41cf-a5f1-0e95ef37eebc\")) {                    Plotly.newPlot(                        \"0642538d-0968-41cf-a5f1-0e95ef37eebc\",                        [{\"alignmentgroup\":\"True\",\"hovertemplate\":\"Format=CD<br>Year=%{x}<br>Revenue=%{y}<extra></extra>\",\"legendgroup\":\"CD\",\"marker\":{\"color\":\"#636efa\",\"pattern\":{\"shape\":\"\"}},\"name\":\"CD\",\"offsetgroup\":\"CD\",\"orientation\":\"v\",\"showlegend\":true,\"textposition\":\"auto\",\"type\":\"bar\",\"x\":[2015,2016,2017,2018,2019,2020,2021,2022,2023],\"xaxis\":\"x\",\"y\":[14237,19485,24903,28112,29746,31105,31624,32496,33647],\"yaxis\":\"y\"},{\"alignmentgroup\":\"True\",\"hovertemplate\":\"Format=Digital<br>Year=%{x}<br>Revenue=%{y}<extra></extra>\",\"legendgroup\":\"Digital\",\"marker\":{\"color\":\"#EF553B\",\"pattern\":{\"shape\":\"\"}},\"name\":\"Digital\",\"offsetgroup\":\"Digital\",\"orientation\":\"v\",\"showlegend\":true,\"textposition\":\"auto\",\"type\":\"bar\",\"x\":[2015,2016,2017,2018,2019,2020,2021,2022,2023],\"xaxis\":\"x\",\"y\":[435062,565186,699379,789156,874863,920241,969084,1036025,1112236],\"yaxis\":\"y\"},{\"alignmentgroup\":\"True\",\"hovertemplate\":\"Format=Radio<br>Year=%{x}<br>Revenue=%{y}<extra></extra>\",\"legendgroup\":\"Radio\",\"marker\":{\"color\":\"#00cc96\",\"pattern\":{\"shape\":\"\"}},\"name\":\"Radio\",\"offsetgroup\":\"Radio\",\"orientation\":\"v\",\"showlegend\":true,\"textposition\":\"auto\",\"type\":\"bar\",\"x\":[2015,2016,2017,2018,2019,2020,2021,2022,2023],\"xaxis\":\"x\",\"y\":[107094,169921,219441,257746,284316,301845,313050,323949,336043],\"yaxis\":\"y\"},{\"alignmentgroup\":\"True\",\"hovertemplate\":\"Format=TV<br>Year=%{x}<br>Revenue=%{y}<extra></extra>\",\"legendgroup\":\"TV\",\"marker\":{\"color\":\"#ab63fa\",\"pattern\":{\"shape\":\"\"}},\"name\":\"TV\",\"offsetgroup\":\"TV\",\"orientation\":\"v\",\"showlegend\":true,\"textposition\":\"auto\",\"type\":\"bar\",\"x\":[2015,2016,2017,2018,2019,2020,2021,2022,2023],\"xaxis\":\"x\",\"y\":[57546,82947,106400,123885,134576,140092,144091,146642,149854],\"yaxis\":\"y\"}],                        {\"barmode\":\"group\",\"legend\":{\"title\":{\"text\":\"Format\"},\"tracegroupgap\":0},\"template\":{\"data\":{\"bar\":[{\"error_x\":{\"color\":\"#2a3f5f\"},\"error_y\":{\"color\":\"#2a3f5f\"},\"marker\":{\"line\":{\"color\":\"#E5ECF6\",\"width\":0.5},\"pattern\":{\"fillmode\":\"overlay\",\"size\":10,\"solidity\":0.2}},\"type\":\"bar\"}],\"barpolar\":[{\"marker\":{\"line\":{\"color\":\"#E5ECF6\",\"width\":0.5},\"pattern\":{\"fillmode\":\"overlay\",\"size\":10,\"solidity\":0.2}},\"type\":\"barpolar\"}],\"carpet\":[{\"aaxis\":{\"endlinecolor\":\"#2a3f5f\",\"gridcolor\":\"white\",\"linecolor\":\"white\",\"minorgridcolor\":\"white\",\"startlinecolor\":\"#2a3f5f\"},\"baxis\":{\"endlinecolor\":\"#2a3f5f\",\"gridcolor\":\"white\",\"linecolor\":\"white\",\"minorgridcolor\":\"white\",\"startlinecolor\":\"#2a3f5f\"},\"type\":\"carpet\"}],\"choropleth\":[{\"colorbar\":{\"outlinewidth\":0,\"ticks\":\"\"},\"type\":\"choropleth\"}],\"contour\":[{\"colorbar\":{\"outlinewidth\":0,\"ticks\":\"\"},\"colorscale\":[[0.0,\"#0d0887\"],[0.1111111111111111,\"#46039f\"],[0.2222222222222222,\"#7201a8\"],[0.3333333333333333,\"#9c179e\"],[0.4444444444444444,\"#bd3786\"],[0.5555555555555556,\"#d8576b\"],[0.6666666666666666,\"#ed7953\"],[0.7777777777777778,\"#fb9f3a\"],[0.8888888888888888,\"#fdca26\"],[1.0,\"#f0f921\"]],\"type\":\"contour\"}],\"contourcarpet\":[{\"colorbar\":{\"outlinewidth\":0,\"ticks\":\"\"},\"type\":\"contourcarpet\"}],\"heatmap\":[{\"colorbar\":{\"outlinewidth\":0,\"ticks\":\"\"},\"colorscale\":[[0.0,\"#0d0887\"],[0.1111111111111111,\"#46039f\"],[0.2222222222222222,\"#7201a8\"],[0.3333333333333333,\"#9c179e\"],[0.4444444444444444,\"#bd3786\"],[0.5555555555555556,\"#d8576b\"],[0.6666666666666666,\"#ed7953\"],[0.7777777777777778,\"#fb9f3a\"],[0.8888888888888888,\"#fdca26\"],[1.0,\"#f0f921\"]],\"type\":\"heatmap\"}],\"heatmapgl\":[{\"colorbar\":{\"outlinewidth\":0,\"ticks\":\"\"},\"colorscale\":[[0.0,\"#0d0887\"],[0.1111111111111111,\"#46039f\"],[0.2222222222222222,\"#7201a8\"],[0.3333333333333333,\"#9c179e\"],[0.4444444444444444,\"#bd3786\"],[0.5555555555555556,\"#d8576b\"],[0.6666666666666666,\"#ed7953\"],[0.7777777777777778,\"#fb9f3a\"],[0.8888888888888888,\"#fdca26\"],[1.0,\"#f0f921\"]],\"type\":\"heatmapgl\"}],\"histogram\":[{\"marker\":{\"pattern\":{\"fillmode\":\"overlay\",\"size\":10,\"solidity\":0.2}},\"type\":\"histogram\"}],\"histogram2d\":[{\"colorbar\":{\"outlinewidth\":0,\"ticks\":\"\"},\"colorscale\":[[0.0,\"#0d0887\"],[0.1111111111111111,\"#46039f\"],[0.2222222222222222,\"#7201a8\"],[0.3333333333333333,\"#9c179e\"],[0.4444444444444444,\"#bd3786\"],[0.5555555555555556,\"#d8576b\"],[0.6666666666666666,\"#ed7953\"],[0.7777777777777778,\"#fb9f3a\"],[0.8888888888888888,\"#fdca26\"],[1.0,\"#f0f921\"]],\"type\":\"histogram2d\"}],\"histogram2dcontour\":[{\"colorbar\":{\"outlinewidth\":0,\"ticks\":\"\"},\"colorscale\":[[0.0,\"#0d0887\"],[0.1111111111111111,\"#46039f\"],[0.2222222222222222,\"#7201a8\"],[0.3333333333333333,\"#9c179e\"],[0.4444444444444444,\"#bd3786\"],[0.5555555555555556,\"#d8576b\"],[0.6666666666666666,\"#ed7953\"],[0.7777777777777778,\"#fb9f3a\"],[0.8888888888888888,\"#fdca26\"],[1.0,\"#f0f921\"]],\"type\":\"histogram2dcontour\"}],\"mesh3d\":[{\"colorbar\":{\"outlinewidth\":0,\"ticks\":\"\"},\"type\":\"mesh3d\"}],\"parcoords\":[{\"line\":{\"colorbar\":{\"outlinewidth\":0,\"ticks\":\"\"}},\"type\":\"parcoords\"}],\"pie\":[{\"automargin\":true,\"type\":\"pie\"}],\"scatter\":[{\"marker\":{\"colorbar\":{\"outlinewidth\":0,\"ticks\":\"\"}},\"type\":\"scatter\"}],\"scatter3d\":[{\"line\":{\"colorbar\":{\"outlinewidth\":0,\"ticks\":\"\"}},\"marker\":{\"colorbar\":{\"outlinewidth\":0,\"ticks\":\"\"}},\"type\":\"scatter3d\"}],\"scattercarpet\":[{\"marker\":{\"colorbar\":{\"outlinewidth\":0,\"ticks\":\"\"}},\"type\":\"scattercarpet\"}],\"scattergeo\":[{\"marker\":{\"colorbar\":{\"outlinewidth\":0,\"ticks\":\"\"}},\"type\":\"scattergeo\"}],\"scattergl\":[{\"marker\":{\"colorbar\":{\"outlinewidth\":0,\"ticks\":\"\"}},\"type\":\"scattergl\"}],\"scattermapbox\":[{\"marker\":{\"colorbar\":{\"outlinewidth\":0,\"ticks\":\"\"}},\"type\":\"scattermapbox\"}],\"scatterpolar\":[{\"marker\":{\"colorbar\":{\"outlinewidth\":0,\"ticks\":\"\"}},\"type\":\"scatterpolar\"}],\"scatterpolargl\":[{\"marker\":{\"colorbar\":{\"outlinewidth\":0,\"ticks\":\"\"}},\"type\":\"scatterpolargl\"}],\"scatterternary\":[{\"marker\":{\"colorbar\":{\"outlinewidth\":0,\"ticks\":\"\"}},\"type\":\"scatterternary\"}],\"surface\":[{\"colorbar\":{\"outlinewidth\":0,\"ticks\":\"\"},\"colorscale\":[[0.0,\"#0d0887\"],[0.1111111111111111,\"#46039f\"],[0.2222222222222222,\"#7201a8\"],[0.3333333333333333,\"#9c179e\"],[0.4444444444444444,\"#bd3786\"],[0.5555555555555556,\"#d8576b\"],[0.6666666666666666,\"#ed7953\"],[0.7777777777777778,\"#fb9f3a\"],[0.8888888888888888,\"#fdca26\"],[1.0,\"#f0f921\"]],\"type\":\"surface\"}],\"table\":[{\"cells\":{\"fill\":{\"color\":\"#EBF0F8\"},\"line\":{\"color\":\"white\"}},\"header\":{\"fill\":{\"color\":\"#C8D4E3\"},\"line\":{\"color\":\"white\"}},\"type\":\"table\"}]},\"layout\":{\"annotationdefaults\":{\"arrowcolor\":\"#2a3f5f\",\"arrowhead\":0,\"arrowwidth\":1},\"autotypenumbers\":\"strict\",\"coloraxis\":{\"colorbar\":{\"outlinewidth\":0,\"ticks\":\"\"}},\"colorscale\":{\"diverging\":[[0,\"#8e0152\"],[0.1,\"#c51b7d\"],[0.2,\"#de77ae\"],[0.3,\"#f1b6da\"],[0.4,\"#fde0ef\"],[0.5,\"#f7f7f7\"],[0.6,\"#e6f5d0\"],[0.7,\"#b8e186\"],[0.8,\"#7fbc41\"],[0.9,\"#4d9221\"],[1,\"#276419\"]],\"sequential\":[[0.0,\"#0d0887\"],[0.1111111111111111,\"#46039f\"],[0.2222222222222222,\"#7201a8\"],[0.3333333333333333,\"#9c179e\"],[0.4444444444444444,\"#bd3786\"],[0.5555555555555556,\"#d8576b\"],[0.6666666666666666,\"#ed7953\"],[0.7777777777777778,\"#fb9f3a\"],[0.8888888888888888,\"#fdca26\"],[1.0,\"#f0f921\"]],\"sequentialminus\":[[0.0,\"#0d0887\"],[0.1111111111111111,\"#46039f\"],[0.2222222222222222,\"#7201a8\"],[0.3333333333333333,\"#9c179e\"],[0.4444444444444444,\"#bd3786\"],[0.5555555555555556,\"#d8576b\"],[0.6666666666666666,\"#ed7953\"],[0.7777777777777778,\"#fb9f3a\"],[0.8888888888888888,\"#fdca26\"],[1.0,\"#f0f921\"]]},\"colorway\":[\"#636efa\",\"#EF553B\",\"#00cc96\",\"#ab63fa\",\"#FFA15A\",\"#19d3f3\",\"#FF6692\",\"#B6E880\",\"#FF97FF\",\"#FECB52\"],\"font\":{\"color\":\"#2a3f5f\"},\"geo\":{\"bgcolor\":\"white\",\"lakecolor\":\"white\",\"landcolor\":\"#E5ECF6\",\"showlakes\":true,\"showland\":true,\"subunitcolor\":\"white\"},\"hoverlabel\":{\"align\":\"left\"},\"hovermode\":\"closest\",\"mapbox\":{\"style\":\"light\"},\"paper_bgcolor\":\"white\",\"plot_bgcolor\":\"#E5ECF6\",\"polar\":{\"angularaxis\":{\"gridcolor\":\"white\",\"linecolor\":\"white\",\"ticks\":\"\"},\"bgcolor\":\"#E5ECF6\",\"radialaxis\":{\"gridcolor\":\"white\",\"linecolor\":\"white\",\"ticks\":\"\"}},\"scene\":{\"xaxis\":{\"backgroundcolor\":\"#E5ECF6\",\"gridcolor\":\"white\",\"gridwidth\":2,\"linecolor\":\"white\",\"showbackground\":true,\"ticks\":\"\",\"zerolinecolor\":\"white\"},\"yaxis\":{\"backgroundcolor\":\"#E5ECF6\",\"gridcolor\":\"white\",\"gridwidth\":2,\"linecolor\":\"white\",\"showbackground\":true,\"ticks\":\"\",\"zerolinecolor\":\"white\"},\"zaxis\":{\"backgroundcolor\":\"#E5ECF6\",\"gridcolor\":\"white\",\"gridwidth\":2,\"linecolor\":\"white\",\"showbackground\":true,\"ticks\":\"\",\"zerolinecolor\":\"white\"}},\"shapedefaults\":{\"line\":{\"color\":\"#2a3f5f\"}},\"ternary\":{\"aaxis\":{\"gridcolor\":\"white\",\"linecolor\":\"white\",\"ticks\":\"\"},\"baxis\":{\"gridcolor\":\"white\",\"linecolor\":\"white\",\"ticks\":\"\"},\"bgcolor\":\"#E5ECF6\",\"caxis\":{\"gridcolor\":\"white\",\"linecolor\":\"white\",\"ticks\":\"\"}},\"title\":{\"x\":0.05},\"xaxis\":{\"automargin\":true,\"gridcolor\":\"white\",\"linecolor\":\"white\",\"ticks\":\"\",\"title\":{\"standoff\":15},\"zerolinecolor\":\"white\",\"zerolinewidth\":2},\"yaxis\":{\"automargin\":true,\"gridcolor\":\"white\",\"linecolor\":\"white\",\"ticks\":\"\",\"title\":{\"standoff\":15},\"zerolinecolor\":\"white\",\"zerolinewidth\":2}}},\"title\":{\"text\":\"Format by Year\"},\"xaxis\":{\"anchor\":\"y\",\"domain\":[0.0,1.0],\"title\":{\"text\":\"Year\"}},\"yaxis\":{\"anchor\":\"x\",\"domain\":[0.0,1.0],\"title\":{\"text\":\"Revenue\"}}},                        {\"responsive\": true}                    ).then(function(){\n",
       "                            \n",
       "var gd = document.getElementById('0642538d-0968-41cf-a5f1-0e95ef37eebc');\n",
       "var x = new MutationObserver(function (mutations, observer) {{\n",
       "        var display = window.getComputedStyle(gd).display;\n",
       "        if (!display || display === 'none') {{\n",
       "            console.log([gd, 'removed!']);\n",
       "            Plotly.purge(gd);\n",
       "            observer.disconnect();\n",
       "        }}\n",
       "}});\n",
       "\n",
       "// Listen for the removal of the full notebook cells\n",
       "var notebookContainer = gd.closest('#notebook-container');\n",
       "if (notebookContainer) {{\n",
       "    x.observe(notebookContainer, {childList: true});\n",
       "}}\n",
       "\n",
       "// Listen for the clearing of the current output cell\n",
       "var outputEl = gd.closest('.output');\n",
       "if (outputEl) {{\n",
       "    x.observe(outputEl, {childList: true});\n",
       "}}\n",
       "\n",
       "                        })                };                });            </script>        </div>"
      ]
     },
     "metadata": {},
     "output_type": "display_data"
    }
   ],
   "source": [
    "fig = px.bar(df_channel_by_year, x = \"Year\", y =\"Revenue\", color = \"Format\", barmode= \"group\",title = \"Format by Year\",\n",
    "             labels={'Revenue': 'Revenue', 'Format': 'Format'})\n",
    "fig.show()"
   ]
  },
  {
   "attachments": {},
   "cell_type": "markdown",
   "id": "578463bb",
   "metadata": {
    "slideshow": {
     "slide_type": "notes"
    }
   },
   "source": [
    "The digital channel stands out as a noteworthy contributor to overall revenue, exhibiting a remarkable surge in growth over the years. While other channels have demonstrated growth in their revenue contributions, their rates have been comparatively slower than that of the digital channel, with CD registering the lowest growth."
   ]
  },
  {
   "cell_type": "code",
   "execution_count": 61,
   "id": "e8e7c27a",
   "metadata": {},
   "outputs": [
    {
     "data": {
      "text/html": [
       "<div>\n",
       "<style scoped>\n",
       "    .dataframe tbody tr th:only-of-type {\n",
       "        vertical-align: middle;\n",
       "    }\n",
       "\n",
       "    .dataframe tbody tr th {\n",
       "        vertical-align: top;\n",
       "    }\n",
       "\n",
       "    .dataframe thead th {\n",
       "        text-align: right;\n",
       "    }\n",
       "</style>\n",
       "<table border=\"1\" class=\"dataframe\">\n",
       "  <thead>\n",
       "    <tr style=\"text-align: right;\">\n",
       "      <th></th>\n",
       "      <th>AuthorID</th>\n",
       "      <th>Revenue</th>\n",
       "    </tr>\n",
       "  </thead>\n",
       "  <tbody>\n",
       "    <tr>\n",
       "      <th>0</th>\n",
       "      <td>1</td>\n",
       "      <td>10888</td>\n",
       "    </tr>\n",
       "    <tr>\n",
       "      <th>1</th>\n",
       "      <td>2</td>\n",
       "      <td>11624</td>\n",
       "    </tr>\n",
       "    <tr>\n",
       "      <th>2</th>\n",
       "      <td>3</td>\n",
       "      <td>7866</td>\n",
       "    </tr>\n",
       "    <tr>\n",
       "      <th>3</th>\n",
       "      <td>4</td>\n",
       "      <td>14431</td>\n",
       "    </tr>\n",
       "    <tr>\n",
       "      <th>4</th>\n",
       "      <td>5</td>\n",
       "      <td>9712</td>\n",
       "    </tr>\n",
       "    <tr>\n",
       "      <th>...</th>\n",
       "      <td>...</td>\n",
       "      <td>...</td>\n",
       "    </tr>\n",
       "    <tr>\n",
       "      <th>995</th>\n",
       "      <td>996</td>\n",
       "      <td>13416</td>\n",
       "    </tr>\n",
       "    <tr>\n",
       "      <th>996</th>\n",
       "      <td>997</td>\n",
       "      <td>8126</td>\n",
       "    </tr>\n",
       "    <tr>\n",
       "      <th>997</th>\n",
       "      <td>998</td>\n",
       "      <td>8043</td>\n",
       "    </tr>\n",
       "    <tr>\n",
       "      <th>998</th>\n",
       "      <td>999</td>\n",
       "      <td>9432</td>\n",
       "    </tr>\n",
       "    <tr>\n",
       "      <th>999</th>\n",
       "      <td>1000</td>\n",
       "      <td>10497</td>\n",
       "    </tr>\n",
       "  </tbody>\n",
       "</table>\n",
       "<p>1000 rows × 2 columns</p>\n",
       "</div>"
      ],
      "text/plain": [
       "     AuthorID  Revenue\n",
       "0           1    10888\n",
       "1           2    11624\n",
       "2           3     7866\n",
       "3           4    14431\n",
       "4           5     9712\n",
       "..        ...      ...\n",
       "995       996    13416\n",
       "996       997     8126\n",
       "997       998     8043\n",
       "998       999     9432\n",
       "999      1000    10497\n",
       "\n",
       "[1000 rows x 2 columns]"
      ]
     },
     "execution_count": 61,
     "metadata": {},
     "output_type": "execute_result"
    }
   ],
   "source": [
    "##Which authors contribute most to the revenue?\n",
    "df_revenue_per_author = pd.DataFrame(df3.groupby(\"AuthorID\")[\"Revenue\"].sum()) \n",
    "df_revenue_per_author.reset_index(inplace = True)\n",
    "df_revenue_per_author"
   ]
  },
  {
   "cell_type": "code",
   "execution_count": 65,
   "id": "ae5d8d6f",
   "metadata": {},
   "outputs": [],
   "source": [
    "df_revenue_per_author[\"AuthorID\"] = df_revenue_per_author[\"AuthorID\"].astype(str)"
   ]
  },
  {
   "cell_type": "code",
   "execution_count": 258,
   "id": "d4ed2eb8",
   "metadata": {},
   "outputs": [
    {
     "data": {
      "application/vnd.plotly.v1+json": {
       "config": {
        "plotlyServerURL": "https://plot.ly"
       },
       "data": [
        {
         "alignmentgroup": "True",
         "hovertemplate": "Author ID=%{x}<br>Revenue=%{y}<extra></extra>",
         "legendgroup": "",
         "marker": {
          "color": "#636efa",
          "pattern": {
           "shape": ""
          }
         },
         "name": "",
         "offsetgroup": "",
         "orientation": "v",
         "showlegend": false,
         "textposition": "auto",
         "type": "bar",
         "x": [
          "49",
          "964",
          "923",
          "142",
          "640",
          "238",
          "775",
          "974",
          "164",
          "652",
          "881",
          "465",
          "273",
          "246",
          "701",
          "784",
          "576",
          "594",
          "53",
          "446"
         ],
         "xaxis": "x",
         "y": [
          27709,
          24744,
          24185,
          23904,
          23717,
          22577,
          22083,
          21952,
          21938,
          21801,
          21755,
          21686,
          21536,
          21521,
          21259,
          21125,
          21032,
          20939,
          20756,
          20676
         ],
         "yaxis": "y"
        }
       ],
       "layout": {
        "barmode": "relative",
        "legend": {
         "tracegroupgap": 0
        },
        "template": {
         "data": {
          "bar": [
           {
            "error_x": {
             "color": "#2a3f5f"
            },
            "error_y": {
             "color": "#2a3f5f"
            },
            "marker": {
             "line": {
              "color": "#E5ECF6",
              "width": 0.5
             },
             "pattern": {
              "fillmode": "overlay",
              "size": 10,
              "solidity": 0.2
             }
            },
            "type": "bar"
           }
          ],
          "barpolar": [
           {
            "marker": {
             "line": {
              "color": "#E5ECF6",
              "width": 0.5
             },
             "pattern": {
              "fillmode": "overlay",
              "size": 10,
              "solidity": 0.2
             }
            },
            "type": "barpolar"
           }
          ],
          "carpet": [
           {
            "aaxis": {
             "endlinecolor": "#2a3f5f",
             "gridcolor": "white",
             "linecolor": "white",
             "minorgridcolor": "white",
             "startlinecolor": "#2a3f5f"
            },
            "baxis": {
             "endlinecolor": "#2a3f5f",
             "gridcolor": "white",
             "linecolor": "white",
             "minorgridcolor": "white",
             "startlinecolor": "#2a3f5f"
            },
            "type": "carpet"
           }
          ],
          "choropleth": [
           {
            "colorbar": {
             "outlinewidth": 0,
             "ticks": ""
            },
            "type": "choropleth"
           }
          ],
          "contour": [
           {
            "colorbar": {
             "outlinewidth": 0,
             "ticks": ""
            },
            "colorscale": [
             [
              0,
              "#0d0887"
             ],
             [
              0.1111111111111111,
              "#46039f"
             ],
             [
              0.2222222222222222,
              "#7201a8"
             ],
             [
              0.3333333333333333,
              "#9c179e"
             ],
             [
              0.4444444444444444,
              "#bd3786"
             ],
             [
              0.5555555555555556,
              "#d8576b"
             ],
             [
              0.6666666666666666,
              "#ed7953"
             ],
             [
              0.7777777777777778,
              "#fb9f3a"
             ],
             [
              0.8888888888888888,
              "#fdca26"
             ],
             [
              1,
              "#f0f921"
             ]
            ],
            "type": "contour"
           }
          ],
          "contourcarpet": [
           {
            "colorbar": {
             "outlinewidth": 0,
             "ticks": ""
            },
            "type": "contourcarpet"
           }
          ],
          "heatmap": [
           {
            "colorbar": {
             "outlinewidth": 0,
             "ticks": ""
            },
            "colorscale": [
             [
              0,
              "#0d0887"
             ],
             [
              0.1111111111111111,
              "#46039f"
             ],
             [
              0.2222222222222222,
              "#7201a8"
             ],
             [
              0.3333333333333333,
              "#9c179e"
             ],
             [
              0.4444444444444444,
              "#bd3786"
             ],
             [
              0.5555555555555556,
              "#d8576b"
             ],
             [
              0.6666666666666666,
              "#ed7953"
             ],
             [
              0.7777777777777778,
              "#fb9f3a"
             ],
             [
              0.8888888888888888,
              "#fdca26"
             ],
             [
              1,
              "#f0f921"
             ]
            ],
            "type": "heatmap"
           }
          ],
          "heatmapgl": [
           {
            "colorbar": {
             "outlinewidth": 0,
             "ticks": ""
            },
            "colorscale": [
             [
              0,
              "#0d0887"
             ],
             [
              0.1111111111111111,
              "#46039f"
             ],
             [
              0.2222222222222222,
              "#7201a8"
             ],
             [
              0.3333333333333333,
              "#9c179e"
             ],
             [
              0.4444444444444444,
              "#bd3786"
             ],
             [
              0.5555555555555556,
              "#d8576b"
             ],
             [
              0.6666666666666666,
              "#ed7953"
             ],
             [
              0.7777777777777778,
              "#fb9f3a"
             ],
             [
              0.8888888888888888,
              "#fdca26"
             ],
             [
              1,
              "#f0f921"
             ]
            ],
            "type": "heatmapgl"
           }
          ],
          "histogram": [
           {
            "marker": {
             "pattern": {
              "fillmode": "overlay",
              "size": 10,
              "solidity": 0.2
             }
            },
            "type": "histogram"
           }
          ],
          "histogram2d": [
           {
            "colorbar": {
             "outlinewidth": 0,
             "ticks": ""
            },
            "colorscale": [
             [
              0,
              "#0d0887"
             ],
             [
              0.1111111111111111,
              "#46039f"
             ],
             [
              0.2222222222222222,
              "#7201a8"
             ],
             [
              0.3333333333333333,
              "#9c179e"
             ],
             [
              0.4444444444444444,
              "#bd3786"
             ],
             [
              0.5555555555555556,
              "#d8576b"
             ],
             [
              0.6666666666666666,
              "#ed7953"
             ],
             [
              0.7777777777777778,
              "#fb9f3a"
             ],
             [
              0.8888888888888888,
              "#fdca26"
             ],
             [
              1,
              "#f0f921"
             ]
            ],
            "type": "histogram2d"
           }
          ],
          "histogram2dcontour": [
           {
            "colorbar": {
             "outlinewidth": 0,
             "ticks": ""
            },
            "colorscale": [
             [
              0,
              "#0d0887"
             ],
             [
              0.1111111111111111,
              "#46039f"
             ],
             [
              0.2222222222222222,
              "#7201a8"
             ],
             [
              0.3333333333333333,
              "#9c179e"
             ],
             [
              0.4444444444444444,
              "#bd3786"
             ],
             [
              0.5555555555555556,
              "#d8576b"
             ],
             [
              0.6666666666666666,
              "#ed7953"
             ],
             [
              0.7777777777777778,
              "#fb9f3a"
             ],
             [
              0.8888888888888888,
              "#fdca26"
             ],
             [
              1,
              "#f0f921"
             ]
            ],
            "type": "histogram2dcontour"
           }
          ],
          "mesh3d": [
           {
            "colorbar": {
             "outlinewidth": 0,
             "ticks": ""
            },
            "type": "mesh3d"
           }
          ],
          "parcoords": [
           {
            "line": {
             "colorbar": {
              "outlinewidth": 0,
              "ticks": ""
             }
            },
            "type": "parcoords"
           }
          ],
          "pie": [
           {
            "automargin": true,
            "type": "pie"
           }
          ],
          "scatter": [
           {
            "marker": {
             "colorbar": {
              "outlinewidth": 0,
              "ticks": ""
             }
            },
            "type": "scatter"
           }
          ],
          "scatter3d": [
           {
            "line": {
             "colorbar": {
              "outlinewidth": 0,
              "ticks": ""
             }
            },
            "marker": {
             "colorbar": {
              "outlinewidth": 0,
              "ticks": ""
             }
            },
            "type": "scatter3d"
           }
          ],
          "scattercarpet": [
           {
            "marker": {
             "colorbar": {
              "outlinewidth": 0,
              "ticks": ""
             }
            },
            "type": "scattercarpet"
           }
          ],
          "scattergeo": [
           {
            "marker": {
             "colorbar": {
              "outlinewidth": 0,
              "ticks": ""
             }
            },
            "type": "scattergeo"
           }
          ],
          "scattergl": [
           {
            "marker": {
             "colorbar": {
              "outlinewidth": 0,
              "ticks": ""
             }
            },
            "type": "scattergl"
           }
          ],
          "scattermapbox": [
           {
            "marker": {
             "colorbar": {
              "outlinewidth": 0,
              "ticks": ""
             }
            },
            "type": "scattermapbox"
           }
          ],
          "scatterpolar": [
           {
            "marker": {
             "colorbar": {
              "outlinewidth": 0,
              "ticks": ""
             }
            },
            "type": "scatterpolar"
           }
          ],
          "scatterpolargl": [
           {
            "marker": {
             "colorbar": {
              "outlinewidth": 0,
              "ticks": ""
             }
            },
            "type": "scatterpolargl"
           }
          ],
          "scatterternary": [
           {
            "marker": {
             "colorbar": {
              "outlinewidth": 0,
              "ticks": ""
             }
            },
            "type": "scatterternary"
           }
          ],
          "surface": [
           {
            "colorbar": {
             "outlinewidth": 0,
             "ticks": ""
            },
            "colorscale": [
             [
              0,
              "#0d0887"
             ],
             [
              0.1111111111111111,
              "#46039f"
             ],
             [
              0.2222222222222222,
              "#7201a8"
             ],
             [
              0.3333333333333333,
              "#9c179e"
             ],
             [
              0.4444444444444444,
              "#bd3786"
             ],
             [
              0.5555555555555556,
              "#d8576b"
             ],
             [
              0.6666666666666666,
              "#ed7953"
             ],
             [
              0.7777777777777778,
              "#fb9f3a"
             ],
             [
              0.8888888888888888,
              "#fdca26"
             ],
             [
              1,
              "#f0f921"
             ]
            ],
            "type": "surface"
           }
          ],
          "table": [
           {
            "cells": {
             "fill": {
              "color": "#EBF0F8"
             },
             "line": {
              "color": "white"
             }
            },
            "header": {
             "fill": {
              "color": "#C8D4E3"
             },
             "line": {
              "color": "white"
             }
            },
            "type": "table"
           }
          ]
         },
         "layout": {
          "annotationdefaults": {
           "arrowcolor": "#2a3f5f",
           "arrowhead": 0,
           "arrowwidth": 1
          },
          "autotypenumbers": "strict",
          "coloraxis": {
           "colorbar": {
            "outlinewidth": 0,
            "ticks": ""
           }
          },
          "colorscale": {
           "diverging": [
            [
             0,
             "#8e0152"
            ],
            [
             0.1,
             "#c51b7d"
            ],
            [
             0.2,
             "#de77ae"
            ],
            [
             0.3,
             "#f1b6da"
            ],
            [
             0.4,
             "#fde0ef"
            ],
            [
             0.5,
             "#f7f7f7"
            ],
            [
             0.6,
             "#e6f5d0"
            ],
            [
             0.7,
             "#b8e186"
            ],
            [
             0.8,
             "#7fbc41"
            ],
            [
             0.9,
             "#4d9221"
            ],
            [
             1,
             "#276419"
            ]
           ],
           "sequential": [
            [
             0,
             "#0d0887"
            ],
            [
             0.1111111111111111,
             "#46039f"
            ],
            [
             0.2222222222222222,
             "#7201a8"
            ],
            [
             0.3333333333333333,
             "#9c179e"
            ],
            [
             0.4444444444444444,
             "#bd3786"
            ],
            [
             0.5555555555555556,
             "#d8576b"
            ],
            [
             0.6666666666666666,
             "#ed7953"
            ],
            [
             0.7777777777777778,
             "#fb9f3a"
            ],
            [
             0.8888888888888888,
             "#fdca26"
            ],
            [
             1,
             "#f0f921"
            ]
           ],
           "sequentialminus": [
            [
             0,
             "#0d0887"
            ],
            [
             0.1111111111111111,
             "#46039f"
            ],
            [
             0.2222222222222222,
             "#7201a8"
            ],
            [
             0.3333333333333333,
             "#9c179e"
            ],
            [
             0.4444444444444444,
             "#bd3786"
            ],
            [
             0.5555555555555556,
             "#d8576b"
            ],
            [
             0.6666666666666666,
             "#ed7953"
            ],
            [
             0.7777777777777778,
             "#fb9f3a"
            ],
            [
             0.8888888888888888,
             "#fdca26"
            ],
            [
             1,
             "#f0f921"
            ]
           ]
          },
          "colorway": [
           "#636efa",
           "#EF553B",
           "#00cc96",
           "#ab63fa",
           "#FFA15A",
           "#19d3f3",
           "#FF6692",
           "#B6E880",
           "#FF97FF",
           "#FECB52"
          ],
          "font": {
           "color": "#2a3f5f"
          },
          "geo": {
           "bgcolor": "white",
           "lakecolor": "white",
           "landcolor": "#E5ECF6",
           "showlakes": true,
           "showland": true,
           "subunitcolor": "white"
          },
          "hoverlabel": {
           "align": "left"
          },
          "hovermode": "closest",
          "mapbox": {
           "style": "light"
          },
          "paper_bgcolor": "white",
          "plot_bgcolor": "#E5ECF6",
          "polar": {
           "angularaxis": {
            "gridcolor": "white",
            "linecolor": "white",
            "ticks": ""
           },
           "bgcolor": "#E5ECF6",
           "radialaxis": {
            "gridcolor": "white",
            "linecolor": "white",
            "ticks": ""
           }
          },
          "scene": {
           "xaxis": {
            "backgroundcolor": "#E5ECF6",
            "gridcolor": "white",
            "gridwidth": 2,
            "linecolor": "white",
            "showbackground": true,
            "ticks": "",
            "zerolinecolor": "white"
           },
           "yaxis": {
            "backgroundcolor": "#E5ECF6",
            "gridcolor": "white",
            "gridwidth": 2,
            "linecolor": "white",
            "showbackground": true,
            "ticks": "",
            "zerolinecolor": "white"
           },
           "zaxis": {
            "backgroundcolor": "#E5ECF6",
            "gridcolor": "white",
            "gridwidth": 2,
            "linecolor": "white",
            "showbackground": true,
            "ticks": "",
            "zerolinecolor": "white"
           }
          },
          "shapedefaults": {
           "line": {
            "color": "#2a3f5f"
           }
          },
          "ternary": {
           "aaxis": {
            "gridcolor": "white",
            "linecolor": "white",
            "ticks": ""
           },
           "baxis": {
            "gridcolor": "white",
            "linecolor": "white",
            "ticks": ""
           },
           "bgcolor": "#E5ECF6",
           "caxis": {
            "gridcolor": "white",
            "linecolor": "white",
            "ticks": ""
           }
          },
          "title": {
           "x": 0.05
          },
          "xaxis": {
           "automargin": true,
           "gridcolor": "white",
           "linecolor": "white",
           "ticks": "",
           "title": {
            "standoff": 15
           },
           "zerolinecolor": "white",
           "zerolinewidth": 2
          },
          "yaxis": {
           "automargin": true,
           "gridcolor": "white",
           "linecolor": "white",
           "ticks": "",
           "title": {
            "standoff": 15
           },
           "zerolinecolor": "white",
           "zerolinewidth": 2
          }
         }
        },
        "title": {
         "text": "Top Authors"
        },
        "xaxis": {
         "anchor": "y",
         "domain": [
          0,
          1
         ],
         "title": {
          "text": "Author ID"
         }
        },
        "yaxis": {
         "anchor": "x",
         "domain": [
          0,
          1
         ],
         "title": {
          "text": "Revenue"
         }
        }
       }
      },
      "text/html": [
       "<div>                            <div id=\"0f7f6b06-d353-493a-a836-6d8a6a16b1f2\" class=\"plotly-graph-div\" style=\"height:525px; width:100%;\"></div>            <script type=\"text/javascript\">                require([\"plotly\"], function(Plotly) {                    window.PLOTLYENV=window.PLOTLYENV || {};                                    if (document.getElementById(\"0f7f6b06-d353-493a-a836-6d8a6a16b1f2\")) {                    Plotly.newPlot(                        \"0f7f6b06-d353-493a-a836-6d8a6a16b1f2\",                        [{\"alignmentgroup\":\"True\",\"hovertemplate\":\"Author ID=%{x}<br>Revenue=%{y}<extra></extra>\",\"legendgroup\":\"\",\"marker\":{\"color\":\"#636efa\",\"pattern\":{\"shape\":\"\"}},\"name\":\"\",\"offsetgroup\":\"\",\"orientation\":\"v\",\"showlegend\":false,\"textposition\":\"auto\",\"type\":\"bar\",\"x\":[\"49\",\"964\",\"923\",\"142\",\"640\",\"238\",\"775\",\"974\",\"164\",\"652\",\"881\",\"465\",\"273\",\"246\",\"701\",\"784\",\"576\",\"594\",\"53\",\"446\"],\"xaxis\":\"x\",\"y\":[27709,24744,24185,23904,23717,22577,22083,21952,21938,21801,21755,21686,21536,21521,21259,21125,21032,20939,20756,20676],\"yaxis\":\"y\"}],                        {\"barmode\":\"relative\",\"legend\":{\"tracegroupgap\":0},\"template\":{\"data\":{\"bar\":[{\"error_x\":{\"color\":\"#2a3f5f\"},\"error_y\":{\"color\":\"#2a3f5f\"},\"marker\":{\"line\":{\"color\":\"#E5ECF6\",\"width\":0.5},\"pattern\":{\"fillmode\":\"overlay\",\"size\":10,\"solidity\":0.2}},\"type\":\"bar\"}],\"barpolar\":[{\"marker\":{\"line\":{\"color\":\"#E5ECF6\",\"width\":0.5},\"pattern\":{\"fillmode\":\"overlay\",\"size\":10,\"solidity\":0.2}},\"type\":\"barpolar\"}],\"carpet\":[{\"aaxis\":{\"endlinecolor\":\"#2a3f5f\",\"gridcolor\":\"white\",\"linecolor\":\"white\",\"minorgridcolor\":\"white\",\"startlinecolor\":\"#2a3f5f\"},\"baxis\":{\"endlinecolor\":\"#2a3f5f\",\"gridcolor\":\"white\",\"linecolor\":\"white\",\"minorgridcolor\":\"white\",\"startlinecolor\":\"#2a3f5f\"},\"type\":\"carpet\"}],\"choropleth\":[{\"colorbar\":{\"outlinewidth\":0,\"ticks\":\"\"},\"type\":\"choropleth\"}],\"contour\":[{\"colorbar\":{\"outlinewidth\":0,\"ticks\":\"\"},\"colorscale\":[[0.0,\"#0d0887\"],[0.1111111111111111,\"#46039f\"],[0.2222222222222222,\"#7201a8\"],[0.3333333333333333,\"#9c179e\"],[0.4444444444444444,\"#bd3786\"],[0.5555555555555556,\"#d8576b\"],[0.6666666666666666,\"#ed7953\"],[0.7777777777777778,\"#fb9f3a\"],[0.8888888888888888,\"#fdca26\"],[1.0,\"#f0f921\"]],\"type\":\"contour\"}],\"contourcarpet\":[{\"colorbar\":{\"outlinewidth\":0,\"ticks\":\"\"},\"type\":\"contourcarpet\"}],\"heatmap\":[{\"colorbar\":{\"outlinewidth\":0,\"ticks\":\"\"},\"colorscale\":[[0.0,\"#0d0887\"],[0.1111111111111111,\"#46039f\"],[0.2222222222222222,\"#7201a8\"],[0.3333333333333333,\"#9c179e\"],[0.4444444444444444,\"#bd3786\"],[0.5555555555555556,\"#d8576b\"],[0.6666666666666666,\"#ed7953\"],[0.7777777777777778,\"#fb9f3a\"],[0.8888888888888888,\"#fdca26\"],[1.0,\"#f0f921\"]],\"type\":\"heatmap\"}],\"heatmapgl\":[{\"colorbar\":{\"outlinewidth\":0,\"ticks\":\"\"},\"colorscale\":[[0.0,\"#0d0887\"],[0.1111111111111111,\"#46039f\"],[0.2222222222222222,\"#7201a8\"],[0.3333333333333333,\"#9c179e\"],[0.4444444444444444,\"#bd3786\"],[0.5555555555555556,\"#d8576b\"],[0.6666666666666666,\"#ed7953\"],[0.7777777777777778,\"#fb9f3a\"],[0.8888888888888888,\"#fdca26\"],[1.0,\"#f0f921\"]],\"type\":\"heatmapgl\"}],\"histogram\":[{\"marker\":{\"pattern\":{\"fillmode\":\"overlay\",\"size\":10,\"solidity\":0.2}},\"type\":\"histogram\"}],\"histogram2d\":[{\"colorbar\":{\"outlinewidth\":0,\"ticks\":\"\"},\"colorscale\":[[0.0,\"#0d0887\"],[0.1111111111111111,\"#46039f\"],[0.2222222222222222,\"#7201a8\"],[0.3333333333333333,\"#9c179e\"],[0.4444444444444444,\"#bd3786\"],[0.5555555555555556,\"#d8576b\"],[0.6666666666666666,\"#ed7953\"],[0.7777777777777778,\"#fb9f3a\"],[0.8888888888888888,\"#fdca26\"],[1.0,\"#f0f921\"]],\"type\":\"histogram2d\"}],\"histogram2dcontour\":[{\"colorbar\":{\"outlinewidth\":0,\"ticks\":\"\"},\"colorscale\":[[0.0,\"#0d0887\"],[0.1111111111111111,\"#46039f\"],[0.2222222222222222,\"#7201a8\"],[0.3333333333333333,\"#9c179e\"],[0.4444444444444444,\"#bd3786\"],[0.5555555555555556,\"#d8576b\"],[0.6666666666666666,\"#ed7953\"],[0.7777777777777778,\"#fb9f3a\"],[0.8888888888888888,\"#fdca26\"],[1.0,\"#f0f921\"]],\"type\":\"histogram2dcontour\"}],\"mesh3d\":[{\"colorbar\":{\"outlinewidth\":0,\"ticks\":\"\"},\"type\":\"mesh3d\"}],\"parcoords\":[{\"line\":{\"colorbar\":{\"outlinewidth\":0,\"ticks\":\"\"}},\"type\":\"parcoords\"}],\"pie\":[{\"automargin\":true,\"type\":\"pie\"}],\"scatter\":[{\"marker\":{\"colorbar\":{\"outlinewidth\":0,\"ticks\":\"\"}},\"type\":\"scatter\"}],\"scatter3d\":[{\"line\":{\"colorbar\":{\"outlinewidth\":0,\"ticks\":\"\"}},\"marker\":{\"colorbar\":{\"outlinewidth\":0,\"ticks\":\"\"}},\"type\":\"scatter3d\"}],\"scattercarpet\":[{\"marker\":{\"colorbar\":{\"outlinewidth\":0,\"ticks\":\"\"}},\"type\":\"scattercarpet\"}],\"scattergeo\":[{\"marker\":{\"colorbar\":{\"outlinewidth\":0,\"ticks\":\"\"}},\"type\":\"scattergeo\"}],\"scattergl\":[{\"marker\":{\"colorbar\":{\"outlinewidth\":0,\"ticks\":\"\"}},\"type\":\"scattergl\"}],\"scattermapbox\":[{\"marker\":{\"colorbar\":{\"outlinewidth\":0,\"ticks\":\"\"}},\"type\":\"scattermapbox\"}],\"scatterpolar\":[{\"marker\":{\"colorbar\":{\"outlinewidth\":0,\"ticks\":\"\"}},\"type\":\"scatterpolar\"}],\"scatterpolargl\":[{\"marker\":{\"colorbar\":{\"outlinewidth\":0,\"ticks\":\"\"}},\"type\":\"scatterpolargl\"}],\"scatterternary\":[{\"marker\":{\"colorbar\":{\"outlinewidth\":0,\"ticks\":\"\"}},\"type\":\"scatterternary\"}],\"surface\":[{\"colorbar\":{\"outlinewidth\":0,\"ticks\":\"\"},\"colorscale\":[[0.0,\"#0d0887\"],[0.1111111111111111,\"#46039f\"],[0.2222222222222222,\"#7201a8\"],[0.3333333333333333,\"#9c179e\"],[0.4444444444444444,\"#bd3786\"],[0.5555555555555556,\"#d8576b\"],[0.6666666666666666,\"#ed7953\"],[0.7777777777777778,\"#fb9f3a\"],[0.8888888888888888,\"#fdca26\"],[1.0,\"#f0f921\"]],\"type\":\"surface\"}],\"table\":[{\"cells\":{\"fill\":{\"color\":\"#EBF0F8\"},\"line\":{\"color\":\"white\"}},\"header\":{\"fill\":{\"color\":\"#C8D4E3\"},\"line\":{\"color\":\"white\"}},\"type\":\"table\"}]},\"layout\":{\"annotationdefaults\":{\"arrowcolor\":\"#2a3f5f\",\"arrowhead\":0,\"arrowwidth\":1},\"autotypenumbers\":\"strict\",\"coloraxis\":{\"colorbar\":{\"outlinewidth\":0,\"ticks\":\"\"}},\"colorscale\":{\"diverging\":[[0,\"#8e0152\"],[0.1,\"#c51b7d\"],[0.2,\"#de77ae\"],[0.3,\"#f1b6da\"],[0.4,\"#fde0ef\"],[0.5,\"#f7f7f7\"],[0.6,\"#e6f5d0\"],[0.7,\"#b8e186\"],[0.8,\"#7fbc41\"],[0.9,\"#4d9221\"],[1,\"#276419\"]],\"sequential\":[[0.0,\"#0d0887\"],[0.1111111111111111,\"#46039f\"],[0.2222222222222222,\"#7201a8\"],[0.3333333333333333,\"#9c179e\"],[0.4444444444444444,\"#bd3786\"],[0.5555555555555556,\"#d8576b\"],[0.6666666666666666,\"#ed7953\"],[0.7777777777777778,\"#fb9f3a\"],[0.8888888888888888,\"#fdca26\"],[1.0,\"#f0f921\"]],\"sequentialminus\":[[0.0,\"#0d0887\"],[0.1111111111111111,\"#46039f\"],[0.2222222222222222,\"#7201a8\"],[0.3333333333333333,\"#9c179e\"],[0.4444444444444444,\"#bd3786\"],[0.5555555555555556,\"#d8576b\"],[0.6666666666666666,\"#ed7953\"],[0.7777777777777778,\"#fb9f3a\"],[0.8888888888888888,\"#fdca26\"],[1.0,\"#f0f921\"]]},\"colorway\":[\"#636efa\",\"#EF553B\",\"#00cc96\",\"#ab63fa\",\"#FFA15A\",\"#19d3f3\",\"#FF6692\",\"#B6E880\",\"#FF97FF\",\"#FECB52\"],\"font\":{\"color\":\"#2a3f5f\"},\"geo\":{\"bgcolor\":\"white\",\"lakecolor\":\"white\",\"landcolor\":\"#E5ECF6\",\"showlakes\":true,\"showland\":true,\"subunitcolor\":\"white\"},\"hoverlabel\":{\"align\":\"left\"},\"hovermode\":\"closest\",\"mapbox\":{\"style\":\"light\"},\"paper_bgcolor\":\"white\",\"plot_bgcolor\":\"#E5ECF6\",\"polar\":{\"angularaxis\":{\"gridcolor\":\"white\",\"linecolor\":\"white\",\"ticks\":\"\"},\"bgcolor\":\"#E5ECF6\",\"radialaxis\":{\"gridcolor\":\"white\",\"linecolor\":\"white\",\"ticks\":\"\"}},\"scene\":{\"xaxis\":{\"backgroundcolor\":\"#E5ECF6\",\"gridcolor\":\"white\",\"gridwidth\":2,\"linecolor\":\"white\",\"showbackground\":true,\"ticks\":\"\",\"zerolinecolor\":\"white\"},\"yaxis\":{\"backgroundcolor\":\"#E5ECF6\",\"gridcolor\":\"white\",\"gridwidth\":2,\"linecolor\":\"white\",\"showbackground\":true,\"ticks\":\"\",\"zerolinecolor\":\"white\"},\"zaxis\":{\"backgroundcolor\":\"#E5ECF6\",\"gridcolor\":\"white\",\"gridwidth\":2,\"linecolor\":\"white\",\"showbackground\":true,\"ticks\":\"\",\"zerolinecolor\":\"white\"}},\"shapedefaults\":{\"line\":{\"color\":\"#2a3f5f\"}},\"ternary\":{\"aaxis\":{\"gridcolor\":\"white\",\"linecolor\":\"white\",\"ticks\":\"\"},\"baxis\":{\"gridcolor\":\"white\",\"linecolor\":\"white\",\"ticks\":\"\"},\"bgcolor\":\"#E5ECF6\",\"caxis\":{\"gridcolor\":\"white\",\"linecolor\":\"white\",\"ticks\":\"\"}},\"title\":{\"x\":0.05},\"xaxis\":{\"automargin\":true,\"gridcolor\":\"white\",\"linecolor\":\"white\",\"ticks\":\"\",\"title\":{\"standoff\":15},\"zerolinecolor\":\"white\",\"zerolinewidth\":2},\"yaxis\":{\"automargin\":true,\"gridcolor\":\"white\",\"linecolor\":\"white\",\"ticks\":\"\",\"title\":{\"standoff\":15},\"zerolinecolor\":\"white\",\"zerolinewidth\":2}}},\"title\":{\"text\":\"Top Authors\"},\"xaxis\":{\"anchor\":\"y\",\"domain\":[0.0,1.0],\"title\":{\"text\":\"Author ID\"}},\"yaxis\":{\"anchor\":\"x\",\"domain\":[0.0,1.0],\"title\":{\"text\":\"Revenue\"}}},                        {\"responsive\": true}                    ).then(function(){\n",
       "                            \n",
       "var gd = document.getElementById('0f7f6b06-d353-493a-a836-6d8a6a16b1f2');\n",
       "var x = new MutationObserver(function (mutations, observer) {{\n",
       "        var display = window.getComputedStyle(gd).display;\n",
       "        if (!display || display === 'none') {{\n",
       "            console.log([gd, 'removed!']);\n",
       "            Plotly.purge(gd);\n",
       "            observer.disconnect();\n",
       "        }}\n",
       "}});\n",
       "\n",
       "// Listen for the removal of the full notebook cells\n",
       "var notebookContainer = gd.closest('#notebook-container');\n",
       "if (notebookContainer) {{\n",
       "    x.observe(notebookContainer, {childList: true});\n",
       "}}\n",
       "\n",
       "// Listen for the clearing of the current output cell\n",
       "var outputEl = gd.closest('.output');\n",
       "if (outputEl) {{\n",
       "    x.observe(outputEl, {childList: true});\n",
       "}}\n",
       "\n",
       "                        })                };                });            </script>        </div>"
      ]
     },
     "metadata": {},
     "output_type": "display_data"
    }
   ],
   "source": [
    "fig = px.bar(df_revenue_per_author.sort_values(by = \"Revenue\", ascending=[False]).head(20), x= \"AuthorID\", y = \"Revenue\",\n",
    "             title = \"Top Authors\",\n",
    "            labels={\"AuthorID\":\"Author ID\"}) #Barplot for each year\n",
    "fig.show() "
   ]
  },
  {
   "cell_type": "code",
   "execution_count": 69,
   "id": "1d2ecf49",
   "metadata": {},
   "outputs": [
    {
     "data": {
      "text/html": [
       "<div>\n",
       "<style scoped>\n",
       "    .dataframe tbody tr th:only-of-type {\n",
       "        vertical-align: middle;\n",
       "    }\n",
       "\n",
       "    .dataframe tbody tr th {\n",
       "        vertical-align: top;\n",
       "    }\n",
       "\n",
       "    .dataframe thead th {\n",
       "        text-align: right;\n",
       "    }\n",
       "</style>\n",
       "<table border=\"1\" class=\"dataframe\">\n",
       "  <thead>\n",
       "    <tr style=\"text-align: right;\">\n",
       "      <th></th>\n",
       "      <th>AuthorID</th>\n",
       "      <th>Year</th>\n",
       "      <th>Revenue</th>\n",
       "    </tr>\n",
       "  </thead>\n",
       "  <tbody>\n",
       "    <tr>\n",
       "      <th>0</th>\n",
       "      <td>1</td>\n",
       "      <td>2015</td>\n",
       "      <td>466</td>\n",
       "    </tr>\n",
       "    <tr>\n",
       "      <th>1</th>\n",
       "      <td>1</td>\n",
       "      <td>2016</td>\n",
       "      <td>333</td>\n",
       "    </tr>\n",
       "    <tr>\n",
       "      <th>2</th>\n",
       "      <td>1</td>\n",
       "      <td>2017</td>\n",
       "      <td>242</td>\n",
       "    </tr>\n",
       "    <tr>\n",
       "      <th>3</th>\n",
       "      <td>1</td>\n",
       "      <td>2018</td>\n",
       "      <td>1289</td>\n",
       "    </tr>\n",
       "    <tr>\n",
       "      <th>4</th>\n",
       "      <td>1</td>\n",
       "      <td>2019</td>\n",
       "      <td>3108</td>\n",
       "    </tr>\n",
       "    <tr>\n",
       "      <th>...</th>\n",
       "      <td>...</td>\n",
       "      <td>...</td>\n",
       "      <td>...</td>\n",
       "    </tr>\n",
       "    <tr>\n",
       "      <th>8995</th>\n",
       "      <td>1000</td>\n",
       "      <td>2019</td>\n",
       "      <td>868</td>\n",
       "    </tr>\n",
       "    <tr>\n",
       "      <th>8996</th>\n",
       "      <td>1000</td>\n",
       "      <td>2020</td>\n",
       "      <td>1564</td>\n",
       "    </tr>\n",
       "    <tr>\n",
       "      <th>8997</th>\n",
       "      <td>1000</td>\n",
       "      <td>2021</td>\n",
       "      <td>853</td>\n",
       "    </tr>\n",
       "    <tr>\n",
       "      <th>8998</th>\n",
       "      <td>1000</td>\n",
       "      <td>2022</td>\n",
       "      <td>2485</td>\n",
       "    </tr>\n",
       "    <tr>\n",
       "      <th>8999</th>\n",
       "      <td>1000</td>\n",
       "      <td>2023</td>\n",
       "      <td>1743</td>\n",
       "    </tr>\n",
       "  </tbody>\n",
       "</table>\n",
       "<p>9000 rows × 3 columns</p>\n",
       "</div>"
      ],
      "text/plain": [
       "      AuthorID  Year  Revenue\n",
       "0            1  2015      466\n",
       "1            1  2016      333\n",
       "2            1  2017      242\n",
       "3            1  2018     1289\n",
       "4            1  2019     3108\n",
       "...        ...   ...      ...\n",
       "8995      1000  2019      868\n",
       "8996      1000  2020     1564\n",
       "8997      1000  2021      853\n",
       "8998      1000  2022     2485\n",
       "8999      1000  2023     1743\n",
       "\n",
       "[9000 rows x 3 columns]"
      ]
     },
     "execution_count": 69,
     "metadata": {},
     "output_type": "execute_result"
    }
   ],
   "source": [
    "#Lets analyse top 5 of them carefully!\n",
    "#Revenue across years -- trajectory of top 5 authors\n",
    "df_rev_year_author = pd.DataFrame(df3.groupby([\"AuthorID\",\"Year\"])[\"Revenue\"].sum())\n",
    "df_rev_year_author.reset_index(inplace = True)\n",
    "df_rev_year_author"
   ]
  },
  {
   "cell_type": "code",
   "execution_count": 90,
   "id": "07fcb622",
   "metadata": {},
   "outputs": [],
   "source": [
    "#Year-on-year growth --\n",
    "df_rev_year_author[\"YOY_Growth\"] = df_rev_year_author.groupby(\"AuthorID\")[\"Revenue\"].pct_change()*100"
   ]
  },
  {
   "cell_type": "code",
   "execution_count": 91,
   "id": "696132c1",
   "metadata": {},
   "outputs": [
    {
     "data": {
      "text/html": [
       "<div>\n",
       "<style scoped>\n",
       "    .dataframe tbody tr th:only-of-type {\n",
       "        vertical-align: middle;\n",
       "    }\n",
       "\n",
       "    .dataframe tbody tr th {\n",
       "        vertical-align: top;\n",
       "    }\n",
       "\n",
       "    .dataframe thead th {\n",
       "        text-align: right;\n",
       "    }\n",
       "</style>\n",
       "<table border=\"1\" class=\"dataframe\">\n",
       "  <thead>\n",
       "    <tr style=\"text-align: right;\">\n",
       "      <th></th>\n",
       "      <th>AuthorID</th>\n",
       "      <th>Year</th>\n",
       "      <th>Revenue</th>\n",
       "      <th>YOY_Growth</th>\n",
       "    </tr>\n",
       "  </thead>\n",
       "  <tbody>\n",
       "    <tr>\n",
       "      <th>0</th>\n",
       "      <td>1</td>\n",
       "      <td>2015</td>\n",
       "      <td>466</td>\n",
       "      <td>NaN</td>\n",
       "    </tr>\n",
       "    <tr>\n",
       "      <th>1</th>\n",
       "      <td>1</td>\n",
       "      <td>2016</td>\n",
       "      <td>333</td>\n",
       "      <td>-28.540773</td>\n",
       "    </tr>\n",
       "    <tr>\n",
       "      <th>2</th>\n",
       "      <td>1</td>\n",
       "      <td>2017</td>\n",
       "      <td>242</td>\n",
       "      <td>-27.327327</td>\n",
       "    </tr>\n",
       "    <tr>\n",
       "      <th>3</th>\n",
       "      <td>1</td>\n",
       "      <td>2018</td>\n",
       "      <td>1289</td>\n",
       "      <td>432.644628</td>\n",
       "    </tr>\n",
       "    <tr>\n",
       "      <th>4</th>\n",
       "      <td>1</td>\n",
       "      <td>2019</td>\n",
       "      <td>3108</td>\n",
       "      <td>141.117145</td>\n",
       "    </tr>\n",
       "    <tr>\n",
       "      <th>...</th>\n",
       "      <td>...</td>\n",
       "      <td>...</td>\n",
       "      <td>...</td>\n",
       "      <td>...</td>\n",
       "    </tr>\n",
       "    <tr>\n",
       "      <th>8995</th>\n",
       "      <td>1000</td>\n",
       "      <td>2019</td>\n",
       "      <td>868</td>\n",
       "      <td>-53.358409</td>\n",
       "    </tr>\n",
       "    <tr>\n",
       "      <th>8996</th>\n",
       "      <td>1000</td>\n",
       "      <td>2020</td>\n",
       "      <td>1564</td>\n",
       "      <td>80.184332</td>\n",
       "    </tr>\n",
       "    <tr>\n",
       "      <th>8997</th>\n",
       "      <td>1000</td>\n",
       "      <td>2021</td>\n",
       "      <td>853</td>\n",
       "      <td>-45.460358</td>\n",
       "    </tr>\n",
       "    <tr>\n",
       "      <th>8998</th>\n",
       "      <td>1000</td>\n",
       "      <td>2022</td>\n",
       "      <td>2485</td>\n",
       "      <td>191.324736</td>\n",
       "    </tr>\n",
       "    <tr>\n",
       "      <th>8999</th>\n",
       "      <td>1000</td>\n",
       "      <td>2023</td>\n",
       "      <td>1743</td>\n",
       "      <td>-29.859155</td>\n",
       "    </tr>\n",
       "  </tbody>\n",
       "</table>\n",
       "<p>9000 rows × 4 columns</p>\n",
       "</div>"
      ],
      "text/plain": [
       "      AuthorID  Year  Revenue  YOY_Growth\n",
       "0            1  2015      466         NaN\n",
       "1            1  2016      333  -28.540773\n",
       "2            1  2017      242  -27.327327\n",
       "3            1  2018     1289  432.644628\n",
       "4            1  2019     3108  141.117145\n",
       "...        ...   ...      ...         ...\n",
       "8995      1000  2019      868  -53.358409\n",
       "8996      1000  2020     1564   80.184332\n",
       "8997      1000  2021      853  -45.460358\n",
       "8998      1000  2022     2485  191.324736\n",
       "8999      1000  2023     1743  -29.859155\n",
       "\n",
       "[9000 rows x 4 columns]"
      ]
     },
     "execution_count": 91,
     "metadata": {},
     "output_type": "execute_result"
    }
   ],
   "source": [
    "df_rev_year_author "
   ]
  },
  {
   "cell_type": "code",
   "execution_count": 92,
   "id": "ff95e05b",
   "metadata": {},
   "outputs": [
    {
     "data": {
      "text/html": [
       "<div>\n",
       "<style scoped>\n",
       "    .dataframe tbody tr th:only-of-type {\n",
       "        vertical-align: middle;\n",
       "    }\n",
       "\n",
       "    .dataframe tbody tr th {\n",
       "        vertical-align: top;\n",
       "    }\n",
       "\n",
       "    .dataframe thead th {\n",
       "        text-align: right;\n",
       "    }\n",
       "</style>\n",
       "<table border=\"1\" class=\"dataframe\">\n",
       "  <thead>\n",
       "    <tr style=\"text-align: right;\">\n",
       "      <th></th>\n",
       "      <th>AuthorID</th>\n",
       "      <th>Year</th>\n",
       "      <th>Revenue</th>\n",
       "      <th>YOY_Growth</th>\n",
       "    </tr>\n",
       "  </thead>\n",
       "  <tbody>\n",
       "    <tr>\n",
       "      <th>432</th>\n",
       "      <td>49</td>\n",
       "      <td>2015</td>\n",
       "      <td>3081</td>\n",
       "      <td>NaN</td>\n",
       "    </tr>\n",
       "    <tr>\n",
       "      <th>433</th>\n",
       "      <td>49</td>\n",
       "      <td>2016</td>\n",
       "      <td>2857</td>\n",
       "      <td>-7.270367</td>\n",
       "    </tr>\n",
       "    <tr>\n",
       "      <th>434</th>\n",
       "      <td>49</td>\n",
       "      <td>2017</td>\n",
       "      <td>4091</td>\n",
       "      <td>43.192160</td>\n",
       "    </tr>\n",
       "    <tr>\n",
       "      <th>435</th>\n",
       "      <td>49</td>\n",
       "      <td>2018</td>\n",
       "      <td>2291</td>\n",
       "      <td>-43.999022</td>\n",
       "    </tr>\n",
       "    <tr>\n",
       "      <th>436</th>\n",
       "      <td>49</td>\n",
       "      <td>2019</td>\n",
       "      <td>2329</td>\n",
       "      <td>1.658664</td>\n",
       "    </tr>\n",
       "    <tr>\n",
       "      <th>437</th>\n",
       "      <td>49</td>\n",
       "      <td>2020</td>\n",
       "      <td>2492</td>\n",
       "      <td>6.998712</td>\n",
       "    </tr>\n",
       "    <tr>\n",
       "      <th>438</th>\n",
       "      <td>49</td>\n",
       "      <td>2021</td>\n",
       "      <td>5074</td>\n",
       "      <td>103.611557</td>\n",
       "    </tr>\n",
       "    <tr>\n",
       "      <th>439</th>\n",
       "      <td>49</td>\n",
       "      <td>2022</td>\n",
       "      <td>2344</td>\n",
       "      <td>-53.803705</td>\n",
       "    </tr>\n",
       "    <tr>\n",
       "      <th>440</th>\n",
       "      <td>49</td>\n",
       "      <td>2023</td>\n",
       "      <td>3150</td>\n",
       "      <td>34.385666</td>\n",
       "    </tr>\n",
       "    <tr>\n",
       "      <th>1269</th>\n",
       "      <td>142</td>\n",
       "      <td>2015</td>\n",
       "      <td>0</td>\n",
       "      <td>NaN</td>\n",
       "    </tr>\n",
       "    <tr>\n",
       "      <th>1270</th>\n",
       "      <td>142</td>\n",
       "      <td>2016</td>\n",
       "      <td>2439</td>\n",
       "      <td>inf</td>\n",
       "    </tr>\n",
       "    <tr>\n",
       "      <th>1271</th>\n",
       "      <td>142</td>\n",
       "      <td>2017</td>\n",
       "      <td>1403</td>\n",
       "      <td>-42.476425</td>\n",
       "    </tr>\n",
       "    <tr>\n",
       "      <th>1272</th>\n",
       "      <td>142</td>\n",
       "      <td>2018</td>\n",
       "      <td>3027</td>\n",
       "      <td>115.751960</td>\n",
       "    </tr>\n",
       "    <tr>\n",
       "      <th>1273</th>\n",
       "      <td>142</td>\n",
       "      <td>2019</td>\n",
       "      <td>1599</td>\n",
       "      <td>-47.175421</td>\n",
       "    </tr>\n",
       "    <tr>\n",
       "      <th>1274</th>\n",
       "      <td>142</td>\n",
       "      <td>2020</td>\n",
       "      <td>2615</td>\n",
       "      <td>63.539712</td>\n",
       "    </tr>\n",
       "    <tr>\n",
       "      <th>1275</th>\n",
       "      <td>142</td>\n",
       "      <td>2021</td>\n",
       "      <td>4953</td>\n",
       "      <td>89.407266</td>\n",
       "    </tr>\n",
       "    <tr>\n",
       "      <th>1276</th>\n",
       "      <td>142</td>\n",
       "      <td>2022</td>\n",
       "      <td>3252</td>\n",
       "      <td>-34.342823</td>\n",
       "    </tr>\n",
       "    <tr>\n",
       "      <th>1277</th>\n",
       "      <td>142</td>\n",
       "      <td>2023</td>\n",
       "      <td>4616</td>\n",
       "      <td>41.943419</td>\n",
       "    </tr>\n",
       "    <tr>\n",
       "      <th>5751</th>\n",
       "      <td>640</td>\n",
       "      <td>2015</td>\n",
       "      <td>1544</td>\n",
       "      <td>NaN</td>\n",
       "    </tr>\n",
       "    <tr>\n",
       "      <th>5752</th>\n",
       "      <td>640</td>\n",
       "      <td>2016</td>\n",
       "      <td>2576</td>\n",
       "      <td>66.839378</td>\n",
       "    </tr>\n",
       "    <tr>\n",
       "      <th>5753</th>\n",
       "      <td>640</td>\n",
       "      <td>2017</td>\n",
       "      <td>1735</td>\n",
       "      <td>-32.647516</td>\n",
       "    </tr>\n",
       "    <tr>\n",
       "      <th>5754</th>\n",
       "      <td>640</td>\n",
       "      <td>2018</td>\n",
       "      <td>4115</td>\n",
       "      <td>137.175793</td>\n",
       "    </tr>\n",
       "    <tr>\n",
       "      <th>5755</th>\n",
       "      <td>640</td>\n",
       "      <td>2019</td>\n",
       "      <td>2788</td>\n",
       "      <td>-32.247874</td>\n",
       "    </tr>\n",
       "    <tr>\n",
       "      <th>5756</th>\n",
       "      <td>640</td>\n",
       "      <td>2020</td>\n",
       "      <td>2726</td>\n",
       "      <td>-2.223816</td>\n",
       "    </tr>\n",
       "    <tr>\n",
       "      <th>5757</th>\n",
       "      <td>640</td>\n",
       "      <td>2021</td>\n",
       "      <td>2931</td>\n",
       "      <td>7.520176</td>\n",
       "    </tr>\n",
       "    <tr>\n",
       "      <th>5758</th>\n",
       "      <td>640</td>\n",
       "      <td>2022</td>\n",
       "      <td>2617</td>\n",
       "      <td>-10.713067</td>\n",
       "    </tr>\n",
       "    <tr>\n",
       "      <th>5759</th>\n",
       "      <td>640</td>\n",
       "      <td>2023</td>\n",
       "      <td>2685</td>\n",
       "      <td>2.598395</td>\n",
       "    </tr>\n",
       "    <tr>\n",
       "      <th>8298</th>\n",
       "      <td>923</td>\n",
       "      <td>2015</td>\n",
       "      <td>1278</td>\n",
       "      <td>NaN</td>\n",
       "    </tr>\n",
       "    <tr>\n",
       "      <th>8299</th>\n",
       "      <td>923</td>\n",
       "      <td>2016</td>\n",
       "      <td>1108</td>\n",
       "      <td>-13.302034</td>\n",
       "    </tr>\n",
       "    <tr>\n",
       "      <th>8300</th>\n",
       "      <td>923</td>\n",
       "      <td>2017</td>\n",
       "      <td>3490</td>\n",
       "      <td>214.981949</td>\n",
       "    </tr>\n",
       "    <tr>\n",
       "      <th>8301</th>\n",
       "      <td>923</td>\n",
       "      <td>2018</td>\n",
       "      <td>1897</td>\n",
       "      <td>-45.644699</td>\n",
       "    </tr>\n",
       "    <tr>\n",
       "      <th>8302</th>\n",
       "      <td>923</td>\n",
       "      <td>2019</td>\n",
       "      <td>3451</td>\n",
       "      <td>81.918819</td>\n",
       "    </tr>\n",
       "    <tr>\n",
       "      <th>8303</th>\n",
       "      <td>923</td>\n",
       "      <td>2020</td>\n",
       "      <td>1772</td>\n",
       "      <td>-48.652564</td>\n",
       "    </tr>\n",
       "    <tr>\n",
       "      <th>8304</th>\n",
       "      <td>923</td>\n",
       "      <td>2021</td>\n",
       "      <td>1420</td>\n",
       "      <td>-19.864560</td>\n",
       "    </tr>\n",
       "    <tr>\n",
       "      <th>8305</th>\n",
       "      <td>923</td>\n",
       "      <td>2022</td>\n",
       "      <td>5377</td>\n",
       "      <td>278.661972</td>\n",
       "    </tr>\n",
       "    <tr>\n",
       "      <th>8306</th>\n",
       "      <td>923</td>\n",
       "      <td>2023</td>\n",
       "      <td>4392</td>\n",
       "      <td>-18.318765</td>\n",
       "    </tr>\n",
       "    <tr>\n",
       "      <th>8667</th>\n",
       "      <td>964</td>\n",
       "      <td>2015</td>\n",
       "      <td>1537</td>\n",
       "      <td>NaN</td>\n",
       "    </tr>\n",
       "    <tr>\n",
       "      <th>8668</th>\n",
       "      <td>964</td>\n",
       "      <td>2016</td>\n",
       "      <td>2278</td>\n",
       "      <td>48.210800</td>\n",
       "    </tr>\n",
       "    <tr>\n",
       "      <th>8669</th>\n",
       "      <td>964</td>\n",
       "      <td>2017</td>\n",
       "      <td>5567</td>\n",
       "      <td>144.381036</td>\n",
       "    </tr>\n",
       "    <tr>\n",
       "      <th>8670</th>\n",
       "      <td>964</td>\n",
       "      <td>2018</td>\n",
       "      <td>3092</td>\n",
       "      <td>-44.458416</td>\n",
       "    </tr>\n",
       "    <tr>\n",
       "      <th>8671</th>\n",
       "      <td>964</td>\n",
       "      <td>2019</td>\n",
       "      <td>3720</td>\n",
       "      <td>20.310479</td>\n",
       "    </tr>\n",
       "    <tr>\n",
       "      <th>8672</th>\n",
       "      <td>964</td>\n",
       "      <td>2020</td>\n",
       "      <td>2527</td>\n",
       "      <td>-32.069892</td>\n",
       "    </tr>\n",
       "    <tr>\n",
       "      <th>8673</th>\n",
       "      <td>964</td>\n",
       "      <td>2021</td>\n",
       "      <td>1978</td>\n",
       "      <td>-21.725366</td>\n",
       "    </tr>\n",
       "    <tr>\n",
       "      <th>8674</th>\n",
       "      <td>964</td>\n",
       "      <td>2022</td>\n",
       "      <td>2493</td>\n",
       "      <td>26.036400</td>\n",
       "    </tr>\n",
       "    <tr>\n",
       "      <th>8675</th>\n",
       "      <td>964</td>\n",
       "      <td>2023</td>\n",
       "      <td>1552</td>\n",
       "      <td>-37.745688</td>\n",
       "    </tr>\n",
       "  </tbody>\n",
       "</table>\n",
       "</div>"
      ],
      "text/plain": [
       "      AuthorID  Year  Revenue  YOY_Growth\n",
       "432         49  2015     3081         NaN\n",
       "433         49  2016     2857   -7.270367\n",
       "434         49  2017     4091   43.192160\n",
       "435         49  2018     2291  -43.999022\n",
       "436         49  2019     2329    1.658664\n",
       "437         49  2020     2492    6.998712\n",
       "438         49  2021     5074  103.611557\n",
       "439         49  2022     2344  -53.803705\n",
       "440         49  2023     3150   34.385666\n",
       "1269       142  2015        0         NaN\n",
       "1270       142  2016     2439         inf\n",
       "1271       142  2017     1403  -42.476425\n",
       "1272       142  2018     3027  115.751960\n",
       "1273       142  2019     1599  -47.175421\n",
       "1274       142  2020     2615   63.539712\n",
       "1275       142  2021     4953   89.407266\n",
       "1276       142  2022     3252  -34.342823\n",
       "1277       142  2023     4616   41.943419\n",
       "5751       640  2015     1544         NaN\n",
       "5752       640  2016     2576   66.839378\n",
       "5753       640  2017     1735  -32.647516\n",
       "5754       640  2018     4115  137.175793\n",
       "5755       640  2019     2788  -32.247874\n",
       "5756       640  2020     2726   -2.223816\n",
       "5757       640  2021     2931    7.520176\n",
       "5758       640  2022     2617  -10.713067\n",
       "5759       640  2023     2685    2.598395\n",
       "8298       923  2015     1278         NaN\n",
       "8299       923  2016     1108  -13.302034\n",
       "8300       923  2017     3490  214.981949\n",
       "8301       923  2018     1897  -45.644699\n",
       "8302       923  2019     3451   81.918819\n",
       "8303       923  2020     1772  -48.652564\n",
       "8304       923  2021     1420  -19.864560\n",
       "8305       923  2022     5377  278.661972\n",
       "8306       923  2023     4392  -18.318765\n",
       "8667       964  2015     1537         NaN\n",
       "8668       964  2016     2278   48.210800\n",
       "8669       964  2017     5567  144.381036\n",
       "8670       964  2018     3092  -44.458416\n",
       "8671       964  2019     3720   20.310479\n",
       "8672       964  2020     2527  -32.069892\n",
       "8673       964  2021     1978  -21.725366\n",
       "8674       964  2022     2493   26.036400\n",
       "8675       964  2023     1552  -37.745688"
      ]
     },
     "execution_count": 92,
     "metadata": {},
     "output_type": "execute_result"
    }
   ],
   "source": [
    "#Lets look at the growth rate of music authors with highest contribution to revenue\n",
    "df_rev_year_top5authors = df_rev_year_author[df_rev_year_author[\"AuthorID\"].isin(l)]\n",
    "df_rev_year_top5authors  "
   ]
  },
  {
   "cell_type": "code",
   "execution_count": 259,
   "id": "38a76041",
   "metadata": {},
   "outputs": [],
   "source": [
    "l = [49,964,923,142,640]"
   ]
  },
  {
   "cell_type": "code",
   "execution_count": 260,
   "id": "af565fd8",
   "metadata": {},
   "outputs": [],
   "source": [
    "df_rev_year_author1 = df_rev_year_author[df_rev_year_author[\"AuthorID\"].isin(l)]"
   ]
  },
  {
   "cell_type": "code",
   "execution_count": 261,
   "id": "5478f099",
   "metadata": {},
   "outputs": [
    {
     "name": "stderr",
     "output_type": "stream",
     "text": [
      "<ipython-input-261-00c80780a3b7>:1: SettingWithCopyWarning:\n",
      "\n",
      "\n",
      "A value is trying to be set on a copy of a slice from a DataFrame.\n",
      "Try using .loc[row_indexer,col_indexer] = value instead\n",
      "\n",
      "See the caveats in the documentation: https://pandas.pydata.org/pandas-docs/stable/user_guide/indexing.html#returning-a-view-versus-a-copy\n",
      "\n"
     ]
    }
   ],
   "source": [
    "df_rev_year_author1[\"AuthorID\"] = df_rev_year_author1[\"AuthorID\"].astype(str)"
   ]
  },
  {
   "cell_type": "code",
   "execution_count": 262,
   "id": "8ff95ffb",
   "metadata": {
    "scrolled": true
   },
   "outputs": [
    {
     "data": {
      "application/vnd.plotly.v1+json": {
       "config": {
        "plotlyServerURL": "https://plot.ly"
       },
       "data": [
        {
         "hovertemplate": "Author ID=49<br>Year=%{x}<br>Revenue=%{y}<extra></extra>",
         "legendgroup": "49",
         "line": {
          "color": "#636efa",
          "dash": "solid"
         },
         "marker": {
          "symbol": "circle"
         },
         "mode": "lines",
         "name": "49",
         "orientation": "v",
         "showlegend": true,
         "type": "scatter",
         "x": [
          2015,
          2016,
          2017,
          2018,
          2019,
          2020,
          2021,
          2022,
          2023
         ],
         "xaxis": "x",
         "y": [
          3081,
          2857,
          4091,
          2291,
          2329,
          2492,
          5074,
          2344,
          3150
         ],
         "yaxis": "y"
        },
        {
         "hovertemplate": "Author ID=142<br>Year=%{x}<br>Revenue=%{y}<extra></extra>",
         "legendgroup": "142",
         "line": {
          "color": "#EF553B",
          "dash": "solid"
         },
         "marker": {
          "symbol": "circle"
         },
         "mode": "lines",
         "name": "142",
         "orientation": "v",
         "showlegend": true,
         "type": "scatter",
         "x": [
          2015,
          2016,
          2017,
          2018,
          2019,
          2020,
          2021,
          2022,
          2023
         ],
         "xaxis": "x",
         "y": [
          0,
          2439,
          1403,
          3027,
          1599,
          2615,
          4953,
          3252,
          4616
         ],
         "yaxis": "y"
        },
        {
         "hovertemplate": "Author ID=640<br>Year=%{x}<br>Revenue=%{y}<extra></extra>",
         "legendgroup": "640",
         "line": {
          "color": "#00cc96",
          "dash": "solid"
         },
         "marker": {
          "symbol": "circle"
         },
         "mode": "lines",
         "name": "640",
         "orientation": "v",
         "showlegend": true,
         "type": "scatter",
         "x": [
          2015,
          2016,
          2017,
          2018,
          2019,
          2020,
          2021,
          2022,
          2023
         ],
         "xaxis": "x",
         "y": [
          1544,
          2576,
          1735,
          4115,
          2788,
          2726,
          2931,
          2617,
          2685
         ],
         "yaxis": "y"
        },
        {
         "hovertemplate": "Author ID=923<br>Year=%{x}<br>Revenue=%{y}<extra></extra>",
         "legendgroup": "923",
         "line": {
          "color": "#ab63fa",
          "dash": "solid"
         },
         "marker": {
          "symbol": "circle"
         },
         "mode": "lines",
         "name": "923",
         "orientation": "v",
         "showlegend": true,
         "type": "scatter",
         "x": [
          2015,
          2016,
          2017,
          2018,
          2019,
          2020,
          2021,
          2022,
          2023
         ],
         "xaxis": "x",
         "y": [
          1278,
          1108,
          3490,
          1897,
          3451,
          1772,
          1420,
          5377,
          4392
         ],
         "yaxis": "y"
        },
        {
         "hovertemplate": "Author ID=964<br>Year=%{x}<br>Revenue=%{y}<extra></extra>",
         "legendgroup": "964",
         "line": {
          "color": "#FFA15A",
          "dash": "solid"
         },
         "marker": {
          "symbol": "circle"
         },
         "mode": "lines",
         "name": "964",
         "orientation": "v",
         "showlegend": true,
         "type": "scatter",
         "x": [
          2015,
          2016,
          2017,
          2018,
          2019,
          2020,
          2021,
          2022,
          2023
         ],
         "xaxis": "x",
         "y": [
          1537,
          2278,
          5567,
          3092,
          3720,
          2527,
          1978,
          2493,
          1552
         ],
         "yaxis": "y"
        }
       ],
       "layout": {
        "legend": {
         "title": {
          "text": "Author ID"
         },
         "tracegroupgap": 0
        },
        "template": {
         "data": {
          "bar": [
           {
            "error_x": {
             "color": "#2a3f5f"
            },
            "error_y": {
             "color": "#2a3f5f"
            },
            "marker": {
             "line": {
              "color": "#E5ECF6",
              "width": 0.5
             },
             "pattern": {
              "fillmode": "overlay",
              "size": 10,
              "solidity": 0.2
             }
            },
            "type": "bar"
           }
          ],
          "barpolar": [
           {
            "marker": {
             "line": {
              "color": "#E5ECF6",
              "width": 0.5
             },
             "pattern": {
              "fillmode": "overlay",
              "size": 10,
              "solidity": 0.2
             }
            },
            "type": "barpolar"
           }
          ],
          "carpet": [
           {
            "aaxis": {
             "endlinecolor": "#2a3f5f",
             "gridcolor": "white",
             "linecolor": "white",
             "minorgridcolor": "white",
             "startlinecolor": "#2a3f5f"
            },
            "baxis": {
             "endlinecolor": "#2a3f5f",
             "gridcolor": "white",
             "linecolor": "white",
             "minorgridcolor": "white",
             "startlinecolor": "#2a3f5f"
            },
            "type": "carpet"
           }
          ],
          "choropleth": [
           {
            "colorbar": {
             "outlinewidth": 0,
             "ticks": ""
            },
            "type": "choropleth"
           }
          ],
          "contour": [
           {
            "colorbar": {
             "outlinewidth": 0,
             "ticks": ""
            },
            "colorscale": [
             [
              0,
              "#0d0887"
             ],
             [
              0.1111111111111111,
              "#46039f"
             ],
             [
              0.2222222222222222,
              "#7201a8"
             ],
             [
              0.3333333333333333,
              "#9c179e"
             ],
             [
              0.4444444444444444,
              "#bd3786"
             ],
             [
              0.5555555555555556,
              "#d8576b"
             ],
             [
              0.6666666666666666,
              "#ed7953"
             ],
             [
              0.7777777777777778,
              "#fb9f3a"
             ],
             [
              0.8888888888888888,
              "#fdca26"
             ],
             [
              1,
              "#f0f921"
             ]
            ],
            "type": "contour"
           }
          ],
          "contourcarpet": [
           {
            "colorbar": {
             "outlinewidth": 0,
             "ticks": ""
            },
            "type": "contourcarpet"
           }
          ],
          "heatmap": [
           {
            "colorbar": {
             "outlinewidth": 0,
             "ticks": ""
            },
            "colorscale": [
             [
              0,
              "#0d0887"
             ],
             [
              0.1111111111111111,
              "#46039f"
             ],
             [
              0.2222222222222222,
              "#7201a8"
             ],
             [
              0.3333333333333333,
              "#9c179e"
             ],
             [
              0.4444444444444444,
              "#bd3786"
             ],
             [
              0.5555555555555556,
              "#d8576b"
             ],
             [
              0.6666666666666666,
              "#ed7953"
             ],
             [
              0.7777777777777778,
              "#fb9f3a"
             ],
             [
              0.8888888888888888,
              "#fdca26"
             ],
             [
              1,
              "#f0f921"
             ]
            ],
            "type": "heatmap"
           }
          ],
          "heatmapgl": [
           {
            "colorbar": {
             "outlinewidth": 0,
             "ticks": ""
            },
            "colorscale": [
             [
              0,
              "#0d0887"
             ],
             [
              0.1111111111111111,
              "#46039f"
             ],
             [
              0.2222222222222222,
              "#7201a8"
             ],
             [
              0.3333333333333333,
              "#9c179e"
             ],
             [
              0.4444444444444444,
              "#bd3786"
             ],
             [
              0.5555555555555556,
              "#d8576b"
             ],
             [
              0.6666666666666666,
              "#ed7953"
             ],
             [
              0.7777777777777778,
              "#fb9f3a"
             ],
             [
              0.8888888888888888,
              "#fdca26"
             ],
             [
              1,
              "#f0f921"
             ]
            ],
            "type": "heatmapgl"
           }
          ],
          "histogram": [
           {
            "marker": {
             "pattern": {
              "fillmode": "overlay",
              "size": 10,
              "solidity": 0.2
             }
            },
            "type": "histogram"
           }
          ],
          "histogram2d": [
           {
            "colorbar": {
             "outlinewidth": 0,
             "ticks": ""
            },
            "colorscale": [
             [
              0,
              "#0d0887"
             ],
             [
              0.1111111111111111,
              "#46039f"
             ],
             [
              0.2222222222222222,
              "#7201a8"
             ],
             [
              0.3333333333333333,
              "#9c179e"
             ],
             [
              0.4444444444444444,
              "#bd3786"
             ],
             [
              0.5555555555555556,
              "#d8576b"
             ],
             [
              0.6666666666666666,
              "#ed7953"
             ],
             [
              0.7777777777777778,
              "#fb9f3a"
             ],
             [
              0.8888888888888888,
              "#fdca26"
             ],
             [
              1,
              "#f0f921"
             ]
            ],
            "type": "histogram2d"
           }
          ],
          "histogram2dcontour": [
           {
            "colorbar": {
             "outlinewidth": 0,
             "ticks": ""
            },
            "colorscale": [
             [
              0,
              "#0d0887"
             ],
             [
              0.1111111111111111,
              "#46039f"
             ],
             [
              0.2222222222222222,
              "#7201a8"
             ],
             [
              0.3333333333333333,
              "#9c179e"
             ],
             [
              0.4444444444444444,
              "#bd3786"
             ],
             [
              0.5555555555555556,
              "#d8576b"
             ],
             [
              0.6666666666666666,
              "#ed7953"
             ],
             [
              0.7777777777777778,
              "#fb9f3a"
             ],
             [
              0.8888888888888888,
              "#fdca26"
             ],
             [
              1,
              "#f0f921"
             ]
            ],
            "type": "histogram2dcontour"
           }
          ],
          "mesh3d": [
           {
            "colorbar": {
             "outlinewidth": 0,
             "ticks": ""
            },
            "type": "mesh3d"
           }
          ],
          "parcoords": [
           {
            "line": {
             "colorbar": {
              "outlinewidth": 0,
              "ticks": ""
             }
            },
            "type": "parcoords"
           }
          ],
          "pie": [
           {
            "automargin": true,
            "type": "pie"
           }
          ],
          "scatter": [
           {
            "marker": {
             "colorbar": {
              "outlinewidth": 0,
              "ticks": ""
             }
            },
            "type": "scatter"
           }
          ],
          "scatter3d": [
           {
            "line": {
             "colorbar": {
              "outlinewidth": 0,
              "ticks": ""
             }
            },
            "marker": {
             "colorbar": {
              "outlinewidth": 0,
              "ticks": ""
             }
            },
            "type": "scatter3d"
           }
          ],
          "scattercarpet": [
           {
            "marker": {
             "colorbar": {
              "outlinewidth": 0,
              "ticks": ""
             }
            },
            "type": "scattercarpet"
           }
          ],
          "scattergeo": [
           {
            "marker": {
             "colorbar": {
              "outlinewidth": 0,
              "ticks": ""
             }
            },
            "type": "scattergeo"
           }
          ],
          "scattergl": [
           {
            "marker": {
             "colorbar": {
              "outlinewidth": 0,
              "ticks": ""
             }
            },
            "type": "scattergl"
           }
          ],
          "scattermapbox": [
           {
            "marker": {
             "colorbar": {
              "outlinewidth": 0,
              "ticks": ""
             }
            },
            "type": "scattermapbox"
           }
          ],
          "scatterpolar": [
           {
            "marker": {
             "colorbar": {
              "outlinewidth": 0,
              "ticks": ""
             }
            },
            "type": "scatterpolar"
           }
          ],
          "scatterpolargl": [
           {
            "marker": {
             "colorbar": {
              "outlinewidth": 0,
              "ticks": ""
             }
            },
            "type": "scatterpolargl"
           }
          ],
          "scatterternary": [
           {
            "marker": {
             "colorbar": {
              "outlinewidth": 0,
              "ticks": ""
             }
            },
            "type": "scatterternary"
           }
          ],
          "surface": [
           {
            "colorbar": {
             "outlinewidth": 0,
             "ticks": ""
            },
            "colorscale": [
             [
              0,
              "#0d0887"
             ],
             [
              0.1111111111111111,
              "#46039f"
             ],
             [
              0.2222222222222222,
              "#7201a8"
             ],
             [
              0.3333333333333333,
              "#9c179e"
             ],
             [
              0.4444444444444444,
              "#bd3786"
             ],
             [
              0.5555555555555556,
              "#d8576b"
             ],
             [
              0.6666666666666666,
              "#ed7953"
             ],
             [
              0.7777777777777778,
              "#fb9f3a"
             ],
             [
              0.8888888888888888,
              "#fdca26"
             ],
             [
              1,
              "#f0f921"
             ]
            ],
            "type": "surface"
           }
          ],
          "table": [
           {
            "cells": {
             "fill": {
              "color": "#EBF0F8"
             },
             "line": {
              "color": "white"
             }
            },
            "header": {
             "fill": {
              "color": "#C8D4E3"
             },
             "line": {
              "color": "white"
             }
            },
            "type": "table"
           }
          ]
         },
         "layout": {
          "annotationdefaults": {
           "arrowcolor": "#2a3f5f",
           "arrowhead": 0,
           "arrowwidth": 1
          },
          "autotypenumbers": "strict",
          "coloraxis": {
           "colorbar": {
            "outlinewidth": 0,
            "ticks": ""
           }
          },
          "colorscale": {
           "diverging": [
            [
             0,
             "#8e0152"
            ],
            [
             0.1,
             "#c51b7d"
            ],
            [
             0.2,
             "#de77ae"
            ],
            [
             0.3,
             "#f1b6da"
            ],
            [
             0.4,
             "#fde0ef"
            ],
            [
             0.5,
             "#f7f7f7"
            ],
            [
             0.6,
             "#e6f5d0"
            ],
            [
             0.7,
             "#b8e186"
            ],
            [
             0.8,
             "#7fbc41"
            ],
            [
             0.9,
             "#4d9221"
            ],
            [
             1,
             "#276419"
            ]
           ],
           "sequential": [
            [
             0,
             "#0d0887"
            ],
            [
             0.1111111111111111,
             "#46039f"
            ],
            [
             0.2222222222222222,
             "#7201a8"
            ],
            [
             0.3333333333333333,
             "#9c179e"
            ],
            [
             0.4444444444444444,
             "#bd3786"
            ],
            [
             0.5555555555555556,
             "#d8576b"
            ],
            [
             0.6666666666666666,
             "#ed7953"
            ],
            [
             0.7777777777777778,
             "#fb9f3a"
            ],
            [
             0.8888888888888888,
             "#fdca26"
            ],
            [
             1,
             "#f0f921"
            ]
           ],
           "sequentialminus": [
            [
             0,
             "#0d0887"
            ],
            [
             0.1111111111111111,
             "#46039f"
            ],
            [
             0.2222222222222222,
             "#7201a8"
            ],
            [
             0.3333333333333333,
             "#9c179e"
            ],
            [
             0.4444444444444444,
             "#bd3786"
            ],
            [
             0.5555555555555556,
             "#d8576b"
            ],
            [
             0.6666666666666666,
             "#ed7953"
            ],
            [
             0.7777777777777778,
             "#fb9f3a"
            ],
            [
             0.8888888888888888,
             "#fdca26"
            ],
            [
             1,
             "#f0f921"
            ]
           ]
          },
          "colorway": [
           "#636efa",
           "#EF553B",
           "#00cc96",
           "#ab63fa",
           "#FFA15A",
           "#19d3f3",
           "#FF6692",
           "#B6E880",
           "#FF97FF",
           "#FECB52"
          ],
          "font": {
           "color": "#2a3f5f"
          },
          "geo": {
           "bgcolor": "white",
           "lakecolor": "white",
           "landcolor": "#E5ECF6",
           "showlakes": true,
           "showland": true,
           "subunitcolor": "white"
          },
          "hoverlabel": {
           "align": "left"
          },
          "hovermode": "closest",
          "mapbox": {
           "style": "light"
          },
          "paper_bgcolor": "white",
          "plot_bgcolor": "#E5ECF6",
          "polar": {
           "angularaxis": {
            "gridcolor": "white",
            "linecolor": "white",
            "ticks": ""
           },
           "bgcolor": "#E5ECF6",
           "radialaxis": {
            "gridcolor": "white",
            "linecolor": "white",
            "ticks": ""
           }
          },
          "scene": {
           "xaxis": {
            "backgroundcolor": "#E5ECF6",
            "gridcolor": "white",
            "gridwidth": 2,
            "linecolor": "white",
            "showbackground": true,
            "ticks": "",
            "zerolinecolor": "white"
           },
           "yaxis": {
            "backgroundcolor": "#E5ECF6",
            "gridcolor": "white",
            "gridwidth": 2,
            "linecolor": "white",
            "showbackground": true,
            "ticks": "",
            "zerolinecolor": "white"
           },
           "zaxis": {
            "backgroundcolor": "#E5ECF6",
            "gridcolor": "white",
            "gridwidth": 2,
            "linecolor": "white",
            "showbackground": true,
            "ticks": "",
            "zerolinecolor": "white"
           }
          },
          "shapedefaults": {
           "line": {
            "color": "#2a3f5f"
           }
          },
          "ternary": {
           "aaxis": {
            "gridcolor": "white",
            "linecolor": "white",
            "ticks": ""
           },
           "baxis": {
            "gridcolor": "white",
            "linecolor": "white",
            "ticks": ""
           },
           "bgcolor": "#E5ECF6",
           "caxis": {
            "gridcolor": "white",
            "linecolor": "white",
            "ticks": ""
           }
          },
          "title": {
           "x": 0.05
          },
          "xaxis": {
           "automargin": true,
           "gridcolor": "white",
           "linecolor": "white",
           "ticks": "",
           "title": {
            "standoff": 15
           },
           "zerolinecolor": "white",
           "zerolinewidth": 2
          },
          "yaxis": {
           "automargin": true,
           "gridcolor": "white",
           "linecolor": "white",
           "ticks": "",
           "title": {
            "standoff": 15
           },
           "zerolinecolor": "white",
           "zerolinewidth": 2
          }
         }
        },
        "title": {
         "text": "Trajectory of top 5 Authors"
        },
        "xaxis": {
         "anchor": "y",
         "domain": [
          0,
          1
         ],
         "title": {
          "text": "Year"
         }
        },
        "yaxis": {
         "anchor": "x",
         "domain": [
          0,
          1
         ],
         "title": {
          "text": "Revenue"
         }
        }
       }
      },
      "text/html": [
       "<div>                            <div id=\"7f1e1239-b05e-4fef-b91d-985f14c89325\" class=\"plotly-graph-div\" style=\"height:525px; width:100%;\"></div>            <script type=\"text/javascript\">                require([\"plotly\"], function(Plotly) {                    window.PLOTLYENV=window.PLOTLYENV || {};                                    if (document.getElementById(\"7f1e1239-b05e-4fef-b91d-985f14c89325\")) {                    Plotly.newPlot(                        \"7f1e1239-b05e-4fef-b91d-985f14c89325\",                        [{\"hovertemplate\":\"Author ID=49<br>Year=%{x}<br>Revenue=%{y}<extra></extra>\",\"legendgroup\":\"49\",\"line\":{\"color\":\"#636efa\",\"dash\":\"solid\"},\"marker\":{\"symbol\":\"circle\"},\"mode\":\"lines\",\"name\":\"49\",\"orientation\":\"v\",\"showlegend\":true,\"type\":\"scatter\",\"x\":[2015,2016,2017,2018,2019,2020,2021,2022,2023],\"xaxis\":\"x\",\"y\":[3081,2857,4091,2291,2329,2492,5074,2344,3150],\"yaxis\":\"y\"},{\"hovertemplate\":\"Author ID=142<br>Year=%{x}<br>Revenue=%{y}<extra></extra>\",\"legendgroup\":\"142\",\"line\":{\"color\":\"#EF553B\",\"dash\":\"solid\"},\"marker\":{\"symbol\":\"circle\"},\"mode\":\"lines\",\"name\":\"142\",\"orientation\":\"v\",\"showlegend\":true,\"type\":\"scatter\",\"x\":[2015,2016,2017,2018,2019,2020,2021,2022,2023],\"xaxis\":\"x\",\"y\":[0,2439,1403,3027,1599,2615,4953,3252,4616],\"yaxis\":\"y\"},{\"hovertemplate\":\"Author ID=640<br>Year=%{x}<br>Revenue=%{y}<extra></extra>\",\"legendgroup\":\"640\",\"line\":{\"color\":\"#00cc96\",\"dash\":\"solid\"},\"marker\":{\"symbol\":\"circle\"},\"mode\":\"lines\",\"name\":\"640\",\"orientation\":\"v\",\"showlegend\":true,\"type\":\"scatter\",\"x\":[2015,2016,2017,2018,2019,2020,2021,2022,2023],\"xaxis\":\"x\",\"y\":[1544,2576,1735,4115,2788,2726,2931,2617,2685],\"yaxis\":\"y\"},{\"hovertemplate\":\"Author ID=923<br>Year=%{x}<br>Revenue=%{y}<extra></extra>\",\"legendgroup\":\"923\",\"line\":{\"color\":\"#ab63fa\",\"dash\":\"solid\"},\"marker\":{\"symbol\":\"circle\"},\"mode\":\"lines\",\"name\":\"923\",\"orientation\":\"v\",\"showlegend\":true,\"type\":\"scatter\",\"x\":[2015,2016,2017,2018,2019,2020,2021,2022,2023],\"xaxis\":\"x\",\"y\":[1278,1108,3490,1897,3451,1772,1420,5377,4392],\"yaxis\":\"y\"},{\"hovertemplate\":\"Author ID=964<br>Year=%{x}<br>Revenue=%{y}<extra></extra>\",\"legendgroup\":\"964\",\"line\":{\"color\":\"#FFA15A\",\"dash\":\"solid\"},\"marker\":{\"symbol\":\"circle\"},\"mode\":\"lines\",\"name\":\"964\",\"orientation\":\"v\",\"showlegend\":true,\"type\":\"scatter\",\"x\":[2015,2016,2017,2018,2019,2020,2021,2022,2023],\"xaxis\":\"x\",\"y\":[1537,2278,5567,3092,3720,2527,1978,2493,1552],\"yaxis\":\"y\"}],                        {\"legend\":{\"title\":{\"text\":\"Author ID\"},\"tracegroupgap\":0},\"template\":{\"data\":{\"bar\":[{\"error_x\":{\"color\":\"#2a3f5f\"},\"error_y\":{\"color\":\"#2a3f5f\"},\"marker\":{\"line\":{\"color\":\"#E5ECF6\",\"width\":0.5},\"pattern\":{\"fillmode\":\"overlay\",\"size\":10,\"solidity\":0.2}},\"type\":\"bar\"}],\"barpolar\":[{\"marker\":{\"line\":{\"color\":\"#E5ECF6\",\"width\":0.5},\"pattern\":{\"fillmode\":\"overlay\",\"size\":10,\"solidity\":0.2}},\"type\":\"barpolar\"}],\"carpet\":[{\"aaxis\":{\"endlinecolor\":\"#2a3f5f\",\"gridcolor\":\"white\",\"linecolor\":\"white\",\"minorgridcolor\":\"white\",\"startlinecolor\":\"#2a3f5f\"},\"baxis\":{\"endlinecolor\":\"#2a3f5f\",\"gridcolor\":\"white\",\"linecolor\":\"white\",\"minorgridcolor\":\"white\",\"startlinecolor\":\"#2a3f5f\"},\"type\":\"carpet\"}],\"choropleth\":[{\"colorbar\":{\"outlinewidth\":0,\"ticks\":\"\"},\"type\":\"choropleth\"}],\"contour\":[{\"colorbar\":{\"outlinewidth\":0,\"ticks\":\"\"},\"colorscale\":[[0.0,\"#0d0887\"],[0.1111111111111111,\"#46039f\"],[0.2222222222222222,\"#7201a8\"],[0.3333333333333333,\"#9c179e\"],[0.4444444444444444,\"#bd3786\"],[0.5555555555555556,\"#d8576b\"],[0.6666666666666666,\"#ed7953\"],[0.7777777777777778,\"#fb9f3a\"],[0.8888888888888888,\"#fdca26\"],[1.0,\"#f0f921\"]],\"type\":\"contour\"}],\"contourcarpet\":[{\"colorbar\":{\"outlinewidth\":0,\"ticks\":\"\"},\"type\":\"contourcarpet\"}],\"heatmap\":[{\"colorbar\":{\"outlinewidth\":0,\"ticks\":\"\"},\"colorscale\":[[0.0,\"#0d0887\"],[0.1111111111111111,\"#46039f\"],[0.2222222222222222,\"#7201a8\"],[0.3333333333333333,\"#9c179e\"],[0.4444444444444444,\"#bd3786\"],[0.5555555555555556,\"#d8576b\"],[0.6666666666666666,\"#ed7953\"],[0.7777777777777778,\"#fb9f3a\"],[0.8888888888888888,\"#fdca26\"],[1.0,\"#f0f921\"]],\"type\":\"heatmap\"}],\"heatmapgl\":[{\"colorbar\":{\"outlinewidth\":0,\"ticks\":\"\"},\"colorscale\":[[0.0,\"#0d0887\"],[0.1111111111111111,\"#46039f\"],[0.2222222222222222,\"#7201a8\"],[0.3333333333333333,\"#9c179e\"],[0.4444444444444444,\"#bd3786\"],[0.5555555555555556,\"#d8576b\"],[0.6666666666666666,\"#ed7953\"],[0.7777777777777778,\"#fb9f3a\"],[0.8888888888888888,\"#fdca26\"],[1.0,\"#f0f921\"]],\"type\":\"heatmapgl\"}],\"histogram\":[{\"marker\":{\"pattern\":{\"fillmode\":\"overlay\",\"size\":10,\"solidity\":0.2}},\"type\":\"histogram\"}],\"histogram2d\":[{\"colorbar\":{\"outlinewidth\":0,\"ticks\":\"\"},\"colorscale\":[[0.0,\"#0d0887\"],[0.1111111111111111,\"#46039f\"],[0.2222222222222222,\"#7201a8\"],[0.3333333333333333,\"#9c179e\"],[0.4444444444444444,\"#bd3786\"],[0.5555555555555556,\"#d8576b\"],[0.6666666666666666,\"#ed7953\"],[0.7777777777777778,\"#fb9f3a\"],[0.8888888888888888,\"#fdca26\"],[1.0,\"#f0f921\"]],\"type\":\"histogram2d\"}],\"histogram2dcontour\":[{\"colorbar\":{\"outlinewidth\":0,\"ticks\":\"\"},\"colorscale\":[[0.0,\"#0d0887\"],[0.1111111111111111,\"#46039f\"],[0.2222222222222222,\"#7201a8\"],[0.3333333333333333,\"#9c179e\"],[0.4444444444444444,\"#bd3786\"],[0.5555555555555556,\"#d8576b\"],[0.6666666666666666,\"#ed7953\"],[0.7777777777777778,\"#fb9f3a\"],[0.8888888888888888,\"#fdca26\"],[1.0,\"#f0f921\"]],\"type\":\"histogram2dcontour\"}],\"mesh3d\":[{\"colorbar\":{\"outlinewidth\":0,\"ticks\":\"\"},\"type\":\"mesh3d\"}],\"parcoords\":[{\"line\":{\"colorbar\":{\"outlinewidth\":0,\"ticks\":\"\"}},\"type\":\"parcoords\"}],\"pie\":[{\"automargin\":true,\"type\":\"pie\"}],\"scatter\":[{\"marker\":{\"colorbar\":{\"outlinewidth\":0,\"ticks\":\"\"}},\"type\":\"scatter\"}],\"scatter3d\":[{\"line\":{\"colorbar\":{\"outlinewidth\":0,\"ticks\":\"\"}},\"marker\":{\"colorbar\":{\"outlinewidth\":0,\"ticks\":\"\"}},\"type\":\"scatter3d\"}],\"scattercarpet\":[{\"marker\":{\"colorbar\":{\"outlinewidth\":0,\"ticks\":\"\"}},\"type\":\"scattercarpet\"}],\"scattergeo\":[{\"marker\":{\"colorbar\":{\"outlinewidth\":0,\"ticks\":\"\"}},\"type\":\"scattergeo\"}],\"scattergl\":[{\"marker\":{\"colorbar\":{\"outlinewidth\":0,\"ticks\":\"\"}},\"type\":\"scattergl\"}],\"scattermapbox\":[{\"marker\":{\"colorbar\":{\"outlinewidth\":0,\"ticks\":\"\"}},\"type\":\"scattermapbox\"}],\"scatterpolar\":[{\"marker\":{\"colorbar\":{\"outlinewidth\":0,\"ticks\":\"\"}},\"type\":\"scatterpolar\"}],\"scatterpolargl\":[{\"marker\":{\"colorbar\":{\"outlinewidth\":0,\"ticks\":\"\"}},\"type\":\"scatterpolargl\"}],\"scatterternary\":[{\"marker\":{\"colorbar\":{\"outlinewidth\":0,\"ticks\":\"\"}},\"type\":\"scatterternary\"}],\"surface\":[{\"colorbar\":{\"outlinewidth\":0,\"ticks\":\"\"},\"colorscale\":[[0.0,\"#0d0887\"],[0.1111111111111111,\"#46039f\"],[0.2222222222222222,\"#7201a8\"],[0.3333333333333333,\"#9c179e\"],[0.4444444444444444,\"#bd3786\"],[0.5555555555555556,\"#d8576b\"],[0.6666666666666666,\"#ed7953\"],[0.7777777777777778,\"#fb9f3a\"],[0.8888888888888888,\"#fdca26\"],[1.0,\"#f0f921\"]],\"type\":\"surface\"}],\"table\":[{\"cells\":{\"fill\":{\"color\":\"#EBF0F8\"},\"line\":{\"color\":\"white\"}},\"header\":{\"fill\":{\"color\":\"#C8D4E3\"},\"line\":{\"color\":\"white\"}},\"type\":\"table\"}]},\"layout\":{\"annotationdefaults\":{\"arrowcolor\":\"#2a3f5f\",\"arrowhead\":0,\"arrowwidth\":1},\"autotypenumbers\":\"strict\",\"coloraxis\":{\"colorbar\":{\"outlinewidth\":0,\"ticks\":\"\"}},\"colorscale\":{\"diverging\":[[0,\"#8e0152\"],[0.1,\"#c51b7d\"],[0.2,\"#de77ae\"],[0.3,\"#f1b6da\"],[0.4,\"#fde0ef\"],[0.5,\"#f7f7f7\"],[0.6,\"#e6f5d0\"],[0.7,\"#b8e186\"],[0.8,\"#7fbc41\"],[0.9,\"#4d9221\"],[1,\"#276419\"]],\"sequential\":[[0.0,\"#0d0887\"],[0.1111111111111111,\"#46039f\"],[0.2222222222222222,\"#7201a8\"],[0.3333333333333333,\"#9c179e\"],[0.4444444444444444,\"#bd3786\"],[0.5555555555555556,\"#d8576b\"],[0.6666666666666666,\"#ed7953\"],[0.7777777777777778,\"#fb9f3a\"],[0.8888888888888888,\"#fdca26\"],[1.0,\"#f0f921\"]],\"sequentialminus\":[[0.0,\"#0d0887\"],[0.1111111111111111,\"#46039f\"],[0.2222222222222222,\"#7201a8\"],[0.3333333333333333,\"#9c179e\"],[0.4444444444444444,\"#bd3786\"],[0.5555555555555556,\"#d8576b\"],[0.6666666666666666,\"#ed7953\"],[0.7777777777777778,\"#fb9f3a\"],[0.8888888888888888,\"#fdca26\"],[1.0,\"#f0f921\"]]},\"colorway\":[\"#636efa\",\"#EF553B\",\"#00cc96\",\"#ab63fa\",\"#FFA15A\",\"#19d3f3\",\"#FF6692\",\"#B6E880\",\"#FF97FF\",\"#FECB52\"],\"font\":{\"color\":\"#2a3f5f\"},\"geo\":{\"bgcolor\":\"white\",\"lakecolor\":\"white\",\"landcolor\":\"#E5ECF6\",\"showlakes\":true,\"showland\":true,\"subunitcolor\":\"white\"},\"hoverlabel\":{\"align\":\"left\"},\"hovermode\":\"closest\",\"mapbox\":{\"style\":\"light\"},\"paper_bgcolor\":\"white\",\"plot_bgcolor\":\"#E5ECF6\",\"polar\":{\"angularaxis\":{\"gridcolor\":\"white\",\"linecolor\":\"white\",\"ticks\":\"\"},\"bgcolor\":\"#E5ECF6\",\"radialaxis\":{\"gridcolor\":\"white\",\"linecolor\":\"white\",\"ticks\":\"\"}},\"scene\":{\"xaxis\":{\"backgroundcolor\":\"#E5ECF6\",\"gridcolor\":\"white\",\"gridwidth\":2,\"linecolor\":\"white\",\"showbackground\":true,\"ticks\":\"\",\"zerolinecolor\":\"white\"},\"yaxis\":{\"backgroundcolor\":\"#E5ECF6\",\"gridcolor\":\"white\",\"gridwidth\":2,\"linecolor\":\"white\",\"showbackground\":true,\"ticks\":\"\",\"zerolinecolor\":\"white\"},\"zaxis\":{\"backgroundcolor\":\"#E5ECF6\",\"gridcolor\":\"white\",\"gridwidth\":2,\"linecolor\":\"white\",\"showbackground\":true,\"ticks\":\"\",\"zerolinecolor\":\"white\"}},\"shapedefaults\":{\"line\":{\"color\":\"#2a3f5f\"}},\"ternary\":{\"aaxis\":{\"gridcolor\":\"white\",\"linecolor\":\"white\",\"ticks\":\"\"},\"baxis\":{\"gridcolor\":\"white\",\"linecolor\":\"white\",\"ticks\":\"\"},\"bgcolor\":\"#E5ECF6\",\"caxis\":{\"gridcolor\":\"white\",\"linecolor\":\"white\",\"ticks\":\"\"}},\"title\":{\"x\":0.05},\"xaxis\":{\"automargin\":true,\"gridcolor\":\"white\",\"linecolor\":\"white\",\"ticks\":\"\",\"title\":{\"standoff\":15},\"zerolinecolor\":\"white\",\"zerolinewidth\":2},\"yaxis\":{\"automargin\":true,\"gridcolor\":\"white\",\"linecolor\":\"white\",\"ticks\":\"\",\"title\":{\"standoff\":15},\"zerolinecolor\":\"white\",\"zerolinewidth\":2}}},\"title\":{\"text\":\"Trajectory of top 5 Authors\"},\"xaxis\":{\"anchor\":\"y\",\"domain\":[0.0,1.0],\"title\":{\"text\":\"Year\"}},\"yaxis\":{\"anchor\":\"x\",\"domain\":[0.0,1.0],\"title\":{\"text\":\"Revenue\"}}},                        {\"responsive\": true}                    ).then(function(){\n",
       "                            \n",
       "var gd = document.getElementById('7f1e1239-b05e-4fef-b91d-985f14c89325');\n",
       "var x = new MutationObserver(function (mutations, observer) {{\n",
       "        var display = window.getComputedStyle(gd).display;\n",
       "        if (!display || display === 'none') {{\n",
       "            console.log([gd, 'removed!']);\n",
       "            Plotly.purge(gd);\n",
       "            observer.disconnect();\n",
       "        }}\n",
       "}});\n",
       "\n",
       "// Listen for the removal of the full notebook cells\n",
       "var notebookContainer = gd.closest('#notebook-container');\n",
       "if (notebookContainer) {{\n",
       "    x.observe(notebookContainer, {childList: true});\n",
       "}}\n",
       "\n",
       "// Listen for the clearing of the current output cell\n",
       "var outputEl = gd.closest('.output');\n",
       "if (outputEl) {{\n",
       "    x.observe(outputEl, {childList: true});\n",
       "}}\n",
       "\n",
       "                        })                };                });            </script>        </div>"
      ]
     },
     "metadata": {},
     "output_type": "display_data"
    }
   ],
   "source": [
    "fig = px.line(df_rev_year_author1, x = \"Year\", y =\"Revenue\", color = \"AuthorID\",\n",
    "              title = \"Trajectory of top 5 Authors\",\n",
    "             labels={'Revenue': 'Revenue', 'AuthorID': 'Author ID'})\n",
    "fig.show()"
   ]
  },
  {
   "attachments": {},
   "cell_type": "markdown",
   "id": "5cdf9395",
   "metadata": {},
   "source": [
    "Each author's revenue trajectory lacks smoothness, characterized by sharp spikes. Take, for instance, author 964, whose revenue experienced a rapid ascent in 2017, surpassing 5000, only to sharply decline to 3000 and so forth."
   ]
  },
  {
   "cell_type": "code",
   "execution_count": 105,
   "id": "a61ece74",
   "metadata": {
    "scrolled": true
   },
   "outputs": [
    {
     "name": "stderr",
     "output_type": "stream",
     "text": [
      "<ipython-input-105-11f768274081>:4: SettingWithCopyWarning:\n",
      "\n",
      "\n",
      "A value is trying to be set on a copy of a slice from a DataFrame.\n",
      "Try using .loc[row_indexer,col_indexer] = value instead\n",
      "\n",
      "See the caveats in the documentation: https://pandas.pydata.org/pandas-docs/stable/user_guide/indexing.html#returning-a-view-versus-a-copy\n",
      "\n"
     ]
    },
    {
     "data": {
      "application/vnd.plotly.v1+json": {
       "config": {
        "plotlyServerURL": "https://plot.ly"
       },
       "data": [
        {
         "hovertemplate": "Author ID=164<br>Year=%{x}<br>Revenue=%{y}<extra></extra>",
         "legendgroup": "164",
         "line": {
          "color": "#636efa",
          "dash": "solid"
         },
         "marker": {
          "symbol": "circle"
         },
         "mode": "lines",
         "name": "164",
         "orientation": "v",
         "showlegend": true,
         "type": "scatter",
         "x": [
          2015,
          2016,
          2017,
          2018,
          2019,
          2020,
          2021,
          2022,
          2023
         ],
         "xaxis": "x",
         "y": [
          1415,
          3999,
          2736,
          2379,
          3025,
          2076,
          1574,
          3040,
          1694
         ],
         "yaxis": "y"
        },
        {
         "hovertemplate": "Author ID=238<br>Year=%{x}<br>Revenue=%{y}<extra></extra>",
         "legendgroup": "238",
         "line": {
          "color": "#EF553B",
          "dash": "solid"
         },
         "marker": {
          "symbol": "circle"
         },
         "mode": "lines",
         "name": "238",
         "orientation": "v",
         "showlegend": true,
         "type": "scatter",
         "x": [
          2015,
          2016,
          2017,
          2018,
          2019,
          2020,
          2021,
          2022,
          2023
         ],
         "xaxis": "x",
         "y": [
          732,
          1136,
          2055,
          1912,
          2374,
          4016,
          4606,
          3420,
          2326
         ],
         "yaxis": "y"
        },
        {
         "hovertemplate": "Author ID=652<br>Year=%{x}<br>Revenue=%{y}<extra></extra>",
         "legendgroup": "652",
         "line": {
          "color": "#00cc96",
          "dash": "solid"
         },
         "marker": {
          "symbol": "circle"
         },
         "mode": "lines",
         "name": "652",
         "orientation": "v",
         "showlegend": true,
         "type": "scatter",
         "x": [
          2015,
          2016,
          2017,
          2018,
          2019,
          2020,
          2021,
          2022,
          2023
         ],
         "xaxis": "x",
         "y": [
          1003,
          1157,
          2534,
          4090,
          2365,
          2635,
          2822,
          2484,
          2711
         ],
         "yaxis": "y"
        },
        {
         "hovertemplate": "Author ID=775<br>Year=%{x}<br>Revenue=%{y}<extra></extra>",
         "legendgroup": "775",
         "line": {
          "color": "#ab63fa",
          "dash": "solid"
         },
         "marker": {
          "symbol": "circle"
         },
         "mode": "lines",
         "name": "775",
         "orientation": "v",
         "showlegend": true,
         "type": "scatter",
         "x": [
          2015,
          2016,
          2017,
          2018,
          2019,
          2020,
          2021,
          2022,
          2023
         ],
         "xaxis": "x",
         "y": [
          1629,
          1188,
          1465,
          1472,
          3473,
          2511,
          2967,
          3466,
          3912
         ],
         "yaxis": "y"
        },
        {
         "hovertemplate": "Author ID=974<br>Year=%{x}<br>Revenue=%{y}<extra></extra>",
         "legendgroup": "974",
         "line": {
          "color": "#FFA15A",
          "dash": "solid"
         },
         "marker": {
          "symbol": "circle"
         },
         "mode": "lines",
         "name": "974",
         "orientation": "v",
         "showlegend": true,
         "type": "scatter",
         "x": [
          2015,
          2016,
          2017,
          2018,
          2019,
          2020,
          2021,
          2022,
          2023
         ],
         "xaxis": "x",
         "y": [
          1049,
          1512,
          1126,
          3072,
          2485,
          4414,
          2032,
          2573,
          3689
         ],
         "yaxis": "y"
        }
       ],
       "layout": {
        "legend": {
         "title": {
          "text": "Author ID"
         },
         "tracegroupgap": 0
        },
        "template": {
         "data": {
          "bar": [
           {
            "error_x": {
             "color": "#2a3f5f"
            },
            "error_y": {
             "color": "#2a3f5f"
            },
            "marker": {
             "line": {
              "color": "#E5ECF6",
              "width": 0.5
             },
             "pattern": {
              "fillmode": "overlay",
              "size": 10,
              "solidity": 0.2
             }
            },
            "type": "bar"
           }
          ],
          "barpolar": [
           {
            "marker": {
             "line": {
              "color": "#E5ECF6",
              "width": 0.5
             },
             "pattern": {
              "fillmode": "overlay",
              "size": 10,
              "solidity": 0.2
             }
            },
            "type": "barpolar"
           }
          ],
          "carpet": [
           {
            "aaxis": {
             "endlinecolor": "#2a3f5f",
             "gridcolor": "white",
             "linecolor": "white",
             "minorgridcolor": "white",
             "startlinecolor": "#2a3f5f"
            },
            "baxis": {
             "endlinecolor": "#2a3f5f",
             "gridcolor": "white",
             "linecolor": "white",
             "minorgridcolor": "white",
             "startlinecolor": "#2a3f5f"
            },
            "type": "carpet"
           }
          ],
          "choropleth": [
           {
            "colorbar": {
             "outlinewidth": 0,
             "ticks": ""
            },
            "type": "choropleth"
           }
          ],
          "contour": [
           {
            "colorbar": {
             "outlinewidth": 0,
             "ticks": ""
            },
            "colorscale": [
             [
              0,
              "#0d0887"
             ],
             [
              0.1111111111111111,
              "#46039f"
             ],
             [
              0.2222222222222222,
              "#7201a8"
             ],
             [
              0.3333333333333333,
              "#9c179e"
             ],
             [
              0.4444444444444444,
              "#bd3786"
             ],
             [
              0.5555555555555556,
              "#d8576b"
             ],
             [
              0.6666666666666666,
              "#ed7953"
             ],
             [
              0.7777777777777778,
              "#fb9f3a"
             ],
             [
              0.8888888888888888,
              "#fdca26"
             ],
             [
              1,
              "#f0f921"
             ]
            ],
            "type": "contour"
           }
          ],
          "contourcarpet": [
           {
            "colorbar": {
             "outlinewidth": 0,
             "ticks": ""
            },
            "type": "contourcarpet"
           }
          ],
          "heatmap": [
           {
            "colorbar": {
             "outlinewidth": 0,
             "ticks": ""
            },
            "colorscale": [
             [
              0,
              "#0d0887"
             ],
             [
              0.1111111111111111,
              "#46039f"
             ],
             [
              0.2222222222222222,
              "#7201a8"
             ],
             [
              0.3333333333333333,
              "#9c179e"
             ],
             [
              0.4444444444444444,
              "#bd3786"
             ],
             [
              0.5555555555555556,
              "#d8576b"
             ],
             [
              0.6666666666666666,
              "#ed7953"
             ],
             [
              0.7777777777777778,
              "#fb9f3a"
             ],
             [
              0.8888888888888888,
              "#fdca26"
             ],
             [
              1,
              "#f0f921"
             ]
            ],
            "type": "heatmap"
           }
          ],
          "heatmapgl": [
           {
            "colorbar": {
             "outlinewidth": 0,
             "ticks": ""
            },
            "colorscale": [
             [
              0,
              "#0d0887"
             ],
             [
              0.1111111111111111,
              "#46039f"
             ],
             [
              0.2222222222222222,
              "#7201a8"
             ],
             [
              0.3333333333333333,
              "#9c179e"
             ],
             [
              0.4444444444444444,
              "#bd3786"
             ],
             [
              0.5555555555555556,
              "#d8576b"
             ],
             [
              0.6666666666666666,
              "#ed7953"
             ],
             [
              0.7777777777777778,
              "#fb9f3a"
             ],
             [
              0.8888888888888888,
              "#fdca26"
             ],
             [
              1,
              "#f0f921"
             ]
            ],
            "type": "heatmapgl"
           }
          ],
          "histogram": [
           {
            "marker": {
             "pattern": {
              "fillmode": "overlay",
              "size": 10,
              "solidity": 0.2
             }
            },
            "type": "histogram"
           }
          ],
          "histogram2d": [
           {
            "colorbar": {
             "outlinewidth": 0,
             "ticks": ""
            },
            "colorscale": [
             [
              0,
              "#0d0887"
             ],
             [
              0.1111111111111111,
              "#46039f"
             ],
             [
              0.2222222222222222,
              "#7201a8"
             ],
             [
              0.3333333333333333,
              "#9c179e"
             ],
             [
              0.4444444444444444,
              "#bd3786"
             ],
             [
              0.5555555555555556,
              "#d8576b"
             ],
             [
              0.6666666666666666,
              "#ed7953"
             ],
             [
              0.7777777777777778,
              "#fb9f3a"
             ],
             [
              0.8888888888888888,
              "#fdca26"
             ],
             [
              1,
              "#f0f921"
             ]
            ],
            "type": "histogram2d"
           }
          ],
          "histogram2dcontour": [
           {
            "colorbar": {
             "outlinewidth": 0,
             "ticks": ""
            },
            "colorscale": [
             [
              0,
              "#0d0887"
             ],
             [
              0.1111111111111111,
              "#46039f"
             ],
             [
              0.2222222222222222,
              "#7201a8"
             ],
             [
              0.3333333333333333,
              "#9c179e"
             ],
             [
              0.4444444444444444,
              "#bd3786"
             ],
             [
              0.5555555555555556,
              "#d8576b"
             ],
             [
              0.6666666666666666,
              "#ed7953"
             ],
             [
              0.7777777777777778,
              "#fb9f3a"
             ],
             [
              0.8888888888888888,
              "#fdca26"
             ],
             [
              1,
              "#f0f921"
             ]
            ],
            "type": "histogram2dcontour"
           }
          ],
          "mesh3d": [
           {
            "colorbar": {
             "outlinewidth": 0,
             "ticks": ""
            },
            "type": "mesh3d"
           }
          ],
          "parcoords": [
           {
            "line": {
             "colorbar": {
              "outlinewidth": 0,
              "ticks": ""
             }
            },
            "type": "parcoords"
           }
          ],
          "pie": [
           {
            "automargin": true,
            "type": "pie"
           }
          ],
          "scatter": [
           {
            "marker": {
             "colorbar": {
              "outlinewidth": 0,
              "ticks": ""
             }
            },
            "type": "scatter"
           }
          ],
          "scatter3d": [
           {
            "line": {
             "colorbar": {
              "outlinewidth": 0,
              "ticks": ""
             }
            },
            "marker": {
             "colorbar": {
              "outlinewidth": 0,
              "ticks": ""
             }
            },
            "type": "scatter3d"
           }
          ],
          "scattercarpet": [
           {
            "marker": {
             "colorbar": {
              "outlinewidth": 0,
              "ticks": ""
             }
            },
            "type": "scattercarpet"
           }
          ],
          "scattergeo": [
           {
            "marker": {
             "colorbar": {
              "outlinewidth": 0,
              "ticks": ""
             }
            },
            "type": "scattergeo"
           }
          ],
          "scattergl": [
           {
            "marker": {
             "colorbar": {
              "outlinewidth": 0,
              "ticks": ""
             }
            },
            "type": "scattergl"
           }
          ],
          "scattermapbox": [
           {
            "marker": {
             "colorbar": {
              "outlinewidth": 0,
              "ticks": ""
             }
            },
            "type": "scattermapbox"
           }
          ],
          "scatterpolar": [
           {
            "marker": {
             "colorbar": {
              "outlinewidth": 0,
              "ticks": ""
             }
            },
            "type": "scatterpolar"
           }
          ],
          "scatterpolargl": [
           {
            "marker": {
             "colorbar": {
              "outlinewidth": 0,
              "ticks": ""
             }
            },
            "type": "scatterpolargl"
           }
          ],
          "scatterternary": [
           {
            "marker": {
             "colorbar": {
              "outlinewidth": 0,
              "ticks": ""
             }
            },
            "type": "scatterternary"
           }
          ],
          "surface": [
           {
            "colorbar": {
             "outlinewidth": 0,
             "ticks": ""
            },
            "colorscale": [
             [
              0,
              "#0d0887"
             ],
             [
              0.1111111111111111,
              "#46039f"
             ],
             [
              0.2222222222222222,
              "#7201a8"
             ],
             [
              0.3333333333333333,
              "#9c179e"
             ],
             [
              0.4444444444444444,
              "#bd3786"
             ],
             [
              0.5555555555555556,
              "#d8576b"
             ],
             [
              0.6666666666666666,
              "#ed7953"
             ],
             [
              0.7777777777777778,
              "#fb9f3a"
             ],
             [
              0.8888888888888888,
              "#fdca26"
             ],
             [
              1,
              "#f0f921"
             ]
            ],
            "type": "surface"
           }
          ],
          "table": [
           {
            "cells": {
             "fill": {
              "color": "#EBF0F8"
             },
             "line": {
              "color": "white"
             }
            },
            "header": {
             "fill": {
              "color": "#C8D4E3"
             },
             "line": {
              "color": "white"
             }
            },
            "type": "table"
           }
          ]
         },
         "layout": {
          "annotationdefaults": {
           "arrowcolor": "#2a3f5f",
           "arrowhead": 0,
           "arrowwidth": 1
          },
          "autotypenumbers": "strict",
          "coloraxis": {
           "colorbar": {
            "outlinewidth": 0,
            "ticks": ""
           }
          },
          "colorscale": {
           "diverging": [
            [
             0,
             "#8e0152"
            ],
            [
             0.1,
             "#c51b7d"
            ],
            [
             0.2,
             "#de77ae"
            ],
            [
             0.3,
             "#f1b6da"
            ],
            [
             0.4,
             "#fde0ef"
            ],
            [
             0.5,
             "#f7f7f7"
            ],
            [
             0.6,
             "#e6f5d0"
            ],
            [
             0.7,
             "#b8e186"
            ],
            [
             0.8,
             "#7fbc41"
            ],
            [
             0.9,
             "#4d9221"
            ],
            [
             1,
             "#276419"
            ]
           ],
           "sequential": [
            [
             0,
             "#0d0887"
            ],
            [
             0.1111111111111111,
             "#46039f"
            ],
            [
             0.2222222222222222,
             "#7201a8"
            ],
            [
             0.3333333333333333,
             "#9c179e"
            ],
            [
             0.4444444444444444,
             "#bd3786"
            ],
            [
             0.5555555555555556,
             "#d8576b"
            ],
            [
             0.6666666666666666,
             "#ed7953"
            ],
            [
             0.7777777777777778,
             "#fb9f3a"
            ],
            [
             0.8888888888888888,
             "#fdca26"
            ],
            [
             1,
             "#f0f921"
            ]
           ],
           "sequentialminus": [
            [
             0,
             "#0d0887"
            ],
            [
             0.1111111111111111,
             "#46039f"
            ],
            [
             0.2222222222222222,
             "#7201a8"
            ],
            [
             0.3333333333333333,
             "#9c179e"
            ],
            [
             0.4444444444444444,
             "#bd3786"
            ],
            [
             0.5555555555555556,
             "#d8576b"
            ],
            [
             0.6666666666666666,
             "#ed7953"
            ],
            [
             0.7777777777777778,
             "#fb9f3a"
            ],
            [
             0.8888888888888888,
             "#fdca26"
            ],
            [
             1,
             "#f0f921"
            ]
           ]
          },
          "colorway": [
           "#636efa",
           "#EF553B",
           "#00cc96",
           "#ab63fa",
           "#FFA15A",
           "#19d3f3",
           "#FF6692",
           "#B6E880",
           "#FF97FF",
           "#FECB52"
          ],
          "font": {
           "color": "#2a3f5f"
          },
          "geo": {
           "bgcolor": "white",
           "lakecolor": "white",
           "landcolor": "#E5ECF6",
           "showlakes": true,
           "showland": true,
           "subunitcolor": "white"
          },
          "hoverlabel": {
           "align": "left"
          },
          "hovermode": "closest",
          "mapbox": {
           "style": "light"
          },
          "paper_bgcolor": "white",
          "plot_bgcolor": "#E5ECF6",
          "polar": {
           "angularaxis": {
            "gridcolor": "white",
            "linecolor": "white",
            "ticks": ""
           },
           "bgcolor": "#E5ECF6",
           "radialaxis": {
            "gridcolor": "white",
            "linecolor": "white",
            "ticks": ""
           }
          },
          "scene": {
           "xaxis": {
            "backgroundcolor": "#E5ECF6",
            "gridcolor": "white",
            "gridwidth": 2,
            "linecolor": "white",
            "showbackground": true,
            "ticks": "",
            "zerolinecolor": "white"
           },
           "yaxis": {
            "backgroundcolor": "#E5ECF6",
            "gridcolor": "white",
            "gridwidth": 2,
            "linecolor": "white",
            "showbackground": true,
            "ticks": "",
            "zerolinecolor": "white"
           },
           "zaxis": {
            "backgroundcolor": "#E5ECF6",
            "gridcolor": "white",
            "gridwidth": 2,
            "linecolor": "white",
            "showbackground": true,
            "ticks": "",
            "zerolinecolor": "white"
           }
          },
          "shapedefaults": {
           "line": {
            "color": "#2a3f5f"
           }
          },
          "ternary": {
           "aaxis": {
            "gridcolor": "white",
            "linecolor": "white",
            "ticks": ""
           },
           "baxis": {
            "gridcolor": "white",
            "linecolor": "white",
            "ticks": ""
           },
           "bgcolor": "#E5ECF6",
           "caxis": {
            "gridcolor": "white",
            "linecolor": "white",
            "ticks": ""
           }
          },
          "title": {
           "x": 0.05
          },
          "xaxis": {
           "automargin": true,
           "gridcolor": "white",
           "linecolor": "white",
           "ticks": "",
           "title": {
            "standoff": 15
           },
           "zerolinecolor": "white",
           "zerolinewidth": 2
          },
          "yaxis": {
           "automargin": true,
           "gridcolor": "white",
           "linecolor": "white",
           "ticks": "",
           "title": {
            "standoff": 15
           },
           "zerolinecolor": "white",
           "zerolinewidth": 2
          }
         }
        },
        "title": {
         "text": "Trajectory of next top 5 Authors"
        },
        "xaxis": {
         "anchor": "y",
         "domain": [
          0,
          1
         ],
         "title": {
          "text": "Year"
         }
        },
        "yaxis": {
         "anchor": "x",
         "domain": [
          0,
          1
         ],
         "title": {
          "text": "Revenue"
         }
        }
       }
      },
      "text/html": [
       "<div>                            <div id=\"121ce2a1-ea44-47da-87db-7804cac25634\" class=\"plotly-graph-div\" style=\"height:525px; width:100%;\"></div>            <script type=\"text/javascript\">                require([\"plotly\"], function(Plotly) {                    window.PLOTLYENV=window.PLOTLYENV || {};                                    if (document.getElementById(\"121ce2a1-ea44-47da-87db-7804cac25634\")) {                    Plotly.newPlot(                        \"121ce2a1-ea44-47da-87db-7804cac25634\",                        [{\"hovertemplate\":\"Author ID=164<br>Year=%{x}<br>Revenue=%{y}<extra></extra>\",\"legendgroup\":\"164\",\"line\":{\"color\":\"#636efa\",\"dash\":\"solid\"},\"marker\":{\"symbol\":\"circle\"},\"mode\":\"lines\",\"name\":\"164\",\"orientation\":\"v\",\"showlegend\":true,\"type\":\"scatter\",\"x\":[2015,2016,2017,2018,2019,2020,2021,2022,2023],\"xaxis\":\"x\",\"y\":[1415,3999,2736,2379,3025,2076,1574,3040,1694],\"yaxis\":\"y\"},{\"hovertemplate\":\"Author ID=238<br>Year=%{x}<br>Revenue=%{y}<extra></extra>\",\"legendgroup\":\"238\",\"line\":{\"color\":\"#EF553B\",\"dash\":\"solid\"},\"marker\":{\"symbol\":\"circle\"},\"mode\":\"lines\",\"name\":\"238\",\"orientation\":\"v\",\"showlegend\":true,\"type\":\"scatter\",\"x\":[2015,2016,2017,2018,2019,2020,2021,2022,2023],\"xaxis\":\"x\",\"y\":[732,1136,2055,1912,2374,4016,4606,3420,2326],\"yaxis\":\"y\"},{\"hovertemplate\":\"Author ID=652<br>Year=%{x}<br>Revenue=%{y}<extra></extra>\",\"legendgroup\":\"652\",\"line\":{\"color\":\"#00cc96\",\"dash\":\"solid\"},\"marker\":{\"symbol\":\"circle\"},\"mode\":\"lines\",\"name\":\"652\",\"orientation\":\"v\",\"showlegend\":true,\"type\":\"scatter\",\"x\":[2015,2016,2017,2018,2019,2020,2021,2022,2023],\"xaxis\":\"x\",\"y\":[1003,1157,2534,4090,2365,2635,2822,2484,2711],\"yaxis\":\"y\"},{\"hovertemplate\":\"Author ID=775<br>Year=%{x}<br>Revenue=%{y}<extra></extra>\",\"legendgroup\":\"775\",\"line\":{\"color\":\"#ab63fa\",\"dash\":\"solid\"},\"marker\":{\"symbol\":\"circle\"},\"mode\":\"lines\",\"name\":\"775\",\"orientation\":\"v\",\"showlegend\":true,\"type\":\"scatter\",\"x\":[2015,2016,2017,2018,2019,2020,2021,2022,2023],\"xaxis\":\"x\",\"y\":[1629,1188,1465,1472,3473,2511,2967,3466,3912],\"yaxis\":\"y\"},{\"hovertemplate\":\"Author ID=974<br>Year=%{x}<br>Revenue=%{y}<extra></extra>\",\"legendgroup\":\"974\",\"line\":{\"color\":\"#FFA15A\",\"dash\":\"solid\"},\"marker\":{\"symbol\":\"circle\"},\"mode\":\"lines\",\"name\":\"974\",\"orientation\":\"v\",\"showlegend\":true,\"type\":\"scatter\",\"x\":[2015,2016,2017,2018,2019,2020,2021,2022,2023],\"xaxis\":\"x\",\"y\":[1049,1512,1126,3072,2485,4414,2032,2573,3689],\"yaxis\":\"y\"}],                        {\"legend\":{\"title\":{\"text\":\"Author ID\"},\"tracegroupgap\":0},\"template\":{\"data\":{\"bar\":[{\"error_x\":{\"color\":\"#2a3f5f\"},\"error_y\":{\"color\":\"#2a3f5f\"},\"marker\":{\"line\":{\"color\":\"#E5ECF6\",\"width\":0.5},\"pattern\":{\"fillmode\":\"overlay\",\"size\":10,\"solidity\":0.2}},\"type\":\"bar\"}],\"barpolar\":[{\"marker\":{\"line\":{\"color\":\"#E5ECF6\",\"width\":0.5},\"pattern\":{\"fillmode\":\"overlay\",\"size\":10,\"solidity\":0.2}},\"type\":\"barpolar\"}],\"carpet\":[{\"aaxis\":{\"endlinecolor\":\"#2a3f5f\",\"gridcolor\":\"white\",\"linecolor\":\"white\",\"minorgridcolor\":\"white\",\"startlinecolor\":\"#2a3f5f\"},\"baxis\":{\"endlinecolor\":\"#2a3f5f\",\"gridcolor\":\"white\",\"linecolor\":\"white\",\"minorgridcolor\":\"white\",\"startlinecolor\":\"#2a3f5f\"},\"type\":\"carpet\"}],\"choropleth\":[{\"colorbar\":{\"outlinewidth\":0,\"ticks\":\"\"},\"type\":\"choropleth\"}],\"contour\":[{\"colorbar\":{\"outlinewidth\":0,\"ticks\":\"\"},\"colorscale\":[[0.0,\"#0d0887\"],[0.1111111111111111,\"#46039f\"],[0.2222222222222222,\"#7201a8\"],[0.3333333333333333,\"#9c179e\"],[0.4444444444444444,\"#bd3786\"],[0.5555555555555556,\"#d8576b\"],[0.6666666666666666,\"#ed7953\"],[0.7777777777777778,\"#fb9f3a\"],[0.8888888888888888,\"#fdca26\"],[1.0,\"#f0f921\"]],\"type\":\"contour\"}],\"contourcarpet\":[{\"colorbar\":{\"outlinewidth\":0,\"ticks\":\"\"},\"type\":\"contourcarpet\"}],\"heatmap\":[{\"colorbar\":{\"outlinewidth\":0,\"ticks\":\"\"},\"colorscale\":[[0.0,\"#0d0887\"],[0.1111111111111111,\"#46039f\"],[0.2222222222222222,\"#7201a8\"],[0.3333333333333333,\"#9c179e\"],[0.4444444444444444,\"#bd3786\"],[0.5555555555555556,\"#d8576b\"],[0.6666666666666666,\"#ed7953\"],[0.7777777777777778,\"#fb9f3a\"],[0.8888888888888888,\"#fdca26\"],[1.0,\"#f0f921\"]],\"type\":\"heatmap\"}],\"heatmapgl\":[{\"colorbar\":{\"outlinewidth\":0,\"ticks\":\"\"},\"colorscale\":[[0.0,\"#0d0887\"],[0.1111111111111111,\"#46039f\"],[0.2222222222222222,\"#7201a8\"],[0.3333333333333333,\"#9c179e\"],[0.4444444444444444,\"#bd3786\"],[0.5555555555555556,\"#d8576b\"],[0.6666666666666666,\"#ed7953\"],[0.7777777777777778,\"#fb9f3a\"],[0.8888888888888888,\"#fdca26\"],[1.0,\"#f0f921\"]],\"type\":\"heatmapgl\"}],\"histogram\":[{\"marker\":{\"pattern\":{\"fillmode\":\"overlay\",\"size\":10,\"solidity\":0.2}},\"type\":\"histogram\"}],\"histogram2d\":[{\"colorbar\":{\"outlinewidth\":0,\"ticks\":\"\"},\"colorscale\":[[0.0,\"#0d0887\"],[0.1111111111111111,\"#46039f\"],[0.2222222222222222,\"#7201a8\"],[0.3333333333333333,\"#9c179e\"],[0.4444444444444444,\"#bd3786\"],[0.5555555555555556,\"#d8576b\"],[0.6666666666666666,\"#ed7953\"],[0.7777777777777778,\"#fb9f3a\"],[0.8888888888888888,\"#fdca26\"],[1.0,\"#f0f921\"]],\"type\":\"histogram2d\"}],\"histogram2dcontour\":[{\"colorbar\":{\"outlinewidth\":0,\"ticks\":\"\"},\"colorscale\":[[0.0,\"#0d0887\"],[0.1111111111111111,\"#46039f\"],[0.2222222222222222,\"#7201a8\"],[0.3333333333333333,\"#9c179e\"],[0.4444444444444444,\"#bd3786\"],[0.5555555555555556,\"#d8576b\"],[0.6666666666666666,\"#ed7953\"],[0.7777777777777778,\"#fb9f3a\"],[0.8888888888888888,\"#fdca26\"],[1.0,\"#f0f921\"]],\"type\":\"histogram2dcontour\"}],\"mesh3d\":[{\"colorbar\":{\"outlinewidth\":0,\"ticks\":\"\"},\"type\":\"mesh3d\"}],\"parcoords\":[{\"line\":{\"colorbar\":{\"outlinewidth\":0,\"ticks\":\"\"}},\"type\":\"parcoords\"}],\"pie\":[{\"automargin\":true,\"type\":\"pie\"}],\"scatter\":[{\"marker\":{\"colorbar\":{\"outlinewidth\":0,\"ticks\":\"\"}},\"type\":\"scatter\"}],\"scatter3d\":[{\"line\":{\"colorbar\":{\"outlinewidth\":0,\"ticks\":\"\"}},\"marker\":{\"colorbar\":{\"outlinewidth\":0,\"ticks\":\"\"}},\"type\":\"scatter3d\"}],\"scattercarpet\":[{\"marker\":{\"colorbar\":{\"outlinewidth\":0,\"ticks\":\"\"}},\"type\":\"scattercarpet\"}],\"scattergeo\":[{\"marker\":{\"colorbar\":{\"outlinewidth\":0,\"ticks\":\"\"}},\"type\":\"scattergeo\"}],\"scattergl\":[{\"marker\":{\"colorbar\":{\"outlinewidth\":0,\"ticks\":\"\"}},\"type\":\"scattergl\"}],\"scattermapbox\":[{\"marker\":{\"colorbar\":{\"outlinewidth\":0,\"ticks\":\"\"}},\"type\":\"scattermapbox\"}],\"scatterpolar\":[{\"marker\":{\"colorbar\":{\"outlinewidth\":0,\"ticks\":\"\"}},\"type\":\"scatterpolar\"}],\"scatterpolargl\":[{\"marker\":{\"colorbar\":{\"outlinewidth\":0,\"ticks\":\"\"}},\"type\":\"scatterpolargl\"}],\"scatterternary\":[{\"marker\":{\"colorbar\":{\"outlinewidth\":0,\"ticks\":\"\"}},\"type\":\"scatterternary\"}],\"surface\":[{\"colorbar\":{\"outlinewidth\":0,\"ticks\":\"\"},\"colorscale\":[[0.0,\"#0d0887\"],[0.1111111111111111,\"#46039f\"],[0.2222222222222222,\"#7201a8\"],[0.3333333333333333,\"#9c179e\"],[0.4444444444444444,\"#bd3786\"],[0.5555555555555556,\"#d8576b\"],[0.6666666666666666,\"#ed7953\"],[0.7777777777777778,\"#fb9f3a\"],[0.8888888888888888,\"#fdca26\"],[1.0,\"#f0f921\"]],\"type\":\"surface\"}],\"table\":[{\"cells\":{\"fill\":{\"color\":\"#EBF0F8\"},\"line\":{\"color\":\"white\"}},\"header\":{\"fill\":{\"color\":\"#C8D4E3\"},\"line\":{\"color\":\"white\"}},\"type\":\"table\"}]},\"layout\":{\"annotationdefaults\":{\"arrowcolor\":\"#2a3f5f\",\"arrowhead\":0,\"arrowwidth\":1},\"autotypenumbers\":\"strict\",\"coloraxis\":{\"colorbar\":{\"outlinewidth\":0,\"ticks\":\"\"}},\"colorscale\":{\"diverging\":[[0,\"#8e0152\"],[0.1,\"#c51b7d\"],[0.2,\"#de77ae\"],[0.3,\"#f1b6da\"],[0.4,\"#fde0ef\"],[0.5,\"#f7f7f7\"],[0.6,\"#e6f5d0\"],[0.7,\"#b8e186\"],[0.8,\"#7fbc41\"],[0.9,\"#4d9221\"],[1,\"#276419\"]],\"sequential\":[[0.0,\"#0d0887\"],[0.1111111111111111,\"#46039f\"],[0.2222222222222222,\"#7201a8\"],[0.3333333333333333,\"#9c179e\"],[0.4444444444444444,\"#bd3786\"],[0.5555555555555556,\"#d8576b\"],[0.6666666666666666,\"#ed7953\"],[0.7777777777777778,\"#fb9f3a\"],[0.8888888888888888,\"#fdca26\"],[1.0,\"#f0f921\"]],\"sequentialminus\":[[0.0,\"#0d0887\"],[0.1111111111111111,\"#46039f\"],[0.2222222222222222,\"#7201a8\"],[0.3333333333333333,\"#9c179e\"],[0.4444444444444444,\"#bd3786\"],[0.5555555555555556,\"#d8576b\"],[0.6666666666666666,\"#ed7953\"],[0.7777777777777778,\"#fb9f3a\"],[0.8888888888888888,\"#fdca26\"],[1.0,\"#f0f921\"]]},\"colorway\":[\"#636efa\",\"#EF553B\",\"#00cc96\",\"#ab63fa\",\"#FFA15A\",\"#19d3f3\",\"#FF6692\",\"#B6E880\",\"#FF97FF\",\"#FECB52\"],\"font\":{\"color\":\"#2a3f5f\"},\"geo\":{\"bgcolor\":\"white\",\"lakecolor\":\"white\",\"landcolor\":\"#E5ECF6\",\"showlakes\":true,\"showland\":true,\"subunitcolor\":\"white\"},\"hoverlabel\":{\"align\":\"left\"},\"hovermode\":\"closest\",\"mapbox\":{\"style\":\"light\"},\"paper_bgcolor\":\"white\",\"plot_bgcolor\":\"#E5ECF6\",\"polar\":{\"angularaxis\":{\"gridcolor\":\"white\",\"linecolor\":\"white\",\"ticks\":\"\"},\"bgcolor\":\"#E5ECF6\",\"radialaxis\":{\"gridcolor\":\"white\",\"linecolor\":\"white\",\"ticks\":\"\"}},\"scene\":{\"xaxis\":{\"backgroundcolor\":\"#E5ECF6\",\"gridcolor\":\"white\",\"gridwidth\":2,\"linecolor\":\"white\",\"showbackground\":true,\"ticks\":\"\",\"zerolinecolor\":\"white\"},\"yaxis\":{\"backgroundcolor\":\"#E5ECF6\",\"gridcolor\":\"white\",\"gridwidth\":2,\"linecolor\":\"white\",\"showbackground\":true,\"ticks\":\"\",\"zerolinecolor\":\"white\"},\"zaxis\":{\"backgroundcolor\":\"#E5ECF6\",\"gridcolor\":\"white\",\"gridwidth\":2,\"linecolor\":\"white\",\"showbackground\":true,\"ticks\":\"\",\"zerolinecolor\":\"white\"}},\"shapedefaults\":{\"line\":{\"color\":\"#2a3f5f\"}},\"ternary\":{\"aaxis\":{\"gridcolor\":\"white\",\"linecolor\":\"white\",\"ticks\":\"\"},\"baxis\":{\"gridcolor\":\"white\",\"linecolor\":\"white\",\"ticks\":\"\"},\"bgcolor\":\"#E5ECF6\",\"caxis\":{\"gridcolor\":\"white\",\"linecolor\":\"white\",\"ticks\":\"\"}},\"title\":{\"x\":0.05},\"xaxis\":{\"automargin\":true,\"gridcolor\":\"white\",\"linecolor\":\"white\",\"ticks\":\"\",\"title\":{\"standoff\":15},\"zerolinecolor\":\"white\",\"zerolinewidth\":2},\"yaxis\":{\"automargin\":true,\"gridcolor\":\"white\",\"linecolor\":\"white\",\"ticks\":\"\",\"title\":{\"standoff\":15},\"zerolinecolor\":\"white\",\"zerolinewidth\":2}}},\"title\":{\"text\":\"Trajectory of next top 5 Authors\"},\"xaxis\":{\"anchor\":\"y\",\"domain\":[0.0,1.0],\"title\":{\"text\":\"Year\"}},\"yaxis\":{\"anchor\":\"x\",\"domain\":[0.0,1.0],\"title\":{\"text\":\"Revenue\"}}},                        {\"responsive\": true}                    ).then(function(){\n",
       "                            \n",
       "var gd = document.getElementById('121ce2a1-ea44-47da-87db-7804cac25634');\n",
       "var x = new MutationObserver(function (mutations, observer) {{\n",
       "        var display = window.getComputedStyle(gd).display;\n",
       "        if (!display || display === 'none') {{\n",
       "            console.log([gd, 'removed!']);\n",
       "            Plotly.purge(gd);\n",
       "            observer.disconnect();\n",
       "        }}\n",
       "}});\n",
       "\n",
       "// Listen for the removal of the full notebook cells\n",
       "var notebookContainer = gd.closest('#notebook-container');\n",
       "if (notebookContainer) {{\n",
       "    x.observe(notebookContainer, {childList: true});\n",
       "}}\n",
       "\n",
       "// Listen for the clearing of the current output cell\n",
       "var outputEl = gd.closest('.output');\n",
       "if (outputEl) {{\n",
       "    x.observe(outputEl, {childList: true});\n",
       "}}\n",
       "\n",
       "                        })                };                });            </script>        </div>"
      ]
     },
     "metadata": {},
     "output_type": "display_data"
    }
   ],
   "source": [
    "#Lets look at next 5 music authors!!\n",
    "l2 = [238,775,974,164,652]\n",
    "df_rev_year_author2 = df_rev_year_author[df_rev_year_author[\"AuthorID\"].isin(l2)]\n",
    "df_rev_year_author2[\"AuthorID\"] = df_rev_year_author2[\"AuthorID\"].astype(str)\n",
    "fig = px.line(df_rev_year_author2, x = \"Year\", y =\"Revenue\", color = \"AuthorID\",\n",
    "              title = \"Trajectory of next top 5 Authors\",\n",
    "             labels={'Revenue': 'Revenue', 'AuthorID': 'Author ID'})\n",
    "fig.show()"
   ]
  },
  {
   "cell_type": "markdown",
   "id": "cb1d885b",
   "metadata": {},
   "source": [
    "Marked by sharp spikes. None of trajectories showing an increasing pattern. For all the msuic authors, revenue earned each year fluctuates sharply. For authorID 775, the revenue generated continues to increase successively after 2020."
   ]
  },
  {
   "cell_type": "code",
   "execution_count": 144,
   "id": "13aa8cf8",
   "metadata": {
    "scrolled": true
   },
   "outputs": [
    {
     "data": {
      "application/vnd.plotly.v1+json": {
       "config": {
        "plotlyServerURL": "https://plot.ly"
       },
       "data": [
        {
         "alignmentgroup": "True",
         "hovertemplate": "Music Author ID=%{x}<br>Number of Songs=%{y}<extra></extra>",
         "legendgroup": "",
         "marker": {
          "color": "#636efa",
          "pattern": {
           "shape": ""
          }
         },
         "name": "",
         "offsetgroup": "",
         "orientation": "v",
         "showlegend": false,
         "textposition": "auto",
         "type": "bar",
         "x": [
          "49",
          "142",
          "923",
          "775",
          "888",
          "964",
          "640",
          "246",
          "238",
          "465",
          "115",
          "154",
          "407",
          "91",
          "974",
          "464",
          "424",
          "962",
          "576",
          "881"
         ],
         "xaxis": "x",
         "y": [
          576,
          576,
          540,
          504,
          468,
          468,
          468,
          468,
          468,
          432,
          432,
          432,
          432,
          432,
          432,
          432,
          432,
          432,
          432,
          432
         ],
         "yaxis": "y"
        }
       ],
       "layout": {
        "barmode": "relative",
        "legend": {
         "tracegroupgap": 0
        },
        "template": {
         "data": {
          "bar": [
           {
            "error_x": {
             "color": "#2a3f5f"
            },
            "error_y": {
             "color": "#2a3f5f"
            },
            "marker": {
             "line": {
              "color": "#E5ECF6",
              "width": 0.5
             },
             "pattern": {
              "fillmode": "overlay",
              "size": 10,
              "solidity": 0.2
             }
            },
            "type": "bar"
           }
          ],
          "barpolar": [
           {
            "marker": {
             "line": {
              "color": "#E5ECF6",
              "width": 0.5
             },
             "pattern": {
              "fillmode": "overlay",
              "size": 10,
              "solidity": 0.2
             }
            },
            "type": "barpolar"
           }
          ],
          "carpet": [
           {
            "aaxis": {
             "endlinecolor": "#2a3f5f",
             "gridcolor": "white",
             "linecolor": "white",
             "minorgridcolor": "white",
             "startlinecolor": "#2a3f5f"
            },
            "baxis": {
             "endlinecolor": "#2a3f5f",
             "gridcolor": "white",
             "linecolor": "white",
             "minorgridcolor": "white",
             "startlinecolor": "#2a3f5f"
            },
            "type": "carpet"
           }
          ],
          "choropleth": [
           {
            "colorbar": {
             "outlinewidth": 0,
             "ticks": ""
            },
            "type": "choropleth"
           }
          ],
          "contour": [
           {
            "colorbar": {
             "outlinewidth": 0,
             "ticks": ""
            },
            "colorscale": [
             [
              0,
              "#0d0887"
             ],
             [
              0.1111111111111111,
              "#46039f"
             ],
             [
              0.2222222222222222,
              "#7201a8"
             ],
             [
              0.3333333333333333,
              "#9c179e"
             ],
             [
              0.4444444444444444,
              "#bd3786"
             ],
             [
              0.5555555555555556,
              "#d8576b"
             ],
             [
              0.6666666666666666,
              "#ed7953"
             ],
             [
              0.7777777777777778,
              "#fb9f3a"
             ],
             [
              0.8888888888888888,
              "#fdca26"
             ],
             [
              1,
              "#f0f921"
             ]
            ],
            "type": "contour"
           }
          ],
          "contourcarpet": [
           {
            "colorbar": {
             "outlinewidth": 0,
             "ticks": ""
            },
            "type": "contourcarpet"
           }
          ],
          "heatmap": [
           {
            "colorbar": {
             "outlinewidth": 0,
             "ticks": ""
            },
            "colorscale": [
             [
              0,
              "#0d0887"
             ],
             [
              0.1111111111111111,
              "#46039f"
             ],
             [
              0.2222222222222222,
              "#7201a8"
             ],
             [
              0.3333333333333333,
              "#9c179e"
             ],
             [
              0.4444444444444444,
              "#bd3786"
             ],
             [
              0.5555555555555556,
              "#d8576b"
             ],
             [
              0.6666666666666666,
              "#ed7953"
             ],
             [
              0.7777777777777778,
              "#fb9f3a"
             ],
             [
              0.8888888888888888,
              "#fdca26"
             ],
             [
              1,
              "#f0f921"
             ]
            ],
            "type": "heatmap"
           }
          ],
          "heatmapgl": [
           {
            "colorbar": {
             "outlinewidth": 0,
             "ticks": ""
            },
            "colorscale": [
             [
              0,
              "#0d0887"
             ],
             [
              0.1111111111111111,
              "#46039f"
             ],
             [
              0.2222222222222222,
              "#7201a8"
             ],
             [
              0.3333333333333333,
              "#9c179e"
             ],
             [
              0.4444444444444444,
              "#bd3786"
             ],
             [
              0.5555555555555556,
              "#d8576b"
             ],
             [
              0.6666666666666666,
              "#ed7953"
             ],
             [
              0.7777777777777778,
              "#fb9f3a"
             ],
             [
              0.8888888888888888,
              "#fdca26"
             ],
             [
              1,
              "#f0f921"
             ]
            ],
            "type": "heatmapgl"
           }
          ],
          "histogram": [
           {
            "marker": {
             "pattern": {
              "fillmode": "overlay",
              "size": 10,
              "solidity": 0.2
             }
            },
            "type": "histogram"
           }
          ],
          "histogram2d": [
           {
            "colorbar": {
             "outlinewidth": 0,
             "ticks": ""
            },
            "colorscale": [
             [
              0,
              "#0d0887"
             ],
             [
              0.1111111111111111,
              "#46039f"
             ],
             [
              0.2222222222222222,
              "#7201a8"
             ],
             [
              0.3333333333333333,
              "#9c179e"
             ],
             [
              0.4444444444444444,
              "#bd3786"
             ],
             [
              0.5555555555555556,
              "#d8576b"
             ],
             [
              0.6666666666666666,
              "#ed7953"
             ],
             [
              0.7777777777777778,
              "#fb9f3a"
             ],
             [
              0.8888888888888888,
              "#fdca26"
             ],
             [
              1,
              "#f0f921"
             ]
            ],
            "type": "histogram2d"
           }
          ],
          "histogram2dcontour": [
           {
            "colorbar": {
             "outlinewidth": 0,
             "ticks": ""
            },
            "colorscale": [
             [
              0,
              "#0d0887"
             ],
             [
              0.1111111111111111,
              "#46039f"
             ],
             [
              0.2222222222222222,
              "#7201a8"
             ],
             [
              0.3333333333333333,
              "#9c179e"
             ],
             [
              0.4444444444444444,
              "#bd3786"
             ],
             [
              0.5555555555555556,
              "#d8576b"
             ],
             [
              0.6666666666666666,
              "#ed7953"
             ],
             [
              0.7777777777777778,
              "#fb9f3a"
             ],
             [
              0.8888888888888888,
              "#fdca26"
             ],
             [
              1,
              "#f0f921"
             ]
            ],
            "type": "histogram2dcontour"
           }
          ],
          "mesh3d": [
           {
            "colorbar": {
             "outlinewidth": 0,
             "ticks": ""
            },
            "type": "mesh3d"
           }
          ],
          "parcoords": [
           {
            "line": {
             "colorbar": {
              "outlinewidth": 0,
              "ticks": ""
             }
            },
            "type": "parcoords"
           }
          ],
          "pie": [
           {
            "automargin": true,
            "type": "pie"
           }
          ],
          "scatter": [
           {
            "marker": {
             "colorbar": {
              "outlinewidth": 0,
              "ticks": ""
             }
            },
            "type": "scatter"
           }
          ],
          "scatter3d": [
           {
            "line": {
             "colorbar": {
              "outlinewidth": 0,
              "ticks": ""
             }
            },
            "marker": {
             "colorbar": {
              "outlinewidth": 0,
              "ticks": ""
             }
            },
            "type": "scatter3d"
           }
          ],
          "scattercarpet": [
           {
            "marker": {
             "colorbar": {
              "outlinewidth": 0,
              "ticks": ""
             }
            },
            "type": "scattercarpet"
           }
          ],
          "scattergeo": [
           {
            "marker": {
             "colorbar": {
              "outlinewidth": 0,
              "ticks": ""
             }
            },
            "type": "scattergeo"
           }
          ],
          "scattergl": [
           {
            "marker": {
             "colorbar": {
              "outlinewidth": 0,
              "ticks": ""
             }
            },
            "type": "scattergl"
           }
          ],
          "scattermapbox": [
           {
            "marker": {
             "colorbar": {
              "outlinewidth": 0,
              "ticks": ""
             }
            },
            "type": "scattermapbox"
           }
          ],
          "scatterpolar": [
           {
            "marker": {
             "colorbar": {
              "outlinewidth": 0,
              "ticks": ""
             }
            },
            "type": "scatterpolar"
           }
          ],
          "scatterpolargl": [
           {
            "marker": {
             "colorbar": {
              "outlinewidth": 0,
              "ticks": ""
             }
            },
            "type": "scatterpolargl"
           }
          ],
          "scatterternary": [
           {
            "marker": {
             "colorbar": {
              "outlinewidth": 0,
              "ticks": ""
             }
            },
            "type": "scatterternary"
           }
          ],
          "surface": [
           {
            "colorbar": {
             "outlinewidth": 0,
             "ticks": ""
            },
            "colorscale": [
             [
              0,
              "#0d0887"
             ],
             [
              0.1111111111111111,
              "#46039f"
             ],
             [
              0.2222222222222222,
              "#7201a8"
             ],
             [
              0.3333333333333333,
              "#9c179e"
             ],
             [
              0.4444444444444444,
              "#bd3786"
             ],
             [
              0.5555555555555556,
              "#d8576b"
             ],
             [
              0.6666666666666666,
              "#ed7953"
             ],
             [
              0.7777777777777778,
              "#fb9f3a"
             ],
             [
              0.8888888888888888,
              "#fdca26"
             ],
             [
              1,
              "#f0f921"
             ]
            ],
            "type": "surface"
           }
          ],
          "table": [
           {
            "cells": {
             "fill": {
              "color": "#EBF0F8"
             },
             "line": {
              "color": "white"
             }
            },
            "header": {
             "fill": {
              "color": "#C8D4E3"
             },
             "line": {
              "color": "white"
             }
            },
            "type": "table"
           }
          ]
         },
         "layout": {
          "annotationdefaults": {
           "arrowcolor": "#2a3f5f",
           "arrowhead": 0,
           "arrowwidth": 1
          },
          "autotypenumbers": "strict",
          "coloraxis": {
           "colorbar": {
            "outlinewidth": 0,
            "ticks": ""
           }
          },
          "colorscale": {
           "diverging": [
            [
             0,
             "#8e0152"
            ],
            [
             0.1,
             "#c51b7d"
            ],
            [
             0.2,
             "#de77ae"
            ],
            [
             0.3,
             "#f1b6da"
            ],
            [
             0.4,
             "#fde0ef"
            ],
            [
             0.5,
             "#f7f7f7"
            ],
            [
             0.6,
             "#e6f5d0"
            ],
            [
             0.7,
             "#b8e186"
            ],
            [
             0.8,
             "#7fbc41"
            ],
            [
             0.9,
             "#4d9221"
            ],
            [
             1,
             "#276419"
            ]
           ],
           "sequential": [
            [
             0,
             "#0d0887"
            ],
            [
             0.1111111111111111,
             "#46039f"
            ],
            [
             0.2222222222222222,
             "#7201a8"
            ],
            [
             0.3333333333333333,
             "#9c179e"
            ],
            [
             0.4444444444444444,
             "#bd3786"
            ],
            [
             0.5555555555555556,
             "#d8576b"
            ],
            [
             0.6666666666666666,
             "#ed7953"
            ],
            [
             0.7777777777777778,
             "#fb9f3a"
            ],
            [
             0.8888888888888888,
             "#fdca26"
            ],
            [
             1,
             "#f0f921"
            ]
           ],
           "sequentialminus": [
            [
             0,
             "#0d0887"
            ],
            [
             0.1111111111111111,
             "#46039f"
            ],
            [
             0.2222222222222222,
             "#7201a8"
            ],
            [
             0.3333333333333333,
             "#9c179e"
            ],
            [
             0.4444444444444444,
             "#bd3786"
            ],
            [
             0.5555555555555556,
             "#d8576b"
            ],
            [
             0.6666666666666666,
             "#ed7953"
            ],
            [
             0.7777777777777778,
             "#fb9f3a"
            ],
            [
             0.8888888888888888,
             "#fdca26"
            ],
            [
             1,
             "#f0f921"
            ]
           ]
          },
          "colorway": [
           "#636efa",
           "#EF553B",
           "#00cc96",
           "#ab63fa",
           "#FFA15A",
           "#19d3f3",
           "#FF6692",
           "#B6E880",
           "#FF97FF",
           "#FECB52"
          ],
          "font": {
           "color": "#2a3f5f"
          },
          "geo": {
           "bgcolor": "white",
           "lakecolor": "white",
           "landcolor": "#E5ECF6",
           "showlakes": true,
           "showland": true,
           "subunitcolor": "white"
          },
          "hoverlabel": {
           "align": "left"
          },
          "hovermode": "closest",
          "mapbox": {
           "style": "light"
          },
          "paper_bgcolor": "white",
          "plot_bgcolor": "#E5ECF6",
          "polar": {
           "angularaxis": {
            "gridcolor": "white",
            "linecolor": "white",
            "ticks": ""
           },
           "bgcolor": "#E5ECF6",
           "radialaxis": {
            "gridcolor": "white",
            "linecolor": "white",
            "ticks": ""
           }
          },
          "scene": {
           "xaxis": {
            "backgroundcolor": "#E5ECF6",
            "gridcolor": "white",
            "gridwidth": 2,
            "linecolor": "white",
            "showbackground": true,
            "ticks": "",
            "zerolinecolor": "white"
           },
           "yaxis": {
            "backgroundcolor": "#E5ECF6",
            "gridcolor": "white",
            "gridwidth": 2,
            "linecolor": "white",
            "showbackground": true,
            "ticks": "",
            "zerolinecolor": "white"
           },
           "zaxis": {
            "backgroundcolor": "#E5ECF6",
            "gridcolor": "white",
            "gridwidth": 2,
            "linecolor": "white",
            "showbackground": true,
            "ticks": "",
            "zerolinecolor": "white"
           }
          },
          "shapedefaults": {
           "line": {
            "color": "#2a3f5f"
           }
          },
          "ternary": {
           "aaxis": {
            "gridcolor": "white",
            "linecolor": "white",
            "ticks": ""
           },
           "baxis": {
            "gridcolor": "white",
            "linecolor": "white",
            "ticks": ""
           },
           "bgcolor": "#E5ECF6",
           "caxis": {
            "gridcolor": "white",
            "linecolor": "white",
            "ticks": ""
           }
          },
          "title": {
           "x": 0.05
          },
          "xaxis": {
           "automargin": true,
           "gridcolor": "white",
           "linecolor": "white",
           "ticks": "",
           "title": {
            "standoff": 15
           },
           "zerolinecolor": "white",
           "zerolinewidth": 2
          },
          "yaxis": {
           "automargin": true,
           "gridcolor": "white",
           "linecolor": "white",
           "ticks": "",
           "title": {
            "standoff": 15
           },
           "zerolinecolor": "white",
           "zerolinewidth": 2
          }
         }
        },
        "title": {
         "text": "Songs by Music Authors"
        },
        "xaxis": {
         "anchor": "y",
         "domain": [
          0,
          1
         ],
         "title": {
          "text": "Music Author ID"
         }
        },
        "yaxis": {
         "anchor": "x",
         "domain": [
          0,
          1
         ],
         "title": {
          "text": "Number of Songs"
         }
        }
       }
      },
      "text/html": [
       "<div>                            <div id=\"96e8f005-fb9c-472b-932b-4f98f5cdc8af\" class=\"plotly-graph-div\" style=\"height:525px; width:100%;\"></div>            <script type=\"text/javascript\">                require([\"plotly\"], function(Plotly) {                    window.PLOTLYENV=window.PLOTLYENV || {};                                    if (document.getElementById(\"96e8f005-fb9c-472b-932b-4f98f5cdc8af\")) {                    Plotly.newPlot(                        \"96e8f005-fb9c-472b-932b-4f98f5cdc8af\",                        [{\"alignmentgroup\":\"True\",\"hovertemplate\":\"Music Author ID=%{x}<br>Number of Songs=%{y}<extra></extra>\",\"legendgroup\":\"\",\"marker\":{\"color\":\"#636efa\",\"pattern\":{\"shape\":\"\"}},\"name\":\"\",\"offsetgroup\":\"\",\"orientation\":\"v\",\"showlegend\":false,\"textposition\":\"auto\",\"type\":\"bar\",\"x\":[\"49\",\"142\",\"923\",\"775\",\"888\",\"964\",\"640\",\"246\",\"238\",\"465\",\"115\",\"154\",\"407\",\"91\",\"974\",\"464\",\"424\",\"962\",\"576\",\"881\"],\"xaxis\":\"x\",\"y\":[576,576,540,504,468,468,468,468,468,432,432,432,432,432,432,432,432,432,432,432],\"yaxis\":\"y\"}],                        {\"barmode\":\"relative\",\"legend\":{\"tracegroupgap\":0},\"template\":{\"data\":{\"bar\":[{\"error_x\":{\"color\":\"#2a3f5f\"},\"error_y\":{\"color\":\"#2a3f5f\"},\"marker\":{\"line\":{\"color\":\"#E5ECF6\",\"width\":0.5},\"pattern\":{\"fillmode\":\"overlay\",\"size\":10,\"solidity\":0.2}},\"type\":\"bar\"}],\"barpolar\":[{\"marker\":{\"line\":{\"color\":\"#E5ECF6\",\"width\":0.5},\"pattern\":{\"fillmode\":\"overlay\",\"size\":10,\"solidity\":0.2}},\"type\":\"barpolar\"}],\"carpet\":[{\"aaxis\":{\"endlinecolor\":\"#2a3f5f\",\"gridcolor\":\"white\",\"linecolor\":\"white\",\"minorgridcolor\":\"white\",\"startlinecolor\":\"#2a3f5f\"},\"baxis\":{\"endlinecolor\":\"#2a3f5f\",\"gridcolor\":\"white\",\"linecolor\":\"white\",\"minorgridcolor\":\"white\",\"startlinecolor\":\"#2a3f5f\"},\"type\":\"carpet\"}],\"choropleth\":[{\"colorbar\":{\"outlinewidth\":0,\"ticks\":\"\"},\"type\":\"choropleth\"}],\"contour\":[{\"colorbar\":{\"outlinewidth\":0,\"ticks\":\"\"},\"colorscale\":[[0.0,\"#0d0887\"],[0.1111111111111111,\"#46039f\"],[0.2222222222222222,\"#7201a8\"],[0.3333333333333333,\"#9c179e\"],[0.4444444444444444,\"#bd3786\"],[0.5555555555555556,\"#d8576b\"],[0.6666666666666666,\"#ed7953\"],[0.7777777777777778,\"#fb9f3a\"],[0.8888888888888888,\"#fdca26\"],[1.0,\"#f0f921\"]],\"type\":\"contour\"}],\"contourcarpet\":[{\"colorbar\":{\"outlinewidth\":0,\"ticks\":\"\"},\"type\":\"contourcarpet\"}],\"heatmap\":[{\"colorbar\":{\"outlinewidth\":0,\"ticks\":\"\"},\"colorscale\":[[0.0,\"#0d0887\"],[0.1111111111111111,\"#46039f\"],[0.2222222222222222,\"#7201a8\"],[0.3333333333333333,\"#9c179e\"],[0.4444444444444444,\"#bd3786\"],[0.5555555555555556,\"#d8576b\"],[0.6666666666666666,\"#ed7953\"],[0.7777777777777778,\"#fb9f3a\"],[0.8888888888888888,\"#fdca26\"],[1.0,\"#f0f921\"]],\"type\":\"heatmap\"}],\"heatmapgl\":[{\"colorbar\":{\"outlinewidth\":0,\"ticks\":\"\"},\"colorscale\":[[0.0,\"#0d0887\"],[0.1111111111111111,\"#46039f\"],[0.2222222222222222,\"#7201a8\"],[0.3333333333333333,\"#9c179e\"],[0.4444444444444444,\"#bd3786\"],[0.5555555555555556,\"#d8576b\"],[0.6666666666666666,\"#ed7953\"],[0.7777777777777778,\"#fb9f3a\"],[0.8888888888888888,\"#fdca26\"],[1.0,\"#f0f921\"]],\"type\":\"heatmapgl\"}],\"histogram\":[{\"marker\":{\"pattern\":{\"fillmode\":\"overlay\",\"size\":10,\"solidity\":0.2}},\"type\":\"histogram\"}],\"histogram2d\":[{\"colorbar\":{\"outlinewidth\":0,\"ticks\":\"\"},\"colorscale\":[[0.0,\"#0d0887\"],[0.1111111111111111,\"#46039f\"],[0.2222222222222222,\"#7201a8\"],[0.3333333333333333,\"#9c179e\"],[0.4444444444444444,\"#bd3786\"],[0.5555555555555556,\"#d8576b\"],[0.6666666666666666,\"#ed7953\"],[0.7777777777777778,\"#fb9f3a\"],[0.8888888888888888,\"#fdca26\"],[1.0,\"#f0f921\"]],\"type\":\"histogram2d\"}],\"histogram2dcontour\":[{\"colorbar\":{\"outlinewidth\":0,\"ticks\":\"\"},\"colorscale\":[[0.0,\"#0d0887\"],[0.1111111111111111,\"#46039f\"],[0.2222222222222222,\"#7201a8\"],[0.3333333333333333,\"#9c179e\"],[0.4444444444444444,\"#bd3786\"],[0.5555555555555556,\"#d8576b\"],[0.6666666666666666,\"#ed7953\"],[0.7777777777777778,\"#fb9f3a\"],[0.8888888888888888,\"#fdca26\"],[1.0,\"#f0f921\"]],\"type\":\"histogram2dcontour\"}],\"mesh3d\":[{\"colorbar\":{\"outlinewidth\":0,\"ticks\":\"\"},\"type\":\"mesh3d\"}],\"parcoords\":[{\"line\":{\"colorbar\":{\"outlinewidth\":0,\"ticks\":\"\"}},\"type\":\"parcoords\"}],\"pie\":[{\"automargin\":true,\"type\":\"pie\"}],\"scatter\":[{\"marker\":{\"colorbar\":{\"outlinewidth\":0,\"ticks\":\"\"}},\"type\":\"scatter\"}],\"scatter3d\":[{\"line\":{\"colorbar\":{\"outlinewidth\":0,\"ticks\":\"\"}},\"marker\":{\"colorbar\":{\"outlinewidth\":0,\"ticks\":\"\"}},\"type\":\"scatter3d\"}],\"scattercarpet\":[{\"marker\":{\"colorbar\":{\"outlinewidth\":0,\"ticks\":\"\"}},\"type\":\"scattercarpet\"}],\"scattergeo\":[{\"marker\":{\"colorbar\":{\"outlinewidth\":0,\"ticks\":\"\"}},\"type\":\"scattergeo\"}],\"scattergl\":[{\"marker\":{\"colorbar\":{\"outlinewidth\":0,\"ticks\":\"\"}},\"type\":\"scattergl\"}],\"scattermapbox\":[{\"marker\":{\"colorbar\":{\"outlinewidth\":0,\"ticks\":\"\"}},\"type\":\"scattermapbox\"}],\"scatterpolar\":[{\"marker\":{\"colorbar\":{\"outlinewidth\":0,\"ticks\":\"\"}},\"type\":\"scatterpolar\"}],\"scatterpolargl\":[{\"marker\":{\"colorbar\":{\"outlinewidth\":0,\"ticks\":\"\"}},\"type\":\"scatterpolargl\"}],\"scatterternary\":[{\"marker\":{\"colorbar\":{\"outlinewidth\":0,\"ticks\":\"\"}},\"type\":\"scatterternary\"}],\"surface\":[{\"colorbar\":{\"outlinewidth\":0,\"ticks\":\"\"},\"colorscale\":[[0.0,\"#0d0887\"],[0.1111111111111111,\"#46039f\"],[0.2222222222222222,\"#7201a8\"],[0.3333333333333333,\"#9c179e\"],[0.4444444444444444,\"#bd3786\"],[0.5555555555555556,\"#d8576b\"],[0.6666666666666666,\"#ed7953\"],[0.7777777777777778,\"#fb9f3a\"],[0.8888888888888888,\"#fdca26\"],[1.0,\"#f0f921\"]],\"type\":\"surface\"}],\"table\":[{\"cells\":{\"fill\":{\"color\":\"#EBF0F8\"},\"line\":{\"color\":\"white\"}},\"header\":{\"fill\":{\"color\":\"#C8D4E3\"},\"line\":{\"color\":\"white\"}},\"type\":\"table\"}]},\"layout\":{\"annotationdefaults\":{\"arrowcolor\":\"#2a3f5f\",\"arrowhead\":0,\"arrowwidth\":1},\"autotypenumbers\":\"strict\",\"coloraxis\":{\"colorbar\":{\"outlinewidth\":0,\"ticks\":\"\"}},\"colorscale\":{\"diverging\":[[0,\"#8e0152\"],[0.1,\"#c51b7d\"],[0.2,\"#de77ae\"],[0.3,\"#f1b6da\"],[0.4,\"#fde0ef\"],[0.5,\"#f7f7f7\"],[0.6,\"#e6f5d0\"],[0.7,\"#b8e186\"],[0.8,\"#7fbc41\"],[0.9,\"#4d9221\"],[1,\"#276419\"]],\"sequential\":[[0.0,\"#0d0887\"],[0.1111111111111111,\"#46039f\"],[0.2222222222222222,\"#7201a8\"],[0.3333333333333333,\"#9c179e\"],[0.4444444444444444,\"#bd3786\"],[0.5555555555555556,\"#d8576b\"],[0.6666666666666666,\"#ed7953\"],[0.7777777777777778,\"#fb9f3a\"],[0.8888888888888888,\"#fdca26\"],[1.0,\"#f0f921\"]],\"sequentialminus\":[[0.0,\"#0d0887\"],[0.1111111111111111,\"#46039f\"],[0.2222222222222222,\"#7201a8\"],[0.3333333333333333,\"#9c179e\"],[0.4444444444444444,\"#bd3786\"],[0.5555555555555556,\"#d8576b\"],[0.6666666666666666,\"#ed7953\"],[0.7777777777777778,\"#fb9f3a\"],[0.8888888888888888,\"#fdca26\"],[1.0,\"#f0f921\"]]},\"colorway\":[\"#636efa\",\"#EF553B\",\"#00cc96\",\"#ab63fa\",\"#FFA15A\",\"#19d3f3\",\"#FF6692\",\"#B6E880\",\"#FF97FF\",\"#FECB52\"],\"font\":{\"color\":\"#2a3f5f\"},\"geo\":{\"bgcolor\":\"white\",\"lakecolor\":\"white\",\"landcolor\":\"#E5ECF6\",\"showlakes\":true,\"showland\":true,\"subunitcolor\":\"white\"},\"hoverlabel\":{\"align\":\"left\"},\"hovermode\":\"closest\",\"mapbox\":{\"style\":\"light\"},\"paper_bgcolor\":\"white\",\"plot_bgcolor\":\"#E5ECF6\",\"polar\":{\"angularaxis\":{\"gridcolor\":\"white\",\"linecolor\":\"white\",\"ticks\":\"\"},\"bgcolor\":\"#E5ECF6\",\"radialaxis\":{\"gridcolor\":\"white\",\"linecolor\":\"white\",\"ticks\":\"\"}},\"scene\":{\"xaxis\":{\"backgroundcolor\":\"#E5ECF6\",\"gridcolor\":\"white\",\"gridwidth\":2,\"linecolor\":\"white\",\"showbackground\":true,\"ticks\":\"\",\"zerolinecolor\":\"white\"},\"yaxis\":{\"backgroundcolor\":\"#E5ECF6\",\"gridcolor\":\"white\",\"gridwidth\":2,\"linecolor\":\"white\",\"showbackground\":true,\"ticks\":\"\",\"zerolinecolor\":\"white\"},\"zaxis\":{\"backgroundcolor\":\"#E5ECF6\",\"gridcolor\":\"white\",\"gridwidth\":2,\"linecolor\":\"white\",\"showbackground\":true,\"ticks\":\"\",\"zerolinecolor\":\"white\"}},\"shapedefaults\":{\"line\":{\"color\":\"#2a3f5f\"}},\"ternary\":{\"aaxis\":{\"gridcolor\":\"white\",\"linecolor\":\"white\",\"ticks\":\"\"},\"baxis\":{\"gridcolor\":\"white\",\"linecolor\":\"white\",\"ticks\":\"\"},\"bgcolor\":\"#E5ECF6\",\"caxis\":{\"gridcolor\":\"white\",\"linecolor\":\"white\",\"ticks\":\"\"}},\"title\":{\"x\":0.05},\"xaxis\":{\"automargin\":true,\"gridcolor\":\"white\",\"linecolor\":\"white\",\"ticks\":\"\",\"title\":{\"standoff\":15},\"zerolinecolor\":\"white\",\"zerolinewidth\":2},\"yaxis\":{\"automargin\":true,\"gridcolor\":\"white\",\"linecolor\":\"white\",\"ticks\":\"\",\"title\":{\"standoff\":15},\"zerolinecolor\":\"white\",\"zerolinewidth\":2}}},\"title\":{\"text\":\"Songs by Music Authors\"},\"xaxis\":{\"anchor\":\"y\",\"domain\":[0.0,1.0],\"title\":{\"text\":\"Music Author ID\"}},\"yaxis\":{\"anchor\":\"x\",\"domain\":[0.0,1.0],\"title\":{\"text\":\"Number of Songs\"}}},                        {\"responsive\": true}                    ).then(function(){\n",
       "                            \n",
       "var gd = document.getElementById('96e8f005-fb9c-472b-932b-4f98f5cdc8af');\n",
       "var x = new MutationObserver(function (mutations, observer) {{\n",
       "        var display = window.getComputedStyle(gd).display;\n",
       "        if (!display || display === 'none') {{\n",
       "            console.log([gd, 'removed!']);\n",
       "            Plotly.purge(gd);\n",
       "            observer.disconnect();\n",
       "        }}\n",
       "}});\n",
       "\n",
       "// Listen for the removal of the full notebook cells\n",
       "var notebookContainer = gd.closest('#notebook-container');\n",
       "if (notebookContainer) {{\n",
       "    x.observe(notebookContainer, {childList: true});\n",
       "}}\n",
       "\n",
       "// Listen for the clearing of the current output cell\n",
       "var outputEl = gd.closest('.output');\n",
       "if (outputEl) {{\n",
       "    x.observe(outputEl, {childList: true});\n",
       "}}\n",
       "\n",
       "                        })                };                });            </script>        </div>"
      ]
     },
     "metadata": {},
     "output_type": "display_data"
    }
   ],
   "source": [
    "#Let's see which author sang the highest number of songs! is it same as the one whose revenue contribution is highest..\n",
    "df_song_auth = pd.DataFrame(df3.groupby(\"AuthorID\")[\"SongID\"].count())\n",
    "df_song_auth.reset_index(inplace = True)\n",
    "df_song_auth[\"AuthorID\"] = df_song_auth[\"AuthorID\"].astype(str)\n",
    "fig = px.bar(df_song_auth.sort_values(by = \"SongID\", ascending = False).head(20), x = \"AuthorID\", y = \"SongID\", title= \"Songs by Music Authors\",\n",
    "            labels = {\"AuthorID\" : \"Music Author ID\", \"SongID\": \"Number of Songs\"})\n",
    "fig.show() "
   ]
  },
  {
   "cell_type": "markdown",
   "id": "06b24300",
   "metadata": {},
   "source": [
    "From the plot, it's evident that the music author making the highest revenue also holds the record for producing the greatest number of songs. The top five contributors to revenue are likewise included among the top ten authors with the highest song count."
   ]
  },
  {
   "cell_type": "markdown",
   "id": "151c4077",
   "metadata": {},
   "source": [
    "#### Now let's look at songs!"
   ]
  },
  {
   "cell_type": "code",
   "execution_count": 114,
   "id": "48f1d4f0",
   "metadata": {},
   "outputs": [
    {
     "data": {
      "application/vnd.plotly.v1+json": {
       "config": {
        "plotlyServerURL": "https://plot.ly"
       },
       "data": [
        {
         "alignmentgroup": "True",
         "hovertemplate": "Song ID=%{x}<br>Revenue=%{y}<extra></extra>",
         "legendgroup": "",
         "marker": {
          "color": "#636efa",
          "pattern": {
           "shape": ""
          }
         },
         "name": "",
         "offsetgroup": "",
         "orientation": "v",
         "showlegend": false,
         "textposition": "auto",
         "type": "bar",
         "x": [
          "6075",
          "1975",
          "5941",
          "2926",
          "3907",
          "861",
          "432",
          "3331",
          "5718",
          "553"
         ],
         "xaxis": "x",
         "y": [
          2593,
          2583,
          2577,
          2564,
          2554,
          2554,
          2551,
          2549,
          2548,
          2547
         ],
         "yaxis": "y"
        }
       ],
       "layout": {
        "barmode": "relative",
        "legend": {
         "tracegroupgap": 0
        },
        "template": {
         "data": {
          "bar": [
           {
            "error_x": {
             "color": "#2a3f5f"
            },
            "error_y": {
             "color": "#2a3f5f"
            },
            "marker": {
             "line": {
              "color": "#E5ECF6",
              "width": 0.5
             },
             "pattern": {
              "fillmode": "overlay",
              "size": 10,
              "solidity": 0.2
             }
            },
            "type": "bar"
           }
          ],
          "barpolar": [
           {
            "marker": {
             "line": {
              "color": "#E5ECF6",
              "width": 0.5
             },
             "pattern": {
              "fillmode": "overlay",
              "size": 10,
              "solidity": 0.2
             }
            },
            "type": "barpolar"
           }
          ],
          "carpet": [
           {
            "aaxis": {
             "endlinecolor": "#2a3f5f",
             "gridcolor": "white",
             "linecolor": "white",
             "minorgridcolor": "white",
             "startlinecolor": "#2a3f5f"
            },
            "baxis": {
             "endlinecolor": "#2a3f5f",
             "gridcolor": "white",
             "linecolor": "white",
             "minorgridcolor": "white",
             "startlinecolor": "#2a3f5f"
            },
            "type": "carpet"
           }
          ],
          "choropleth": [
           {
            "colorbar": {
             "outlinewidth": 0,
             "ticks": ""
            },
            "type": "choropleth"
           }
          ],
          "contour": [
           {
            "colorbar": {
             "outlinewidth": 0,
             "ticks": ""
            },
            "colorscale": [
             [
              0,
              "#0d0887"
             ],
             [
              0.1111111111111111,
              "#46039f"
             ],
             [
              0.2222222222222222,
              "#7201a8"
             ],
             [
              0.3333333333333333,
              "#9c179e"
             ],
             [
              0.4444444444444444,
              "#bd3786"
             ],
             [
              0.5555555555555556,
              "#d8576b"
             ],
             [
              0.6666666666666666,
              "#ed7953"
             ],
             [
              0.7777777777777778,
              "#fb9f3a"
             ],
             [
              0.8888888888888888,
              "#fdca26"
             ],
             [
              1,
              "#f0f921"
             ]
            ],
            "type": "contour"
           }
          ],
          "contourcarpet": [
           {
            "colorbar": {
             "outlinewidth": 0,
             "ticks": ""
            },
            "type": "contourcarpet"
           }
          ],
          "heatmap": [
           {
            "colorbar": {
             "outlinewidth": 0,
             "ticks": ""
            },
            "colorscale": [
             [
              0,
              "#0d0887"
             ],
             [
              0.1111111111111111,
              "#46039f"
             ],
             [
              0.2222222222222222,
              "#7201a8"
             ],
             [
              0.3333333333333333,
              "#9c179e"
             ],
             [
              0.4444444444444444,
              "#bd3786"
             ],
             [
              0.5555555555555556,
              "#d8576b"
             ],
             [
              0.6666666666666666,
              "#ed7953"
             ],
             [
              0.7777777777777778,
              "#fb9f3a"
             ],
             [
              0.8888888888888888,
              "#fdca26"
             ],
             [
              1,
              "#f0f921"
             ]
            ],
            "type": "heatmap"
           }
          ],
          "heatmapgl": [
           {
            "colorbar": {
             "outlinewidth": 0,
             "ticks": ""
            },
            "colorscale": [
             [
              0,
              "#0d0887"
             ],
             [
              0.1111111111111111,
              "#46039f"
             ],
             [
              0.2222222222222222,
              "#7201a8"
             ],
             [
              0.3333333333333333,
              "#9c179e"
             ],
             [
              0.4444444444444444,
              "#bd3786"
             ],
             [
              0.5555555555555556,
              "#d8576b"
             ],
             [
              0.6666666666666666,
              "#ed7953"
             ],
             [
              0.7777777777777778,
              "#fb9f3a"
             ],
             [
              0.8888888888888888,
              "#fdca26"
             ],
             [
              1,
              "#f0f921"
             ]
            ],
            "type": "heatmapgl"
           }
          ],
          "histogram": [
           {
            "marker": {
             "pattern": {
              "fillmode": "overlay",
              "size": 10,
              "solidity": 0.2
             }
            },
            "type": "histogram"
           }
          ],
          "histogram2d": [
           {
            "colorbar": {
             "outlinewidth": 0,
             "ticks": ""
            },
            "colorscale": [
             [
              0,
              "#0d0887"
             ],
             [
              0.1111111111111111,
              "#46039f"
             ],
             [
              0.2222222222222222,
              "#7201a8"
             ],
             [
              0.3333333333333333,
              "#9c179e"
             ],
             [
              0.4444444444444444,
              "#bd3786"
             ],
             [
              0.5555555555555556,
              "#d8576b"
             ],
             [
              0.6666666666666666,
              "#ed7953"
             ],
             [
              0.7777777777777778,
              "#fb9f3a"
             ],
             [
              0.8888888888888888,
              "#fdca26"
             ],
             [
              1,
              "#f0f921"
             ]
            ],
            "type": "histogram2d"
           }
          ],
          "histogram2dcontour": [
           {
            "colorbar": {
             "outlinewidth": 0,
             "ticks": ""
            },
            "colorscale": [
             [
              0,
              "#0d0887"
             ],
             [
              0.1111111111111111,
              "#46039f"
             ],
             [
              0.2222222222222222,
              "#7201a8"
             ],
             [
              0.3333333333333333,
              "#9c179e"
             ],
             [
              0.4444444444444444,
              "#bd3786"
             ],
             [
              0.5555555555555556,
              "#d8576b"
             ],
             [
              0.6666666666666666,
              "#ed7953"
             ],
             [
              0.7777777777777778,
              "#fb9f3a"
             ],
             [
              0.8888888888888888,
              "#fdca26"
             ],
             [
              1,
              "#f0f921"
             ]
            ],
            "type": "histogram2dcontour"
           }
          ],
          "mesh3d": [
           {
            "colorbar": {
             "outlinewidth": 0,
             "ticks": ""
            },
            "type": "mesh3d"
           }
          ],
          "parcoords": [
           {
            "line": {
             "colorbar": {
              "outlinewidth": 0,
              "ticks": ""
             }
            },
            "type": "parcoords"
           }
          ],
          "pie": [
           {
            "automargin": true,
            "type": "pie"
           }
          ],
          "scatter": [
           {
            "marker": {
             "colorbar": {
              "outlinewidth": 0,
              "ticks": ""
             }
            },
            "type": "scatter"
           }
          ],
          "scatter3d": [
           {
            "line": {
             "colorbar": {
              "outlinewidth": 0,
              "ticks": ""
             }
            },
            "marker": {
             "colorbar": {
              "outlinewidth": 0,
              "ticks": ""
             }
            },
            "type": "scatter3d"
           }
          ],
          "scattercarpet": [
           {
            "marker": {
             "colorbar": {
              "outlinewidth": 0,
              "ticks": ""
             }
            },
            "type": "scattercarpet"
           }
          ],
          "scattergeo": [
           {
            "marker": {
             "colorbar": {
              "outlinewidth": 0,
              "ticks": ""
             }
            },
            "type": "scattergeo"
           }
          ],
          "scattergl": [
           {
            "marker": {
             "colorbar": {
              "outlinewidth": 0,
              "ticks": ""
             }
            },
            "type": "scattergl"
           }
          ],
          "scattermapbox": [
           {
            "marker": {
             "colorbar": {
              "outlinewidth": 0,
              "ticks": ""
             }
            },
            "type": "scattermapbox"
           }
          ],
          "scatterpolar": [
           {
            "marker": {
             "colorbar": {
              "outlinewidth": 0,
              "ticks": ""
             }
            },
            "type": "scatterpolar"
           }
          ],
          "scatterpolargl": [
           {
            "marker": {
             "colorbar": {
              "outlinewidth": 0,
              "ticks": ""
             }
            },
            "type": "scatterpolargl"
           }
          ],
          "scatterternary": [
           {
            "marker": {
             "colorbar": {
              "outlinewidth": 0,
              "ticks": ""
             }
            },
            "type": "scatterternary"
           }
          ],
          "surface": [
           {
            "colorbar": {
             "outlinewidth": 0,
             "ticks": ""
            },
            "colorscale": [
             [
              0,
              "#0d0887"
             ],
             [
              0.1111111111111111,
              "#46039f"
             ],
             [
              0.2222222222222222,
              "#7201a8"
             ],
             [
              0.3333333333333333,
              "#9c179e"
             ],
             [
              0.4444444444444444,
              "#bd3786"
             ],
             [
              0.5555555555555556,
              "#d8576b"
             ],
             [
              0.6666666666666666,
              "#ed7953"
             ],
             [
              0.7777777777777778,
              "#fb9f3a"
             ],
             [
              0.8888888888888888,
              "#fdca26"
             ],
             [
              1,
              "#f0f921"
             ]
            ],
            "type": "surface"
           }
          ],
          "table": [
           {
            "cells": {
             "fill": {
              "color": "#EBF0F8"
             },
             "line": {
              "color": "white"
             }
            },
            "header": {
             "fill": {
              "color": "#C8D4E3"
             },
             "line": {
              "color": "white"
             }
            },
            "type": "table"
           }
          ]
         },
         "layout": {
          "annotationdefaults": {
           "arrowcolor": "#2a3f5f",
           "arrowhead": 0,
           "arrowwidth": 1
          },
          "autotypenumbers": "strict",
          "coloraxis": {
           "colorbar": {
            "outlinewidth": 0,
            "ticks": ""
           }
          },
          "colorscale": {
           "diverging": [
            [
             0,
             "#8e0152"
            ],
            [
             0.1,
             "#c51b7d"
            ],
            [
             0.2,
             "#de77ae"
            ],
            [
             0.3,
             "#f1b6da"
            ],
            [
             0.4,
             "#fde0ef"
            ],
            [
             0.5,
             "#f7f7f7"
            ],
            [
             0.6,
             "#e6f5d0"
            ],
            [
             0.7,
             "#b8e186"
            ],
            [
             0.8,
             "#7fbc41"
            ],
            [
             0.9,
             "#4d9221"
            ],
            [
             1,
             "#276419"
            ]
           ],
           "sequential": [
            [
             0,
             "#0d0887"
            ],
            [
             0.1111111111111111,
             "#46039f"
            ],
            [
             0.2222222222222222,
             "#7201a8"
            ],
            [
             0.3333333333333333,
             "#9c179e"
            ],
            [
             0.4444444444444444,
             "#bd3786"
            ],
            [
             0.5555555555555556,
             "#d8576b"
            ],
            [
             0.6666666666666666,
             "#ed7953"
            ],
            [
             0.7777777777777778,
             "#fb9f3a"
            ],
            [
             0.8888888888888888,
             "#fdca26"
            ],
            [
             1,
             "#f0f921"
            ]
           ],
           "sequentialminus": [
            [
             0,
             "#0d0887"
            ],
            [
             0.1111111111111111,
             "#46039f"
            ],
            [
             0.2222222222222222,
             "#7201a8"
            ],
            [
             0.3333333333333333,
             "#9c179e"
            ],
            [
             0.4444444444444444,
             "#bd3786"
            ],
            [
             0.5555555555555556,
             "#d8576b"
            ],
            [
             0.6666666666666666,
             "#ed7953"
            ],
            [
             0.7777777777777778,
             "#fb9f3a"
            ],
            [
             0.8888888888888888,
             "#fdca26"
            ],
            [
             1,
             "#f0f921"
            ]
           ]
          },
          "colorway": [
           "#636efa",
           "#EF553B",
           "#00cc96",
           "#ab63fa",
           "#FFA15A",
           "#19d3f3",
           "#FF6692",
           "#B6E880",
           "#FF97FF",
           "#FECB52"
          ],
          "font": {
           "color": "#2a3f5f"
          },
          "geo": {
           "bgcolor": "white",
           "lakecolor": "white",
           "landcolor": "#E5ECF6",
           "showlakes": true,
           "showland": true,
           "subunitcolor": "white"
          },
          "hoverlabel": {
           "align": "left"
          },
          "hovermode": "closest",
          "mapbox": {
           "style": "light"
          },
          "paper_bgcolor": "white",
          "plot_bgcolor": "#E5ECF6",
          "polar": {
           "angularaxis": {
            "gridcolor": "white",
            "linecolor": "white",
            "ticks": ""
           },
           "bgcolor": "#E5ECF6",
           "radialaxis": {
            "gridcolor": "white",
            "linecolor": "white",
            "ticks": ""
           }
          },
          "scene": {
           "xaxis": {
            "backgroundcolor": "#E5ECF6",
            "gridcolor": "white",
            "gridwidth": 2,
            "linecolor": "white",
            "showbackground": true,
            "ticks": "",
            "zerolinecolor": "white"
           },
           "yaxis": {
            "backgroundcolor": "#E5ECF6",
            "gridcolor": "white",
            "gridwidth": 2,
            "linecolor": "white",
            "showbackground": true,
            "ticks": "",
            "zerolinecolor": "white"
           },
           "zaxis": {
            "backgroundcolor": "#E5ECF6",
            "gridcolor": "white",
            "gridwidth": 2,
            "linecolor": "white",
            "showbackground": true,
            "ticks": "",
            "zerolinecolor": "white"
           }
          },
          "shapedefaults": {
           "line": {
            "color": "#2a3f5f"
           }
          },
          "ternary": {
           "aaxis": {
            "gridcolor": "white",
            "linecolor": "white",
            "ticks": ""
           },
           "baxis": {
            "gridcolor": "white",
            "linecolor": "white",
            "ticks": ""
           },
           "bgcolor": "#E5ECF6",
           "caxis": {
            "gridcolor": "white",
            "linecolor": "white",
            "ticks": ""
           }
          },
          "title": {
           "x": 0.05
          },
          "xaxis": {
           "automargin": true,
           "gridcolor": "white",
           "linecolor": "white",
           "ticks": "",
           "title": {
            "standoff": 15
           },
           "zerolinecolor": "white",
           "zerolinewidth": 2
          },
          "yaxis": {
           "automargin": true,
           "gridcolor": "white",
           "linecolor": "white",
           "ticks": "",
           "title": {
            "standoff": 15
           },
           "zerolinecolor": "white",
           "zerolinewidth": 2
          }
         }
        },
        "title": {
         "text": "Top 10 songs"
        },
        "xaxis": {
         "anchor": "y",
         "domain": [
          0,
          1
         ],
         "title": {
          "text": "Song ID"
         }
        },
        "yaxis": {
         "anchor": "x",
         "domain": [
          0,
          1
         ],
         "title": {
          "text": "Revenue"
         }
        }
       }
      },
      "text/html": [
       "<div>                            <div id=\"76b9d393-dcd4-4040-ba13-37720924caa8\" class=\"plotly-graph-div\" style=\"height:525px; width:100%;\"></div>            <script type=\"text/javascript\">                require([\"plotly\"], function(Plotly) {                    window.PLOTLYENV=window.PLOTLYENV || {};                                    if (document.getElementById(\"76b9d393-dcd4-4040-ba13-37720924caa8\")) {                    Plotly.newPlot(                        \"76b9d393-dcd4-4040-ba13-37720924caa8\",                        [{\"alignmentgroup\":\"True\",\"hovertemplate\":\"Song ID=%{x}<br>Revenue=%{y}<extra></extra>\",\"legendgroup\":\"\",\"marker\":{\"color\":\"#636efa\",\"pattern\":{\"shape\":\"\"}},\"name\":\"\",\"offsetgroup\":\"\",\"orientation\":\"v\",\"showlegend\":false,\"textposition\":\"auto\",\"type\":\"bar\",\"x\":[\"6075\",\"1975\",\"5941\",\"2926\",\"3907\",\"861\",\"432\",\"3331\",\"5718\",\"553\"],\"xaxis\":\"x\",\"y\":[2593,2583,2577,2564,2554,2554,2551,2549,2548,2547],\"yaxis\":\"y\"}],                        {\"barmode\":\"relative\",\"legend\":{\"tracegroupgap\":0},\"template\":{\"data\":{\"bar\":[{\"error_x\":{\"color\":\"#2a3f5f\"},\"error_y\":{\"color\":\"#2a3f5f\"},\"marker\":{\"line\":{\"color\":\"#E5ECF6\",\"width\":0.5},\"pattern\":{\"fillmode\":\"overlay\",\"size\":10,\"solidity\":0.2}},\"type\":\"bar\"}],\"barpolar\":[{\"marker\":{\"line\":{\"color\":\"#E5ECF6\",\"width\":0.5},\"pattern\":{\"fillmode\":\"overlay\",\"size\":10,\"solidity\":0.2}},\"type\":\"barpolar\"}],\"carpet\":[{\"aaxis\":{\"endlinecolor\":\"#2a3f5f\",\"gridcolor\":\"white\",\"linecolor\":\"white\",\"minorgridcolor\":\"white\",\"startlinecolor\":\"#2a3f5f\"},\"baxis\":{\"endlinecolor\":\"#2a3f5f\",\"gridcolor\":\"white\",\"linecolor\":\"white\",\"minorgridcolor\":\"white\",\"startlinecolor\":\"#2a3f5f\"},\"type\":\"carpet\"}],\"choropleth\":[{\"colorbar\":{\"outlinewidth\":0,\"ticks\":\"\"},\"type\":\"choropleth\"}],\"contour\":[{\"colorbar\":{\"outlinewidth\":0,\"ticks\":\"\"},\"colorscale\":[[0.0,\"#0d0887\"],[0.1111111111111111,\"#46039f\"],[0.2222222222222222,\"#7201a8\"],[0.3333333333333333,\"#9c179e\"],[0.4444444444444444,\"#bd3786\"],[0.5555555555555556,\"#d8576b\"],[0.6666666666666666,\"#ed7953\"],[0.7777777777777778,\"#fb9f3a\"],[0.8888888888888888,\"#fdca26\"],[1.0,\"#f0f921\"]],\"type\":\"contour\"}],\"contourcarpet\":[{\"colorbar\":{\"outlinewidth\":0,\"ticks\":\"\"},\"type\":\"contourcarpet\"}],\"heatmap\":[{\"colorbar\":{\"outlinewidth\":0,\"ticks\":\"\"},\"colorscale\":[[0.0,\"#0d0887\"],[0.1111111111111111,\"#46039f\"],[0.2222222222222222,\"#7201a8\"],[0.3333333333333333,\"#9c179e\"],[0.4444444444444444,\"#bd3786\"],[0.5555555555555556,\"#d8576b\"],[0.6666666666666666,\"#ed7953\"],[0.7777777777777778,\"#fb9f3a\"],[0.8888888888888888,\"#fdca26\"],[1.0,\"#f0f921\"]],\"type\":\"heatmap\"}],\"heatmapgl\":[{\"colorbar\":{\"outlinewidth\":0,\"ticks\":\"\"},\"colorscale\":[[0.0,\"#0d0887\"],[0.1111111111111111,\"#46039f\"],[0.2222222222222222,\"#7201a8\"],[0.3333333333333333,\"#9c179e\"],[0.4444444444444444,\"#bd3786\"],[0.5555555555555556,\"#d8576b\"],[0.6666666666666666,\"#ed7953\"],[0.7777777777777778,\"#fb9f3a\"],[0.8888888888888888,\"#fdca26\"],[1.0,\"#f0f921\"]],\"type\":\"heatmapgl\"}],\"histogram\":[{\"marker\":{\"pattern\":{\"fillmode\":\"overlay\",\"size\":10,\"solidity\":0.2}},\"type\":\"histogram\"}],\"histogram2d\":[{\"colorbar\":{\"outlinewidth\":0,\"ticks\":\"\"},\"colorscale\":[[0.0,\"#0d0887\"],[0.1111111111111111,\"#46039f\"],[0.2222222222222222,\"#7201a8\"],[0.3333333333333333,\"#9c179e\"],[0.4444444444444444,\"#bd3786\"],[0.5555555555555556,\"#d8576b\"],[0.6666666666666666,\"#ed7953\"],[0.7777777777777778,\"#fb9f3a\"],[0.8888888888888888,\"#fdca26\"],[1.0,\"#f0f921\"]],\"type\":\"histogram2d\"}],\"histogram2dcontour\":[{\"colorbar\":{\"outlinewidth\":0,\"ticks\":\"\"},\"colorscale\":[[0.0,\"#0d0887\"],[0.1111111111111111,\"#46039f\"],[0.2222222222222222,\"#7201a8\"],[0.3333333333333333,\"#9c179e\"],[0.4444444444444444,\"#bd3786\"],[0.5555555555555556,\"#d8576b\"],[0.6666666666666666,\"#ed7953\"],[0.7777777777777778,\"#fb9f3a\"],[0.8888888888888888,\"#fdca26\"],[1.0,\"#f0f921\"]],\"type\":\"histogram2dcontour\"}],\"mesh3d\":[{\"colorbar\":{\"outlinewidth\":0,\"ticks\":\"\"},\"type\":\"mesh3d\"}],\"parcoords\":[{\"line\":{\"colorbar\":{\"outlinewidth\":0,\"ticks\":\"\"}},\"type\":\"parcoords\"}],\"pie\":[{\"automargin\":true,\"type\":\"pie\"}],\"scatter\":[{\"marker\":{\"colorbar\":{\"outlinewidth\":0,\"ticks\":\"\"}},\"type\":\"scatter\"}],\"scatter3d\":[{\"line\":{\"colorbar\":{\"outlinewidth\":0,\"ticks\":\"\"}},\"marker\":{\"colorbar\":{\"outlinewidth\":0,\"ticks\":\"\"}},\"type\":\"scatter3d\"}],\"scattercarpet\":[{\"marker\":{\"colorbar\":{\"outlinewidth\":0,\"ticks\":\"\"}},\"type\":\"scattercarpet\"}],\"scattergeo\":[{\"marker\":{\"colorbar\":{\"outlinewidth\":0,\"ticks\":\"\"}},\"type\":\"scattergeo\"}],\"scattergl\":[{\"marker\":{\"colorbar\":{\"outlinewidth\":0,\"ticks\":\"\"}},\"type\":\"scattergl\"}],\"scattermapbox\":[{\"marker\":{\"colorbar\":{\"outlinewidth\":0,\"ticks\":\"\"}},\"type\":\"scattermapbox\"}],\"scatterpolar\":[{\"marker\":{\"colorbar\":{\"outlinewidth\":0,\"ticks\":\"\"}},\"type\":\"scatterpolar\"}],\"scatterpolargl\":[{\"marker\":{\"colorbar\":{\"outlinewidth\":0,\"ticks\":\"\"}},\"type\":\"scatterpolargl\"}],\"scatterternary\":[{\"marker\":{\"colorbar\":{\"outlinewidth\":0,\"ticks\":\"\"}},\"type\":\"scatterternary\"}],\"surface\":[{\"colorbar\":{\"outlinewidth\":0,\"ticks\":\"\"},\"colorscale\":[[0.0,\"#0d0887\"],[0.1111111111111111,\"#46039f\"],[0.2222222222222222,\"#7201a8\"],[0.3333333333333333,\"#9c179e\"],[0.4444444444444444,\"#bd3786\"],[0.5555555555555556,\"#d8576b\"],[0.6666666666666666,\"#ed7953\"],[0.7777777777777778,\"#fb9f3a\"],[0.8888888888888888,\"#fdca26\"],[1.0,\"#f0f921\"]],\"type\":\"surface\"}],\"table\":[{\"cells\":{\"fill\":{\"color\":\"#EBF0F8\"},\"line\":{\"color\":\"white\"}},\"header\":{\"fill\":{\"color\":\"#C8D4E3\"},\"line\":{\"color\":\"white\"}},\"type\":\"table\"}]},\"layout\":{\"annotationdefaults\":{\"arrowcolor\":\"#2a3f5f\",\"arrowhead\":0,\"arrowwidth\":1},\"autotypenumbers\":\"strict\",\"coloraxis\":{\"colorbar\":{\"outlinewidth\":0,\"ticks\":\"\"}},\"colorscale\":{\"diverging\":[[0,\"#8e0152\"],[0.1,\"#c51b7d\"],[0.2,\"#de77ae\"],[0.3,\"#f1b6da\"],[0.4,\"#fde0ef\"],[0.5,\"#f7f7f7\"],[0.6,\"#e6f5d0\"],[0.7,\"#b8e186\"],[0.8,\"#7fbc41\"],[0.9,\"#4d9221\"],[1,\"#276419\"]],\"sequential\":[[0.0,\"#0d0887\"],[0.1111111111111111,\"#46039f\"],[0.2222222222222222,\"#7201a8\"],[0.3333333333333333,\"#9c179e\"],[0.4444444444444444,\"#bd3786\"],[0.5555555555555556,\"#d8576b\"],[0.6666666666666666,\"#ed7953\"],[0.7777777777777778,\"#fb9f3a\"],[0.8888888888888888,\"#fdca26\"],[1.0,\"#f0f921\"]],\"sequentialminus\":[[0.0,\"#0d0887\"],[0.1111111111111111,\"#46039f\"],[0.2222222222222222,\"#7201a8\"],[0.3333333333333333,\"#9c179e\"],[0.4444444444444444,\"#bd3786\"],[0.5555555555555556,\"#d8576b\"],[0.6666666666666666,\"#ed7953\"],[0.7777777777777778,\"#fb9f3a\"],[0.8888888888888888,\"#fdca26\"],[1.0,\"#f0f921\"]]},\"colorway\":[\"#636efa\",\"#EF553B\",\"#00cc96\",\"#ab63fa\",\"#FFA15A\",\"#19d3f3\",\"#FF6692\",\"#B6E880\",\"#FF97FF\",\"#FECB52\"],\"font\":{\"color\":\"#2a3f5f\"},\"geo\":{\"bgcolor\":\"white\",\"lakecolor\":\"white\",\"landcolor\":\"#E5ECF6\",\"showlakes\":true,\"showland\":true,\"subunitcolor\":\"white\"},\"hoverlabel\":{\"align\":\"left\"},\"hovermode\":\"closest\",\"mapbox\":{\"style\":\"light\"},\"paper_bgcolor\":\"white\",\"plot_bgcolor\":\"#E5ECF6\",\"polar\":{\"angularaxis\":{\"gridcolor\":\"white\",\"linecolor\":\"white\",\"ticks\":\"\"},\"bgcolor\":\"#E5ECF6\",\"radialaxis\":{\"gridcolor\":\"white\",\"linecolor\":\"white\",\"ticks\":\"\"}},\"scene\":{\"xaxis\":{\"backgroundcolor\":\"#E5ECF6\",\"gridcolor\":\"white\",\"gridwidth\":2,\"linecolor\":\"white\",\"showbackground\":true,\"ticks\":\"\",\"zerolinecolor\":\"white\"},\"yaxis\":{\"backgroundcolor\":\"#E5ECF6\",\"gridcolor\":\"white\",\"gridwidth\":2,\"linecolor\":\"white\",\"showbackground\":true,\"ticks\":\"\",\"zerolinecolor\":\"white\"},\"zaxis\":{\"backgroundcolor\":\"#E5ECF6\",\"gridcolor\":\"white\",\"gridwidth\":2,\"linecolor\":\"white\",\"showbackground\":true,\"ticks\":\"\",\"zerolinecolor\":\"white\"}},\"shapedefaults\":{\"line\":{\"color\":\"#2a3f5f\"}},\"ternary\":{\"aaxis\":{\"gridcolor\":\"white\",\"linecolor\":\"white\",\"ticks\":\"\"},\"baxis\":{\"gridcolor\":\"white\",\"linecolor\":\"white\",\"ticks\":\"\"},\"bgcolor\":\"#E5ECF6\",\"caxis\":{\"gridcolor\":\"white\",\"linecolor\":\"white\",\"ticks\":\"\"}},\"title\":{\"x\":0.05},\"xaxis\":{\"automargin\":true,\"gridcolor\":\"white\",\"linecolor\":\"white\",\"ticks\":\"\",\"title\":{\"standoff\":15},\"zerolinecolor\":\"white\",\"zerolinewidth\":2},\"yaxis\":{\"automargin\":true,\"gridcolor\":\"white\",\"linecolor\":\"white\",\"ticks\":\"\",\"title\":{\"standoff\":15},\"zerolinecolor\":\"white\",\"zerolinewidth\":2}}},\"title\":{\"text\":\"Top 10 songs\"},\"xaxis\":{\"anchor\":\"y\",\"domain\":[0.0,1.0],\"title\":{\"text\":\"Song ID\"}},\"yaxis\":{\"anchor\":\"x\",\"domain\":[0.0,1.0],\"title\":{\"text\":\"Revenue\"}}},                        {\"responsive\": true}                    ).then(function(){\n",
       "                            \n",
       "var gd = document.getElementById('76b9d393-dcd4-4040-ba13-37720924caa8');\n",
       "var x = new MutationObserver(function (mutations, observer) {{\n",
       "        var display = window.getComputedStyle(gd).display;\n",
       "        if (!display || display === 'none') {{\n",
       "            console.log([gd, 'removed!']);\n",
       "            Plotly.purge(gd);\n",
       "            observer.disconnect();\n",
       "        }}\n",
       "}});\n",
       "\n",
       "// Listen for the removal of the full notebook cells\n",
       "var notebookContainer = gd.closest('#notebook-container');\n",
       "if (notebookContainer) {{\n",
       "    x.observe(notebookContainer, {childList: true});\n",
       "}}\n",
       "\n",
       "// Listen for the clearing of the current output cell\n",
       "var outputEl = gd.closest('.output');\n",
       "if (outputEl) {{\n",
       "    x.observe(outputEl, {childList: true});\n",
       "}}\n",
       "\n",
       "                        })                };                });            </script>        </div>"
      ]
     },
     "metadata": {},
     "output_type": "display_data"
    }
   ],
   "source": [
    "##Highest revenue generating songs\n",
    "df_rev_song = pd.DataFrame(df3.groupby(\"SongID\")[\"Revenue\"].sum())\n",
    "df_rev_song.reset_index(inplace= True)\n",
    "df_rev_song[\"SongID\"] = df_rev_song[\"SongID\"].astype(str)\n",
    "fig = px.bar(df_rev_song.sort_values(by =\"Revenue\", ascending= False).head(10), x = \"SongID\", y=\"Revenue\", title=\"Top 10 songs\", labels={\"SongID\":\"Song ID\"})\n",
    "fig.show()"
   ]
  },
  {
   "cell_type": "code",
   "execution_count": 115,
   "id": "65d0c59e",
   "metadata": {},
   "outputs": [
    {
     "data": {
      "text/html": [
       "<div>\n",
       "<style scoped>\n",
       "    .dataframe tbody tr th:only-of-type {\n",
       "        vertical-align: middle;\n",
       "    }\n",
       "\n",
       "    .dataframe tbody tr th {\n",
       "        vertical-align: top;\n",
       "    }\n",
       "\n",
       "    .dataframe thead th {\n",
       "        text-align: right;\n",
       "    }\n",
       "</style>\n",
       "<table border=\"1\" class=\"dataframe\">\n",
       "  <thead>\n",
       "    <tr style=\"text-align: right;\">\n",
       "      <th></th>\n",
       "      <th>SongID</th>\n",
       "      <th>Revenue</th>\n",
       "      <th>Revenue_Interval</th>\n",
       "    </tr>\n",
       "  </thead>\n",
       "  <tbody>\n",
       "    <tr>\n",
       "      <th>0</th>\n",
       "      <td>1</td>\n",
       "      <td>2157</td>\n",
       "      <td>(2000, 2500]</td>\n",
       "    </tr>\n",
       "    <tr>\n",
       "      <th>1</th>\n",
       "      <td>2</td>\n",
       "      <td>1091</td>\n",
       "      <td>(1000, 1500]</td>\n",
       "    </tr>\n",
       "    <tr>\n",
       "      <th>2</th>\n",
       "      <td>3</td>\n",
       "      <td>1914</td>\n",
       "      <td>(1500, 2000]</td>\n",
       "    </tr>\n",
       "    <tr>\n",
       "      <th>3</th>\n",
       "      <td>4</td>\n",
       "      <td>1782</td>\n",
       "      <td>(1500, 2000]</td>\n",
       "    </tr>\n",
       "    <tr>\n",
       "      <th>4</th>\n",
       "      <td>5</td>\n",
       "      <td>1278</td>\n",
       "      <td>(1000, 1500]</td>\n",
       "    </tr>\n",
       "    <tr>\n",
       "      <th>...</th>\n",
       "      <td>...</td>\n",
       "      <td>...</td>\n",
       "      <td>...</td>\n",
       "    </tr>\n",
       "    <tr>\n",
       "      <th>6540</th>\n",
       "      <td>6541</td>\n",
       "      <td>1368</td>\n",
       "      <td>(1000, 1500]</td>\n",
       "    </tr>\n",
       "    <tr>\n",
       "      <th>6541</th>\n",
       "      <td>6542</td>\n",
       "      <td>1182</td>\n",
       "      <td>(1000, 1500]</td>\n",
       "    </tr>\n",
       "    <tr>\n",
       "      <th>6542</th>\n",
       "      <td>6543</td>\n",
       "      <td>1271</td>\n",
       "      <td>(1000, 1500]</td>\n",
       "    </tr>\n",
       "    <tr>\n",
       "      <th>6543</th>\n",
       "      <td>6544</td>\n",
       "      <td>1645</td>\n",
       "      <td>(1500, 2000]</td>\n",
       "    </tr>\n",
       "    <tr>\n",
       "      <th>6544</th>\n",
       "      <td>6545</td>\n",
       "      <td>1292</td>\n",
       "      <td>(1000, 1500]</td>\n",
       "    </tr>\n",
       "  </tbody>\n",
       "</table>\n",
       "<p>6545 rows × 3 columns</p>\n",
       "</div>"
      ],
      "text/plain": [
       "     SongID  Revenue Revenue_Interval\n",
       "0         1     2157     (2000, 2500]\n",
       "1         2     1091     (1000, 1500]\n",
       "2         3     1914     (1500, 2000]\n",
       "3         4     1782     (1500, 2000]\n",
       "4         5     1278     (1000, 1500]\n",
       "...     ...      ...              ...\n",
       "6540   6541     1368     (1000, 1500]\n",
       "6541   6542     1182     (1000, 1500]\n",
       "6542   6543     1271     (1000, 1500]\n",
       "6543   6544     1645     (1500, 2000]\n",
       "6544   6545     1292     (1000, 1500]\n",
       "\n",
       "[6545 rows x 3 columns]"
      ]
     },
     "execution_count": 115,
     "metadata": {},
     "output_type": "execute_result"
    }
   ],
   "source": [
    "#Can draw intervals \n",
    "bins = [0,500,1000,1500,2000,2500,3000]\n",
    "df_rev_song[\"Revenue_Interval\"] = pd.cut(df_rev_song[\"Revenue\"],bins)\n",
    "df_rev_song "
   ]
  },
  {
   "cell_type": "code",
   "execution_count": 199,
   "id": "c5073416",
   "metadata": {},
   "outputs": [
    {
     "data": {
      "application/vnd.plotly.v1+json": {
       "config": {
        "plotlyServerURL": "https://plot.ly"
       },
       "data": [
        {
         "alignmentgroup": "True",
         "hovertemplate": "Revenue=%{x}<br>Number of Songs=%{y}<extra></extra>",
         "legendgroup": "",
         "marker": {
          "color": "#636efa",
          "pattern": {
           "shape": ""
          }
         },
         "name": "",
         "offsetgroup": "",
         "orientation": "v",
         "showlegend": false,
         "textposition": "auto",
         "type": "bar",
         "x": [
          "(0, 500]",
          "(500, 1000]",
          "(1000, 1500]",
          "(1500, 2000]",
          "(2000, 2500]",
          "(2500, 3000]"
         ],
         "xaxis": "x",
         "y": [
          53,
          596,
          1440,
          2582,
          1839,
          35
         ],
         "yaxis": "y"
        }
       ],
       "layout": {
        "barmode": "relative",
        "legend": {
         "tracegroupgap": 0
        },
        "template": {
         "data": {
          "bar": [
           {
            "error_x": {
             "color": "#2a3f5f"
            },
            "error_y": {
             "color": "#2a3f5f"
            },
            "marker": {
             "line": {
              "color": "#E5ECF6",
              "width": 0.5
             },
             "pattern": {
              "fillmode": "overlay",
              "size": 10,
              "solidity": 0.2
             }
            },
            "type": "bar"
           }
          ],
          "barpolar": [
           {
            "marker": {
             "line": {
              "color": "#E5ECF6",
              "width": 0.5
             },
             "pattern": {
              "fillmode": "overlay",
              "size": 10,
              "solidity": 0.2
             }
            },
            "type": "barpolar"
           }
          ],
          "carpet": [
           {
            "aaxis": {
             "endlinecolor": "#2a3f5f",
             "gridcolor": "white",
             "linecolor": "white",
             "minorgridcolor": "white",
             "startlinecolor": "#2a3f5f"
            },
            "baxis": {
             "endlinecolor": "#2a3f5f",
             "gridcolor": "white",
             "linecolor": "white",
             "minorgridcolor": "white",
             "startlinecolor": "#2a3f5f"
            },
            "type": "carpet"
           }
          ],
          "choropleth": [
           {
            "colorbar": {
             "outlinewidth": 0,
             "ticks": ""
            },
            "type": "choropleth"
           }
          ],
          "contour": [
           {
            "colorbar": {
             "outlinewidth": 0,
             "ticks": ""
            },
            "colorscale": [
             [
              0,
              "#0d0887"
             ],
             [
              0.1111111111111111,
              "#46039f"
             ],
             [
              0.2222222222222222,
              "#7201a8"
             ],
             [
              0.3333333333333333,
              "#9c179e"
             ],
             [
              0.4444444444444444,
              "#bd3786"
             ],
             [
              0.5555555555555556,
              "#d8576b"
             ],
             [
              0.6666666666666666,
              "#ed7953"
             ],
             [
              0.7777777777777778,
              "#fb9f3a"
             ],
             [
              0.8888888888888888,
              "#fdca26"
             ],
             [
              1,
              "#f0f921"
             ]
            ],
            "type": "contour"
           }
          ],
          "contourcarpet": [
           {
            "colorbar": {
             "outlinewidth": 0,
             "ticks": ""
            },
            "type": "contourcarpet"
           }
          ],
          "heatmap": [
           {
            "colorbar": {
             "outlinewidth": 0,
             "ticks": ""
            },
            "colorscale": [
             [
              0,
              "#0d0887"
             ],
             [
              0.1111111111111111,
              "#46039f"
             ],
             [
              0.2222222222222222,
              "#7201a8"
             ],
             [
              0.3333333333333333,
              "#9c179e"
             ],
             [
              0.4444444444444444,
              "#bd3786"
             ],
             [
              0.5555555555555556,
              "#d8576b"
             ],
             [
              0.6666666666666666,
              "#ed7953"
             ],
             [
              0.7777777777777778,
              "#fb9f3a"
             ],
             [
              0.8888888888888888,
              "#fdca26"
             ],
             [
              1,
              "#f0f921"
             ]
            ],
            "type": "heatmap"
           }
          ],
          "heatmapgl": [
           {
            "colorbar": {
             "outlinewidth": 0,
             "ticks": ""
            },
            "colorscale": [
             [
              0,
              "#0d0887"
             ],
             [
              0.1111111111111111,
              "#46039f"
             ],
             [
              0.2222222222222222,
              "#7201a8"
             ],
             [
              0.3333333333333333,
              "#9c179e"
             ],
             [
              0.4444444444444444,
              "#bd3786"
             ],
             [
              0.5555555555555556,
              "#d8576b"
             ],
             [
              0.6666666666666666,
              "#ed7953"
             ],
             [
              0.7777777777777778,
              "#fb9f3a"
             ],
             [
              0.8888888888888888,
              "#fdca26"
             ],
             [
              1,
              "#f0f921"
             ]
            ],
            "type": "heatmapgl"
           }
          ],
          "histogram": [
           {
            "marker": {
             "pattern": {
              "fillmode": "overlay",
              "size": 10,
              "solidity": 0.2
             }
            },
            "type": "histogram"
           }
          ],
          "histogram2d": [
           {
            "colorbar": {
             "outlinewidth": 0,
             "ticks": ""
            },
            "colorscale": [
             [
              0,
              "#0d0887"
             ],
             [
              0.1111111111111111,
              "#46039f"
             ],
             [
              0.2222222222222222,
              "#7201a8"
             ],
             [
              0.3333333333333333,
              "#9c179e"
             ],
             [
              0.4444444444444444,
              "#bd3786"
             ],
             [
              0.5555555555555556,
              "#d8576b"
             ],
             [
              0.6666666666666666,
              "#ed7953"
             ],
             [
              0.7777777777777778,
              "#fb9f3a"
             ],
             [
              0.8888888888888888,
              "#fdca26"
             ],
             [
              1,
              "#f0f921"
             ]
            ],
            "type": "histogram2d"
           }
          ],
          "histogram2dcontour": [
           {
            "colorbar": {
             "outlinewidth": 0,
             "ticks": ""
            },
            "colorscale": [
             [
              0,
              "#0d0887"
             ],
             [
              0.1111111111111111,
              "#46039f"
             ],
             [
              0.2222222222222222,
              "#7201a8"
             ],
             [
              0.3333333333333333,
              "#9c179e"
             ],
             [
              0.4444444444444444,
              "#bd3786"
             ],
             [
              0.5555555555555556,
              "#d8576b"
             ],
             [
              0.6666666666666666,
              "#ed7953"
             ],
             [
              0.7777777777777778,
              "#fb9f3a"
             ],
             [
              0.8888888888888888,
              "#fdca26"
             ],
             [
              1,
              "#f0f921"
             ]
            ],
            "type": "histogram2dcontour"
           }
          ],
          "mesh3d": [
           {
            "colorbar": {
             "outlinewidth": 0,
             "ticks": ""
            },
            "type": "mesh3d"
           }
          ],
          "parcoords": [
           {
            "line": {
             "colorbar": {
              "outlinewidth": 0,
              "ticks": ""
             }
            },
            "type": "parcoords"
           }
          ],
          "pie": [
           {
            "automargin": true,
            "type": "pie"
           }
          ],
          "scatter": [
           {
            "marker": {
             "colorbar": {
              "outlinewidth": 0,
              "ticks": ""
             }
            },
            "type": "scatter"
           }
          ],
          "scatter3d": [
           {
            "line": {
             "colorbar": {
              "outlinewidth": 0,
              "ticks": ""
             }
            },
            "marker": {
             "colorbar": {
              "outlinewidth": 0,
              "ticks": ""
             }
            },
            "type": "scatter3d"
           }
          ],
          "scattercarpet": [
           {
            "marker": {
             "colorbar": {
              "outlinewidth": 0,
              "ticks": ""
             }
            },
            "type": "scattercarpet"
           }
          ],
          "scattergeo": [
           {
            "marker": {
             "colorbar": {
              "outlinewidth": 0,
              "ticks": ""
             }
            },
            "type": "scattergeo"
           }
          ],
          "scattergl": [
           {
            "marker": {
             "colorbar": {
              "outlinewidth": 0,
              "ticks": ""
             }
            },
            "type": "scattergl"
           }
          ],
          "scattermapbox": [
           {
            "marker": {
             "colorbar": {
              "outlinewidth": 0,
              "ticks": ""
             }
            },
            "type": "scattermapbox"
           }
          ],
          "scatterpolar": [
           {
            "marker": {
             "colorbar": {
              "outlinewidth": 0,
              "ticks": ""
             }
            },
            "type": "scatterpolar"
           }
          ],
          "scatterpolargl": [
           {
            "marker": {
             "colorbar": {
              "outlinewidth": 0,
              "ticks": ""
             }
            },
            "type": "scatterpolargl"
           }
          ],
          "scatterternary": [
           {
            "marker": {
             "colorbar": {
              "outlinewidth": 0,
              "ticks": ""
             }
            },
            "type": "scatterternary"
           }
          ],
          "surface": [
           {
            "colorbar": {
             "outlinewidth": 0,
             "ticks": ""
            },
            "colorscale": [
             [
              0,
              "#0d0887"
             ],
             [
              0.1111111111111111,
              "#46039f"
             ],
             [
              0.2222222222222222,
              "#7201a8"
             ],
             [
              0.3333333333333333,
              "#9c179e"
             ],
             [
              0.4444444444444444,
              "#bd3786"
             ],
             [
              0.5555555555555556,
              "#d8576b"
             ],
             [
              0.6666666666666666,
              "#ed7953"
             ],
             [
              0.7777777777777778,
              "#fb9f3a"
             ],
             [
              0.8888888888888888,
              "#fdca26"
             ],
             [
              1,
              "#f0f921"
             ]
            ],
            "type": "surface"
           }
          ],
          "table": [
           {
            "cells": {
             "fill": {
              "color": "#EBF0F8"
             },
             "line": {
              "color": "white"
             }
            },
            "header": {
             "fill": {
              "color": "#C8D4E3"
             },
             "line": {
              "color": "white"
             }
            },
            "type": "table"
           }
          ]
         },
         "layout": {
          "annotationdefaults": {
           "arrowcolor": "#2a3f5f",
           "arrowhead": 0,
           "arrowwidth": 1
          },
          "autotypenumbers": "strict",
          "coloraxis": {
           "colorbar": {
            "outlinewidth": 0,
            "ticks": ""
           }
          },
          "colorscale": {
           "diverging": [
            [
             0,
             "#8e0152"
            ],
            [
             0.1,
             "#c51b7d"
            ],
            [
             0.2,
             "#de77ae"
            ],
            [
             0.3,
             "#f1b6da"
            ],
            [
             0.4,
             "#fde0ef"
            ],
            [
             0.5,
             "#f7f7f7"
            ],
            [
             0.6,
             "#e6f5d0"
            ],
            [
             0.7,
             "#b8e186"
            ],
            [
             0.8,
             "#7fbc41"
            ],
            [
             0.9,
             "#4d9221"
            ],
            [
             1,
             "#276419"
            ]
           ],
           "sequential": [
            [
             0,
             "#0d0887"
            ],
            [
             0.1111111111111111,
             "#46039f"
            ],
            [
             0.2222222222222222,
             "#7201a8"
            ],
            [
             0.3333333333333333,
             "#9c179e"
            ],
            [
             0.4444444444444444,
             "#bd3786"
            ],
            [
             0.5555555555555556,
             "#d8576b"
            ],
            [
             0.6666666666666666,
             "#ed7953"
            ],
            [
             0.7777777777777778,
             "#fb9f3a"
            ],
            [
             0.8888888888888888,
             "#fdca26"
            ],
            [
             1,
             "#f0f921"
            ]
           ],
           "sequentialminus": [
            [
             0,
             "#0d0887"
            ],
            [
             0.1111111111111111,
             "#46039f"
            ],
            [
             0.2222222222222222,
             "#7201a8"
            ],
            [
             0.3333333333333333,
             "#9c179e"
            ],
            [
             0.4444444444444444,
             "#bd3786"
            ],
            [
             0.5555555555555556,
             "#d8576b"
            ],
            [
             0.6666666666666666,
             "#ed7953"
            ],
            [
             0.7777777777777778,
             "#fb9f3a"
            ],
            [
             0.8888888888888888,
             "#fdca26"
            ],
            [
             1,
             "#f0f921"
            ]
           ]
          },
          "colorway": [
           "#636efa",
           "#EF553B",
           "#00cc96",
           "#ab63fa",
           "#FFA15A",
           "#19d3f3",
           "#FF6692",
           "#B6E880",
           "#FF97FF",
           "#FECB52"
          ],
          "font": {
           "color": "#2a3f5f"
          },
          "geo": {
           "bgcolor": "white",
           "lakecolor": "white",
           "landcolor": "#E5ECF6",
           "showlakes": true,
           "showland": true,
           "subunitcolor": "white"
          },
          "hoverlabel": {
           "align": "left"
          },
          "hovermode": "closest",
          "mapbox": {
           "style": "light"
          },
          "paper_bgcolor": "white",
          "plot_bgcolor": "#E5ECF6",
          "polar": {
           "angularaxis": {
            "gridcolor": "white",
            "linecolor": "white",
            "ticks": ""
           },
           "bgcolor": "#E5ECF6",
           "radialaxis": {
            "gridcolor": "white",
            "linecolor": "white",
            "ticks": ""
           }
          },
          "scene": {
           "xaxis": {
            "backgroundcolor": "#E5ECF6",
            "gridcolor": "white",
            "gridwidth": 2,
            "linecolor": "white",
            "showbackground": true,
            "ticks": "",
            "zerolinecolor": "white"
           },
           "yaxis": {
            "backgroundcolor": "#E5ECF6",
            "gridcolor": "white",
            "gridwidth": 2,
            "linecolor": "white",
            "showbackground": true,
            "ticks": "",
            "zerolinecolor": "white"
           },
           "zaxis": {
            "backgroundcolor": "#E5ECF6",
            "gridcolor": "white",
            "gridwidth": 2,
            "linecolor": "white",
            "showbackground": true,
            "ticks": "",
            "zerolinecolor": "white"
           }
          },
          "shapedefaults": {
           "line": {
            "color": "#2a3f5f"
           }
          },
          "ternary": {
           "aaxis": {
            "gridcolor": "white",
            "linecolor": "white",
            "ticks": ""
           },
           "baxis": {
            "gridcolor": "white",
            "linecolor": "white",
            "ticks": ""
           },
           "bgcolor": "#E5ECF6",
           "caxis": {
            "gridcolor": "white",
            "linecolor": "white",
            "ticks": ""
           }
          },
          "title": {
           "x": 0.05
          },
          "xaxis": {
           "automargin": true,
           "gridcolor": "white",
           "linecolor": "white",
           "ticks": "",
           "title": {
            "standoff": 15
           },
           "zerolinecolor": "white",
           "zerolinewidth": 2
          },
          "yaxis": {
           "automargin": true,
           "gridcolor": "white",
           "linecolor": "white",
           "ticks": "",
           "title": {
            "standoff": 15
           },
           "zerolinecolor": "white",
           "zerolinewidth": 2
          }
         }
        },
        "title": {
         "text": "Number of songs in Revenue category"
        },
        "xaxis": {
         "anchor": "y",
         "domain": [
          0,
          1
         ],
         "title": {
          "text": "Revenue"
         }
        },
        "yaxis": {
         "anchor": "x",
         "domain": [
          0,
          1
         ],
         "title": {
          "text": "Number of Songs"
         }
        }
       }
      },
      "text/html": [
       "<div>                            <div id=\"8c80a58b-9cf6-4556-947e-e3c5f084ff7c\" class=\"plotly-graph-div\" style=\"height:525px; width:100%;\"></div>            <script type=\"text/javascript\">                require([\"plotly\"], function(Plotly) {                    window.PLOTLYENV=window.PLOTLYENV || {};                                    if (document.getElementById(\"8c80a58b-9cf6-4556-947e-e3c5f084ff7c\")) {                    Plotly.newPlot(                        \"8c80a58b-9cf6-4556-947e-e3c5f084ff7c\",                        [{\"alignmentgroup\":\"True\",\"hovertemplate\":\"Revenue=%{x}<br>Number of Songs=%{y}<extra></extra>\",\"legendgroup\":\"\",\"marker\":{\"color\":\"#636efa\",\"pattern\":{\"shape\":\"\"}},\"name\":\"\",\"offsetgroup\":\"\",\"orientation\":\"v\",\"showlegend\":false,\"textposition\":\"auto\",\"type\":\"bar\",\"x\":[\"(0, 500]\",\"(500, 1000]\",\"(1000, 1500]\",\"(1500, 2000]\",\"(2000, 2500]\",\"(2500, 3000]\"],\"xaxis\":\"x\",\"y\":[53,596,1440,2582,1839,35],\"yaxis\":\"y\"}],                        {\"barmode\":\"relative\",\"legend\":{\"tracegroupgap\":0},\"template\":{\"data\":{\"bar\":[{\"error_x\":{\"color\":\"#2a3f5f\"},\"error_y\":{\"color\":\"#2a3f5f\"},\"marker\":{\"line\":{\"color\":\"#E5ECF6\",\"width\":0.5},\"pattern\":{\"fillmode\":\"overlay\",\"size\":10,\"solidity\":0.2}},\"type\":\"bar\"}],\"barpolar\":[{\"marker\":{\"line\":{\"color\":\"#E5ECF6\",\"width\":0.5},\"pattern\":{\"fillmode\":\"overlay\",\"size\":10,\"solidity\":0.2}},\"type\":\"barpolar\"}],\"carpet\":[{\"aaxis\":{\"endlinecolor\":\"#2a3f5f\",\"gridcolor\":\"white\",\"linecolor\":\"white\",\"minorgridcolor\":\"white\",\"startlinecolor\":\"#2a3f5f\"},\"baxis\":{\"endlinecolor\":\"#2a3f5f\",\"gridcolor\":\"white\",\"linecolor\":\"white\",\"minorgridcolor\":\"white\",\"startlinecolor\":\"#2a3f5f\"},\"type\":\"carpet\"}],\"choropleth\":[{\"colorbar\":{\"outlinewidth\":0,\"ticks\":\"\"},\"type\":\"choropleth\"}],\"contour\":[{\"colorbar\":{\"outlinewidth\":0,\"ticks\":\"\"},\"colorscale\":[[0.0,\"#0d0887\"],[0.1111111111111111,\"#46039f\"],[0.2222222222222222,\"#7201a8\"],[0.3333333333333333,\"#9c179e\"],[0.4444444444444444,\"#bd3786\"],[0.5555555555555556,\"#d8576b\"],[0.6666666666666666,\"#ed7953\"],[0.7777777777777778,\"#fb9f3a\"],[0.8888888888888888,\"#fdca26\"],[1.0,\"#f0f921\"]],\"type\":\"contour\"}],\"contourcarpet\":[{\"colorbar\":{\"outlinewidth\":0,\"ticks\":\"\"},\"type\":\"contourcarpet\"}],\"heatmap\":[{\"colorbar\":{\"outlinewidth\":0,\"ticks\":\"\"},\"colorscale\":[[0.0,\"#0d0887\"],[0.1111111111111111,\"#46039f\"],[0.2222222222222222,\"#7201a8\"],[0.3333333333333333,\"#9c179e\"],[0.4444444444444444,\"#bd3786\"],[0.5555555555555556,\"#d8576b\"],[0.6666666666666666,\"#ed7953\"],[0.7777777777777778,\"#fb9f3a\"],[0.8888888888888888,\"#fdca26\"],[1.0,\"#f0f921\"]],\"type\":\"heatmap\"}],\"heatmapgl\":[{\"colorbar\":{\"outlinewidth\":0,\"ticks\":\"\"},\"colorscale\":[[0.0,\"#0d0887\"],[0.1111111111111111,\"#46039f\"],[0.2222222222222222,\"#7201a8\"],[0.3333333333333333,\"#9c179e\"],[0.4444444444444444,\"#bd3786\"],[0.5555555555555556,\"#d8576b\"],[0.6666666666666666,\"#ed7953\"],[0.7777777777777778,\"#fb9f3a\"],[0.8888888888888888,\"#fdca26\"],[1.0,\"#f0f921\"]],\"type\":\"heatmapgl\"}],\"histogram\":[{\"marker\":{\"pattern\":{\"fillmode\":\"overlay\",\"size\":10,\"solidity\":0.2}},\"type\":\"histogram\"}],\"histogram2d\":[{\"colorbar\":{\"outlinewidth\":0,\"ticks\":\"\"},\"colorscale\":[[0.0,\"#0d0887\"],[0.1111111111111111,\"#46039f\"],[0.2222222222222222,\"#7201a8\"],[0.3333333333333333,\"#9c179e\"],[0.4444444444444444,\"#bd3786\"],[0.5555555555555556,\"#d8576b\"],[0.6666666666666666,\"#ed7953\"],[0.7777777777777778,\"#fb9f3a\"],[0.8888888888888888,\"#fdca26\"],[1.0,\"#f0f921\"]],\"type\":\"histogram2d\"}],\"histogram2dcontour\":[{\"colorbar\":{\"outlinewidth\":0,\"ticks\":\"\"},\"colorscale\":[[0.0,\"#0d0887\"],[0.1111111111111111,\"#46039f\"],[0.2222222222222222,\"#7201a8\"],[0.3333333333333333,\"#9c179e\"],[0.4444444444444444,\"#bd3786\"],[0.5555555555555556,\"#d8576b\"],[0.6666666666666666,\"#ed7953\"],[0.7777777777777778,\"#fb9f3a\"],[0.8888888888888888,\"#fdca26\"],[1.0,\"#f0f921\"]],\"type\":\"histogram2dcontour\"}],\"mesh3d\":[{\"colorbar\":{\"outlinewidth\":0,\"ticks\":\"\"},\"type\":\"mesh3d\"}],\"parcoords\":[{\"line\":{\"colorbar\":{\"outlinewidth\":0,\"ticks\":\"\"}},\"type\":\"parcoords\"}],\"pie\":[{\"automargin\":true,\"type\":\"pie\"}],\"scatter\":[{\"marker\":{\"colorbar\":{\"outlinewidth\":0,\"ticks\":\"\"}},\"type\":\"scatter\"}],\"scatter3d\":[{\"line\":{\"colorbar\":{\"outlinewidth\":0,\"ticks\":\"\"}},\"marker\":{\"colorbar\":{\"outlinewidth\":0,\"ticks\":\"\"}},\"type\":\"scatter3d\"}],\"scattercarpet\":[{\"marker\":{\"colorbar\":{\"outlinewidth\":0,\"ticks\":\"\"}},\"type\":\"scattercarpet\"}],\"scattergeo\":[{\"marker\":{\"colorbar\":{\"outlinewidth\":0,\"ticks\":\"\"}},\"type\":\"scattergeo\"}],\"scattergl\":[{\"marker\":{\"colorbar\":{\"outlinewidth\":0,\"ticks\":\"\"}},\"type\":\"scattergl\"}],\"scattermapbox\":[{\"marker\":{\"colorbar\":{\"outlinewidth\":0,\"ticks\":\"\"}},\"type\":\"scattermapbox\"}],\"scatterpolar\":[{\"marker\":{\"colorbar\":{\"outlinewidth\":0,\"ticks\":\"\"}},\"type\":\"scatterpolar\"}],\"scatterpolargl\":[{\"marker\":{\"colorbar\":{\"outlinewidth\":0,\"ticks\":\"\"}},\"type\":\"scatterpolargl\"}],\"scatterternary\":[{\"marker\":{\"colorbar\":{\"outlinewidth\":0,\"ticks\":\"\"}},\"type\":\"scatterternary\"}],\"surface\":[{\"colorbar\":{\"outlinewidth\":0,\"ticks\":\"\"},\"colorscale\":[[0.0,\"#0d0887\"],[0.1111111111111111,\"#46039f\"],[0.2222222222222222,\"#7201a8\"],[0.3333333333333333,\"#9c179e\"],[0.4444444444444444,\"#bd3786\"],[0.5555555555555556,\"#d8576b\"],[0.6666666666666666,\"#ed7953\"],[0.7777777777777778,\"#fb9f3a\"],[0.8888888888888888,\"#fdca26\"],[1.0,\"#f0f921\"]],\"type\":\"surface\"}],\"table\":[{\"cells\":{\"fill\":{\"color\":\"#EBF0F8\"},\"line\":{\"color\":\"white\"}},\"header\":{\"fill\":{\"color\":\"#C8D4E3\"},\"line\":{\"color\":\"white\"}},\"type\":\"table\"}]},\"layout\":{\"annotationdefaults\":{\"arrowcolor\":\"#2a3f5f\",\"arrowhead\":0,\"arrowwidth\":1},\"autotypenumbers\":\"strict\",\"coloraxis\":{\"colorbar\":{\"outlinewidth\":0,\"ticks\":\"\"}},\"colorscale\":{\"diverging\":[[0,\"#8e0152\"],[0.1,\"#c51b7d\"],[0.2,\"#de77ae\"],[0.3,\"#f1b6da\"],[0.4,\"#fde0ef\"],[0.5,\"#f7f7f7\"],[0.6,\"#e6f5d0\"],[0.7,\"#b8e186\"],[0.8,\"#7fbc41\"],[0.9,\"#4d9221\"],[1,\"#276419\"]],\"sequential\":[[0.0,\"#0d0887\"],[0.1111111111111111,\"#46039f\"],[0.2222222222222222,\"#7201a8\"],[0.3333333333333333,\"#9c179e\"],[0.4444444444444444,\"#bd3786\"],[0.5555555555555556,\"#d8576b\"],[0.6666666666666666,\"#ed7953\"],[0.7777777777777778,\"#fb9f3a\"],[0.8888888888888888,\"#fdca26\"],[1.0,\"#f0f921\"]],\"sequentialminus\":[[0.0,\"#0d0887\"],[0.1111111111111111,\"#46039f\"],[0.2222222222222222,\"#7201a8\"],[0.3333333333333333,\"#9c179e\"],[0.4444444444444444,\"#bd3786\"],[0.5555555555555556,\"#d8576b\"],[0.6666666666666666,\"#ed7953\"],[0.7777777777777778,\"#fb9f3a\"],[0.8888888888888888,\"#fdca26\"],[1.0,\"#f0f921\"]]},\"colorway\":[\"#636efa\",\"#EF553B\",\"#00cc96\",\"#ab63fa\",\"#FFA15A\",\"#19d3f3\",\"#FF6692\",\"#B6E880\",\"#FF97FF\",\"#FECB52\"],\"font\":{\"color\":\"#2a3f5f\"},\"geo\":{\"bgcolor\":\"white\",\"lakecolor\":\"white\",\"landcolor\":\"#E5ECF6\",\"showlakes\":true,\"showland\":true,\"subunitcolor\":\"white\"},\"hoverlabel\":{\"align\":\"left\"},\"hovermode\":\"closest\",\"mapbox\":{\"style\":\"light\"},\"paper_bgcolor\":\"white\",\"plot_bgcolor\":\"#E5ECF6\",\"polar\":{\"angularaxis\":{\"gridcolor\":\"white\",\"linecolor\":\"white\",\"ticks\":\"\"},\"bgcolor\":\"#E5ECF6\",\"radialaxis\":{\"gridcolor\":\"white\",\"linecolor\":\"white\",\"ticks\":\"\"}},\"scene\":{\"xaxis\":{\"backgroundcolor\":\"#E5ECF6\",\"gridcolor\":\"white\",\"gridwidth\":2,\"linecolor\":\"white\",\"showbackground\":true,\"ticks\":\"\",\"zerolinecolor\":\"white\"},\"yaxis\":{\"backgroundcolor\":\"#E5ECF6\",\"gridcolor\":\"white\",\"gridwidth\":2,\"linecolor\":\"white\",\"showbackground\":true,\"ticks\":\"\",\"zerolinecolor\":\"white\"},\"zaxis\":{\"backgroundcolor\":\"#E5ECF6\",\"gridcolor\":\"white\",\"gridwidth\":2,\"linecolor\":\"white\",\"showbackground\":true,\"ticks\":\"\",\"zerolinecolor\":\"white\"}},\"shapedefaults\":{\"line\":{\"color\":\"#2a3f5f\"}},\"ternary\":{\"aaxis\":{\"gridcolor\":\"white\",\"linecolor\":\"white\",\"ticks\":\"\"},\"baxis\":{\"gridcolor\":\"white\",\"linecolor\":\"white\",\"ticks\":\"\"},\"bgcolor\":\"#E5ECF6\",\"caxis\":{\"gridcolor\":\"white\",\"linecolor\":\"white\",\"ticks\":\"\"}},\"title\":{\"x\":0.05},\"xaxis\":{\"automargin\":true,\"gridcolor\":\"white\",\"linecolor\":\"white\",\"ticks\":\"\",\"title\":{\"standoff\":15},\"zerolinecolor\":\"white\",\"zerolinewidth\":2},\"yaxis\":{\"automargin\":true,\"gridcolor\":\"white\",\"linecolor\":\"white\",\"ticks\":\"\",\"title\":{\"standoff\":15},\"zerolinecolor\":\"white\",\"zerolinewidth\":2}}},\"title\":{\"text\":\"Number of songs in Revenue category\"},\"xaxis\":{\"anchor\":\"y\",\"domain\":[0.0,1.0],\"title\":{\"text\":\"Revenue\"}},\"yaxis\":{\"anchor\":\"x\",\"domain\":[0.0,1.0],\"title\":{\"text\":\"Number of Songs\"}}},                        {\"responsive\": true}                    ).then(function(){\n",
       "                            \n",
       "var gd = document.getElementById('8c80a58b-9cf6-4556-947e-e3c5f084ff7c');\n",
       "var x = new MutationObserver(function (mutations, observer) {{\n",
       "        var display = window.getComputedStyle(gd).display;\n",
       "        if (!display || display === 'none') {{\n",
       "            console.log([gd, 'removed!']);\n",
       "            Plotly.purge(gd);\n",
       "            observer.disconnect();\n",
       "        }}\n",
       "}});\n",
       "\n",
       "// Listen for the removal of the full notebook cells\n",
       "var notebookContainer = gd.closest('#notebook-container');\n",
       "if (notebookContainer) {{\n",
       "    x.observe(notebookContainer, {childList: true});\n",
       "}}\n",
       "\n",
       "// Listen for the clearing of the current output cell\n",
       "var outputEl = gd.closest('.output');\n",
       "if (outputEl) {{\n",
       "    x.observe(outputEl, {childList: true});\n",
       "}}\n",
       "\n",
       "                        })                };                });            </script>        </div>"
      ]
     },
     "metadata": {},
     "output_type": "display_data"
    }
   ],
   "source": [
    "df_rev_song1 = pd.DataFrame(df_rev_song.groupby(\"Revenue_Interval\")[\"SongID\"].count()) \n",
    "df_rev_song1.reset_index(inplace= True)\n",
    "df_rev_song1[\"Revenue_Interval\"] = df_rev_song1[\"Revenue_Interval\"].astype(str)\n",
    "fig = px.bar(df_rev_song1, x=\"Revenue_Interval\", y=\"SongID\",\n",
    "             title=\"Number of songs in Revenue category\",\n",
    "             labels={\"Revenue_Interval\": \"Revenue\", \"SongID\": \"Number of Songs\"})\n",
    "fig.show() "
   ]
  },
  {
   "cell_type": "code",
   "execution_count": 135,
   "id": "6284c13b",
   "metadata": {
    "scrolled": true
   },
   "outputs": [
    {
     "data": {
      "application/vnd.plotly.v1+json": {
       "config": {
        "plotlyServerURL": "https://plot.ly"
       },
       "data": [
        {
         "hovertemplate": "Song ID=432<br>Year=%{x}<br>Revenue=%{y}<extra></extra>",
         "legendgroup": "432",
         "line": {
          "color": "#636efa",
          "dash": "solid"
         },
         "marker": {
          "symbol": "circle"
         },
         "mode": "lines",
         "name": "432",
         "orientation": "v",
         "showlegend": true,
         "type": "scatter",
         "x": [
          2015,
          2016,
          2017,
          2018,
          2019,
          2020,
          2021,
          2022,
          2023
         ],
         "xaxis": "x",
         "y": [
          67,
          1236,
          345,
          236,
          198,
          174,
          126,
          95,
          74
         ],
         "yaxis": "y"
        },
        {
         "hovertemplate": "Song ID=553<br>Year=%{x}<br>Revenue=%{y}<extra></extra>",
         "legendgroup": "553",
         "line": {
          "color": "#EF553B",
          "dash": "solid"
         },
         "marker": {
          "symbol": "circle"
         },
         "mode": "lines",
         "name": "553",
         "orientation": "v",
         "showlegend": true,
         "type": "scatter",
         "x": [
          2015,
          2016,
          2017,
          2018,
          2019,
          2020,
          2021,
          2022,
          2023
         ],
         "xaxis": "x",
         "y": [
          1231,
          344,
          249,
          208,
          151,
          116,
          100,
          82,
          66
         ],
         "yaxis": "y"
        },
        {
         "hovertemplate": "Song ID=861<br>Year=%{x}<br>Revenue=%{y}<extra></extra>",
         "legendgroup": "861",
         "line": {
          "color": "#00cc96",
          "dash": "solid"
         },
         "marker": {
          "symbol": "circle"
         },
         "mode": "lines",
         "name": "861",
         "orientation": "v",
         "showlegend": true,
         "type": "scatter",
         "x": [
          2015,
          2016,
          2017,
          2018,
          2019,
          2020,
          2021,
          2022,
          2023
         ],
         "xaxis": "x",
         "y": [
          76,
          1217,
          331,
          271,
          184,
          167,
          132,
          98,
          78
         ],
         "yaxis": "y"
        },
        {
         "hovertemplate": "Song ID=1975<br>Year=%{x}<br>Revenue=%{y}<extra></extra>",
         "legendgroup": "1975",
         "line": {
          "color": "#ab63fa",
          "dash": "solid"
         },
         "marker": {
          "symbol": "circle"
         },
         "mode": "lines",
         "name": "1975",
         "orientation": "v",
         "showlegend": true,
         "type": "scatter",
         "x": [
          2015,
          2016,
          2017,
          2018,
          2019,
          2020,
          2021,
          2022,
          2023
         ],
         "xaxis": "x",
         "y": [
          100,
          1248,
          313,
          261,
          192,
          162,
          126,
          106,
          75
         ],
         "yaxis": "y"
        },
        {
         "hovertemplate": "Song ID=2926<br>Year=%{x}<br>Revenue=%{y}<extra></extra>",
         "legendgroup": "2926",
         "line": {
          "color": "#FFA15A",
          "dash": "solid"
         },
         "marker": {
          "symbol": "circle"
         },
         "mode": "lines",
         "name": "2926",
         "orientation": "v",
         "showlegend": true,
         "type": "scatter",
         "x": [
          2015,
          2016,
          2017,
          2018,
          2019,
          2020,
          2021,
          2022,
          2023
         ],
         "xaxis": "x",
         "y": [
          98,
          1224,
          312,
          267,
          203,
          150,
          130,
          101,
          79
         ],
         "yaxis": "y"
        },
        {
         "hovertemplate": "Song ID=3331<br>Year=%{x}<br>Revenue=%{y}<extra></extra>",
         "legendgroup": "3331",
         "line": {
          "color": "#19d3f3",
          "dash": "solid"
         },
         "marker": {
          "symbol": "circle"
         },
         "mode": "lines",
         "name": "3331",
         "orientation": "v",
         "showlegend": true,
         "type": "scatter",
         "x": [
          2015,
          2016,
          2017,
          2018,
          2019,
          2020,
          2021,
          2022,
          2023
         ],
         "xaxis": "x",
         "y": [
          1190,
          349,
          270,
          206,
          161,
          125,
          101,
          81,
          66
         ],
         "yaxis": "y"
        },
        {
         "hovertemplate": "Song ID=3907<br>Year=%{x}<br>Revenue=%{y}<extra></extra>",
         "legendgroup": "3907",
         "line": {
          "color": "#FF6692",
          "dash": "solid"
         },
         "marker": {
          "symbol": "circle"
         },
         "mode": "lines",
         "name": "3907",
         "orientation": "v",
         "showlegend": true,
         "type": "scatter",
         "x": [
          2015,
          2016,
          2017,
          2018,
          2019,
          2020,
          2021,
          2022,
          2023
         ],
         "xaxis": "x",
         "y": [
          0,
          1304,
          337,
          242,
          213,
          151,
          122,
          106,
          79
         ],
         "yaxis": "y"
        },
        {
         "hovertemplate": "Song ID=5718<br>Year=%{x}<br>Revenue=%{y}<extra></extra>",
         "legendgroup": "5718",
         "line": {
          "color": "#B6E880",
          "dash": "solid"
         },
         "marker": {
          "symbol": "circle"
         },
         "mode": "lines",
         "name": "5718",
         "orientation": "v",
         "showlegend": true,
         "type": "scatter",
         "x": [
          2015,
          2016,
          2017,
          2018,
          2019,
          2020,
          2021,
          2022,
          2023
         ],
         "xaxis": "x",
         "y": [
          1253,
          302,
          248,
          213,
          165,
          132,
          95,
          78,
          62
         ],
         "yaxis": "y"
        },
        {
         "hovertemplate": "Song ID=5941<br>Year=%{x}<br>Revenue=%{y}<extra></extra>",
         "legendgroup": "5941",
         "line": {
          "color": "#FF97FF",
          "dash": "solid"
         },
         "marker": {
          "symbol": "circle"
         },
         "mode": "lines",
         "name": "5941",
         "orientation": "v",
         "showlegend": true,
         "type": "scatter",
         "x": [
          2015,
          2016,
          2017,
          2018,
          2019,
          2020,
          2021,
          2022,
          2023
         ],
         "xaxis": "x",
         "y": [
          0,
          1300,
          340,
          262,
          203,
          163,
          129,
          100,
          80
         ],
         "yaxis": "y"
        },
        {
         "hovertemplate": "Song ID=6075<br>Year=%{x}<br>Revenue=%{y}<extra></extra>",
         "legendgroup": "6075",
         "line": {
          "color": "#FECB52",
          "dash": "solid"
         },
         "marker": {
          "symbol": "circle"
         },
         "mode": "lines",
         "name": "6075",
         "orientation": "v",
         "showlegend": true,
         "type": "scatter",
         "x": [
          2015,
          2016,
          2017,
          2018,
          2019,
          2020,
          2021,
          2022,
          2023
         ],
         "xaxis": "x",
         "y": [
          59,
          1270,
          326,
          264,
          213,
          158,
          126,
          97,
          80
         ],
         "yaxis": "y"
        }
       ],
       "layout": {
        "legend": {
         "title": {
          "text": "Song ID"
         },
         "tracegroupgap": 0
        },
        "template": {
         "data": {
          "bar": [
           {
            "error_x": {
             "color": "#2a3f5f"
            },
            "error_y": {
             "color": "#2a3f5f"
            },
            "marker": {
             "line": {
              "color": "#E5ECF6",
              "width": 0.5
             },
             "pattern": {
              "fillmode": "overlay",
              "size": 10,
              "solidity": 0.2
             }
            },
            "type": "bar"
           }
          ],
          "barpolar": [
           {
            "marker": {
             "line": {
              "color": "#E5ECF6",
              "width": 0.5
             },
             "pattern": {
              "fillmode": "overlay",
              "size": 10,
              "solidity": 0.2
             }
            },
            "type": "barpolar"
           }
          ],
          "carpet": [
           {
            "aaxis": {
             "endlinecolor": "#2a3f5f",
             "gridcolor": "white",
             "linecolor": "white",
             "minorgridcolor": "white",
             "startlinecolor": "#2a3f5f"
            },
            "baxis": {
             "endlinecolor": "#2a3f5f",
             "gridcolor": "white",
             "linecolor": "white",
             "minorgridcolor": "white",
             "startlinecolor": "#2a3f5f"
            },
            "type": "carpet"
           }
          ],
          "choropleth": [
           {
            "colorbar": {
             "outlinewidth": 0,
             "ticks": ""
            },
            "type": "choropleth"
           }
          ],
          "contour": [
           {
            "colorbar": {
             "outlinewidth": 0,
             "ticks": ""
            },
            "colorscale": [
             [
              0,
              "#0d0887"
             ],
             [
              0.1111111111111111,
              "#46039f"
             ],
             [
              0.2222222222222222,
              "#7201a8"
             ],
             [
              0.3333333333333333,
              "#9c179e"
             ],
             [
              0.4444444444444444,
              "#bd3786"
             ],
             [
              0.5555555555555556,
              "#d8576b"
             ],
             [
              0.6666666666666666,
              "#ed7953"
             ],
             [
              0.7777777777777778,
              "#fb9f3a"
             ],
             [
              0.8888888888888888,
              "#fdca26"
             ],
             [
              1,
              "#f0f921"
             ]
            ],
            "type": "contour"
           }
          ],
          "contourcarpet": [
           {
            "colorbar": {
             "outlinewidth": 0,
             "ticks": ""
            },
            "type": "contourcarpet"
           }
          ],
          "heatmap": [
           {
            "colorbar": {
             "outlinewidth": 0,
             "ticks": ""
            },
            "colorscale": [
             [
              0,
              "#0d0887"
             ],
             [
              0.1111111111111111,
              "#46039f"
             ],
             [
              0.2222222222222222,
              "#7201a8"
             ],
             [
              0.3333333333333333,
              "#9c179e"
             ],
             [
              0.4444444444444444,
              "#bd3786"
             ],
             [
              0.5555555555555556,
              "#d8576b"
             ],
             [
              0.6666666666666666,
              "#ed7953"
             ],
             [
              0.7777777777777778,
              "#fb9f3a"
             ],
             [
              0.8888888888888888,
              "#fdca26"
             ],
             [
              1,
              "#f0f921"
             ]
            ],
            "type": "heatmap"
           }
          ],
          "heatmapgl": [
           {
            "colorbar": {
             "outlinewidth": 0,
             "ticks": ""
            },
            "colorscale": [
             [
              0,
              "#0d0887"
             ],
             [
              0.1111111111111111,
              "#46039f"
             ],
             [
              0.2222222222222222,
              "#7201a8"
             ],
             [
              0.3333333333333333,
              "#9c179e"
             ],
             [
              0.4444444444444444,
              "#bd3786"
             ],
             [
              0.5555555555555556,
              "#d8576b"
             ],
             [
              0.6666666666666666,
              "#ed7953"
             ],
             [
              0.7777777777777778,
              "#fb9f3a"
             ],
             [
              0.8888888888888888,
              "#fdca26"
             ],
             [
              1,
              "#f0f921"
             ]
            ],
            "type": "heatmapgl"
           }
          ],
          "histogram": [
           {
            "marker": {
             "pattern": {
              "fillmode": "overlay",
              "size": 10,
              "solidity": 0.2
             }
            },
            "type": "histogram"
           }
          ],
          "histogram2d": [
           {
            "colorbar": {
             "outlinewidth": 0,
             "ticks": ""
            },
            "colorscale": [
             [
              0,
              "#0d0887"
             ],
             [
              0.1111111111111111,
              "#46039f"
             ],
             [
              0.2222222222222222,
              "#7201a8"
             ],
             [
              0.3333333333333333,
              "#9c179e"
             ],
             [
              0.4444444444444444,
              "#bd3786"
             ],
             [
              0.5555555555555556,
              "#d8576b"
             ],
             [
              0.6666666666666666,
              "#ed7953"
             ],
             [
              0.7777777777777778,
              "#fb9f3a"
             ],
             [
              0.8888888888888888,
              "#fdca26"
             ],
             [
              1,
              "#f0f921"
             ]
            ],
            "type": "histogram2d"
           }
          ],
          "histogram2dcontour": [
           {
            "colorbar": {
             "outlinewidth": 0,
             "ticks": ""
            },
            "colorscale": [
             [
              0,
              "#0d0887"
             ],
             [
              0.1111111111111111,
              "#46039f"
             ],
             [
              0.2222222222222222,
              "#7201a8"
             ],
             [
              0.3333333333333333,
              "#9c179e"
             ],
             [
              0.4444444444444444,
              "#bd3786"
             ],
             [
              0.5555555555555556,
              "#d8576b"
             ],
             [
              0.6666666666666666,
              "#ed7953"
             ],
             [
              0.7777777777777778,
              "#fb9f3a"
             ],
             [
              0.8888888888888888,
              "#fdca26"
             ],
             [
              1,
              "#f0f921"
             ]
            ],
            "type": "histogram2dcontour"
           }
          ],
          "mesh3d": [
           {
            "colorbar": {
             "outlinewidth": 0,
             "ticks": ""
            },
            "type": "mesh3d"
           }
          ],
          "parcoords": [
           {
            "line": {
             "colorbar": {
              "outlinewidth": 0,
              "ticks": ""
             }
            },
            "type": "parcoords"
           }
          ],
          "pie": [
           {
            "automargin": true,
            "type": "pie"
           }
          ],
          "scatter": [
           {
            "marker": {
             "colorbar": {
              "outlinewidth": 0,
              "ticks": ""
             }
            },
            "type": "scatter"
           }
          ],
          "scatter3d": [
           {
            "line": {
             "colorbar": {
              "outlinewidth": 0,
              "ticks": ""
             }
            },
            "marker": {
             "colorbar": {
              "outlinewidth": 0,
              "ticks": ""
             }
            },
            "type": "scatter3d"
           }
          ],
          "scattercarpet": [
           {
            "marker": {
             "colorbar": {
              "outlinewidth": 0,
              "ticks": ""
             }
            },
            "type": "scattercarpet"
           }
          ],
          "scattergeo": [
           {
            "marker": {
             "colorbar": {
              "outlinewidth": 0,
              "ticks": ""
             }
            },
            "type": "scattergeo"
           }
          ],
          "scattergl": [
           {
            "marker": {
             "colorbar": {
              "outlinewidth": 0,
              "ticks": ""
             }
            },
            "type": "scattergl"
           }
          ],
          "scattermapbox": [
           {
            "marker": {
             "colorbar": {
              "outlinewidth": 0,
              "ticks": ""
             }
            },
            "type": "scattermapbox"
           }
          ],
          "scatterpolar": [
           {
            "marker": {
             "colorbar": {
              "outlinewidth": 0,
              "ticks": ""
             }
            },
            "type": "scatterpolar"
           }
          ],
          "scatterpolargl": [
           {
            "marker": {
             "colorbar": {
              "outlinewidth": 0,
              "ticks": ""
             }
            },
            "type": "scatterpolargl"
           }
          ],
          "scatterternary": [
           {
            "marker": {
             "colorbar": {
              "outlinewidth": 0,
              "ticks": ""
             }
            },
            "type": "scatterternary"
           }
          ],
          "surface": [
           {
            "colorbar": {
             "outlinewidth": 0,
             "ticks": ""
            },
            "colorscale": [
             [
              0,
              "#0d0887"
             ],
             [
              0.1111111111111111,
              "#46039f"
             ],
             [
              0.2222222222222222,
              "#7201a8"
             ],
             [
              0.3333333333333333,
              "#9c179e"
             ],
             [
              0.4444444444444444,
              "#bd3786"
             ],
             [
              0.5555555555555556,
              "#d8576b"
             ],
             [
              0.6666666666666666,
              "#ed7953"
             ],
             [
              0.7777777777777778,
              "#fb9f3a"
             ],
             [
              0.8888888888888888,
              "#fdca26"
             ],
             [
              1,
              "#f0f921"
             ]
            ],
            "type": "surface"
           }
          ],
          "table": [
           {
            "cells": {
             "fill": {
              "color": "#EBF0F8"
             },
             "line": {
              "color": "white"
             }
            },
            "header": {
             "fill": {
              "color": "#C8D4E3"
             },
             "line": {
              "color": "white"
             }
            },
            "type": "table"
           }
          ]
         },
         "layout": {
          "annotationdefaults": {
           "arrowcolor": "#2a3f5f",
           "arrowhead": 0,
           "arrowwidth": 1
          },
          "autotypenumbers": "strict",
          "coloraxis": {
           "colorbar": {
            "outlinewidth": 0,
            "ticks": ""
           }
          },
          "colorscale": {
           "diverging": [
            [
             0,
             "#8e0152"
            ],
            [
             0.1,
             "#c51b7d"
            ],
            [
             0.2,
             "#de77ae"
            ],
            [
             0.3,
             "#f1b6da"
            ],
            [
             0.4,
             "#fde0ef"
            ],
            [
             0.5,
             "#f7f7f7"
            ],
            [
             0.6,
             "#e6f5d0"
            ],
            [
             0.7,
             "#b8e186"
            ],
            [
             0.8,
             "#7fbc41"
            ],
            [
             0.9,
             "#4d9221"
            ],
            [
             1,
             "#276419"
            ]
           ],
           "sequential": [
            [
             0,
             "#0d0887"
            ],
            [
             0.1111111111111111,
             "#46039f"
            ],
            [
             0.2222222222222222,
             "#7201a8"
            ],
            [
             0.3333333333333333,
             "#9c179e"
            ],
            [
             0.4444444444444444,
             "#bd3786"
            ],
            [
             0.5555555555555556,
             "#d8576b"
            ],
            [
             0.6666666666666666,
             "#ed7953"
            ],
            [
             0.7777777777777778,
             "#fb9f3a"
            ],
            [
             0.8888888888888888,
             "#fdca26"
            ],
            [
             1,
             "#f0f921"
            ]
           ],
           "sequentialminus": [
            [
             0,
             "#0d0887"
            ],
            [
             0.1111111111111111,
             "#46039f"
            ],
            [
             0.2222222222222222,
             "#7201a8"
            ],
            [
             0.3333333333333333,
             "#9c179e"
            ],
            [
             0.4444444444444444,
             "#bd3786"
            ],
            [
             0.5555555555555556,
             "#d8576b"
            ],
            [
             0.6666666666666666,
             "#ed7953"
            ],
            [
             0.7777777777777778,
             "#fb9f3a"
            ],
            [
             0.8888888888888888,
             "#fdca26"
            ],
            [
             1,
             "#f0f921"
            ]
           ]
          },
          "colorway": [
           "#636efa",
           "#EF553B",
           "#00cc96",
           "#ab63fa",
           "#FFA15A",
           "#19d3f3",
           "#FF6692",
           "#B6E880",
           "#FF97FF",
           "#FECB52"
          ],
          "font": {
           "color": "#2a3f5f"
          },
          "geo": {
           "bgcolor": "white",
           "lakecolor": "white",
           "landcolor": "#E5ECF6",
           "showlakes": true,
           "showland": true,
           "subunitcolor": "white"
          },
          "hoverlabel": {
           "align": "left"
          },
          "hovermode": "closest",
          "mapbox": {
           "style": "light"
          },
          "paper_bgcolor": "white",
          "plot_bgcolor": "#E5ECF6",
          "polar": {
           "angularaxis": {
            "gridcolor": "white",
            "linecolor": "white",
            "ticks": ""
           },
           "bgcolor": "#E5ECF6",
           "radialaxis": {
            "gridcolor": "white",
            "linecolor": "white",
            "ticks": ""
           }
          },
          "scene": {
           "xaxis": {
            "backgroundcolor": "#E5ECF6",
            "gridcolor": "white",
            "gridwidth": 2,
            "linecolor": "white",
            "showbackground": true,
            "ticks": "",
            "zerolinecolor": "white"
           },
           "yaxis": {
            "backgroundcolor": "#E5ECF6",
            "gridcolor": "white",
            "gridwidth": 2,
            "linecolor": "white",
            "showbackground": true,
            "ticks": "",
            "zerolinecolor": "white"
           },
           "zaxis": {
            "backgroundcolor": "#E5ECF6",
            "gridcolor": "white",
            "gridwidth": 2,
            "linecolor": "white",
            "showbackground": true,
            "ticks": "",
            "zerolinecolor": "white"
           }
          },
          "shapedefaults": {
           "line": {
            "color": "#2a3f5f"
           }
          },
          "ternary": {
           "aaxis": {
            "gridcolor": "white",
            "linecolor": "white",
            "ticks": ""
           },
           "baxis": {
            "gridcolor": "white",
            "linecolor": "white",
            "ticks": ""
           },
           "bgcolor": "#E5ECF6",
           "caxis": {
            "gridcolor": "white",
            "linecolor": "white",
            "ticks": ""
           }
          },
          "title": {
           "x": 0.05
          },
          "xaxis": {
           "automargin": true,
           "gridcolor": "white",
           "linecolor": "white",
           "ticks": "",
           "title": {
            "standoff": 15
           },
           "zerolinecolor": "white",
           "zerolinewidth": 2
          },
          "yaxis": {
           "automargin": true,
           "gridcolor": "white",
           "linecolor": "white",
           "ticks": "",
           "title": {
            "standoff": 15
           },
           "zerolinecolor": "white",
           "zerolinewidth": 2
          }
         }
        },
        "title": {
         "text": "Song performance"
        },
        "xaxis": {
         "anchor": "y",
         "domain": [
          0,
          1
         ],
         "title": {
          "text": "Year"
         }
        },
        "yaxis": {
         "anchor": "x",
         "domain": [
          0,
          1
         ],
         "title": {
          "text": "Revenue"
         }
        }
       }
      },
      "text/html": [
       "<div>                            <div id=\"d5c2be77-8baf-423e-af96-7201d4865fd4\" class=\"plotly-graph-div\" style=\"height:525px; width:100%;\"></div>            <script type=\"text/javascript\">                require([\"plotly\"], function(Plotly) {                    window.PLOTLYENV=window.PLOTLYENV || {};                                    if (document.getElementById(\"d5c2be77-8baf-423e-af96-7201d4865fd4\")) {                    Plotly.newPlot(                        \"d5c2be77-8baf-423e-af96-7201d4865fd4\",                        [{\"hovertemplate\":\"Song ID=432<br>Year=%{x}<br>Revenue=%{y}<extra></extra>\",\"legendgroup\":\"432\",\"line\":{\"color\":\"#636efa\",\"dash\":\"solid\"},\"marker\":{\"symbol\":\"circle\"},\"mode\":\"lines\",\"name\":\"432\",\"orientation\":\"v\",\"showlegend\":true,\"type\":\"scatter\",\"x\":[2015,2016,2017,2018,2019,2020,2021,2022,2023],\"xaxis\":\"x\",\"y\":[67,1236,345,236,198,174,126,95,74],\"yaxis\":\"y\"},{\"hovertemplate\":\"Song ID=553<br>Year=%{x}<br>Revenue=%{y}<extra></extra>\",\"legendgroup\":\"553\",\"line\":{\"color\":\"#EF553B\",\"dash\":\"solid\"},\"marker\":{\"symbol\":\"circle\"},\"mode\":\"lines\",\"name\":\"553\",\"orientation\":\"v\",\"showlegend\":true,\"type\":\"scatter\",\"x\":[2015,2016,2017,2018,2019,2020,2021,2022,2023],\"xaxis\":\"x\",\"y\":[1231,344,249,208,151,116,100,82,66],\"yaxis\":\"y\"},{\"hovertemplate\":\"Song ID=861<br>Year=%{x}<br>Revenue=%{y}<extra></extra>\",\"legendgroup\":\"861\",\"line\":{\"color\":\"#00cc96\",\"dash\":\"solid\"},\"marker\":{\"symbol\":\"circle\"},\"mode\":\"lines\",\"name\":\"861\",\"orientation\":\"v\",\"showlegend\":true,\"type\":\"scatter\",\"x\":[2015,2016,2017,2018,2019,2020,2021,2022,2023],\"xaxis\":\"x\",\"y\":[76,1217,331,271,184,167,132,98,78],\"yaxis\":\"y\"},{\"hovertemplate\":\"Song ID=1975<br>Year=%{x}<br>Revenue=%{y}<extra></extra>\",\"legendgroup\":\"1975\",\"line\":{\"color\":\"#ab63fa\",\"dash\":\"solid\"},\"marker\":{\"symbol\":\"circle\"},\"mode\":\"lines\",\"name\":\"1975\",\"orientation\":\"v\",\"showlegend\":true,\"type\":\"scatter\",\"x\":[2015,2016,2017,2018,2019,2020,2021,2022,2023],\"xaxis\":\"x\",\"y\":[100,1248,313,261,192,162,126,106,75],\"yaxis\":\"y\"},{\"hovertemplate\":\"Song ID=2926<br>Year=%{x}<br>Revenue=%{y}<extra></extra>\",\"legendgroup\":\"2926\",\"line\":{\"color\":\"#FFA15A\",\"dash\":\"solid\"},\"marker\":{\"symbol\":\"circle\"},\"mode\":\"lines\",\"name\":\"2926\",\"orientation\":\"v\",\"showlegend\":true,\"type\":\"scatter\",\"x\":[2015,2016,2017,2018,2019,2020,2021,2022,2023],\"xaxis\":\"x\",\"y\":[98,1224,312,267,203,150,130,101,79],\"yaxis\":\"y\"},{\"hovertemplate\":\"Song ID=3331<br>Year=%{x}<br>Revenue=%{y}<extra></extra>\",\"legendgroup\":\"3331\",\"line\":{\"color\":\"#19d3f3\",\"dash\":\"solid\"},\"marker\":{\"symbol\":\"circle\"},\"mode\":\"lines\",\"name\":\"3331\",\"orientation\":\"v\",\"showlegend\":true,\"type\":\"scatter\",\"x\":[2015,2016,2017,2018,2019,2020,2021,2022,2023],\"xaxis\":\"x\",\"y\":[1190,349,270,206,161,125,101,81,66],\"yaxis\":\"y\"},{\"hovertemplate\":\"Song ID=3907<br>Year=%{x}<br>Revenue=%{y}<extra></extra>\",\"legendgroup\":\"3907\",\"line\":{\"color\":\"#FF6692\",\"dash\":\"solid\"},\"marker\":{\"symbol\":\"circle\"},\"mode\":\"lines\",\"name\":\"3907\",\"orientation\":\"v\",\"showlegend\":true,\"type\":\"scatter\",\"x\":[2015,2016,2017,2018,2019,2020,2021,2022,2023],\"xaxis\":\"x\",\"y\":[0,1304,337,242,213,151,122,106,79],\"yaxis\":\"y\"},{\"hovertemplate\":\"Song ID=5718<br>Year=%{x}<br>Revenue=%{y}<extra></extra>\",\"legendgroup\":\"5718\",\"line\":{\"color\":\"#B6E880\",\"dash\":\"solid\"},\"marker\":{\"symbol\":\"circle\"},\"mode\":\"lines\",\"name\":\"5718\",\"orientation\":\"v\",\"showlegend\":true,\"type\":\"scatter\",\"x\":[2015,2016,2017,2018,2019,2020,2021,2022,2023],\"xaxis\":\"x\",\"y\":[1253,302,248,213,165,132,95,78,62],\"yaxis\":\"y\"},{\"hovertemplate\":\"Song ID=5941<br>Year=%{x}<br>Revenue=%{y}<extra></extra>\",\"legendgroup\":\"5941\",\"line\":{\"color\":\"#FF97FF\",\"dash\":\"solid\"},\"marker\":{\"symbol\":\"circle\"},\"mode\":\"lines\",\"name\":\"5941\",\"orientation\":\"v\",\"showlegend\":true,\"type\":\"scatter\",\"x\":[2015,2016,2017,2018,2019,2020,2021,2022,2023],\"xaxis\":\"x\",\"y\":[0,1300,340,262,203,163,129,100,80],\"yaxis\":\"y\"},{\"hovertemplate\":\"Song ID=6075<br>Year=%{x}<br>Revenue=%{y}<extra></extra>\",\"legendgroup\":\"6075\",\"line\":{\"color\":\"#FECB52\",\"dash\":\"solid\"},\"marker\":{\"symbol\":\"circle\"},\"mode\":\"lines\",\"name\":\"6075\",\"orientation\":\"v\",\"showlegend\":true,\"type\":\"scatter\",\"x\":[2015,2016,2017,2018,2019,2020,2021,2022,2023],\"xaxis\":\"x\",\"y\":[59,1270,326,264,213,158,126,97,80],\"yaxis\":\"y\"}],                        {\"legend\":{\"title\":{\"text\":\"Song ID\"},\"tracegroupgap\":0},\"template\":{\"data\":{\"bar\":[{\"error_x\":{\"color\":\"#2a3f5f\"},\"error_y\":{\"color\":\"#2a3f5f\"},\"marker\":{\"line\":{\"color\":\"#E5ECF6\",\"width\":0.5},\"pattern\":{\"fillmode\":\"overlay\",\"size\":10,\"solidity\":0.2}},\"type\":\"bar\"}],\"barpolar\":[{\"marker\":{\"line\":{\"color\":\"#E5ECF6\",\"width\":0.5},\"pattern\":{\"fillmode\":\"overlay\",\"size\":10,\"solidity\":0.2}},\"type\":\"barpolar\"}],\"carpet\":[{\"aaxis\":{\"endlinecolor\":\"#2a3f5f\",\"gridcolor\":\"white\",\"linecolor\":\"white\",\"minorgridcolor\":\"white\",\"startlinecolor\":\"#2a3f5f\"},\"baxis\":{\"endlinecolor\":\"#2a3f5f\",\"gridcolor\":\"white\",\"linecolor\":\"white\",\"minorgridcolor\":\"white\",\"startlinecolor\":\"#2a3f5f\"},\"type\":\"carpet\"}],\"choropleth\":[{\"colorbar\":{\"outlinewidth\":0,\"ticks\":\"\"},\"type\":\"choropleth\"}],\"contour\":[{\"colorbar\":{\"outlinewidth\":0,\"ticks\":\"\"},\"colorscale\":[[0.0,\"#0d0887\"],[0.1111111111111111,\"#46039f\"],[0.2222222222222222,\"#7201a8\"],[0.3333333333333333,\"#9c179e\"],[0.4444444444444444,\"#bd3786\"],[0.5555555555555556,\"#d8576b\"],[0.6666666666666666,\"#ed7953\"],[0.7777777777777778,\"#fb9f3a\"],[0.8888888888888888,\"#fdca26\"],[1.0,\"#f0f921\"]],\"type\":\"contour\"}],\"contourcarpet\":[{\"colorbar\":{\"outlinewidth\":0,\"ticks\":\"\"},\"type\":\"contourcarpet\"}],\"heatmap\":[{\"colorbar\":{\"outlinewidth\":0,\"ticks\":\"\"},\"colorscale\":[[0.0,\"#0d0887\"],[0.1111111111111111,\"#46039f\"],[0.2222222222222222,\"#7201a8\"],[0.3333333333333333,\"#9c179e\"],[0.4444444444444444,\"#bd3786\"],[0.5555555555555556,\"#d8576b\"],[0.6666666666666666,\"#ed7953\"],[0.7777777777777778,\"#fb9f3a\"],[0.8888888888888888,\"#fdca26\"],[1.0,\"#f0f921\"]],\"type\":\"heatmap\"}],\"heatmapgl\":[{\"colorbar\":{\"outlinewidth\":0,\"ticks\":\"\"},\"colorscale\":[[0.0,\"#0d0887\"],[0.1111111111111111,\"#46039f\"],[0.2222222222222222,\"#7201a8\"],[0.3333333333333333,\"#9c179e\"],[0.4444444444444444,\"#bd3786\"],[0.5555555555555556,\"#d8576b\"],[0.6666666666666666,\"#ed7953\"],[0.7777777777777778,\"#fb9f3a\"],[0.8888888888888888,\"#fdca26\"],[1.0,\"#f0f921\"]],\"type\":\"heatmapgl\"}],\"histogram\":[{\"marker\":{\"pattern\":{\"fillmode\":\"overlay\",\"size\":10,\"solidity\":0.2}},\"type\":\"histogram\"}],\"histogram2d\":[{\"colorbar\":{\"outlinewidth\":0,\"ticks\":\"\"},\"colorscale\":[[0.0,\"#0d0887\"],[0.1111111111111111,\"#46039f\"],[0.2222222222222222,\"#7201a8\"],[0.3333333333333333,\"#9c179e\"],[0.4444444444444444,\"#bd3786\"],[0.5555555555555556,\"#d8576b\"],[0.6666666666666666,\"#ed7953\"],[0.7777777777777778,\"#fb9f3a\"],[0.8888888888888888,\"#fdca26\"],[1.0,\"#f0f921\"]],\"type\":\"histogram2d\"}],\"histogram2dcontour\":[{\"colorbar\":{\"outlinewidth\":0,\"ticks\":\"\"},\"colorscale\":[[0.0,\"#0d0887\"],[0.1111111111111111,\"#46039f\"],[0.2222222222222222,\"#7201a8\"],[0.3333333333333333,\"#9c179e\"],[0.4444444444444444,\"#bd3786\"],[0.5555555555555556,\"#d8576b\"],[0.6666666666666666,\"#ed7953\"],[0.7777777777777778,\"#fb9f3a\"],[0.8888888888888888,\"#fdca26\"],[1.0,\"#f0f921\"]],\"type\":\"histogram2dcontour\"}],\"mesh3d\":[{\"colorbar\":{\"outlinewidth\":0,\"ticks\":\"\"},\"type\":\"mesh3d\"}],\"parcoords\":[{\"line\":{\"colorbar\":{\"outlinewidth\":0,\"ticks\":\"\"}},\"type\":\"parcoords\"}],\"pie\":[{\"automargin\":true,\"type\":\"pie\"}],\"scatter\":[{\"marker\":{\"colorbar\":{\"outlinewidth\":0,\"ticks\":\"\"}},\"type\":\"scatter\"}],\"scatter3d\":[{\"line\":{\"colorbar\":{\"outlinewidth\":0,\"ticks\":\"\"}},\"marker\":{\"colorbar\":{\"outlinewidth\":0,\"ticks\":\"\"}},\"type\":\"scatter3d\"}],\"scattercarpet\":[{\"marker\":{\"colorbar\":{\"outlinewidth\":0,\"ticks\":\"\"}},\"type\":\"scattercarpet\"}],\"scattergeo\":[{\"marker\":{\"colorbar\":{\"outlinewidth\":0,\"ticks\":\"\"}},\"type\":\"scattergeo\"}],\"scattergl\":[{\"marker\":{\"colorbar\":{\"outlinewidth\":0,\"ticks\":\"\"}},\"type\":\"scattergl\"}],\"scattermapbox\":[{\"marker\":{\"colorbar\":{\"outlinewidth\":0,\"ticks\":\"\"}},\"type\":\"scattermapbox\"}],\"scatterpolar\":[{\"marker\":{\"colorbar\":{\"outlinewidth\":0,\"ticks\":\"\"}},\"type\":\"scatterpolar\"}],\"scatterpolargl\":[{\"marker\":{\"colorbar\":{\"outlinewidth\":0,\"ticks\":\"\"}},\"type\":\"scatterpolargl\"}],\"scatterternary\":[{\"marker\":{\"colorbar\":{\"outlinewidth\":0,\"ticks\":\"\"}},\"type\":\"scatterternary\"}],\"surface\":[{\"colorbar\":{\"outlinewidth\":0,\"ticks\":\"\"},\"colorscale\":[[0.0,\"#0d0887\"],[0.1111111111111111,\"#46039f\"],[0.2222222222222222,\"#7201a8\"],[0.3333333333333333,\"#9c179e\"],[0.4444444444444444,\"#bd3786\"],[0.5555555555555556,\"#d8576b\"],[0.6666666666666666,\"#ed7953\"],[0.7777777777777778,\"#fb9f3a\"],[0.8888888888888888,\"#fdca26\"],[1.0,\"#f0f921\"]],\"type\":\"surface\"}],\"table\":[{\"cells\":{\"fill\":{\"color\":\"#EBF0F8\"},\"line\":{\"color\":\"white\"}},\"header\":{\"fill\":{\"color\":\"#C8D4E3\"},\"line\":{\"color\":\"white\"}},\"type\":\"table\"}]},\"layout\":{\"annotationdefaults\":{\"arrowcolor\":\"#2a3f5f\",\"arrowhead\":0,\"arrowwidth\":1},\"autotypenumbers\":\"strict\",\"coloraxis\":{\"colorbar\":{\"outlinewidth\":0,\"ticks\":\"\"}},\"colorscale\":{\"diverging\":[[0,\"#8e0152\"],[0.1,\"#c51b7d\"],[0.2,\"#de77ae\"],[0.3,\"#f1b6da\"],[0.4,\"#fde0ef\"],[0.5,\"#f7f7f7\"],[0.6,\"#e6f5d0\"],[0.7,\"#b8e186\"],[0.8,\"#7fbc41\"],[0.9,\"#4d9221\"],[1,\"#276419\"]],\"sequential\":[[0.0,\"#0d0887\"],[0.1111111111111111,\"#46039f\"],[0.2222222222222222,\"#7201a8\"],[0.3333333333333333,\"#9c179e\"],[0.4444444444444444,\"#bd3786\"],[0.5555555555555556,\"#d8576b\"],[0.6666666666666666,\"#ed7953\"],[0.7777777777777778,\"#fb9f3a\"],[0.8888888888888888,\"#fdca26\"],[1.0,\"#f0f921\"]],\"sequentialminus\":[[0.0,\"#0d0887\"],[0.1111111111111111,\"#46039f\"],[0.2222222222222222,\"#7201a8\"],[0.3333333333333333,\"#9c179e\"],[0.4444444444444444,\"#bd3786\"],[0.5555555555555556,\"#d8576b\"],[0.6666666666666666,\"#ed7953\"],[0.7777777777777778,\"#fb9f3a\"],[0.8888888888888888,\"#fdca26\"],[1.0,\"#f0f921\"]]},\"colorway\":[\"#636efa\",\"#EF553B\",\"#00cc96\",\"#ab63fa\",\"#FFA15A\",\"#19d3f3\",\"#FF6692\",\"#B6E880\",\"#FF97FF\",\"#FECB52\"],\"font\":{\"color\":\"#2a3f5f\"},\"geo\":{\"bgcolor\":\"white\",\"lakecolor\":\"white\",\"landcolor\":\"#E5ECF6\",\"showlakes\":true,\"showland\":true,\"subunitcolor\":\"white\"},\"hoverlabel\":{\"align\":\"left\"},\"hovermode\":\"closest\",\"mapbox\":{\"style\":\"light\"},\"paper_bgcolor\":\"white\",\"plot_bgcolor\":\"#E5ECF6\",\"polar\":{\"angularaxis\":{\"gridcolor\":\"white\",\"linecolor\":\"white\",\"ticks\":\"\"},\"bgcolor\":\"#E5ECF6\",\"radialaxis\":{\"gridcolor\":\"white\",\"linecolor\":\"white\",\"ticks\":\"\"}},\"scene\":{\"xaxis\":{\"backgroundcolor\":\"#E5ECF6\",\"gridcolor\":\"white\",\"gridwidth\":2,\"linecolor\":\"white\",\"showbackground\":true,\"ticks\":\"\",\"zerolinecolor\":\"white\"},\"yaxis\":{\"backgroundcolor\":\"#E5ECF6\",\"gridcolor\":\"white\",\"gridwidth\":2,\"linecolor\":\"white\",\"showbackground\":true,\"ticks\":\"\",\"zerolinecolor\":\"white\"},\"zaxis\":{\"backgroundcolor\":\"#E5ECF6\",\"gridcolor\":\"white\",\"gridwidth\":2,\"linecolor\":\"white\",\"showbackground\":true,\"ticks\":\"\",\"zerolinecolor\":\"white\"}},\"shapedefaults\":{\"line\":{\"color\":\"#2a3f5f\"}},\"ternary\":{\"aaxis\":{\"gridcolor\":\"white\",\"linecolor\":\"white\",\"ticks\":\"\"},\"baxis\":{\"gridcolor\":\"white\",\"linecolor\":\"white\",\"ticks\":\"\"},\"bgcolor\":\"#E5ECF6\",\"caxis\":{\"gridcolor\":\"white\",\"linecolor\":\"white\",\"ticks\":\"\"}},\"title\":{\"x\":0.05},\"xaxis\":{\"automargin\":true,\"gridcolor\":\"white\",\"linecolor\":\"white\",\"ticks\":\"\",\"title\":{\"standoff\":15},\"zerolinecolor\":\"white\",\"zerolinewidth\":2},\"yaxis\":{\"automargin\":true,\"gridcolor\":\"white\",\"linecolor\":\"white\",\"ticks\":\"\",\"title\":{\"standoff\":15},\"zerolinecolor\":\"white\",\"zerolinewidth\":2}}},\"title\":{\"text\":\"Song performance\"},\"xaxis\":{\"anchor\":\"y\",\"domain\":[0.0,1.0],\"title\":{\"text\":\"Year\"}},\"yaxis\":{\"anchor\":\"x\",\"domain\":[0.0,1.0],\"title\":{\"text\":\"Revenue\"}}},                        {\"responsive\": true}                    ).then(function(){\n",
       "                            \n",
       "var gd = document.getElementById('d5c2be77-8baf-423e-af96-7201d4865fd4');\n",
       "var x = new MutationObserver(function (mutations, observer) {{\n",
       "        var display = window.getComputedStyle(gd).display;\n",
       "        if (!display || display === 'none') {{\n",
       "            console.log([gd, 'removed!']);\n",
       "            Plotly.purge(gd);\n",
       "            observer.disconnect();\n",
       "        }}\n",
       "}});\n",
       "\n",
       "// Listen for the removal of the full notebook cells\n",
       "var notebookContainer = gd.closest('#notebook-container');\n",
       "if (notebookContainer) {{\n",
       "    x.observe(notebookContainer, {childList: true});\n",
       "}}\n",
       "\n",
       "// Listen for the clearing of the current output cell\n",
       "var outputEl = gd.closest('.output');\n",
       "if (outputEl) {{\n",
       "    x.observe(outputEl, {childList: true});\n",
       "}}\n",
       "\n",
       "                        })                };                });            </script>        </div>"
      ]
     },
     "metadata": {},
     "output_type": "display_data"
    }
   ],
   "source": [
    "##Trajectory of top 10 songs over time\n",
    "rev_per_song10=df3.groupby('SongID')['Revenue'].sum().sort_values(ascending=False).iloc[:10].index\n",
    "rev_top10_songs=list(rev_per_song10)\n",
    "df_song_year = pd.DataFrame(df3.groupby([\"SongID\",\"Year\"])[\"Revenue\"].sum())\n",
    "df_song_year.reset_index(inplace = True)\n",
    "df_top10_song_year = df_song_year[df_song_year[\"SongID\"].isin(rev_top10_songs)]\n",
    "\n",
    "fig = px.line(df_top10_song_year, x = \"Year\", y =\"Revenue\", color = \"SongID\",\n",
    "              title = \"Song performance\",\n",
    "            labels={'Revenue': 'Revenue', 'SongID': 'Song ID'})\n",
    "fig.show()"
   ]
  },
  {
   "cell_type": "markdown",
   "id": "317297f1",
   "metadata": {},
   "source": [
    "We observe that song performance declines over time. Here we see sharp spike in few songs then decline afterwards which may be attributed to data inconsistency."
   ]
  },
  {
   "cell_type": "code",
   "execution_count": 86,
   "id": "532c9b88",
   "metadata": {},
   "outputs": [
    {
     "name": "stderr",
     "output_type": "stream",
     "text": [
      "<ipython-input-86-52543ff01f27>:6: SettingWithCopyWarning:\n",
      "\n",
      "\n",
      "A value is trying to be set on a copy of a slice from a DataFrame.\n",
      "Try using .loc[row_indexer,col_indexer] = value instead\n",
      "\n",
      "See the caveats in the documentation: https://pandas.pydata.org/pandas-docs/stable/user_guide/indexing.html#returning-a-view-versus-a-copy\n",
      "\n"
     ]
    },
    {
     "data": {
      "application/vnd.plotly.v1+json": {
       "config": {
        "plotlyServerURL": "https://plot.ly"
       },
       "data": [
        {
         "alignmentgroup": "True",
         "hovertemplate": "Format=CD<br>Song ID=%{x}<br>Revenue=%{y}<extra></extra>",
         "legendgroup": "CD",
         "marker": {
          "color": "#636efa",
          "pattern": {
           "shape": ""
          }
         },
         "name": "CD",
         "offsetgroup": "CD",
         "orientation": "v",
         "showlegend": true,
         "textposition": "auto",
         "type": "bar",
         "x": [
          "861",
          "2926",
          "3907",
          "1975",
          "3331",
          "6075",
          "5718",
          "553",
          "5941",
          "432"
         ],
         "xaxis": "x",
         "y": [
          42,
          52,
          55,
          44,
          50,
          57,
          61,
          60,
          50,
          45
         ],
         "yaxis": "y"
        },
        {
         "alignmentgroup": "True",
         "hovertemplate": "Format=Digital<br>Song ID=%{x}<br>Revenue=%{y}<extra></extra>",
         "legendgroup": "Digital",
         "marker": {
          "color": "#EF553B",
          "pattern": {
           "shape": ""
          }
         },
         "name": "Digital",
         "offsetgroup": "Digital",
         "orientation": "v",
         "showlegend": true,
         "textposition": "auto",
         "type": "bar",
         "x": [
          "861",
          "2926",
          "3907",
          "1975",
          "3331",
          "6075",
          "5718",
          "553",
          "5941",
          "432"
         ],
         "xaxis": "x",
         "y": [
          1671,
          1659,
          1700,
          1663,
          1757,
          1722,
          1675,
          1723,
          1711,
          1719
         ],
         "yaxis": "y"
        },
        {
         "alignmentgroup": "True",
         "hovertemplate": "Format=Radio<br>Song ID=%{x}<br>Revenue=%{y}<extra></extra>",
         "legendgroup": "Radio",
         "marker": {
          "color": "#00cc96",
          "pattern": {
           "shape": ""
          }
         },
         "name": "Radio",
         "offsetgroup": "Radio",
         "orientation": "v",
         "showlegend": true,
         "textposition": "auto",
         "type": "bar",
         "x": [
          "861",
          "2926",
          "3907",
          "1975",
          "3331",
          "6075",
          "5718",
          "553",
          "5941",
          "432"
         ],
         "xaxis": "x",
         "y": [
          522,
          497,
          536,
          522,
          561,
          496,
          567,
          498,
          546,
          492
         ],
         "yaxis": "y"
        },
        {
         "alignmentgroup": "True",
         "hovertemplate": "Format=TV<br>Song ID=%{x}<br>Revenue=%{y}<extra></extra>",
         "legendgroup": "TV",
         "marker": {
          "color": "#ab63fa",
          "pattern": {
           "shape": ""
          }
         },
         "name": "TV",
         "offsetgroup": "TV",
         "orientation": "v",
         "showlegend": true,
         "textposition": "auto",
         "type": "bar",
         "x": [
          "861",
          "2926",
          "3907",
          "1975",
          "3331",
          "6075",
          "5718",
          "553",
          "5941",
          "432"
         ],
         "xaxis": "x",
         "y": [
          319,
          356,
          263,
          354,
          181,
          318,
          245,
          266,
          270,
          295
         ],
         "yaxis": "y"
        }
       ],
       "layout": {
        "barmode": "group",
        "legend": {
         "title": {
          "text": "Format"
         },
         "tracegroupgap": 0
        },
        "template": {
         "data": {
          "bar": [
           {
            "error_x": {
             "color": "#2a3f5f"
            },
            "error_y": {
             "color": "#2a3f5f"
            },
            "marker": {
             "line": {
              "color": "#E5ECF6",
              "width": 0.5
             },
             "pattern": {
              "fillmode": "overlay",
              "size": 10,
              "solidity": 0.2
             }
            },
            "type": "bar"
           }
          ],
          "barpolar": [
           {
            "marker": {
             "line": {
              "color": "#E5ECF6",
              "width": 0.5
             },
             "pattern": {
              "fillmode": "overlay",
              "size": 10,
              "solidity": 0.2
             }
            },
            "type": "barpolar"
           }
          ],
          "carpet": [
           {
            "aaxis": {
             "endlinecolor": "#2a3f5f",
             "gridcolor": "white",
             "linecolor": "white",
             "minorgridcolor": "white",
             "startlinecolor": "#2a3f5f"
            },
            "baxis": {
             "endlinecolor": "#2a3f5f",
             "gridcolor": "white",
             "linecolor": "white",
             "minorgridcolor": "white",
             "startlinecolor": "#2a3f5f"
            },
            "type": "carpet"
           }
          ],
          "choropleth": [
           {
            "colorbar": {
             "outlinewidth": 0,
             "ticks": ""
            },
            "type": "choropleth"
           }
          ],
          "contour": [
           {
            "colorbar": {
             "outlinewidth": 0,
             "ticks": ""
            },
            "colorscale": [
             [
              0,
              "#0d0887"
             ],
             [
              0.1111111111111111,
              "#46039f"
             ],
             [
              0.2222222222222222,
              "#7201a8"
             ],
             [
              0.3333333333333333,
              "#9c179e"
             ],
             [
              0.4444444444444444,
              "#bd3786"
             ],
             [
              0.5555555555555556,
              "#d8576b"
             ],
             [
              0.6666666666666666,
              "#ed7953"
             ],
             [
              0.7777777777777778,
              "#fb9f3a"
             ],
             [
              0.8888888888888888,
              "#fdca26"
             ],
             [
              1,
              "#f0f921"
             ]
            ],
            "type": "contour"
           }
          ],
          "contourcarpet": [
           {
            "colorbar": {
             "outlinewidth": 0,
             "ticks": ""
            },
            "type": "contourcarpet"
           }
          ],
          "heatmap": [
           {
            "colorbar": {
             "outlinewidth": 0,
             "ticks": ""
            },
            "colorscale": [
             [
              0,
              "#0d0887"
             ],
             [
              0.1111111111111111,
              "#46039f"
             ],
             [
              0.2222222222222222,
              "#7201a8"
             ],
             [
              0.3333333333333333,
              "#9c179e"
             ],
             [
              0.4444444444444444,
              "#bd3786"
             ],
             [
              0.5555555555555556,
              "#d8576b"
             ],
             [
              0.6666666666666666,
              "#ed7953"
             ],
             [
              0.7777777777777778,
              "#fb9f3a"
             ],
             [
              0.8888888888888888,
              "#fdca26"
             ],
             [
              1,
              "#f0f921"
             ]
            ],
            "type": "heatmap"
           }
          ],
          "heatmapgl": [
           {
            "colorbar": {
             "outlinewidth": 0,
             "ticks": ""
            },
            "colorscale": [
             [
              0,
              "#0d0887"
             ],
             [
              0.1111111111111111,
              "#46039f"
             ],
             [
              0.2222222222222222,
              "#7201a8"
             ],
             [
              0.3333333333333333,
              "#9c179e"
             ],
             [
              0.4444444444444444,
              "#bd3786"
             ],
             [
              0.5555555555555556,
              "#d8576b"
             ],
             [
              0.6666666666666666,
              "#ed7953"
             ],
             [
              0.7777777777777778,
              "#fb9f3a"
             ],
             [
              0.8888888888888888,
              "#fdca26"
             ],
             [
              1,
              "#f0f921"
             ]
            ],
            "type": "heatmapgl"
           }
          ],
          "histogram": [
           {
            "marker": {
             "pattern": {
              "fillmode": "overlay",
              "size": 10,
              "solidity": 0.2
             }
            },
            "type": "histogram"
           }
          ],
          "histogram2d": [
           {
            "colorbar": {
             "outlinewidth": 0,
             "ticks": ""
            },
            "colorscale": [
             [
              0,
              "#0d0887"
             ],
             [
              0.1111111111111111,
              "#46039f"
             ],
             [
              0.2222222222222222,
              "#7201a8"
             ],
             [
              0.3333333333333333,
              "#9c179e"
             ],
             [
              0.4444444444444444,
              "#bd3786"
             ],
             [
              0.5555555555555556,
              "#d8576b"
             ],
             [
              0.6666666666666666,
              "#ed7953"
             ],
             [
              0.7777777777777778,
              "#fb9f3a"
             ],
             [
              0.8888888888888888,
              "#fdca26"
             ],
             [
              1,
              "#f0f921"
             ]
            ],
            "type": "histogram2d"
           }
          ],
          "histogram2dcontour": [
           {
            "colorbar": {
             "outlinewidth": 0,
             "ticks": ""
            },
            "colorscale": [
             [
              0,
              "#0d0887"
             ],
             [
              0.1111111111111111,
              "#46039f"
             ],
             [
              0.2222222222222222,
              "#7201a8"
             ],
             [
              0.3333333333333333,
              "#9c179e"
             ],
             [
              0.4444444444444444,
              "#bd3786"
             ],
             [
              0.5555555555555556,
              "#d8576b"
             ],
             [
              0.6666666666666666,
              "#ed7953"
             ],
             [
              0.7777777777777778,
              "#fb9f3a"
             ],
             [
              0.8888888888888888,
              "#fdca26"
             ],
             [
              1,
              "#f0f921"
             ]
            ],
            "type": "histogram2dcontour"
           }
          ],
          "mesh3d": [
           {
            "colorbar": {
             "outlinewidth": 0,
             "ticks": ""
            },
            "type": "mesh3d"
           }
          ],
          "parcoords": [
           {
            "line": {
             "colorbar": {
              "outlinewidth": 0,
              "ticks": ""
             }
            },
            "type": "parcoords"
           }
          ],
          "pie": [
           {
            "automargin": true,
            "type": "pie"
           }
          ],
          "scatter": [
           {
            "marker": {
             "colorbar": {
              "outlinewidth": 0,
              "ticks": ""
             }
            },
            "type": "scatter"
           }
          ],
          "scatter3d": [
           {
            "line": {
             "colorbar": {
              "outlinewidth": 0,
              "ticks": ""
             }
            },
            "marker": {
             "colorbar": {
              "outlinewidth": 0,
              "ticks": ""
             }
            },
            "type": "scatter3d"
           }
          ],
          "scattercarpet": [
           {
            "marker": {
             "colorbar": {
              "outlinewidth": 0,
              "ticks": ""
             }
            },
            "type": "scattercarpet"
           }
          ],
          "scattergeo": [
           {
            "marker": {
             "colorbar": {
              "outlinewidth": 0,
              "ticks": ""
             }
            },
            "type": "scattergeo"
           }
          ],
          "scattergl": [
           {
            "marker": {
             "colorbar": {
              "outlinewidth": 0,
              "ticks": ""
             }
            },
            "type": "scattergl"
           }
          ],
          "scattermapbox": [
           {
            "marker": {
             "colorbar": {
              "outlinewidth": 0,
              "ticks": ""
             }
            },
            "type": "scattermapbox"
           }
          ],
          "scatterpolar": [
           {
            "marker": {
             "colorbar": {
              "outlinewidth": 0,
              "ticks": ""
             }
            },
            "type": "scatterpolar"
           }
          ],
          "scatterpolargl": [
           {
            "marker": {
             "colorbar": {
              "outlinewidth": 0,
              "ticks": ""
             }
            },
            "type": "scatterpolargl"
           }
          ],
          "scatterternary": [
           {
            "marker": {
             "colorbar": {
              "outlinewidth": 0,
              "ticks": ""
             }
            },
            "type": "scatterternary"
           }
          ],
          "surface": [
           {
            "colorbar": {
             "outlinewidth": 0,
             "ticks": ""
            },
            "colorscale": [
             [
              0,
              "#0d0887"
             ],
             [
              0.1111111111111111,
              "#46039f"
             ],
             [
              0.2222222222222222,
              "#7201a8"
             ],
             [
              0.3333333333333333,
              "#9c179e"
             ],
             [
              0.4444444444444444,
              "#bd3786"
             ],
             [
              0.5555555555555556,
              "#d8576b"
             ],
             [
              0.6666666666666666,
              "#ed7953"
             ],
             [
              0.7777777777777778,
              "#fb9f3a"
             ],
             [
              0.8888888888888888,
              "#fdca26"
             ],
             [
              1,
              "#f0f921"
             ]
            ],
            "type": "surface"
           }
          ],
          "table": [
           {
            "cells": {
             "fill": {
              "color": "#EBF0F8"
             },
             "line": {
              "color": "white"
             }
            },
            "header": {
             "fill": {
              "color": "#C8D4E3"
             },
             "line": {
              "color": "white"
             }
            },
            "type": "table"
           }
          ]
         },
         "layout": {
          "annotationdefaults": {
           "arrowcolor": "#2a3f5f",
           "arrowhead": 0,
           "arrowwidth": 1
          },
          "autotypenumbers": "strict",
          "coloraxis": {
           "colorbar": {
            "outlinewidth": 0,
            "ticks": ""
           }
          },
          "colorscale": {
           "diverging": [
            [
             0,
             "#8e0152"
            ],
            [
             0.1,
             "#c51b7d"
            ],
            [
             0.2,
             "#de77ae"
            ],
            [
             0.3,
             "#f1b6da"
            ],
            [
             0.4,
             "#fde0ef"
            ],
            [
             0.5,
             "#f7f7f7"
            ],
            [
             0.6,
             "#e6f5d0"
            ],
            [
             0.7,
             "#b8e186"
            ],
            [
             0.8,
             "#7fbc41"
            ],
            [
             0.9,
             "#4d9221"
            ],
            [
             1,
             "#276419"
            ]
           ],
           "sequential": [
            [
             0,
             "#0d0887"
            ],
            [
             0.1111111111111111,
             "#46039f"
            ],
            [
             0.2222222222222222,
             "#7201a8"
            ],
            [
             0.3333333333333333,
             "#9c179e"
            ],
            [
             0.4444444444444444,
             "#bd3786"
            ],
            [
             0.5555555555555556,
             "#d8576b"
            ],
            [
             0.6666666666666666,
             "#ed7953"
            ],
            [
             0.7777777777777778,
             "#fb9f3a"
            ],
            [
             0.8888888888888888,
             "#fdca26"
            ],
            [
             1,
             "#f0f921"
            ]
           ],
           "sequentialminus": [
            [
             0,
             "#0d0887"
            ],
            [
             0.1111111111111111,
             "#46039f"
            ],
            [
             0.2222222222222222,
             "#7201a8"
            ],
            [
             0.3333333333333333,
             "#9c179e"
            ],
            [
             0.4444444444444444,
             "#bd3786"
            ],
            [
             0.5555555555555556,
             "#d8576b"
            ],
            [
             0.6666666666666666,
             "#ed7953"
            ],
            [
             0.7777777777777778,
             "#fb9f3a"
            ],
            [
             0.8888888888888888,
             "#fdca26"
            ],
            [
             1,
             "#f0f921"
            ]
           ]
          },
          "colorway": [
           "#636efa",
           "#EF553B",
           "#00cc96",
           "#ab63fa",
           "#FFA15A",
           "#19d3f3",
           "#FF6692",
           "#B6E880",
           "#FF97FF",
           "#FECB52"
          ],
          "font": {
           "color": "#2a3f5f"
          },
          "geo": {
           "bgcolor": "white",
           "lakecolor": "white",
           "landcolor": "#E5ECF6",
           "showlakes": true,
           "showland": true,
           "subunitcolor": "white"
          },
          "hoverlabel": {
           "align": "left"
          },
          "hovermode": "closest",
          "mapbox": {
           "style": "light"
          },
          "paper_bgcolor": "white",
          "plot_bgcolor": "#E5ECF6",
          "polar": {
           "angularaxis": {
            "gridcolor": "white",
            "linecolor": "white",
            "ticks": ""
           },
           "bgcolor": "#E5ECF6",
           "radialaxis": {
            "gridcolor": "white",
            "linecolor": "white",
            "ticks": ""
           }
          },
          "scene": {
           "xaxis": {
            "backgroundcolor": "#E5ECF6",
            "gridcolor": "white",
            "gridwidth": 2,
            "linecolor": "white",
            "showbackground": true,
            "ticks": "",
            "zerolinecolor": "white"
           },
           "yaxis": {
            "backgroundcolor": "#E5ECF6",
            "gridcolor": "white",
            "gridwidth": 2,
            "linecolor": "white",
            "showbackground": true,
            "ticks": "",
            "zerolinecolor": "white"
           },
           "zaxis": {
            "backgroundcolor": "#E5ECF6",
            "gridcolor": "white",
            "gridwidth": 2,
            "linecolor": "white",
            "showbackground": true,
            "ticks": "",
            "zerolinecolor": "white"
           }
          },
          "shapedefaults": {
           "line": {
            "color": "#2a3f5f"
           }
          },
          "ternary": {
           "aaxis": {
            "gridcolor": "white",
            "linecolor": "white",
            "ticks": ""
           },
           "baxis": {
            "gridcolor": "white",
            "linecolor": "white",
            "ticks": ""
           },
           "bgcolor": "#E5ECF6",
           "caxis": {
            "gridcolor": "white",
            "linecolor": "white",
            "ticks": ""
           }
          },
          "title": {
           "x": 0.05
          },
          "xaxis": {
           "automargin": true,
           "gridcolor": "white",
           "linecolor": "white",
           "ticks": "",
           "title": {
            "standoff": 15
           },
           "zerolinecolor": "white",
           "zerolinewidth": 2
          },
          "yaxis": {
           "automargin": true,
           "gridcolor": "white",
           "linecolor": "white",
           "ticks": "",
           "title": {
            "standoff": 15
           },
           "zerolinecolor": "white",
           "zerolinewidth": 2
          }
         }
        },
        "title": {
         "text": "Top 10 songs by Format"
        },
        "xaxis": {
         "anchor": "y",
         "domain": [
          0,
          1
         ],
         "title": {
          "text": "Song ID"
         }
        },
        "yaxis": {
         "anchor": "x",
         "domain": [
          0,
          1
         ],
         "title": {
          "text": "Revenue"
         }
        }
       }
      },
      "text/html": [
       "<div>                            <div id=\"9827f2c5-dc2d-427a-ae5e-ed1d47a21112\" class=\"plotly-graph-div\" style=\"height:525px; width:100%;\"></div>            <script type=\"text/javascript\">                require([\"plotly\"], function(Plotly) {                    window.PLOTLYENV=window.PLOTLYENV || {};                                    if (document.getElementById(\"9827f2c5-dc2d-427a-ae5e-ed1d47a21112\")) {                    Plotly.newPlot(                        \"9827f2c5-dc2d-427a-ae5e-ed1d47a21112\",                        [{\"alignmentgroup\":\"True\",\"hovertemplate\":\"Format=CD<br>Song ID=%{x}<br>Revenue=%{y}<extra></extra>\",\"legendgroup\":\"CD\",\"marker\":{\"color\":\"#636efa\",\"pattern\":{\"shape\":\"\"}},\"name\":\"CD\",\"offsetgroup\":\"CD\",\"orientation\":\"v\",\"showlegend\":true,\"textposition\":\"auto\",\"type\":\"bar\",\"x\":[\"861\",\"2926\",\"3907\",\"1975\",\"3331\",\"6075\",\"5718\",\"553\",\"5941\",\"432\"],\"xaxis\":\"x\",\"y\":[42,52,55,44,50,57,61,60,50,45],\"yaxis\":\"y\"},{\"alignmentgroup\":\"True\",\"hovertemplate\":\"Format=Digital<br>Song ID=%{x}<br>Revenue=%{y}<extra></extra>\",\"legendgroup\":\"Digital\",\"marker\":{\"color\":\"#EF553B\",\"pattern\":{\"shape\":\"\"}},\"name\":\"Digital\",\"offsetgroup\":\"Digital\",\"orientation\":\"v\",\"showlegend\":true,\"textposition\":\"auto\",\"type\":\"bar\",\"x\":[\"861\",\"2926\",\"3907\",\"1975\",\"3331\",\"6075\",\"5718\",\"553\",\"5941\",\"432\"],\"xaxis\":\"x\",\"y\":[1671,1659,1700,1663,1757,1722,1675,1723,1711,1719],\"yaxis\":\"y\"},{\"alignmentgroup\":\"True\",\"hovertemplate\":\"Format=Radio<br>Song ID=%{x}<br>Revenue=%{y}<extra></extra>\",\"legendgroup\":\"Radio\",\"marker\":{\"color\":\"#00cc96\",\"pattern\":{\"shape\":\"\"}},\"name\":\"Radio\",\"offsetgroup\":\"Radio\",\"orientation\":\"v\",\"showlegend\":true,\"textposition\":\"auto\",\"type\":\"bar\",\"x\":[\"861\",\"2926\",\"3907\",\"1975\",\"3331\",\"6075\",\"5718\",\"553\",\"5941\",\"432\"],\"xaxis\":\"x\",\"y\":[522,497,536,522,561,496,567,498,546,492],\"yaxis\":\"y\"},{\"alignmentgroup\":\"True\",\"hovertemplate\":\"Format=TV<br>Song ID=%{x}<br>Revenue=%{y}<extra></extra>\",\"legendgroup\":\"TV\",\"marker\":{\"color\":\"#ab63fa\",\"pattern\":{\"shape\":\"\"}},\"name\":\"TV\",\"offsetgroup\":\"TV\",\"orientation\":\"v\",\"showlegend\":true,\"textposition\":\"auto\",\"type\":\"bar\",\"x\":[\"861\",\"2926\",\"3907\",\"1975\",\"3331\",\"6075\",\"5718\",\"553\",\"5941\",\"432\"],\"xaxis\":\"x\",\"y\":[319,356,263,354,181,318,245,266,270,295],\"yaxis\":\"y\"}],                        {\"barmode\":\"group\",\"legend\":{\"title\":{\"text\":\"Format\"},\"tracegroupgap\":0},\"template\":{\"data\":{\"bar\":[{\"error_x\":{\"color\":\"#2a3f5f\"},\"error_y\":{\"color\":\"#2a3f5f\"},\"marker\":{\"line\":{\"color\":\"#E5ECF6\",\"width\":0.5},\"pattern\":{\"fillmode\":\"overlay\",\"size\":10,\"solidity\":0.2}},\"type\":\"bar\"}],\"barpolar\":[{\"marker\":{\"line\":{\"color\":\"#E5ECF6\",\"width\":0.5},\"pattern\":{\"fillmode\":\"overlay\",\"size\":10,\"solidity\":0.2}},\"type\":\"barpolar\"}],\"carpet\":[{\"aaxis\":{\"endlinecolor\":\"#2a3f5f\",\"gridcolor\":\"white\",\"linecolor\":\"white\",\"minorgridcolor\":\"white\",\"startlinecolor\":\"#2a3f5f\"},\"baxis\":{\"endlinecolor\":\"#2a3f5f\",\"gridcolor\":\"white\",\"linecolor\":\"white\",\"minorgridcolor\":\"white\",\"startlinecolor\":\"#2a3f5f\"},\"type\":\"carpet\"}],\"choropleth\":[{\"colorbar\":{\"outlinewidth\":0,\"ticks\":\"\"},\"type\":\"choropleth\"}],\"contour\":[{\"colorbar\":{\"outlinewidth\":0,\"ticks\":\"\"},\"colorscale\":[[0.0,\"#0d0887\"],[0.1111111111111111,\"#46039f\"],[0.2222222222222222,\"#7201a8\"],[0.3333333333333333,\"#9c179e\"],[0.4444444444444444,\"#bd3786\"],[0.5555555555555556,\"#d8576b\"],[0.6666666666666666,\"#ed7953\"],[0.7777777777777778,\"#fb9f3a\"],[0.8888888888888888,\"#fdca26\"],[1.0,\"#f0f921\"]],\"type\":\"contour\"}],\"contourcarpet\":[{\"colorbar\":{\"outlinewidth\":0,\"ticks\":\"\"},\"type\":\"contourcarpet\"}],\"heatmap\":[{\"colorbar\":{\"outlinewidth\":0,\"ticks\":\"\"},\"colorscale\":[[0.0,\"#0d0887\"],[0.1111111111111111,\"#46039f\"],[0.2222222222222222,\"#7201a8\"],[0.3333333333333333,\"#9c179e\"],[0.4444444444444444,\"#bd3786\"],[0.5555555555555556,\"#d8576b\"],[0.6666666666666666,\"#ed7953\"],[0.7777777777777778,\"#fb9f3a\"],[0.8888888888888888,\"#fdca26\"],[1.0,\"#f0f921\"]],\"type\":\"heatmap\"}],\"heatmapgl\":[{\"colorbar\":{\"outlinewidth\":0,\"ticks\":\"\"},\"colorscale\":[[0.0,\"#0d0887\"],[0.1111111111111111,\"#46039f\"],[0.2222222222222222,\"#7201a8\"],[0.3333333333333333,\"#9c179e\"],[0.4444444444444444,\"#bd3786\"],[0.5555555555555556,\"#d8576b\"],[0.6666666666666666,\"#ed7953\"],[0.7777777777777778,\"#fb9f3a\"],[0.8888888888888888,\"#fdca26\"],[1.0,\"#f0f921\"]],\"type\":\"heatmapgl\"}],\"histogram\":[{\"marker\":{\"pattern\":{\"fillmode\":\"overlay\",\"size\":10,\"solidity\":0.2}},\"type\":\"histogram\"}],\"histogram2d\":[{\"colorbar\":{\"outlinewidth\":0,\"ticks\":\"\"},\"colorscale\":[[0.0,\"#0d0887\"],[0.1111111111111111,\"#46039f\"],[0.2222222222222222,\"#7201a8\"],[0.3333333333333333,\"#9c179e\"],[0.4444444444444444,\"#bd3786\"],[0.5555555555555556,\"#d8576b\"],[0.6666666666666666,\"#ed7953\"],[0.7777777777777778,\"#fb9f3a\"],[0.8888888888888888,\"#fdca26\"],[1.0,\"#f0f921\"]],\"type\":\"histogram2d\"}],\"histogram2dcontour\":[{\"colorbar\":{\"outlinewidth\":0,\"ticks\":\"\"},\"colorscale\":[[0.0,\"#0d0887\"],[0.1111111111111111,\"#46039f\"],[0.2222222222222222,\"#7201a8\"],[0.3333333333333333,\"#9c179e\"],[0.4444444444444444,\"#bd3786\"],[0.5555555555555556,\"#d8576b\"],[0.6666666666666666,\"#ed7953\"],[0.7777777777777778,\"#fb9f3a\"],[0.8888888888888888,\"#fdca26\"],[1.0,\"#f0f921\"]],\"type\":\"histogram2dcontour\"}],\"mesh3d\":[{\"colorbar\":{\"outlinewidth\":0,\"ticks\":\"\"},\"type\":\"mesh3d\"}],\"parcoords\":[{\"line\":{\"colorbar\":{\"outlinewidth\":0,\"ticks\":\"\"}},\"type\":\"parcoords\"}],\"pie\":[{\"automargin\":true,\"type\":\"pie\"}],\"scatter\":[{\"marker\":{\"colorbar\":{\"outlinewidth\":0,\"ticks\":\"\"}},\"type\":\"scatter\"}],\"scatter3d\":[{\"line\":{\"colorbar\":{\"outlinewidth\":0,\"ticks\":\"\"}},\"marker\":{\"colorbar\":{\"outlinewidth\":0,\"ticks\":\"\"}},\"type\":\"scatter3d\"}],\"scattercarpet\":[{\"marker\":{\"colorbar\":{\"outlinewidth\":0,\"ticks\":\"\"}},\"type\":\"scattercarpet\"}],\"scattergeo\":[{\"marker\":{\"colorbar\":{\"outlinewidth\":0,\"ticks\":\"\"}},\"type\":\"scattergeo\"}],\"scattergl\":[{\"marker\":{\"colorbar\":{\"outlinewidth\":0,\"ticks\":\"\"}},\"type\":\"scattergl\"}],\"scattermapbox\":[{\"marker\":{\"colorbar\":{\"outlinewidth\":0,\"ticks\":\"\"}},\"type\":\"scattermapbox\"}],\"scatterpolar\":[{\"marker\":{\"colorbar\":{\"outlinewidth\":0,\"ticks\":\"\"}},\"type\":\"scatterpolar\"}],\"scatterpolargl\":[{\"marker\":{\"colorbar\":{\"outlinewidth\":0,\"ticks\":\"\"}},\"type\":\"scatterpolargl\"}],\"scatterternary\":[{\"marker\":{\"colorbar\":{\"outlinewidth\":0,\"ticks\":\"\"}},\"type\":\"scatterternary\"}],\"surface\":[{\"colorbar\":{\"outlinewidth\":0,\"ticks\":\"\"},\"colorscale\":[[0.0,\"#0d0887\"],[0.1111111111111111,\"#46039f\"],[0.2222222222222222,\"#7201a8\"],[0.3333333333333333,\"#9c179e\"],[0.4444444444444444,\"#bd3786\"],[0.5555555555555556,\"#d8576b\"],[0.6666666666666666,\"#ed7953\"],[0.7777777777777778,\"#fb9f3a\"],[0.8888888888888888,\"#fdca26\"],[1.0,\"#f0f921\"]],\"type\":\"surface\"}],\"table\":[{\"cells\":{\"fill\":{\"color\":\"#EBF0F8\"},\"line\":{\"color\":\"white\"}},\"header\":{\"fill\":{\"color\":\"#C8D4E3\"},\"line\":{\"color\":\"white\"}},\"type\":\"table\"}]},\"layout\":{\"annotationdefaults\":{\"arrowcolor\":\"#2a3f5f\",\"arrowhead\":0,\"arrowwidth\":1},\"autotypenumbers\":\"strict\",\"coloraxis\":{\"colorbar\":{\"outlinewidth\":0,\"ticks\":\"\"}},\"colorscale\":{\"diverging\":[[0,\"#8e0152\"],[0.1,\"#c51b7d\"],[0.2,\"#de77ae\"],[0.3,\"#f1b6da\"],[0.4,\"#fde0ef\"],[0.5,\"#f7f7f7\"],[0.6,\"#e6f5d0\"],[0.7,\"#b8e186\"],[0.8,\"#7fbc41\"],[0.9,\"#4d9221\"],[1,\"#276419\"]],\"sequential\":[[0.0,\"#0d0887\"],[0.1111111111111111,\"#46039f\"],[0.2222222222222222,\"#7201a8\"],[0.3333333333333333,\"#9c179e\"],[0.4444444444444444,\"#bd3786\"],[0.5555555555555556,\"#d8576b\"],[0.6666666666666666,\"#ed7953\"],[0.7777777777777778,\"#fb9f3a\"],[0.8888888888888888,\"#fdca26\"],[1.0,\"#f0f921\"]],\"sequentialminus\":[[0.0,\"#0d0887\"],[0.1111111111111111,\"#46039f\"],[0.2222222222222222,\"#7201a8\"],[0.3333333333333333,\"#9c179e\"],[0.4444444444444444,\"#bd3786\"],[0.5555555555555556,\"#d8576b\"],[0.6666666666666666,\"#ed7953\"],[0.7777777777777778,\"#fb9f3a\"],[0.8888888888888888,\"#fdca26\"],[1.0,\"#f0f921\"]]},\"colorway\":[\"#636efa\",\"#EF553B\",\"#00cc96\",\"#ab63fa\",\"#FFA15A\",\"#19d3f3\",\"#FF6692\",\"#B6E880\",\"#FF97FF\",\"#FECB52\"],\"font\":{\"color\":\"#2a3f5f\"},\"geo\":{\"bgcolor\":\"white\",\"lakecolor\":\"white\",\"landcolor\":\"#E5ECF6\",\"showlakes\":true,\"showland\":true,\"subunitcolor\":\"white\"},\"hoverlabel\":{\"align\":\"left\"},\"hovermode\":\"closest\",\"mapbox\":{\"style\":\"light\"},\"paper_bgcolor\":\"white\",\"plot_bgcolor\":\"#E5ECF6\",\"polar\":{\"angularaxis\":{\"gridcolor\":\"white\",\"linecolor\":\"white\",\"ticks\":\"\"},\"bgcolor\":\"#E5ECF6\",\"radialaxis\":{\"gridcolor\":\"white\",\"linecolor\":\"white\",\"ticks\":\"\"}},\"scene\":{\"xaxis\":{\"backgroundcolor\":\"#E5ECF6\",\"gridcolor\":\"white\",\"gridwidth\":2,\"linecolor\":\"white\",\"showbackground\":true,\"ticks\":\"\",\"zerolinecolor\":\"white\"},\"yaxis\":{\"backgroundcolor\":\"#E5ECF6\",\"gridcolor\":\"white\",\"gridwidth\":2,\"linecolor\":\"white\",\"showbackground\":true,\"ticks\":\"\",\"zerolinecolor\":\"white\"},\"zaxis\":{\"backgroundcolor\":\"#E5ECF6\",\"gridcolor\":\"white\",\"gridwidth\":2,\"linecolor\":\"white\",\"showbackground\":true,\"ticks\":\"\",\"zerolinecolor\":\"white\"}},\"shapedefaults\":{\"line\":{\"color\":\"#2a3f5f\"}},\"ternary\":{\"aaxis\":{\"gridcolor\":\"white\",\"linecolor\":\"white\",\"ticks\":\"\"},\"baxis\":{\"gridcolor\":\"white\",\"linecolor\":\"white\",\"ticks\":\"\"},\"bgcolor\":\"#E5ECF6\",\"caxis\":{\"gridcolor\":\"white\",\"linecolor\":\"white\",\"ticks\":\"\"}},\"title\":{\"x\":0.05},\"xaxis\":{\"automargin\":true,\"gridcolor\":\"white\",\"linecolor\":\"white\",\"ticks\":\"\",\"title\":{\"standoff\":15},\"zerolinecolor\":\"white\",\"zerolinewidth\":2},\"yaxis\":{\"automargin\":true,\"gridcolor\":\"white\",\"linecolor\":\"white\",\"ticks\":\"\",\"title\":{\"standoff\":15},\"zerolinecolor\":\"white\",\"zerolinewidth\":2}}},\"title\":{\"text\":\"Top 10 songs by Format\"},\"xaxis\":{\"anchor\":\"y\",\"domain\":[0.0,1.0],\"title\":{\"text\":\"Song ID\"}},\"yaxis\":{\"anchor\":\"x\",\"domain\":[0.0,1.0],\"title\":{\"text\":\"Revenue\"}}},                        {\"responsive\": true}                    ).then(function(){\n",
       "                            \n",
       "var gd = document.getElementById('9827f2c5-dc2d-427a-ae5e-ed1d47a21112');\n",
       "var x = new MutationObserver(function (mutations, observer) {{\n",
       "        var display = window.getComputedStyle(gd).display;\n",
       "        if (!display || display === 'none') {{\n",
       "            console.log([gd, 'removed!']);\n",
       "            Plotly.purge(gd);\n",
       "            observer.disconnect();\n",
       "        }}\n",
       "}});\n",
       "\n",
       "// Listen for the removal of the full notebook cells\n",
       "var notebookContainer = gd.closest('#notebook-container');\n",
       "if (notebookContainer) {{\n",
       "    x.observe(notebookContainer, {childList: true});\n",
       "}}\n",
       "\n",
       "// Listen for the clearing of the current output cell\n",
       "var outputEl = gd.closest('.output');\n",
       "if (outputEl) {{\n",
       "    x.observe(outputEl, {childList: true});\n",
       "}}\n",
       "\n",
       "                        })                };                });            </script>        </div>"
      ]
     },
     "metadata": {},
     "output_type": "display_data"
    }
   ],
   "source": [
    "##Let's look at revenue generated by top 10 songs by format\n",
    "k=df3.groupby(['AuthorID','SongID','Format'])['Revenue'].sum().reset_index()\n",
    "rev_per_song=df3.groupby('SongID')['Revenue'].sum().sort_values(ascending=False).iloc[:10].index\n",
    "rev_per_song1=list(rev_per_song)\n",
    "df_fin = k[k[\"SongID\"].isin(rev_per_song1)]\n",
    "df_fin[\"SongID\"] = df_fin[\"SongID\"].astype(str)\n",
    "fig = px.bar(df_fin, x = \"SongID\", y =\"Revenue\", color = \"Format\", barmode= \"group\",title = \"Top 10 songs by Format\",\n",
    "             labels={'Revenue': 'Revenue', 'SongID': 'Song ID'})\n",
    "fig.show()"
   ]
  },
  {
   "cell_type": "markdown",
   "id": "a0ea7863",
   "metadata": {},
   "source": [
    "It is evident that the highest revenue among the top songs was generated predominantly through the digital channel, trailed by radio and TV, with CD making the smallest contribution."
   ]
  },
  {
   "cell_type": "code",
   "execution_count": 88,
   "id": "bbb9d2ee",
   "metadata": {},
   "outputs": [
    {
     "data": {
      "text/html": [
       "<div>\n",
       "<style scoped>\n",
       "    .dataframe tbody tr th:only-of-type {\n",
       "        vertical-align: middle;\n",
       "    }\n",
       "\n",
       "    .dataframe tbody tr th {\n",
       "        vertical-align: top;\n",
       "    }\n",
       "\n",
       "    .dataframe thead th {\n",
       "        text-align: right;\n",
       "    }\n",
       "</style>\n",
       "<table border=\"1\" class=\"dataframe\">\n",
       "  <thead>\n",
       "    <tr style=\"text-align: right;\">\n",
       "      <th></th>\n",
       "      <th>AuthorID</th>\n",
       "      <th>SongID</th>\n",
       "      <th>Revenue</th>\n",
       "      <th>Revenue_per_song</th>\n",
       "    </tr>\n",
       "  </thead>\n",
       "  <tbody>\n",
       "    <tr>\n",
       "      <th>48</th>\n",
       "      <td>49</td>\n",
       "      <td>576</td>\n",
       "      <td>27709</td>\n",
       "      <td>48.105903</td>\n",
       "    </tr>\n",
       "    <tr>\n",
       "      <th>963</th>\n",
       "      <td>964</td>\n",
       "      <td>468</td>\n",
       "      <td>24744</td>\n",
       "      <td>52.871795</td>\n",
       "    </tr>\n",
       "    <tr>\n",
       "      <th>922</th>\n",
       "      <td>923</td>\n",
       "      <td>540</td>\n",
       "      <td>24185</td>\n",
       "      <td>44.787037</td>\n",
       "    </tr>\n",
       "    <tr>\n",
       "      <th>141</th>\n",
       "      <td>142</td>\n",
       "      <td>576</td>\n",
       "      <td>23904</td>\n",
       "      <td>41.500000</td>\n",
       "    </tr>\n",
       "    <tr>\n",
       "      <th>639</th>\n",
       "      <td>640</td>\n",
       "      <td>468</td>\n",
       "      <td>23717</td>\n",
       "      <td>50.677350</td>\n",
       "    </tr>\n",
       "    <tr>\n",
       "      <th>237</th>\n",
       "      <td>238</td>\n",
       "      <td>468</td>\n",
       "      <td>22577</td>\n",
       "      <td>48.241453</td>\n",
       "    </tr>\n",
       "    <tr>\n",
       "      <th>774</th>\n",
       "      <td>775</td>\n",
       "      <td>504</td>\n",
       "      <td>22083</td>\n",
       "      <td>43.815476</td>\n",
       "    </tr>\n",
       "    <tr>\n",
       "      <th>973</th>\n",
       "      <td>974</td>\n",
       "      <td>432</td>\n",
       "      <td>21952</td>\n",
       "      <td>50.814815</td>\n",
       "    </tr>\n",
       "    <tr>\n",
       "      <th>163</th>\n",
       "      <td>164</td>\n",
       "      <td>432</td>\n",
       "      <td>21938</td>\n",
       "      <td>50.782407</td>\n",
       "    </tr>\n",
       "    <tr>\n",
       "      <th>651</th>\n",
       "      <td>652</td>\n",
       "      <td>432</td>\n",
       "      <td>21801</td>\n",
       "      <td>50.465278</td>\n",
       "    </tr>\n",
       "    <tr>\n",
       "      <th>880</th>\n",
       "      <td>881</td>\n",
       "      <td>432</td>\n",
       "      <td>21755</td>\n",
       "      <td>50.358796</td>\n",
       "    </tr>\n",
       "    <tr>\n",
       "      <th>464</th>\n",
       "      <td>465</td>\n",
       "      <td>432</td>\n",
       "      <td>21686</td>\n",
       "      <td>50.199074</td>\n",
       "    </tr>\n",
       "    <tr>\n",
       "      <th>272</th>\n",
       "      <td>273</td>\n",
       "      <td>432</td>\n",
       "      <td>21536</td>\n",
       "      <td>49.851852</td>\n",
       "    </tr>\n",
       "    <tr>\n",
       "      <th>245</th>\n",
       "      <td>246</td>\n",
       "      <td>468</td>\n",
       "      <td>21521</td>\n",
       "      <td>45.985043</td>\n",
       "    </tr>\n",
       "    <tr>\n",
       "      <th>700</th>\n",
       "      <td>701</td>\n",
       "      <td>432</td>\n",
       "      <td>21259</td>\n",
       "      <td>49.210648</td>\n",
       "    </tr>\n",
       "    <tr>\n",
       "      <th>783</th>\n",
       "      <td>784</td>\n",
       "      <td>396</td>\n",
       "      <td>21125</td>\n",
       "      <td>53.345960</td>\n",
       "    </tr>\n",
       "    <tr>\n",
       "      <th>575</th>\n",
       "      <td>576</td>\n",
       "      <td>432</td>\n",
       "      <td>21032</td>\n",
       "      <td>48.685185</td>\n",
       "    </tr>\n",
       "    <tr>\n",
       "      <th>593</th>\n",
       "      <td>594</td>\n",
       "      <td>432</td>\n",
       "      <td>20939</td>\n",
       "      <td>48.469907</td>\n",
       "    </tr>\n",
       "    <tr>\n",
       "      <th>52</th>\n",
       "      <td>53</td>\n",
       "      <td>396</td>\n",
       "      <td>20756</td>\n",
       "      <td>52.414141</td>\n",
       "    </tr>\n",
       "    <tr>\n",
       "      <th>445</th>\n",
       "      <td>446</td>\n",
       "      <td>432</td>\n",
       "      <td>20676</td>\n",
       "      <td>47.861111</td>\n",
       "    </tr>\n",
       "    <tr>\n",
       "      <th>923</th>\n",
       "      <td>924</td>\n",
       "      <td>396</td>\n",
       "      <td>20652</td>\n",
       "      <td>52.151515</td>\n",
       "    </tr>\n",
       "    <tr>\n",
       "      <th>205</th>\n",
       "      <td>206</td>\n",
       "      <td>396</td>\n",
       "      <td>20639</td>\n",
       "      <td>52.118687</td>\n",
       "    </tr>\n",
       "    <tr>\n",
       "      <th>887</th>\n",
       "      <td>888</td>\n",
       "      <td>468</td>\n",
       "      <td>20567</td>\n",
       "      <td>43.946581</td>\n",
       "    </tr>\n",
       "    <tr>\n",
       "      <th>718</th>\n",
       "      <td>719</td>\n",
       "      <td>396</td>\n",
       "      <td>20508</td>\n",
       "      <td>51.787879</td>\n",
       "    </tr>\n",
       "    <tr>\n",
       "      <th>153</th>\n",
       "      <td>154</td>\n",
       "      <td>432</td>\n",
       "      <td>20498</td>\n",
       "      <td>47.449074</td>\n",
       "    </tr>\n",
       "    <tr>\n",
       "      <th>961</th>\n",
       "      <td>962</td>\n",
       "      <td>432</td>\n",
       "      <td>20294</td>\n",
       "      <td>46.976852</td>\n",
       "    </tr>\n",
       "    <tr>\n",
       "      <th>20</th>\n",
       "      <td>21</td>\n",
       "      <td>396</td>\n",
       "      <td>20277</td>\n",
       "      <td>51.204545</td>\n",
       "    </tr>\n",
       "    <tr>\n",
       "      <th>463</th>\n",
       "      <td>464</td>\n",
       "      <td>432</td>\n",
       "      <td>20242</td>\n",
       "      <td>46.856481</td>\n",
       "    </tr>\n",
       "    <tr>\n",
       "      <th>854</th>\n",
       "      <td>855</td>\n",
       "      <td>396</td>\n",
       "      <td>20142</td>\n",
       "      <td>50.863636</td>\n",
       "    </tr>\n",
       "    <tr>\n",
       "      <th>423</th>\n",
       "      <td>424</td>\n",
       "      <td>432</td>\n",
       "      <td>20135</td>\n",
       "      <td>46.608796</td>\n",
       "    </tr>\n",
       "  </tbody>\n",
       "</table>\n",
       "</div>"
      ],
      "text/plain": [
       "     AuthorID  SongID  Revenue  Revenue_per_song\n",
       "48         49     576    27709         48.105903\n",
       "963       964     468    24744         52.871795\n",
       "922       923     540    24185         44.787037\n",
       "141       142     576    23904         41.500000\n",
       "639       640     468    23717         50.677350\n",
       "237       238     468    22577         48.241453\n",
       "774       775     504    22083         43.815476\n",
       "973       974     432    21952         50.814815\n",
       "163       164     432    21938         50.782407\n",
       "651       652     432    21801         50.465278\n",
       "880       881     432    21755         50.358796\n",
       "464       465     432    21686         50.199074\n",
       "272       273     432    21536         49.851852\n",
       "245       246     468    21521         45.985043\n",
       "700       701     432    21259         49.210648\n",
       "783       784     396    21125         53.345960\n",
       "575       576     432    21032         48.685185\n",
       "593       594     432    20939         48.469907\n",
       "52         53     396    20756         52.414141\n",
       "445       446     432    20676         47.861111\n",
       "923       924     396    20652         52.151515\n",
       "205       206     396    20639         52.118687\n",
       "887       888     468    20567         43.946581\n",
       "718       719     396    20508         51.787879\n",
       "153       154     432    20498         47.449074\n",
       "961       962     432    20294         46.976852\n",
       "20         21     396    20277         51.204545\n",
       "463       464     432    20242         46.856481\n",
       "854       855     396    20142         50.863636\n",
       "423       424     432    20135         46.608796"
      ]
     },
     "execution_count": 88,
     "metadata": {},
     "output_type": "execute_result"
    }
   ],
   "source": [
    "##Lets look at revenue per song!\n",
    "##Number of songs per author\n",
    "df_songs_per_author = pd.DataFrame(df3.groupby(\"AuthorID\")[\"SongID\"].count())\n",
    "df_songs_per_author.reset_index(inplace = True)\n",
    "df_songs_per_author.sort_values(by = \"SongID\",ascending=False)\n",
    "df_rev_per_auth = pd.DataFrame(df3.groupby(\"AuthorID\")[\"Revenue\"].sum())\n",
    "df_rev_per_auth.reset_index(inplace = True)\n",
    "df_rev_per_auth\n",
    "df_new = pd.merge(df_songs_per_author,df_rev_per_auth, on = \"AuthorID\")\n",
    "df_new.sort_values(by = \"Revenue\",ascending=False).head(20) \n",
    "df_new[\"Revenue_per_song\"] = df_new[\"Revenue\"]/df_new[\"SongID\"]\n",
    "df_new.sort_values(by = [\"Revenue\",\"Revenue_per_song\"],ascending=[False, False]).head(30)"
   ]
  },
  {
   "cell_type": "code",
   "execution_count": 106,
   "id": "42ab7903",
   "metadata": {
    "scrolled": true
   },
   "outputs": [
    {
     "data": {
      "application/vnd.plotly.v1+json": {
       "config": {
        "plotlyServerURL": "https://plot.ly"
       },
       "data": [
        {
         "customdata": [
          [
           49,
           48.10590277777778
          ],
          [
           964,
           52.87179487179487
          ],
          [
           923,
           44.78703703703704
          ],
          [
           142,
           41.5
          ],
          [
           640,
           50.677350427350426
          ],
          [
           238,
           48.24145299145299
          ],
          [
           775,
           43.81547619047619
          ],
          [
           974,
           50.81481481481482
          ],
          [
           164,
           50.782407407407405
          ],
          [
           652,
           50.46527777777778
          ],
          [
           881,
           50.3587962962963
          ],
          [
           465,
           50.199074074074076
          ],
          [
           273,
           49.851851851851855
          ],
          [
           246,
           45.98504273504273
          ],
          [
           701,
           49.210648148148145
          ],
          [
           784,
           53.3459595959596
          ],
          [
           576,
           48.68518518518518
          ],
          [
           594,
           48.469907407407405
          ],
          [
           53,
           52.41414141414141
          ],
          [
           446,
           47.861111111111114
          ],
          [
           924,
           52.15151515151515
          ],
          [
           206,
           52.11868686868687
          ],
          [
           888,
           43.9465811965812
          ],
          [
           719,
           51.78787878787879
          ],
          [
           154,
           47.449074074074076
          ],
          [
           962,
           46.976851851851855
          ],
          [
           21,
           51.20454545454545
          ],
          [
           464,
           46.85648148148148
          ],
          [
           855,
           50.86363636363637
          ],
          [
           424,
           46.6087962962963
          ],
          [
           587,
           50.81565656565657
          ],
          [
           117,
           55.4
          ],
          [
           306,
           55.291666666666664
          ],
          [
           207,
           50.08585858585859
          ],
          [
           22,
           54.58888888888889
          ],
          [
           894,
           49.60606060606061
          ],
          [
           432,
           45.40046296296296
          ],
          [
           933,
           45.317129629629626
          ],
          [
           23,
           49.378787878787875
          ],
          [
           773,
           54.15277777777778
          ],
          [
           115,
           45.104166666666664
          ],
          [
           518,
           53.525
          ],
          [
           100,
           48.313131313131315
          ],
          [
           331,
           53.138888888888886
          ],
          [
           281,
           48.27272727272727
          ],
          [
           993,
           48.27020202020202
          ],
          [
           458,
           48.12626262626262
          ],
          [
           349,
           48.073232323232325
          ],
          [
           467,
           52.38055555555555
          ],
          [
           487,
           47.573232323232325
          ],
          [
           52,
           47.57070707070707
          ],
          [
           189,
           47.39141414141414
          ],
          [
           378,
           47.265151515151516
          ],
          [
           639,
           47.128787878787875
          ],
          [
           59,
           47.08585858585859
          ],
          [
           45,
           46.755050505050505
          ],
          [
           582,
           56.97530864197531
          ],
          [
           782,
           51.272222222222226
          ],
          [
           204,
           50.980555555555554
          ],
          [
           19,
           46.10606060606061
          ],
          [
           479,
           46.02272727272727
          ],
          [
           236,
           50.53888888888889
          ],
          [
           345,
           56.05555555555556
          ],
          [
           91,
           42.039351851851855
          ],
          [
           514,
           55.99691358024691
          ],
          [
           520,
           45.63131313131313
          ],
          [
           110,
           45.59090909090909
          ],
          [
           612,
           50.06944444444444
          ],
          [
           747,
           45.505050505050505
          ],
          [
           177,
           45.50252525252525
          ],
          [
           368,
           49.96111111111111
          ],
          [
           758,
           41.62731481481482
          ],
          [
           407,
           41.40046296296296
          ],
          [
           736,
           54.72839506172839
          ],
          [
           687,
           49.208333333333336
          ],
          [
           76,
           44.68181818181818
          ],
          [
           11,
           49.03888888888889
          ],
          [
           746,
           44.56818181818182
          ],
          [
           212,
           54.45679012345679
          ],
          [
           308,
           54.44135802469136
          ],
          [
           737,
           44.42424242424242
          ],
          [
           374,
           54.19444444444444
          ],
          [
           552,
           54.05555555555556
          ],
          [
           821,
           48.34722222222222
          ],
          [
           971,
           43.89646464646464
          ],
          [
           777,
           47.96944444444444
          ],
          [
           13,
           53.25308641975309
          ],
          [
           561,
           53.108024691358025
          ],
          [
           392,
           59.71875
          ],
          [
           910,
           47.666666666666664
          ],
          [
           979,
           47.59444444444444
          ],
          [
           629,
           47.52777777777778
          ],
          [
           488,
           52.71913580246913
          ],
          [
           604,
           52.69135802469136
          ],
          [
           87,
           52.608024691358025
          ],
          [
           506,
           47.205555555555556
          ],
          [
           205,
           47.172222222222224
          ],
          [
           301,
           52.04012345679013
          ],
          [
           807,
           46.82222222222222
          ],
          [
           324,
           58.482638888888886
          ],
          [
           286,
           46.74166666666667
          ],
          [
           341,
           46.55555555555556
          ],
          [
           171,
           51.66358024691358
          ],
          [
           82,
           51.623456790123456
          ],
          [
           658,
           51.416666666666664
          ],
          [
           627,
           51.32716049382716
          ],
          [
           217,
           51.28395061728395
          ],
          [
           802,
           57.69097222222222
          ],
          [
           898,
           51.25
          ],
          [
           625,
           51.21913580246913
          ],
          [
           357,
           41.8459595959596
          ],
          [
           794,
           45.87222222222222
          ],
          [
           577,
           50.888888888888886
          ],
          [
           254,
           45.797222222222224
          ],
          [
           360,
           45.78055555555556
          ],
          [
           919,
           45.65833333333333
          ],
          [
           556,
           45.230555555555554
          ],
          [
           200,
           45.06666666666667
          ],
          [
           234,
           50.04938271604938
          ],
          [
           941,
           50.02777777777778
          ],
          [
           543,
           49.916666666666664
          ],
          [
           660,
           44.90277777777778
          ],
          [
           197,
           56.052083333333336
          ],
          [
           225,
           44.797222222222224
          ],
          [
           723,
           49.66975308641975
          ],
          [
           47,
           55.84027777777778
          ],
          [
           815,
           49.626543209876544
          ],
          [
           575,
           49.54320987654321
          ],
          [
           153,
           49.31172839506173
          ],
          [
           163,
           44.355555555555554
          ],
          [
           409,
           49.15432098765432
          ],
          [
           939,
           44.172222222222224
          ],
          [
           75,
           44.03333333333333
          ],
          [
           738,
           48.85493827160494
          ],
          [
           81,
           43.94722222222222
          ],
          [
           410,
           48.80864197530864
          ],
          [
           905,
           54.84722222222222
          ],
          [
           830,
           43.85
          ],
          [
           670,
           48.69444444444444
          ],
          [
           798,
           48.69135802469136
          ],
          [
           930,
           48.6820987654321
          ],
          [
           887,
           48.589506172839506
          ],
          [
           310,
           54.517361111111114
          ],
          [
           469,
           48.45061728395062
          ],
          [
           252,
           48.35493827160494
          ],
          [
           317,
           48.324074074074076
          ],
          [
           270,
           48.23765432098765
          ],
          [
           616,
           43.394444444444446
          ],
          [
           109,
           48.17283950617284
          ],
          [
           724,
           43.28611111111111
          ],
          [
           30,
           54.09375
          ],
          [
           452,
           48.06172839506173
          ],
          [
           184,
           48.04938271604938
          ],
          [
           606,
           48.00925925925926
          ],
          [
           198,
           47.93518518518518
          ],
          [
           390,
           43.08611111111111
          ],
          [
           770,
           47.83024691358025
          ],
          [
           685,
           53.736111111111114
          ],
          [
           129,
           47.74382716049383
          ],
          [
           810,
           47.70679012345679
          ],
          [
           377,
           42.90555555555556
          ],
          [
           426,
           47.623456790123456
          ],
          [
           97,
           47.58641975308642
          ],
          [
           581,
           47.51543209876543
          ],
          [
           893,
           38.82070707070707
          ],
          [
           654,
           53.31597222222222
          ],
          [
           447,
           53.173611111111114
          ],
          [
           912,
           47.26543209876543
          ],
          [
           834,
           53.08680555555556
          ],
          [
           853,
           47.175925925925924
          ],
          [
           799,
           52.829861111111114
          ],
          [
           211,
           42.18888888888889
          ],
          [
           781,
           42.12222222222222
          ],
          [
           418,
           46.78086419753087
          ],
          [
           776,
           52.61805555555556
          ],
          [
           37,
           42.08888888888889
          ],
          [
           831,
           46.74382716049383
          ],
          [
           800,
           46.71913580246913
          ],
          [
           692,
           52.552083333333336
          ],
          [
           250,
           46.6820987654321
          ],
          [
           214,
           52.510416666666664
          ],
          [
           380,
           52.40277777777778
          ],
          [
           10,
           46.58024691358025
          ],
          [
           241,
           38.08838383838384
          ],
          [
           527,
           52.333333333333336
          ],
          [
           878,
           52.333333333333336
          ],
          [
           510,
           46.4537037037037
          ],
          [
           557,
           52.25347222222222
          ],
          [
           316,
           46.42901234567901
          ],
          [
           585,
           41.68888888888889
          ],
          [
           696,
           37.88383838383838
          ],
          [
           706,
           46.26543209876543
          ],
          [
           325,
           46.18518518518518
          ],
          [
           597,
           51.9375
          ],
          [
           622,
           46.166666666666664
          ],
          [
           221,
           51.78819444444444
          ],
          [
           448,
           41.42777777777778
          ],
          [
           111,
           46.02777777777778
          ],
          [
           46,
           45.98148148148148
          ],
          [
           579,
           41.37777777777778
          ],
          [
           591,
           45.851851851851855
          ],
          [
           138,
           45.82098765432099
          ],
          [
           420,
           41.15
          ],
          [
           823,
           58.55555555555556
          ],
          [
           159,
           40.986111111111114
          ],
          [
           497,
           40.87777777777778
          ],
          [
           945,
           51.09027777777778
          ],
          [
           730,
           45.388888888888886
          ],
          [
           137,
           51.05555555555556
          ],
          [
           703,
           50.951388888888886
          ],
          [
           332,
           45.27160493827161
          ],
          [
           333,
           50.90972222222222
          ],
          [
           928,
           50.895833333333336
          ],
          [
           523,
           45.120370370370374
          ],
          [
           186,
           50.708333333333336
          ],
          [
           78,
           45.03703703703704
          ],
          [
           439,
           50.614583333333336
          ],
          [
           740,
           44.94753086419753
          ],
          [
           32,
           44.839506172839506
          ],
          [
           279,
           44.83641975308642
          ],
          [
           440,
           44.82098765432099
          ],
          [
           233,
           44.77160493827161
          ],
          [
           595,
           44.74074074074074
          ],
          [
           104,
           50.3125
          ],
          [
           976,
           50.25347222222222
          ],
          [
           353,
           50.145833333333336
          ],
          [
           973,
           50.145833333333336
          ],
          [
           227,
           50.11805555555556
          ],
          [
           4,
           50.107638888888886
          ],
          [
           882,
           44.52469135802469
          ],
          [
           203,
           50.0625
          ],
          [
           311,
           44.49074074074074
          ],
          [
           430,
           49.94097222222222
          ],
          [
           906,
           49.829861111111114
          ],
          [
           112,
           44.29320987654321
          ],
          [
           389,
           44.21296296296296
          ],
          [
           191,
           56.757936507936506
          ],
          [
           489,
           56.75396825396825
          ],
          [
           857,
           49.642361111111114
          ],
          [
           789,
           49.62152777777778
          ],
          [
           683,
           44.101851851851855
          ],
          [
           260,
           44.00925925925926
          ],
          [
           339,
           49.420138888888886
          ],
          [
           15,
           56.416666666666664
          ],
          [
           275,
           43.84567901234568
          ],
          [
           157,
           49.3125
          ],
          [
           958,
           43.79320987654321
          ],
          [
           144,
           49.236111111111114
          ],
          [
           921,
           56.07936507936508
          ],
          [
           792,
           49.010416666666664
          ],
          [
           542,
           48.989583333333336
          ],
          [
           753,
           48.892361111111114
          ],
          [
           58,
           55.83730158730159
          ],
          [
           170,
           48.84722222222222
          ],
          [
           603,
           48.80555555555556
          ],
          [
           937,
           43.28703703703704
          ],
          [
           313,
           38.891666666666666
          ],
          [
           859,
           55.49603174603175
          ],
          [
           396,
           38.74444444444445
          ],
          [
           71,
           55.12698412698413
          ],
          [
           880,
           48.229166666666664
          ],
          [
           871,
           55.1031746031746
          ],
          [
           787,
           48.15625
          ],
          [
           130,
           48.14930555555556
          ],
          [
           300,
           42.72530864197531
          ],
          [
           872,
           54.92460317460318
          ],
          [
           886,
           48.05555555555556
          ],
          [
           547,
           42.71604938271605
          ],
          [
           858,
           38.40833333333333
          ],
          [
           593,
           54.74603174603175
          ],
          [
           328,
           47.69097222222222
          ],
          [
           817,
           54.3968253968254
          ],
          [
           909,
           54.357142857142854
          ],
          [
           554,
           54.31349206349206
          ],
          [
           466,
           42.135802469135804
          ],
          [
           553,
           54.138888888888886
          ],
          [
           695,
           47.21875
          ],
          [
           965,
           47.1875
          ],
          [
           709,
           47.15277777777778
          ],
          [
           934,
           47.135416666666664
          ],
          [
           361,
           47.02430555555556
          ],
          [
           533,
           41.76234567901235
          ],
          [
           662,
           46.895833333333336
          ],
          [
           505,
           41.623456790123456
          ],
          [
           761,
           46.802083333333336
          ],
          [
           548,
           41.592592592592595
          ],
          [
           475,
           53.285714285714285
          ],
          [
           178,
           46.607638888888886
          ],
          [
           996,
           46.583333333333336
          ],
          [
           79,
           53.21825396825397
          ],
          [
           824,
           46.541666666666664
          ],
          [
           756,
           46.49305555555556
          ],
          [
           416,
           41.09567901234568
          ],
          [
           372,
           41.083333333333336
          ],
          [
           728,
           41.083333333333336
          ],
          [
           774,
           52.78174603174603
          ],
          [
           955,
           41.04012345679013
          ],
          [
           371,
           46.020833333333336
          ],
          [
           224,
           61.120370370370374
          ],
          [
           194,
           40.69753086419753
          ],
          [
           661,
           45.767361111111114
          ],
          [
           995,
           36.6
          ],
          [
           907,
           45.579861111111114
          ],
          [
           602,
           40.45061728395062
          ],
          [
           750,
           45.482638888888886
          ],
          [
           382,
           60.592592592592595
          ],
          [
           984,
           51.861111111111114
          ],
          [
           196,
           40.31481481481482
          ],
          [
           462,
           51.785714285714285
          ],
          [
           592,
           40.27777777777778
          ],
          [
           335,
           45.267361111111114
          ],
          [
           762,
           45.25347222222222
          ],
          [
           26,
           45.232638888888886
          ],
          [
           735,
           51.67063492063492
          ],
          [
           271,
           45.138888888888886
          ],
          [
           942,
           51.55952380952381
          ],
          [
           953,
           45.104166666666664
          ],
          [
           292,
           51.47222222222222
          ],
          [
           121,
           45.020833333333336
          ],
          [
           795,
           44.97222222222222
          ],
          [
           885,
           51.32142857142857
          ],
          [
           443,
           51.26587301587302
          ],
          [
           148,
           44.732638888888886
          ],
          [
           990,
           44.6875
          ],
          [
           305,
           51.05555555555556
          ],
          [
           600,
           51
          ],
          [
           297,
           44.607638888888886
          ],
          [
           259,
           50.976190476190474
          ],
          [
           219,
           44.572916666666664
          ],
          [
           931,
           44.53125
          ],
          [
           471,
           50.833333333333336
          ],
          [
           927,
           50.76587301587302
          ],
          [
           583,
           50.698412698412696
          ],
          [
           183,
           44.322916666666664
          ],
          [
           338,
           59.06481481481482
          ],
          [
           42,
           44.28125
          ],
          [
           359,
           50.567460317460316
          ],
          [
           289,
           50.55555555555556
          ],
          [
           126,
           50.5
          ],
          [
           7,
           50.37301587301587
          ],
          [
           36,
           43.96875
          ],
          [
           914,
           43.96180555555556
          ],
          [
           667,
           50.214285714285715
          ],
          [
           442,
           43.916666666666664
          ],
          [
           515,
           50.12698412698413
          ],
          [
           985,
           43.826388888888886
          ],
          [
           618,
           50.07539682539682
          ],
          [
           611,
           49.99603174603175
          ],
          [
           355,
           49.95634920634921
          ],
          [
           282,
           49.87698412698413
          ],
          [
           102,
           43.482638888888886
          ],
          [
           803,
           38.5679012345679
          ],
          [
           827,
           49.507936507936506
          ],
          [
           90,
           49.44444444444444
          ],
          [
           337,
           49.40079365079365
          ],
          [
           261,
           43.201388888888886
          ],
          [
           968,
           49.28174603174603
          ],
          [
           731,
           49.27777777777778
          ],
          [
           610,
           49.26587301587302
          ],
          [
           226,
           43.10069444444444
          ],
          [
           521,
           49.214285714285715
          ],
          [
           43,
           49.20238095238095
          ],
          [
           841,
           49.166666666666664
          ],
          [
           981,
           49.07936507936508
          ],
          [
           136,
           38.16975308641975
          ],
          [
           915,
           42.93402777777778
          ],
          [
           358,
           49.023809523809526
          ],
          [
           599,
           48.964285714285715
          ],
          [
           778,
           42.791666666666664
          ],
          [
           265,
           48.90079365079365
          ],
          [
           274,
           48.66269841269841
          ],
          [
           620,
           48.654761904761905
          ],
          [
           473,
           48.611111111111114
          ],
          [
           757,
           48.607142857142854
          ],
          [
           540,
           48.40873015873016
          ],
          [
           296,
           48.388888888888886
          ],
          [
           688,
           42.333333333333336
          ],
          [
           201,
           48.33730158730159
          ],
          [
           412,
           48.26984126984127
          ],
          [
           916,
           48.23412698412698
          ],
          [
           873,
           42.15625
          ],
          [
           584,
           42.15277777777778
          ],
          [
           682,
           37.44135802469136
          ],
          [
           161,
           48.095238095238095
          ],
          [
           716,
           48.07142857142857
          ],
          [
           642,
           48.05952380952381
          ],
          [
           362,
           41.84722222222222
          ],
          [
           672,
           47.79761904761905
          ],
          [
           167,
           41.8125
          ],
          [
           793,
           47.75396825396825
          ],
          [
           272,
           55.620370370370374
          ],
          [
           356,
           47.583333333333336
          ],
          [
           918,
           41.579861111111114
          ],
          [
           199,
           55.36574074074074
          ],
          [
           490,
           47.36507936507937
          ],
          [
           495,
           41.375
          ],
          [
           665,
           47.23412698412698
          ],
          [
           717,
           47.142857142857146
          ],
          [
           283,
           54.824074074074076
          ],
          [
           139,
           46.97222222222222
          ],
          [
           708,
           41.03125
          ],
          [
           535,
           54.657407407407405
          ],
          [
           926,
           46.82142857142857
          ],
          [
           551,
           40.90972222222222
          ],
          [
           351,
           46.67857142857143
          ],
          [
           402,
           46.551587301587304
          ],
          [
           40,
           46.54761904761905
          ],
          [
           809,
           46.42857142857143
          ],
          [
           251,
           46.301587301587304
          ],
          [
           329,
           46.29365079365079
          ],
          [
           388,
           53.94444444444444
          ],
          [
           946,
           35.96296296296296
          ],
          [
           638,
           46.182539682539684
          ],
          [
           943,
           46.166666666666664
          ],
          [
           846,
           40.392361111111114
          ],
          [
           2,
           46.12698412698413
          ],
          [
           512,
           53.745370370370374
          ],
          [
           768,
           53.736111111111114
          ],
          [
           103,
           46.03174603174603
          ],
          [
           578,
           46.023809523809526
          ],
          [
           663,
           45.992063492063494
          ],
          [
           769,
           45.992063492063494
          ],
          [
           309,
           40.138888888888886
          ],
          [
           496,
           53.495370370370374
          ],
          [
           895,
           53.43981481481482
          ],
          [
           425,
           45.77777777777778
          ],
          [
           455,
           45.76984126984127
          ],
          [
           68,
           40.02430555555556
          ],
          [
           848,
           45.63095238095238
          ],
          [
           539,
           45.595238095238095
          ],
          [
           155,
           45.54365079365079
          ],
          [
           257,
           53.125
          ],
          [
           947,
           45.51587301587302
          ],
          [
           293,
           53.06944444444444
          ],
          [
           83,
           53.050925925925924
          ],
          [
           263,
           39.78819444444444
          ],
          [
           570,
           45.32539682539682
          ],
          [
           961,
           45.30555555555556
          ],
          [
           276,
           45.142857142857146
          ],
          [
           330,
           52.611111111111114
          ],
          [
           438,
           45.00396825396825
          ],
          [
           516,
           52.47222222222222
          ],
          [
           411,
           52.44444444444444
          ],
          [
           994,
           52.379629629629626
          ],
          [
           436,
           39.25
          ],
          [
           669,
           44.82539682539682
          ],
          [
           441,
           44.75
          ],
          [
           247,
           39.15277777777778
          ],
          [
           17,
           44.69047619047619
          ],
          [
           634,
           52.023148148148145
          ],
          [
           619,
           51.84722222222222
          ],
          [
           395,
           44.40873015873016
          ],
          [
           862,
           44.361111111111114
          ],
          [
           86,
           51.666666666666664
          ],
          [
           304,
           51.574074074074076
          ],
          [
           492,
           51.5
          ],
          [
           569,
           51.43981481481482
          ],
          [
           262,
           44.07936507936508
          ],
          [
           811,
           44.07539682539682
          ],
          [
           18,
           44.07142857142857
          ],
          [
           541,
           44.023809523809526
          ],
          [
           727,
           43.94047619047619
          ],
          [
           468,
           43.93650793650794
          ],
          [
           565,
           51.21296296296296
          ],
          [
           559,
           51.092592592592595
          ],
          [
           972,
           43.74603174603175
          ],
          [
           346,
           43.72222222222222
          ],
          [
           532,
           50.791666666666664
          ],
          [
           978,
           43.523809523809526
          ],
          [
           763,
           50.63425925925926
          ],
          [
           745,
           43.392857142857146
          ],
          [
           84,
           50.61574074074074
          ],
          [
           223,
           50.61574074074074
          ],
          [
           470,
           43.361111111111114
          ],
          [
           450,
           43.357142857142854
          ],
          [
           607,
           50.55555555555556
          ],
          [
           814,
           43.26190476190476
          ],
          [
           451,
           43.23412698412698
          ],
          [
           1,
           50.407407407407405
          ],
          [
           986,
           43.142857142857146
          ],
          [
           902,
           43.12301587301587
          ],
          [
           613,
           43.09920634920635
          ],
          [
           165,
           43.083333333333336
          ],
          [
           303,
           50.199074074074076
          ],
          [
           381,
           42.8968253968254
          ],
          [
           932,
           50.02777777777778
          ],
          [
           698,
           49.995370370370374
          ],
          [
           648,
           42.845238095238095
          ],
          [
           210,
           49.93055555555556
          ],
          [
           899,
           49.907407407407405
          ],
          [
           844,
           49.736111111111114
          ],
          [
           699,
           49.66203703703704
          ],
          [
           938,
           49.657407407407405
          ],
          [
           908,
           37.19444444444444
          ],
          [
           95,
           49.56481481481482
          ],
          [
           62,
           49.56018518518518
          ],
          [
           864,
           49.541666666666664
          ],
          [
           734,
           33.02160493827161
          ],
          [
           336,
           42.43650793650794
          ],
          [
           666,
           42.416666666666664
          ],
          [
           169,
           49.398148148148145
          ],
          [
           193,
           49.351851851851855
          ],
          [
           626,
           49.324074074074076
          ],
          [
           299,
           42.273809523809526
          ],
          [
           216,
           49.30555555555556
          ],
          [
           813,
           49.28703703703704
          ],
          [
           269,
           42.23809523809524
          ],
          [
           166,
           49.273148148148145
          ],
          [
           633,
           49.26851851851852
          ],
          [
           560,
           42.166666666666664
          ],
          [
           917,
           42.111111111111114
          ],
          [
           287,
           49.11574074074074
          ],
          [
           689,
           49.00925925925926
          ],
          [
           291,
           49.004629629629626
          ],
          [
           991,
           48.97222222222222
          ],
          [
           615,
           48.958333333333336
          ],
          [
           677,
           41.94047619047619
          ],
          [
           267,
           41.92063492063492
          ],
          [
           867,
           48.851851851851855
          ],
          [
           630,
           48.833333333333336
          ],
          [
           900,
           48.7037037037037
          ],
          [
           889,
           36.50347222222222
          ],
          [
           836,
           48.60648148148148
          ],
          [
           1000,
           41.654761904761905
          ],
          [
           249,
           36.447916666666664
          ],
          [
           788,
           48.574074074074076
          ],
          [
           833,
           41.607142857142854
          ],
          [
           861,
           48.5
          ],
          [
           537,
           58.18888888888889
          ],
          [
           118,
           41.5
          ],
          [
           511,
           48.111111111111114
          ],
          [
           617,
           48.083333333333336
          ],
          [
           725,
           48.013888888888886
          ],
          [
           896,
           41.142857142857146
          ],
          [
           428,
           41.09920634920635
          ],
          [
           120,
           47.90277777777778
          ],
          [
           419,
           41.023809523809526
          ],
          [
           9,
           47.782407407407405
          ],
          [
           573,
           47.77777777777778
          ],
          [
           818,
           35.80902777777778
          ],
          [
           175,
           35.78472222222222
          ],
          [
           80,
           47.666666666666664
          ],
          [
           586,
           57.15
          ],
          [
           434,
           47.611111111111114
          ],
          [
           572,
           47.592592592592595
          ],
          [
           574,
           40.78968253968254
          ],
          [
           150,
           57.01111111111111
          ],
          [
           676,
           47.40277777777778
          ],
          [
           423,
           47.30555555555556
          ],
          [
           266,
           47.25925925925926
          ],
          [
           461,
           47.25925925925926
          ],
          [
           528,
           47.226851851851855
          ],
          [
           255,
           47.2037037037037
          ],
          [
           146,
           40.45634920634921
          ],
          [
           529,
           47.138888888888886
          ],
          [
           714,
           40.388888888888886
          ],
          [
           631,
           47.0787037037037
          ],
          [
           951,
           47.06944444444444
          ],
          [
           494,
           47.06018518518518
          ],
          [
           414,
           47
          ],
          [
           940,
           46.9537037037037
          ],
          [
           65,
           46.9212962962963
          ],
          [
           743,
           46.800925925925924
          ],
          [
           791,
           56.111111111111114
          ],
          [
           89,
           46.629629629629626
          ],
          [
           796,
           46.5462962962963
          ],
          [
           256,
           55.75555555555555
          ],
          [
           28,
           46.4212962962963
          ],
          [
           435,
           46.375
          ],
          [
           702,
           46.34722222222222
          ],
          [
           491,
           46.31944444444444
          ],
          [
           367,
           46.31481481481482
          ],
          [
           664,
           55.55555555555556
          ],
          [
           656,
           46.26851851851852
          ],
          [
           562,
           55.483333333333334
          ],
          [
           751,
           39.52777777777778
          ],
          [
           302,
           55.31666666666667
          ],
          [
           840,
           46.09722222222222
          ],
          [
           601,
           39.476190476190474
          ],
          [
           444,
           45.9537037037037
          ],
          [
           213,
           55
          ],
          [
           835,
           39.25396825396825
          ],
          [
           391,
           45.736111111111114
          ],
          [
           680,
           45.726851851851855
          ],
          [
           312,
           45.629629629629626
          ],
          [
           653,
           45.58796296296296
          ],
          [
           454,
           54.455555555555556
          ],
          [
           326,
           54.30555555555556
          ],
          [
           323,
           45.24074074074074
          ],
          [
           987,
           45.21296296296296
          ],
          [
           949,
           45.1712962962963
          ],
          [
           588,
           38.65079365079365
          ],
          [
           288,
           45.08796296296296
          ],
          [
           967,
           45.0462962962963
          ],
          [
           5,
           44.96296296296296
          ],
          [
           643,
           44.93518518518518
          ],
          [
           760,
           53.9
          ],
          [
           24,
           53.80555555555556
          ],
          [
           232,
           44.8287037037037
          ],
          [
           188,
           38.42063492063492
          ],
          [
           123,
           44.736111111111114
          ],
          [
           530,
           44.708333333333336
          ],
          [
           73,
           38.26587301587302
          ],
          [
           31,
           44.611111111111114
          ],
          [
           839,
           53.50555555555555
          ],
          [
           822,
           44.467592592592595
          ],
          [
           98,
           44.375
          ],
          [
           843,
           44.361111111111114
          ],
          [
           854,
           44.35648148148148
          ],
          [
           44,
           37.976190476190474
          ],
          [
           786,
           44.254629629629626
          ],
          [
           384,
           53.083333333333336
          ],
          [
           320,
           44.208333333333336
          ],
          [
           502,
           52.71666666666667
          ],
          [
           957,
           52.71666666666667
          ],
          [
           70,
           52.68888888888889
          ],
          [
           379,
           32.90277777777778
          ],
          [
           816,
           43.74074074074074
          ],
          [
           156,
           52.44444444444444
          ],
          [
           913,
           52.41111111111111
          ],
          [
           999,
           52.4
          ],
          [
           718,
           37.3968253968254
          ],
          [
           808,
           52.3
          ],
          [
           67,
           43.583333333333336
          ],
          [
           229,
           52.205555555555556
          ],
          [
           922,
           43.495370370370374
          ],
          [
           315,
           52.144444444444446
          ],
          [
           825,
           52.138888888888886
          ],
          [
           453,
           51.894444444444446
          ],
          [
           373,
           51.88333333333333
          ],
          [
           989,
           51.861111111111114
          ],
          [
           748,
           51.833333333333336
          ],
          [
           948,
           51.794444444444444
          ],
          [
           684,
           51.65555555555556
          ],
          [
           400,
           43.032407407407405
          ],
          [
           929,
           36.84126984126984
          ],
          [
           481,
           42.949074074074076
          ],
          [
           697,
           51.516666666666666
          ],
          [
           892,
           42.916666666666664
          ],
          [
           621,
           51.42777777777778
          ],
          [
           503,
           42.81481481481482
          ],
          [
           925,
           42.81481481481482
          ],
          [
           385,
           42.75
          ],
          [
           650,
           51.24444444444445
          ],
          [
           285,
           51.205555555555556
          ],
          [
           124,
           51.19444444444444
          ],
          [
           340,
           50.894444444444446
          ],
          [
           280,
           50.81666666666667
          ],
          [
           343,
           50.78333333333333
          ],
          [
           975,
           50.733333333333334
          ],
          [
           66,
           50.65555555555556
          ],
          [
           983,
           50.59444444444444
          ],
          [
           133,
           50.31111111111111
          ],
          [
           538,
           50.22222222222222
          ],
          [
           884,
           35.78174603174603
          ],
          [
           132,
           41.72222222222222
          ],
          [
           977,
           49.99444444444445
          ],
          [
           700,
           49.916666666666664
          ],
          [
           327,
           49.894444444444446
          ],
          [
           27,
           49.88333333333333
          ],
          [
           294,
           49.75555555555555
          ],
          [
           549,
           49.705555555555556
          ],
          [
           712,
           49.63333333333333
          ],
          [
           563,
           49.59444444444444
          ],
          [
           641,
           49.544444444444444
          ],
          [
           498,
           49.53888888888889
          ],
          [
           187,
           41.25925925925926
          ],
          [
           783,
           41.24074074074074
          ],
          [
           278,
           61.81944444444444
          ],
          [
           838,
           49.38333333333333
          ],
          [
           694,
           49.327777777777776
          ],
          [
           891,
           40.96296296296296
          ],
          [
           944,
           49.144444444444446
          ],
          [
           877,
           49.105555555555554
          ],
          [
           363,
           40.916666666666664
          ],
          [
           386,
           40.8287037037037
          ],
          [
           228,
           48.98888888888889
          ],
          [
           344,
           48.983333333333334
          ],
          [
           397,
           40.78703703703704
          ],
          [
           509,
           40.782407407407405
          ],
          [
           500,
           48.90555555555556
          ],
          [
           504,
           48.86666666666667
          ],
          [
           646,
           48.78888888888889
          ],
          [
           545,
           48.75555555555555
          ],
          [
           580,
           48.75555555555555
          ],
          [
           690,
           48.75555555555555
          ],
          [
           524,
           40.38425925925926
          ],
          [
           92,
           48.388888888888886
          ],
          [
           63,
           48.361111111111114
          ],
          [
           422,
           40.21296296296296
          ],
          [
           314,
           48.138888888888886
          ],
          [
           904,
           48.111111111111114
          ],
          [
           16,
           48.09444444444444
          ],
          [
           181,
           48.09444444444444
          ],
          [
           151,
           40.074074074074076
          ],
          [
           596,
           48.07222222222222
          ],
          [
           54,
           60.0625
          ],
          [
           152,
           48.044444444444444
          ],
          [
           185,
           47.91111111111111
          ],
          [
           558,
           47.81666666666667
          ],
          [
           240,
           59.75
          ],
          [
           647,
           47.69444444444444
          ],
          [
           749,
           47.644444444444446
          ],
          [
           772,
           39.68981481481482
          ],
          [
           742,
           47.6
          ],
          [
           135,
           47.516666666666666
          ],
          [
           571,
           59.31944444444444
          ],
          [
           513,
           47.388888888888886
          ],
          [
           693,
           47.37777777777778
          ],
          [
           173,
           39.467592592592595
          ],
          [
           366,
           47.33888888888889
          ],
          [
           954,
           59.15972222222222
          ],
          [
           635,
           47.32222222222222
          ],
          [
           398,
           47.166666666666664
          ],
          [
           25,
           47.16111111111111
          ],
          [
           147,
           46.96666666666667
          ],
          [
           936,
           39.004629629629626
          ],
          [
           963,
           46.74444444444445
          ],
          [
           755,
           46.73888888888889
          ],
          [
           431,
           58.40972222222222
          ],
          [
           678,
           58.36805555555556
          ],
          [
           486,
           46.67777777777778
          ],
          [
           739,
           38.851851851851855
          ],
          [
           415,
           46.422222222222224
          ],
          [
           671,
           46.422222222222224
          ],
          [
           8,
           38.675925925925924
          ],
          [
           134,
           46.40555555555556
          ],
          [
           245,
           46.40555555555556
          ],
          [
           564,
           38.58796296296296
          ],
          [
           704,
           46.28888888888889
          ],
          [
           628,
           46.15
          ],
          [
           482,
           38.43981481481482
          ],
          [
           759,
           46.12222222222222
          ],
          [
           413,
           46.083333333333336
          ],
          [
           845,
           38.35648148148148
          ],
          [
           125,
           38.34722222222222
          ],
          [
           179,
           45.98888888888889
          ],
          [
           477,
           45.9
          ],
          [
           764,
           38.21296296296296
          ],
          [
           903,
           45.76111111111111
          ],
          [
           876,
           57.104166666666664
          ],
          [
           404,
           38
          ],
          [
           145,
           45.59444444444444
          ],
          [
           231,
           45.51111111111111
          ],
          [
           870,
           45.42777777777778
          ],
          [
           48,
           45.355555555555554
          ],
          [
           966,
           45.21111111111111
          ],
          [
           997,
           37.620370370370374
          ],
          [
           20,
           44.727777777777774
          ],
          [
           998,
           44.68333333333333
          ],
          [
           433,
           44.55
          ],
          [
           952,
           44.416666666666664
          ],
          [
           190,
           55.50694444444444
          ],
          [
           237,
           44.394444444444446
          ],
          [
           920,
           44.227777777777774
          ],
          [
           41,
           36.55555555555556
          ],
          [
           890,
           43.861111111111114
          ],
          [
           93,
           43.78888888888889
          ],
          [
           3,
           43.7
          ],
          [
           649,
           43.68888888888889
          ],
          [
           141,
           43.67777777777778
          ],
          [
           298,
           36.38425925925926
          ],
          [
           546,
           54.56944444444444
          ],
          [
           99,
           43.59444444444444
          ],
          [
           290,
           36.31018518518518
          ],
          [
           733,
           36.31018518518518
          ],
          [
           119,
           54.40277777777778
          ],
          [
           711,
           43.477777777777774
          ],
          [
           253,
           54.263888888888886
          ],
          [
           387,
           36.14351851851852
          ],
          [
           806,
           43.34444444444444
          ],
          [
           394,
           54.166666666666664
          ],
          [
           868,
           43.333333333333336
          ],
          [
           456,
           54.020833333333336
          ],
          [
           476,
           53.93055555555556
          ],
          [
           651,
           43.13333333333333
          ],
          [
           765,
           43.09444444444444
          ],
          [
           127,
           53.80555555555556
          ],
          [
           408,
           53.673611111111114
          ],
          [
           268,
           42.9
          ],
          [
           176,
           53.395833333333336
          ],
          [
           334,
           53.27777777777778
          ],
          [
           399,
           53.02777777777778
          ],
          [
           856,
           35.092592592592595
          ],
          [
           51,
           52.63194444444444
          ],
          [
           744,
           41.672222222222224
          ],
          [
           707,
           34.71296296296296
          ],
          [
           686,
           51.951388888888886
          ],
          [
           850,
           41.51111111111111
          ],
          [
           801,
           41.327777777777776
          ],
          [
           348,
           41.25555555555555
          ],
          [
           519,
           41.19444444444444
          ],
          [
           383,
           51.46527777777778
          ],
          [
           609,
           51.388888888888886
          ],
          [
           61,
           34.23148148148148
          ],
          [
           982,
           68.21296296296296
          ],
          [
           865,
           40.92777777777778
          ],
          [
           522,
           51.00694444444444
          ],
          [
           96,
           40.705555555555556
          ],
          [
           501,
           50.854166666666664
          ],
          [
           354,
           50.729166666666664
          ],
          [
           826,
           50.72222222222222
          ],
          [
           364,
           40.56111111111111
          ],
          [
           472,
           40.48888888888889
          ],
          [
           376,
           50.59722222222222
          ],
          [
           6,
           50.486111111111114
          ],
          [
           536,
           50.361111111111114
          ],
          [
           114,
           50.27777777777778
          ],
          [
           445,
           50.270833333333336
          ],
          [
           969,
           50.145833333333336
          ],
          [
           60,
           50.13194444444444
          ],
          [
           780,
           39.91111111111111
          ],
          [
           681,
           49.875
          ],
          [
           675,
           39.75
          ],
          [
           463,
           49.666666666666664
          ],
          [
           128,
           49.36805555555556
          ],
          [
           674,
           32.879629629629626
          ],
          [
           779,
           49.208333333333336
          ],
          [
           499,
           49.15972222222222
          ],
          [
           220,
           49.041666666666664
          ],
          [
           352,
           48.6875
          ],
          [
           393,
           48.68055555555556
          ],
          [
           401,
           38.91111111111111
          ],
          [
           192,
           48.50694444444444
          ],
          [
           636,
           48.24305555555556
          ],
          [
           713,
           48.229166666666664
          ],
          [
           57,
           48.111111111111114
          ],
          [
           195,
           32.06481481481482
          ],
          [
           767,
           38.25
          ],
          [
           208,
           47.791666666666664
          ],
          [
           318,
           47.236111111111114
          ],
          [
           429,
           47.208333333333336
          ],
          [
           874,
           47.201388888888886
          ],
          [
           483,
           62.26851851851852
          ],
          [
           623,
           46.63194444444444
          ],
          [
           842,
           46.34027777777778
          ],
          [
           264,
           30.875
          ],
          [
           598,
           61.71296296296296
          ],
          [
           50,
           46.263888888888886
          ],
          [
           485,
           46.05555555555556
          ],
          [
           143,
           46.020833333333336
          ],
          [
           321,
           36.77777777777778
          ],
          [
           149,
           36.56666666666667
          ],
          [
           632,
           45.583333333333336
          ],
          [
           105,
           60.71296296296296
          ],
          [
           911,
           36.388888888888886
          ],
          [
           645,
           45.40277777777778
          ],
          [
           248,
           60.50925925925926
          ],
          [
           113,
           45.236111111111114
          ],
          [
           992,
           45.173611111111114
          ],
          [
           608,
           45.06944444444444
          ],
          [
           852,
           44.826388888888886
          ],
          [
           350,
           59.47222222222222
          ],
          [
           589,
           44.40972222222222
          ],
          [
           729,
           44.388888888888886
          ],
          [
           29,
           44.34722222222222
          ],
          [
           258,
           35.47222222222222
          ],
          [
           722,
           44.24305555555556
          ],
          [
           960,
           44.22222222222222
          ],
          [
           771,
           44.05555555555556
          ],
          [
           897,
           43.951388888888886
          ],
          [
           347,
           43.701388888888886
          ],
          [
           478,
           43.638888888888886
          ],
          [
           74,
           43.55555555555556
          ],
          [
           38,
           43.388888888888886
          ],
          [
           375,
           43.333333333333336
          ],
          [
           875,
           43.27777777777778
          ],
          [
           555,
           43.25
          ],
          [
           222,
           57.379629629629626
          ],
          [
           679,
           57.324074074074076
          ],
          [
           785,
           42.72222222222222
          ],
          [
           526,
           56.907407407407405
          ],
          [
           657,
           34.12222222222222
          ],
          [
           421,
           56.842592592592595
          ],
          [
           812,
           56.324074074074076
          ],
          [
           277,
           42.22222222222222
          ],
          [
           39,
           42.03472222222222
          ],
          [
           12,
           55.925925925925924
          ],
          [
           790,
           41.875
          ],
          [
           819,
           55.80555555555556
          ],
          [
           202,
           55.75
          ],
          [
           14,
           41.798611111111114
          ],
          [
           116,
           41.27777777777778
          ],
          [
           637,
           41.229166666666664
          ],
          [
           847,
           54.80555555555556
          ],
          [
           705,
           54.4537037037037
          ],
          [
           837,
           54.425925925925924
          ],
          [
           172,
           40.763888888888886
          ],
          [
           507,
           40.541666666666664
          ],
          [
           988,
           40.423611111111114
          ],
          [
           64,
           53.78703703703704
          ],
          [
           69,
           53.5
          ],
          [
           820,
           53.44444444444444
          ],
          [
           34,
           39.88194444444444
          ],
          [
           122,
           39.875
          ],
          [
           319,
           39.173611111111114
          ],
          [
           459,
           38.93055555555556
          ],
          [
           901,
           38.854166666666664
          ],
          [
           369,
           51.47222222222222
          ],
          [
           860,
           51.361111111111114
          ],
          [
           182,
           51.31481481481482
          ],
          [
           405,
           38.40277777777778
          ],
          [
           754,
           50.73148148148148
          ],
          [
           88,
           50.583333333333336
          ],
          [
           342,
           50.388888888888886
          ],
          [
           710,
           30.2
          ],
          [
           474,
           30.011111111111113
          ],
          [
           732,
           37.388888888888886
          ],
          [
           828,
           49.77777777777778
          ],
          [
           77,
           29.783333333333335
          ],
          [
           108,
           36.90277777777778
          ],
          [
           766,
           36.65972222222222
          ],
          [
           726,
           36.375
          ],
          [
           950,
           48.43518518518518
          ],
          [
           131,
           36.041666666666664
          ],
          [
           970,
           47.638888888888886
          ],
          [
           427,
           47.629629629629626
          ],
          [
           644,
           46.9537037037037
          ],
          [
           883,
           46.7962962962963
          ],
          [
           101,
           46.75925925925926
          ],
          [
           35,
           46.03703703703704
          ],
          [
           797,
           45.916666666666664
          ],
          [
           480,
           33.94444444444444
          ],
          [
           534,
           33.791666666666664
          ],
          [
           517,
           44.888888888888886
          ],
          [
           403,
           44.7962962962963
          ],
          [
           365,
           33.27777777777778
          ],
          [
           239,
           44.324074074074076
          ],
          [
           209,
           43.583333333333336
          ],
          [
           460,
           43.157407407407405
          ],
          [
           162,
           43.01851851851852
          ],
          [
           668,
           42.97222222222222
          ],
          [
           56,
           63.666666666666664
          ],
          [
           307,
           31.40972222222222
          ],
          [
           568,
           41.28703703703704
          ],
          [
           235,
           61.763888888888886
          ],
          [
           417,
           40.75
          ],
          [
           624,
           40.51851851851852
          ],
          [
           449,
           40.22222222222222
          ],
          [
           804,
           59.75
          ],
          [
           659,
           59.736111111111114
          ],
          [
           107,
           39.148148148148145
          ],
          [
           437,
           38.870370370370374
          ],
          [
           484,
           58.18055555555556
          ],
          [
           55,
           38.46296296296296
          ],
          [
           829,
           38.30555555555556
          ],
          [
           525,
           38.111111111111114
          ],
          [
           215,
           37.7037037037037
          ],
          [
           33,
           37.351851851851855
          ],
          [
           741,
           54.888888888888886
          ],
          [
           180,
           54.611111111111114
          ],
          [
           218,
           36.23148148148148
          ],
          [
           879,
           54.111111111111114
          ],
          [
           158,
           53.90277777777778
          ],
          [
           370,
           53.09722222222222
          ],
          [
           851,
           52.125
          ],
          [
           956,
           51.68055555555556
          ],
          [
           614,
           34.0462962962963
          ],
          [
           959,
           50.763888888888886
          ],
          [
           721,
           49.666666666666664
          ],
          [
           715,
           49.361111111111114
          ],
          [
           244,
           32.78703703703704
          ],
          [
           849,
           48.763888888888886
          ],
          [
           106,
           48.05555555555556
          ],
          [
           457,
           31.37037037037037
          ],
          [
           869,
           46.02777777777778
          ],
          [
           752,
           45.708333333333336
          ],
          [
           720,
           45.02777777777778
          ],
          [
           550,
           44.611111111111114
          ],
          [
           832,
           44.375
          ],
          [
           605,
           44.19444444444444
          ],
          [
           544,
           28.98148148148148
          ],
          [
           295,
           42.486111111111114
          ],
          [
           94,
           42.111111111111114
          ],
          [
           168,
           41.30555555555556
          ],
          [
           655,
           40.69444444444444
          ],
          [
           493,
           40.5
          ],
          [
           566,
           40
          ],
          [
           980,
           39.875
          ],
          [
           284,
           38.388888888888886
          ],
          [
           140,
           37.958333333333336
          ],
          [
           72,
           37.40277777777778
          ],
          [
           174,
           37.013888888888886
          ],
          [
           242,
           68.86111111111111
          ],
          [
           691,
           34.31944444444444
          ],
          [
           508,
           34.06944444444444
          ],
          [
           567,
           21.194444444444443
          ],
          [
           160,
           30.069444444444443
          ],
          [
           590,
           29.38888888888889
          ],
          [
           243,
           56.94444444444444
          ],
          [
           531,
           55.94444444444444
          ],
          [
           322,
           54.19444444444444
          ],
          [
           805,
           54.138888888888886
          ],
          [
           863,
           53.833333333333336
          ],
          [
           406,
           51.47222222222222
          ],
          [
           866,
           49.94444444444444
          ],
          [
           673,
           48.916666666666664
          ],
          [
           85,
           44.333333333333336
          ],
          [
           935,
           43.25
          ],
          [
           230,
           30.61111111111111
          ]
         ],
         "hovertemplate": "Number of Songs=%{x}<br>Revenue=%{y}<br>Revenue per song=%{customdata[1]}<br>AuthorID=%{marker.color}<extra></extra>",
         "legendgroup": "",
         "marker": {
          "color": [
           49,
           964,
           923,
           142,
           640,
           238,
           775,
           974,
           164,
           652,
           881,
           465,
           273,
           246,
           701,
           784,
           576,
           594,
           53,
           446,
           924,
           206,
           888,
           719,
           154,
           962,
           21,
           464,
           855,
           424,
           587,
           117,
           306,
           207,
           22,
           894,
           432,
           933,
           23,
           773,
           115,
           518,
           100,
           331,
           281,
           993,
           458,
           349,
           467,
           487,
           52,
           189,
           378,
           639,
           59,
           45,
           582,
           782,
           204,
           19,
           479,
           236,
           345,
           91,
           514,
           520,
           110,
           612,
           747,
           177,
           368,
           758,
           407,
           736,
           687,
           76,
           11,
           746,
           212,
           308,
           737,
           374,
           552,
           821,
           971,
           777,
           13,
           561,
           392,
           910,
           979,
           629,
           488,
           604,
           87,
           506,
           205,
           301,
           807,
           324,
           286,
           341,
           171,
           82,
           658,
           627,
           217,
           802,
           898,
           625,
           357,
           794,
           577,
           254,
           360,
           919,
           556,
           200,
           234,
           941,
           543,
           660,
           197,
           225,
           723,
           47,
           815,
           575,
           153,
           163,
           409,
           939,
           75,
           738,
           81,
           410,
           905,
           830,
           670,
           798,
           930,
           887,
           310,
           469,
           252,
           317,
           270,
           616,
           109,
           724,
           30,
           452,
           184,
           606,
           198,
           390,
           770,
           685,
           129,
           810,
           377,
           426,
           97,
           581,
           893,
           654,
           447,
           912,
           834,
           853,
           799,
           211,
           781,
           418,
           776,
           37,
           831,
           800,
           692,
           250,
           214,
           380,
           10,
           241,
           527,
           878,
           510,
           557,
           316,
           585,
           696,
           706,
           325,
           597,
           622,
           221,
           448,
           111,
           46,
           579,
           591,
           138,
           420,
           823,
           159,
           497,
           945,
           730,
           137,
           703,
           332,
           333,
           928,
           523,
           186,
           78,
           439,
           740,
           32,
           279,
           440,
           233,
           595,
           104,
           976,
           353,
           973,
           227,
           4,
           882,
           203,
           311,
           430,
           906,
           112,
           389,
           191,
           489,
           857,
           789,
           683,
           260,
           339,
           15,
           275,
           157,
           958,
           144,
           921,
           792,
           542,
           753,
           58,
           170,
           603,
           937,
           313,
           859,
           396,
           71,
           880,
           871,
           787,
           130,
           300,
           872,
           886,
           547,
           858,
           593,
           328,
           817,
           909,
           554,
           466,
           553,
           695,
           965,
           709,
           934,
           361,
           533,
           662,
           505,
           761,
           548,
           475,
           178,
           996,
           79,
           824,
           756,
           416,
           372,
           728,
           774,
           955,
           371,
           224,
           194,
           661,
           995,
           907,
           602,
           750,
           382,
           984,
           196,
           462,
           592,
           335,
           762,
           26,
           735,
           271,
           942,
           953,
           292,
           121,
           795,
           885,
           443,
           148,
           990,
           305,
           600,
           297,
           259,
           219,
           931,
           471,
           927,
           583,
           183,
           338,
           42,
           359,
           289,
           126,
           7,
           36,
           914,
           667,
           442,
           515,
           985,
           618,
           611,
           355,
           282,
           102,
           803,
           827,
           90,
           337,
           261,
           968,
           731,
           610,
           226,
           521,
           43,
           841,
           981,
           136,
           915,
           358,
           599,
           778,
           265,
           274,
           620,
           473,
           757,
           540,
           296,
           688,
           201,
           412,
           916,
           873,
           584,
           682,
           161,
           716,
           642,
           362,
           672,
           167,
           793,
           272,
           356,
           918,
           199,
           490,
           495,
           665,
           717,
           283,
           139,
           708,
           535,
           926,
           551,
           351,
           402,
           40,
           809,
           251,
           329,
           388,
           946,
           638,
           943,
           846,
           2,
           512,
           768,
           103,
           578,
           663,
           769,
           309,
           496,
           895,
           425,
           455,
           68,
           848,
           539,
           155,
           257,
           947,
           293,
           83,
           263,
           570,
           961,
           276,
           330,
           438,
           516,
           411,
           994,
           436,
           669,
           441,
           247,
           17,
           634,
           619,
           395,
           862,
           86,
           304,
           492,
           569,
           262,
           811,
           18,
           541,
           727,
           468,
           565,
           559,
           972,
           346,
           532,
           978,
           763,
           745,
           84,
           223,
           470,
           450,
           607,
           814,
           451,
           1,
           986,
           902,
           613,
           165,
           303,
           381,
           932,
           698,
           648,
           210,
           899,
           844,
           699,
           938,
           908,
           95,
           62,
           864,
           734,
           336,
           666,
           169,
           193,
           626,
           299,
           216,
           813,
           269,
           166,
           633,
           560,
           917,
           287,
           689,
           291,
           991,
           615,
           677,
           267,
           867,
           630,
           900,
           889,
           836,
           1000,
           249,
           788,
           833,
           861,
           537,
           118,
           511,
           617,
           725,
           896,
           428,
           120,
           419,
           9,
           573,
           818,
           175,
           80,
           586,
           434,
           572,
           574,
           150,
           676,
           423,
           266,
           461,
           528,
           255,
           146,
           529,
           714,
           631,
           951,
           494,
           414,
           940,
           65,
           743,
           791,
           89,
           796,
           256,
           28,
           435,
           702,
           491,
           367,
           664,
           656,
           562,
           751,
           302,
           840,
           601,
           444,
           213,
           835,
           391,
           680,
           312,
           653,
           454,
           326,
           323,
           987,
           949,
           588,
           288,
           967,
           5,
           643,
           760,
           24,
           232,
           188,
           123,
           530,
           73,
           31,
           839,
           822,
           98,
           843,
           854,
           44,
           786,
           384,
           320,
           502,
           957,
           70,
           379,
           816,
           156,
           913,
           999,
           718,
           808,
           67,
           229,
           922,
           315,
           825,
           453,
           373,
           989,
           748,
           948,
           684,
           400,
           929,
           481,
           697,
           892,
           621,
           503,
           925,
           385,
           650,
           285,
           124,
           340,
           280,
           343,
           975,
           66,
           983,
           133,
           538,
           884,
           132,
           977,
           700,
           327,
           27,
           294,
           549,
           712,
           563,
           641,
           498,
           187,
           783,
           278,
           838,
           694,
           891,
           944,
           877,
           363,
           386,
           228,
           344,
           397,
           509,
           500,
           504,
           646,
           545,
           580,
           690,
           524,
           92,
           63,
           422,
           314,
           904,
           16,
           181,
           151,
           596,
           54,
           152,
           185,
           558,
           240,
           647,
           749,
           772,
           742,
           135,
           571,
           513,
           693,
           173,
           366,
           954,
           635,
           398,
           25,
           147,
           936,
           963,
           755,
           431,
           678,
           486,
           739,
           415,
           671,
           8,
           134,
           245,
           564,
           704,
           628,
           482,
           759,
           413,
           845,
           125,
           179,
           477,
           764,
           903,
           876,
           404,
           145,
           231,
           870,
           48,
           966,
           997,
           20,
           998,
           433,
           952,
           190,
           237,
           920,
           41,
           890,
           93,
           3,
           649,
           141,
           298,
           546,
           99,
           290,
           733,
           119,
           711,
           253,
           387,
           806,
           394,
           868,
           456,
           476,
           651,
           765,
           127,
           408,
           268,
           176,
           334,
           399,
           856,
           51,
           744,
           707,
           686,
           850,
           801,
           348,
           519,
           383,
           609,
           61,
           982,
           865,
           522,
           96,
           501,
           354,
           826,
           364,
           472,
           376,
           6,
           536,
           114,
           445,
           969,
           60,
           780,
           681,
           675,
           463,
           128,
           674,
           779,
           499,
           220,
           352,
           393,
           401,
           192,
           636,
           713,
           57,
           195,
           767,
           208,
           318,
           429,
           874,
           483,
           623,
           842,
           264,
           598,
           50,
           485,
           143,
           321,
           149,
           632,
           105,
           911,
           645,
           248,
           113,
           992,
           608,
           852,
           350,
           589,
           729,
           29,
           258,
           722,
           960,
           771,
           897,
           347,
           478,
           74,
           38,
           375,
           875,
           555,
           222,
           679,
           785,
           526,
           657,
           421,
           812,
           277,
           39,
           12,
           790,
           819,
           202,
           14,
           116,
           637,
           847,
           705,
           837,
           172,
           507,
           988,
           64,
           69,
           820,
           34,
           122,
           319,
           459,
           901,
           369,
           860,
           182,
           405,
           754,
           88,
           342,
           710,
           474,
           732,
           828,
           77,
           108,
           766,
           726,
           950,
           131,
           970,
           427,
           644,
           883,
           101,
           35,
           797,
           480,
           534,
           517,
           403,
           365,
           239,
           209,
           460,
           162,
           668,
           56,
           307,
           568,
           235,
           417,
           624,
           449,
           804,
           659,
           107,
           437,
           484,
           55,
           829,
           525,
           215,
           33,
           741,
           180,
           218,
           879,
           158,
           370,
           851,
           956,
           614,
           959,
           721,
           715,
           244,
           849,
           106,
           457,
           869,
           752,
           720,
           550,
           832,
           605,
           544,
           295,
           94,
           168,
           655,
           493,
           566,
           980,
           284,
           140,
           72,
           174,
           242,
           691,
           508,
           567,
           160,
           590,
           243,
           531,
           322,
           805,
           863,
           406,
           866,
           673,
           85,
           935,
           230
          ],
          "coloraxis": "coloraxis",
          "size": [
           48.10590277777778,
           52.87179487179487,
           44.78703703703704,
           41.5,
           50.677350427350426,
           48.24145299145299,
           43.81547619047619,
           50.81481481481482,
           50.782407407407405,
           50.46527777777778,
           50.3587962962963,
           50.199074074074076,
           49.851851851851855,
           45.98504273504273,
           49.210648148148145,
           53.3459595959596,
           48.68518518518518,
           48.469907407407405,
           52.41414141414141,
           47.861111111111114,
           52.15151515151515,
           52.11868686868687,
           43.9465811965812,
           51.78787878787879,
           47.449074074074076,
           46.976851851851855,
           51.20454545454545,
           46.85648148148148,
           50.86363636363637,
           46.6087962962963,
           50.81565656565657,
           55.4,
           55.291666666666664,
           50.08585858585859,
           54.58888888888889,
           49.60606060606061,
           45.40046296296296,
           45.317129629629626,
           49.378787878787875,
           54.15277777777778,
           45.104166666666664,
           53.525,
           48.313131313131315,
           53.138888888888886,
           48.27272727272727,
           48.27020202020202,
           48.12626262626262,
           48.073232323232325,
           52.38055555555555,
           47.573232323232325,
           47.57070707070707,
           47.39141414141414,
           47.265151515151516,
           47.128787878787875,
           47.08585858585859,
           46.755050505050505,
           56.97530864197531,
           51.272222222222226,
           50.980555555555554,
           46.10606060606061,
           46.02272727272727,
           50.53888888888889,
           56.05555555555556,
           42.039351851851855,
           55.99691358024691,
           45.63131313131313,
           45.59090909090909,
           50.06944444444444,
           45.505050505050505,
           45.50252525252525,
           49.96111111111111,
           41.62731481481482,
           41.40046296296296,
           54.72839506172839,
           49.208333333333336,
           44.68181818181818,
           49.03888888888889,
           44.56818181818182,
           54.45679012345679,
           54.44135802469136,
           44.42424242424242,
           54.19444444444444,
           54.05555555555556,
           48.34722222222222,
           43.89646464646464,
           47.96944444444444,
           53.25308641975309,
           53.108024691358025,
           59.71875,
           47.666666666666664,
           47.59444444444444,
           47.52777777777778,
           52.71913580246913,
           52.69135802469136,
           52.608024691358025,
           47.205555555555556,
           47.172222222222224,
           52.04012345679013,
           46.82222222222222,
           58.482638888888886,
           46.74166666666667,
           46.55555555555556,
           51.66358024691358,
           51.623456790123456,
           51.416666666666664,
           51.32716049382716,
           51.28395061728395,
           57.69097222222222,
           51.25,
           51.21913580246913,
           41.8459595959596,
           45.87222222222222,
           50.888888888888886,
           45.797222222222224,
           45.78055555555556,
           45.65833333333333,
           45.230555555555554,
           45.06666666666667,
           50.04938271604938,
           50.02777777777778,
           49.916666666666664,
           44.90277777777778,
           56.052083333333336,
           44.797222222222224,
           49.66975308641975,
           55.84027777777778,
           49.626543209876544,
           49.54320987654321,
           49.31172839506173,
           44.355555555555554,
           49.15432098765432,
           44.172222222222224,
           44.03333333333333,
           48.85493827160494,
           43.94722222222222,
           48.80864197530864,
           54.84722222222222,
           43.85,
           48.69444444444444,
           48.69135802469136,
           48.6820987654321,
           48.589506172839506,
           54.517361111111114,
           48.45061728395062,
           48.35493827160494,
           48.324074074074076,
           48.23765432098765,
           43.394444444444446,
           48.17283950617284,
           43.28611111111111,
           54.09375,
           48.06172839506173,
           48.04938271604938,
           48.00925925925926,
           47.93518518518518,
           43.08611111111111,
           47.83024691358025,
           53.736111111111114,
           47.74382716049383,
           47.70679012345679,
           42.90555555555556,
           47.623456790123456,
           47.58641975308642,
           47.51543209876543,
           38.82070707070707,
           53.31597222222222,
           53.173611111111114,
           47.26543209876543,
           53.08680555555556,
           47.175925925925924,
           52.829861111111114,
           42.18888888888889,
           42.12222222222222,
           46.78086419753087,
           52.61805555555556,
           42.08888888888889,
           46.74382716049383,
           46.71913580246913,
           52.552083333333336,
           46.6820987654321,
           52.510416666666664,
           52.40277777777778,
           46.58024691358025,
           38.08838383838384,
           52.333333333333336,
           52.333333333333336,
           46.4537037037037,
           52.25347222222222,
           46.42901234567901,
           41.68888888888889,
           37.88383838383838,
           46.26543209876543,
           46.18518518518518,
           51.9375,
           46.166666666666664,
           51.78819444444444,
           41.42777777777778,
           46.02777777777778,
           45.98148148148148,
           41.37777777777778,
           45.851851851851855,
           45.82098765432099,
           41.15,
           58.55555555555556,
           40.986111111111114,
           40.87777777777778,
           51.09027777777778,
           45.388888888888886,
           51.05555555555556,
           50.951388888888886,
           45.27160493827161,
           50.90972222222222,
           50.895833333333336,
           45.120370370370374,
           50.708333333333336,
           45.03703703703704,
           50.614583333333336,
           44.94753086419753,
           44.839506172839506,
           44.83641975308642,
           44.82098765432099,
           44.77160493827161,
           44.74074074074074,
           50.3125,
           50.25347222222222,
           50.145833333333336,
           50.145833333333336,
           50.11805555555556,
           50.107638888888886,
           44.52469135802469,
           50.0625,
           44.49074074074074,
           49.94097222222222,
           49.829861111111114,
           44.29320987654321,
           44.21296296296296,
           56.757936507936506,
           56.75396825396825,
           49.642361111111114,
           49.62152777777778,
           44.101851851851855,
           44.00925925925926,
           49.420138888888886,
           56.416666666666664,
           43.84567901234568,
           49.3125,
           43.79320987654321,
           49.236111111111114,
           56.07936507936508,
           49.010416666666664,
           48.989583333333336,
           48.892361111111114,
           55.83730158730159,
           48.84722222222222,
           48.80555555555556,
           43.28703703703704,
           38.891666666666666,
           55.49603174603175,
           38.74444444444445,
           55.12698412698413,
           48.229166666666664,
           55.1031746031746,
           48.15625,
           48.14930555555556,
           42.72530864197531,
           54.92460317460318,
           48.05555555555556,
           42.71604938271605,
           38.40833333333333,
           54.74603174603175,
           47.69097222222222,
           54.3968253968254,
           54.357142857142854,
           54.31349206349206,
           42.135802469135804,
           54.138888888888886,
           47.21875,
           47.1875,
           47.15277777777778,
           47.135416666666664,
           47.02430555555556,
           41.76234567901235,
           46.895833333333336,
           41.623456790123456,
           46.802083333333336,
           41.592592592592595,
           53.285714285714285,
           46.607638888888886,
           46.583333333333336,
           53.21825396825397,
           46.541666666666664,
           46.49305555555556,
           41.09567901234568,
           41.083333333333336,
           41.083333333333336,
           52.78174603174603,
           41.04012345679013,
           46.020833333333336,
           61.120370370370374,
           40.69753086419753,
           45.767361111111114,
           36.6,
           45.579861111111114,
           40.45061728395062,
           45.482638888888886,
           60.592592592592595,
           51.861111111111114,
           40.31481481481482,
           51.785714285714285,
           40.27777777777778,
           45.267361111111114,
           45.25347222222222,
           45.232638888888886,
           51.67063492063492,
           45.138888888888886,
           51.55952380952381,
           45.104166666666664,
           51.47222222222222,
           45.020833333333336,
           44.97222222222222,
           51.32142857142857,
           51.26587301587302,
           44.732638888888886,
           44.6875,
           51.05555555555556,
           51,
           44.607638888888886,
           50.976190476190474,
           44.572916666666664,
           44.53125,
           50.833333333333336,
           50.76587301587302,
           50.698412698412696,
           44.322916666666664,
           59.06481481481482,
           44.28125,
           50.567460317460316,
           50.55555555555556,
           50.5,
           50.37301587301587,
           43.96875,
           43.96180555555556,
           50.214285714285715,
           43.916666666666664,
           50.12698412698413,
           43.826388888888886,
           50.07539682539682,
           49.99603174603175,
           49.95634920634921,
           49.87698412698413,
           43.482638888888886,
           38.5679012345679,
           49.507936507936506,
           49.44444444444444,
           49.40079365079365,
           43.201388888888886,
           49.28174603174603,
           49.27777777777778,
           49.26587301587302,
           43.10069444444444,
           49.214285714285715,
           49.20238095238095,
           49.166666666666664,
           49.07936507936508,
           38.16975308641975,
           42.93402777777778,
           49.023809523809526,
           48.964285714285715,
           42.791666666666664,
           48.90079365079365,
           48.66269841269841,
           48.654761904761905,
           48.611111111111114,
           48.607142857142854,
           48.40873015873016,
           48.388888888888886,
           42.333333333333336,
           48.33730158730159,
           48.26984126984127,
           48.23412698412698,
           42.15625,
           42.15277777777778,
           37.44135802469136,
           48.095238095238095,
           48.07142857142857,
           48.05952380952381,
           41.84722222222222,
           47.79761904761905,
           41.8125,
           47.75396825396825,
           55.620370370370374,
           47.583333333333336,
           41.579861111111114,
           55.36574074074074,
           47.36507936507937,
           41.375,
           47.23412698412698,
           47.142857142857146,
           54.824074074074076,
           46.97222222222222,
           41.03125,
           54.657407407407405,
           46.82142857142857,
           40.90972222222222,
           46.67857142857143,
           46.551587301587304,
           46.54761904761905,
           46.42857142857143,
           46.301587301587304,
           46.29365079365079,
           53.94444444444444,
           35.96296296296296,
           46.182539682539684,
           46.166666666666664,
           40.392361111111114,
           46.12698412698413,
           53.745370370370374,
           53.736111111111114,
           46.03174603174603,
           46.023809523809526,
           45.992063492063494,
           45.992063492063494,
           40.138888888888886,
           53.495370370370374,
           53.43981481481482,
           45.77777777777778,
           45.76984126984127,
           40.02430555555556,
           45.63095238095238,
           45.595238095238095,
           45.54365079365079,
           53.125,
           45.51587301587302,
           53.06944444444444,
           53.050925925925924,
           39.78819444444444,
           45.32539682539682,
           45.30555555555556,
           45.142857142857146,
           52.611111111111114,
           45.00396825396825,
           52.47222222222222,
           52.44444444444444,
           52.379629629629626,
           39.25,
           44.82539682539682,
           44.75,
           39.15277777777778,
           44.69047619047619,
           52.023148148148145,
           51.84722222222222,
           44.40873015873016,
           44.361111111111114,
           51.666666666666664,
           51.574074074074076,
           51.5,
           51.43981481481482,
           44.07936507936508,
           44.07539682539682,
           44.07142857142857,
           44.023809523809526,
           43.94047619047619,
           43.93650793650794,
           51.21296296296296,
           51.092592592592595,
           43.74603174603175,
           43.72222222222222,
           50.791666666666664,
           43.523809523809526,
           50.63425925925926,
           43.392857142857146,
           50.61574074074074,
           50.61574074074074,
           43.361111111111114,
           43.357142857142854,
           50.55555555555556,
           43.26190476190476,
           43.23412698412698,
           50.407407407407405,
           43.142857142857146,
           43.12301587301587,
           43.09920634920635,
           43.083333333333336,
           50.199074074074076,
           42.8968253968254,
           50.02777777777778,
           49.995370370370374,
           42.845238095238095,
           49.93055555555556,
           49.907407407407405,
           49.736111111111114,
           49.66203703703704,
           49.657407407407405,
           37.19444444444444,
           49.56481481481482,
           49.56018518518518,
           49.541666666666664,
           33.02160493827161,
           42.43650793650794,
           42.416666666666664,
           49.398148148148145,
           49.351851851851855,
           49.324074074074076,
           42.273809523809526,
           49.30555555555556,
           49.28703703703704,
           42.23809523809524,
           49.273148148148145,
           49.26851851851852,
           42.166666666666664,
           42.111111111111114,
           49.11574074074074,
           49.00925925925926,
           49.004629629629626,
           48.97222222222222,
           48.958333333333336,
           41.94047619047619,
           41.92063492063492,
           48.851851851851855,
           48.833333333333336,
           48.7037037037037,
           36.50347222222222,
           48.60648148148148,
           41.654761904761905,
           36.447916666666664,
           48.574074074074076,
           41.607142857142854,
           48.5,
           58.18888888888889,
           41.5,
           48.111111111111114,
           48.083333333333336,
           48.013888888888886,
           41.142857142857146,
           41.09920634920635,
           47.90277777777778,
           41.023809523809526,
           47.782407407407405,
           47.77777777777778,
           35.80902777777778,
           35.78472222222222,
           47.666666666666664,
           57.15,
           47.611111111111114,
           47.592592592592595,
           40.78968253968254,
           57.01111111111111,
           47.40277777777778,
           47.30555555555556,
           47.25925925925926,
           47.25925925925926,
           47.226851851851855,
           47.2037037037037,
           40.45634920634921,
           47.138888888888886,
           40.388888888888886,
           47.0787037037037,
           47.06944444444444,
           47.06018518518518,
           47,
           46.9537037037037,
           46.9212962962963,
           46.800925925925924,
           56.111111111111114,
           46.629629629629626,
           46.5462962962963,
           55.75555555555555,
           46.4212962962963,
           46.375,
           46.34722222222222,
           46.31944444444444,
           46.31481481481482,
           55.55555555555556,
           46.26851851851852,
           55.483333333333334,
           39.52777777777778,
           55.31666666666667,
           46.09722222222222,
           39.476190476190474,
           45.9537037037037,
           55,
           39.25396825396825,
           45.736111111111114,
           45.726851851851855,
           45.629629629629626,
           45.58796296296296,
           54.455555555555556,
           54.30555555555556,
           45.24074074074074,
           45.21296296296296,
           45.1712962962963,
           38.65079365079365,
           45.08796296296296,
           45.0462962962963,
           44.96296296296296,
           44.93518518518518,
           53.9,
           53.80555555555556,
           44.8287037037037,
           38.42063492063492,
           44.736111111111114,
           44.708333333333336,
           38.26587301587302,
           44.611111111111114,
           53.50555555555555,
           44.467592592592595,
           44.375,
           44.361111111111114,
           44.35648148148148,
           37.976190476190474,
           44.254629629629626,
           53.083333333333336,
           44.208333333333336,
           52.71666666666667,
           52.71666666666667,
           52.68888888888889,
           32.90277777777778,
           43.74074074074074,
           52.44444444444444,
           52.41111111111111,
           52.4,
           37.3968253968254,
           52.3,
           43.583333333333336,
           52.205555555555556,
           43.495370370370374,
           52.144444444444446,
           52.138888888888886,
           51.894444444444446,
           51.88333333333333,
           51.861111111111114,
           51.833333333333336,
           51.794444444444444,
           51.65555555555556,
           43.032407407407405,
           36.84126984126984,
           42.949074074074076,
           51.516666666666666,
           42.916666666666664,
           51.42777777777778,
           42.81481481481482,
           42.81481481481482,
           42.75,
           51.24444444444445,
           51.205555555555556,
           51.19444444444444,
           50.894444444444446,
           50.81666666666667,
           50.78333333333333,
           50.733333333333334,
           50.65555555555556,
           50.59444444444444,
           50.31111111111111,
           50.22222222222222,
           35.78174603174603,
           41.72222222222222,
           49.99444444444445,
           49.916666666666664,
           49.894444444444446,
           49.88333333333333,
           49.75555555555555,
           49.705555555555556,
           49.63333333333333,
           49.59444444444444,
           49.544444444444444,
           49.53888888888889,
           41.25925925925926,
           41.24074074074074,
           61.81944444444444,
           49.38333333333333,
           49.327777777777776,
           40.96296296296296,
           49.144444444444446,
           49.105555555555554,
           40.916666666666664,
           40.8287037037037,
           48.98888888888889,
           48.983333333333334,
           40.78703703703704,
           40.782407407407405,
           48.90555555555556,
           48.86666666666667,
           48.78888888888889,
           48.75555555555555,
           48.75555555555555,
           48.75555555555555,
           40.38425925925926,
           48.388888888888886,
           48.361111111111114,
           40.21296296296296,
           48.138888888888886,
           48.111111111111114,
           48.09444444444444,
           48.09444444444444,
           40.074074074074076,
           48.07222222222222,
           60.0625,
           48.044444444444444,
           47.91111111111111,
           47.81666666666667,
           59.75,
           47.69444444444444,
           47.644444444444446,
           39.68981481481482,
           47.6,
           47.516666666666666,
           59.31944444444444,
           47.388888888888886,
           47.37777777777778,
           39.467592592592595,
           47.33888888888889,
           59.15972222222222,
           47.32222222222222,
           47.166666666666664,
           47.16111111111111,
           46.96666666666667,
           39.004629629629626,
           46.74444444444445,
           46.73888888888889,
           58.40972222222222,
           58.36805555555556,
           46.67777777777778,
           38.851851851851855,
           46.422222222222224,
           46.422222222222224,
           38.675925925925924,
           46.40555555555556,
           46.40555555555556,
           38.58796296296296,
           46.28888888888889,
           46.15,
           38.43981481481482,
           46.12222222222222,
           46.083333333333336,
           38.35648148148148,
           38.34722222222222,
           45.98888888888889,
           45.9,
           38.21296296296296,
           45.76111111111111,
           57.104166666666664,
           38,
           45.59444444444444,
           45.51111111111111,
           45.42777777777778,
           45.355555555555554,
           45.21111111111111,
           37.620370370370374,
           44.727777777777774,
           44.68333333333333,
           44.55,
           44.416666666666664,
           55.50694444444444,
           44.394444444444446,
           44.227777777777774,
           36.55555555555556,
           43.861111111111114,
           43.78888888888889,
           43.7,
           43.68888888888889,
           43.67777777777778,
           36.38425925925926,
           54.56944444444444,
           43.59444444444444,
           36.31018518518518,
           36.31018518518518,
           54.40277777777778,
           43.477777777777774,
           54.263888888888886,
           36.14351851851852,
           43.34444444444444,
           54.166666666666664,
           43.333333333333336,
           54.020833333333336,
           53.93055555555556,
           43.13333333333333,
           43.09444444444444,
           53.80555555555556,
           53.673611111111114,
           42.9,
           53.395833333333336,
           53.27777777777778,
           53.02777777777778,
           35.092592592592595,
           52.63194444444444,
           41.672222222222224,
           34.71296296296296,
           51.951388888888886,
           41.51111111111111,
           41.327777777777776,
           41.25555555555555,
           41.19444444444444,
           51.46527777777778,
           51.388888888888886,
           34.23148148148148,
           68.21296296296296,
           40.92777777777778,
           51.00694444444444,
           40.705555555555556,
           50.854166666666664,
           50.729166666666664,
           50.72222222222222,
           40.56111111111111,
           40.48888888888889,
           50.59722222222222,
           50.486111111111114,
           50.361111111111114,
           50.27777777777778,
           50.270833333333336,
           50.145833333333336,
           50.13194444444444,
           39.91111111111111,
           49.875,
           39.75,
           49.666666666666664,
           49.36805555555556,
           32.879629629629626,
           49.208333333333336,
           49.15972222222222,
           49.041666666666664,
           48.6875,
           48.68055555555556,
           38.91111111111111,
           48.50694444444444,
           48.24305555555556,
           48.229166666666664,
           48.111111111111114,
           32.06481481481482,
           38.25,
           47.791666666666664,
           47.236111111111114,
           47.208333333333336,
           47.201388888888886,
           62.26851851851852,
           46.63194444444444,
           46.34027777777778,
           30.875,
           61.71296296296296,
           46.263888888888886,
           46.05555555555556,
           46.020833333333336,
           36.77777777777778,
           36.56666666666667,
           45.583333333333336,
           60.71296296296296,
           36.388888888888886,
           45.40277777777778,
           60.50925925925926,
           45.236111111111114,
           45.173611111111114,
           45.06944444444444,
           44.826388888888886,
           59.47222222222222,
           44.40972222222222,
           44.388888888888886,
           44.34722222222222,
           35.47222222222222,
           44.24305555555556,
           44.22222222222222,
           44.05555555555556,
           43.951388888888886,
           43.701388888888886,
           43.638888888888886,
           43.55555555555556,
           43.388888888888886,
           43.333333333333336,
           43.27777777777778,
           43.25,
           57.379629629629626,
           57.324074074074076,
           42.72222222222222,
           56.907407407407405,
           34.12222222222222,
           56.842592592592595,
           56.324074074074076,
           42.22222222222222,
           42.03472222222222,
           55.925925925925924,
           41.875,
           55.80555555555556,
           55.75,
           41.798611111111114,
           41.27777777777778,
           41.229166666666664,
           54.80555555555556,
           54.4537037037037,
           54.425925925925924,
           40.763888888888886,
           40.541666666666664,
           40.423611111111114,
           53.78703703703704,
           53.5,
           53.44444444444444,
           39.88194444444444,
           39.875,
           39.173611111111114,
           38.93055555555556,
           38.854166666666664,
           51.47222222222222,
           51.361111111111114,
           51.31481481481482,
           38.40277777777778,
           50.73148148148148,
           50.583333333333336,
           50.388888888888886,
           30.2,
           30.011111111111113,
           37.388888888888886,
           49.77777777777778,
           29.783333333333335,
           36.90277777777778,
           36.65972222222222,
           36.375,
           48.43518518518518,
           36.041666666666664,
           47.638888888888886,
           47.629629629629626,
           46.9537037037037,
           46.7962962962963,
           46.75925925925926,
           46.03703703703704,
           45.916666666666664,
           33.94444444444444,
           33.791666666666664,
           44.888888888888886,
           44.7962962962963,
           33.27777777777778,
           44.324074074074076,
           43.583333333333336,
           43.157407407407405,
           43.01851851851852,
           42.97222222222222,
           63.666666666666664,
           31.40972222222222,
           41.28703703703704,
           61.763888888888886,
           40.75,
           40.51851851851852,
           40.22222222222222,
           59.75,
           59.736111111111114,
           39.148148148148145,
           38.870370370370374,
           58.18055555555556,
           38.46296296296296,
           38.30555555555556,
           38.111111111111114,
           37.7037037037037,
           37.351851851851855,
           54.888888888888886,
           54.611111111111114,
           36.23148148148148,
           54.111111111111114,
           53.90277777777778,
           53.09722222222222,
           52.125,
           51.68055555555556,
           34.0462962962963,
           50.763888888888886,
           49.666666666666664,
           49.361111111111114,
           32.78703703703704,
           48.763888888888886,
           48.05555555555556,
           31.37037037037037,
           46.02777777777778,
           45.708333333333336,
           45.02777777777778,
           44.611111111111114,
           44.375,
           44.19444444444444,
           28.98148148148148,
           42.486111111111114,
           42.111111111111114,
           41.30555555555556,
           40.69444444444444,
           40.5,
           40,
           39.875,
           38.388888888888886,
           37.958333333333336,
           37.40277777777778,
           37.013888888888886,
           68.86111111111111,
           34.31944444444444,
           34.06944444444444,
           21.194444444444443,
           30.069444444444443,
           29.38888888888889,
           56.94444444444444,
           55.94444444444444,
           54.19444444444444,
           54.138888888888886,
           53.833333333333336,
           51.47222222222222,
           49.94444444444444,
           48.916666666666664,
           44.333333333333336,
           43.25,
           30.61111111111111
          ],
          "sizemode": "area",
          "sizeref": 0.1721527777777778,
          "symbol": "circle"
         },
         "mode": "markers",
         "name": "",
         "orientation": "v",
         "showlegend": false,
         "type": "scatter",
         "x": [
          576,
          468,
          540,
          576,
          468,
          468,
          504,
          432,
          432,
          432,
          432,
          432,
          432,
          468,
          432,
          396,
          432,
          432,
          396,
          432,
          396,
          396,
          468,
          396,
          432,
          432,
          396,
          432,
          396,
          432,
          396,
          360,
          360,
          396,
          360,
          396,
          432,
          432,
          396,
          360,
          432,
          360,
          396,
          360,
          396,
          396,
          396,
          396,
          360,
          396,
          396,
          396,
          396,
          396,
          396,
          396,
          324,
          360,
          360,
          396,
          396,
          360,
          324,
          432,
          324,
          396,
          396,
          360,
          396,
          396,
          360,
          432,
          432,
          324,
          360,
          396,
          360,
          396,
          324,
          324,
          396,
          324,
          324,
          360,
          396,
          360,
          324,
          324,
          288,
          360,
          360,
          360,
          324,
          324,
          324,
          360,
          360,
          324,
          360,
          288,
          360,
          360,
          324,
          324,
          324,
          324,
          324,
          288,
          324,
          324,
          396,
          360,
          324,
          360,
          360,
          360,
          360,
          360,
          324,
          324,
          324,
          360,
          288,
          360,
          324,
          288,
          324,
          324,
          324,
          360,
          324,
          360,
          360,
          324,
          360,
          324,
          288,
          360,
          324,
          324,
          324,
          324,
          288,
          324,
          324,
          324,
          324,
          360,
          324,
          360,
          288,
          324,
          324,
          324,
          324,
          360,
          324,
          288,
          324,
          324,
          360,
          324,
          324,
          324,
          396,
          288,
          288,
          324,
          288,
          324,
          288,
          360,
          360,
          324,
          288,
          360,
          324,
          324,
          288,
          324,
          288,
          288,
          324,
          396,
          288,
          288,
          324,
          288,
          324,
          360,
          396,
          324,
          324,
          288,
          324,
          288,
          360,
          324,
          324,
          360,
          324,
          324,
          360,
          252,
          360,
          360,
          288,
          324,
          288,
          288,
          324,
          288,
          288,
          324,
          288,
          324,
          288,
          324,
          324,
          324,
          324,
          324,
          324,
          288,
          288,
          288,
          288,
          288,
          288,
          324,
          288,
          324,
          288,
          288,
          324,
          324,
          252,
          252,
          288,
          288,
          324,
          324,
          288,
          252,
          324,
          288,
          324,
          288,
          252,
          288,
          288,
          288,
          252,
          288,
          288,
          324,
          360,
          252,
          360,
          252,
          288,
          252,
          288,
          288,
          324,
          252,
          288,
          324,
          360,
          252,
          288,
          252,
          252,
          252,
          324,
          252,
          288,
          288,
          288,
          288,
          288,
          324,
          288,
          324,
          288,
          324,
          252,
          288,
          288,
          252,
          288,
          288,
          324,
          324,
          324,
          252,
          324,
          288,
          216,
          324,
          288,
          360,
          288,
          324,
          288,
          216,
          252,
          324,
          252,
          324,
          288,
          288,
          288,
          252,
          288,
          252,
          288,
          252,
          288,
          288,
          252,
          252,
          288,
          288,
          252,
          252,
          288,
          252,
          288,
          288,
          252,
          252,
          252,
          288,
          216,
          288,
          252,
          252,
          252,
          252,
          288,
          288,
          252,
          288,
          252,
          288,
          252,
          252,
          252,
          252,
          288,
          324,
          252,
          252,
          252,
          288,
          252,
          252,
          252,
          288,
          252,
          252,
          252,
          252,
          324,
          288,
          252,
          252,
          288,
          252,
          252,
          252,
          252,
          252,
          252,
          252,
          288,
          252,
          252,
          252,
          288,
          288,
          324,
          252,
          252,
          252,
          288,
          252,
          288,
          252,
          216,
          252,
          288,
          216,
          252,
          288,
          252,
          252,
          216,
          252,
          288,
          216,
          252,
          288,
          252,
          252,
          252,
          252,
          252,
          252,
          216,
          324,
          252,
          252,
          288,
          252,
          216,
          216,
          252,
          252,
          252,
          252,
          288,
          216,
          216,
          252,
          252,
          288,
          252,
          252,
          252,
          216,
          252,
          216,
          216,
          288,
          252,
          252,
          252,
          216,
          252,
          216,
          216,
          216,
          288,
          252,
          252,
          288,
          252,
          216,
          216,
          252,
          252,
          216,
          216,
          216,
          216,
          252,
          252,
          252,
          252,
          252,
          252,
          216,
          216,
          252,
          252,
          216,
          252,
          216,
          252,
          216,
          216,
          252,
          252,
          216,
          252,
          252,
          216,
          252,
          252,
          252,
          252,
          216,
          252,
          216,
          216,
          252,
          216,
          216,
          216,
          216,
          216,
          288,
          216,
          216,
          216,
          324,
          252,
          252,
          216,
          216,
          216,
          252,
          216,
          216,
          252,
          216,
          216,
          252,
          252,
          216,
          216,
          216,
          216,
          216,
          252,
          252,
          216,
          216,
          216,
          288,
          216,
          252,
          288,
          216,
          252,
          216,
          180,
          252,
          216,
          216,
          216,
          252,
          252,
          216,
          252,
          216,
          216,
          288,
          288,
          216,
          180,
          216,
          216,
          252,
          180,
          216,
          216,
          216,
          216,
          216,
          216,
          252,
          216,
          252,
          216,
          216,
          216,
          216,
          216,
          216,
          216,
          180,
          216,
          216,
          180,
          216,
          216,
          216,
          216,
          216,
          180,
          216,
          180,
          252,
          180,
          216,
          252,
          216,
          180,
          252,
          216,
          216,
          216,
          216,
          180,
          180,
          216,
          216,
          216,
          252,
          216,
          216,
          216,
          216,
          180,
          180,
          216,
          252,
          216,
          216,
          252,
          216,
          180,
          216,
          216,
          216,
          216,
          252,
          216,
          180,
          216,
          180,
          180,
          180,
          288,
          216,
          180,
          180,
          180,
          252,
          180,
          216,
          180,
          216,
          180,
          180,
          180,
          180,
          180,
          180,
          180,
          180,
          216,
          252,
          216,
          180,
          216,
          180,
          216,
          216,
          216,
          180,
          180,
          180,
          180,
          180,
          180,
          180,
          180,
          180,
          180,
          180,
          252,
          216,
          180,
          180,
          180,
          180,
          180,
          180,
          180,
          180,
          180,
          180,
          216,
          216,
          144,
          180,
          180,
          216,
          180,
          180,
          216,
          216,
          180,
          180,
          216,
          216,
          180,
          180,
          180,
          180,
          180,
          180,
          216,
          180,
          180,
          216,
          180,
          180,
          180,
          180,
          216,
          180,
          144,
          180,
          180,
          180,
          144,
          180,
          180,
          216,
          180,
          180,
          144,
          180,
          180,
          216,
          180,
          144,
          180,
          180,
          180,
          180,
          216,
          180,
          180,
          144,
          144,
          180,
          216,
          180,
          180,
          216,
          180,
          180,
          216,
          180,
          180,
          216,
          180,
          180,
          216,
          216,
          180,
          180,
          216,
          180,
          144,
          216,
          180,
          180,
          180,
          180,
          180,
          216,
          180,
          180,
          180,
          180,
          144,
          180,
          180,
          216,
          180,
          180,
          180,
          180,
          180,
          216,
          144,
          180,
          216,
          216,
          144,
          180,
          144,
          216,
          180,
          144,
          180,
          144,
          144,
          180,
          180,
          144,
          144,
          180,
          144,
          144,
          144,
          216,
          144,
          180,
          216,
          144,
          180,
          180,
          180,
          180,
          144,
          144,
          216,
          108,
          180,
          144,
          180,
          144,
          144,
          144,
          180,
          180,
          144,
          144,
          144,
          144,
          144,
          144,
          144,
          180,
          144,
          180,
          144,
          144,
          216,
          144,
          144,
          144,
          144,
          144,
          180,
          144,
          144,
          144,
          144,
          216,
          180,
          144,
          144,
          144,
          144,
          108,
          144,
          144,
          216,
          108,
          144,
          144,
          144,
          180,
          180,
          144,
          108,
          180,
          144,
          108,
          144,
          144,
          144,
          144,
          108,
          144,
          144,
          144,
          180,
          144,
          144,
          144,
          144,
          144,
          144,
          144,
          144,
          144,
          144,
          144,
          108,
          108,
          144,
          108,
          180,
          108,
          108,
          144,
          144,
          108,
          144,
          108,
          108,
          144,
          144,
          144,
          108,
          108,
          108,
          144,
          144,
          144,
          108,
          108,
          108,
          144,
          144,
          144,
          144,
          144,
          108,
          108,
          108,
          144,
          108,
          108,
          108,
          180,
          180,
          144,
          108,
          180,
          144,
          144,
          144,
          108,
          144,
          108,
          108,
          108,
          108,
          108,
          108,
          108,
          144,
          144,
          108,
          108,
          144,
          108,
          108,
          108,
          108,
          108,
          72,
          144,
          108,
          72,
          108,
          108,
          108,
          72,
          72,
          108,
          108,
          72,
          108,
          108,
          108,
          108,
          108,
          72,
          72,
          108,
          72,
          72,
          72,
          72,
          72,
          108,
          72,
          72,
          72,
          108,
          72,
          72,
          108,
          72,
          72,
          72,
          72,
          72,
          72,
          108,
          72,
          72,
          72,
          72,
          72,
          72,
          72,
          72,
          72,
          72,
          72,
          36,
          72,
          72,
          108,
          72,
          72,
          36,
          36,
          36,
          36,
          36,
          36,
          36,
          36,
          36,
          36,
          36
         ],
         "xaxis": "x",
         "y": [
          27709,
          24744,
          24185,
          23904,
          23717,
          22577,
          22083,
          21952,
          21938,
          21801,
          21755,
          21686,
          21536,
          21521,
          21259,
          21125,
          21032,
          20939,
          20756,
          20676,
          20652,
          20639,
          20567,
          20508,
          20498,
          20294,
          20277,
          20242,
          20142,
          20135,
          20123,
          19944,
          19905,
          19834,
          19652,
          19644,
          19613,
          19577,
          19554,
          19495,
          19485,
          19269,
          19132,
          19130,
          19116,
          19115,
          19058,
          19037,
          18857,
          18839,
          18838,
          18767,
          18717,
          18663,
          18646,
          18515,
          18460,
          18458,
          18353,
          18258,
          18225,
          18194,
          18162,
          18161,
          18143,
          18070,
          18054,
          18025,
          18020,
          18019,
          17986,
          17983,
          17885,
          17732,
          17715,
          17694,
          17654,
          17649,
          17644,
          17639,
          17592,
          17559,
          17514,
          17405,
          17383,
          17269,
          17254,
          17207,
          17199,
          17160,
          17134,
          17110,
          17081,
          17072,
          17045,
          16994,
          16982,
          16861,
          16856,
          16843,
          16827,
          16760,
          16739,
          16726,
          16659,
          16630,
          16616,
          16615,
          16605,
          16595,
          16571,
          16514,
          16488,
          16487,
          16481,
          16437,
          16283,
          16224,
          16216,
          16209,
          16173,
          16165,
          16143,
          16127,
          16093,
          16082,
          16079,
          16052,
          15977,
          15968,
          15926,
          15902,
          15852,
          15829,
          15821,
          15814,
          15796,
          15786,
          15777,
          15776,
          15773,
          15743,
          15701,
          15698,
          15667,
          15657,
          15629,
          15622,
          15608,
          15583,
          15579,
          15572,
          15568,
          15555,
          15531,
          15511,
          15497,
          15476,
          15469,
          15457,
          15446,
          15430,
          15418,
          15395,
          15373,
          15355,
          15314,
          15314,
          15289,
          15285,
          15215,
          15188,
          15164,
          15157,
          15154,
          15152,
          15145,
          15137,
          15135,
          15125,
          15123,
          15092,
          15092,
          15083,
          15072,
          15072,
          15051,
          15049,
          15043,
          15008,
          15002,
          14990,
          14964,
          14958,
          14958,
          14915,
          14914,
          14913,
          14898,
          14896,
          14856,
          14846,
          14814,
          14756,
          14755,
          14716,
          14714,
          14706,
          14704,
          14674,
          14668,
          14662,
          14658,
          14619,
          14604,
          14592,
          14577,
          14563,
          14528,
          14527,
          14522,
          14506,
          14496,
          14490,
          14473,
          14442,
          14442,
          14434,
          14431,
          14426,
          14418,
          14415,
          14383,
          14351,
          14351,
          14325,
          14303,
          14302,
          14297,
          14291,
          14289,
          14259,
          14233,
          14217,
          14206,
          14202,
          14189,
          14180,
          14132,
          14115,
          14109,
          14081,
          14071,
          14068,
          14056,
          14025,
          14001,
          13985,
          13948,
          13892,
          13890,
          13886,
          13869,
          13867,
          13843,
          13841,
          13840,
          13840,
          13827,
          13796,
          13735,
          13708,
          13698,
          13687,
          13652,
          13643,
          13599,
          13590,
          13580,
          13575,
          13543,
          13531,
          13506,
          13486,
          13479,
          13476,
          13428,
          13423,
          13416,
          13411,
          13404,
          13390,
          13315,
          13311,
          13311,
          13301,
          13297,
          13254,
          13202,
          13186,
          13181,
          13176,
          13127,
          13106,
          13099,
          13088,
          13069,
          13062,
          13050,
          13050,
          13037,
          13033,
          13027,
          13021,
          13000,
          12993,
          12990,
          12971,
          12966,
          12952,
          12933,
          12919,
          12883,
          12870,
          12866,
          12852,
          12847,
          12846,
          12837,
          12825,
          12810,
          12793,
          12776,
          12765,
          12758,
          12753,
          12743,
          12740,
          12726,
          12694,
          12663,
          12661,
          12654,
          12648,
          12632,
          12622,
          12619,
          12599,
          12589,
          12569,
          12523,
          12496,
          12476,
          12460,
          12449,
          12442,
          12419,
          12418,
          12415,
          12413,
          12402,
          12399,
          12390,
          12368,
          12367,
          12365,
          12354,
          12339,
          12324,
          12323,
          12263,
          12261,
          12250,
          12249,
          12199,
          12194,
          12192,
          12181,
          12164,
          12155,
          12141,
          12140,
          12131,
          12120,
          12114,
          12111,
          12052,
          12045,
          12042,
          12034,
          12014,
          11991,
          11975,
          11959,
          11936,
          11916,
          11903,
          11880,
          11842,
          11837,
          11817,
          11806,
          11799,
          11782,
          11763,
          11731,
          11730,
          11700,
          11668,
          11666,
          11652,
          11652,
          11638,
          11634,
          11633,
          11624,
          11609,
          11607,
          11600,
          11598,
          11590,
          11590,
          11560,
          11555,
          11543,
          11536,
          11534,
          11527,
          11499,
          11490,
          11477,
          11475,
          11470,
          11463,
          11459,
          11459,
          11422,
          11417,
          11376,
          11364,
          11341,
          11334,
          11328,
          11314,
          11304,
          11296,
          11277,
          11276,
          11262,
          11237,
          11199,
          11191,
          11179,
          11160,
          11140,
          11124,
          11111,
          11108,
          11107,
          11106,
          11094,
          11073,
          11072,
          11062,
          11036,
          11024,
          11018,
          10971,
          10968,
          10937,
          10935,
          10933,
          10933,
          10927,
          10926,
          10920,
          10902,
          10895,
          10888,
          10872,
          10867,
          10861,
          10857,
          10843,
          10810,
          10806,
          10799,
          10797,
          10785,
          10780,
          10743,
          10727,
          10726,
          10712,
          10706,
          10705,
          10701,
          10699,
          10694,
          10689,
          10670,
          10660,
          10654,
          10653,
          10650,
          10646,
          10644,
          10643,
          10642,
          10626,
          10612,
          10609,
          10586,
          10585,
          10578,
          10575,
          10569,
          10564,
          10552,
          10548,
          10520,
          10513,
          10499,
          10497,
          10497,
          10492,
          10485,
          10476,
          10474,
          10458,
          10392,
          10386,
          10371,
          10368,
          10357,
          10347,
          10338,
          10321,
          10320,
          10313,
          10306,
          10296,
          10287,
          10284,
          10280,
          10279,
          10262,
          10239,
          10218,
          10208,
          10208,
          10201,
          10196,
          10195,
          10182,
          10178,
          10169,
          10167,
          10165,
          10152,
          10142,
          10135,
          10109,
          10100,
          10072,
          10054,
          10036,
          10027,
          10017,
          10011,
          10005,
          10004,
          10000,
          9994,
          9987,
          9961,
          9957,
          9957,
          9948,
          9926,
          9900,
          9892,
          9879,
          9877,
          9856,
          9847,
          9802,
          9775,
          9772,
          9766,
          9757,
          9740,
          9739,
          9730,
          9712,
          9706,
          9702,
          9685,
          9683,
          9682,
          9663,
          9657,
          9643,
          9636,
          9631,
          9605,
          9585,
          9582,
          9581,
          9570,
          9559,
          9555,
          9549,
          9489,
          9489,
          9484,
          9476,
          9448,
          9440,
          9434,
          9432,
          9424,
          9414,
          9414,
          9397,
          9395,
          9386,
          9385,
          9341,
          9339,
          9335,
          9330,
          9323,
          9298,
          9295,
          9284,
          9277,
          9273,
          9270,
          9257,
          9248,
          9248,
          9234,
          9224,
          9217,
          9215,
          9161,
          9147,
          9141,
          9132,
          9118,
          9107,
          9056,
          9040,
          9017,
          9012,
          8999,
          8985,
          8981,
          8979,
          8956,
          8947,
          8934,
          8927,
          8918,
          8917,
          8912,
          8908,
          8902,
          8889,
          8879,
          8848,
          8846,
          8839,
          8838,
          8819,
          8818,
          8817,
          8810,
          8809,
          8803,
          8796,
          8782,
          8776,
          8776,
          8776,
          8723,
          8710,
          8705,
          8686,
          8665,
          8660,
          8657,
          8657,
          8656,
          8653,
          8649,
          8648,
          8624,
          8607,
          8604,
          8585,
          8576,
          8573,
          8568,
          8553,
          8542,
          8530,
          8528,
          8525,
          8521,
          8519,
          8518,
          8490,
          8489,
          8454,
          8425,
          8414,
          8413,
          8411,
          8405,
          8402,
          8392,
          8356,
          8356,
          8354,
          8353,
          8353,
          8335,
          8332,
          8307,
          8303,
          8302,
          8295,
          8285,
          8283,
          8278,
          8262,
          8254,
          8237,
          8223,
          8208,
          8207,
          8192,
          8177,
          8164,
          8138,
          8126,
          8051,
          8043,
          8019,
          7995,
          7993,
          7991,
          7961,
          7896,
          7895,
          7882,
          7866,
          7864,
          7862,
          7859,
          7858,
          7847,
          7843,
          7843,
          7834,
          7826,
          7814,
          7807,
          7802,
          7800,
          7800,
          7779,
          7766,
          7764,
          7757,
          7748,
          7729,
          7722,
          7689,
          7672,
          7636,
          7580,
          7579,
          7501,
          7498,
          7481,
          7472,
          7439,
          7426,
          7415,
          7411,
          7400,
          7394,
          7367,
          7367,
          7345,
          7327,
          7323,
          7305,
          7304,
          7301,
          7288,
          7286,
          7270,
          7252,
          7240,
          7239,
          7221,
          7219,
          7184,
          7182,
          7155,
          7152,
          7109,
          7102,
          7086,
          7079,
          7062,
          7011,
          7010,
          7004,
          6985,
          6947,
          6945,
          6928,
          6926,
          6885,
          6882,
          6802,
          6798,
          6797,
          6725,
          6715,
          6673,
          6669,
          6665,
          6662,
          6632,
          6627,
          6620,
          6582,
          6564,
          6557,
          6550,
          6538,
          6535,
          6514,
          6505,
          6490,
          6455,
          6423,
          6395,
          6392,
          6386,
          6385,
          6371,
          6368,
          6344,
          6329,
          6293,
          6284,
          6272,
          6248,
          6240,
          6232,
          6228,
          6197,
          6191,
          6152,
          6146,
          6142,
          6139,
          6083,
          6080,
          6053,
          6040,
          6030,
          6027,
          6021,
          6019,
          5944,
          5937,
          5919,
          5881,
          5878,
          5870,
          5838,
          5821,
          5809,
          5778,
          5772,
          5743,
          5742,
          5641,
          5606,
          5595,
          5559,
          5547,
          5542,
          5530,
          5479,
          5463,
          5442,
          5436,
          5402,
          5384,
          5376,
          5361,
          5314,
          5279,
          5238,
          5231,
          5190,
          5145,
          5144,
          5071,
          5054,
          5050,
          4972,
          4959,
          4888,
          4866,
          4848,
          4838,
          4792,
          4787,
          4707,
          4661,
          4646,
          4641,
          4584,
          4523,
          4459,
          4447,
          4401,
          4376,
          4344,
          4302,
          4301,
          4228,
          4198,
          4189,
          4154,
          4137,
          4116,
          4072,
          4034,
          3952,
          3932,
          3913,
          3896,
          3881,
          3823,
          3753,
          3721,
          3677,
          3655,
          3576,
          3554,
          3541,
          3511,
          3460,
          3388,
          3314,
          3291,
          3242,
          3212,
          3195,
          3182,
          3130,
          3059,
          3032,
          2974,
          2930,
          2916,
          2880,
          2871,
          2764,
          2733,
          2693,
          2665,
          2479,
          2471,
          2453,
          2289,
          2165,
          2116,
          2050,
          2014,
          1951,
          1949,
          1938,
          1853,
          1798,
          1761,
          1596,
          1557,
          1102
         ],
         "yaxis": "y"
        }
       ],
       "layout": {
        "coloraxis": {
         "colorbar": {
          "title": {
           "text": "AuthorID"
          }
         },
         "colorscale": [
          [
           0,
           "#0d0887"
          ],
          [
           0.1111111111111111,
           "#46039f"
          ],
          [
           0.2222222222222222,
           "#7201a8"
          ],
          [
           0.3333333333333333,
           "#9c179e"
          ],
          [
           0.4444444444444444,
           "#bd3786"
          ],
          [
           0.5555555555555556,
           "#d8576b"
          ],
          [
           0.6666666666666666,
           "#ed7953"
          ],
          [
           0.7777777777777778,
           "#fb9f3a"
          ],
          [
           0.8888888888888888,
           "#fdca26"
          ],
          [
           1,
           "#f0f921"
          ]
         ]
        },
        "legend": {
         "itemsizing": "constant",
         "tracegroupgap": 0
        },
        "template": {
         "data": {
          "bar": [
           {
            "error_x": {
             "color": "#2a3f5f"
            },
            "error_y": {
             "color": "#2a3f5f"
            },
            "marker": {
             "line": {
              "color": "#E5ECF6",
              "width": 0.5
             },
             "pattern": {
              "fillmode": "overlay",
              "size": 10,
              "solidity": 0.2
             }
            },
            "type": "bar"
           }
          ],
          "barpolar": [
           {
            "marker": {
             "line": {
              "color": "#E5ECF6",
              "width": 0.5
             },
             "pattern": {
              "fillmode": "overlay",
              "size": 10,
              "solidity": 0.2
             }
            },
            "type": "barpolar"
           }
          ],
          "carpet": [
           {
            "aaxis": {
             "endlinecolor": "#2a3f5f",
             "gridcolor": "white",
             "linecolor": "white",
             "minorgridcolor": "white",
             "startlinecolor": "#2a3f5f"
            },
            "baxis": {
             "endlinecolor": "#2a3f5f",
             "gridcolor": "white",
             "linecolor": "white",
             "minorgridcolor": "white",
             "startlinecolor": "#2a3f5f"
            },
            "type": "carpet"
           }
          ],
          "choropleth": [
           {
            "colorbar": {
             "outlinewidth": 0,
             "ticks": ""
            },
            "type": "choropleth"
           }
          ],
          "contour": [
           {
            "colorbar": {
             "outlinewidth": 0,
             "ticks": ""
            },
            "colorscale": [
             [
              0,
              "#0d0887"
             ],
             [
              0.1111111111111111,
              "#46039f"
             ],
             [
              0.2222222222222222,
              "#7201a8"
             ],
             [
              0.3333333333333333,
              "#9c179e"
             ],
             [
              0.4444444444444444,
              "#bd3786"
             ],
             [
              0.5555555555555556,
              "#d8576b"
             ],
             [
              0.6666666666666666,
              "#ed7953"
             ],
             [
              0.7777777777777778,
              "#fb9f3a"
             ],
             [
              0.8888888888888888,
              "#fdca26"
             ],
             [
              1,
              "#f0f921"
             ]
            ],
            "type": "contour"
           }
          ],
          "contourcarpet": [
           {
            "colorbar": {
             "outlinewidth": 0,
             "ticks": ""
            },
            "type": "contourcarpet"
           }
          ],
          "heatmap": [
           {
            "colorbar": {
             "outlinewidth": 0,
             "ticks": ""
            },
            "colorscale": [
             [
              0,
              "#0d0887"
             ],
             [
              0.1111111111111111,
              "#46039f"
             ],
             [
              0.2222222222222222,
              "#7201a8"
             ],
             [
              0.3333333333333333,
              "#9c179e"
             ],
             [
              0.4444444444444444,
              "#bd3786"
             ],
             [
              0.5555555555555556,
              "#d8576b"
             ],
             [
              0.6666666666666666,
              "#ed7953"
             ],
             [
              0.7777777777777778,
              "#fb9f3a"
             ],
             [
              0.8888888888888888,
              "#fdca26"
             ],
             [
              1,
              "#f0f921"
             ]
            ],
            "type": "heatmap"
           }
          ],
          "heatmapgl": [
           {
            "colorbar": {
             "outlinewidth": 0,
             "ticks": ""
            },
            "colorscale": [
             [
              0,
              "#0d0887"
             ],
             [
              0.1111111111111111,
              "#46039f"
             ],
             [
              0.2222222222222222,
              "#7201a8"
             ],
             [
              0.3333333333333333,
              "#9c179e"
             ],
             [
              0.4444444444444444,
              "#bd3786"
             ],
             [
              0.5555555555555556,
              "#d8576b"
             ],
             [
              0.6666666666666666,
              "#ed7953"
             ],
             [
              0.7777777777777778,
              "#fb9f3a"
             ],
             [
              0.8888888888888888,
              "#fdca26"
             ],
             [
              1,
              "#f0f921"
             ]
            ],
            "type": "heatmapgl"
           }
          ],
          "histogram": [
           {
            "marker": {
             "pattern": {
              "fillmode": "overlay",
              "size": 10,
              "solidity": 0.2
             }
            },
            "type": "histogram"
           }
          ],
          "histogram2d": [
           {
            "colorbar": {
             "outlinewidth": 0,
             "ticks": ""
            },
            "colorscale": [
             [
              0,
              "#0d0887"
             ],
             [
              0.1111111111111111,
              "#46039f"
             ],
             [
              0.2222222222222222,
              "#7201a8"
             ],
             [
              0.3333333333333333,
              "#9c179e"
             ],
             [
              0.4444444444444444,
              "#bd3786"
             ],
             [
              0.5555555555555556,
              "#d8576b"
             ],
             [
              0.6666666666666666,
              "#ed7953"
             ],
             [
              0.7777777777777778,
              "#fb9f3a"
             ],
             [
              0.8888888888888888,
              "#fdca26"
             ],
             [
              1,
              "#f0f921"
             ]
            ],
            "type": "histogram2d"
           }
          ],
          "histogram2dcontour": [
           {
            "colorbar": {
             "outlinewidth": 0,
             "ticks": ""
            },
            "colorscale": [
             [
              0,
              "#0d0887"
             ],
             [
              0.1111111111111111,
              "#46039f"
             ],
             [
              0.2222222222222222,
              "#7201a8"
             ],
             [
              0.3333333333333333,
              "#9c179e"
             ],
             [
              0.4444444444444444,
              "#bd3786"
             ],
             [
              0.5555555555555556,
              "#d8576b"
             ],
             [
              0.6666666666666666,
              "#ed7953"
             ],
             [
              0.7777777777777778,
              "#fb9f3a"
             ],
             [
              0.8888888888888888,
              "#fdca26"
             ],
             [
              1,
              "#f0f921"
             ]
            ],
            "type": "histogram2dcontour"
           }
          ],
          "mesh3d": [
           {
            "colorbar": {
             "outlinewidth": 0,
             "ticks": ""
            },
            "type": "mesh3d"
           }
          ],
          "parcoords": [
           {
            "line": {
             "colorbar": {
              "outlinewidth": 0,
              "ticks": ""
             }
            },
            "type": "parcoords"
           }
          ],
          "pie": [
           {
            "automargin": true,
            "type": "pie"
           }
          ],
          "scatter": [
           {
            "marker": {
             "colorbar": {
              "outlinewidth": 0,
              "ticks": ""
             }
            },
            "type": "scatter"
           }
          ],
          "scatter3d": [
           {
            "line": {
             "colorbar": {
              "outlinewidth": 0,
              "ticks": ""
             }
            },
            "marker": {
             "colorbar": {
              "outlinewidth": 0,
              "ticks": ""
             }
            },
            "type": "scatter3d"
           }
          ],
          "scattercarpet": [
           {
            "marker": {
             "colorbar": {
              "outlinewidth": 0,
              "ticks": ""
             }
            },
            "type": "scattercarpet"
           }
          ],
          "scattergeo": [
           {
            "marker": {
             "colorbar": {
              "outlinewidth": 0,
              "ticks": ""
             }
            },
            "type": "scattergeo"
           }
          ],
          "scattergl": [
           {
            "marker": {
             "colorbar": {
              "outlinewidth": 0,
              "ticks": ""
             }
            },
            "type": "scattergl"
           }
          ],
          "scattermapbox": [
           {
            "marker": {
             "colorbar": {
              "outlinewidth": 0,
              "ticks": ""
             }
            },
            "type": "scattermapbox"
           }
          ],
          "scatterpolar": [
           {
            "marker": {
             "colorbar": {
              "outlinewidth": 0,
              "ticks": ""
             }
            },
            "type": "scatterpolar"
           }
          ],
          "scatterpolargl": [
           {
            "marker": {
             "colorbar": {
              "outlinewidth": 0,
              "ticks": ""
             }
            },
            "type": "scatterpolargl"
           }
          ],
          "scatterternary": [
           {
            "marker": {
             "colorbar": {
              "outlinewidth": 0,
              "ticks": ""
             }
            },
            "type": "scatterternary"
           }
          ],
          "surface": [
           {
            "colorbar": {
             "outlinewidth": 0,
             "ticks": ""
            },
            "colorscale": [
             [
              0,
              "#0d0887"
             ],
             [
              0.1111111111111111,
              "#46039f"
             ],
             [
              0.2222222222222222,
              "#7201a8"
             ],
             [
              0.3333333333333333,
              "#9c179e"
             ],
             [
              0.4444444444444444,
              "#bd3786"
             ],
             [
              0.5555555555555556,
              "#d8576b"
             ],
             [
              0.6666666666666666,
              "#ed7953"
             ],
             [
              0.7777777777777778,
              "#fb9f3a"
             ],
             [
              0.8888888888888888,
              "#fdca26"
             ],
             [
              1,
              "#f0f921"
             ]
            ],
            "type": "surface"
           }
          ],
          "table": [
           {
            "cells": {
             "fill": {
              "color": "#EBF0F8"
             },
             "line": {
              "color": "white"
             }
            },
            "header": {
             "fill": {
              "color": "#C8D4E3"
             },
             "line": {
              "color": "white"
             }
            },
            "type": "table"
           }
          ]
         },
         "layout": {
          "annotationdefaults": {
           "arrowcolor": "#2a3f5f",
           "arrowhead": 0,
           "arrowwidth": 1
          },
          "autotypenumbers": "strict",
          "coloraxis": {
           "colorbar": {
            "outlinewidth": 0,
            "ticks": ""
           }
          },
          "colorscale": {
           "diverging": [
            [
             0,
             "#8e0152"
            ],
            [
             0.1,
             "#c51b7d"
            ],
            [
             0.2,
             "#de77ae"
            ],
            [
             0.3,
             "#f1b6da"
            ],
            [
             0.4,
             "#fde0ef"
            ],
            [
             0.5,
             "#f7f7f7"
            ],
            [
             0.6,
             "#e6f5d0"
            ],
            [
             0.7,
             "#b8e186"
            ],
            [
             0.8,
             "#7fbc41"
            ],
            [
             0.9,
             "#4d9221"
            ],
            [
             1,
             "#276419"
            ]
           ],
           "sequential": [
            [
             0,
             "#0d0887"
            ],
            [
             0.1111111111111111,
             "#46039f"
            ],
            [
             0.2222222222222222,
             "#7201a8"
            ],
            [
             0.3333333333333333,
             "#9c179e"
            ],
            [
             0.4444444444444444,
             "#bd3786"
            ],
            [
             0.5555555555555556,
             "#d8576b"
            ],
            [
             0.6666666666666666,
             "#ed7953"
            ],
            [
             0.7777777777777778,
             "#fb9f3a"
            ],
            [
             0.8888888888888888,
             "#fdca26"
            ],
            [
             1,
             "#f0f921"
            ]
           ],
           "sequentialminus": [
            [
             0,
             "#0d0887"
            ],
            [
             0.1111111111111111,
             "#46039f"
            ],
            [
             0.2222222222222222,
             "#7201a8"
            ],
            [
             0.3333333333333333,
             "#9c179e"
            ],
            [
             0.4444444444444444,
             "#bd3786"
            ],
            [
             0.5555555555555556,
             "#d8576b"
            ],
            [
             0.6666666666666666,
             "#ed7953"
            ],
            [
             0.7777777777777778,
             "#fb9f3a"
            ],
            [
             0.8888888888888888,
             "#fdca26"
            ],
            [
             1,
             "#f0f921"
            ]
           ]
          },
          "colorway": [
           "#636efa",
           "#EF553B",
           "#00cc96",
           "#ab63fa",
           "#FFA15A",
           "#19d3f3",
           "#FF6692",
           "#B6E880",
           "#FF97FF",
           "#FECB52"
          ],
          "font": {
           "color": "#2a3f5f"
          },
          "geo": {
           "bgcolor": "white",
           "lakecolor": "white",
           "landcolor": "#E5ECF6",
           "showlakes": true,
           "showland": true,
           "subunitcolor": "white"
          },
          "hoverlabel": {
           "align": "left"
          },
          "hovermode": "closest",
          "mapbox": {
           "style": "light"
          },
          "paper_bgcolor": "white",
          "plot_bgcolor": "#E5ECF6",
          "polar": {
           "angularaxis": {
            "gridcolor": "white",
            "linecolor": "white",
            "ticks": ""
           },
           "bgcolor": "#E5ECF6",
           "radialaxis": {
            "gridcolor": "white",
            "linecolor": "white",
            "ticks": ""
           }
          },
          "scene": {
           "xaxis": {
            "backgroundcolor": "#E5ECF6",
            "gridcolor": "white",
            "gridwidth": 2,
            "linecolor": "white",
            "showbackground": true,
            "ticks": "",
            "zerolinecolor": "white"
           },
           "yaxis": {
            "backgroundcolor": "#E5ECF6",
            "gridcolor": "white",
            "gridwidth": 2,
            "linecolor": "white",
            "showbackground": true,
            "ticks": "",
            "zerolinecolor": "white"
           },
           "zaxis": {
            "backgroundcolor": "#E5ECF6",
            "gridcolor": "white",
            "gridwidth": 2,
            "linecolor": "white",
            "showbackground": true,
            "ticks": "",
            "zerolinecolor": "white"
           }
          },
          "shapedefaults": {
           "line": {
            "color": "#2a3f5f"
           }
          },
          "ternary": {
           "aaxis": {
            "gridcolor": "white",
            "linecolor": "white",
            "ticks": ""
           },
           "baxis": {
            "gridcolor": "white",
            "linecolor": "white",
            "ticks": ""
           },
           "bgcolor": "#E5ECF6",
           "caxis": {
            "gridcolor": "white",
            "linecolor": "white",
            "ticks": ""
           }
          },
          "title": {
           "x": 0.05
          },
          "xaxis": {
           "automargin": true,
           "gridcolor": "white",
           "linecolor": "white",
           "ticks": "",
           "title": {
            "standoff": 15
           },
           "zerolinecolor": "white",
           "zerolinewidth": 2
          },
          "yaxis": {
           "automargin": true,
           "gridcolor": "white",
           "linecolor": "white",
           "ticks": "",
           "title": {
            "standoff": 15
           },
           "zerolinecolor": "white",
           "zerolinewidth": 2
          }
         }
        },
        "title": {
         "text": "Revenue per song for each author"
        },
        "xaxis": {
         "anchor": "y",
         "domain": [
          0,
          1
         ],
         "title": {
          "text": "Number of Songs"
         }
        },
        "yaxis": {
         "anchor": "x",
         "domain": [
          0,
          1
         ],
         "title": {
          "text": "Revenue"
         }
        }
       }
      },
      "text/html": [
       "<div>                            <div id=\"d991b572-35be-4fac-ae6a-8d2c97f01ecb\" class=\"plotly-graph-div\" style=\"height:525px; width:100%;\"></div>            <script type=\"text/javascript\">                require([\"plotly\"], function(Plotly) {                    window.PLOTLYENV=window.PLOTLYENV || {};                                    if (document.getElementById(\"d991b572-35be-4fac-ae6a-8d2c97f01ecb\")) {                    Plotly.newPlot(                        \"d991b572-35be-4fac-ae6a-8d2c97f01ecb\",                        [{\"customdata\":[[49.0,48.10590277777778],[964.0,52.87179487179487],[923.0,44.78703703703704],[142.0,41.5],[640.0,50.677350427350426],[238.0,48.24145299145299],[775.0,43.81547619047619],[974.0,50.81481481481482],[164.0,50.782407407407405],[652.0,50.46527777777778],[881.0,50.3587962962963],[465.0,50.199074074074076],[273.0,49.851851851851855],[246.0,45.98504273504273],[701.0,49.210648148148145],[784.0,53.3459595959596],[576.0,48.68518518518518],[594.0,48.469907407407405],[53.0,52.41414141414141],[446.0,47.861111111111114],[924.0,52.15151515151515],[206.0,52.11868686868687],[888.0,43.9465811965812],[719.0,51.78787878787879],[154.0,47.449074074074076],[962.0,46.976851851851855],[21.0,51.20454545454545],[464.0,46.85648148148148],[855.0,50.86363636363637],[424.0,46.6087962962963],[587.0,50.81565656565657],[117.0,55.4],[306.0,55.291666666666664],[207.0,50.08585858585859],[22.0,54.58888888888889],[894.0,49.60606060606061],[432.0,45.40046296296296],[933.0,45.317129629629626],[23.0,49.378787878787875],[773.0,54.15277777777778],[115.0,45.104166666666664],[518.0,53.525],[100.0,48.313131313131315],[331.0,53.138888888888886],[281.0,48.27272727272727],[993.0,48.27020202020202],[458.0,48.12626262626262],[349.0,48.073232323232325],[467.0,52.38055555555555],[487.0,47.573232323232325],[52.0,47.57070707070707],[189.0,47.39141414141414],[378.0,47.265151515151516],[639.0,47.128787878787875],[59.0,47.08585858585859],[45.0,46.755050505050505],[582.0,56.97530864197531],[782.0,51.272222222222226],[204.0,50.980555555555554],[19.0,46.10606060606061],[479.0,46.02272727272727],[236.0,50.53888888888889],[345.0,56.05555555555556],[91.0,42.039351851851855],[514.0,55.99691358024691],[520.0,45.63131313131313],[110.0,45.59090909090909],[612.0,50.06944444444444],[747.0,45.505050505050505],[177.0,45.50252525252525],[368.0,49.96111111111111],[758.0,41.62731481481482],[407.0,41.40046296296296],[736.0,54.72839506172839],[687.0,49.208333333333336],[76.0,44.68181818181818],[11.0,49.03888888888889],[746.0,44.56818181818182],[212.0,54.45679012345679],[308.0,54.44135802469136],[737.0,44.42424242424242],[374.0,54.19444444444444],[552.0,54.05555555555556],[821.0,48.34722222222222],[971.0,43.89646464646464],[777.0,47.96944444444444],[13.0,53.25308641975309],[561.0,53.108024691358025],[392.0,59.71875],[910.0,47.666666666666664],[979.0,47.59444444444444],[629.0,47.52777777777778],[488.0,52.71913580246913],[604.0,52.69135802469136],[87.0,52.608024691358025],[506.0,47.205555555555556],[205.0,47.172222222222224],[301.0,52.04012345679013],[807.0,46.82222222222222],[324.0,58.482638888888886],[286.0,46.74166666666667],[341.0,46.55555555555556],[171.0,51.66358024691358],[82.0,51.623456790123456],[658.0,51.416666666666664],[627.0,51.32716049382716],[217.0,51.28395061728395],[802.0,57.69097222222222],[898.0,51.25],[625.0,51.21913580246913],[357.0,41.8459595959596],[794.0,45.87222222222222],[577.0,50.888888888888886],[254.0,45.797222222222224],[360.0,45.78055555555556],[919.0,45.65833333333333],[556.0,45.230555555555554],[200.0,45.06666666666667],[234.0,50.04938271604938],[941.0,50.02777777777778],[543.0,49.916666666666664],[660.0,44.90277777777778],[197.0,56.052083333333336],[225.0,44.797222222222224],[723.0,49.66975308641975],[47.0,55.84027777777778],[815.0,49.626543209876544],[575.0,49.54320987654321],[153.0,49.31172839506173],[163.0,44.355555555555554],[409.0,49.15432098765432],[939.0,44.172222222222224],[75.0,44.03333333333333],[738.0,48.85493827160494],[81.0,43.94722222222222],[410.0,48.80864197530864],[905.0,54.84722222222222],[830.0,43.85],[670.0,48.69444444444444],[798.0,48.69135802469136],[930.0,48.6820987654321],[887.0,48.589506172839506],[310.0,54.517361111111114],[469.0,48.45061728395062],[252.0,48.35493827160494],[317.0,48.324074074074076],[270.0,48.23765432098765],[616.0,43.394444444444446],[109.0,48.17283950617284],[724.0,43.28611111111111],[30.0,54.09375],[452.0,48.06172839506173],[184.0,48.04938271604938],[606.0,48.00925925925926],[198.0,47.93518518518518],[390.0,43.08611111111111],[770.0,47.83024691358025],[685.0,53.736111111111114],[129.0,47.74382716049383],[810.0,47.70679012345679],[377.0,42.90555555555556],[426.0,47.623456790123456],[97.0,47.58641975308642],[581.0,47.51543209876543],[893.0,38.82070707070707],[654.0,53.31597222222222],[447.0,53.173611111111114],[912.0,47.26543209876543],[834.0,53.08680555555556],[853.0,47.175925925925924],[799.0,52.829861111111114],[211.0,42.18888888888889],[781.0,42.12222222222222],[418.0,46.78086419753087],[776.0,52.61805555555556],[37.0,42.08888888888889],[831.0,46.74382716049383],[800.0,46.71913580246913],[692.0,52.552083333333336],[250.0,46.6820987654321],[214.0,52.510416666666664],[380.0,52.40277777777778],[10.0,46.58024691358025],[241.0,38.08838383838384],[527.0,52.333333333333336],[878.0,52.333333333333336],[510.0,46.4537037037037],[557.0,52.25347222222222],[316.0,46.42901234567901],[585.0,41.68888888888889],[696.0,37.88383838383838],[706.0,46.26543209876543],[325.0,46.18518518518518],[597.0,51.9375],[622.0,46.166666666666664],[221.0,51.78819444444444],[448.0,41.42777777777778],[111.0,46.02777777777778],[46.0,45.98148148148148],[579.0,41.37777777777778],[591.0,45.851851851851855],[138.0,45.82098765432099],[420.0,41.15],[823.0,58.55555555555556],[159.0,40.986111111111114],[497.0,40.87777777777778],[945.0,51.09027777777778],[730.0,45.388888888888886],[137.0,51.05555555555556],[703.0,50.951388888888886],[332.0,45.27160493827161],[333.0,50.90972222222222],[928.0,50.895833333333336],[523.0,45.120370370370374],[186.0,50.708333333333336],[78.0,45.03703703703704],[439.0,50.614583333333336],[740.0,44.94753086419753],[32.0,44.839506172839506],[279.0,44.83641975308642],[440.0,44.82098765432099],[233.0,44.77160493827161],[595.0,44.74074074074074],[104.0,50.3125],[976.0,50.25347222222222],[353.0,50.145833333333336],[973.0,50.145833333333336],[227.0,50.11805555555556],[4.0,50.107638888888886],[882.0,44.52469135802469],[203.0,50.0625],[311.0,44.49074074074074],[430.0,49.94097222222222],[906.0,49.829861111111114],[112.0,44.29320987654321],[389.0,44.21296296296296],[191.0,56.757936507936506],[489.0,56.75396825396825],[857.0,49.642361111111114],[789.0,49.62152777777778],[683.0,44.101851851851855],[260.0,44.00925925925926],[339.0,49.420138888888886],[15.0,56.416666666666664],[275.0,43.84567901234568],[157.0,49.3125],[958.0,43.79320987654321],[144.0,49.236111111111114],[921.0,56.07936507936508],[792.0,49.010416666666664],[542.0,48.989583333333336],[753.0,48.892361111111114],[58.0,55.83730158730159],[170.0,48.84722222222222],[603.0,48.80555555555556],[937.0,43.28703703703704],[313.0,38.891666666666666],[859.0,55.49603174603175],[396.0,38.74444444444445],[71.0,55.12698412698413],[880.0,48.229166666666664],[871.0,55.1031746031746],[787.0,48.15625],[130.0,48.14930555555556],[300.0,42.72530864197531],[872.0,54.92460317460318],[886.0,48.05555555555556],[547.0,42.71604938271605],[858.0,38.40833333333333],[593.0,54.74603174603175],[328.0,47.69097222222222],[817.0,54.3968253968254],[909.0,54.357142857142854],[554.0,54.31349206349206],[466.0,42.135802469135804],[553.0,54.138888888888886],[695.0,47.21875],[965.0,47.1875],[709.0,47.15277777777778],[934.0,47.135416666666664],[361.0,47.02430555555556],[533.0,41.76234567901235],[662.0,46.895833333333336],[505.0,41.623456790123456],[761.0,46.802083333333336],[548.0,41.592592592592595],[475.0,53.285714285714285],[178.0,46.607638888888886],[996.0,46.583333333333336],[79.0,53.21825396825397],[824.0,46.541666666666664],[756.0,46.49305555555556],[416.0,41.09567901234568],[372.0,41.083333333333336],[728.0,41.083333333333336],[774.0,52.78174603174603],[955.0,41.04012345679013],[371.0,46.020833333333336],[224.0,61.120370370370374],[194.0,40.69753086419753],[661.0,45.767361111111114],[995.0,36.6],[907.0,45.579861111111114],[602.0,40.45061728395062],[750.0,45.482638888888886],[382.0,60.592592592592595],[984.0,51.861111111111114],[196.0,40.31481481481482],[462.0,51.785714285714285],[592.0,40.27777777777778],[335.0,45.267361111111114],[762.0,45.25347222222222],[26.0,45.232638888888886],[735.0,51.67063492063492],[271.0,45.138888888888886],[942.0,51.55952380952381],[953.0,45.104166666666664],[292.0,51.47222222222222],[121.0,45.020833333333336],[795.0,44.97222222222222],[885.0,51.32142857142857],[443.0,51.26587301587302],[148.0,44.732638888888886],[990.0,44.6875],[305.0,51.05555555555556],[600.0,51.0],[297.0,44.607638888888886],[259.0,50.976190476190474],[219.0,44.572916666666664],[931.0,44.53125],[471.0,50.833333333333336],[927.0,50.76587301587302],[583.0,50.698412698412696],[183.0,44.322916666666664],[338.0,59.06481481481482],[42.0,44.28125],[359.0,50.567460317460316],[289.0,50.55555555555556],[126.0,50.5],[7.0,50.37301587301587],[36.0,43.96875],[914.0,43.96180555555556],[667.0,50.214285714285715],[442.0,43.916666666666664],[515.0,50.12698412698413],[985.0,43.826388888888886],[618.0,50.07539682539682],[611.0,49.99603174603175],[355.0,49.95634920634921],[282.0,49.87698412698413],[102.0,43.482638888888886],[803.0,38.5679012345679],[827.0,49.507936507936506],[90.0,49.44444444444444],[337.0,49.40079365079365],[261.0,43.201388888888886],[968.0,49.28174603174603],[731.0,49.27777777777778],[610.0,49.26587301587302],[226.0,43.10069444444444],[521.0,49.214285714285715],[43.0,49.20238095238095],[841.0,49.166666666666664],[981.0,49.07936507936508],[136.0,38.16975308641975],[915.0,42.93402777777778],[358.0,49.023809523809526],[599.0,48.964285714285715],[778.0,42.791666666666664],[265.0,48.90079365079365],[274.0,48.66269841269841],[620.0,48.654761904761905],[473.0,48.611111111111114],[757.0,48.607142857142854],[540.0,48.40873015873016],[296.0,48.388888888888886],[688.0,42.333333333333336],[201.0,48.33730158730159],[412.0,48.26984126984127],[916.0,48.23412698412698],[873.0,42.15625],[584.0,42.15277777777778],[682.0,37.44135802469136],[161.0,48.095238095238095],[716.0,48.07142857142857],[642.0,48.05952380952381],[362.0,41.84722222222222],[672.0,47.79761904761905],[167.0,41.8125],[793.0,47.75396825396825],[272.0,55.620370370370374],[356.0,47.583333333333336],[918.0,41.579861111111114],[199.0,55.36574074074074],[490.0,47.36507936507937],[495.0,41.375],[665.0,47.23412698412698],[717.0,47.142857142857146],[283.0,54.824074074074076],[139.0,46.97222222222222],[708.0,41.03125],[535.0,54.657407407407405],[926.0,46.82142857142857],[551.0,40.90972222222222],[351.0,46.67857142857143],[402.0,46.551587301587304],[40.0,46.54761904761905],[809.0,46.42857142857143],[251.0,46.301587301587304],[329.0,46.29365079365079],[388.0,53.94444444444444],[946.0,35.96296296296296],[638.0,46.182539682539684],[943.0,46.166666666666664],[846.0,40.392361111111114],[2.0,46.12698412698413],[512.0,53.745370370370374],[768.0,53.736111111111114],[103.0,46.03174603174603],[578.0,46.023809523809526],[663.0,45.992063492063494],[769.0,45.992063492063494],[309.0,40.138888888888886],[496.0,53.495370370370374],[895.0,53.43981481481482],[425.0,45.77777777777778],[455.0,45.76984126984127],[68.0,40.02430555555556],[848.0,45.63095238095238],[539.0,45.595238095238095],[155.0,45.54365079365079],[257.0,53.125],[947.0,45.51587301587302],[293.0,53.06944444444444],[83.0,53.050925925925924],[263.0,39.78819444444444],[570.0,45.32539682539682],[961.0,45.30555555555556],[276.0,45.142857142857146],[330.0,52.611111111111114],[438.0,45.00396825396825],[516.0,52.47222222222222],[411.0,52.44444444444444],[994.0,52.379629629629626],[436.0,39.25],[669.0,44.82539682539682],[441.0,44.75],[247.0,39.15277777777778],[17.0,44.69047619047619],[634.0,52.023148148148145],[619.0,51.84722222222222],[395.0,44.40873015873016],[862.0,44.361111111111114],[86.0,51.666666666666664],[304.0,51.574074074074076],[492.0,51.5],[569.0,51.43981481481482],[262.0,44.07936507936508],[811.0,44.07539682539682],[18.0,44.07142857142857],[541.0,44.023809523809526],[727.0,43.94047619047619],[468.0,43.93650793650794],[565.0,51.21296296296296],[559.0,51.092592592592595],[972.0,43.74603174603175],[346.0,43.72222222222222],[532.0,50.791666666666664],[978.0,43.523809523809526],[763.0,50.63425925925926],[745.0,43.392857142857146],[84.0,50.61574074074074],[223.0,50.61574074074074],[470.0,43.361111111111114],[450.0,43.357142857142854],[607.0,50.55555555555556],[814.0,43.26190476190476],[451.0,43.23412698412698],[1.0,50.407407407407405],[986.0,43.142857142857146],[902.0,43.12301587301587],[613.0,43.09920634920635],[165.0,43.083333333333336],[303.0,50.199074074074076],[381.0,42.8968253968254],[932.0,50.02777777777778],[698.0,49.995370370370374],[648.0,42.845238095238095],[210.0,49.93055555555556],[899.0,49.907407407407405],[844.0,49.736111111111114],[699.0,49.66203703703704],[938.0,49.657407407407405],[908.0,37.19444444444444],[95.0,49.56481481481482],[62.0,49.56018518518518],[864.0,49.541666666666664],[734.0,33.02160493827161],[336.0,42.43650793650794],[666.0,42.416666666666664],[169.0,49.398148148148145],[193.0,49.351851851851855],[626.0,49.324074074074076],[299.0,42.273809523809526],[216.0,49.30555555555556],[813.0,49.28703703703704],[269.0,42.23809523809524],[166.0,49.273148148148145],[633.0,49.26851851851852],[560.0,42.166666666666664],[917.0,42.111111111111114],[287.0,49.11574074074074],[689.0,49.00925925925926],[291.0,49.004629629629626],[991.0,48.97222222222222],[615.0,48.958333333333336],[677.0,41.94047619047619],[267.0,41.92063492063492],[867.0,48.851851851851855],[630.0,48.833333333333336],[900.0,48.7037037037037],[889.0,36.50347222222222],[836.0,48.60648148148148],[1000.0,41.654761904761905],[249.0,36.447916666666664],[788.0,48.574074074074076],[833.0,41.607142857142854],[861.0,48.5],[537.0,58.18888888888889],[118.0,41.5],[511.0,48.111111111111114],[617.0,48.083333333333336],[725.0,48.013888888888886],[896.0,41.142857142857146],[428.0,41.09920634920635],[120.0,47.90277777777778],[419.0,41.023809523809526],[9.0,47.782407407407405],[573.0,47.77777777777778],[818.0,35.80902777777778],[175.0,35.78472222222222],[80.0,47.666666666666664],[586.0,57.15],[434.0,47.611111111111114],[572.0,47.592592592592595],[574.0,40.78968253968254],[150.0,57.01111111111111],[676.0,47.40277777777778],[423.0,47.30555555555556],[266.0,47.25925925925926],[461.0,47.25925925925926],[528.0,47.226851851851855],[255.0,47.2037037037037],[146.0,40.45634920634921],[529.0,47.138888888888886],[714.0,40.388888888888886],[631.0,47.0787037037037],[951.0,47.06944444444444],[494.0,47.06018518518518],[414.0,47.0],[940.0,46.9537037037037],[65.0,46.9212962962963],[743.0,46.800925925925924],[791.0,56.111111111111114],[89.0,46.629629629629626],[796.0,46.5462962962963],[256.0,55.75555555555555],[28.0,46.4212962962963],[435.0,46.375],[702.0,46.34722222222222],[491.0,46.31944444444444],[367.0,46.31481481481482],[664.0,55.55555555555556],[656.0,46.26851851851852],[562.0,55.483333333333334],[751.0,39.52777777777778],[302.0,55.31666666666667],[840.0,46.09722222222222],[601.0,39.476190476190474],[444.0,45.9537037037037],[213.0,55.0],[835.0,39.25396825396825],[391.0,45.736111111111114],[680.0,45.726851851851855],[312.0,45.629629629629626],[653.0,45.58796296296296],[454.0,54.455555555555556],[326.0,54.30555555555556],[323.0,45.24074074074074],[987.0,45.21296296296296],[949.0,45.1712962962963],[588.0,38.65079365079365],[288.0,45.08796296296296],[967.0,45.0462962962963],[5.0,44.96296296296296],[643.0,44.93518518518518],[760.0,53.9],[24.0,53.80555555555556],[232.0,44.8287037037037],[188.0,38.42063492063492],[123.0,44.736111111111114],[530.0,44.708333333333336],[73.0,38.26587301587302],[31.0,44.611111111111114],[839.0,53.50555555555555],[822.0,44.467592592592595],[98.0,44.375],[843.0,44.361111111111114],[854.0,44.35648148148148],[44.0,37.976190476190474],[786.0,44.254629629629626],[384.0,53.083333333333336],[320.0,44.208333333333336],[502.0,52.71666666666667],[957.0,52.71666666666667],[70.0,52.68888888888889],[379.0,32.90277777777778],[816.0,43.74074074074074],[156.0,52.44444444444444],[913.0,52.41111111111111],[999.0,52.4],[718.0,37.3968253968254],[808.0,52.3],[67.0,43.583333333333336],[229.0,52.205555555555556],[922.0,43.495370370370374],[315.0,52.144444444444446],[825.0,52.138888888888886],[453.0,51.894444444444446],[373.0,51.88333333333333],[989.0,51.861111111111114],[748.0,51.833333333333336],[948.0,51.794444444444444],[684.0,51.65555555555556],[400.0,43.032407407407405],[929.0,36.84126984126984],[481.0,42.949074074074076],[697.0,51.516666666666666],[892.0,42.916666666666664],[621.0,51.42777777777778],[503.0,42.81481481481482],[925.0,42.81481481481482],[385.0,42.75],[650.0,51.24444444444445],[285.0,51.205555555555556],[124.0,51.19444444444444],[340.0,50.894444444444446],[280.0,50.81666666666667],[343.0,50.78333333333333],[975.0,50.733333333333334],[66.0,50.65555555555556],[983.0,50.59444444444444],[133.0,50.31111111111111],[538.0,50.22222222222222],[884.0,35.78174603174603],[132.0,41.72222222222222],[977.0,49.99444444444445],[700.0,49.916666666666664],[327.0,49.894444444444446],[27.0,49.88333333333333],[294.0,49.75555555555555],[549.0,49.705555555555556],[712.0,49.63333333333333],[563.0,49.59444444444444],[641.0,49.544444444444444],[498.0,49.53888888888889],[187.0,41.25925925925926],[783.0,41.24074074074074],[278.0,61.81944444444444],[838.0,49.38333333333333],[694.0,49.327777777777776],[891.0,40.96296296296296],[944.0,49.144444444444446],[877.0,49.105555555555554],[363.0,40.916666666666664],[386.0,40.8287037037037],[228.0,48.98888888888889],[344.0,48.983333333333334],[397.0,40.78703703703704],[509.0,40.782407407407405],[500.0,48.90555555555556],[504.0,48.86666666666667],[646.0,48.78888888888889],[545.0,48.75555555555555],[580.0,48.75555555555555],[690.0,48.75555555555555],[524.0,40.38425925925926],[92.0,48.388888888888886],[63.0,48.361111111111114],[422.0,40.21296296296296],[314.0,48.138888888888886],[904.0,48.111111111111114],[16.0,48.09444444444444],[181.0,48.09444444444444],[151.0,40.074074074074076],[596.0,48.07222222222222],[54.0,60.0625],[152.0,48.044444444444444],[185.0,47.91111111111111],[558.0,47.81666666666667],[240.0,59.75],[647.0,47.69444444444444],[749.0,47.644444444444446],[772.0,39.68981481481482],[742.0,47.6],[135.0,47.516666666666666],[571.0,59.31944444444444],[513.0,47.388888888888886],[693.0,47.37777777777778],[173.0,39.467592592592595],[366.0,47.33888888888889],[954.0,59.15972222222222],[635.0,47.32222222222222],[398.0,47.166666666666664],[25.0,47.16111111111111],[147.0,46.96666666666667],[936.0,39.004629629629626],[963.0,46.74444444444445],[755.0,46.73888888888889],[431.0,58.40972222222222],[678.0,58.36805555555556],[486.0,46.67777777777778],[739.0,38.851851851851855],[415.0,46.422222222222224],[671.0,46.422222222222224],[8.0,38.675925925925924],[134.0,46.40555555555556],[245.0,46.40555555555556],[564.0,38.58796296296296],[704.0,46.28888888888889],[628.0,46.15],[482.0,38.43981481481482],[759.0,46.12222222222222],[413.0,46.083333333333336],[845.0,38.35648148148148],[125.0,38.34722222222222],[179.0,45.98888888888889],[477.0,45.9],[764.0,38.21296296296296],[903.0,45.76111111111111],[876.0,57.104166666666664],[404.0,38.0],[145.0,45.59444444444444],[231.0,45.51111111111111],[870.0,45.42777777777778],[48.0,45.355555555555554],[966.0,45.21111111111111],[997.0,37.620370370370374],[20.0,44.727777777777774],[998.0,44.68333333333333],[433.0,44.55],[952.0,44.416666666666664],[190.0,55.50694444444444],[237.0,44.394444444444446],[920.0,44.227777777777774],[41.0,36.55555555555556],[890.0,43.861111111111114],[93.0,43.78888888888889],[3.0,43.7],[649.0,43.68888888888889],[141.0,43.67777777777778],[298.0,36.38425925925926],[546.0,54.56944444444444],[99.0,43.59444444444444],[290.0,36.31018518518518],[733.0,36.31018518518518],[119.0,54.40277777777778],[711.0,43.477777777777774],[253.0,54.263888888888886],[387.0,36.14351851851852],[806.0,43.34444444444444],[394.0,54.166666666666664],[868.0,43.333333333333336],[456.0,54.020833333333336],[476.0,53.93055555555556],[651.0,43.13333333333333],[765.0,43.09444444444444],[127.0,53.80555555555556],[408.0,53.673611111111114],[268.0,42.9],[176.0,53.395833333333336],[334.0,53.27777777777778],[399.0,53.02777777777778],[856.0,35.092592592592595],[51.0,52.63194444444444],[744.0,41.672222222222224],[707.0,34.71296296296296],[686.0,51.951388888888886],[850.0,41.51111111111111],[801.0,41.327777777777776],[348.0,41.25555555555555],[519.0,41.19444444444444],[383.0,51.46527777777778],[609.0,51.388888888888886],[61.0,34.23148148148148],[982.0,68.21296296296296],[865.0,40.92777777777778],[522.0,51.00694444444444],[96.0,40.705555555555556],[501.0,50.854166666666664],[354.0,50.729166666666664],[826.0,50.72222222222222],[364.0,40.56111111111111],[472.0,40.48888888888889],[376.0,50.59722222222222],[6.0,50.486111111111114],[536.0,50.361111111111114],[114.0,50.27777777777778],[445.0,50.270833333333336],[969.0,50.145833333333336],[60.0,50.13194444444444],[780.0,39.91111111111111],[681.0,49.875],[675.0,39.75],[463.0,49.666666666666664],[128.0,49.36805555555556],[674.0,32.879629629629626],[779.0,49.208333333333336],[499.0,49.15972222222222],[220.0,49.041666666666664],[352.0,48.6875],[393.0,48.68055555555556],[401.0,38.91111111111111],[192.0,48.50694444444444],[636.0,48.24305555555556],[713.0,48.229166666666664],[57.0,48.111111111111114],[195.0,32.06481481481482],[767.0,38.25],[208.0,47.791666666666664],[318.0,47.236111111111114],[429.0,47.208333333333336],[874.0,47.201388888888886],[483.0,62.26851851851852],[623.0,46.63194444444444],[842.0,46.34027777777778],[264.0,30.875],[598.0,61.71296296296296],[50.0,46.263888888888886],[485.0,46.05555555555556],[143.0,46.020833333333336],[321.0,36.77777777777778],[149.0,36.56666666666667],[632.0,45.583333333333336],[105.0,60.71296296296296],[911.0,36.388888888888886],[645.0,45.40277777777778],[248.0,60.50925925925926],[113.0,45.236111111111114],[992.0,45.173611111111114],[608.0,45.06944444444444],[852.0,44.826388888888886],[350.0,59.47222222222222],[589.0,44.40972222222222],[729.0,44.388888888888886],[29.0,44.34722222222222],[258.0,35.47222222222222],[722.0,44.24305555555556],[960.0,44.22222222222222],[771.0,44.05555555555556],[897.0,43.951388888888886],[347.0,43.701388888888886],[478.0,43.638888888888886],[74.0,43.55555555555556],[38.0,43.388888888888886],[375.0,43.333333333333336],[875.0,43.27777777777778],[555.0,43.25],[222.0,57.379629629629626],[679.0,57.324074074074076],[785.0,42.72222222222222],[526.0,56.907407407407405],[657.0,34.12222222222222],[421.0,56.842592592592595],[812.0,56.324074074074076],[277.0,42.22222222222222],[39.0,42.03472222222222],[12.0,55.925925925925924],[790.0,41.875],[819.0,55.80555555555556],[202.0,55.75],[14.0,41.798611111111114],[116.0,41.27777777777778],[637.0,41.229166666666664],[847.0,54.80555555555556],[705.0,54.4537037037037],[837.0,54.425925925925924],[172.0,40.763888888888886],[507.0,40.541666666666664],[988.0,40.423611111111114],[64.0,53.78703703703704],[69.0,53.5],[820.0,53.44444444444444],[34.0,39.88194444444444],[122.0,39.875],[319.0,39.173611111111114],[459.0,38.93055555555556],[901.0,38.854166666666664],[369.0,51.47222222222222],[860.0,51.361111111111114],[182.0,51.31481481481482],[405.0,38.40277777777778],[754.0,50.73148148148148],[88.0,50.583333333333336],[342.0,50.388888888888886],[710.0,30.2],[474.0,30.011111111111113],[732.0,37.388888888888886],[828.0,49.77777777777778],[77.0,29.783333333333335],[108.0,36.90277777777778],[766.0,36.65972222222222],[726.0,36.375],[950.0,48.43518518518518],[131.0,36.041666666666664],[970.0,47.638888888888886],[427.0,47.629629629629626],[644.0,46.9537037037037],[883.0,46.7962962962963],[101.0,46.75925925925926],[35.0,46.03703703703704],[797.0,45.916666666666664],[480.0,33.94444444444444],[534.0,33.791666666666664],[517.0,44.888888888888886],[403.0,44.7962962962963],[365.0,33.27777777777778],[239.0,44.324074074074076],[209.0,43.583333333333336],[460.0,43.157407407407405],[162.0,43.01851851851852],[668.0,42.97222222222222],[56.0,63.666666666666664],[307.0,31.40972222222222],[568.0,41.28703703703704],[235.0,61.763888888888886],[417.0,40.75],[624.0,40.51851851851852],[449.0,40.22222222222222],[804.0,59.75],[659.0,59.736111111111114],[107.0,39.148148148148145],[437.0,38.870370370370374],[484.0,58.18055555555556],[55.0,38.46296296296296],[829.0,38.30555555555556],[525.0,38.111111111111114],[215.0,37.7037037037037],[33.0,37.351851851851855],[741.0,54.888888888888886],[180.0,54.611111111111114],[218.0,36.23148148148148],[879.0,54.111111111111114],[158.0,53.90277777777778],[370.0,53.09722222222222],[851.0,52.125],[956.0,51.68055555555556],[614.0,34.0462962962963],[959.0,50.763888888888886],[721.0,49.666666666666664],[715.0,49.361111111111114],[244.0,32.78703703703704],[849.0,48.763888888888886],[106.0,48.05555555555556],[457.0,31.37037037037037],[869.0,46.02777777777778],[752.0,45.708333333333336],[720.0,45.02777777777778],[550.0,44.611111111111114],[832.0,44.375],[605.0,44.19444444444444],[544.0,28.98148148148148],[295.0,42.486111111111114],[94.0,42.111111111111114],[168.0,41.30555555555556],[655.0,40.69444444444444],[493.0,40.5],[566.0,40.0],[980.0,39.875],[284.0,38.388888888888886],[140.0,37.958333333333336],[72.0,37.40277777777778],[174.0,37.013888888888886],[242.0,68.86111111111111],[691.0,34.31944444444444],[508.0,34.06944444444444],[567.0,21.194444444444443],[160.0,30.069444444444443],[590.0,29.38888888888889],[243.0,56.94444444444444],[531.0,55.94444444444444],[322.0,54.19444444444444],[805.0,54.138888888888886],[863.0,53.833333333333336],[406.0,51.47222222222222],[866.0,49.94444444444444],[673.0,48.916666666666664],[85.0,44.333333333333336],[935.0,43.25],[230.0,30.61111111111111]],\"hovertemplate\":\"Number of Songs=%{x}<br>Revenue=%{y}<br>Revenue per song=%{customdata[1]}<br>AuthorID=%{marker.color}<extra></extra>\",\"legendgroup\":\"\",\"marker\":{\"color\":[49,964,923,142,640,238,775,974,164,652,881,465,273,246,701,784,576,594,53,446,924,206,888,719,154,962,21,464,855,424,587,117,306,207,22,894,432,933,23,773,115,518,100,331,281,993,458,349,467,487,52,189,378,639,59,45,582,782,204,19,479,236,345,91,514,520,110,612,747,177,368,758,407,736,687,76,11,746,212,308,737,374,552,821,971,777,13,561,392,910,979,629,488,604,87,506,205,301,807,324,286,341,171,82,658,627,217,802,898,625,357,794,577,254,360,919,556,200,234,941,543,660,197,225,723,47,815,575,153,163,409,939,75,738,81,410,905,830,670,798,930,887,310,469,252,317,270,616,109,724,30,452,184,606,198,390,770,685,129,810,377,426,97,581,893,654,447,912,834,853,799,211,781,418,776,37,831,800,692,250,214,380,10,241,527,878,510,557,316,585,696,706,325,597,622,221,448,111,46,579,591,138,420,823,159,497,945,730,137,703,332,333,928,523,186,78,439,740,32,279,440,233,595,104,976,353,973,227,4,882,203,311,430,906,112,389,191,489,857,789,683,260,339,15,275,157,958,144,921,792,542,753,58,170,603,937,313,859,396,71,880,871,787,130,300,872,886,547,858,593,328,817,909,554,466,553,695,965,709,934,361,533,662,505,761,548,475,178,996,79,824,756,416,372,728,774,955,371,224,194,661,995,907,602,750,382,984,196,462,592,335,762,26,735,271,942,953,292,121,795,885,443,148,990,305,600,297,259,219,931,471,927,583,183,338,42,359,289,126,7,36,914,667,442,515,985,618,611,355,282,102,803,827,90,337,261,968,731,610,226,521,43,841,981,136,915,358,599,778,265,274,620,473,757,540,296,688,201,412,916,873,584,682,161,716,642,362,672,167,793,272,356,918,199,490,495,665,717,283,139,708,535,926,551,351,402,40,809,251,329,388,946,638,943,846,2,512,768,103,578,663,769,309,496,895,425,455,68,848,539,155,257,947,293,83,263,570,961,276,330,438,516,411,994,436,669,441,247,17,634,619,395,862,86,304,492,569,262,811,18,541,727,468,565,559,972,346,532,978,763,745,84,223,470,450,607,814,451,1,986,902,613,165,303,381,932,698,648,210,899,844,699,938,908,95,62,864,734,336,666,169,193,626,299,216,813,269,166,633,560,917,287,689,291,991,615,677,267,867,630,900,889,836,1000,249,788,833,861,537,118,511,617,725,896,428,120,419,9,573,818,175,80,586,434,572,574,150,676,423,266,461,528,255,146,529,714,631,951,494,414,940,65,743,791,89,796,256,28,435,702,491,367,664,656,562,751,302,840,601,444,213,835,391,680,312,653,454,326,323,987,949,588,288,967,5,643,760,24,232,188,123,530,73,31,839,822,98,843,854,44,786,384,320,502,957,70,379,816,156,913,999,718,808,67,229,922,315,825,453,373,989,748,948,684,400,929,481,697,892,621,503,925,385,650,285,124,340,280,343,975,66,983,133,538,884,132,977,700,327,27,294,549,712,563,641,498,187,783,278,838,694,891,944,877,363,386,228,344,397,509,500,504,646,545,580,690,524,92,63,422,314,904,16,181,151,596,54,152,185,558,240,647,749,772,742,135,571,513,693,173,366,954,635,398,25,147,936,963,755,431,678,486,739,415,671,8,134,245,564,704,628,482,759,413,845,125,179,477,764,903,876,404,145,231,870,48,966,997,20,998,433,952,190,237,920,41,890,93,3,649,141,298,546,99,290,733,119,711,253,387,806,394,868,456,476,651,765,127,408,268,176,334,399,856,51,744,707,686,850,801,348,519,383,609,61,982,865,522,96,501,354,826,364,472,376,6,536,114,445,969,60,780,681,675,463,128,674,779,499,220,352,393,401,192,636,713,57,195,767,208,318,429,874,483,623,842,264,598,50,485,143,321,149,632,105,911,645,248,113,992,608,852,350,589,729,29,258,722,960,771,897,347,478,74,38,375,875,555,222,679,785,526,657,421,812,277,39,12,790,819,202,14,116,637,847,705,837,172,507,988,64,69,820,34,122,319,459,901,369,860,182,405,754,88,342,710,474,732,828,77,108,766,726,950,131,970,427,644,883,101,35,797,480,534,517,403,365,239,209,460,162,668,56,307,568,235,417,624,449,804,659,107,437,484,55,829,525,215,33,741,180,218,879,158,370,851,956,614,959,721,715,244,849,106,457,869,752,720,550,832,605,544,295,94,168,655,493,566,980,284,140,72,174,242,691,508,567,160,590,243,531,322,805,863,406,866,673,85,935,230],\"coloraxis\":\"coloraxis\",\"size\":[48.10590277777778,52.87179487179487,44.78703703703704,41.5,50.677350427350426,48.24145299145299,43.81547619047619,50.81481481481482,50.782407407407405,50.46527777777778,50.3587962962963,50.199074074074076,49.851851851851855,45.98504273504273,49.210648148148145,53.3459595959596,48.68518518518518,48.469907407407405,52.41414141414141,47.861111111111114,52.15151515151515,52.11868686868687,43.9465811965812,51.78787878787879,47.449074074074076,46.976851851851855,51.20454545454545,46.85648148148148,50.86363636363637,46.6087962962963,50.81565656565657,55.4,55.291666666666664,50.08585858585859,54.58888888888889,49.60606060606061,45.40046296296296,45.317129629629626,49.378787878787875,54.15277777777778,45.104166666666664,53.525,48.313131313131315,53.138888888888886,48.27272727272727,48.27020202020202,48.12626262626262,48.073232323232325,52.38055555555555,47.573232323232325,47.57070707070707,47.39141414141414,47.265151515151516,47.128787878787875,47.08585858585859,46.755050505050505,56.97530864197531,51.272222222222226,50.980555555555554,46.10606060606061,46.02272727272727,50.53888888888889,56.05555555555556,42.039351851851855,55.99691358024691,45.63131313131313,45.59090909090909,50.06944444444444,45.505050505050505,45.50252525252525,49.96111111111111,41.62731481481482,41.40046296296296,54.72839506172839,49.208333333333336,44.68181818181818,49.03888888888889,44.56818181818182,54.45679012345679,54.44135802469136,44.42424242424242,54.19444444444444,54.05555555555556,48.34722222222222,43.89646464646464,47.96944444444444,53.25308641975309,53.108024691358025,59.71875,47.666666666666664,47.59444444444444,47.52777777777778,52.71913580246913,52.69135802469136,52.608024691358025,47.205555555555556,47.172222222222224,52.04012345679013,46.82222222222222,58.482638888888886,46.74166666666667,46.55555555555556,51.66358024691358,51.623456790123456,51.416666666666664,51.32716049382716,51.28395061728395,57.69097222222222,51.25,51.21913580246913,41.8459595959596,45.87222222222222,50.888888888888886,45.797222222222224,45.78055555555556,45.65833333333333,45.230555555555554,45.06666666666667,50.04938271604938,50.02777777777778,49.916666666666664,44.90277777777778,56.052083333333336,44.797222222222224,49.66975308641975,55.84027777777778,49.626543209876544,49.54320987654321,49.31172839506173,44.355555555555554,49.15432098765432,44.172222222222224,44.03333333333333,48.85493827160494,43.94722222222222,48.80864197530864,54.84722222222222,43.85,48.69444444444444,48.69135802469136,48.6820987654321,48.589506172839506,54.517361111111114,48.45061728395062,48.35493827160494,48.324074074074076,48.23765432098765,43.394444444444446,48.17283950617284,43.28611111111111,54.09375,48.06172839506173,48.04938271604938,48.00925925925926,47.93518518518518,43.08611111111111,47.83024691358025,53.736111111111114,47.74382716049383,47.70679012345679,42.90555555555556,47.623456790123456,47.58641975308642,47.51543209876543,38.82070707070707,53.31597222222222,53.173611111111114,47.26543209876543,53.08680555555556,47.175925925925924,52.829861111111114,42.18888888888889,42.12222222222222,46.78086419753087,52.61805555555556,42.08888888888889,46.74382716049383,46.71913580246913,52.552083333333336,46.6820987654321,52.510416666666664,52.40277777777778,46.58024691358025,38.08838383838384,52.333333333333336,52.333333333333336,46.4537037037037,52.25347222222222,46.42901234567901,41.68888888888889,37.88383838383838,46.26543209876543,46.18518518518518,51.9375,46.166666666666664,51.78819444444444,41.42777777777778,46.02777777777778,45.98148148148148,41.37777777777778,45.851851851851855,45.82098765432099,41.15,58.55555555555556,40.986111111111114,40.87777777777778,51.09027777777778,45.388888888888886,51.05555555555556,50.951388888888886,45.27160493827161,50.90972222222222,50.895833333333336,45.120370370370374,50.708333333333336,45.03703703703704,50.614583333333336,44.94753086419753,44.839506172839506,44.83641975308642,44.82098765432099,44.77160493827161,44.74074074074074,50.3125,50.25347222222222,50.145833333333336,50.145833333333336,50.11805555555556,50.107638888888886,44.52469135802469,50.0625,44.49074074074074,49.94097222222222,49.829861111111114,44.29320987654321,44.21296296296296,56.757936507936506,56.75396825396825,49.642361111111114,49.62152777777778,44.101851851851855,44.00925925925926,49.420138888888886,56.416666666666664,43.84567901234568,49.3125,43.79320987654321,49.236111111111114,56.07936507936508,49.010416666666664,48.989583333333336,48.892361111111114,55.83730158730159,48.84722222222222,48.80555555555556,43.28703703703704,38.891666666666666,55.49603174603175,38.74444444444445,55.12698412698413,48.229166666666664,55.1031746031746,48.15625,48.14930555555556,42.72530864197531,54.92460317460318,48.05555555555556,42.71604938271605,38.40833333333333,54.74603174603175,47.69097222222222,54.3968253968254,54.357142857142854,54.31349206349206,42.135802469135804,54.138888888888886,47.21875,47.1875,47.15277777777778,47.135416666666664,47.02430555555556,41.76234567901235,46.895833333333336,41.623456790123456,46.802083333333336,41.592592592592595,53.285714285714285,46.607638888888886,46.583333333333336,53.21825396825397,46.541666666666664,46.49305555555556,41.09567901234568,41.083333333333336,41.083333333333336,52.78174603174603,41.04012345679013,46.020833333333336,61.120370370370374,40.69753086419753,45.767361111111114,36.6,45.579861111111114,40.45061728395062,45.482638888888886,60.592592592592595,51.861111111111114,40.31481481481482,51.785714285714285,40.27777777777778,45.267361111111114,45.25347222222222,45.232638888888886,51.67063492063492,45.138888888888886,51.55952380952381,45.104166666666664,51.47222222222222,45.020833333333336,44.97222222222222,51.32142857142857,51.26587301587302,44.732638888888886,44.6875,51.05555555555556,51.0,44.607638888888886,50.976190476190474,44.572916666666664,44.53125,50.833333333333336,50.76587301587302,50.698412698412696,44.322916666666664,59.06481481481482,44.28125,50.567460317460316,50.55555555555556,50.5,50.37301587301587,43.96875,43.96180555555556,50.214285714285715,43.916666666666664,50.12698412698413,43.826388888888886,50.07539682539682,49.99603174603175,49.95634920634921,49.87698412698413,43.482638888888886,38.5679012345679,49.507936507936506,49.44444444444444,49.40079365079365,43.201388888888886,49.28174603174603,49.27777777777778,49.26587301587302,43.10069444444444,49.214285714285715,49.20238095238095,49.166666666666664,49.07936507936508,38.16975308641975,42.93402777777778,49.023809523809526,48.964285714285715,42.791666666666664,48.90079365079365,48.66269841269841,48.654761904761905,48.611111111111114,48.607142857142854,48.40873015873016,48.388888888888886,42.333333333333336,48.33730158730159,48.26984126984127,48.23412698412698,42.15625,42.15277777777778,37.44135802469136,48.095238095238095,48.07142857142857,48.05952380952381,41.84722222222222,47.79761904761905,41.8125,47.75396825396825,55.620370370370374,47.583333333333336,41.579861111111114,55.36574074074074,47.36507936507937,41.375,47.23412698412698,47.142857142857146,54.824074074074076,46.97222222222222,41.03125,54.657407407407405,46.82142857142857,40.90972222222222,46.67857142857143,46.551587301587304,46.54761904761905,46.42857142857143,46.301587301587304,46.29365079365079,53.94444444444444,35.96296296296296,46.182539682539684,46.166666666666664,40.392361111111114,46.12698412698413,53.745370370370374,53.736111111111114,46.03174603174603,46.023809523809526,45.992063492063494,45.992063492063494,40.138888888888886,53.495370370370374,53.43981481481482,45.77777777777778,45.76984126984127,40.02430555555556,45.63095238095238,45.595238095238095,45.54365079365079,53.125,45.51587301587302,53.06944444444444,53.050925925925924,39.78819444444444,45.32539682539682,45.30555555555556,45.142857142857146,52.611111111111114,45.00396825396825,52.47222222222222,52.44444444444444,52.379629629629626,39.25,44.82539682539682,44.75,39.15277777777778,44.69047619047619,52.023148148148145,51.84722222222222,44.40873015873016,44.361111111111114,51.666666666666664,51.574074074074076,51.5,51.43981481481482,44.07936507936508,44.07539682539682,44.07142857142857,44.023809523809526,43.94047619047619,43.93650793650794,51.21296296296296,51.092592592592595,43.74603174603175,43.72222222222222,50.791666666666664,43.523809523809526,50.63425925925926,43.392857142857146,50.61574074074074,50.61574074074074,43.361111111111114,43.357142857142854,50.55555555555556,43.26190476190476,43.23412698412698,50.407407407407405,43.142857142857146,43.12301587301587,43.09920634920635,43.083333333333336,50.199074074074076,42.8968253968254,50.02777777777778,49.995370370370374,42.845238095238095,49.93055555555556,49.907407407407405,49.736111111111114,49.66203703703704,49.657407407407405,37.19444444444444,49.56481481481482,49.56018518518518,49.541666666666664,33.02160493827161,42.43650793650794,42.416666666666664,49.398148148148145,49.351851851851855,49.324074074074076,42.273809523809526,49.30555555555556,49.28703703703704,42.23809523809524,49.273148148148145,49.26851851851852,42.166666666666664,42.111111111111114,49.11574074074074,49.00925925925926,49.004629629629626,48.97222222222222,48.958333333333336,41.94047619047619,41.92063492063492,48.851851851851855,48.833333333333336,48.7037037037037,36.50347222222222,48.60648148148148,41.654761904761905,36.447916666666664,48.574074074074076,41.607142857142854,48.5,58.18888888888889,41.5,48.111111111111114,48.083333333333336,48.013888888888886,41.142857142857146,41.09920634920635,47.90277777777778,41.023809523809526,47.782407407407405,47.77777777777778,35.80902777777778,35.78472222222222,47.666666666666664,57.15,47.611111111111114,47.592592592592595,40.78968253968254,57.01111111111111,47.40277777777778,47.30555555555556,47.25925925925926,47.25925925925926,47.226851851851855,47.2037037037037,40.45634920634921,47.138888888888886,40.388888888888886,47.0787037037037,47.06944444444444,47.06018518518518,47.0,46.9537037037037,46.9212962962963,46.800925925925924,56.111111111111114,46.629629629629626,46.5462962962963,55.75555555555555,46.4212962962963,46.375,46.34722222222222,46.31944444444444,46.31481481481482,55.55555555555556,46.26851851851852,55.483333333333334,39.52777777777778,55.31666666666667,46.09722222222222,39.476190476190474,45.9537037037037,55.0,39.25396825396825,45.736111111111114,45.726851851851855,45.629629629629626,45.58796296296296,54.455555555555556,54.30555555555556,45.24074074074074,45.21296296296296,45.1712962962963,38.65079365079365,45.08796296296296,45.0462962962963,44.96296296296296,44.93518518518518,53.9,53.80555555555556,44.8287037037037,38.42063492063492,44.736111111111114,44.708333333333336,38.26587301587302,44.611111111111114,53.50555555555555,44.467592592592595,44.375,44.361111111111114,44.35648148148148,37.976190476190474,44.254629629629626,53.083333333333336,44.208333333333336,52.71666666666667,52.71666666666667,52.68888888888889,32.90277777777778,43.74074074074074,52.44444444444444,52.41111111111111,52.4,37.3968253968254,52.3,43.583333333333336,52.205555555555556,43.495370370370374,52.144444444444446,52.138888888888886,51.894444444444446,51.88333333333333,51.861111111111114,51.833333333333336,51.794444444444444,51.65555555555556,43.032407407407405,36.84126984126984,42.949074074074076,51.516666666666666,42.916666666666664,51.42777777777778,42.81481481481482,42.81481481481482,42.75,51.24444444444445,51.205555555555556,51.19444444444444,50.894444444444446,50.81666666666667,50.78333333333333,50.733333333333334,50.65555555555556,50.59444444444444,50.31111111111111,50.22222222222222,35.78174603174603,41.72222222222222,49.99444444444445,49.916666666666664,49.894444444444446,49.88333333333333,49.75555555555555,49.705555555555556,49.63333333333333,49.59444444444444,49.544444444444444,49.53888888888889,41.25925925925926,41.24074074074074,61.81944444444444,49.38333333333333,49.327777777777776,40.96296296296296,49.144444444444446,49.105555555555554,40.916666666666664,40.8287037037037,48.98888888888889,48.983333333333334,40.78703703703704,40.782407407407405,48.90555555555556,48.86666666666667,48.78888888888889,48.75555555555555,48.75555555555555,48.75555555555555,40.38425925925926,48.388888888888886,48.361111111111114,40.21296296296296,48.138888888888886,48.111111111111114,48.09444444444444,48.09444444444444,40.074074074074076,48.07222222222222,60.0625,48.044444444444444,47.91111111111111,47.81666666666667,59.75,47.69444444444444,47.644444444444446,39.68981481481482,47.6,47.516666666666666,59.31944444444444,47.388888888888886,47.37777777777778,39.467592592592595,47.33888888888889,59.15972222222222,47.32222222222222,47.166666666666664,47.16111111111111,46.96666666666667,39.004629629629626,46.74444444444445,46.73888888888889,58.40972222222222,58.36805555555556,46.67777777777778,38.851851851851855,46.422222222222224,46.422222222222224,38.675925925925924,46.40555555555556,46.40555555555556,38.58796296296296,46.28888888888889,46.15,38.43981481481482,46.12222222222222,46.083333333333336,38.35648148148148,38.34722222222222,45.98888888888889,45.9,38.21296296296296,45.76111111111111,57.104166666666664,38.0,45.59444444444444,45.51111111111111,45.42777777777778,45.355555555555554,45.21111111111111,37.620370370370374,44.727777777777774,44.68333333333333,44.55,44.416666666666664,55.50694444444444,44.394444444444446,44.227777777777774,36.55555555555556,43.861111111111114,43.78888888888889,43.7,43.68888888888889,43.67777777777778,36.38425925925926,54.56944444444444,43.59444444444444,36.31018518518518,36.31018518518518,54.40277777777778,43.477777777777774,54.263888888888886,36.14351851851852,43.34444444444444,54.166666666666664,43.333333333333336,54.020833333333336,53.93055555555556,43.13333333333333,43.09444444444444,53.80555555555556,53.673611111111114,42.9,53.395833333333336,53.27777777777778,53.02777777777778,35.092592592592595,52.63194444444444,41.672222222222224,34.71296296296296,51.951388888888886,41.51111111111111,41.327777777777776,41.25555555555555,41.19444444444444,51.46527777777778,51.388888888888886,34.23148148148148,68.21296296296296,40.92777777777778,51.00694444444444,40.705555555555556,50.854166666666664,50.729166666666664,50.72222222222222,40.56111111111111,40.48888888888889,50.59722222222222,50.486111111111114,50.361111111111114,50.27777777777778,50.270833333333336,50.145833333333336,50.13194444444444,39.91111111111111,49.875,39.75,49.666666666666664,49.36805555555556,32.879629629629626,49.208333333333336,49.15972222222222,49.041666666666664,48.6875,48.68055555555556,38.91111111111111,48.50694444444444,48.24305555555556,48.229166666666664,48.111111111111114,32.06481481481482,38.25,47.791666666666664,47.236111111111114,47.208333333333336,47.201388888888886,62.26851851851852,46.63194444444444,46.34027777777778,30.875,61.71296296296296,46.263888888888886,46.05555555555556,46.020833333333336,36.77777777777778,36.56666666666667,45.583333333333336,60.71296296296296,36.388888888888886,45.40277777777778,60.50925925925926,45.236111111111114,45.173611111111114,45.06944444444444,44.826388888888886,59.47222222222222,44.40972222222222,44.388888888888886,44.34722222222222,35.47222222222222,44.24305555555556,44.22222222222222,44.05555555555556,43.951388888888886,43.701388888888886,43.638888888888886,43.55555555555556,43.388888888888886,43.333333333333336,43.27777777777778,43.25,57.379629629629626,57.324074074074076,42.72222222222222,56.907407407407405,34.12222222222222,56.842592592592595,56.324074074074076,42.22222222222222,42.03472222222222,55.925925925925924,41.875,55.80555555555556,55.75,41.798611111111114,41.27777777777778,41.229166666666664,54.80555555555556,54.4537037037037,54.425925925925924,40.763888888888886,40.541666666666664,40.423611111111114,53.78703703703704,53.5,53.44444444444444,39.88194444444444,39.875,39.173611111111114,38.93055555555556,38.854166666666664,51.47222222222222,51.361111111111114,51.31481481481482,38.40277777777778,50.73148148148148,50.583333333333336,50.388888888888886,30.2,30.011111111111113,37.388888888888886,49.77777777777778,29.783333333333335,36.90277777777778,36.65972222222222,36.375,48.43518518518518,36.041666666666664,47.638888888888886,47.629629629629626,46.9537037037037,46.7962962962963,46.75925925925926,46.03703703703704,45.916666666666664,33.94444444444444,33.791666666666664,44.888888888888886,44.7962962962963,33.27777777777778,44.324074074074076,43.583333333333336,43.157407407407405,43.01851851851852,42.97222222222222,63.666666666666664,31.40972222222222,41.28703703703704,61.763888888888886,40.75,40.51851851851852,40.22222222222222,59.75,59.736111111111114,39.148148148148145,38.870370370370374,58.18055555555556,38.46296296296296,38.30555555555556,38.111111111111114,37.7037037037037,37.351851851851855,54.888888888888886,54.611111111111114,36.23148148148148,54.111111111111114,53.90277777777778,53.09722222222222,52.125,51.68055555555556,34.0462962962963,50.763888888888886,49.666666666666664,49.361111111111114,32.78703703703704,48.763888888888886,48.05555555555556,31.37037037037037,46.02777777777778,45.708333333333336,45.02777777777778,44.611111111111114,44.375,44.19444444444444,28.98148148148148,42.486111111111114,42.111111111111114,41.30555555555556,40.69444444444444,40.5,40.0,39.875,38.388888888888886,37.958333333333336,37.40277777777778,37.013888888888886,68.86111111111111,34.31944444444444,34.06944444444444,21.194444444444443,30.069444444444443,29.38888888888889,56.94444444444444,55.94444444444444,54.19444444444444,54.138888888888886,53.833333333333336,51.47222222222222,49.94444444444444,48.916666666666664,44.333333333333336,43.25,30.61111111111111],\"sizemode\":\"area\",\"sizeref\":0.1721527777777778,\"symbol\":\"circle\"},\"mode\":\"markers\",\"name\":\"\",\"orientation\":\"v\",\"showlegend\":false,\"type\":\"scatter\",\"x\":[576,468,540,576,468,468,504,432,432,432,432,432,432,468,432,396,432,432,396,432,396,396,468,396,432,432,396,432,396,432,396,360,360,396,360,396,432,432,396,360,432,360,396,360,396,396,396,396,360,396,396,396,396,396,396,396,324,360,360,396,396,360,324,432,324,396,396,360,396,396,360,432,432,324,360,396,360,396,324,324,396,324,324,360,396,360,324,324,288,360,360,360,324,324,324,360,360,324,360,288,360,360,324,324,324,324,324,288,324,324,396,360,324,360,360,360,360,360,324,324,324,360,288,360,324,288,324,324,324,360,324,360,360,324,360,324,288,360,324,324,324,324,288,324,324,324,324,360,324,360,288,324,324,324,324,360,324,288,324,324,360,324,324,324,396,288,288,324,288,324,288,360,360,324,288,360,324,324,288,324,288,288,324,396,288,288,324,288,324,360,396,324,324,288,324,288,360,324,324,360,324,324,360,252,360,360,288,324,288,288,324,288,288,324,288,324,288,324,324,324,324,324,324,288,288,288,288,288,288,324,288,324,288,288,324,324,252,252,288,288,324,324,288,252,324,288,324,288,252,288,288,288,252,288,288,324,360,252,360,252,288,252,288,288,324,252,288,324,360,252,288,252,252,252,324,252,288,288,288,288,288,324,288,324,288,324,252,288,288,252,288,288,324,324,324,252,324,288,216,324,288,360,288,324,288,216,252,324,252,324,288,288,288,252,288,252,288,252,288,288,252,252,288,288,252,252,288,252,288,288,252,252,252,288,216,288,252,252,252,252,288,288,252,288,252,288,252,252,252,252,288,324,252,252,252,288,252,252,252,288,252,252,252,252,324,288,252,252,288,252,252,252,252,252,252,252,288,252,252,252,288,288,324,252,252,252,288,252,288,252,216,252,288,216,252,288,252,252,216,252,288,216,252,288,252,252,252,252,252,252,216,324,252,252,288,252,216,216,252,252,252,252,288,216,216,252,252,288,252,252,252,216,252,216,216,288,252,252,252,216,252,216,216,216,288,252,252,288,252,216,216,252,252,216,216,216,216,252,252,252,252,252,252,216,216,252,252,216,252,216,252,216,216,252,252,216,252,252,216,252,252,252,252,216,252,216,216,252,216,216,216,216,216,288,216,216,216,324,252,252,216,216,216,252,216,216,252,216,216,252,252,216,216,216,216,216,252,252,216,216,216,288,216,252,288,216,252,216,180,252,216,216,216,252,252,216,252,216,216,288,288,216,180,216,216,252,180,216,216,216,216,216,216,252,216,252,216,216,216,216,216,216,216,180,216,216,180,216,216,216,216,216,180,216,180,252,180,216,252,216,180,252,216,216,216,216,180,180,216,216,216,252,216,216,216,216,180,180,216,252,216,216,252,216,180,216,216,216,216,252,216,180,216,180,180,180,288,216,180,180,180,252,180,216,180,216,180,180,180,180,180,180,180,180,216,252,216,180,216,180,216,216,216,180,180,180,180,180,180,180,180,180,180,180,252,216,180,180,180,180,180,180,180,180,180,180,216,216,144,180,180,216,180,180,216,216,180,180,216,216,180,180,180,180,180,180,216,180,180,216,180,180,180,180,216,180,144,180,180,180,144,180,180,216,180,180,144,180,180,216,180,144,180,180,180,180,216,180,180,144,144,180,216,180,180,216,180,180,216,180,180,216,180,180,216,216,180,180,216,180,144,216,180,180,180,180,180,216,180,180,180,180,144,180,180,216,180,180,180,180,180,216,144,180,216,216,144,180,144,216,180,144,180,144,144,180,180,144,144,180,144,144,144,216,144,180,216,144,180,180,180,180,144,144,216,108,180,144,180,144,144,144,180,180,144,144,144,144,144,144,144,180,144,180,144,144,216,144,144,144,144,144,180,144,144,144,144,216,180,144,144,144,144,108,144,144,216,108,144,144,144,180,180,144,108,180,144,108,144,144,144,144,108,144,144,144,180,144,144,144,144,144,144,144,144,144,144,144,108,108,144,108,180,108,108,144,144,108,144,108,108,144,144,144,108,108,108,144,144,144,108,108,108,144,144,144,144,144,108,108,108,144,108,108,108,180,180,144,108,180,144,144,144,108,144,108,108,108,108,108,108,108,144,144,108,108,144,108,108,108,108,108,72,144,108,72,108,108,108,72,72,108,108,72,108,108,108,108,108,72,72,108,72,72,72,72,72,108,72,72,72,108,72,72,108,72,72,72,72,72,72,108,72,72,72,72,72,72,72,72,72,72,72,36,72,72,108,72,72,36,36,36,36,36,36,36,36,36,36,36],\"xaxis\":\"x\",\"y\":[27709,24744,24185,23904,23717,22577,22083,21952,21938,21801,21755,21686,21536,21521,21259,21125,21032,20939,20756,20676,20652,20639,20567,20508,20498,20294,20277,20242,20142,20135,20123,19944,19905,19834,19652,19644,19613,19577,19554,19495,19485,19269,19132,19130,19116,19115,19058,19037,18857,18839,18838,18767,18717,18663,18646,18515,18460,18458,18353,18258,18225,18194,18162,18161,18143,18070,18054,18025,18020,18019,17986,17983,17885,17732,17715,17694,17654,17649,17644,17639,17592,17559,17514,17405,17383,17269,17254,17207,17199,17160,17134,17110,17081,17072,17045,16994,16982,16861,16856,16843,16827,16760,16739,16726,16659,16630,16616,16615,16605,16595,16571,16514,16488,16487,16481,16437,16283,16224,16216,16209,16173,16165,16143,16127,16093,16082,16079,16052,15977,15968,15926,15902,15852,15829,15821,15814,15796,15786,15777,15776,15773,15743,15701,15698,15667,15657,15629,15622,15608,15583,15579,15572,15568,15555,15531,15511,15497,15476,15469,15457,15446,15430,15418,15395,15373,15355,15314,15314,15289,15285,15215,15188,15164,15157,15154,15152,15145,15137,15135,15125,15123,15092,15092,15083,15072,15072,15051,15049,15043,15008,15002,14990,14964,14958,14958,14915,14914,14913,14898,14896,14856,14846,14814,14756,14755,14716,14714,14706,14704,14674,14668,14662,14658,14619,14604,14592,14577,14563,14528,14527,14522,14506,14496,14490,14473,14442,14442,14434,14431,14426,14418,14415,14383,14351,14351,14325,14303,14302,14297,14291,14289,14259,14233,14217,14206,14202,14189,14180,14132,14115,14109,14081,14071,14068,14056,14025,14001,13985,13948,13892,13890,13886,13869,13867,13843,13841,13840,13840,13827,13796,13735,13708,13698,13687,13652,13643,13599,13590,13580,13575,13543,13531,13506,13486,13479,13476,13428,13423,13416,13411,13404,13390,13315,13311,13311,13301,13297,13254,13202,13186,13181,13176,13127,13106,13099,13088,13069,13062,13050,13050,13037,13033,13027,13021,13000,12993,12990,12971,12966,12952,12933,12919,12883,12870,12866,12852,12847,12846,12837,12825,12810,12793,12776,12765,12758,12753,12743,12740,12726,12694,12663,12661,12654,12648,12632,12622,12619,12599,12589,12569,12523,12496,12476,12460,12449,12442,12419,12418,12415,12413,12402,12399,12390,12368,12367,12365,12354,12339,12324,12323,12263,12261,12250,12249,12199,12194,12192,12181,12164,12155,12141,12140,12131,12120,12114,12111,12052,12045,12042,12034,12014,11991,11975,11959,11936,11916,11903,11880,11842,11837,11817,11806,11799,11782,11763,11731,11730,11700,11668,11666,11652,11652,11638,11634,11633,11624,11609,11607,11600,11598,11590,11590,11560,11555,11543,11536,11534,11527,11499,11490,11477,11475,11470,11463,11459,11459,11422,11417,11376,11364,11341,11334,11328,11314,11304,11296,11277,11276,11262,11237,11199,11191,11179,11160,11140,11124,11111,11108,11107,11106,11094,11073,11072,11062,11036,11024,11018,10971,10968,10937,10935,10933,10933,10927,10926,10920,10902,10895,10888,10872,10867,10861,10857,10843,10810,10806,10799,10797,10785,10780,10743,10727,10726,10712,10706,10705,10701,10699,10694,10689,10670,10660,10654,10653,10650,10646,10644,10643,10642,10626,10612,10609,10586,10585,10578,10575,10569,10564,10552,10548,10520,10513,10499,10497,10497,10492,10485,10476,10474,10458,10392,10386,10371,10368,10357,10347,10338,10321,10320,10313,10306,10296,10287,10284,10280,10279,10262,10239,10218,10208,10208,10201,10196,10195,10182,10178,10169,10167,10165,10152,10142,10135,10109,10100,10072,10054,10036,10027,10017,10011,10005,10004,10000,9994,9987,9961,9957,9957,9948,9926,9900,9892,9879,9877,9856,9847,9802,9775,9772,9766,9757,9740,9739,9730,9712,9706,9702,9685,9683,9682,9663,9657,9643,9636,9631,9605,9585,9582,9581,9570,9559,9555,9549,9489,9489,9484,9476,9448,9440,9434,9432,9424,9414,9414,9397,9395,9386,9385,9341,9339,9335,9330,9323,9298,9295,9284,9277,9273,9270,9257,9248,9248,9234,9224,9217,9215,9161,9147,9141,9132,9118,9107,9056,9040,9017,9012,8999,8985,8981,8979,8956,8947,8934,8927,8918,8917,8912,8908,8902,8889,8879,8848,8846,8839,8838,8819,8818,8817,8810,8809,8803,8796,8782,8776,8776,8776,8723,8710,8705,8686,8665,8660,8657,8657,8656,8653,8649,8648,8624,8607,8604,8585,8576,8573,8568,8553,8542,8530,8528,8525,8521,8519,8518,8490,8489,8454,8425,8414,8413,8411,8405,8402,8392,8356,8356,8354,8353,8353,8335,8332,8307,8303,8302,8295,8285,8283,8278,8262,8254,8237,8223,8208,8207,8192,8177,8164,8138,8126,8051,8043,8019,7995,7993,7991,7961,7896,7895,7882,7866,7864,7862,7859,7858,7847,7843,7843,7834,7826,7814,7807,7802,7800,7800,7779,7766,7764,7757,7748,7729,7722,7689,7672,7636,7580,7579,7501,7498,7481,7472,7439,7426,7415,7411,7400,7394,7367,7367,7345,7327,7323,7305,7304,7301,7288,7286,7270,7252,7240,7239,7221,7219,7184,7182,7155,7152,7109,7102,7086,7079,7062,7011,7010,7004,6985,6947,6945,6928,6926,6885,6882,6802,6798,6797,6725,6715,6673,6669,6665,6662,6632,6627,6620,6582,6564,6557,6550,6538,6535,6514,6505,6490,6455,6423,6395,6392,6386,6385,6371,6368,6344,6329,6293,6284,6272,6248,6240,6232,6228,6197,6191,6152,6146,6142,6139,6083,6080,6053,6040,6030,6027,6021,6019,5944,5937,5919,5881,5878,5870,5838,5821,5809,5778,5772,5743,5742,5641,5606,5595,5559,5547,5542,5530,5479,5463,5442,5436,5402,5384,5376,5361,5314,5279,5238,5231,5190,5145,5144,5071,5054,5050,4972,4959,4888,4866,4848,4838,4792,4787,4707,4661,4646,4641,4584,4523,4459,4447,4401,4376,4344,4302,4301,4228,4198,4189,4154,4137,4116,4072,4034,3952,3932,3913,3896,3881,3823,3753,3721,3677,3655,3576,3554,3541,3511,3460,3388,3314,3291,3242,3212,3195,3182,3130,3059,3032,2974,2930,2916,2880,2871,2764,2733,2693,2665,2479,2471,2453,2289,2165,2116,2050,2014,1951,1949,1938,1853,1798,1761,1596,1557,1102],\"yaxis\":\"y\"}],                        {\"coloraxis\":{\"colorbar\":{\"title\":{\"text\":\"AuthorID\"}},\"colorscale\":[[0.0,\"#0d0887\"],[0.1111111111111111,\"#46039f\"],[0.2222222222222222,\"#7201a8\"],[0.3333333333333333,\"#9c179e\"],[0.4444444444444444,\"#bd3786\"],[0.5555555555555556,\"#d8576b\"],[0.6666666666666666,\"#ed7953\"],[0.7777777777777778,\"#fb9f3a\"],[0.8888888888888888,\"#fdca26\"],[1.0,\"#f0f921\"]]},\"legend\":{\"itemsizing\":\"constant\",\"tracegroupgap\":0},\"template\":{\"data\":{\"bar\":[{\"error_x\":{\"color\":\"#2a3f5f\"},\"error_y\":{\"color\":\"#2a3f5f\"},\"marker\":{\"line\":{\"color\":\"#E5ECF6\",\"width\":0.5},\"pattern\":{\"fillmode\":\"overlay\",\"size\":10,\"solidity\":0.2}},\"type\":\"bar\"}],\"barpolar\":[{\"marker\":{\"line\":{\"color\":\"#E5ECF6\",\"width\":0.5},\"pattern\":{\"fillmode\":\"overlay\",\"size\":10,\"solidity\":0.2}},\"type\":\"barpolar\"}],\"carpet\":[{\"aaxis\":{\"endlinecolor\":\"#2a3f5f\",\"gridcolor\":\"white\",\"linecolor\":\"white\",\"minorgridcolor\":\"white\",\"startlinecolor\":\"#2a3f5f\"},\"baxis\":{\"endlinecolor\":\"#2a3f5f\",\"gridcolor\":\"white\",\"linecolor\":\"white\",\"minorgridcolor\":\"white\",\"startlinecolor\":\"#2a3f5f\"},\"type\":\"carpet\"}],\"choropleth\":[{\"colorbar\":{\"outlinewidth\":0,\"ticks\":\"\"},\"type\":\"choropleth\"}],\"contour\":[{\"colorbar\":{\"outlinewidth\":0,\"ticks\":\"\"},\"colorscale\":[[0.0,\"#0d0887\"],[0.1111111111111111,\"#46039f\"],[0.2222222222222222,\"#7201a8\"],[0.3333333333333333,\"#9c179e\"],[0.4444444444444444,\"#bd3786\"],[0.5555555555555556,\"#d8576b\"],[0.6666666666666666,\"#ed7953\"],[0.7777777777777778,\"#fb9f3a\"],[0.8888888888888888,\"#fdca26\"],[1.0,\"#f0f921\"]],\"type\":\"contour\"}],\"contourcarpet\":[{\"colorbar\":{\"outlinewidth\":0,\"ticks\":\"\"},\"type\":\"contourcarpet\"}],\"heatmap\":[{\"colorbar\":{\"outlinewidth\":0,\"ticks\":\"\"},\"colorscale\":[[0.0,\"#0d0887\"],[0.1111111111111111,\"#46039f\"],[0.2222222222222222,\"#7201a8\"],[0.3333333333333333,\"#9c179e\"],[0.4444444444444444,\"#bd3786\"],[0.5555555555555556,\"#d8576b\"],[0.6666666666666666,\"#ed7953\"],[0.7777777777777778,\"#fb9f3a\"],[0.8888888888888888,\"#fdca26\"],[1.0,\"#f0f921\"]],\"type\":\"heatmap\"}],\"heatmapgl\":[{\"colorbar\":{\"outlinewidth\":0,\"ticks\":\"\"},\"colorscale\":[[0.0,\"#0d0887\"],[0.1111111111111111,\"#46039f\"],[0.2222222222222222,\"#7201a8\"],[0.3333333333333333,\"#9c179e\"],[0.4444444444444444,\"#bd3786\"],[0.5555555555555556,\"#d8576b\"],[0.6666666666666666,\"#ed7953\"],[0.7777777777777778,\"#fb9f3a\"],[0.8888888888888888,\"#fdca26\"],[1.0,\"#f0f921\"]],\"type\":\"heatmapgl\"}],\"histogram\":[{\"marker\":{\"pattern\":{\"fillmode\":\"overlay\",\"size\":10,\"solidity\":0.2}},\"type\":\"histogram\"}],\"histogram2d\":[{\"colorbar\":{\"outlinewidth\":0,\"ticks\":\"\"},\"colorscale\":[[0.0,\"#0d0887\"],[0.1111111111111111,\"#46039f\"],[0.2222222222222222,\"#7201a8\"],[0.3333333333333333,\"#9c179e\"],[0.4444444444444444,\"#bd3786\"],[0.5555555555555556,\"#d8576b\"],[0.6666666666666666,\"#ed7953\"],[0.7777777777777778,\"#fb9f3a\"],[0.8888888888888888,\"#fdca26\"],[1.0,\"#f0f921\"]],\"type\":\"histogram2d\"}],\"histogram2dcontour\":[{\"colorbar\":{\"outlinewidth\":0,\"ticks\":\"\"},\"colorscale\":[[0.0,\"#0d0887\"],[0.1111111111111111,\"#46039f\"],[0.2222222222222222,\"#7201a8\"],[0.3333333333333333,\"#9c179e\"],[0.4444444444444444,\"#bd3786\"],[0.5555555555555556,\"#d8576b\"],[0.6666666666666666,\"#ed7953\"],[0.7777777777777778,\"#fb9f3a\"],[0.8888888888888888,\"#fdca26\"],[1.0,\"#f0f921\"]],\"type\":\"histogram2dcontour\"}],\"mesh3d\":[{\"colorbar\":{\"outlinewidth\":0,\"ticks\":\"\"},\"type\":\"mesh3d\"}],\"parcoords\":[{\"line\":{\"colorbar\":{\"outlinewidth\":0,\"ticks\":\"\"}},\"type\":\"parcoords\"}],\"pie\":[{\"automargin\":true,\"type\":\"pie\"}],\"scatter\":[{\"marker\":{\"colorbar\":{\"outlinewidth\":0,\"ticks\":\"\"}},\"type\":\"scatter\"}],\"scatter3d\":[{\"line\":{\"colorbar\":{\"outlinewidth\":0,\"ticks\":\"\"}},\"marker\":{\"colorbar\":{\"outlinewidth\":0,\"ticks\":\"\"}},\"type\":\"scatter3d\"}],\"scattercarpet\":[{\"marker\":{\"colorbar\":{\"outlinewidth\":0,\"ticks\":\"\"}},\"type\":\"scattercarpet\"}],\"scattergeo\":[{\"marker\":{\"colorbar\":{\"outlinewidth\":0,\"ticks\":\"\"}},\"type\":\"scattergeo\"}],\"scattergl\":[{\"marker\":{\"colorbar\":{\"outlinewidth\":0,\"ticks\":\"\"}},\"type\":\"scattergl\"}],\"scattermapbox\":[{\"marker\":{\"colorbar\":{\"outlinewidth\":0,\"ticks\":\"\"}},\"type\":\"scattermapbox\"}],\"scatterpolar\":[{\"marker\":{\"colorbar\":{\"outlinewidth\":0,\"ticks\":\"\"}},\"type\":\"scatterpolar\"}],\"scatterpolargl\":[{\"marker\":{\"colorbar\":{\"outlinewidth\":0,\"ticks\":\"\"}},\"type\":\"scatterpolargl\"}],\"scatterternary\":[{\"marker\":{\"colorbar\":{\"outlinewidth\":0,\"ticks\":\"\"}},\"type\":\"scatterternary\"}],\"surface\":[{\"colorbar\":{\"outlinewidth\":0,\"ticks\":\"\"},\"colorscale\":[[0.0,\"#0d0887\"],[0.1111111111111111,\"#46039f\"],[0.2222222222222222,\"#7201a8\"],[0.3333333333333333,\"#9c179e\"],[0.4444444444444444,\"#bd3786\"],[0.5555555555555556,\"#d8576b\"],[0.6666666666666666,\"#ed7953\"],[0.7777777777777778,\"#fb9f3a\"],[0.8888888888888888,\"#fdca26\"],[1.0,\"#f0f921\"]],\"type\":\"surface\"}],\"table\":[{\"cells\":{\"fill\":{\"color\":\"#EBF0F8\"},\"line\":{\"color\":\"white\"}},\"header\":{\"fill\":{\"color\":\"#C8D4E3\"},\"line\":{\"color\":\"white\"}},\"type\":\"table\"}]},\"layout\":{\"annotationdefaults\":{\"arrowcolor\":\"#2a3f5f\",\"arrowhead\":0,\"arrowwidth\":1},\"autotypenumbers\":\"strict\",\"coloraxis\":{\"colorbar\":{\"outlinewidth\":0,\"ticks\":\"\"}},\"colorscale\":{\"diverging\":[[0,\"#8e0152\"],[0.1,\"#c51b7d\"],[0.2,\"#de77ae\"],[0.3,\"#f1b6da\"],[0.4,\"#fde0ef\"],[0.5,\"#f7f7f7\"],[0.6,\"#e6f5d0\"],[0.7,\"#b8e186\"],[0.8,\"#7fbc41\"],[0.9,\"#4d9221\"],[1,\"#276419\"]],\"sequential\":[[0.0,\"#0d0887\"],[0.1111111111111111,\"#46039f\"],[0.2222222222222222,\"#7201a8\"],[0.3333333333333333,\"#9c179e\"],[0.4444444444444444,\"#bd3786\"],[0.5555555555555556,\"#d8576b\"],[0.6666666666666666,\"#ed7953\"],[0.7777777777777778,\"#fb9f3a\"],[0.8888888888888888,\"#fdca26\"],[1.0,\"#f0f921\"]],\"sequentialminus\":[[0.0,\"#0d0887\"],[0.1111111111111111,\"#46039f\"],[0.2222222222222222,\"#7201a8\"],[0.3333333333333333,\"#9c179e\"],[0.4444444444444444,\"#bd3786\"],[0.5555555555555556,\"#d8576b\"],[0.6666666666666666,\"#ed7953\"],[0.7777777777777778,\"#fb9f3a\"],[0.8888888888888888,\"#fdca26\"],[1.0,\"#f0f921\"]]},\"colorway\":[\"#636efa\",\"#EF553B\",\"#00cc96\",\"#ab63fa\",\"#FFA15A\",\"#19d3f3\",\"#FF6692\",\"#B6E880\",\"#FF97FF\",\"#FECB52\"],\"font\":{\"color\":\"#2a3f5f\"},\"geo\":{\"bgcolor\":\"white\",\"lakecolor\":\"white\",\"landcolor\":\"#E5ECF6\",\"showlakes\":true,\"showland\":true,\"subunitcolor\":\"white\"},\"hoverlabel\":{\"align\":\"left\"},\"hovermode\":\"closest\",\"mapbox\":{\"style\":\"light\"},\"paper_bgcolor\":\"white\",\"plot_bgcolor\":\"#E5ECF6\",\"polar\":{\"angularaxis\":{\"gridcolor\":\"white\",\"linecolor\":\"white\",\"ticks\":\"\"},\"bgcolor\":\"#E5ECF6\",\"radialaxis\":{\"gridcolor\":\"white\",\"linecolor\":\"white\",\"ticks\":\"\"}},\"scene\":{\"xaxis\":{\"backgroundcolor\":\"#E5ECF6\",\"gridcolor\":\"white\",\"gridwidth\":2,\"linecolor\":\"white\",\"showbackground\":true,\"ticks\":\"\",\"zerolinecolor\":\"white\"},\"yaxis\":{\"backgroundcolor\":\"#E5ECF6\",\"gridcolor\":\"white\",\"gridwidth\":2,\"linecolor\":\"white\",\"showbackground\":true,\"ticks\":\"\",\"zerolinecolor\":\"white\"},\"zaxis\":{\"backgroundcolor\":\"#E5ECF6\",\"gridcolor\":\"white\",\"gridwidth\":2,\"linecolor\":\"white\",\"showbackground\":true,\"ticks\":\"\",\"zerolinecolor\":\"white\"}},\"shapedefaults\":{\"line\":{\"color\":\"#2a3f5f\"}},\"ternary\":{\"aaxis\":{\"gridcolor\":\"white\",\"linecolor\":\"white\",\"ticks\":\"\"},\"baxis\":{\"gridcolor\":\"white\",\"linecolor\":\"white\",\"ticks\":\"\"},\"bgcolor\":\"#E5ECF6\",\"caxis\":{\"gridcolor\":\"white\",\"linecolor\":\"white\",\"ticks\":\"\"}},\"title\":{\"x\":0.05},\"xaxis\":{\"automargin\":true,\"gridcolor\":\"white\",\"linecolor\":\"white\",\"ticks\":\"\",\"title\":{\"standoff\":15},\"zerolinecolor\":\"white\",\"zerolinewidth\":2},\"yaxis\":{\"automargin\":true,\"gridcolor\":\"white\",\"linecolor\":\"white\",\"ticks\":\"\",\"title\":{\"standoff\":15},\"zerolinecolor\":\"white\",\"zerolinewidth\":2}}},\"title\":{\"text\":\"Revenue per song for each author\"},\"xaxis\":{\"anchor\":\"y\",\"domain\":[0.0,1.0],\"title\":{\"text\":\"Number of Songs\"}},\"yaxis\":{\"anchor\":\"x\",\"domain\":[0.0,1.0],\"title\":{\"text\":\"Revenue\"}}},                        {\"responsive\": true}                    ).then(function(){\n",
       "                            \n",
       "var gd = document.getElementById('d991b572-35be-4fac-ae6a-8d2c97f01ecb');\n",
       "var x = new MutationObserver(function (mutations, observer) {{\n",
       "        var display = window.getComputedStyle(gd).display;\n",
       "        if (!display || display === 'none') {{\n",
       "            console.log([gd, 'removed!']);\n",
       "            Plotly.purge(gd);\n",
       "            observer.disconnect();\n",
       "        }}\n",
       "}});\n",
       "\n",
       "// Listen for the removal of the full notebook cells\n",
       "var notebookContainer = gd.closest('#notebook-container');\n",
       "if (notebookContainer) {{\n",
       "    x.observe(notebookContainer, {childList: true});\n",
       "}}\n",
       "\n",
       "// Listen for the clearing of the current output cell\n",
       "var outputEl = gd.closest('.output');\n",
       "if (outputEl) {{\n",
       "    x.observe(outputEl, {childList: true});\n",
       "}}\n",
       "\n",
       "                        })                };                });            </script>        </div>"
      ]
     },
     "metadata": {},
     "output_type": "display_data"
    }
   ],
   "source": [
    "fig = px.scatter(df_new.sort_values(by = [\"Revenue\",\"Revenue_per_song\"],ascending=[False, False]).head(1000), x = \"SongID\", y = \"Revenue\",\n",
    "                   size = \"Revenue_per_song\",color = \"AuthorID\", hover_data=[\"AuthorID\",\"Revenue_per_song\"],title = \"Revenue per song for each author\",\n",
    "                labels={\"Revenue_per_song\": \"Revenue per song\", \"SongID\":\"Number of Songs\"})\n",
    "fig.show()"
   ]
  },
  {
   "cell_type": "markdown",
   "id": "a377fbe0",
   "metadata": {},
   "source": [
    "Here we see that authorID 49 has generated highest revenue per song. Further, we see that authors who are top contributors to revenue also have high revenue per song."
   ]
  },
  {
   "cell_type": "code",
   "execution_count": 159,
   "id": "397acd8b",
   "metadata": {},
   "outputs": [
    {
     "data": {
      "text/html": [
       "<div>\n",
       "<style scoped>\n",
       "    .dataframe tbody tr th:only-of-type {\n",
       "        vertical-align: middle;\n",
       "    }\n",
       "\n",
       "    .dataframe tbody tr th {\n",
       "        vertical-align: top;\n",
       "    }\n",
       "\n",
       "    .dataframe thead th {\n",
       "        text-align: right;\n",
       "    }\n",
       "</style>\n",
       "<table border=\"1\" class=\"dataframe\">\n",
       "  <thead>\n",
       "    <tr style=\"text-align: right;\">\n",
       "      <th></th>\n",
       "      <th>Year</th>\n",
       "      <th>AuthorID</th>\n",
       "      <th>Revenue</th>\n",
       "    </tr>\n",
       "  </thead>\n",
       "  <tbody>\n",
       "    <tr>\n",
       "      <th>0</th>\n",
       "      <td>2015</td>\n",
       "      <td>1</td>\n",
       "      <td>466</td>\n",
       "    </tr>\n",
       "    <tr>\n",
       "      <th>1</th>\n",
       "      <td>2015</td>\n",
       "      <td>2</td>\n",
       "      <td>1154</td>\n",
       "    </tr>\n",
       "    <tr>\n",
       "      <th>2</th>\n",
       "      <td>2015</td>\n",
       "      <td>3</td>\n",
       "      <td>0</td>\n",
       "    </tr>\n",
       "    <tr>\n",
       "      <th>3</th>\n",
       "      <td>2015</td>\n",
       "      <td>4</td>\n",
       "      <td>1302</td>\n",
       "    </tr>\n",
       "    <tr>\n",
       "      <th>4</th>\n",
       "      <td>2015</td>\n",
       "      <td>5</td>\n",
       "      <td>1403</td>\n",
       "    </tr>\n",
       "    <tr>\n",
       "      <th>...</th>\n",
       "      <td>...</td>\n",
       "      <td>...</td>\n",
       "      <td>...</td>\n",
       "    </tr>\n",
       "    <tr>\n",
       "      <th>8995</th>\n",
       "      <td>2023</td>\n",
       "      <td>996</td>\n",
       "      <td>1798</td>\n",
       "    </tr>\n",
       "    <tr>\n",
       "      <th>8996</th>\n",
       "      <td>2023</td>\n",
       "      <td>997</td>\n",
       "      <td>2360</td>\n",
       "    </tr>\n",
       "    <tr>\n",
       "      <th>8997</th>\n",
       "      <td>2023</td>\n",
       "      <td>998</td>\n",
       "      <td>1326</td>\n",
       "    </tr>\n",
       "    <tr>\n",
       "      <th>8998</th>\n",
       "      <td>2023</td>\n",
       "      <td>999</td>\n",
       "      <td>877</td>\n",
       "    </tr>\n",
       "    <tr>\n",
       "      <th>8999</th>\n",
       "      <td>2023</td>\n",
       "      <td>1000</td>\n",
       "      <td>1743</td>\n",
       "    </tr>\n",
       "  </tbody>\n",
       "</table>\n",
       "<p>9000 rows × 3 columns</p>\n",
       "</div>"
      ],
      "text/plain": [
       "      Year  AuthorID  Revenue\n",
       "0     2015         1      466\n",
       "1     2015         2     1154\n",
       "2     2015         3        0\n",
       "3     2015         4     1302\n",
       "4     2015         5     1403\n",
       "...    ...       ...      ...\n",
       "8995  2023       996     1798\n",
       "8996  2023       997     2360\n",
       "8997  2023       998     1326\n",
       "8998  2023       999      877\n",
       "8999  2023      1000     1743\n",
       "\n",
       "[9000 rows x 3 columns]"
      ]
     },
     "execution_count": 159,
     "metadata": {},
     "output_type": "execute_result"
    }
   ],
   "source": [
    "#Total revenue each year\n",
    "df_rev_year_per_author = pd.DataFrame(df3.groupby([\"Year\",\"AuthorID\"])[\"Revenue\"].sum())\n",
    "df_rev_year_per_author.reset_index(inplace= True)\n",
    "df_rev_year_per_author"
   ]
  },
  {
   "cell_type": "code",
   "execution_count": 167,
   "id": "fa207e5f",
   "metadata": {},
   "outputs": [
    {
     "data": {
      "text/html": [
       "<div>\n",
       "<style scoped>\n",
       "    .dataframe tbody tr th:only-of-type {\n",
       "        vertical-align: middle;\n",
       "    }\n",
       "\n",
       "    .dataframe tbody tr th {\n",
       "        vertical-align: top;\n",
       "    }\n",
       "\n",
       "    .dataframe thead th {\n",
       "        text-align: right;\n",
       "    }\n",
       "</style>\n",
       "<table border=\"1\" class=\"dataframe\">\n",
       "  <thead>\n",
       "    <tr style=\"text-align: right;\">\n",
       "      <th></th>\n",
       "      <th>AuthorID</th>\n",
       "      <th>Revenue</th>\n",
       "      <th>Revenue_Interval</th>\n",
       "    </tr>\n",
       "  </thead>\n",
       "  <tbody>\n",
       "    <tr>\n",
       "      <th>173</th>\n",
       "      <td>174</td>\n",
       "      <td>2665</td>\n",
       "      <td>(1075.393, 3762.7]</td>\n",
       "    </tr>\n",
       "    <tr>\n",
       "      <th>690</th>\n",
       "      <td>691</td>\n",
       "      <td>2471</td>\n",
       "      <td>(1075.393, 3762.7]</td>\n",
       "    </tr>\n",
       "    <tr>\n",
       "      <th>958</th>\n",
       "      <td>959</td>\n",
       "      <td>3655</td>\n",
       "      <td>(1075.393, 3762.7]</td>\n",
       "    </tr>\n",
       "    <tr>\n",
       "      <th>868</th>\n",
       "      <td>869</td>\n",
       "      <td>3314</td>\n",
       "      <td>(1075.393, 3762.7]</td>\n",
       "    </tr>\n",
       "    <tr>\n",
       "      <th>229</th>\n",
       "      <td>230</td>\n",
       "      <td>1102</td>\n",
       "      <td>(1075.393, 3762.7]</td>\n",
       "    </tr>\n",
       "    <tr>\n",
       "      <th>...</th>\n",
       "      <td>...</td>\n",
       "      <td>...</td>\n",
       "      <td>...</td>\n",
       "    </tr>\n",
       "    <tr>\n",
       "      <th>963</th>\n",
       "      <td>964</td>\n",
       "      <td>24744</td>\n",
       "      <td>(22387.6, 25048.3]</td>\n",
       "    </tr>\n",
       "    <tr>\n",
       "      <th>141</th>\n",
       "      <td>142</td>\n",
       "      <td>23904</td>\n",
       "      <td>(22387.6, 25048.3]</td>\n",
       "    </tr>\n",
       "    <tr>\n",
       "      <th>922</th>\n",
       "      <td>923</td>\n",
       "      <td>24185</td>\n",
       "      <td>(22387.6, 25048.3]</td>\n",
       "    </tr>\n",
       "    <tr>\n",
       "      <th>639</th>\n",
       "      <td>640</td>\n",
       "      <td>23717</td>\n",
       "      <td>(22387.6, 25048.3]</td>\n",
       "    </tr>\n",
       "    <tr>\n",
       "      <th>48</th>\n",
       "      <td>49</td>\n",
       "      <td>27709</td>\n",
       "      <td>(25048.3, 27709.0]</td>\n",
       "    </tr>\n",
       "  </tbody>\n",
       "</table>\n",
       "<p>1000 rows × 3 columns</p>\n",
       "</div>"
      ],
      "text/plain": [
       "     AuthorID  Revenue    Revenue_Interval\n",
       "173       174     2665  (1075.393, 3762.7]\n",
       "690       691     2471  (1075.393, 3762.7]\n",
       "958       959     3655  (1075.393, 3762.7]\n",
       "868       869     3314  (1075.393, 3762.7]\n",
       "229       230     1102  (1075.393, 3762.7]\n",
       "..        ...      ...                 ...\n",
       "963       964    24744  (22387.6, 25048.3]\n",
       "141       142    23904  (22387.6, 25048.3]\n",
       "922       923    24185  (22387.6, 25048.3]\n",
       "639       640    23717  (22387.6, 25048.3]\n",
       "48         49    27709  (25048.3, 27709.0]\n",
       "\n",
       "[1000 rows x 3 columns]"
      ]
     },
     "execution_count": 167,
     "metadata": {},
     "output_type": "execute_result"
    }
   ],
   "source": [
    "df_rev_distribution = pd.DataFrame(df3.groupby(\"AuthorID\")[\"Revenue\"].sum())\n",
    "df_rev_distribution[\"Revenue_Interval\"] = pd.cut(df_rev_distribution[\"Revenue\"], bins = 10)\n",
    "df_rev_distribution.reset_index(inplace = True)\n",
    "df_rev_distribution.sort_values(by = \"Revenue_Interval\",ascending = True)"
   ]
  },
  {
   "cell_type": "code",
   "execution_count": 172,
   "id": "5d2ecb0b",
   "metadata": {},
   "outputs": [
    {
     "data": {
      "application/vnd.plotly.v1+json": {
       "config": {
        "plotlyServerURL": "https://plot.ly"
       },
       "data": [
        {
         "alignmentgroup": "True",
         "hovertemplate": "Number of Authors=%{x}<br>Revenue=%{y}<extra></extra>",
         "legendgroup": "",
         "marker": {
          "color": "#636efa",
          "pattern": {
           "shape": ""
          }
         },
         "name": "",
         "offsetgroup": "",
         "orientation": "h",
         "showlegend": false,
         "textposition": "auto",
         "type": "bar",
         "x": [
          45,
          103,
          200,
          247,
          173,
          138,
          60,
          28,
          5,
          1
         ],
         "xaxis": "x",
         "y": [
          "(1075.393, 3762.7]",
          "(3762.7, 6423.4]",
          "(6423.4, 9084.1]",
          "(9084.1, 11744.8]",
          "(11744.8, 14405.5]",
          "(14405.5, 17066.2]",
          "(17066.2, 19726.9]",
          "(19726.9, 22387.6]",
          "(22387.6, 25048.3]",
          "(25048.3, 27709.0]"
         ],
         "yaxis": "y"
        }
       ],
       "layout": {
        "barmode": "relative",
        "legend": {
         "tracegroupgap": 0
        },
        "template": {
         "data": {
          "bar": [
           {
            "error_x": {
             "color": "#2a3f5f"
            },
            "error_y": {
             "color": "#2a3f5f"
            },
            "marker": {
             "line": {
              "color": "#E5ECF6",
              "width": 0.5
             },
             "pattern": {
              "fillmode": "overlay",
              "size": 10,
              "solidity": 0.2
             }
            },
            "type": "bar"
           }
          ],
          "barpolar": [
           {
            "marker": {
             "line": {
              "color": "#E5ECF6",
              "width": 0.5
             },
             "pattern": {
              "fillmode": "overlay",
              "size": 10,
              "solidity": 0.2
             }
            },
            "type": "barpolar"
           }
          ],
          "carpet": [
           {
            "aaxis": {
             "endlinecolor": "#2a3f5f",
             "gridcolor": "white",
             "linecolor": "white",
             "minorgridcolor": "white",
             "startlinecolor": "#2a3f5f"
            },
            "baxis": {
             "endlinecolor": "#2a3f5f",
             "gridcolor": "white",
             "linecolor": "white",
             "minorgridcolor": "white",
             "startlinecolor": "#2a3f5f"
            },
            "type": "carpet"
           }
          ],
          "choropleth": [
           {
            "colorbar": {
             "outlinewidth": 0,
             "ticks": ""
            },
            "type": "choropleth"
           }
          ],
          "contour": [
           {
            "colorbar": {
             "outlinewidth": 0,
             "ticks": ""
            },
            "colorscale": [
             [
              0,
              "#0d0887"
             ],
             [
              0.1111111111111111,
              "#46039f"
             ],
             [
              0.2222222222222222,
              "#7201a8"
             ],
             [
              0.3333333333333333,
              "#9c179e"
             ],
             [
              0.4444444444444444,
              "#bd3786"
             ],
             [
              0.5555555555555556,
              "#d8576b"
             ],
             [
              0.6666666666666666,
              "#ed7953"
             ],
             [
              0.7777777777777778,
              "#fb9f3a"
             ],
             [
              0.8888888888888888,
              "#fdca26"
             ],
             [
              1,
              "#f0f921"
             ]
            ],
            "type": "contour"
           }
          ],
          "contourcarpet": [
           {
            "colorbar": {
             "outlinewidth": 0,
             "ticks": ""
            },
            "type": "contourcarpet"
           }
          ],
          "heatmap": [
           {
            "colorbar": {
             "outlinewidth": 0,
             "ticks": ""
            },
            "colorscale": [
             [
              0,
              "#0d0887"
             ],
             [
              0.1111111111111111,
              "#46039f"
             ],
             [
              0.2222222222222222,
              "#7201a8"
             ],
             [
              0.3333333333333333,
              "#9c179e"
             ],
             [
              0.4444444444444444,
              "#bd3786"
             ],
             [
              0.5555555555555556,
              "#d8576b"
             ],
             [
              0.6666666666666666,
              "#ed7953"
             ],
             [
              0.7777777777777778,
              "#fb9f3a"
             ],
             [
              0.8888888888888888,
              "#fdca26"
             ],
             [
              1,
              "#f0f921"
             ]
            ],
            "type": "heatmap"
           }
          ],
          "heatmapgl": [
           {
            "colorbar": {
             "outlinewidth": 0,
             "ticks": ""
            },
            "colorscale": [
             [
              0,
              "#0d0887"
             ],
             [
              0.1111111111111111,
              "#46039f"
             ],
             [
              0.2222222222222222,
              "#7201a8"
             ],
             [
              0.3333333333333333,
              "#9c179e"
             ],
             [
              0.4444444444444444,
              "#bd3786"
             ],
             [
              0.5555555555555556,
              "#d8576b"
             ],
             [
              0.6666666666666666,
              "#ed7953"
             ],
             [
              0.7777777777777778,
              "#fb9f3a"
             ],
             [
              0.8888888888888888,
              "#fdca26"
             ],
             [
              1,
              "#f0f921"
             ]
            ],
            "type": "heatmapgl"
           }
          ],
          "histogram": [
           {
            "marker": {
             "pattern": {
              "fillmode": "overlay",
              "size": 10,
              "solidity": 0.2
             }
            },
            "type": "histogram"
           }
          ],
          "histogram2d": [
           {
            "colorbar": {
             "outlinewidth": 0,
             "ticks": ""
            },
            "colorscale": [
             [
              0,
              "#0d0887"
             ],
             [
              0.1111111111111111,
              "#46039f"
             ],
             [
              0.2222222222222222,
              "#7201a8"
             ],
             [
              0.3333333333333333,
              "#9c179e"
             ],
             [
              0.4444444444444444,
              "#bd3786"
             ],
             [
              0.5555555555555556,
              "#d8576b"
             ],
             [
              0.6666666666666666,
              "#ed7953"
             ],
             [
              0.7777777777777778,
              "#fb9f3a"
             ],
             [
              0.8888888888888888,
              "#fdca26"
             ],
             [
              1,
              "#f0f921"
             ]
            ],
            "type": "histogram2d"
           }
          ],
          "histogram2dcontour": [
           {
            "colorbar": {
             "outlinewidth": 0,
             "ticks": ""
            },
            "colorscale": [
             [
              0,
              "#0d0887"
             ],
             [
              0.1111111111111111,
              "#46039f"
             ],
             [
              0.2222222222222222,
              "#7201a8"
             ],
             [
              0.3333333333333333,
              "#9c179e"
             ],
             [
              0.4444444444444444,
              "#bd3786"
             ],
             [
              0.5555555555555556,
              "#d8576b"
             ],
             [
              0.6666666666666666,
              "#ed7953"
             ],
             [
              0.7777777777777778,
              "#fb9f3a"
             ],
             [
              0.8888888888888888,
              "#fdca26"
             ],
             [
              1,
              "#f0f921"
             ]
            ],
            "type": "histogram2dcontour"
           }
          ],
          "mesh3d": [
           {
            "colorbar": {
             "outlinewidth": 0,
             "ticks": ""
            },
            "type": "mesh3d"
           }
          ],
          "parcoords": [
           {
            "line": {
             "colorbar": {
              "outlinewidth": 0,
              "ticks": ""
             }
            },
            "type": "parcoords"
           }
          ],
          "pie": [
           {
            "automargin": true,
            "type": "pie"
           }
          ],
          "scatter": [
           {
            "marker": {
             "colorbar": {
              "outlinewidth": 0,
              "ticks": ""
             }
            },
            "type": "scatter"
           }
          ],
          "scatter3d": [
           {
            "line": {
             "colorbar": {
              "outlinewidth": 0,
              "ticks": ""
             }
            },
            "marker": {
             "colorbar": {
              "outlinewidth": 0,
              "ticks": ""
             }
            },
            "type": "scatter3d"
           }
          ],
          "scattercarpet": [
           {
            "marker": {
             "colorbar": {
              "outlinewidth": 0,
              "ticks": ""
             }
            },
            "type": "scattercarpet"
           }
          ],
          "scattergeo": [
           {
            "marker": {
             "colorbar": {
              "outlinewidth": 0,
              "ticks": ""
             }
            },
            "type": "scattergeo"
           }
          ],
          "scattergl": [
           {
            "marker": {
             "colorbar": {
              "outlinewidth": 0,
              "ticks": ""
             }
            },
            "type": "scattergl"
           }
          ],
          "scattermapbox": [
           {
            "marker": {
             "colorbar": {
              "outlinewidth": 0,
              "ticks": ""
             }
            },
            "type": "scattermapbox"
           }
          ],
          "scatterpolar": [
           {
            "marker": {
             "colorbar": {
              "outlinewidth": 0,
              "ticks": ""
             }
            },
            "type": "scatterpolar"
           }
          ],
          "scatterpolargl": [
           {
            "marker": {
             "colorbar": {
              "outlinewidth": 0,
              "ticks": ""
             }
            },
            "type": "scatterpolargl"
           }
          ],
          "scatterternary": [
           {
            "marker": {
             "colorbar": {
              "outlinewidth": 0,
              "ticks": ""
             }
            },
            "type": "scatterternary"
           }
          ],
          "surface": [
           {
            "colorbar": {
             "outlinewidth": 0,
             "ticks": ""
            },
            "colorscale": [
             [
              0,
              "#0d0887"
             ],
             [
              0.1111111111111111,
              "#46039f"
             ],
             [
              0.2222222222222222,
              "#7201a8"
             ],
             [
              0.3333333333333333,
              "#9c179e"
             ],
             [
              0.4444444444444444,
              "#bd3786"
             ],
             [
              0.5555555555555556,
              "#d8576b"
             ],
             [
              0.6666666666666666,
              "#ed7953"
             ],
             [
              0.7777777777777778,
              "#fb9f3a"
             ],
             [
              0.8888888888888888,
              "#fdca26"
             ],
             [
              1,
              "#f0f921"
             ]
            ],
            "type": "surface"
           }
          ],
          "table": [
           {
            "cells": {
             "fill": {
              "color": "#EBF0F8"
             },
             "line": {
              "color": "white"
             }
            },
            "header": {
             "fill": {
              "color": "#C8D4E3"
             },
             "line": {
              "color": "white"
             }
            },
            "type": "table"
           }
          ]
         },
         "layout": {
          "annotationdefaults": {
           "arrowcolor": "#2a3f5f",
           "arrowhead": 0,
           "arrowwidth": 1
          },
          "autotypenumbers": "strict",
          "coloraxis": {
           "colorbar": {
            "outlinewidth": 0,
            "ticks": ""
           }
          },
          "colorscale": {
           "diverging": [
            [
             0,
             "#8e0152"
            ],
            [
             0.1,
             "#c51b7d"
            ],
            [
             0.2,
             "#de77ae"
            ],
            [
             0.3,
             "#f1b6da"
            ],
            [
             0.4,
             "#fde0ef"
            ],
            [
             0.5,
             "#f7f7f7"
            ],
            [
             0.6,
             "#e6f5d0"
            ],
            [
             0.7,
             "#b8e186"
            ],
            [
             0.8,
             "#7fbc41"
            ],
            [
             0.9,
             "#4d9221"
            ],
            [
             1,
             "#276419"
            ]
           ],
           "sequential": [
            [
             0,
             "#0d0887"
            ],
            [
             0.1111111111111111,
             "#46039f"
            ],
            [
             0.2222222222222222,
             "#7201a8"
            ],
            [
             0.3333333333333333,
             "#9c179e"
            ],
            [
             0.4444444444444444,
             "#bd3786"
            ],
            [
             0.5555555555555556,
             "#d8576b"
            ],
            [
             0.6666666666666666,
             "#ed7953"
            ],
            [
             0.7777777777777778,
             "#fb9f3a"
            ],
            [
             0.8888888888888888,
             "#fdca26"
            ],
            [
             1,
             "#f0f921"
            ]
           ],
           "sequentialminus": [
            [
             0,
             "#0d0887"
            ],
            [
             0.1111111111111111,
             "#46039f"
            ],
            [
             0.2222222222222222,
             "#7201a8"
            ],
            [
             0.3333333333333333,
             "#9c179e"
            ],
            [
             0.4444444444444444,
             "#bd3786"
            ],
            [
             0.5555555555555556,
             "#d8576b"
            ],
            [
             0.6666666666666666,
             "#ed7953"
            ],
            [
             0.7777777777777778,
             "#fb9f3a"
            ],
            [
             0.8888888888888888,
             "#fdca26"
            ],
            [
             1,
             "#f0f921"
            ]
           ]
          },
          "colorway": [
           "#636efa",
           "#EF553B",
           "#00cc96",
           "#ab63fa",
           "#FFA15A",
           "#19d3f3",
           "#FF6692",
           "#B6E880",
           "#FF97FF",
           "#FECB52"
          ],
          "font": {
           "color": "#2a3f5f"
          },
          "geo": {
           "bgcolor": "white",
           "lakecolor": "white",
           "landcolor": "#E5ECF6",
           "showlakes": true,
           "showland": true,
           "subunitcolor": "white"
          },
          "hoverlabel": {
           "align": "left"
          },
          "hovermode": "closest",
          "mapbox": {
           "style": "light"
          },
          "paper_bgcolor": "white",
          "plot_bgcolor": "#E5ECF6",
          "polar": {
           "angularaxis": {
            "gridcolor": "white",
            "linecolor": "white",
            "ticks": ""
           },
           "bgcolor": "#E5ECF6",
           "radialaxis": {
            "gridcolor": "white",
            "linecolor": "white",
            "ticks": ""
           }
          },
          "scene": {
           "xaxis": {
            "backgroundcolor": "#E5ECF6",
            "gridcolor": "white",
            "gridwidth": 2,
            "linecolor": "white",
            "showbackground": true,
            "ticks": "",
            "zerolinecolor": "white"
           },
           "yaxis": {
            "backgroundcolor": "#E5ECF6",
            "gridcolor": "white",
            "gridwidth": 2,
            "linecolor": "white",
            "showbackground": true,
            "ticks": "",
            "zerolinecolor": "white"
           },
           "zaxis": {
            "backgroundcolor": "#E5ECF6",
            "gridcolor": "white",
            "gridwidth": 2,
            "linecolor": "white",
            "showbackground": true,
            "ticks": "",
            "zerolinecolor": "white"
           }
          },
          "shapedefaults": {
           "line": {
            "color": "#2a3f5f"
           }
          },
          "ternary": {
           "aaxis": {
            "gridcolor": "white",
            "linecolor": "white",
            "ticks": ""
           },
           "baxis": {
            "gridcolor": "white",
            "linecolor": "white",
            "ticks": ""
           },
           "bgcolor": "#E5ECF6",
           "caxis": {
            "gridcolor": "white",
            "linecolor": "white",
            "ticks": ""
           }
          },
          "title": {
           "x": 0.05
          },
          "xaxis": {
           "automargin": true,
           "gridcolor": "white",
           "linecolor": "white",
           "ticks": "",
           "title": {
            "standoff": 15
           },
           "zerolinecolor": "white",
           "zerolinewidth": 2
          },
          "yaxis": {
           "automargin": true,
           "gridcolor": "white",
           "linecolor": "white",
           "ticks": "",
           "title": {
            "standoff": 15
           },
           "zerolinecolor": "white",
           "zerolinewidth": 2
          }
         }
        },
        "title": {
         "text": "Revenue distribution by Authors"
        },
        "xaxis": {
         "anchor": "y",
         "domain": [
          0,
          1
         ],
         "title": {
          "text": "Number of Authors"
         }
        },
        "yaxis": {
         "anchor": "x",
         "domain": [
          0,
          1
         ],
         "title": {
          "text": "Revenue"
         }
        }
       }
      },
      "text/html": [
       "<div>                            <div id=\"e8dc1cfa-c89c-4910-9290-9cff72d89e22\" class=\"plotly-graph-div\" style=\"height:525px; width:100%;\"></div>            <script type=\"text/javascript\">                require([\"plotly\"], function(Plotly) {                    window.PLOTLYENV=window.PLOTLYENV || {};                                    if (document.getElementById(\"e8dc1cfa-c89c-4910-9290-9cff72d89e22\")) {                    Plotly.newPlot(                        \"e8dc1cfa-c89c-4910-9290-9cff72d89e22\",                        [{\"alignmentgroup\":\"True\",\"hovertemplate\":\"Number of Authors=%{x}<br>Revenue=%{y}<extra></extra>\",\"legendgroup\":\"\",\"marker\":{\"color\":\"#636efa\",\"pattern\":{\"shape\":\"\"}},\"name\":\"\",\"offsetgroup\":\"\",\"orientation\":\"h\",\"showlegend\":false,\"textposition\":\"auto\",\"type\":\"bar\",\"x\":[45,103,200,247,173,138,60,28,5,1],\"xaxis\":\"x\",\"y\":[\"(1075.393, 3762.7]\",\"(3762.7, 6423.4]\",\"(6423.4, 9084.1]\",\"(9084.1, 11744.8]\",\"(11744.8, 14405.5]\",\"(14405.5, 17066.2]\",\"(17066.2, 19726.9]\",\"(19726.9, 22387.6]\",\"(22387.6, 25048.3]\",\"(25048.3, 27709.0]\"],\"yaxis\":\"y\"}],                        {\"barmode\":\"relative\",\"legend\":{\"tracegroupgap\":0},\"template\":{\"data\":{\"bar\":[{\"error_x\":{\"color\":\"#2a3f5f\"},\"error_y\":{\"color\":\"#2a3f5f\"},\"marker\":{\"line\":{\"color\":\"#E5ECF6\",\"width\":0.5},\"pattern\":{\"fillmode\":\"overlay\",\"size\":10,\"solidity\":0.2}},\"type\":\"bar\"}],\"barpolar\":[{\"marker\":{\"line\":{\"color\":\"#E5ECF6\",\"width\":0.5},\"pattern\":{\"fillmode\":\"overlay\",\"size\":10,\"solidity\":0.2}},\"type\":\"barpolar\"}],\"carpet\":[{\"aaxis\":{\"endlinecolor\":\"#2a3f5f\",\"gridcolor\":\"white\",\"linecolor\":\"white\",\"minorgridcolor\":\"white\",\"startlinecolor\":\"#2a3f5f\"},\"baxis\":{\"endlinecolor\":\"#2a3f5f\",\"gridcolor\":\"white\",\"linecolor\":\"white\",\"minorgridcolor\":\"white\",\"startlinecolor\":\"#2a3f5f\"},\"type\":\"carpet\"}],\"choropleth\":[{\"colorbar\":{\"outlinewidth\":0,\"ticks\":\"\"},\"type\":\"choropleth\"}],\"contour\":[{\"colorbar\":{\"outlinewidth\":0,\"ticks\":\"\"},\"colorscale\":[[0.0,\"#0d0887\"],[0.1111111111111111,\"#46039f\"],[0.2222222222222222,\"#7201a8\"],[0.3333333333333333,\"#9c179e\"],[0.4444444444444444,\"#bd3786\"],[0.5555555555555556,\"#d8576b\"],[0.6666666666666666,\"#ed7953\"],[0.7777777777777778,\"#fb9f3a\"],[0.8888888888888888,\"#fdca26\"],[1.0,\"#f0f921\"]],\"type\":\"contour\"}],\"contourcarpet\":[{\"colorbar\":{\"outlinewidth\":0,\"ticks\":\"\"},\"type\":\"contourcarpet\"}],\"heatmap\":[{\"colorbar\":{\"outlinewidth\":0,\"ticks\":\"\"},\"colorscale\":[[0.0,\"#0d0887\"],[0.1111111111111111,\"#46039f\"],[0.2222222222222222,\"#7201a8\"],[0.3333333333333333,\"#9c179e\"],[0.4444444444444444,\"#bd3786\"],[0.5555555555555556,\"#d8576b\"],[0.6666666666666666,\"#ed7953\"],[0.7777777777777778,\"#fb9f3a\"],[0.8888888888888888,\"#fdca26\"],[1.0,\"#f0f921\"]],\"type\":\"heatmap\"}],\"heatmapgl\":[{\"colorbar\":{\"outlinewidth\":0,\"ticks\":\"\"},\"colorscale\":[[0.0,\"#0d0887\"],[0.1111111111111111,\"#46039f\"],[0.2222222222222222,\"#7201a8\"],[0.3333333333333333,\"#9c179e\"],[0.4444444444444444,\"#bd3786\"],[0.5555555555555556,\"#d8576b\"],[0.6666666666666666,\"#ed7953\"],[0.7777777777777778,\"#fb9f3a\"],[0.8888888888888888,\"#fdca26\"],[1.0,\"#f0f921\"]],\"type\":\"heatmapgl\"}],\"histogram\":[{\"marker\":{\"pattern\":{\"fillmode\":\"overlay\",\"size\":10,\"solidity\":0.2}},\"type\":\"histogram\"}],\"histogram2d\":[{\"colorbar\":{\"outlinewidth\":0,\"ticks\":\"\"},\"colorscale\":[[0.0,\"#0d0887\"],[0.1111111111111111,\"#46039f\"],[0.2222222222222222,\"#7201a8\"],[0.3333333333333333,\"#9c179e\"],[0.4444444444444444,\"#bd3786\"],[0.5555555555555556,\"#d8576b\"],[0.6666666666666666,\"#ed7953\"],[0.7777777777777778,\"#fb9f3a\"],[0.8888888888888888,\"#fdca26\"],[1.0,\"#f0f921\"]],\"type\":\"histogram2d\"}],\"histogram2dcontour\":[{\"colorbar\":{\"outlinewidth\":0,\"ticks\":\"\"},\"colorscale\":[[0.0,\"#0d0887\"],[0.1111111111111111,\"#46039f\"],[0.2222222222222222,\"#7201a8\"],[0.3333333333333333,\"#9c179e\"],[0.4444444444444444,\"#bd3786\"],[0.5555555555555556,\"#d8576b\"],[0.6666666666666666,\"#ed7953\"],[0.7777777777777778,\"#fb9f3a\"],[0.8888888888888888,\"#fdca26\"],[1.0,\"#f0f921\"]],\"type\":\"histogram2dcontour\"}],\"mesh3d\":[{\"colorbar\":{\"outlinewidth\":0,\"ticks\":\"\"},\"type\":\"mesh3d\"}],\"parcoords\":[{\"line\":{\"colorbar\":{\"outlinewidth\":0,\"ticks\":\"\"}},\"type\":\"parcoords\"}],\"pie\":[{\"automargin\":true,\"type\":\"pie\"}],\"scatter\":[{\"marker\":{\"colorbar\":{\"outlinewidth\":0,\"ticks\":\"\"}},\"type\":\"scatter\"}],\"scatter3d\":[{\"line\":{\"colorbar\":{\"outlinewidth\":0,\"ticks\":\"\"}},\"marker\":{\"colorbar\":{\"outlinewidth\":0,\"ticks\":\"\"}},\"type\":\"scatter3d\"}],\"scattercarpet\":[{\"marker\":{\"colorbar\":{\"outlinewidth\":0,\"ticks\":\"\"}},\"type\":\"scattercarpet\"}],\"scattergeo\":[{\"marker\":{\"colorbar\":{\"outlinewidth\":0,\"ticks\":\"\"}},\"type\":\"scattergeo\"}],\"scattergl\":[{\"marker\":{\"colorbar\":{\"outlinewidth\":0,\"ticks\":\"\"}},\"type\":\"scattergl\"}],\"scattermapbox\":[{\"marker\":{\"colorbar\":{\"outlinewidth\":0,\"ticks\":\"\"}},\"type\":\"scattermapbox\"}],\"scatterpolar\":[{\"marker\":{\"colorbar\":{\"outlinewidth\":0,\"ticks\":\"\"}},\"type\":\"scatterpolar\"}],\"scatterpolargl\":[{\"marker\":{\"colorbar\":{\"outlinewidth\":0,\"ticks\":\"\"}},\"type\":\"scatterpolargl\"}],\"scatterternary\":[{\"marker\":{\"colorbar\":{\"outlinewidth\":0,\"ticks\":\"\"}},\"type\":\"scatterternary\"}],\"surface\":[{\"colorbar\":{\"outlinewidth\":0,\"ticks\":\"\"},\"colorscale\":[[0.0,\"#0d0887\"],[0.1111111111111111,\"#46039f\"],[0.2222222222222222,\"#7201a8\"],[0.3333333333333333,\"#9c179e\"],[0.4444444444444444,\"#bd3786\"],[0.5555555555555556,\"#d8576b\"],[0.6666666666666666,\"#ed7953\"],[0.7777777777777778,\"#fb9f3a\"],[0.8888888888888888,\"#fdca26\"],[1.0,\"#f0f921\"]],\"type\":\"surface\"}],\"table\":[{\"cells\":{\"fill\":{\"color\":\"#EBF0F8\"},\"line\":{\"color\":\"white\"}},\"header\":{\"fill\":{\"color\":\"#C8D4E3\"},\"line\":{\"color\":\"white\"}},\"type\":\"table\"}]},\"layout\":{\"annotationdefaults\":{\"arrowcolor\":\"#2a3f5f\",\"arrowhead\":0,\"arrowwidth\":1},\"autotypenumbers\":\"strict\",\"coloraxis\":{\"colorbar\":{\"outlinewidth\":0,\"ticks\":\"\"}},\"colorscale\":{\"diverging\":[[0,\"#8e0152\"],[0.1,\"#c51b7d\"],[0.2,\"#de77ae\"],[0.3,\"#f1b6da\"],[0.4,\"#fde0ef\"],[0.5,\"#f7f7f7\"],[0.6,\"#e6f5d0\"],[0.7,\"#b8e186\"],[0.8,\"#7fbc41\"],[0.9,\"#4d9221\"],[1,\"#276419\"]],\"sequential\":[[0.0,\"#0d0887\"],[0.1111111111111111,\"#46039f\"],[0.2222222222222222,\"#7201a8\"],[0.3333333333333333,\"#9c179e\"],[0.4444444444444444,\"#bd3786\"],[0.5555555555555556,\"#d8576b\"],[0.6666666666666666,\"#ed7953\"],[0.7777777777777778,\"#fb9f3a\"],[0.8888888888888888,\"#fdca26\"],[1.0,\"#f0f921\"]],\"sequentialminus\":[[0.0,\"#0d0887\"],[0.1111111111111111,\"#46039f\"],[0.2222222222222222,\"#7201a8\"],[0.3333333333333333,\"#9c179e\"],[0.4444444444444444,\"#bd3786\"],[0.5555555555555556,\"#d8576b\"],[0.6666666666666666,\"#ed7953\"],[0.7777777777777778,\"#fb9f3a\"],[0.8888888888888888,\"#fdca26\"],[1.0,\"#f0f921\"]]},\"colorway\":[\"#636efa\",\"#EF553B\",\"#00cc96\",\"#ab63fa\",\"#FFA15A\",\"#19d3f3\",\"#FF6692\",\"#B6E880\",\"#FF97FF\",\"#FECB52\"],\"font\":{\"color\":\"#2a3f5f\"},\"geo\":{\"bgcolor\":\"white\",\"lakecolor\":\"white\",\"landcolor\":\"#E5ECF6\",\"showlakes\":true,\"showland\":true,\"subunitcolor\":\"white\"},\"hoverlabel\":{\"align\":\"left\"},\"hovermode\":\"closest\",\"mapbox\":{\"style\":\"light\"},\"paper_bgcolor\":\"white\",\"plot_bgcolor\":\"#E5ECF6\",\"polar\":{\"angularaxis\":{\"gridcolor\":\"white\",\"linecolor\":\"white\",\"ticks\":\"\"},\"bgcolor\":\"#E5ECF6\",\"radialaxis\":{\"gridcolor\":\"white\",\"linecolor\":\"white\",\"ticks\":\"\"}},\"scene\":{\"xaxis\":{\"backgroundcolor\":\"#E5ECF6\",\"gridcolor\":\"white\",\"gridwidth\":2,\"linecolor\":\"white\",\"showbackground\":true,\"ticks\":\"\",\"zerolinecolor\":\"white\"},\"yaxis\":{\"backgroundcolor\":\"#E5ECF6\",\"gridcolor\":\"white\",\"gridwidth\":2,\"linecolor\":\"white\",\"showbackground\":true,\"ticks\":\"\",\"zerolinecolor\":\"white\"},\"zaxis\":{\"backgroundcolor\":\"#E5ECF6\",\"gridcolor\":\"white\",\"gridwidth\":2,\"linecolor\":\"white\",\"showbackground\":true,\"ticks\":\"\",\"zerolinecolor\":\"white\"}},\"shapedefaults\":{\"line\":{\"color\":\"#2a3f5f\"}},\"ternary\":{\"aaxis\":{\"gridcolor\":\"white\",\"linecolor\":\"white\",\"ticks\":\"\"},\"baxis\":{\"gridcolor\":\"white\",\"linecolor\":\"white\",\"ticks\":\"\"},\"bgcolor\":\"#E5ECF6\",\"caxis\":{\"gridcolor\":\"white\",\"linecolor\":\"white\",\"ticks\":\"\"}},\"title\":{\"x\":0.05},\"xaxis\":{\"automargin\":true,\"gridcolor\":\"white\",\"linecolor\":\"white\",\"ticks\":\"\",\"title\":{\"standoff\":15},\"zerolinecolor\":\"white\",\"zerolinewidth\":2},\"yaxis\":{\"automargin\":true,\"gridcolor\":\"white\",\"linecolor\":\"white\",\"ticks\":\"\",\"title\":{\"standoff\":15},\"zerolinecolor\":\"white\",\"zerolinewidth\":2}}},\"title\":{\"text\":\"Revenue distribution by Authors\"},\"xaxis\":{\"anchor\":\"y\",\"domain\":[0.0,1.0],\"title\":{\"text\":\"Number of Authors\"}},\"yaxis\":{\"anchor\":\"x\",\"domain\":[0.0,1.0],\"title\":{\"text\":\"Revenue\"}}},                        {\"responsive\": true}                    ).then(function(){\n",
       "                            \n",
       "var gd = document.getElementById('e8dc1cfa-c89c-4910-9290-9cff72d89e22');\n",
       "var x = new MutationObserver(function (mutations, observer) {{\n",
       "        var display = window.getComputedStyle(gd).display;\n",
       "        if (!display || display === 'none') {{\n",
       "            console.log([gd, 'removed!']);\n",
       "            Plotly.purge(gd);\n",
       "            observer.disconnect();\n",
       "        }}\n",
       "}});\n",
       "\n",
       "// Listen for the removal of the full notebook cells\n",
       "var notebookContainer = gd.closest('#notebook-container');\n",
       "if (notebookContainer) {{\n",
       "    x.observe(notebookContainer, {childList: true});\n",
       "}}\n",
       "\n",
       "// Listen for the clearing of the current output cell\n",
       "var outputEl = gd.closest('.output');\n",
       "if (outputEl) {{\n",
       "    x.observe(outputEl, {childList: true});\n",
       "}}\n",
       "\n",
       "                        })                };                });            </script>        </div>"
      ]
     },
     "metadata": {},
     "output_type": "display_data"
    }
   ],
   "source": [
    "df_rev_distribution_fin = pd.DataFrame(df_rev_distribution.groupby(\"Revenue_Interval\")[\"AuthorID\"].count())\n",
    "df_rev_distribution_fin.reset_index(inplace = True)\n",
    "df_rev_distribution_fin[\"Revenue_Interval\"] = df_rev_distribution_fin[\"Revenue_Interval\"].astype(str)\n",
    "fig = px.bar(df_rev_distribution_fin, x = \"AuthorID\", y = \"Revenue_Interval\", title = \"Revenue distribution by Authors\",labels={\"Revenue_Interval\":\"Revenue\",\"AuthorID\":\"Number of Authors\"})\n",
    "fig.show()"
   ]
  },
  {
   "cell_type": "code",
   "execution_count": 169,
   "id": "e70f1da6",
   "metadata": {},
   "outputs": [
    {
     "data": {
      "text/html": [
       "<div>\n",
       "<style scoped>\n",
       "    .dataframe tbody tr th:only-of-type {\n",
       "        vertical-align: middle;\n",
       "    }\n",
       "\n",
       "    .dataframe tbody tr th {\n",
       "        vertical-align: top;\n",
       "    }\n",
       "\n",
       "    .dataframe thead th {\n",
       "        text-align: right;\n",
       "    }\n",
       "</style>\n",
       "<table border=\"1\" class=\"dataframe\">\n",
       "  <thead>\n",
       "    <tr style=\"text-align: right;\">\n",
       "      <th></th>\n",
       "      <th>Revenue_Interval</th>\n",
       "      <th>AuthorID</th>\n",
       "    </tr>\n",
       "  </thead>\n",
       "  <tbody>\n",
       "    <tr>\n",
       "      <th>0</th>\n",
       "      <td>(1075.393, 3762.7]</td>\n",
       "      <td>45</td>\n",
       "    </tr>\n",
       "    <tr>\n",
       "      <th>1</th>\n",
       "      <td>(3762.7, 6423.4]</td>\n",
       "      <td>103</td>\n",
       "    </tr>\n",
       "    <tr>\n",
       "      <th>2</th>\n",
       "      <td>(6423.4, 9084.1]</td>\n",
       "      <td>200</td>\n",
       "    </tr>\n",
       "    <tr>\n",
       "      <th>3</th>\n",
       "      <td>(9084.1, 11744.8]</td>\n",
       "      <td>247</td>\n",
       "    </tr>\n",
       "    <tr>\n",
       "      <th>4</th>\n",
       "      <td>(11744.8, 14405.5]</td>\n",
       "      <td>173</td>\n",
       "    </tr>\n",
       "    <tr>\n",
       "      <th>5</th>\n",
       "      <td>(14405.5, 17066.2]</td>\n",
       "      <td>138</td>\n",
       "    </tr>\n",
       "    <tr>\n",
       "      <th>6</th>\n",
       "      <td>(17066.2, 19726.9]</td>\n",
       "      <td>60</td>\n",
       "    </tr>\n",
       "    <tr>\n",
       "      <th>7</th>\n",
       "      <td>(19726.9, 22387.6]</td>\n",
       "      <td>28</td>\n",
       "    </tr>\n",
       "    <tr>\n",
       "      <th>8</th>\n",
       "      <td>(22387.6, 25048.3]</td>\n",
       "      <td>5</td>\n",
       "    </tr>\n",
       "    <tr>\n",
       "      <th>9</th>\n",
       "      <td>(25048.3, 27709.0]</td>\n",
       "      <td>1</td>\n",
       "    </tr>\n",
       "  </tbody>\n",
       "</table>\n",
       "</div>"
      ],
      "text/plain": [
       "     Revenue_Interval  AuthorID\n",
       "0  (1075.393, 3762.7]        45\n",
       "1    (3762.7, 6423.4]       103\n",
       "2    (6423.4, 9084.1]       200\n",
       "3   (9084.1, 11744.8]       247\n",
       "4  (11744.8, 14405.5]       173\n",
       "5  (14405.5, 17066.2]       138\n",
       "6  (17066.2, 19726.9]        60\n",
       "7  (19726.9, 22387.6]        28\n",
       "8  (22387.6, 25048.3]         5\n",
       "9  (25048.3, 27709.0]         1"
      ]
     },
     "execution_count": 169,
     "metadata": {},
     "output_type": "execute_result"
    }
   ],
   "source": [
    "df_rev_distribution_fin "
   ]
  },
  {
   "cell_type": "code",
   "execution_count": 183,
   "id": "184f9992",
   "metadata": {},
   "outputs": [],
   "source": [
    "#Do younger authors generate more revenue?\n",
    "df3[\"Present Age(in yrs)\"] = df3[\"Year\"] - df3[\"Birthdate\"].dt.year"
   ]
  },
  {
   "cell_type": "code",
   "execution_count": 184,
   "id": "ca618336",
   "metadata": {},
   "outputs": [
    {
     "data": {
      "text/html": [
       "<div>\n",
       "<style scoped>\n",
       "    .dataframe tbody tr th:only-of-type {\n",
       "        vertical-align: middle;\n",
       "    }\n",
       "\n",
       "    .dataframe tbody tr th {\n",
       "        vertical-align: top;\n",
       "    }\n",
       "\n",
       "    .dataframe thead th {\n",
       "        text-align: right;\n",
       "    }\n",
       "</style>\n",
       "<table border=\"1\" class=\"dataframe\">\n",
       "  <thead>\n",
       "    <tr style=\"text-align: right;\">\n",
       "      <th></th>\n",
       "      <th>AuthorID</th>\n",
       "      <th>Birthdate</th>\n",
       "      <th>SignDate</th>\n",
       "      <th>SongID</th>\n",
       "      <th>Year</th>\n",
       "      <th>Format</th>\n",
       "      <th>Revenue</th>\n",
       "      <th>Age(in yrs)</th>\n",
       "      <th>Present Age(in yrs)</th>\n",
       "    </tr>\n",
       "  </thead>\n",
       "  <tbody>\n",
       "    <tr>\n",
       "      <th>0</th>\n",
       "      <td>1</td>\n",
       "      <td>1992-09-03</td>\n",
       "      <td>2006-11-14</td>\n",
       "      <td>2496</td>\n",
       "      <td>2015</td>\n",
       "      <td>CD</td>\n",
       "      <td>19</td>\n",
       "      <td>23</td>\n",
       "      <td>23</td>\n",
       "    </tr>\n",
       "    <tr>\n",
       "      <th>1</th>\n",
       "      <td>1</td>\n",
       "      <td>1992-09-03</td>\n",
       "      <td>2006-11-14</td>\n",
       "      <td>2871</td>\n",
       "      <td>2015</td>\n",
       "      <td>CD</td>\n",
       "      <td>0</td>\n",
       "      <td>23</td>\n",
       "      <td>23</td>\n",
       "    </tr>\n",
       "    <tr>\n",
       "      <th>2</th>\n",
       "      <td>1</td>\n",
       "      <td>1992-09-03</td>\n",
       "      <td>2006-11-14</td>\n",
       "      <td>3027</td>\n",
       "      <td>2015</td>\n",
       "      <td>CD</td>\n",
       "      <td>0</td>\n",
       "      <td>23</td>\n",
       "      <td>23</td>\n",
       "    </tr>\n",
       "    <tr>\n",
       "      <th>3</th>\n",
       "      <td>1</td>\n",
       "      <td>1992-09-03</td>\n",
       "      <td>2006-11-14</td>\n",
       "      <td>3101</td>\n",
       "      <td>2015</td>\n",
       "      <td>CD</td>\n",
       "      <td>0</td>\n",
       "      <td>23</td>\n",
       "      <td>23</td>\n",
       "    </tr>\n",
       "    <tr>\n",
       "      <th>4</th>\n",
       "      <td>1</td>\n",
       "      <td>1992-09-03</td>\n",
       "      <td>2006-11-14</td>\n",
       "      <td>3218</td>\n",
       "      <td>2015</td>\n",
       "      <td>CD</td>\n",
       "      <td>0</td>\n",
       "      <td>23</td>\n",
       "      <td>23</td>\n",
       "    </tr>\n",
       "    <tr>\n",
       "      <th>...</th>\n",
       "      <td>...</td>\n",
       "      <td>...</td>\n",
       "      <td>...</td>\n",
       "      <td>...</td>\n",
       "      <td>...</td>\n",
       "      <td>...</td>\n",
       "      <td>...</td>\n",
       "      <td>...</td>\n",
       "      <td>...</td>\n",
       "    </tr>\n",
       "    <tr>\n",
       "      <th>235615</th>\n",
       "      <td>1000</td>\n",
       "      <td>1964-08-11</td>\n",
       "      <td>1984-09-03</td>\n",
       "      <td>2882</td>\n",
       "      <td>2023</td>\n",
       "      <td>TV</td>\n",
       "      <td>11</td>\n",
       "      <td>59</td>\n",
       "      <td>59</td>\n",
       "    </tr>\n",
       "    <tr>\n",
       "      <th>235616</th>\n",
       "      <td>1000</td>\n",
       "      <td>1964-08-11</td>\n",
       "      <td>1984-09-03</td>\n",
       "      <td>3183</td>\n",
       "      <td>2023</td>\n",
       "      <td>TV</td>\n",
       "      <td>21</td>\n",
       "      <td>59</td>\n",
       "      <td>59</td>\n",
       "    </tr>\n",
       "    <tr>\n",
       "      <th>235617</th>\n",
       "      <td>1000</td>\n",
       "      <td>1964-08-11</td>\n",
       "      <td>1984-09-03</td>\n",
       "      <td>3318</td>\n",
       "      <td>2023</td>\n",
       "      <td>TV</td>\n",
       "      <td>32</td>\n",
       "      <td>59</td>\n",
       "      <td>59</td>\n",
       "    </tr>\n",
       "    <tr>\n",
       "      <th>235618</th>\n",
       "      <td>1000</td>\n",
       "      <td>1964-08-11</td>\n",
       "      <td>1984-09-03</td>\n",
       "      <td>3484</td>\n",
       "      <td>2023</td>\n",
       "      <td>TV</td>\n",
       "      <td>14</td>\n",
       "      <td>59</td>\n",
       "      <td>59</td>\n",
       "    </tr>\n",
       "    <tr>\n",
       "      <th>235619</th>\n",
       "      <td>1000</td>\n",
       "      <td>1964-08-11</td>\n",
       "      <td>1984-09-03</td>\n",
       "      <td>4099</td>\n",
       "      <td>2023</td>\n",
       "      <td>TV</td>\n",
       "      <td>32</td>\n",
       "      <td>59</td>\n",
       "      <td>59</td>\n",
       "    </tr>\n",
       "  </tbody>\n",
       "</table>\n",
       "<p>235620 rows × 9 columns</p>\n",
       "</div>"
      ],
      "text/plain": [
       "        AuthorID  Birthdate   SignDate  SongID  Year Format  Revenue  \\\n",
       "0              1 1992-09-03 2006-11-14    2496  2015     CD       19   \n",
       "1              1 1992-09-03 2006-11-14    2871  2015     CD        0   \n",
       "2              1 1992-09-03 2006-11-14    3027  2015     CD        0   \n",
       "3              1 1992-09-03 2006-11-14    3101  2015     CD        0   \n",
       "4              1 1992-09-03 2006-11-14    3218  2015     CD        0   \n",
       "...          ...        ...        ...     ...   ...    ...      ...   \n",
       "235615      1000 1964-08-11 1984-09-03    2882  2023     TV       11   \n",
       "235616      1000 1964-08-11 1984-09-03    3183  2023     TV       21   \n",
       "235617      1000 1964-08-11 1984-09-03    3318  2023     TV       32   \n",
       "235618      1000 1964-08-11 1984-09-03    3484  2023     TV       14   \n",
       "235619      1000 1964-08-11 1984-09-03    4099  2023     TV       32   \n",
       "\n",
       "        Age(in yrs)  Present Age(in yrs)  \n",
       "0                23                   23  \n",
       "1                23                   23  \n",
       "2                23                   23  \n",
       "3                23                   23  \n",
       "4                23                   23  \n",
       "...             ...                  ...  \n",
       "235615           59                   59  \n",
       "235616           59                   59  \n",
       "235617           59                   59  \n",
       "235618           59                   59  \n",
       "235619           59                   59  \n",
       "\n",
       "[235620 rows x 9 columns]"
      ]
     },
     "execution_count": 184,
     "metadata": {},
     "output_type": "execute_result"
    }
   ],
   "source": [
    "df4 "
   ]
  },
  {
   "cell_type": "code",
   "execution_count": 191,
   "id": "3870e8d6",
   "metadata": {},
   "outputs": [],
   "source": [
    "df4 = df3\n",
    "df4[\"Age_Interval\"] = pd.cut(df4[\"Present Age(in yrs)\"], bins=10)\n",
    "#df4.reset_index(inplace = True)\n",
    "#df4.sort_values(by = \"Age_Interval\",ascending = True)"
   ]
  },
  {
   "cell_type": "code",
   "execution_count": 196,
   "id": "5ef24437",
   "metadata": {},
   "outputs": [
    {
     "data": {
      "application/vnd.plotly.v1+json": {
       "config": {
        "plotlyServerURL": "https://plot.ly"
       },
       "data": [
        {
         "alignmentgroup": "True",
         "hovertemplate": "Age of Authors=%{x}<br>Number of Authors=%{y}<br>Year=%{marker.color}<extra></extra>",
         "legendgroup": "",
         "marker": {
          "color": [
           2015,
           2016,
           2017,
           2018,
           2019,
           2020,
           2021,
           2022,
           2023,
           2015,
           2016,
           2017,
           2018,
           2019,
           2020,
           2021,
           2022,
           2023,
           2015,
           2016,
           2017,
           2018,
           2019,
           2020,
           2021,
           2022,
           2023,
           2015,
           2016,
           2017,
           2018,
           2019,
           2020,
           2021,
           2022,
           2023,
           2015,
           2016,
           2017,
           2018,
           2019,
           2020,
           2021,
           2022,
           2023,
           2015,
           2016,
           2017,
           2018,
           2019,
           2020,
           2021,
           2022,
           2023,
           2015,
           2016,
           2017,
           2018,
           2019,
           2020,
           2021,
           2022,
           2023,
           2015,
           2016,
           2017,
           2018,
           2019,
           2020,
           2021,
           2022,
           2023,
           2015,
           2016,
           2017,
           2018,
           2019,
           2020,
           2021,
           2022,
           2023,
           2015,
           2016,
           2017,
           2018,
           2019,
           2020,
           2021,
           2022,
           2023
          ],
          "coloraxis": "coloraxis",
          "pattern": {
           "shape": ""
          }
         },
         "name": "",
         "offsetgroup": "",
         "orientation": "v",
         "showlegend": false,
         "textposition": "auto",
         "type": "bar",
         "x": [
          "(-3.076, 4.6]",
          "(-3.076, 4.6]",
          "(-3.076, 4.6]",
          "(-3.076, 4.6]",
          "(-3.076, 4.6]",
          "(-3.076, 4.6]",
          "(-3.076, 4.6]",
          "(-3.076, 4.6]",
          "(-3.076, 4.6]",
          "(4.6, 12.2]",
          "(4.6, 12.2]",
          "(4.6, 12.2]",
          "(4.6, 12.2]",
          "(4.6, 12.2]",
          "(4.6, 12.2]",
          "(4.6, 12.2]",
          "(4.6, 12.2]",
          "(4.6, 12.2]",
          "(12.2, 19.8]",
          "(12.2, 19.8]",
          "(12.2, 19.8]",
          "(12.2, 19.8]",
          "(12.2, 19.8]",
          "(12.2, 19.8]",
          "(12.2, 19.8]",
          "(12.2, 19.8]",
          "(12.2, 19.8]",
          "(19.8, 27.4]",
          "(19.8, 27.4]",
          "(19.8, 27.4]",
          "(19.8, 27.4]",
          "(19.8, 27.4]",
          "(19.8, 27.4]",
          "(19.8, 27.4]",
          "(19.8, 27.4]",
          "(19.8, 27.4]",
          "(27.4, 35.0]",
          "(27.4, 35.0]",
          "(27.4, 35.0]",
          "(27.4, 35.0]",
          "(27.4, 35.0]",
          "(27.4, 35.0]",
          "(27.4, 35.0]",
          "(27.4, 35.0]",
          "(27.4, 35.0]",
          "(35.0, 42.6]",
          "(35.0, 42.6]",
          "(35.0, 42.6]",
          "(35.0, 42.6]",
          "(35.0, 42.6]",
          "(35.0, 42.6]",
          "(35.0, 42.6]",
          "(35.0, 42.6]",
          "(35.0, 42.6]",
          "(42.6, 50.2]",
          "(42.6, 50.2]",
          "(42.6, 50.2]",
          "(42.6, 50.2]",
          "(42.6, 50.2]",
          "(42.6, 50.2]",
          "(42.6, 50.2]",
          "(42.6, 50.2]",
          "(42.6, 50.2]",
          "(50.2, 57.8]",
          "(50.2, 57.8]",
          "(50.2, 57.8]",
          "(50.2, 57.8]",
          "(50.2, 57.8]",
          "(50.2, 57.8]",
          "(50.2, 57.8]",
          "(50.2, 57.8]",
          "(50.2, 57.8]",
          "(57.8, 65.4]",
          "(57.8, 65.4]",
          "(57.8, 65.4]",
          "(57.8, 65.4]",
          "(57.8, 65.4]",
          "(57.8, 65.4]",
          "(57.8, 65.4]",
          "(57.8, 65.4]",
          "(57.8, 65.4]",
          "(65.4, 73.0]",
          "(65.4, 73.0]",
          "(65.4, 73.0]",
          "(65.4, 73.0]",
          "(65.4, 73.0]",
          "(65.4, 73.0]",
          "(65.4, 73.0]",
          "(65.4, 73.0]",
          "(65.4, 73.0]"
         ],
         "xaxis": "x",
         "y": [
          556,
          480,
          368,
          268,
          204,
          140,
          140,
          40,
          0,
          1196,
          1092,
          984,
          764,
          716,
          704,
          576,
          628,
          556,
          1296,
          1236,
          1268,
          1328,
          1220,
          1188,
          1188,
          1084,
          1016,
          2796,
          2584,
          2464,
          2320,
          2140,
          1768,
          1632,
          1556,
          1476,
          2616,
          2832,
          2720,
          2876,
          2884,
          3028,
          2704,
          2644,
          2796,
          3192,
          2728,
          2664,
          2612,
          2592,
          2584,
          2748,
          2508,
          2380,
          4692,
          4700,
          4580,
          4440,
          4176,
          4056,
          3892,
          3704,
          3428,
          4056,
          4000,
          4104,
          3912,
          4016,
          4052,
          4052,
          4180,
          4000,
          5780,
          5712,
          5520,
          5588,
          5472,
          5368,
          5200,
          5084,
          4748,
          0,
          816,
          1508,
          2072,
          2760,
          3292,
          4048,
          4752,
          5780
         ],
         "yaxis": "y"
        }
       ],
       "layout": {
        "barmode": "relative",
        "coloraxis": {
         "colorbar": {
          "title": {
           "text": "Year"
          }
         },
         "colorscale": [
          [
           0,
           "#0d0887"
          ],
          [
           0.1111111111111111,
           "#46039f"
          ],
          [
           0.2222222222222222,
           "#7201a8"
          ],
          [
           0.3333333333333333,
           "#9c179e"
          ],
          [
           0.4444444444444444,
           "#bd3786"
          ],
          [
           0.5555555555555556,
           "#d8576b"
          ],
          [
           0.6666666666666666,
           "#ed7953"
          ],
          [
           0.7777777777777778,
           "#fb9f3a"
          ],
          [
           0.8888888888888888,
           "#fdca26"
          ],
          [
           1,
           "#f0f921"
          ]
         ]
        },
        "legend": {
         "tracegroupgap": 0
        },
        "margin": {
         "t": 60
        },
        "template": {
         "data": {
          "bar": [
           {
            "error_x": {
             "color": "#2a3f5f"
            },
            "error_y": {
             "color": "#2a3f5f"
            },
            "marker": {
             "line": {
              "color": "#E5ECF6",
              "width": 0.5
             },
             "pattern": {
              "fillmode": "overlay",
              "size": 10,
              "solidity": 0.2
             }
            },
            "type": "bar"
           }
          ],
          "barpolar": [
           {
            "marker": {
             "line": {
              "color": "#E5ECF6",
              "width": 0.5
             },
             "pattern": {
              "fillmode": "overlay",
              "size": 10,
              "solidity": 0.2
             }
            },
            "type": "barpolar"
           }
          ],
          "carpet": [
           {
            "aaxis": {
             "endlinecolor": "#2a3f5f",
             "gridcolor": "white",
             "linecolor": "white",
             "minorgridcolor": "white",
             "startlinecolor": "#2a3f5f"
            },
            "baxis": {
             "endlinecolor": "#2a3f5f",
             "gridcolor": "white",
             "linecolor": "white",
             "minorgridcolor": "white",
             "startlinecolor": "#2a3f5f"
            },
            "type": "carpet"
           }
          ],
          "choropleth": [
           {
            "colorbar": {
             "outlinewidth": 0,
             "ticks": ""
            },
            "type": "choropleth"
           }
          ],
          "contour": [
           {
            "colorbar": {
             "outlinewidth": 0,
             "ticks": ""
            },
            "colorscale": [
             [
              0,
              "#0d0887"
             ],
             [
              0.1111111111111111,
              "#46039f"
             ],
             [
              0.2222222222222222,
              "#7201a8"
             ],
             [
              0.3333333333333333,
              "#9c179e"
             ],
             [
              0.4444444444444444,
              "#bd3786"
             ],
             [
              0.5555555555555556,
              "#d8576b"
             ],
             [
              0.6666666666666666,
              "#ed7953"
             ],
             [
              0.7777777777777778,
              "#fb9f3a"
             ],
             [
              0.8888888888888888,
              "#fdca26"
             ],
             [
              1,
              "#f0f921"
             ]
            ],
            "type": "contour"
           }
          ],
          "contourcarpet": [
           {
            "colorbar": {
             "outlinewidth": 0,
             "ticks": ""
            },
            "type": "contourcarpet"
           }
          ],
          "heatmap": [
           {
            "colorbar": {
             "outlinewidth": 0,
             "ticks": ""
            },
            "colorscale": [
             [
              0,
              "#0d0887"
             ],
             [
              0.1111111111111111,
              "#46039f"
             ],
             [
              0.2222222222222222,
              "#7201a8"
             ],
             [
              0.3333333333333333,
              "#9c179e"
             ],
             [
              0.4444444444444444,
              "#bd3786"
             ],
             [
              0.5555555555555556,
              "#d8576b"
             ],
             [
              0.6666666666666666,
              "#ed7953"
             ],
             [
              0.7777777777777778,
              "#fb9f3a"
             ],
             [
              0.8888888888888888,
              "#fdca26"
             ],
             [
              1,
              "#f0f921"
             ]
            ],
            "type": "heatmap"
           }
          ],
          "heatmapgl": [
           {
            "colorbar": {
             "outlinewidth": 0,
             "ticks": ""
            },
            "colorscale": [
             [
              0,
              "#0d0887"
             ],
             [
              0.1111111111111111,
              "#46039f"
             ],
             [
              0.2222222222222222,
              "#7201a8"
             ],
             [
              0.3333333333333333,
              "#9c179e"
             ],
             [
              0.4444444444444444,
              "#bd3786"
             ],
             [
              0.5555555555555556,
              "#d8576b"
             ],
             [
              0.6666666666666666,
              "#ed7953"
             ],
             [
              0.7777777777777778,
              "#fb9f3a"
             ],
             [
              0.8888888888888888,
              "#fdca26"
             ],
             [
              1,
              "#f0f921"
             ]
            ],
            "type": "heatmapgl"
           }
          ],
          "histogram": [
           {
            "marker": {
             "pattern": {
              "fillmode": "overlay",
              "size": 10,
              "solidity": 0.2
             }
            },
            "type": "histogram"
           }
          ],
          "histogram2d": [
           {
            "colorbar": {
             "outlinewidth": 0,
             "ticks": ""
            },
            "colorscale": [
             [
              0,
              "#0d0887"
             ],
             [
              0.1111111111111111,
              "#46039f"
             ],
             [
              0.2222222222222222,
              "#7201a8"
             ],
             [
              0.3333333333333333,
              "#9c179e"
             ],
             [
              0.4444444444444444,
              "#bd3786"
             ],
             [
              0.5555555555555556,
              "#d8576b"
             ],
             [
              0.6666666666666666,
              "#ed7953"
             ],
             [
              0.7777777777777778,
              "#fb9f3a"
             ],
             [
              0.8888888888888888,
              "#fdca26"
             ],
             [
              1,
              "#f0f921"
             ]
            ],
            "type": "histogram2d"
           }
          ],
          "histogram2dcontour": [
           {
            "colorbar": {
             "outlinewidth": 0,
             "ticks": ""
            },
            "colorscale": [
             [
              0,
              "#0d0887"
             ],
             [
              0.1111111111111111,
              "#46039f"
             ],
             [
              0.2222222222222222,
              "#7201a8"
             ],
             [
              0.3333333333333333,
              "#9c179e"
             ],
             [
              0.4444444444444444,
              "#bd3786"
             ],
             [
              0.5555555555555556,
              "#d8576b"
             ],
             [
              0.6666666666666666,
              "#ed7953"
             ],
             [
              0.7777777777777778,
              "#fb9f3a"
             ],
             [
              0.8888888888888888,
              "#fdca26"
             ],
             [
              1,
              "#f0f921"
             ]
            ],
            "type": "histogram2dcontour"
           }
          ],
          "mesh3d": [
           {
            "colorbar": {
             "outlinewidth": 0,
             "ticks": ""
            },
            "type": "mesh3d"
           }
          ],
          "parcoords": [
           {
            "line": {
             "colorbar": {
              "outlinewidth": 0,
              "ticks": ""
             }
            },
            "type": "parcoords"
           }
          ],
          "pie": [
           {
            "automargin": true,
            "type": "pie"
           }
          ],
          "scatter": [
           {
            "marker": {
             "colorbar": {
              "outlinewidth": 0,
              "ticks": ""
             }
            },
            "type": "scatter"
           }
          ],
          "scatter3d": [
           {
            "line": {
             "colorbar": {
              "outlinewidth": 0,
              "ticks": ""
             }
            },
            "marker": {
             "colorbar": {
              "outlinewidth": 0,
              "ticks": ""
             }
            },
            "type": "scatter3d"
           }
          ],
          "scattercarpet": [
           {
            "marker": {
             "colorbar": {
              "outlinewidth": 0,
              "ticks": ""
             }
            },
            "type": "scattercarpet"
           }
          ],
          "scattergeo": [
           {
            "marker": {
             "colorbar": {
              "outlinewidth": 0,
              "ticks": ""
             }
            },
            "type": "scattergeo"
           }
          ],
          "scattergl": [
           {
            "marker": {
             "colorbar": {
              "outlinewidth": 0,
              "ticks": ""
             }
            },
            "type": "scattergl"
           }
          ],
          "scattermapbox": [
           {
            "marker": {
             "colorbar": {
              "outlinewidth": 0,
              "ticks": ""
             }
            },
            "type": "scattermapbox"
           }
          ],
          "scatterpolar": [
           {
            "marker": {
             "colorbar": {
              "outlinewidth": 0,
              "ticks": ""
             }
            },
            "type": "scatterpolar"
           }
          ],
          "scatterpolargl": [
           {
            "marker": {
             "colorbar": {
              "outlinewidth": 0,
              "ticks": ""
             }
            },
            "type": "scatterpolargl"
           }
          ],
          "scatterternary": [
           {
            "marker": {
             "colorbar": {
              "outlinewidth": 0,
              "ticks": ""
             }
            },
            "type": "scatterternary"
           }
          ],
          "surface": [
           {
            "colorbar": {
             "outlinewidth": 0,
             "ticks": ""
            },
            "colorscale": [
             [
              0,
              "#0d0887"
             ],
             [
              0.1111111111111111,
              "#46039f"
             ],
             [
              0.2222222222222222,
              "#7201a8"
             ],
             [
              0.3333333333333333,
              "#9c179e"
             ],
             [
              0.4444444444444444,
              "#bd3786"
             ],
             [
              0.5555555555555556,
              "#d8576b"
             ],
             [
              0.6666666666666666,
              "#ed7953"
             ],
             [
              0.7777777777777778,
              "#fb9f3a"
             ],
             [
              0.8888888888888888,
              "#fdca26"
             ],
             [
              1,
              "#f0f921"
             ]
            ],
            "type": "surface"
           }
          ],
          "table": [
           {
            "cells": {
             "fill": {
              "color": "#EBF0F8"
             },
             "line": {
              "color": "white"
             }
            },
            "header": {
             "fill": {
              "color": "#C8D4E3"
             },
             "line": {
              "color": "white"
             }
            },
            "type": "table"
           }
          ]
         },
         "layout": {
          "annotationdefaults": {
           "arrowcolor": "#2a3f5f",
           "arrowhead": 0,
           "arrowwidth": 1
          },
          "autotypenumbers": "strict",
          "coloraxis": {
           "colorbar": {
            "outlinewidth": 0,
            "ticks": ""
           }
          },
          "colorscale": {
           "diverging": [
            [
             0,
             "#8e0152"
            ],
            [
             0.1,
             "#c51b7d"
            ],
            [
             0.2,
             "#de77ae"
            ],
            [
             0.3,
             "#f1b6da"
            ],
            [
             0.4,
             "#fde0ef"
            ],
            [
             0.5,
             "#f7f7f7"
            ],
            [
             0.6,
             "#e6f5d0"
            ],
            [
             0.7,
             "#b8e186"
            ],
            [
             0.8,
             "#7fbc41"
            ],
            [
             0.9,
             "#4d9221"
            ],
            [
             1,
             "#276419"
            ]
           ],
           "sequential": [
            [
             0,
             "#0d0887"
            ],
            [
             0.1111111111111111,
             "#46039f"
            ],
            [
             0.2222222222222222,
             "#7201a8"
            ],
            [
             0.3333333333333333,
             "#9c179e"
            ],
            [
             0.4444444444444444,
             "#bd3786"
            ],
            [
             0.5555555555555556,
             "#d8576b"
            ],
            [
             0.6666666666666666,
             "#ed7953"
            ],
            [
             0.7777777777777778,
             "#fb9f3a"
            ],
            [
             0.8888888888888888,
             "#fdca26"
            ],
            [
             1,
             "#f0f921"
            ]
           ],
           "sequentialminus": [
            [
             0,
             "#0d0887"
            ],
            [
             0.1111111111111111,
             "#46039f"
            ],
            [
             0.2222222222222222,
             "#7201a8"
            ],
            [
             0.3333333333333333,
             "#9c179e"
            ],
            [
             0.4444444444444444,
             "#bd3786"
            ],
            [
             0.5555555555555556,
             "#d8576b"
            ],
            [
             0.6666666666666666,
             "#ed7953"
            ],
            [
             0.7777777777777778,
             "#fb9f3a"
            ],
            [
             0.8888888888888888,
             "#fdca26"
            ],
            [
             1,
             "#f0f921"
            ]
           ]
          },
          "colorway": [
           "#636efa",
           "#EF553B",
           "#00cc96",
           "#ab63fa",
           "#FFA15A",
           "#19d3f3",
           "#FF6692",
           "#B6E880",
           "#FF97FF",
           "#FECB52"
          ],
          "font": {
           "color": "#2a3f5f"
          },
          "geo": {
           "bgcolor": "white",
           "lakecolor": "white",
           "landcolor": "#E5ECF6",
           "showlakes": true,
           "showland": true,
           "subunitcolor": "white"
          },
          "hoverlabel": {
           "align": "left"
          },
          "hovermode": "closest",
          "mapbox": {
           "style": "light"
          },
          "paper_bgcolor": "white",
          "plot_bgcolor": "#E5ECF6",
          "polar": {
           "angularaxis": {
            "gridcolor": "white",
            "linecolor": "white",
            "ticks": ""
           },
           "bgcolor": "#E5ECF6",
           "radialaxis": {
            "gridcolor": "white",
            "linecolor": "white",
            "ticks": ""
           }
          },
          "scene": {
           "xaxis": {
            "backgroundcolor": "#E5ECF6",
            "gridcolor": "white",
            "gridwidth": 2,
            "linecolor": "white",
            "showbackground": true,
            "ticks": "",
            "zerolinecolor": "white"
           },
           "yaxis": {
            "backgroundcolor": "#E5ECF6",
            "gridcolor": "white",
            "gridwidth": 2,
            "linecolor": "white",
            "showbackground": true,
            "ticks": "",
            "zerolinecolor": "white"
           },
           "zaxis": {
            "backgroundcolor": "#E5ECF6",
            "gridcolor": "white",
            "gridwidth": 2,
            "linecolor": "white",
            "showbackground": true,
            "ticks": "",
            "zerolinecolor": "white"
           }
          },
          "shapedefaults": {
           "line": {
            "color": "#2a3f5f"
           }
          },
          "ternary": {
           "aaxis": {
            "gridcolor": "white",
            "linecolor": "white",
            "ticks": ""
           },
           "baxis": {
            "gridcolor": "white",
            "linecolor": "white",
            "ticks": ""
           },
           "bgcolor": "#E5ECF6",
           "caxis": {
            "gridcolor": "white",
            "linecolor": "white",
            "ticks": ""
           }
          },
          "title": {
           "x": 0.05
          },
          "xaxis": {
           "automargin": true,
           "gridcolor": "white",
           "linecolor": "white",
           "ticks": "",
           "title": {
            "standoff": 15
           },
           "zerolinecolor": "white",
           "zerolinewidth": 2
          },
          "yaxis": {
           "automargin": true,
           "gridcolor": "white",
           "linecolor": "white",
           "ticks": "",
           "title": {
            "standoff": 15
           },
           "zerolinecolor": "white",
           "zerolinewidth": 2
          }
         }
        },
        "xaxis": {
         "anchor": "y",
         "domain": [
          0,
          1
         ],
         "title": {
          "text": "Age of Authors"
         }
        },
        "yaxis": {
         "anchor": "x",
         "domain": [
          0,
          1
         ],
         "title": {
          "text": "Number of Authors"
         }
        }
       }
      },
      "text/html": [
       "<div>                            <div id=\"05ec8beb-7b51-4355-8f68-b9830e9490a5\" class=\"plotly-graph-div\" style=\"height:525px; width:100%;\"></div>            <script type=\"text/javascript\">                require([\"plotly\"], function(Plotly) {                    window.PLOTLYENV=window.PLOTLYENV || {};                                    if (document.getElementById(\"05ec8beb-7b51-4355-8f68-b9830e9490a5\")) {                    Plotly.newPlot(                        \"05ec8beb-7b51-4355-8f68-b9830e9490a5\",                        [{\"alignmentgroup\":\"True\",\"hovertemplate\":\"Age of Authors=%{x}<br>Number of Authors=%{y}<br>Year=%{marker.color}<extra></extra>\",\"legendgroup\":\"\",\"marker\":{\"color\":[2015,2016,2017,2018,2019,2020,2021,2022,2023,2015,2016,2017,2018,2019,2020,2021,2022,2023,2015,2016,2017,2018,2019,2020,2021,2022,2023,2015,2016,2017,2018,2019,2020,2021,2022,2023,2015,2016,2017,2018,2019,2020,2021,2022,2023,2015,2016,2017,2018,2019,2020,2021,2022,2023,2015,2016,2017,2018,2019,2020,2021,2022,2023,2015,2016,2017,2018,2019,2020,2021,2022,2023,2015,2016,2017,2018,2019,2020,2021,2022,2023,2015,2016,2017,2018,2019,2020,2021,2022,2023],\"coloraxis\":\"coloraxis\",\"pattern\":{\"shape\":\"\"}},\"name\":\"\",\"offsetgroup\":\"\",\"orientation\":\"v\",\"showlegend\":false,\"textposition\":\"auto\",\"type\":\"bar\",\"x\":[\"(-3.076, 4.6]\",\"(-3.076, 4.6]\",\"(-3.076, 4.6]\",\"(-3.076, 4.6]\",\"(-3.076, 4.6]\",\"(-3.076, 4.6]\",\"(-3.076, 4.6]\",\"(-3.076, 4.6]\",\"(-3.076, 4.6]\",\"(4.6, 12.2]\",\"(4.6, 12.2]\",\"(4.6, 12.2]\",\"(4.6, 12.2]\",\"(4.6, 12.2]\",\"(4.6, 12.2]\",\"(4.6, 12.2]\",\"(4.6, 12.2]\",\"(4.6, 12.2]\",\"(12.2, 19.8]\",\"(12.2, 19.8]\",\"(12.2, 19.8]\",\"(12.2, 19.8]\",\"(12.2, 19.8]\",\"(12.2, 19.8]\",\"(12.2, 19.8]\",\"(12.2, 19.8]\",\"(12.2, 19.8]\",\"(19.8, 27.4]\",\"(19.8, 27.4]\",\"(19.8, 27.4]\",\"(19.8, 27.4]\",\"(19.8, 27.4]\",\"(19.8, 27.4]\",\"(19.8, 27.4]\",\"(19.8, 27.4]\",\"(19.8, 27.4]\",\"(27.4, 35.0]\",\"(27.4, 35.0]\",\"(27.4, 35.0]\",\"(27.4, 35.0]\",\"(27.4, 35.0]\",\"(27.4, 35.0]\",\"(27.4, 35.0]\",\"(27.4, 35.0]\",\"(27.4, 35.0]\",\"(35.0, 42.6]\",\"(35.0, 42.6]\",\"(35.0, 42.6]\",\"(35.0, 42.6]\",\"(35.0, 42.6]\",\"(35.0, 42.6]\",\"(35.0, 42.6]\",\"(35.0, 42.6]\",\"(35.0, 42.6]\",\"(42.6, 50.2]\",\"(42.6, 50.2]\",\"(42.6, 50.2]\",\"(42.6, 50.2]\",\"(42.6, 50.2]\",\"(42.6, 50.2]\",\"(42.6, 50.2]\",\"(42.6, 50.2]\",\"(42.6, 50.2]\",\"(50.2, 57.8]\",\"(50.2, 57.8]\",\"(50.2, 57.8]\",\"(50.2, 57.8]\",\"(50.2, 57.8]\",\"(50.2, 57.8]\",\"(50.2, 57.8]\",\"(50.2, 57.8]\",\"(50.2, 57.8]\",\"(57.8, 65.4]\",\"(57.8, 65.4]\",\"(57.8, 65.4]\",\"(57.8, 65.4]\",\"(57.8, 65.4]\",\"(57.8, 65.4]\",\"(57.8, 65.4]\",\"(57.8, 65.4]\",\"(57.8, 65.4]\",\"(65.4, 73.0]\",\"(65.4, 73.0]\",\"(65.4, 73.0]\",\"(65.4, 73.0]\",\"(65.4, 73.0]\",\"(65.4, 73.0]\",\"(65.4, 73.0]\",\"(65.4, 73.0]\",\"(65.4, 73.0]\"],\"xaxis\":\"x\",\"y\":[556,480,368,268,204,140,140,40,0,1196,1092,984,764,716,704,576,628,556,1296,1236,1268,1328,1220,1188,1188,1084,1016,2796,2584,2464,2320,2140,1768,1632,1556,1476,2616,2832,2720,2876,2884,3028,2704,2644,2796,3192,2728,2664,2612,2592,2584,2748,2508,2380,4692,4700,4580,4440,4176,4056,3892,3704,3428,4056,4000,4104,3912,4016,4052,4052,4180,4000,5780,5712,5520,5588,5472,5368,5200,5084,4748,0,816,1508,2072,2760,3292,4048,4752,5780],\"yaxis\":\"y\"}],                        {\"barmode\":\"relative\",\"coloraxis\":{\"colorbar\":{\"title\":{\"text\":\"Year\"}},\"colorscale\":[[0.0,\"#0d0887\"],[0.1111111111111111,\"#46039f\"],[0.2222222222222222,\"#7201a8\"],[0.3333333333333333,\"#9c179e\"],[0.4444444444444444,\"#bd3786\"],[0.5555555555555556,\"#d8576b\"],[0.6666666666666666,\"#ed7953\"],[0.7777777777777778,\"#fb9f3a\"],[0.8888888888888888,\"#fdca26\"],[1.0,\"#f0f921\"]]},\"legend\":{\"tracegroupgap\":0},\"margin\":{\"t\":60},\"template\":{\"data\":{\"bar\":[{\"error_x\":{\"color\":\"#2a3f5f\"},\"error_y\":{\"color\":\"#2a3f5f\"},\"marker\":{\"line\":{\"color\":\"#E5ECF6\",\"width\":0.5},\"pattern\":{\"fillmode\":\"overlay\",\"size\":10,\"solidity\":0.2}},\"type\":\"bar\"}],\"barpolar\":[{\"marker\":{\"line\":{\"color\":\"#E5ECF6\",\"width\":0.5},\"pattern\":{\"fillmode\":\"overlay\",\"size\":10,\"solidity\":0.2}},\"type\":\"barpolar\"}],\"carpet\":[{\"aaxis\":{\"endlinecolor\":\"#2a3f5f\",\"gridcolor\":\"white\",\"linecolor\":\"white\",\"minorgridcolor\":\"white\",\"startlinecolor\":\"#2a3f5f\"},\"baxis\":{\"endlinecolor\":\"#2a3f5f\",\"gridcolor\":\"white\",\"linecolor\":\"white\",\"minorgridcolor\":\"white\",\"startlinecolor\":\"#2a3f5f\"},\"type\":\"carpet\"}],\"choropleth\":[{\"colorbar\":{\"outlinewidth\":0,\"ticks\":\"\"},\"type\":\"choropleth\"}],\"contour\":[{\"colorbar\":{\"outlinewidth\":0,\"ticks\":\"\"},\"colorscale\":[[0.0,\"#0d0887\"],[0.1111111111111111,\"#46039f\"],[0.2222222222222222,\"#7201a8\"],[0.3333333333333333,\"#9c179e\"],[0.4444444444444444,\"#bd3786\"],[0.5555555555555556,\"#d8576b\"],[0.6666666666666666,\"#ed7953\"],[0.7777777777777778,\"#fb9f3a\"],[0.8888888888888888,\"#fdca26\"],[1.0,\"#f0f921\"]],\"type\":\"contour\"}],\"contourcarpet\":[{\"colorbar\":{\"outlinewidth\":0,\"ticks\":\"\"},\"type\":\"contourcarpet\"}],\"heatmap\":[{\"colorbar\":{\"outlinewidth\":0,\"ticks\":\"\"},\"colorscale\":[[0.0,\"#0d0887\"],[0.1111111111111111,\"#46039f\"],[0.2222222222222222,\"#7201a8\"],[0.3333333333333333,\"#9c179e\"],[0.4444444444444444,\"#bd3786\"],[0.5555555555555556,\"#d8576b\"],[0.6666666666666666,\"#ed7953\"],[0.7777777777777778,\"#fb9f3a\"],[0.8888888888888888,\"#fdca26\"],[1.0,\"#f0f921\"]],\"type\":\"heatmap\"}],\"heatmapgl\":[{\"colorbar\":{\"outlinewidth\":0,\"ticks\":\"\"},\"colorscale\":[[0.0,\"#0d0887\"],[0.1111111111111111,\"#46039f\"],[0.2222222222222222,\"#7201a8\"],[0.3333333333333333,\"#9c179e\"],[0.4444444444444444,\"#bd3786\"],[0.5555555555555556,\"#d8576b\"],[0.6666666666666666,\"#ed7953\"],[0.7777777777777778,\"#fb9f3a\"],[0.8888888888888888,\"#fdca26\"],[1.0,\"#f0f921\"]],\"type\":\"heatmapgl\"}],\"histogram\":[{\"marker\":{\"pattern\":{\"fillmode\":\"overlay\",\"size\":10,\"solidity\":0.2}},\"type\":\"histogram\"}],\"histogram2d\":[{\"colorbar\":{\"outlinewidth\":0,\"ticks\":\"\"},\"colorscale\":[[0.0,\"#0d0887\"],[0.1111111111111111,\"#46039f\"],[0.2222222222222222,\"#7201a8\"],[0.3333333333333333,\"#9c179e\"],[0.4444444444444444,\"#bd3786\"],[0.5555555555555556,\"#d8576b\"],[0.6666666666666666,\"#ed7953\"],[0.7777777777777778,\"#fb9f3a\"],[0.8888888888888888,\"#fdca26\"],[1.0,\"#f0f921\"]],\"type\":\"histogram2d\"}],\"histogram2dcontour\":[{\"colorbar\":{\"outlinewidth\":0,\"ticks\":\"\"},\"colorscale\":[[0.0,\"#0d0887\"],[0.1111111111111111,\"#46039f\"],[0.2222222222222222,\"#7201a8\"],[0.3333333333333333,\"#9c179e\"],[0.4444444444444444,\"#bd3786\"],[0.5555555555555556,\"#d8576b\"],[0.6666666666666666,\"#ed7953\"],[0.7777777777777778,\"#fb9f3a\"],[0.8888888888888888,\"#fdca26\"],[1.0,\"#f0f921\"]],\"type\":\"histogram2dcontour\"}],\"mesh3d\":[{\"colorbar\":{\"outlinewidth\":0,\"ticks\":\"\"},\"type\":\"mesh3d\"}],\"parcoords\":[{\"line\":{\"colorbar\":{\"outlinewidth\":0,\"ticks\":\"\"}},\"type\":\"parcoords\"}],\"pie\":[{\"automargin\":true,\"type\":\"pie\"}],\"scatter\":[{\"marker\":{\"colorbar\":{\"outlinewidth\":0,\"ticks\":\"\"}},\"type\":\"scatter\"}],\"scatter3d\":[{\"line\":{\"colorbar\":{\"outlinewidth\":0,\"ticks\":\"\"}},\"marker\":{\"colorbar\":{\"outlinewidth\":0,\"ticks\":\"\"}},\"type\":\"scatter3d\"}],\"scattercarpet\":[{\"marker\":{\"colorbar\":{\"outlinewidth\":0,\"ticks\":\"\"}},\"type\":\"scattercarpet\"}],\"scattergeo\":[{\"marker\":{\"colorbar\":{\"outlinewidth\":0,\"ticks\":\"\"}},\"type\":\"scattergeo\"}],\"scattergl\":[{\"marker\":{\"colorbar\":{\"outlinewidth\":0,\"ticks\":\"\"}},\"type\":\"scattergl\"}],\"scattermapbox\":[{\"marker\":{\"colorbar\":{\"outlinewidth\":0,\"ticks\":\"\"}},\"type\":\"scattermapbox\"}],\"scatterpolar\":[{\"marker\":{\"colorbar\":{\"outlinewidth\":0,\"ticks\":\"\"}},\"type\":\"scatterpolar\"}],\"scatterpolargl\":[{\"marker\":{\"colorbar\":{\"outlinewidth\":0,\"ticks\":\"\"}},\"type\":\"scatterpolargl\"}],\"scatterternary\":[{\"marker\":{\"colorbar\":{\"outlinewidth\":0,\"ticks\":\"\"}},\"type\":\"scatterternary\"}],\"surface\":[{\"colorbar\":{\"outlinewidth\":0,\"ticks\":\"\"},\"colorscale\":[[0.0,\"#0d0887\"],[0.1111111111111111,\"#46039f\"],[0.2222222222222222,\"#7201a8\"],[0.3333333333333333,\"#9c179e\"],[0.4444444444444444,\"#bd3786\"],[0.5555555555555556,\"#d8576b\"],[0.6666666666666666,\"#ed7953\"],[0.7777777777777778,\"#fb9f3a\"],[0.8888888888888888,\"#fdca26\"],[1.0,\"#f0f921\"]],\"type\":\"surface\"}],\"table\":[{\"cells\":{\"fill\":{\"color\":\"#EBF0F8\"},\"line\":{\"color\":\"white\"}},\"header\":{\"fill\":{\"color\":\"#C8D4E3\"},\"line\":{\"color\":\"white\"}},\"type\":\"table\"}]},\"layout\":{\"annotationdefaults\":{\"arrowcolor\":\"#2a3f5f\",\"arrowhead\":0,\"arrowwidth\":1},\"autotypenumbers\":\"strict\",\"coloraxis\":{\"colorbar\":{\"outlinewidth\":0,\"ticks\":\"\"}},\"colorscale\":{\"diverging\":[[0,\"#8e0152\"],[0.1,\"#c51b7d\"],[0.2,\"#de77ae\"],[0.3,\"#f1b6da\"],[0.4,\"#fde0ef\"],[0.5,\"#f7f7f7\"],[0.6,\"#e6f5d0\"],[0.7,\"#b8e186\"],[0.8,\"#7fbc41\"],[0.9,\"#4d9221\"],[1,\"#276419\"]],\"sequential\":[[0.0,\"#0d0887\"],[0.1111111111111111,\"#46039f\"],[0.2222222222222222,\"#7201a8\"],[0.3333333333333333,\"#9c179e\"],[0.4444444444444444,\"#bd3786\"],[0.5555555555555556,\"#d8576b\"],[0.6666666666666666,\"#ed7953\"],[0.7777777777777778,\"#fb9f3a\"],[0.8888888888888888,\"#fdca26\"],[1.0,\"#f0f921\"]],\"sequentialminus\":[[0.0,\"#0d0887\"],[0.1111111111111111,\"#46039f\"],[0.2222222222222222,\"#7201a8\"],[0.3333333333333333,\"#9c179e\"],[0.4444444444444444,\"#bd3786\"],[0.5555555555555556,\"#d8576b\"],[0.6666666666666666,\"#ed7953\"],[0.7777777777777778,\"#fb9f3a\"],[0.8888888888888888,\"#fdca26\"],[1.0,\"#f0f921\"]]},\"colorway\":[\"#636efa\",\"#EF553B\",\"#00cc96\",\"#ab63fa\",\"#FFA15A\",\"#19d3f3\",\"#FF6692\",\"#B6E880\",\"#FF97FF\",\"#FECB52\"],\"font\":{\"color\":\"#2a3f5f\"},\"geo\":{\"bgcolor\":\"white\",\"lakecolor\":\"white\",\"landcolor\":\"#E5ECF6\",\"showlakes\":true,\"showland\":true,\"subunitcolor\":\"white\"},\"hoverlabel\":{\"align\":\"left\"},\"hovermode\":\"closest\",\"mapbox\":{\"style\":\"light\"},\"paper_bgcolor\":\"white\",\"plot_bgcolor\":\"#E5ECF6\",\"polar\":{\"angularaxis\":{\"gridcolor\":\"white\",\"linecolor\":\"white\",\"ticks\":\"\"},\"bgcolor\":\"#E5ECF6\",\"radialaxis\":{\"gridcolor\":\"white\",\"linecolor\":\"white\",\"ticks\":\"\"}},\"scene\":{\"xaxis\":{\"backgroundcolor\":\"#E5ECF6\",\"gridcolor\":\"white\",\"gridwidth\":2,\"linecolor\":\"white\",\"showbackground\":true,\"ticks\":\"\",\"zerolinecolor\":\"white\"},\"yaxis\":{\"backgroundcolor\":\"#E5ECF6\",\"gridcolor\":\"white\",\"gridwidth\":2,\"linecolor\":\"white\",\"showbackground\":true,\"ticks\":\"\",\"zerolinecolor\":\"white\"},\"zaxis\":{\"backgroundcolor\":\"#E5ECF6\",\"gridcolor\":\"white\",\"gridwidth\":2,\"linecolor\":\"white\",\"showbackground\":true,\"ticks\":\"\",\"zerolinecolor\":\"white\"}},\"shapedefaults\":{\"line\":{\"color\":\"#2a3f5f\"}},\"ternary\":{\"aaxis\":{\"gridcolor\":\"white\",\"linecolor\":\"white\",\"ticks\":\"\"},\"baxis\":{\"gridcolor\":\"white\",\"linecolor\":\"white\",\"ticks\":\"\"},\"bgcolor\":\"#E5ECF6\",\"caxis\":{\"gridcolor\":\"white\",\"linecolor\":\"white\",\"ticks\":\"\"}},\"title\":{\"x\":0.05},\"xaxis\":{\"automargin\":true,\"gridcolor\":\"white\",\"linecolor\":\"white\",\"ticks\":\"\",\"title\":{\"standoff\":15},\"zerolinecolor\":\"white\",\"zerolinewidth\":2},\"yaxis\":{\"automargin\":true,\"gridcolor\":\"white\",\"linecolor\":\"white\",\"ticks\":\"\",\"title\":{\"standoff\":15},\"zerolinecolor\":\"white\",\"zerolinewidth\":2}}},\"xaxis\":{\"anchor\":\"y\",\"domain\":[0.0,1.0],\"title\":{\"text\":\"Age of Authors\"}},\"yaxis\":{\"anchor\":\"x\",\"domain\":[0.0,1.0],\"title\":{\"text\":\"Number of Authors\"}}},                        {\"responsive\": true}                    ).then(function(){\n",
       "                            \n",
       "var gd = document.getElementById('05ec8beb-7b51-4355-8f68-b9830e9490a5');\n",
       "var x = new MutationObserver(function (mutations, observer) {{\n",
       "        var display = window.getComputedStyle(gd).display;\n",
       "        if (!display || display === 'none') {{\n",
       "            console.log([gd, 'removed!']);\n",
       "            Plotly.purge(gd);\n",
       "            observer.disconnect();\n",
       "        }}\n",
       "}});\n",
       "\n",
       "// Listen for the removal of the full notebook cells\n",
       "var notebookContainer = gd.closest('#notebook-container');\n",
       "if (notebookContainer) {{\n",
       "    x.observe(notebookContainer, {childList: true});\n",
       "}}\n",
       "\n",
       "// Listen for the clearing of the current output cell\n",
       "var outputEl = gd.closest('.output');\n",
       "if (outputEl) {{\n",
       "    x.observe(outputEl, {childList: true});\n",
       "}}\n",
       "\n",
       "                        })                };                });            </script>        </div>"
      ]
     },
     "metadata": {},
     "output_type": "display_data"
    }
   ],
   "source": [
    "df_age_rev = pd.DataFrame(df4.groupby([\"Age_Interval\",\"Year\"])[\"AuthorID\"].count())\n",
    "df_age_rev.reset_index(inplace = True)\n",
    "df_age_rev[\"Age_Interval\"] = df_age_rev[\"Age_Interval\"].astype(str)\n",
    "fig = px.bar(df_age_rev, x = \"Age_Interval\", y = \"AuthorID\", color = \"Year\",\n",
    "             labels = {\"AuthorID\":\"Number of Authors\",\"Age_Interval\":\"Age of Authors\"})\n",
    "fig.show()"
   ]
  },
  {
   "cell_type": "code",
   "execution_count": null,
   "id": "ae72126e",
   "metadata": {},
   "outputs": [],
   "source": []
  }
 ],
 "metadata": {
  "kernelspec": {
   "display_name": "Python 3",
   "language": "python",
   "name": "python3"
  },
  "language_info": {
   "codemirror_mode": {
    "name": "ipython",
    "version": 3
   },
   "file_extension": ".py",
   "mimetype": "text/x-python",
   "name": "python",
   "nbconvert_exporter": "python",
   "pygments_lexer": "ipython3",
   "version": "3.8.8"
  }
 },
 "nbformat": 4,
 "nbformat_minor": 5
}
